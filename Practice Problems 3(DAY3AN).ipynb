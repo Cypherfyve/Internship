{
 "cells": [
  {
   "cell_type": "markdown",
   "id": "e757edf7",
   "metadata": {},
   "source": [
    "**Q1. Write a Pandas program to access a .xlsx file (SalesData.xlsx) and Analyse properly.<br>\n",
    "(i) Create a Pivot table and find the total sale amount region wise, manager wise, and sales man wise.<br>\n",
    "(ii) Create a Pivot table and find the item wise unit sold.<br>\n",
    "(iii) Create a Pivot table and find the region wise, item wise unit sold.**"
   ]
  },
  {
   "cell_type": "code",
   "execution_count": null,
   "id": "51e3cb46",
   "metadata": {},
   "outputs": [],
   "source": []
  },
  {
   "cell_type": "code",
   "execution_count": null,
   "id": "43819c54",
   "metadata": {},
   "outputs": [],
   "source": []
  },
  {
   "cell_type": "code",
   "execution_count": null,
   "id": "dce3d0fa",
   "metadata": {},
   "outputs": [],
   "source": []
  },
  {
   "cell_type": "code",
   "execution_count": null,
   "id": "9320e2ba",
   "metadata": {},
   "outputs": [],
   "source": []
  },
  {
   "cell_type": "code",
   "execution_count": null,
   "id": "b8c7a24b",
   "metadata": {},
   "outputs": [],
   "source": []
  }
 ],
 "metadata": {
  "kernelspec": {
   "display_name": "Python 3",
   "language": "python",
   "name": "python3"
  },
  "language_info": {
   "codemirror_mode": {
    "name": "ipython",
    "version": 3
   },
   "file_extension": ".py",
   "mimetype": "text/x-python",
   "name": "python",
   "nbconvert_exporter": "python",
   "pygments_lexer": "ipython3",
   "version": "3.8.8"
  }
 },
 "nbformat": 4,
 "nbformat_minor": 5
}
