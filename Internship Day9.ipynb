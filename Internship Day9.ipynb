{
 "cells": [
  {
   "cell_type": "code",
   "execution_count": 2,
   "id": "aee06868",
   "metadata": {},
   "outputs": [
    {
     "data": {
      "text/plain": [
       "50"
      ]
     },
     "execution_count": 2,
     "metadata": {},
     "output_type": "execute_result"
    }
   ],
   "source": [
    "eval(\"10 * 5\")"
   ]
  },
  {
   "cell_type": "code",
   "execution_count": 3,
   "id": "18ab4ae6",
   "metadata": {},
   "outputs": [
    {
     "ename": "TypeError",
     "evalue": "eval() arg 1 must be a string, bytes or code object",
     "output_type": "error",
     "traceback": [
      "\u001b[1;31m---------------------------------------------------------------------------\u001b[0m",
      "\u001b[1;31mTypeError\u001b[0m                                 Traceback (most recent call last)",
      "\u001b[1;32m~\\AppData\\Local\\Temp\\ipykernel_11468\\3508227042.py\u001b[0m in \u001b[0;36m<module>\u001b[1;34m\u001b[0m\n\u001b[1;32m----> 1\u001b[1;33m \u001b[0meval\u001b[0m\u001b[1;33m(\u001b[0m\u001b[1;36m10\u001b[0m \u001b[1;33m*\u001b[0m \u001b[1;36m5\u001b[0m\u001b[1;33m)\u001b[0m\u001b[1;33m\u001b[0m\u001b[1;33m\u001b[0m\u001b[0m\n\u001b[0m",
      "\u001b[1;31mTypeError\u001b[0m: eval() arg 1 must be a string, bytes or code object"
     ]
    }
   ],
   "source": [
    "eval(10 * 5)"
   ]
  },
  {
   "cell_type": "code",
   "execution_count": 4,
   "id": "67d909ce",
   "metadata": {},
   "outputs": [
    {
     "data": {
      "text/plain": [
       "15"
      ]
     },
     "execution_count": 4,
     "metadata": {},
     "output_type": "execute_result"
    }
   ],
   "source": [
    "eval(\"10 + 5\")"
   ]
  },
  {
   "cell_type": "code",
   "execution_count": 6,
   "id": "08fa3b20",
   "metadata": {},
   "outputs": [
    {
     "name": "stdout",
     "output_type": "stream",
     "text": [
      "how many pizzas do you want1\n",
      "how much it costs499\n",
      "The total cost is ₹ 538.92\n",
      "This includes ₹ 499 For the pizza and\n",
      "₹ 39.92 as sales tax\n"
     ]
    }
   ],
   "source": [
    "#Pizza Calculation\n",
    "no_of_pizzas = eval(input(\"how many pizzas do you want\"))\n",
    "cost_per_pizzas = eval(input(\"how much it costs\"))\n",
    "pizza_cost = no_of_pizzas * cost_per_pizzas\n",
    "tax_rate = 0.08\n",
    "sales_tax = pizza_cost * tax_rate\n",
    "total_cost = pizza_cost + sales_tax\n",
    "print(\"The total cost is ₹\",total_cost)\n",
    "print(\"This includes ₹\",pizza_cost,\"For the pizza and\")\n",
    "print(\"₹\",sales_tax,\"as sales tax\")"
   ]
  },
  {
   "cell_type": "code",
   "execution_count": 3,
   "id": "833db77b",
   "metadata": {},
   "outputs": [
    {
     "name": "stdout",
     "output_type": "stream",
     "text": [
      "Enter the length:5\n",
      "Enter the breadth:4\n",
      "Area of the Rectangle 20\n"
     ]
    }
   ],
   "source": [
    "# Area of the Rectangle\n",
    "length = int(input(\"Enter the length:\"))\n",
    "breadth = int(input(\"Enter the breadth:\"))\n",
    "Area = length * breadth\n",
    "print(\"Area of the Rectangle\",Area)"
   ]
  },
  {
   "cell_type": "code",
   "execution_count": 5,
   "id": "494dbf37",
   "metadata": {},
   "outputs": [
    {
     "name": "stdout",
     "output_type": "stream",
     "text": [
      "Enter the length:5\n",
      "Enter the breadth:4\n",
      "Area of the Rectangle 20\n"
     ]
    }
   ],
   "source": [
    "# Area of the Rectangle\n",
    "length = input(\"Enter the length:\")\n",
    "breadth = input(\"Enter the breadth:\")\n",
    "Area = int(length) * int(breadth)\n",
    "print(\"Area of the Rectangle\",Area)"
   ]
  },
  {
   "cell_type": "code",
   "execution_count": 15,
   "id": "33a33d36",
   "metadata": {},
   "outputs": [
    {
     "name": "stdout",
     "output_type": "stream",
     "text": [
      "Enter the base:5.75\n",
      "Enter the height:4.25\n",
      "Area of the Triangle=12.22\n"
     ]
    }
   ],
   "source": [
    "# Area of the Triangle\n",
    "base = float(input(\"Enter the base:\"))\n",
    "height = float(input(\"Enter the height:\"))\n",
    "Area = 1/2 * base * height\n",
    "print(f\"Area of the Triangle={Area:.2f}\")"
   ]
  },
  {
   "cell_type": "markdown",
   "id": "9de6bca4",
   "metadata": {},
   "source": [
    "# Write a Program with a list named characters 3 elements like i) name of hero characters ii) name of villian variable "
   ]
  },
  {
   "cell_type": "code",
   "execution_count": 17,
   "id": "9b406882",
   "metadata": {},
   "outputs": [],
   "source": [
    "hero=[]"
   ]
  },
  {
   "cell_type": "code",
   "execution_count": 22,
   "id": "879de49b",
   "metadata": {},
   "outputs": [
    {
     "name": "stdout",
     "output_type": "stream",
     "text": [
      "['Ironman', 'Thor', 'Batman', 'Thanos', 'Ultron', 'Venom']\n"
     ]
    }
   ],
   "source": [
    "#i) Hero characters\n",
    "hero=[\"Ironman\",\"Thor\",\"Batman\"]\n",
    "#ii) villain characters\n",
    "villain=[]\n",
    "villain.append(\"Thanos\")\n",
    "villain.append(\"Ultron\")\n",
    "villain.append(\"Venom\")\n",
    "allcharacters = hero + villain\n",
    "print(allcharacters)"
   ]
  },
  {
   "cell_type": "code",
   "execution_count": 1,
   "id": "c3fcc152",
   "metadata": {},
   "outputs": [],
   "source": [
    "import turtle\n",
    "t=turtle.Pen()\n",
    "t.speed(0)\n",
    "turtle.bgcolor('black')\n",
    "colors=['blue','red','gold','lavender']\n",
    "name=turtle.textinput(\"Enter your name:\",\"Your name please\")\n",
    "for x in range(360):\n",
    "    t.pencolor(colors[x%4])\n",
    "    t.penup()\n",
    "    t.forward(x*4)\n",
    "    t.pendown()\n",
    "    t.write(name,font=(\"times\",int((x+4)/4), \"bold\"))\n",
    "    t.left(92)"
   ]
  },
  {
   "cell_type": "code",
   "execution_count": 6,
   "id": "62839b0f",
   "metadata": {},
   "outputs": [],
   "source": [
    "import turtle\n",
    "t = turtle.Turtle()\n",
    "t.forward(150)\n",
    "t.right(90)\n",
    "t.forward(150)\n",
    "t.right(90)\n",
    "t.forward(150)\n",
    "t.right(90)\n",
    "t.forward(150)\n",
    "t.right(90)"
   ]
  },
  {
   "cell_type": "code",
   "execution_count": null,
   "id": "ae134e0b",
   "metadata": {},
   "outputs": [],
   "source": []
  }
 ],
 "metadata": {
  "kernelspec": {
   "display_name": "Python 3 (ipykernel)",
   "language": "python",
   "name": "python3"
  },
  "language_info": {
   "codemirror_mode": {
    "name": "ipython",
    "version": 3
   },
   "file_extension": ".py",
   "mimetype": "text/x-python",
   "name": "python",
   "nbconvert_exporter": "python",
   "pygments_lexer": "ipython3",
   "version": "3.9.13"
  }
 },
 "nbformat": 4,
 "nbformat_minor": 5
}
