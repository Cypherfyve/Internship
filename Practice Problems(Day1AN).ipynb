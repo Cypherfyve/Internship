{
 "cells": [
  {
   "cell_type": "markdown",
   "id": "201fba7e",
   "metadata": {},
   "source": [
    "# Series"
   ]
  },
  {
   "cell_type": "markdown",
   "id": "fdee7fbf",
   "metadata": {},
   "source": [
    "**Q1. Write a Pandas program create number of lists of Series and then convert to one Series.**\n",
    "<br>Sample Output:<br>\n",
    "    Original Series of list<br>\n",
    "    0 [Red, Green, White]<br>\n",
    "    1 [Red, Black]<br>\n",
    "    2 [Yellow]<br>\n",
    "\n",
    "    One Series\n",
    "    0 Red\n",
    "    1 Green\n",
    "    2 White\n",
    "    3 Red\n",
    "    4 Black\n",
    "    5 Yellow"
   ]
  },
  {
   "cell_type": "code",
   "execution_count": 1,
   "id": "1cdd7b6f",
   "metadata": {
    "scrolled": true
   },
   "outputs": [
    {
     "name": "stdout",
     "output_type": "stream",
     "text": [
      "Original Series of list\n",
      "0    [Red, Green, White]\n",
      "1           [Red, Black]\n",
      "2               [Yellow]\n",
      "dtype: object\n",
      "One Series\n",
      "0       Red\n",
      "1     Green\n",
      "2     White\n",
      "3       Red\n",
      "4     Black\n",
      "5    Yellow\n",
      "dtype: object\n"
     ]
    }
   ],
   "source": [
    "import pandas as pd\n",
    "s = pd.Series([\n",
    "['Red', 'Green', 'White'],\n",
    "['Red', 'Black'],\n",
    "['Yellow']])\n",
    "print(\"Original Series of list\")\n",
    "print(s)\n",
    "s = s.apply(pd.Series).stack().reset_index(drop=True)\n",
    "print(\"One Series\")\n",
    "print(s)"
   ]
  },
  {
   "cell_type": "markdown",
   "id": "306b4344",
   "metadata": {},
   "source": [
    "**Q2. Write a Pandas program create a list of multiple data types and then sort the creat Series.**<br>\n",
    "['100', '200', 'python', '300.12', '400']"
   ]
  },
  {
   "cell_type": "code",
   "execution_count": 2,
   "id": "4a31aa09",
   "metadata": {},
   "outputs": [
    {
     "name": "stdout",
     "output_type": "stream",
     "text": [
      "Original Data Series:\n",
      "0       100\n",
      "1       200\n",
      "2    python\n",
      "3    300.12\n",
      "4       400\n",
      "dtype: object\n",
      "0       100\n",
      "1       200\n",
      "3    300.12\n",
      "4       400\n",
      "2    python\n",
      "dtype: object\n"
     ]
    }
   ],
   "source": [
    "import pandas as pd\n",
    "s = pd.Series(['100', '200', 'python', '300.12', '400'])\n",
    "print(\"Original Data Series:\")\n",
    "print(s)\n",
    "new_s = pd.Series(s).sort_values()\n",
    "print(new_s)"
   ]
  },
  {
   "cell_type": "markdown",
   "id": "4acc3dd2",
   "metadata": {},
   "source": [
    "**Q3. Write a Pandas program to add some data to an existing Series.**"
   ]
  },
  {
   "cell_type": "code",
   "execution_count": 3,
   "id": "db8ba176",
   "metadata": {},
   "outputs": [
    {
     "name": "stdout",
     "output_type": "stream",
     "text": [
      "Original Data Series:\n",
      "0       100\n",
      "1       200\n",
      "2    python\n",
      "3    300.12\n",
      "4       400\n",
      "dtype: object\n",
      "\n",
      "Data Series after adding some data:\n",
      "0       100\n",
      "1       200\n",
      "2    python\n",
      "3    300.12\n",
      "4       400\n",
      "0       500\n",
      "1       php\n",
      "dtype: object\n"
     ]
    }
   ],
   "source": [
    "import pandas as pd\n",
    "s = pd.Series(['100', '200', 'python', '300.12', '400'])\n",
    "print(\"Original Data Series:\")\n",
    "print(s)\n",
    "print(\"\\nData Series after adding some data:\")\n",
    "new_s = s.append(pd.Series(['500', 'php']))\n",
    "print(new_s)"
   ]
  },
  {
   "cell_type": "markdown",
   "id": "8addbadd",
   "metadata": {},
   "source": [
    "**Q4. Write a Pandas program to get the items of a given series not present in another given series.**<br>\n",
    "Hint: use isin()"
   ]
  },
  {
   "cell_type": "code",
   "execution_count": 4,
   "id": "2c498336",
   "metadata": {},
   "outputs": [
    {
     "name": "stdout",
     "output_type": "stream",
     "text": [
      "Original Series:\n",
      "sr1:\n",
      "0    1\n",
      "1    2\n",
      "2    3\n",
      "3    4\n",
      "4    5\n",
      "dtype: int64\n",
      "sr2:\n",
      "0     2\n",
      "1     4\n",
      "2     6\n",
      "3     8\n",
      "4    10\n",
      "dtype: int64\n",
      "\n",
      "Items of sr1 not present in sr2:\n",
      "0    1\n",
      "2    3\n",
      "4    5\n",
      "dtype: int64\n"
     ]
    }
   ],
   "source": [
    "import pandas as pd\n",
    "sr1 = pd.Series([1, 2, 3, 4, 5])\n",
    "sr2 = pd.Series([2, 4, 6, 8, 10])\n",
    "print(\"Original Series:\")\n",
    "print(\"sr1:\")\n",
    "print(sr1)\n",
    "print(\"sr2:\")\n",
    "print(sr2)\n",
    "print(\"\\nItems of sr1 not present in sr2:\")\n",
    "result = sr1[~sr1.isin(sr2)]\n",
    "print(result)"
   ]
  },
  {
   "cell_type": "markdown",
   "id": "0142bb34",
   "metadata": {},
   "source": [
    "**Q5. Write a Pandas program to generate a random list of normal distribution and create series based upon this. Then compute the minimum, 25th percentile, median, 75th, and maximum of a given series.**<br>\n",
    "Hint: use percentile()"
   ]
  },
  {
   "cell_type": "code",
   "execution_count": 5,
   "id": "22ce5477",
   "metadata": {},
   "outputs": [
    {
     "name": "stdout",
     "output_type": "stream",
     "text": [
      "Original Series:\n",
      "0    -1.591947\n",
      "1    -0.199059\n",
      "2    -0.027836\n",
      "3    -0.118485\n",
      "4     1.460491\n",
      "5    -0.279048\n",
      "6     0.041132\n",
      "7    -0.170505\n",
      "8     0.512079\n",
      "9     1.460393\n",
      "10    0.129491\n",
      "11   -0.670920\n",
      "12    1.986061\n",
      "13   -1.186863\n",
      "14   -1.158134\n",
      "15   -0.074072\n",
      "16   -0.777981\n",
      "17    0.415586\n",
      "18   -2.041595\n",
      "19    0.058632\n",
      "dtype: float64\n",
      "\n",
      "Minimum, 25th percentile, median, 75th, and maximum of a given series:\n",
      "[-2.04159516 -0.69768536 -0.09627834  0.20101489  1.98606106]\n"
     ]
    }
   ],
   "source": [
    "import pandas as pd\n",
    "import numpy as np\n",
    "array = np.random.normal(0.0, 1.0, 20)\n",
    "num_series = pd.Series(array)\n",
    "print(\"Original Series:\")\n",
    "print(num_series)\n",
    "result = np.percentile(num_series, q=[0, 25, 50, 75, 100])\n",
    "print(\"\\nMinimum, 25th percentile, median, 75th, and maximum of a given series:\")\n",
    "print(result)"
   ]
  },
  {
   "cell_type": "markdown",
   "id": "9f18c24f",
   "metadata": {},
   "source": [
    "**Q6. Write a Pandas program convert the first and last character of each word to upper case in each word of a given series.**"
   ]
  },
  {
   "cell_type": "code",
   "execution_count": 6,
   "id": "9ea9a159",
   "metadata": {},
   "outputs": [
    {
     "name": "stdout",
     "output_type": "stream",
     "text": [
      "Original Series:\n",
      "0       php\n",
      "1    python\n",
      "2      java\n",
      "3        c#\n",
      "dtype: object\n",
      "\n",
      "First and last character of each word to upper case:\n",
      "0       PhP\n",
      "1    PythoN\n",
      "2      JavA\n",
      "3        C#\n",
      "dtype: object\n"
     ]
    }
   ],
   "source": [
    "import pandas as pd\n",
    "series1 = pd.Series(['php', 'python', 'java', 'c#'])\n",
    "print(\"Original Series:\")\n",
    "print(series1)\n",
    "result = series1.map(lambda x: x[0].upper() + x[1:-1] + x[-1].upper())\n",
    "print(\"\\nFirst and last character of each word to upper case:\")\n",
    "print(result)"
   ]
  },
  {
   "cell_type": "markdown",
   "id": "2fa1c48b",
   "metadata": {},
   "source": [
    "# DataFrame"
   ]
  },
  {
   "cell_type": "markdown",
   "id": "bf1b7365",
   "metadata": {},
   "source": [
    "**Q8. Write a Pandas program to generate a dataframe from a exam data dictionary and then to select the specified columns and rows from the DataFrame.<br>\n",
    "(i) Select 'name' and 'score' columns in rows 1, 3, 5, 6 from the following data frame.<br>\n",
    "(ii) Select the rows where the number of attempts in the examination is greater than 2 and score greater than 15.<br>\n",
    "(iii) Select the rows the score is between 15 and 20.<br>\n",
    "(iv) Append a new row 'k' to DataFrame with given values for each column. Now delete the new row and return the original data frame.<br>\n",
    "(v) Change the name 'James' to 'Suresh' in name column of the data frame.**\n",
    "<br>\n",
    "Sample DataFrame:<br>\n",
    "exam_data = {'name': ['Anastasia', 'Dima', 'Katherine', 'James', 'Emily', 'Michael', 'Matthew', 'Laura', 'Kevin', 'Jonas'],\n",
    "'score': [12.5, 9, 16.5, 10, 9, 20, 14.5, 11, 8, 19],\n",
    "'attempts': [1, 3, 2, 3, 2, 3, 1, 1, 2, 1],\n",
    "'qualify': ['yes', 'no', 'yes', 'no', 'no', 'yes', 'yes', 'no', 'no', 'yes']}\n",
    "<br>labels = ['a', 'b', 'c', 'd', 'e', 'f', 'g', 'h', 'i', 'j']"
   ]
  },
  {
   "cell_type": "code",
   "execution_count": 2,
   "id": "dda46c2f",
   "metadata": {},
   "outputs": [
    {
     "name": "stdout",
     "output_type": "stream",
     "text": [
      "      name  score\n",
      "b     Dima    9.0\n",
      "d    James   10.0\n",
      "f  Michael   20.0\n",
      "g  Matthew   14.5\n",
      "      name  score  attempts qualify\n",
      "f  Michael   20.0         3     yes\n",
      "        name  score  attempts qualify\n",
      "c  Katherine   16.5         2     yes\n",
      "f    Michael   20.0         3     yes\n",
      "j      Jonas   19.0         1     yes\n",
      "        name  score  attempts qualify\n",
      "0  Anastasia   12.5         1     yes\n",
      "1       Dima    9.0         3      no\n",
      "2  Katherine   16.5         2     yes\n",
      "3      James   10.0         3      no\n",
      "4      Emily    9.0         2      no\n",
      "5    Michael   20.0         3     yes\n",
      "6    Matthew   14.5         1     yes\n",
      "7      Laura   11.0         1      no\n",
      "8      Kevin    8.0         2      no\n",
      "9      Jonas   19.0         1     yes\n",
      "        name  score  attempts qualify\n",
      "0  Anastasia   12.5         1     yes\n",
      "1       Dima    9.0         3      no\n",
      "2  Katherine   16.5         2     yes\n",
      "3     Suresh   10.0         3      no\n",
      "4      Emily    9.0         2      no\n",
      "5    Michael   20.0         3     yes\n",
      "6    Matthew   14.5         1     yes\n",
      "7      Laura   11.0         1      no\n",
      "8      Kevin    8.0         2      no\n",
      "9      Jonas   19.0         1     yes\n"
     ]
    },
    {
     "name": "stderr",
     "output_type": "stream",
     "text": [
      "C:\\Users\\saivi\\AppData\\Local\\Temp\\ipykernel_1528\\2286065865.py:21: FutureWarning: The frame.append method is deprecated and will be removed from pandas in a future version. Use pandas.concat instead.\n",
      "  df2 = df.append({'name': 'K', 'score': 17, 'attempts': 2, 'qualify': 'yes'}, ignore_index=True)\n"
     ]
    }
   ],
   "source": [
    "import pandas as pd\n",
    "\n",
    "exam_data = {'name': ['Anastasia', 'Dima', 'Katherine', 'James', 'Emily', 'Michael', 'Matthew', 'Laura', 'Kevin', 'Jonas'], \n",
    "             'score': [12.5, 9, 16.5, 10, 9, 20, 14.5, 11, 8, 19], \n",
    "             'attempts': [1, 3, 2, 3, 2, 3, 1, 1, 2, 1], \n",
    "             'qualify': ['yes', 'no', 'yes', 'no', 'no', 'yes', 'yes', 'no', 'no', 'yes']}\n",
    "labels = ['a', 'b', 'c', 'd', 'e', 'f', 'g', 'h', 'i', 'j']\n",
    "\n",
    "df = pd.DataFrame(exam_data, index=labels)\n",
    "\n",
    "# (i) Select 'name' and 'score' columns in rows 1, 3, 5, 6\n",
    "print(df.loc[['b', 'd', 'f', 'g'], ['name', 'score']])\n",
    "\n",
    "# (ii) Select the rows where the number of attempts in the examination is greater than 2 and score greater than 15.\n",
    "print(df[(df['attempts'] > 2) & (df['score'] > 15)])\n",
    "\n",
    "# (iii) Select the rows the score is between 15 and 20.\n",
    "print(df[(df['score'] >= 15) & (df['score'] <= 20)])\n",
    "\n",
    "# (iv) Append a new row 'k' to DataFrame with given values for each column. Now delete the new row and return the original data frame.\n",
    "df2 = df.append({'name': 'K', 'score': 17, 'attempts': 2, 'qualify': 'yes'}, ignore_index=True)\n",
    "df2 = df2.drop(df2.index[-1], axis=0)\n",
    "print(df2)\n",
    "\n",
    "# (v) Change the name 'James' to 'Suresh' in name column of the data frame.\n",
    "df2.loc[df2['name'] == 'James', 'name'] = 'Suresh'\n",
    "print(df2)"
   ]
  },
  {
   "cell_type": "markdown",
   "id": "344f0431",
   "metadata": {},
   "source": [
    "**Q9. Write a Pandas program to iterate over rows in a DataFrame.**"
   ]
  },
  {
   "cell_type": "code",
   "execution_count": 3,
   "id": "93ec6e54",
   "metadata": {},
   "outputs": [
    {
     "name": "stdout",
     "output_type": "stream",
     "text": [
      "a Anastasia 12.5\n",
      "b Dima 9.0\n",
      "c Katherine 16.5\n",
      "d James 10.0\n",
      "e Emily 9.0\n",
      "f Michael 20.0\n",
      "g Matthew 14.5\n",
      "h Laura 11.0\n",
      "i Kevin 8.0\n",
      "j Jonas 19.0\n"
     ]
    }
   ],
   "source": [
    "import pandas as pd\n",
    "\n",
    "exam_data = {'name': ['Anastasia', 'Dima', 'Katherine', 'James', 'Emily', 'Michael', 'Matthew', 'Laura', 'Kevin', 'Jonas'], \n",
    "             'score': [12.5, 9, 16.5, 10, 9, 20, 14.5, 11, 8, 19], \n",
    "             'attempts': [1, 3, 2, 3, 2, 3, 1, 1, 2, 1], \n",
    "             'qualify': ['yes', 'no', 'yes', 'no', 'no', 'yes', 'yes', 'no', 'no', 'yes']}\n",
    "labels = ['a', 'b', 'c', 'd', 'e', 'f', 'g', 'h', 'i', 'j']\n",
    "\n",
    "df = pd.DataFrame(exam_data, index=labels)\n",
    "\n",
    "# Iterate over rows using iterrows() method\n",
    "for index, row in df.iterrows():\n",
    "    print(index, row['name'], row['score'])"
   ]
  },
  {
   "cell_type": "markdown",
   "id": "96e0de7b",
   "metadata": {},
   "source": [
    "**Q10. Write a Pandas program to rename a specific column name in a given DataFrame.**"
   ]
  },
  {
   "cell_type": "code",
   "execution_count": 4,
   "id": "41a9d3c1",
   "metadata": {},
   "outputs": [
    {
     "name": "stdout",
     "output_type": "stream",
     "text": [
      "  student_name  score  attempts qualify\n",
      "a    Anastasia   12.5         1     yes\n",
      "b         Dima    9.0         3      no\n",
      "c    Katherine   16.5         2     yes\n",
      "d        James   10.0         3      no\n",
      "e        Emily    9.0         2      no\n",
      "f      Michael   20.0         3     yes\n",
      "g      Matthew   14.5         1     yes\n",
      "h        Laura   11.0         1      no\n",
      "i        Kevin    8.0         2      no\n",
      "j        Jonas   19.0         1     yes\n"
     ]
    }
   ],
   "source": [
    "import pandas as pd\n",
    "\n",
    "exam_data = {'name': ['Anastasia', 'Dima', 'Katherine', 'James', 'Emily', 'Michael', 'Matthew', 'Laura', 'Kevin', 'Jonas'], \n",
    "             'score': [12.5, 9, 16.5, 10, 9, 20, 14.5, 11, 8, 19], \n",
    "             'attempts': [1, 3, 2, 3, 2, 3, 1, 1, 2, 1], \n",
    "             'qualify': ['yes', 'no', 'yes', 'no', 'no', 'yes', 'yes', 'no', 'no', 'yes']}\n",
    "labels = ['a', 'b', 'c', 'd', 'e', 'f', 'g', 'h', 'i', 'j']\n",
    "\n",
    "df = pd.DataFrame(exam_data, index=labels)\n",
    "\n",
    "# Rename column 'name' to 'student_name'\n",
    "df.rename(columns={'name': 'student_name'}, inplace=True)\n",
    "print(df)\n"
   ]
  },
  {
   "cell_type": "markdown",
   "id": "7ec59afc",
   "metadata": {},
   "source": [
    "**Q11. Write a Pandas program to get last n records of a DataFrame.**"
   ]
  },
  {
   "cell_type": "code",
   "execution_count": 5,
   "id": "478bd6aa",
   "metadata": {},
   "outputs": [
    {
     "name": "stdout",
     "output_type": "stream",
     "text": [
      "    name  score  attempts qualify\n",
      "h  Laura   11.0         1      no\n",
      "i  Kevin    8.0         2      no\n",
      "j  Jonas   19.0         1     yes\n"
     ]
    }
   ],
   "source": [
    "import pandas as pd\n",
    "\n",
    "exam_data = {'name': ['Anastasia', 'Dima', 'Katherine', 'James', 'Emily', 'Michael', 'Matthew', 'Laura', 'Kevin', 'Jonas'], \n",
    "             'score': [12.5, 9, 16.5, 10, 9, 20, 14.5, 11, 8, 19], \n",
    "             'attempts': [1, 3, 2, 3, 2, 3, 1, 1, 2, 1], \n",
    "             'qualify': ['yes', 'no', 'yes', 'no', 'no', 'yes', 'yes', 'no', 'no', 'yes']}\n",
    "labels = ['a', 'b', 'c', 'd', 'e', 'f', 'g', 'h', 'i', 'j']\n",
    "\n",
    "df = pd.DataFrame(exam_data, index=labels)\n",
    "\n",
    "# Get the last 3 records\n",
    "last_3 = df.tail(3)\n",
    "print(last_3)"
   ]
  },
  {
   "cell_type": "markdown",
   "id": "24a5f198",
   "metadata": {},
   "source": [
    "**Q12. Write a Pandas program to generate a DataFrame from below test data with columns head 'school_code', 'class', 'name', 'date_of_Birth', 'weight', 'address', 't_id'.<br>\n",
    "(i) Create a multi Index frame using two columns and using an Index and a column.<br>\n",
    "(ii) Create a multi Index frame using an Index and a column.**\n",
    "<img src='Q12.jpg'>"
   ]
  },
  {
   "cell_type": "code",
   "execution_count": null,
   "id": "320a7a21",
   "metadata": {},
   "outputs": [],
   "source": []
  },
  {
   "cell_type": "markdown",
   "id": "bed8a7bb",
   "metadata": {},
   "source": [
    "**Q13. Create a hierarchical multi-index dataframe from below two lists:<br>\n",
    "['sale1', 'sale1', 'sale2', 'sale2', 'sale3', 'sale3', 'sale4', 'sale4'],<br>\n",
    "['city1', 'city2', 'city1', 'city2', 'city1', 'city2', 'city1', 'city2']<br>\n",
    "dataframe size is of 8x5 with random values.<br>\n",
    "(i) Extract a single row from the said dataframe.<br>\n",
    "(ii) Extract number of rows from the said dataframe.<br>\n",
    "(iii) Extract a single value from the said dataframe.**"
   ]
  },
  {
   "cell_type": "code",
   "execution_count": 32,
   "id": "503cdcda",
   "metadata": {},
   "outputs": [
    {
     "name": "stdout",
     "output_type": "stream",
     "text": [
      "[('sale1', 'city1'), ('sale1', 'city2'), ('sale2', 'city1'), ('sale2', 'city2'), ('sale3', 'city1'), ('sale3', 'city2'), ('sale4', 'city1'), ('sale4', 'city2')]\n",
      "\n",
      "Construct a Dataframe using the said MultiIndex levels: \n",
      "                    0         1         2         3         4\n",
      "sale  city                                                   \n",
      "sale1 city1 -0.228570  1.080099  0.918523 -0.667130 -0.259211\n",
      "      city2 -0.694472 -0.227572  0.498330  1.875947  0.301567\n",
      "sale2 city1 -0.515857  0.377916 -0.215729  1.006672 -0.458567\n",
      "      city2  0.857425 -1.555351 -0.973145 -1.082591 -0.503755\n",
      "sale3 city1 -0.225082 -1.198565 -0.018392  1.539963 -1.220222\n",
      "      city2  1.567841 -0.439455  1.785376 -2.625541 -1.714665\n",
      "sale4 city1  0.314957 -0.600482  1.805598  0.167679  0.970072\n",
      "      city2  0.764131  1.281945 -0.710782 -0.650146 -1.335518\n",
      "============================================\n",
      "\n",
      "Extract a single row from the said dataframe:\n",
      "0    0.857425\n",
      "1   -1.555351\n",
      "2   -0.973145\n",
      "3   -1.082591\n",
      "4   -0.503755\n",
      "Name: (sale2, city2), dtype: float64\n",
      "============================================\n",
      "\n",
      "Extract number of rows from the said dataframe:\n",
      "              0         1         2         3         4\n",
      "city                                                   \n",
      "city1 -0.228570  1.080099  0.918523 -0.667130 -0.259211\n",
      "city2 -0.694472 -0.227572  0.498330  1.875947  0.301567\n",
      "============================================\n",
      "\n",
      "Extract a single value from the said dataframe:\n",
      "0.9700715315852899\n"
     ]
    }
   ],
   "source": [
    "import pandas as pd\n",
    "import numpy as np\n",
    "sales_arrays = [['sale1', 'sale1', 'sale2', 'sale2', 'sale3', 'sale3', 'sale4', 'sale4'],\n",
    "['city1', 'city2', 'city1', 'city2', 'city1', 'city2', 'city1', 'city2']]\n",
    "sales_tuples = list(zip(*sales_arrays))\n",
    "sales_index = pd.MultiIndex.from_tuples(sales_tuples, names=['sale', 'city'])\n",
    "print(sales_tuples)\n",
    "print(\"\\nConstruct a Dataframe using the said MultiIndex levels: \")\n",
    "df = pd.DataFrame(np.random.randn(8, 5), index=sales_index)\n",
    "print(df)\n",
    "print('============================================')\n",
    "#(i)\n",
    "print(\"\\nExtract a single row from the said dataframe:\")\n",
    "print(df.loc[('sale2', 'city2')])\n",
    "print('============================================')\n",
    "#(ii)\n",
    "print(\"\\nExtract number of rows from the said dataframe:\")\n",
    "print(df.loc['sale1'])\n",
    "print('============================================')\n",
    "#(iii)\n",
    "print(\"\\nExtract a single value from the said dataframe:\")\n",
    "print(df.loc[('sale4', 'city1'), 4])"
   ]
  },
  {
   "cell_type": "code",
   "execution_count": null,
   "id": "d44339a4",
   "metadata": {},
   "outputs": [],
   "source": []
  }
 ],
 "metadata": {
  "interpreter": {
   "hash": "8b19b46d66d21ed878d7479c740a53ebae5b614c812aabd7ad3de252e90c6a0c"
  },
  "kernelspec": {
   "display_name": "Python 3 (ipykernel)",
   "language": "python",
   "name": "python3"
  },
  "language_info": {
   "codemirror_mode": {
    "name": "ipython",
    "version": 3
   },
   "file_extension": ".py",
   "mimetype": "text/x-python",
   "name": "python",
   "nbconvert_exporter": "python",
   "pygments_lexer": "ipython3",
   "version": "3.9.13"
  }
 },
 "nbformat": 4,
 "nbformat_minor": 5
}
