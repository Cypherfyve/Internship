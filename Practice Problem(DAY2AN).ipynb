{
 "cells": [
  {
   "cell_type": "markdown",
   "metadata": {},
   "source": [
    "# NumPy Exercises \n",
    "\n",
    "Now that we've learned about NumPy let's test your knowledge."
   ]
  },
  {
   "cell_type": "markdown",
   "metadata": {},
   "source": [
    "#### Q1. Write a NumPy program to find the number of rows and columns of a given matrix."
   ]
  },
  {
   "cell_type": "code",
   "execution_count": 1,
   "metadata": {},
   "outputs": [
    {
     "name": "stdout",
     "output_type": "stream",
     "text": [
      "Original matrix:\n",
      "[[10 11 12 13]\n",
      " [14 15 16 17]\n",
      " [18 19 20 21]]\n",
      "Number of rows and columns of the said matrix:\n",
      "(3, 4)\n"
     ]
    }
   ],
   "source": [
    "import numpy as np\n",
    "m= np.arange(10,22).reshape((3, 4))\n",
    "print(\"Original matrix:\")\n",
    "print(m)\n",
    "print(\"Number of rows and columns of the said matrix:\")\n",
    "print(m.shape)"
   ]
  },
  {
   "cell_type": "markdown",
   "metadata": {},
   "source": [
    "#### Q2. Write a NumPy program to compute sum of all elements, sum of each column and sum of each row of a given array."
   ]
  },
  {
   "cell_type": "code",
   "execution_count": 2,
   "metadata": {},
   "outputs": [
    {
     "name": "stdout",
     "output_type": "stream",
     "text": [
      "Original array:\n",
      "[[0 1]\n",
      " [2 3]]\n",
      "Sum of all elements:\n",
      "6\n",
      "Sum of each column:\n",
      "[2 4]\n",
      "Sum of each row:\n",
      "[1 5]\n"
     ]
    }
   ],
   "source": [
    "import numpy as np\n",
    "x = np.array([[0,1],[2,3]])\n",
    "print(\"Original array:\")\n",
    "print(x)\n",
    "print(\"Sum of all elements:\")\n",
    "print(np.sum(x))\n",
    "print(\"Sum of each column:\")\n",
    "print(np.sum(x, axis=0))\n",
    "print(\"Sum of each row:\")\n",
    "print(np.sum(x, axis=1))"
   ]
  },
  {
   "cell_type": "markdown",
   "metadata": {},
   "source": [
    "#### Q3. Write a NumPy program to extract all numbers from a given array which are less and greater than a specified number."
   ]
  },
  {
   "cell_type": "code",
   "execution_count": 3,
   "metadata": {},
   "outputs": [
    {
     "name": "stdout",
     "output_type": "stream",
     "text": [
      "Original array:\n",
      "[[5.54 3.38 7.99]\n",
      " [3.54 4.38 6.99]\n",
      " [1.54 2.39 9.29]]\n",
      "\n",
      "Elements of the said array greater than 5\n",
      "[5.54 7.99 6.99 9.29]\n",
      "\n",
      "Elements of the said array less than 6\n",
      "[5.54 3.38 3.54 4.38 1.54 2.39]\n"
     ]
    }
   ],
   "source": [
    "import numpy as np\n",
    "nums = np.array([[5.54, 3.38, 7.99],\n",
    "[3.54, 4.38, 6.99],\n",
    "[1.54, 2.39, 9.29]])\n",
    "print(\"Original array:\")\n",
    "print(nums)\n",
    "n = 5\n",
    "print(\"\\nElements of the said array greater than\",n)\n",
    "print(nums[nums > n])\n",
    "n = 6\n",
    "print(\"\\nElements of the said array less than\",n)\n",
    "print(nums[nums < n])"
   ]
  },
  {
   "cell_type": "markdown",
   "metadata": {},
   "source": [
    "#### Q4. Write a NumPy program to create a 4x4 array, now create a new array from the said array swapping first and last, second and third columns.\n",
    "\n",
    "#### Create the array using numpy.arange which returns evenly spaced values within a given interval."
   ]
  },
  {
   "cell_type": "code",
   "execution_count": 4,
   "metadata": {},
   "outputs": [
    {
     "name": "stdout",
     "output_type": "stream",
     "text": [
      "Original array:\n",
      "[[ 0  1  2  3]\n",
      " [ 4  5  6  7]\n",
      " [ 8  9 10 11]\n",
      " [12 13 14 15]]\n",
      "\n",
      "New array after swapping first and last columns of the said array:\n",
      "[[ 3  2  1  0]\n",
      " [ 7  6  5  4]\n",
      " [11 10  9  8]\n",
      " [15 14 13 12]]\n"
     ]
    }
   ],
   "source": [
    "import numpy as np\n",
    "nums = np.arange(16, dtype='int').reshape(-1, 4)\n",
    "print(\"Original array:\")\n",
    "print(nums)\n",
    "print(\"\\nNew array after swapping first and last columns of the said array:\")\n",
    "new_nums = nums[:, ::-1]\n",
    "print(new_nums)"
   ]
  },
  {
   "cell_type": "markdown",
   "metadata": {},
   "source": [
    "#### Q5. Write a NumPy program to find the missing data in a given array."
   ]
  },
  {
   "cell_type": "code",
   "execution_count": 5,
   "metadata": {},
   "outputs": [
    {
     "name": "stdout",
     "output_type": "stream",
     "text": [
      "Original array:\n",
      "[[ 3.  2. nan  1.]\n",
      " [10. 12. 10.  9.]\n",
      " [ 5. nan  1. nan]]\n",
      "\n",
      "Find the missing data of the said array:\n",
      "[[False False  True False]\n",
      " [False False False False]\n",
      " [False  True False  True]]\n"
     ]
    }
   ],
   "source": [
    "import numpy as np\n",
    "nums = np.array([[3, 2, np.nan, 1],\n",
    "[10, 12, 10, 9],\n",
    "[5, np.nan, 1, np.nan]])\n",
    "print(\"Original array:\")\n",
    "print(nums)\n",
    "print(\"\\nFind the missing data of the said array:\")\n",
    "print(np.isnan(nums))"
   ]
  },
  {
   "cell_type": "markdown",
   "metadata": {},
   "source": [
    "#### Q6. Create a 5X2 integer array from a range between 100 to 200 such that the difference between each element is 10"
   ]
  },
  {
   "cell_type": "code",
   "execution_count": 6,
   "metadata": {},
   "outputs": [
    {
     "name": "stdout",
     "output_type": "stream",
     "text": [
      "Original array:\n",
      "[[ 3.  2. nan  1.]\n",
      " [10. 12. 10.  9.]\n",
      " [ 5. nan  1. nan]]\n",
      "\n",
      "Find the missing data of the said array:\n",
      "[[False False  True False]\n",
      " [False False False False]\n",
      " [False  True False  True]]\n"
     ]
    }
   ],
   "source": [
    "import numpy as np\n",
    "nums = np.array([[3, 2, np.nan, 1],\n",
    "[10, 12, 10, 9],\n",
    "[5, np.nan, 1, np.nan]])\n",
    "print(\"Original array:\")\n",
    "print(nums)\n",
    "print(\"\\nFind the missing data of the said array:\")\n",
    "print(np.isnan(nums))"
   ]
  },
  {
   "cell_type": "markdown",
   "metadata": {},
   "source": [
    "#### Q7. Delete the second column from a given array and insert the following new column in its place.\n",
    "###### use np.delete and np.insert method"
   ]
  },
  {
   "cell_type": "code",
   "execution_count": 7,
   "metadata": {},
   "outputs": [
    {
     "name": "stdout",
     "output_type": "stream",
     "text": [
      "Printing Original array\n",
      "[[34 43 73]\n",
      " [82 22 12]\n",
      " [53 94 66]]\n",
      "Array after deleting column 2 on axis 1\n",
      "[[34 73]\n",
      " [82 12]\n",
      " [53 66]]\n",
      "Array after inserting column 2 on axis 1\n",
      "[[34 10 73]\n",
      " [82 10 12]\n",
      " [53 10 66]]\n"
     ]
    }
   ],
   "source": [
    "import numpy as np\n",
    "print(\"Printing Original array\")\n",
    "sampleArray = numpy.array([[34,43,73],[82,22,12],[53,94,66]])\n",
    "print (sampleArray)\n",
    "print(\"Array after deleting column 2 on axis 1\")\n",
    "sampleArray = numpy.delete(sampleArray , 1, axis = 1)\n",
    "print (sampleArray)\n",
    "col = numpy.array([[10,10,10]])\n",
    "print(\"Array after inserting column 2 on axis 1\")\n",
    "sampleArray = numpy.insert(sampleArray , 1, col, axis = 1)\n",
    "print (sampleArray)"
   ]
  },
  {
   "cell_type": "markdown",
   "metadata": {},
   "source": [
    "#### Q8. Write a NumPy program to concatenate two 2-dimensional arrays vertically."
   ]
  },
  {
   "cell_type": "code",
   "execution_count": 8,
   "metadata": {},
   "outputs": [
    {
     "name": "stdout",
     "output_type": "stream",
     "text": [
      "[[ 0  1  3  0  2  4]\n",
      " [ 5  7  9  6  8 10]]\n"
     ]
    }
   ],
   "source": [
    "import numpy as np\n",
    "a = np.array([[0, 1, 3], [5, 7, 9]])\n",
    "b = np.array([[0, 2, 4], [6, 8, 10]])\n",
    "c = np.concatenate((a, b), 1)\n",
    "print(c)"
   ]
  },
  {
   "cell_type": "markdown",
   "metadata": {},
   "source": [
    "#### Q9. Write a NumPy program to find the closest value (to a given scalar) in an array.\n",
    "###### use np.abs()"
   ]
  },
  {
   "cell_type": "code",
   "execution_count": 9,
   "metadata": {},
   "outputs": [
    {
     "name": "stdout",
     "output_type": "stream",
     "text": [
      "Original array:\n",
      "[ 0  1  2  3  4  5  6  7  8  9 10 11 12 13 14 15 16 17 18 19 20 21 22 23\n",
      " 24 25 26 27 28 29 30 31 32 33 34 35 36 37 38 39 40 41 42 43 44 45 46 47\n",
      " 48 49 50 51 52 53 54 55 56 57 58 59 60 61 62 63 64 65 66 67 68 69 70 71\n",
      " 72 73 74 75 76 77 78 79 80 81 82 83 84 85 86 87 88 89 90 91 92 93 94 95\n",
      " 96 97 98 99]\n",
      "Value to compare:\n",
      "95.11854418741883\n",
      "95\n"
     ]
    }
   ],
   "source": [
    "import numpy as np\n",
    "x = np.arange(100)\n",
    "print(\"Original array:\")\n",
    "print(x)\n",
    "a = np.random.uniform(0,100)\n",
    "print(\"Value to compare:\")\n",
    "print(a)\n",
    "index = (np.abs(x-a)).argmin()\n",
    "print(x[index])"
   ]
  },
  {
   "cell_type": "markdown",
   "metadata": {},
   "source": [
    "#### Q10. Write a NumPy program to check two random arrays are equal or not.\n",
    "###### use np.allclose()"
   ]
  },
  {
   "cell_type": "code",
   "execution_count": 10,
   "metadata": {},
   "outputs": [
    {
     "name": "stdout",
     "output_type": "stream",
     "text": [
      "First array:\n",
      "[0 1 1 0 0 1]\n",
      "Second array:\n",
      "[1 0 0 0 1 1]\n",
      "Test above two arrays are equal or not!\n",
      "False\n"
     ]
    }
   ],
   "source": [
    "import numpy as np\n",
    "x = np.random.randint(0,2,6)\n",
    "print(\"First array:\")\n",
    "print(x)\n",
    "y = np.random.randint(0,2,6)\n",
    "print(\"Second array:\")\n",
    "print(y)\n",
    "print(\"Test above two arrays are equal or not!\")\n",
    "array_equal = np.allclose(x, y)\n",
    "print(array_equal)"
   ]
  },
  {
   "cell_type": "markdown",
   "metadata": {},
   "source": [
    "#### Q11. Solve the linear equations\n",
    "###### 4x  + 3y = 20\n",
    "###### -5x + 9y = 26"
   ]
  },
  {
   "cell_type": "code",
   "execution_count": 11,
   "metadata": {},
   "outputs": [
    {
     "name": "stdout",
     "output_type": "stream",
     "text": [
      "[2. 4.]\n"
     ]
    }
   ],
   "source": [
    "import numpy as np\n",
    "m_list = [[4, 3], [-5, 9]]\n",
    "A = np.array(m_list)\n",
    "inv_A = np.linalg.inv(A)\n",
    "B = np.array([20, 26])\n",
    "X = np.linalg.inv(A).dot(B)\n",
    "print(X)"
   ]
  },
  {
   "cell_type": "markdown",
   "metadata": {},
   "source": [
    "#### Q12. Write a NumPy program to compute the sum of the diagonal element of a given array."
   ]
  },
  {
   "cell_type": "code",
   "execution_count": 12,
   "metadata": {},
   "outputs": [
    {
     "name": "stdout",
     "output_type": "stream",
     "text": [
      "Original matrix:\n",
      "[[0 1 2]\n",
      " [3 4 5]\n",
      " [6 7 8]]\n",
      "Condition number of the said matrix:\n",
      "12\n"
     ]
    }
   ],
   "source": [
    "import numpy as np\n",
    "m = np.arange(9).reshape(3,3)\n",
    "print(\"Original matrix:\")\n",
    "print(m)\n",
    "result = np.trace(m)\n",
    "print(\"Condition number of the said matrix:\")\n",
    "print(result)"
   ]
  },
  {
   "cell_type": "markdown",
   "metadata": {
    "collapsed": true
   },
   "source": [
    "# Great Job!"
   ]
  }
 ],
 "metadata": {
  "kernelspec": {
   "display_name": "Python 3 (ipykernel)",
   "language": "python",
   "name": "python3"
  },
  "language_info": {
   "codemirror_mode": {
    "name": "ipython",
    "version": 3
   },
   "file_extension": ".py",
   "mimetype": "text/x-python",
   "name": "python",
   "nbconvert_exporter": "python",
   "pygments_lexer": "ipython3",
   "version": "3.9.7"
  }
 },
 "nbformat": 4,
 "nbformat_minor": 1
}
