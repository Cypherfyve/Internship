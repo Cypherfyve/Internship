{
 "cells": [
  {
   "cell_type": "markdown",
   "metadata": {},
   "source": [
    "___\n",
    "# Plotly and Cufflinks"
   ]
  },
  {
   "cell_type": "code",
   "execution_count": 7,
   "metadata": {},
   "outputs": [],
   "source": [
    "import pandas as pd\n",
    "import numpy as np\n",
    "%matplotlib inline"
   ]
  },
  {
   "cell_type": "code",
   "execution_count": 8,
   "metadata": {},
   "outputs": [
    {
     "name": "stdout",
     "output_type": "stream",
     "text": [
      "5.3.1\n"
     ]
    }
   ],
   "source": [
    "from plotly import __version__\n",
    "from plotly.offline import download_plotlyjs, init_notebook_mode, plot, iplot\n",
    "\n",
    "print(__version__) # requires version >= 1.9.0"
   ]
  },
  {
   "cell_type": "code",
   "execution_count": 11,
   "metadata": {},
   "outputs": [],
   "source": [
    "import cufflinks as cf"
   ]
  },
  {
   "cell_type": "code",
   "execution_count": 12,
   "metadata": {},
   "outputs": [
    {
     "data": {
      "text/html": [
       "        <script type=\"text/javascript\">\n",
       "        window.PlotlyConfig = {MathJaxConfig: 'local'};\n",
       "        if (window.MathJax) {MathJax.Hub.Config({SVG: {font: \"STIX-Web\"}});}\n",
       "        if (typeof require !== 'undefined') {\n",
       "        require.undef(\"plotly\");\n",
       "        requirejs.config({\n",
       "            paths: {\n",
       "                'plotly': ['https://cdn.plot.ly/plotly-2.4.2.min']\n",
       "            }\n",
       "        });\n",
       "        require(['plotly'], function(Plotly) {\n",
       "            window._Plotly = Plotly;\n",
       "        });\n",
       "        }\n",
       "        </script>\n",
       "        "
      ]
     },
     "metadata": {},
     "output_type": "display_data"
    }
   ],
   "source": [
    "# For Notebooks\n",
    "init_notebook_mode(connected=True)"
   ]
  },
  {
   "cell_type": "code",
   "execution_count": 13,
   "metadata": {},
   "outputs": [
    {
     "data": {
      "text/html": [
       "        <script type=\"text/javascript\">\n",
       "        window.PlotlyConfig = {MathJaxConfig: 'local'};\n",
       "        if (window.MathJax) {MathJax.Hub.Config({SVG: {font: \"STIX-Web\"}});}\n",
       "        if (typeof require !== 'undefined') {\n",
       "        require.undef(\"plotly\");\n",
       "        requirejs.config({\n",
       "            paths: {\n",
       "                'plotly': ['https://cdn.plot.ly/plotly-2.4.2.min']\n",
       "            }\n",
       "        });\n",
       "        require(['plotly'], function(Plotly) {\n",
       "            window._Plotly = Plotly;\n",
       "        });\n",
       "        }\n",
       "        </script>\n",
       "        "
      ]
     },
     "metadata": {},
     "output_type": "display_data"
    }
   ],
   "source": [
    "# For offline use\n",
    "cf.go_offline()"
   ]
  },
  {
   "cell_type": "markdown",
   "metadata": {},
   "source": [
    "### Fake Data"
   ]
  },
  {
   "cell_type": "code",
   "execution_count": 14,
   "metadata": {},
   "outputs": [],
   "source": [
    "df = pd.DataFrame(np.random.randn(100,4),columns='A B C D'.split())"
   ]
  },
  {
   "cell_type": "code",
   "execution_count": 15,
   "metadata": {},
   "outputs": [
    {
     "data": {
      "text/html": [
       "<div>\n",
       "<style scoped>\n",
       "    .dataframe tbody tr th:only-of-type {\n",
       "        vertical-align: middle;\n",
       "    }\n",
       "\n",
       "    .dataframe tbody tr th {\n",
       "        vertical-align: top;\n",
       "    }\n",
       "\n",
       "    .dataframe thead th {\n",
       "        text-align: right;\n",
       "    }\n",
       "</style>\n",
       "<table border=\"1\" class=\"dataframe\">\n",
       "  <thead>\n",
       "    <tr style=\"text-align: right;\">\n",
       "      <th></th>\n",
       "      <th>A</th>\n",
       "      <th>B</th>\n",
       "      <th>C</th>\n",
       "      <th>D</th>\n",
       "    </tr>\n",
       "  </thead>\n",
       "  <tbody>\n",
       "    <tr>\n",
       "      <th>0</th>\n",
       "      <td>-1.252615</td>\n",
       "      <td>1.429907</td>\n",
       "      <td>1.497365</td>\n",
       "      <td>-0.760752</td>\n",
       "    </tr>\n",
       "    <tr>\n",
       "      <th>1</th>\n",
       "      <td>-0.059703</td>\n",
       "      <td>-0.336269</td>\n",
       "      <td>-1.365264</td>\n",
       "      <td>-1.254568</td>\n",
       "    </tr>\n",
       "    <tr>\n",
       "      <th>2</th>\n",
       "      <td>1.186141</td>\n",
       "      <td>-0.224039</td>\n",
       "      <td>-0.463385</td>\n",
       "      <td>-0.878883</td>\n",
       "    </tr>\n",
       "    <tr>\n",
       "      <th>3</th>\n",
       "      <td>-0.087611</td>\n",
       "      <td>-0.106252</td>\n",
       "      <td>-0.655416</td>\n",
       "      <td>-0.136651</td>\n",
       "    </tr>\n",
       "    <tr>\n",
       "      <th>4</th>\n",
       "      <td>0.079506</td>\n",
       "      <td>0.247488</td>\n",
       "      <td>-0.873404</td>\n",
       "      <td>0.074743</td>\n",
       "    </tr>\n",
       "  </tbody>\n",
       "</table>\n",
       "</div>"
      ],
      "text/plain": [
       "          A         B         C         D\n",
       "0 -1.252615  1.429907  1.497365 -0.760752\n",
       "1 -0.059703 -0.336269 -1.365264 -1.254568\n",
       "2  1.186141 -0.224039 -0.463385 -0.878883\n",
       "3 -0.087611 -0.106252 -0.655416 -0.136651\n",
       "4  0.079506  0.247488 -0.873404  0.074743"
      ]
     },
     "execution_count": 15,
     "metadata": {},
     "output_type": "execute_result"
    }
   ],
   "source": [
    "df.head()"
   ]
  },
  {
   "cell_type": "code",
   "execution_count": 16,
   "metadata": {},
   "outputs": [],
   "source": [
    "df2 = pd.DataFrame({'Category':['A','B','C'],'Values':[32,43,50]})"
   ]
  },
  {
   "cell_type": "code",
   "execution_count": 17,
   "metadata": {},
   "outputs": [
    {
     "data": {
      "text/html": [
       "<div>\n",
       "<style scoped>\n",
       "    .dataframe tbody tr th:only-of-type {\n",
       "        vertical-align: middle;\n",
       "    }\n",
       "\n",
       "    .dataframe tbody tr th {\n",
       "        vertical-align: top;\n",
       "    }\n",
       "\n",
       "    .dataframe thead th {\n",
       "        text-align: right;\n",
       "    }\n",
       "</style>\n",
       "<table border=\"1\" class=\"dataframe\">\n",
       "  <thead>\n",
       "    <tr style=\"text-align: right;\">\n",
       "      <th></th>\n",
       "      <th>Category</th>\n",
       "      <th>Values</th>\n",
       "    </tr>\n",
       "  </thead>\n",
       "  <tbody>\n",
       "    <tr>\n",
       "      <th>0</th>\n",
       "      <td>A</td>\n",
       "      <td>32</td>\n",
       "    </tr>\n",
       "    <tr>\n",
       "      <th>1</th>\n",
       "      <td>B</td>\n",
       "      <td>43</td>\n",
       "    </tr>\n",
       "    <tr>\n",
       "      <th>2</th>\n",
       "      <td>C</td>\n",
       "      <td>50</td>\n",
       "    </tr>\n",
       "  </tbody>\n",
       "</table>\n",
       "</div>"
      ],
      "text/plain": [
       "  Category  Values\n",
       "0        A      32\n",
       "1        B      43\n",
       "2        C      50"
      ]
     },
     "execution_count": 17,
     "metadata": {},
     "output_type": "execute_result"
    }
   ],
   "source": [
    "df2.head()"
   ]
  },
  {
   "cell_type": "code",
   "execution_count": 20,
   "metadata": {},
   "outputs": [
    {
     "data": {
      "text/plain": [
       "<AxesSubplot:>"
      ]
     },
     "execution_count": 20,
     "metadata": {},
     "output_type": "execute_result"
    },
    {
     "data": {
      "image/png": "[encoded data removed]",
      "text/plain": [
       "<Figure size 432x288 with 1 Axes>"
      ]
     },
     "metadata": {
      "needs_background": "light"
     },
     "output_type": "display_data"
    }
   ],
   "source": [
    "df.plot()"
   ]
  },
  {
   "cell_type": "code",
   "execution_count": 19,
   "metadata": {},
   "outputs": [
    {
     "data": {
      "application/vnd.plotly.v1+json": {
       "config": {
        "linkText": "Export to plot.ly",
        "plotlyServerURL": "https://plot.ly",
        "showLink": true
       },
       "data": [
        {
         "line": {
          "color": "rgba(255, 153, 51, 1.0)",
          "dash": "solid",
          "shape": "linear",
          "width": 1.3
         },
         "mode": "lines",
         "name": "A",
         "text": "",
         "type": "scatter",
         "x": [
          0,
          1,
          2,
          3,
          4,
          5,
          6,
          7,
          8,
          9,
          10,
          11,
          12,
          13,
          14,
          15,
          16,
          17,
          18,
          19,
          20,
          21,
          22,
          23,
          24,
          25,
          26,
          27,
          28,
          29,
          30,
          31,
          32,
          33,
          34,
          35,
          36,
          37,
          38,
          39,
          40,
          41,
          42,
          43,
          44,
          45,
          46,
          47,
          48,
          49,
          50,
          51,
          52,
          53,
          54,
          55,
          56,
          57,
          58,
          59,
          60,
          61,
          62,
          63,
          64,
          65,
          66,
          67,
          68,
          69,
          70,
          71,
          72,
          73,
          74,
          75,
          76,
          77,
          78,
          79,
          80,
          81,
          82,
          83,
          84,
          85,
          86,
          87,
          88,
          89,
          90,
          91,
          92,
          93,
          94,
          95,
          96,
          97,
          98,
          99
         ],
         "y": [
          -1.252614793086047,
          -0.05970334235749016,
          1.1861410783422972,
          -0.08761128715742864,
          0.07950640464429827,
          1.2280562668624604,
          -1.3278069263914265,
          -1.363119785987805,
          -1.1386232623492012,
          -0.8393437156317276,
          -0.4541080744300972,
          2.0343495796888282,
          -3.09049460215665,
          0.16073727481802083,
          -0.4197095473149091,
          -0.2387478469942015,
          -0.059737805366917265,
          0.637232411048166,
          -0.16098446078613787,
          -0.39044693665236124,
          -0.18335785148903647,
          -1.4665474154877824,
          -0.9467091070463365,
          -1.363086400891611,
          1.1419161233127382,
          -0.8990356765986693,
          -0.47877126318615904,
          -0.08723595655352805,
          0.28836519048925785,
          0.4535211994873111,
          0.6072750672172921,
          0.7920328635238127,
          0.9210688520723921,
          0.8431813681496602,
          0.14682019235661373,
          -1.1829671348247588,
          -1.0438065432704076,
          1.4143243674487795,
          0.709957119062226,
          -0.6850164620237267,
          -1.0010708187907489,
          -0.34860627566652763,
          1.9900831507298398,
          0.18725017639146913,
          -0.6255124774152,
          -1.6017317227276038,
          0.885042918633726,
          0.7428077103813263,
          -0.8924785069045459,
          -1.3308889418400802,
          3.003745396974862,
          0.3371032077767076,
          0.46679193086201903,
          0.36616511575153876,
          -0.416335845412642,
          1.5194644015341876,
          0.5211470076410264,
          -1.5036153475796188,
          -0.26626662937057033,
          0.6978691732337882,
          -0.09511084342263629,
          0.30075260301102774,
          0.03197028510486337,
          1.4282640809936629,
          0.33128440588935226,
          0.8760426680096519,
          -0.04282550929148523,
          -1.4869944424905852,
          1.1016632292962907,
          -1.432616353521275,
          1.5575716683045684,
          -0.3201993175852064,
          0.3085393750442976,
          -1.6767132815810286,
          -0.43613840129391807,
          0.5444947534040682,
          -0.9564608279120181,
          -1.2149259364052323,
          0.2619339163954011,
          1.1510318594062585,
          -1.4935781096730616,
          -1.5364588271684487,
          -0.2014536368998715,
          1.0317682182611458,
          -1.2008107718275032,
          0.6417163449601327,
          2.0525571724871856,
          0.4544224835172775,
          0.8604257046342394,
          0.024338875911690164,
          0.4034582647556379,
          -0.31260916146689444,
          0.020281310347106393,
          -0.29632252607525494,
          -0.3145363114608712,
          -0.5558389308669797,
          -0.08374887468313946,
          -0.1925649721641307,
          -0.37837314814356626,
          -1.004110983807644
         ]
        },
        {
         "line": {
          "color": "rgba(55, 128, 191, 1.0)",
          "dash": "solid",
          "shape": "linear",
          "width": 1.3
         },
         "mode": "lines",
         "name": "B",
         "text": "",
         "type": "scatter",
         "x": [
          0,
          1,
          2,
          3,
          4,
          5,
          6,
          7,
          8,
          9,
          10,
          11,
          12,
          13,
          14,
          15,
          16,
          17,
          18,
          19,
          20,
          21,
          22,
          23,
          24,
          25,
          26,
          27,
          28,
          29,
          30,
          31,
          32,
          33,
          34,
          35,
          36,
          37,
          38,
          39,
          40,
          41,
          42,
          43,
          44,
          45,
          46,
          47,
          48,
          49,
          50,
          51,
          52,
          53,
          54,
          55,
          56,
          57,
          58,
          59,
          60,
          61,
          62,
          63,
          64,
          65,
          66,
          67,
          68,
          69,
          70,
          71,
          72,
          73,
          74,
          75,
          76,
          77,
          78,
          79,
          80,
          81,
          82,
          83,
          84,
          85,
          86,
          87,
          88,
          89,
          90,
          91,
          92,
          93,
          94,
          95,
          96,
          97,
          98,
          99
         ],
         "y": [
          1.429907173744965,
          -0.3362692153993021,
          -0.22403939638327913,
          -0.1062523944097891,
          0.2474881419869791,
          -2.951570498412787,
          -1.3150465437708856,
          -0.09564344114602419,
          0.7924691287634381,
          -0.11059481319784327,
          -0.9574735207257397,
          -2.7741406899349563,
          -1.0816982566045203,
          -0.7050395721831006,
          -0.030415434382019057,
          -0.4233816135656058,
          1.13409136177349,
          -0.40242588625630915,
          -0.294198850624815,
          -0.10088674274843744,
          1.0390784149843242,
          0.5165220382316772,
          1.0292362169286038,
          -0.9443881069654166,
          -0.03415047970036683,
          -1.302863193040769,
          -1.8739862933198712,
          -0.14083809321526172,
          -1.027560506025851,
          -0.19154403604307874,
          1.188705505404244,
          0.8103271790333249,
          0.27403939984770914,
          -0.7969627075630051,
          1.1289182632483334,
          -1.6358823872587878,
          -0.6503428428357034,
          -0.6587248753403122,
          -0.8986836433415368,
          -1.2910519644339522,
          0.37456483954536046,
          -2.3331353592693427,
          -1.353315814768125,
          -1.6109918954270386,
          2.574398806434323,
          -0.7419382066961051,
          1.0111811133768143,
          0.8627681851633381,
          1.0684844064238004,
          0.9584140081934572,
          -1.2724226953088429,
          0.5623348949596787,
          0.21278803036445387,
          0.6362092764330177,
          -1.1507486672395217,
          0.480023659069112,
          -1.3364127200675031,
          0.8452624019906536,
          0.2509777094027647,
          0.20317230448967902,
          -2.5580200049648996,
          0.47164544114003987,
          0.13608375887967908,
          -1.3413832491890092,
          1.0794295284681177,
          0.03791755550436143,
          2.1927622697418774,
          1.7239478391164735,
          -0.8441975536242636,
          -0.555562737221605,
          0.8962983600870705,
          1.7163996644440285,
          0.3861053154127059,
          -0.5053146823691147,
          0.6629732990578995,
          1.7291436937887452,
          -0.19791142080973972,
          -0.17758994884436066,
          0.3835728374808757,
          0.1206356970118862,
          -0.5839764747918563,
          0.6562070488071372,
          0.79818803972454,
          -1.317059527577753,
          -0.36660244714059637,
          -0.07092316904929655,
          -1.9885058041209265,
          0.36046441628701004,
          -0.3787904255840291,
          0.40687581684755036,
          -0.9740597784537262,
          -0.5963017374604368,
          1.292358219538622,
          -0.678637329096281,
          -0.11217221669830485,
          -0.556064599371359,
          -1.2917102576840802,
          0.1961856894863246,
          1.8320554131446811,
          1.1361645082224023
         ]
        },
        {
         "line": {
          "color": "rgba(50, 171, 96, 1.0)",
          "dash": "solid",
          "shape": "linear",
          "width": 1.3
         },
         "mode": "lines",
         "name": "C",
         "text": "",
         "type": "scatter",
         "x": [
          0,
          1,
          2,
          3,
          4,
          5,
          6,
          7,
          8,
          9,
          10,
          11,
          12,
          13,
          14,
          15,
          16,
          17,
          18,
          19,
          20,
          21,
          22,
          23,
          24,
          25,
          26,
          27,
          28,
          29,
          30,
          31,
          32,
          33,
          34,
          35,
          36,
          37,
          38,
          39,
          40,
          41,
          42,
          43,
          44,
          45,
          46,
          47,
          48,
          49,
          50,
          51,
          52,
          53,
          54,
          55,
          56,
          57,
          58,
          59,
          60,
          61,
          62,
          63,
          64,
          65,
          66,
          67,
          68,
          69,
          70,
          71,
          72,
          73,
          74,
          75,
          76,
          77,
          78,
          79,
          80,
          81,
          82,
          83,
          84,
          85,
          86,
          87,
          88,
          89,
          90,
          91,
          92,
          93,
          94,
          95,
          96,
          97,
          98,
          99
         ],
         "y": [
          1.497365056261028,
          -1.3652639392192893,
          -0.4633848596042667,
          -0.6554155737090046,
          -0.873403949723717,
          0.05599352265517801,
          -0.34473828248271027,
          -0.41319903909836236,
          -2.044032644851402,
          -0.3987393454406875,
          1.1597178016054088,
          -1.502703163866186,
          0.23826714360142273,
          -1.5741392475854807,
          0.7816858134640635,
          -2.142846708586097,
          -1.1859370206584845,
          0.33445280073709727,
          -0.7667894723828541,
          1.2527282906266344,
          -0.19539795589395198,
          0.7326304554079953,
          0.04444226457106558,
          -1.556251136029763,
          -0.27447090560656606,
          0.039518802829135904,
          -0.02416001405173457,
          -0.5242725573805086,
          -0.8428442369549263,
          -0.9811777369886999,
          -0.3350095463442984,
          0.990050751506994,
          0.017554043186999775,
          0.2783947893725052,
          -0.06539150267349131,
          0.5611531072387262,
          -0.5433755998816096,
          0.2877606032303694,
          -0.39623450285943856,
          0.4281403826859208,
          0.12491994104865614,
          -0.8686705362189602,
          -1.0093119510785222,
          -1.7450992786587147,
          1.2677715076129603,
          1.1909806049583975,
          0.27740851207658335,
          0.6833561525713735,
          0.4283470277056508,
          0.7913812387268874,
          -0.5557615424139913,
          -0.21904396042115679,
          0.08964190646166481,
          0.021193571224057968,
          0.6050834546942213,
          -1.1619352848327547,
          1.0143367637627896,
          0.6639951131808542,
          1.018881240687566,
          0.9919337469405568,
          -1.3286952823498934,
          0.0887076694256689,
          0.8409303174685794,
          0.04430809594242096,
          -1.1306458993693478,
          2.0736318396393814,
          -0.14677037462178721,
          -1.3931223572680242,
          -2.0547424091586253,
          0.6128352101220416,
          -1.3654986018914061,
          -0.4736373234472714,
          1.5474841315174899,
          1.4023528581155102,
          0.2671475960322153,
          1.2783022300586027,
          -1.5729061331608103,
          -1.263124573100888,
          -0.6798291541866253,
          -0.07536756430411999,
          0.3387490431114079,
          1.7316981530795819,
          -0.09149845946313058,
          0.8606384957577545,
          -0.04059028826209647,
          -0.13740954203864353,
          -0.617304623092329,
          2.0731238475848937,
          -0.820298203736963,
          -0.26698591194207655,
          0.7321591287947562,
          -0.821972232165776,
          -0.6262152567039138,
          -0.08896112446005197,
          -2.5427473812318784,
          0.1546583782646699,
          -0.28721326963380284,
          0.8187876780277029,
          -0.4270266101320868,
          0.27999194420218215
         ]
        },
        {
         "line": {
          "color": "rgba(128, 0, 128, 1.0)",
          "dash": "solid",
          "shape": "linear",
          "width": 1.3
         },
         "mode": "lines",
         "name": "D",
         "text": "",
         "type": "scatter",
         "x": [
          0,
          1,
          2,
          3,
          4,
          5,
          6,
          7,
          8,
          9,
          10,
          11,
          12,
          13,
          14,
          15,
          16,
          17,
          18,
          19,
          20,
          21,
          22,
          23,
          24,
          25,
          26,
          27,
          28,
          29,
          30,
          31,
          32,
          33,
          34,
          35,
          36,
          37,
          38,
          39,
          40,
          41,
          42,
          43,
          44,
          45,
          46,
          47,
          48,
          49,
          50,
          51,
          52,
          53,
          54,
          55,
          56,
          57,
          58,
          59,
          60,
          61,
          62,
          63,
          64,
          65,
          66,
          67,
          68,
          69,
          70,
          71,
          72,
          73,
          74,
          75,
          76,
          77,
          78,
          79,
          80,
          81,
          82,
          83,
          84,
          85,
          86,
          87,
          88,
          89,
          90,
          91,
          92,
          93,
          94,
          95,
          96,
          97,
          98,
          99
         ],
         "y": [
          -0.7607516732532427,
          -1.254568488051787,
          -0.8788828748036107,
          -0.13665063756100818,
          0.07474348764667796,
          -0.3100043705116922,
          -2.0463341136143995,
          0.640808766840854,
          1.224538129726818,
          1.0886660890880229,
          0.4049848114617264,
          0.7485515644819034,
          -0.46248600223967307,
          0.9533718049057213,
          -0.3695657385477109,
          0.8832340804185418,
          0.9052960323805491,
          -0.3853489432776442,
          1.3159244798509053,
          -0.028767564722662828,
          0.06379612112194598,
          -0.5699264163729659,
          0.32702586302219483,
          0.08779247487238971,
          1.2860732684779363,
          2.0938721257990114,
          0.10641036516130699,
          -0.43614763748954455,
          -0.15454712915480173,
          1.6917422947637824,
          2.069900076611023,
          0.2728381375704959,
          0.8982963476299403,
          1.1626845775151418,
          -1.8514944212075175,
          0.5097088665460885,
          0.301289072860881,
          -0.9215289721219797,
          0.5195919347510675,
          0.6283349774206288,
          0.14180613856997362,
          -0.6596331767430526,
          -0.43804908361382316,
          -1.161466129764636,
          -0.3773059718348686,
          -2.140572355581783,
          -0.19500741390398052,
          -0.5863195712554702,
          0.9506076263372776,
          0.05794084130328615,
          1.114608481540598,
          1.0598559581825697,
          -1.5876844271788813,
          -0.14739138729617407,
          -0.580431636041587,
          -0.33284940498071774,
          1.0629167254062288,
          0.38472616162999584,
          -0.9184640525607392,
          0.8882962211984797,
          -1.014539375075398,
          0.37548732970143817,
          0.5803058105441924,
          0.4429555473857757,
          -1.2144704173369645,
          0.13144813153609372,
          -0.8080736698792067,
          0.8897350266785666,
          1.1618872824269493,
          -0.38335647093100017,
          -0.2727693174039654,
          -0.25018635867093286,
          1.1484717709362309,
          0.49378345946541696,
          1.101291396885938,
          -0.49177164389114286,
          -1.6401018997496926,
          1.277848986380219,
          0.12810121345704542,
          -0.9889079946366958,
          -0.5251123223013637,
          1.1599073316060275,
          0.5708057586905046,
          -0.35367070891227775,
          0.8950168639617084,
          -0.9437864888126327,
          -0.46412027474338197,
          -1.5511026925124407,
          -0.2761019732505129,
          0.15029292622478768,
          1.4277411536710876,
          2.4147463451354967,
          -0.08801777586421945,
          -0.6338679739225697,
          -0.14945606892838023,
          0.6667328009341639,
          -0.3684321797614924,
          -0.9142366078263781,
          -0.4271860199935734,
          2.0408302414506343
         ]
        }
       ],
       "layout": {
        "legend": {
         "bgcolor": "#F5F6F9",
         "font": {
          "color": "#4D5663"
         }
        },
        "paper_bgcolor": "#F5F6F9",
        "plot_bgcolor": "#F5F6F9",
        "template": {
         "data": {
          "bar": [
           {
            "error_x": {
             "color": "#2a3f5f"
            },
            "error_y": {
             "color": "#2a3f5f"
            },
            "marker": {
             "line": {
              "color": "#E5ECF6",
              "width": 0.5
             },
             "pattern": {
              "fillmode": "overlay",
              "size": 10,
              "solidity": 0.2
             }
            },
            "type": "bar"
           }
          ],
          "barpolar": [
           {
            "marker": {
             "line": {
              "color": "#E5ECF6",
              "width": 0.5
             },
             "pattern": {
              "fillmode": "overlay",
              "size": 10,
              "solidity": 0.2
             }
            },
            "type": "barpolar"
           }
          ],
          "carpet": [
           {
            "aaxis": {
             "endlinecolor": "#2a3f5f",
             "gridcolor": "white",
             "linecolor": "white",
             "minorgridcolor": "white",
             "startlinecolor": "#2a3f5f"
            },
            "baxis": {
             "endlinecolor": "#2a3f5f",
             "gridcolor": "white",
             "linecolor": "white",
             "minorgridcolor": "white",
             "startlinecolor": "#2a3f5f"
            },
            "type": "carpet"
           }
          ],
          "choropleth": [
           {
            "colorbar": {
             "outlinewidth": 0,
             "ticks": ""
            },
            "type": "choropleth"
           }
          ],
          "contour": [
           {
            "colorbar": {
             "outlinewidth": 0,
             "ticks": ""
            },
            "colorscale": [
             [
              0,
              "#0d0887"
             ],
             [
              0.1111111111111111,
              "#46039f"
             ],
             [
              0.2222222222222222,
              "#7201a8"
             ],
             [
              0.3333333333333333,
              "#9c179e"
             ],
             [
              0.4444444444444444,
              "#bd3786"
             ],
             [
              0.5555555555555556,
              "#d8576b"
             ],
             [
              0.6666666666666666,
              "#ed7953"
             ],
             [
              0.7777777777777778,
              "#fb9f3a"
             ],
             [
              0.8888888888888888,
              "#fdca26"
             ],
             [
              1,
              "#f0f921"
             ]
            ],
            "type": "contour"
           }
          ],
          "contourcarpet": [
           {
            "colorbar": {
             "outlinewidth": 0,
             "ticks": ""
            },
            "type": "contourcarpet"
           }
          ],
          "heatmap": [
           {
            "colorbar": {
             "outlinewidth": 0,
             "ticks": ""
            },
            "colorscale": [
             [
              0,
              "#0d0887"
             ],
             [
              0.1111111111111111,
              "#46039f"
             ],
             [
              0.2222222222222222,
              "#7201a8"
             ],
             [
              0.3333333333333333,
              "#9c179e"
             ],
             [
              0.4444444444444444,
              "#bd3786"
             ],
             [
              0.5555555555555556,
              "#d8576b"
             ],
             [
              0.6666666666666666,
              "#ed7953"
             ],
             [
              0.7777777777777778,
              "#fb9f3a"
             ],
             [
              0.8888888888888888,
              "#fdca26"
             ],
             [
              1,
              "#f0f921"
             ]
            ],
            "type": "heatmap"
           }
          ],
          "heatmapgl": [
           {
            "colorbar": {
             "outlinewidth": 0,
             "ticks": ""
            },
            "colorscale": [
             [
              0,
              "#0d0887"
             ],
             [
              0.1111111111111111,
              "#46039f"
             ],
             [
              0.2222222222222222,
              "#7201a8"
             ],
             [
              0.3333333333333333,
              "#9c179e"
             ],
             [
              0.4444444444444444,
              "#bd3786"
             ],
             [
              0.5555555555555556,
              "#d8576b"
             ],
             [
              0.6666666666666666,
              "#ed7953"
             ],
             [
              0.7777777777777778,
              "#fb9f3a"
             ],
             [
              0.8888888888888888,
              "#fdca26"
             ],
             [
              1,
              "#f0f921"
             ]
            ],
            "type": "heatmapgl"
           }
          ],
          "histogram": [
           {
            "marker": {
             "pattern": {
              "fillmode": "overlay",
              "size": 10,
              "solidity": 0.2
             }
            },
            "type": "histogram"
           }
          ],
          "histogram2d": [
           {
            "colorbar": {
             "outlinewidth": 0,
             "ticks": ""
            },
            "colorscale": [
             [
              0,
              "#0d0887"
             ],
             [
              0.1111111111111111,
              "#46039f"
             ],
             [
              0.2222222222222222,
              "#7201a8"
             ],
             [
              0.3333333333333333,
              "#9c179e"
             ],
             [
              0.4444444444444444,
              "#bd3786"
             ],
             [
              0.5555555555555556,
              "#d8576b"
             ],
             [
              0.6666666666666666,
              "#ed7953"
             ],
             [
              0.7777777777777778,
              "#fb9f3a"
             ],
             [
              0.8888888888888888,
              "#fdca26"
             ],
             [
              1,
              "#f0f921"
             ]
            ],
            "type": "histogram2d"
           }
          ],
          "histogram2dcontour": [
           {
            "colorbar": {
             "outlinewidth": 0,
             "ticks": ""
            },
            "colorscale": [
             [
              0,
              "#0d0887"
             ],
             [
              0.1111111111111111,
              "#46039f"
             ],
             [
              0.2222222222222222,
              "#7201a8"
             ],
             [
              0.3333333333333333,
              "#9c179e"
             ],
             [
              0.4444444444444444,
              "#bd3786"
             ],
             [
              0.5555555555555556,
              "#d8576b"
             ],
             [
              0.6666666666666666,
              "#ed7953"
             ],
             [
              0.7777777777777778,
              "#fb9f3a"
             ],
             [
              0.8888888888888888,
              "#fdca26"
             ],
             [
              1,
              "#f0f921"
             ]
            ],
            "type": "histogram2dcontour"
           }
          ],
          "mesh3d": [
           {
            "colorbar": {
             "outlinewidth": 0,
             "ticks": ""
            },
            "type": "mesh3d"
           }
          ],
          "parcoords": [
           {
            "line": {
             "colorbar": {
              "outlinewidth": 0,
              "ticks": ""
             }
            },
            "type": "parcoords"
           }
          ],
          "pie": [
           {
            "automargin": true,
            "type": "pie"
           }
          ],
          "scatter": [
           {
            "marker": {
             "colorbar": {
              "outlinewidth": 0,
              "ticks": ""
             }
            },
            "type": "scatter"
           }
          ],
          "scatter3d": [
           {
            "line": {
             "colorbar": {
              "outlinewidth": 0,
              "ticks": ""
             }
            },
            "marker": {
             "colorbar": {
              "outlinewidth": 0,
              "ticks": ""
             }
            },
            "type": "scatter3d"
           }
          ],
          "scattercarpet": [
           {
            "marker": {
             "colorbar": {
              "outlinewidth": 0,
              "ticks": ""
             }
            },
            "type": "scattercarpet"
           }
          ],
          "scattergeo": [
           {
            "marker": {
             "colorbar": {
              "outlinewidth": 0,
              "ticks": ""
             }
            },
            "type": "scattergeo"
           }
          ],
          "scattergl": [
           {
            "marker": {
             "colorbar": {
              "outlinewidth": 0,
              "ticks": ""
             }
            },
            "type": "scattergl"
           }
          ],
          "scattermapbox": [
           {
            "marker": {
             "colorbar": {
              "outlinewidth": 0,
              "ticks": ""
             }
            },
            "type": "scattermapbox"
           }
          ],
          "scatterpolar": [
           {
            "marker": {
             "colorbar": {
              "outlinewidth": 0,
              "ticks": ""
             }
            },
            "type": "scatterpolar"
           }
          ],
          "scatterpolargl": [
           {
            "marker": {
             "colorbar": {
              "outlinewidth": 0,
              "ticks": ""
             }
            },
            "type": "scatterpolargl"
           }
          ],
          "scatterternary": [
           {
            "marker": {
             "colorbar": {
              "outlinewidth": 0,
              "ticks": ""
             }
            },
            "type": "scatterternary"
           }
          ],
          "surface": [
           {
            "colorbar": {
             "outlinewidth": 0,
             "ticks": ""
            },
            "colorscale": [
             [
              0,
              "#0d0887"
             ],
             [
              0.1111111111111111,
              "#46039f"
             ],
             [
              0.2222222222222222,
              "#7201a8"
             ],
             [
              0.3333333333333333,
              "#9c179e"
             ],
             [
              0.4444444444444444,
              "#bd3786"
             ],
             [
              0.5555555555555556,
              "#d8576b"
             ],
             [
              0.6666666666666666,
              "#ed7953"
             ],
             [
              0.7777777777777778,
              "#fb9f3a"
             ],
             [
              0.8888888888888888,
              "#fdca26"
             ],
             [
              1,
              "#f0f921"
             ]
            ],
            "type": "surface"
           }
          ],
          "table": [
           {
            "cells": {
             "fill": {
              "color": "#EBF0F8"
             },
             "line": {
              "color": "white"
             }
            },
            "header": {
             "fill": {
              "color": "#C8D4E3"
             },
             "line": {
              "color": "white"
             }
            },
            "type": "table"
           }
          ]
         },
         "layout": {
          "annotationdefaults": {
           "arrowcolor": "#2a3f5f",
           "arrowhead": 0,
           "arrowwidth": 1
          },
          "autotypenumbers": "strict",
          "coloraxis": {
           "colorbar": {
            "outlinewidth": 0,
            "ticks": ""
           }
          },
          "colorscale": {
           "diverging": [
            [
             0,
             "#8e0152"
            ],
            [
             0.1,
             "#c51b7d"
            ],
            [
             0.2,
             "#de77ae"
            ],
            [
             0.3,
             "#f1b6da"
            ],
            [
             0.4,
             "#fde0ef"
            ],
            [
             0.5,
             "#f7f7f7"
            ],
            [
             0.6,
             "#e6f5d0"
            ],
            [
             0.7,
             "#b8e186"
            ],
            [
             0.8,
             "#7fbc41"
            ],
            [
             0.9,
             "#4d9221"
            ],
            [
             1,
             "#276419"
            ]
           ],
           "sequential": [
            [
             0,
             "#0d0887"
            ],
            [
             0.1111111111111111,
             "#46039f"
            ],
            [
             0.2222222222222222,
             "#7201a8"
            ],
            [
             0.3333333333333333,
             "#9c179e"
            ],
            [
             0.4444444444444444,
             "#bd3786"
            ],
            [
             0.5555555555555556,
             "#d8576b"
            ],
            [
             0.6666666666666666,
             "#ed7953"
            ],
            [
             0.7777777777777778,
             "#fb9f3a"
            ],
            [
             0.8888888888888888,
             "#fdca26"
            ],
            [
             1,
             "#f0f921"
            ]
           ],
           "sequentialminus": [
            [
             0,
             "#0d0887"
            ],
            [
             0.1111111111111111,
             "#46039f"
            ],
            [
             0.2222222222222222,
             "#7201a8"
            ],
            [
             0.3333333333333333,
             "#9c179e"
            ],
            [
             0.4444444444444444,
             "#bd3786"
            ],
            [
             0.5555555555555556,
             "#d8576b"
            ],
            [
             0.6666666666666666,
             "#ed7953"
            ],
            [
             0.7777777777777778,
             "#fb9f3a"
            ],
            [
             0.8888888888888888,
             "#fdca26"
            ],
            [
             1,
             "#f0f921"
            ]
           ]
          },
          "colorway": [
           "#636efa",
           "#EF553B",
           "#00cc96",
           "#ab63fa",
           "#FFA15A",
           "#19d3f3",
           "#FF6692",
           "#B6E880",
           "#FF97FF",
           "#FECB52"
          ],
          "font": {
           "color": "#2a3f5f"
          },
          "geo": {
           "bgcolor": "white",
           "lakecolor": "white",
           "landcolor": "#E5ECF6",
           "showlakes": true,
           "showland": true,
           "subunitcolor": "white"
          },
          "hoverlabel": {
           "align": "left"
          },
          "hovermode": "closest",
          "mapbox": {
           "style": "light"
          },
          "paper_bgcolor": "white",
          "plot_bgcolor": "#E5ECF6",
          "polar": {
           "angularaxis": {
            "gridcolor": "white",
            "linecolor": "white",
            "ticks": ""
           },
           "bgcolor": "#E5ECF6",
           "radialaxis": {
            "gridcolor": "white",
            "linecolor": "white",
            "ticks": ""
           }
          },
          "scene": {
           "xaxis": {
            "backgroundcolor": "#E5ECF6",
            "gridcolor": "white",
            "gridwidth": 2,
            "linecolor": "white",
            "showbackground": true,
            "ticks": "",
            "zerolinecolor": "white"
           },
           "yaxis": {
            "backgroundcolor": "#E5ECF6",
            "gridcolor": "white",
            "gridwidth": 2,
            "linecolor": "white",
            "showbackground": true,
            "ticks": "",
            "zerolinecolor": "white"
           },
           "zaxis": {
            "backgroundcolor": "#E5ECF6",
            "gridcolor": "white",
            "gridwidth": 2,
            "linecolor": "white",
            "showbackground": true,
            "ticks": "",
            "zerolinecolor": "white"
           }
          },
          "shapedefaults": {
           "line": {
            "color": "#2a3f5f"
           }
          },
          "ternary": {
           "aaxis": {
            "gridcolor": "white",
            "linecolor": "white",
            "ticks": ""
           },
           "baxis": {
            "gridcolor": "white",
            "linecolor": "white",
            "ticks": ""
           },
           "bgcolor": "#E5ECF6",
           "caxis": {
            "gridcolor": "white",
            "linecolor": "white",
            "ticks": ""
           }
          },
          "title": {
           "x": 0.05
          },
          "xaxis": {
           "automargin": true,
           "gridcolor": "white",
           "linecolor": "white",
           "ticks": "",
           "title": {
            "standoff": 15
           },
           "zerolinecolor": "white",
           "zerolinewidth": 2
          },
          "yaxis": {
           "automargin": true,
           "gridcolor": "white",
           "linecolor": "white",
           "ticks": "",
           "title": {
            "standoff": 15
           },
           "zerolinecolor": "white",
           "zerolinewidth": 2
          }
         }
        },
        "title": {
         "font": {
          "color": "#4D5663"
         }
        },
        "xaxis": {
         "gridcolor": "#E1E5ED",
         "showgrid": true,
         "tickfont": {
          "color": "#4D5663"
         },
         "title": {
          "font": {
           "color": "#4D5663"
          },
          "text": ""
         },
         "zerolinecolor": "#E1E5ED"
        },
        "yaxis": {
         "gridcolor": "#E1E5ED",
         "showgrid": true,
         "tickfont": {
          "color": "#4D5663"
         },
         "title": {
          "font": {
           "color": "#4D5663"
          },
          "text": ""
         },
         "zerolinecolor": "#E1E5ED"
        }
       }
      },
      "text/html": [
       "<div>                            <div id=\"5289e31b-e313-4b2d-9872-0d365c59f6ec\" class=\"plotly-graph-div\" style=\"height:525px; width:100%;\"></div>            <script type=\"text/javascript\">                require([\"plotly\"], function(Plotly) {                    window.PLOTLYENV=window.PLOTLYENV || {};\n",
       "                    window.PLOTLYENV.BASE_URL='https://plot.ly';                                    if (document.getElementById(\"5289e31b-e313-4b2d-9872-0d365c59f6ec\")) {                    Plotly.newPlot(                        \"5289e31b-e313-4b2d-9872-0d365c59f6ec\",                        [{\"line\":{\"color\":\"rgba(255, 153, 51, 1.0)\",\"dash\":\"solid\",\"shape\":\"linear\",\"width\":1.3},\"mode\":\"lines\",\"name\":\"A\",\"text\":\"\",\"type\":\"scatter\",\"x\":[0,1,2,3,4,5,6,7,8,9,10,11,12,13,14,15,16,17,18,19,20,21,22,23,24,25,26,27,28,29,30,31,32,33,34,35,36,37,38,39,40,41,42,43,44,45,46,47,48,49,50,51,52,53,54,55,56,57,58,59,60,61,62,63,64,65,66,67,68,69,70,71,72,73,74,75,76,77,78,79,80,81,82,83,84,85,86,87,88,89,90,91,92,93,94,95,96,97,98,99],\"y\":[-1.252614793086047,-0.05970334235749016,1.1861410783422972,-0.08761128715742864,0.07950640464429827,1.2280562668624604,-1.3278069263914265,-1.363119785987805,-1.1386232623492012,-0.8393437156317276,-0.4541080744300972,2.0343495796888282,-3.09049460215665,0.16073727481802083,-0.4197095473149091,-0.2387478469942015,-0.059737805366917265,0.637232411048166,-0.16098446078613787,-0.39044693665236124,-0.18335785148903647,-1.4665474154877824,-0.9467091070463365,-1.363086400891611,1.1419161233127382,-0.8990356765986693,-0.47877126318615904,-0.08723595655352805,0.28836519048925785,0.4535211994873111,0.6072750672172921,0.7920328635238127,0.9210688520723921,0.8431813681496602,0.14682019235661373,-1.1829671348247588,-1.0438065432704076,1.4143243674487795,0.709957119062226,-0.6850164620237267,-1.0010708187907489,-0.34860627566652763,1.9900831507298398,0.18725017639146913,-0.6255124774152,-1.6017317227276038,0.885042918633726,0.7428077103813263,-0.8924785069045459,-1.3308889418400802,3.003745396974862,0.3371032077767076,0.46679193086201903,0.36616511575153876,-0.416335845412642,1.5194644015341876,0.5211470076410264,-1.5036153475796188,-0.26626662937057033,0.6978691732337882,-0.09511084342263629,0.30075260301102774,0.03197028510486337,1.4282640809936629,0.33128440588935226,0.8760426680096519,-0.04282550929148523,-1.4869944424905852,1.1016632292962907,-1.432616353521275,1.5575716683045684,-0.3201993175852064,0.3085393750442976,-1.6767132815810286,-0.43613840129391807,0.5444947534040682,-0.9564608279120181,-1.2149259364052323,0.2619339163954011,1.1510318594062585,-1.4935781096730616,-1.5364588271684487,-0.2014536368998715,1.0317682182611458,-1.2008107718275032,0.6417163449601327,2.0525571724871856,0.4544224835172775,0.8604257046342394,0.024338875911690164,0.4034582647556379,-0.31260916146689444,0.020281310347106393,-0.29632252607525494,-0.3145363114608712,-0.5558389308669797,-0.08374887468313946,-0.1925649721641307,-0.37837314814356626,-1.004110983807644]},{\"line\":{\"color\":\"rgba(55, 128, 191, 1.0)\",\"dash\":\"solid\",\"shape\":\"linear\",\"width\":1.3},\"mode\":\"lines\",\"name\":\"B\",\"text\":\"\",\"type\":\"scatter\",\"x\":[0,1,2,3,4,5,6,7,8,9,10,11,12,13,14,15,16,17,18,19,20,21,22,23,24,25,26,27,28,29,30,31,32,33,34,35,36,37,38,39,40,41,42,43,44,45,46,47,48,49,50,51,52,53,54,55,56,57,58,59,60,61,62,63,64,65,66,67,68,69,70,71,72,73,74,75,76,77,78,79,80,81,82,83,84,85,86,87,88,89,90,91,92,93,94,95,96,97,98,99],\"y\":[1.429907173744965,-0.3362692153993021,-0.22403939638327913,-0.1062523944097891,0.2474881419869791,-2.951570498412787,-1.3150465437708856,-0.09564344114602419,0.7924691287634381,-0.11059481319784327,-0.9574735207257397,-2.7741406899349563,-1.0816982566045203,-0.7050395721831006,-0.030415434382019057,-0.4233816135656058,1.13409136177349,-0.40242588625630915,-0.294198850624815,-0.10088674274843744,1.0390784149843242,0.5165220382316772,1.0292362169286038,-0.9443881069654166,-0.03415047970036683,-1.302863193040769,-1.8739862933198712,-0.14083809321526172,-1.027560506025851,-0.19154403604307874,1.188705505404244,0.8103271790333249,0.27403939984770914,-0.7969627075630051,1.1289182632483334,-1.6358823872587878,-0.6503428428357034,-0.6587248753403122,-0.8986836433415368,-1.2910519644339522,0.37456483954536046,-2.3331353592693427,-1.353315814768125,-1.6109918954270386,2.574398806434323,-0.7419382066961051,1.0111811133768143,0.8627681851633381,1.0684844064238004,0.9584140081934572,-1.2724226953088429,0.5623348949596787,0.21278803036445387,0.6362092764330177,-1.1507486672395217,0.480023659069112,-1.3364127200675031,0.8452624019906536,0.2509777094027647,0.20317230448967902,-2.5580200049648996,0.47164544114003987,0.13608375887967908,-1.3413832491890092,1.0794295284681177,0.03791755550436143,2.1927622697418774,1.7239478391164735,-0.8441975536242636,-0.555562737221605,0.8962983600870705,1.7163996644440285,0.3861053154127059,-0.5053146823691147,0.6629732990578995,1.7291436937887452,-0.19791142080973972,-0.17758994884436066,0.3835728374808757,0.1206356970118862,-0.5839764747918563,0.6562070488071372,0.79818803972454,-1.317059527577753,-0.36660244714059637,-0.07092316904929655,-1.9885058041209265,0.36046441628701004,-0.3787904255840291,0.40687581684755036,-0.9740597784537262,-0.5963017374604368,1.292358219538622,-0.678637329096281,-0.11217221669830485,-0.556064599371359,-1.2917102576840802,0.1961856894863246,1.8320554131446811,1.1361645082224023]},{\"line\":{\"color\":\"rgba(50, 171, 96, 1.0)\",\"dash\":\"solid\",\"shape\":\"linear\",\"width\":1.3},\"mode\":\"lines\",\"name\":\"C\",\"text\":\"\",\"type\":\"scatter\",\"x\":[0,1,2,3,4,5,6,7,8,9,10,11,12,13,14,15,16,17,18,19,20,21,22,23,24,25,26,27,28,29,30,31,32,33,34,35,36,37,38,39,40,41,42,43,44,45,46,47,48,49,50,51,52,53,54,55,56,57,58,59,60,61,62,63,64,65,66,67,68,69,70,71,72,73,74,75,76,77,78,79,80,81,82,83,84,85,86,87,88,89,90,91,92,93,94,95,96,97,98,99],\"y\":[1.497365056261028,-1.3652639392192893,-0.4633848596042667,-0.6554155737090046,-0.873403949723717,0.05599352265517801,-0.34473828248271027,-0.41319903909836236,-2.044032644851402,-0.3987393454406875,1.1597178016054088,-1.502703163866186,0.23826714360142273,-1.5741392475854807,0.7816858134640635,-2.142846708586097,-1.1859370206584845,0.33445280073709727,-0.7667894723828541,1.2527282906266344,-0.19539795589395198,0.7326304554079953,0.04444226457106558,-1.556251136029763,-0.27447090560656606,0.039518802829135904,-0.02416001405173457,-0.5242725573805086,-0.8428442369549263,-0.9811777369886999,-0.3350095463442984,0.990050751506994,0.017554043186999775,0.2783947893725052,-0.06539150267349131,0.5611531072387262,-0.5433755998816096,0.2877606032303694,-0.39623450285943856,0.4281403826859208,0.12491994104865614,-0.8686705362189602,-1.0093119510785222,-1.7450992786587147,1.2677715076129603,1.1909806049583975,0.27740851207658335,0.6833561525713735,0.4283470277056508,0.7913812387268874,-0.5557615424139913,-0.21904396042115679,0.08964190646166481,0.021193571224057968,0.6050834546942213,-1.1619352848327547,1.0143367637627896,0.6639951131808542,1.018881240687566,0.9919337469405568,-1.3286952823498934,0.0887076694256689,0.8409303174685794,0.04430809594242096,-1.1306458993693478,2.0736318396393814,-0.14677037462178721,-1.3931223572680242,-2.0547424091586253,0.6128352101220416,-1.3654986018914061,-0.4736373234472714,1.5474841315174899,1.4023528581155102,0.2671475960322153,1.2783022300586027,-1.5729061331608103,-1.263124573100888,-0.6798291541866253,-0.07536756430411999,0.3387490431114079,1.7316981530795819,-0.09149845946313058,0.8606384957577545,-0.04059028826209647,-0.13740954203864353,-0.617304623092329,2.0731238475848937,-0.820298203736963,-0.26698591194207655,0.7321591287947562,-0.821972232165776,-0.6262152567039138,-0.08896112446005197,-2.5427473812318784,0.1546583782646699,-0.28721326963380284,0.8187876780277029,-0.4270266101320868,0.27999194420218215]},{\"line\":{\"color\":\"rgba(128, 0, 128, 1.0)\",\"dash\":\"solid\",\"shape\":\"linear\",\"width\":1.3},\"mode\":\"lines\",\"name\":\"D\",\"text\":\"\",\"type\":\"scatter\",\"x\":[0,1,2,3,4,5,6,7,8,9,10,11,12,13,14,15,16,17,18,19,20,21,22,23,24,25,26,27,28,29,30,31,32,33,34,35,36,37,38,39,40,41,42,43,44,45,46,47,48,49,50,51,52,53,54,55,56,57,58,59,60,61,62,63,64,65,66,67,68,69,70,71,72,73,74,75,76,77,78,79,80,81,82,83,84,85,86,87,88,89,90,91,92,93,94,95,96,97,98,99],\"y\":[-0.7607516732532427,-1.254568488051787,-0.8788828748036107,-0.13665063756100818,0.07474348764667796,-0.3100043705116922,-2.0463341136143995,0.640808766840854,1.224538129726818,1.0886660890880229,0.4049848114617264,0.7485515644819034,-0.46248600223967307,0.9533718049057213,-0.3695657385477109,0.8832340804185418,0.9052960323805491,-0.3853489432776442,1.3159244798509053,-0.028767564722662828,0.06379612112194598,-0.5699264163729659,0.32702586302219483,0.08779247487238971,1.2860732684779363,2.0938721257990114,0.10641036516130699,-0.43614763748954455,-0.15454712915480173,1.6917422947637824,2.069900076611023,0.2728381375704959,0.8982963476299403,1.1626845775151418,-1.8514944212075175,0.5097088665460885,0.301289072860881,-0.9215289721219797,0.5195919347510675,0.6283349774206288,0.14180613856997362,-0.6596331767430526,-0.43804908361382316,-1.161466129764636,-0.3773059718348686,-2.140572355581783,-0.19500741390398052,-0.5863195712554702,0.9506076263372776,0.05794084130328615,1.114608481540598,1.0598559581825697,-1.5876844271788813,-0.14739138729617407,-0.580431636041587,-0.33284940498071774,1.0629167254062288,0.38472616162999584,-0.9184640525607392,0.8882962211984797,-1.014539375075398,0.37548732970143817,0.5803058105441924,0.4429555473857757,-1.2144704173369645,0.13144813153609372,-0.8080736698792067,0.8897350266785666,1.1618872824269493,-0.38335647093100017,-0.2727693174039654,-0.25018635867093286,1.1484717709362309,0.49378345946541696,1.101291396885938,-0.49177164389114286,-1.6401018997496926,1.277848986380219,0.12810121345704542,-0.9889079946366958,-0.5251123223013637,1.1599073316060275,0.5708057586905046,-0.35367070891227775,0.8950168639617084,-0.9437864888126327,-0.46412027474338197,-1.5511026925124407,-0.2761019732505129,0.15029292622478768,1.4277411536710876,2.4147463451354967,-0.08801777586421945,-0.6338679739225697,-0.14945606892838023,0.6667328009341639,-0.3684321797614924,-0.9142366078263781,-0.4271860199935734,2.0408302414506343]}],                        {\"legend\":{\"bgcolor\":\"#F5F6F9\",\"font\":{\"color\":\"#4D5663\"}},\"paper_bgcolor\":\"#F5F6F9\",\"plot_bgcolor\":\"#F5F6F9\",\"template\":{\"data\":{\"bar\":[{\"error_x\":{\"color\":\"#2a3f5f\"},\"error_y\":{\"color\":\"#2a3f5f\"},\"marker\":{\"line\":{\"color\":\"#E5ECF6\",\"width\":0.5},\"pattern\":{\"fillmode\":\"overlay\",\"size\":10,\"solidity\":0.2}},\"type\":\"bar\"}],\"barpolar\":[{\"marker\":{\"line\":{\"color\":\"#E5ECF6\",\"width\":0.5},\"pattern\":{\"fillmode\":\"overlay\",\"size\":10,\"solidity\":0.2}},\"type\":\"barpolar\"}],\"carpet\":[{\"aaxis\":{\"endlinecolor\":\"#2a3f5f\",\"gridcolor\":\"white\",\"linecolor\":\"white\",\"minorgridcolor\":\"white\",\"startlinecolor\":\"#2a3f5f\"},\"baxis\":{\"endlinecolor\":\"#2a3f5f\",\"gridcolor\":\"white\",\"linecolor\":\"white\",\"minorgridcolor\":\"white\",\"startlinecolor\":\"#2a3f5f\"},\"type\":\"carpet\"}],\"choropleth\":[{\"colorbar\":{\"outlinewidth\":0,\"ticks\":\"\"},\"type\":\"choropleth\"}],\"contour\":[{\"colorbar\":{\"outlinewidth\":0,\"ticks\":\"\"},\"colorscale\":[[0.0,\"#0d0887\"],[0.1111111111111111,\"#46039f\"],[0.2222222222222222,\"#7201a8\"],[0.3333333333333333,\"#9c179e\"],[0.4444444444444444,\"#bd3786\"],[0.5555555555555556,\"#d8576b\"],[0.6666666666666666,\"#ed7953\"],[0.7777777777777778,\"#fb9f3a\"],[0.8888888888888888,\"#fdca26\"],[1.0,\"#f0f921\"]],\"type\":\"contour\"}],\"contourcarpet\":[{\"colorbar\":{\"outlinewidth\":0,\"ticks\":\"\"},\"type\":\"contourcarpet\"}],\"heatmap\":[{\"colorbar\":{\"outlinewidth\":0,\"ticks\":\"\"},\"colorscale\":[[0.0,\"#0d0887\"],[0.1111111111111111,\"#46039f\"],[0.2222222222222222,\"#7201a8\"],[0.3333333333333333,\"#9c179e\"],[0.4444444444444444,\"#bd3786\"],[0.5555555555555556,\"#d8576b\"],[0.6666666666666666,\"#ed7953\"],[0.7777777777777778,\"#fb9f3a\"],[0.8888888888888888,\"#fdca26\"],[1.0,\"#f0f921\"]],\"type\":\"heatmap\"}],\"heatmapgl\":[{\"colorbar\":{\"outlinewidth\":0,\"ticks\":\"\"},\"colorscale\":[[0.0,\"#0d0887\"],[0.1111111111111111,\"#46039f\"],[0.2222222222222222,\"#7201a8\"],[0.3333333333333333,\"#9c179e\"],[0.4444444444444444,\"#bd3786\"],[0.5555555555555556,\"#d8576b\"],[0.6666666666666666,\"#ed7953\"],[0.7777777777777778,\"#fb9f3a\"],[0.8888888888888888,\"#fdca26\"],[1.0,\"#f0f921\"]],\"type\":\"heatmapgl\"}],\"histogram\":[{\"marker\":{\"pattern\":{\"fillmode\":\"overlay\",\"size\":10,\"solidity\":0.2}},\"type\":\"histogram\"}],\"histogram2d\":[{\"colorbar\":{\"outlinewidth\":0,\"ticks\":\"\"},\"colorscale\":[[0.0,\"#0d0887\"],[0.1111111111111111,\"#46039f\"],[0.2222222222222222,\"#7201a8\"],[0.3333333333333333,\"#9c179e\"],[0.4444444444444444,\"#bd3786\"],[0.5555555555555556,\"#d8576b\"],[0.6666666666666666,\"#ed7953\"],[0.7777777777777778,\"#fb9f3a\"],[0.8888888888888888,\"#fdca26\"],[1.0,\"#f0f921\"]],\"type\":\"histogram2d\"}],\"histogram2dcontour\":[{\"colorbar\":{\"outlinewidth\":0,\"ticks\":\"\"},\"colorscale\":[[0.0,\"#0d0887\"],[0.1111111111111111,\"#46039f\"],[0.2222222222222222,\"#7201a8\"],[0.3333333333333333,\"#9c179e\"],[0.4444444444444444,\"#bd3786\"],[0.5555555555555556,\"#d8576b\"],[0.6666666666666666,\"#ed7953\"],[0.7777777777777778,\"#fb9f3a\"],[0.8888888888888888,\"#fdca26\"],[1.0,\"#f0f921\"]],\"type\":\"histogram2dcontour\"}],\"mesh3d\":[{\"colorbar\":{\"outlinewidth\":0,\"ticks\":\"\"},\"type\":\"mesh3d\"}],\"parcoords\":[{\"line\":{\"colorbar\":{\"outlinewidth\":0,\"ticks\":\"\"}},\"type\":\"parcoords\"}],\"pie\":[{\"automargin\":true,\"type\":\"pie\"}],\"scatter\":[{\"marker\":{\"colorbar\":{\"outlinewidth\":0,\"ticks\":\"\"}},\"type\":\"scatter\"}],\"scatter3d\":[{\"line\":{\"colorbar\":{\"outlinewidth\":0,\"ticks\":\"\"}},\"marker\":{\"colorbar\":{\"outlinewidth\":0,\"ticks\":\"\"}},\"type\":\"scatter3d\"}],\"scattercarpet\":[{\"marker\":{\"colorbar\":{\"outlinewidth\":0,\"ticks\":\"\"}},\"type\":\"scattercarpet\"}],\"scattergeo\":[{\"marker\":{\"colorbar\":{\"outlinewidth\":0,\"ticks\":\"\"}},\"type\":\"scattergeo\"}],\"scattergl\":[{\"marker\":{\"colorbar\":{\"outlinewidth\":0,\"ticks\":\"\"}},\"type\":\"scattergl\"}],\"scattermapbox\":[{\"marker\":{\"colorbar\":{\"outlinewidth\":0,\"ticks\":\"\"}},\"type\":\"scattermapbox\"}],\"scatterpolar\":[{\"marker\":{\"colorbar\":{\"outlinewidth\":0,\"ticks\":\"\"}},\"type\":\"scatterpolar\"}],\"scatterpolargl\":[{\"marker\":{\"colorbar\":{\"outlinewidth\":0,\"ticks\":\"\"}},\"type\":\"scatterpolargl\"}],\"scatterternary\":[{\"marker\":{\"colorbar\":{\"outlinewidth\":0,\"ticks\":\"\"}},\"type\":\"scatterternary\"}],\"surface\":[{\"colorbar\":{\"outlinewidth\":0,\"ticks\":\"\"},\"colorscale\":[[0.0,\"#0d0887\"],[0.1111111111111111,\"#46039f\"],[0.2222222222222222,\"#7201a8\"],[0.3333333333333333,\"#9c179e\"],[0.4444444444444444,\"#bd3786\"],[0.5555555555555556,\"#d8576b\"],[0.6666666666666666,\"#ed7953\"],[0.7777777777777778,\"#fb9f3a\"],[0.8888888888888888,\"#fdca26\"],[1.0,\"#f0f921\"]],\"type\":\"surface\"}],\"table\":[{\"cells\":{\"fill\":{\"color\":\"#EBF0F8\"},\"line\":{\"color\":\"white\"}},\"header\":{\"fill\":{\"color\":\"#C8D4E3\"},\"line\":{\"color\":\"white\"}},\"type\":\"table\"}]},\"layout\":{\"annotationdefaults\":{\"arrowcolor\":\"#2a3f5f\",\"arrowhead\":0,\"arrowwidth\":1},\"autotypenumbers\":\"strict\",\"coloraxis\":{\"colorbar\":{\"outlinewidth\":0,\"ticks\":\"\"}},\"colorscale\":{\"diverging\":[[0,\"#8e0152\"],[0.1,\"#c51b7d\"],[0.2,\"#de77ae\"],[0.3,\"#f1b6da\"],[0.4,\"#fde0ef\"],[0.5,\"#f7f7f7\"],[0.6,\"#e6f5d0\"],[0.7,\"#b8e186\"],[0.8,\"#7fbc41\"],[0.9,\"#4d9221\"],[1,\"#276419\"]],\"sequential\":[[0.0,\"#0d0887\"],[0.1111111111111111,\"#46039f\"],[0.2222222222222222,\"#7201a8\"],[0.3333333333333333,\"#9c179e\"],[0.4444444444444444,\"#bd3786\"],[0.5555555555555556,\"#d8576b\"],[0.6666666666666666,\"#ed7953\"],[0.7777777777777778,\"#fb9f3a\"],[0.8888888888888888,\"#fdca26\"],[1.0,\"#f0f921\"]],\"sequentialminus\":[[0.0,\"#0d0887\"],[0.1111111111111111,\"#46039f\"],[0.2222222222222222,\"#7201a8\"],[0.3333333333333333,\"#9c179e\"],[0.4444444444444444,\"#bd3786\"],[0.5555555555555556,\"#d8576b\"],[0.6666666666666666,\"#ed7953\"],[0.7777777777777778,\"#fb9f3a\"],[0.8888888888888888,\"#fdca26\"],[1.0,\"#f0f921\"]]},\"colorway\":[\"#636efa\",\"#EF553B\",\"#00cc96\",\"#ab63fa\",\"#FFA15A\",\"#19d3f3\",\"#FF6692\",\"#B6E880\",\"#FF97FF\",\"#FECB52\"],\"font\":{\"color\":\"#2a3f5f\"},\"geo\":{\"bgcolor\":\"white\",\"lakecolor\":\"white\",\"landcolor\":\"#E5ECF6\",\"showlakes\":true,\"showland\":true,\"subunitcolor\":\"white\"},\"hoverlabel\":{\"align\":\"left\"},\"hovermode\":\"closest\",\"mapbox\":{\"style\":\"light\"},\"paper_bgcolor\":\"white\",\"plot_bgcolor\":\"#E5ECF6\",\"polar\":{\"angularaxis\":{\"gridcolor\":\"white\",\"linecolor\":\"white\",\"ticks\":\"\"},\"bgcolor\":\"#E5ECF6\",\"radialaxis\":{\"gridcolor\":\"white\",\"linecolor\":\"white\",\"ticks\":\"\"}},\"scene\":{\"xaxis\":{\"backgroundcolor\":\"#E5ECF6\",\"gridcolor\":\"white\",\"gridwidth\":2,\"linecolor\":\"white\",\"showbackground\":true,\"ticks\":\"\",\"zerolinecolor\":\"white\"},\"yaxis\":{\"backgroundcolor\":\"#E5ECF6\",\"gridcolor\":\"white\",\"gridwidth\":2,\"linecolor\":\"white\",\"showbackground\":true,\"ticks\":\"\",\"zerolinecolor\":\"white\"},\"zaxis\":{\"backgroundcolor\":\"#E5ECF6\",\"gridcolor\":\"white\",\"gridwidth\":2,\"linecolor\":\"white\",\"showbackground\":true,\"ticks\":\"\",\"zerolinecolor\":\"white\"}},\"shapedefaults\":{\"line\":{\"color\":\"#2a3f5f\"}},\"ternary\":{\"aaxis\":{\"gridcolor\":\"white\",\"linecolor\":\"white\",\"ticks\":\"\"},\"baxis\":{\"gridcolor\":\"white\",\"linecolor\":\"white\",\"ticks\":\"\"},\"bgcolor\":\"#E5ECF6\",\"caxis\":{\"gridcolor\":\"white\",\"linecolor\":\"white\",\"ticks\":\"\"}},\"title\":{\"x\":0.05},\"xaxis\":{\"automargin\":true,\"gridcolor\":\"white\",\"linecolor\":\"white\",\"ticks\":\"\",\"title\":{\"standoff\":15},\"zerolinecolor\":\"white\",\"zerolinewidth\":2},\"yaxis\":{\"automargin\":true,\"gridcolor\":\"white\",\"linecolor\":\"white\",\"ticks\":\"\",\"title\":{\"standoff\":15},\"zerolinecolor\":\"white\",\"zerolinewidth\":2}}},\"title\":{\"font\":{\"color\":\"#4D5663\"}},\"xaxis\":{\"gridcolor\":\"#E1E5ED\",\"showgrid\":true,\"tickfont\":{\"color\":\"#4D5663\"},\"title\":{\"font\":{\"color\":\"#4D5663\"},\"text\":\"\"},\"zerolinecolor\":\"#E1E5ED\"},\"yaxis\":{\"gridcolor\":\"#E1E5ED\",\"showgrid\":true,\"tickfont\":{\"color\":\"#4D5663\"},\"title\":{\"font\":{\"color\":\"#4D5663\"},\"text\":\"\"},\"zerolinecolor\":\"#E1E5ED\"}},                        {\"showLink\": true, \"linkText\": \"Export to plot.ly\", \"plotlyServerURL\": \"https://plot.ly\", \"responsive\": true}                    ).then(function(){\n",
       "                            \n",
       "var gd = document.getElementById('5289e31b-e313-4b2d-9872-0d365c59f6ec');\n",
       "var x = new MutationObserver(function (mutations, observer) {{\n",
       "        var display = window.getComputedStyle(gd).display;\n",
       "        if (!display || display === 'none') {{\n",
       "            console.log([gd, 'removed!']);\n",
       "            Plotly.purge(gd);\n",
       "            observer.disconnect();\n",
       "        }}\n",
       "}});\n",
       "\n",
       "// Listen for the removal of the full notebook cells\n",
       "var notebookContainer = gd.closest('#notebook-container');\n",
       "if (notebookContainer) {{\n",
       "    x.observe(notebookContainer, {childList: true});\n",
       "}}\n",
       "\n",
       "// Listen for the clearing of the current output cell\n",
       "var outputEl = gd.closest('.output');\n",
       "if (outputEl) {{\n",
       "    x.observe(outputEl, {childList: true});\n",
       "}}\n",
       "\n",
       "                        })                };                });            </script>        </div>"
      ]
     },
     "metadata": {},
     "output_type": "display_data"
    }
   ],
   "source": [
    "df.iplot()"
   ]
  },
  {
   "cell_type": "markdown",
   "metadata": {},
   "source": [
    "## Scatter"
   ]
  },
  {
   "cell_type": "code",
   "execution_count": 18,
   "metadata": {},
   "outputs": [
    {
     "data": {
      "application/vnd.plotly.v1+json": {
       "config": {
        "linkText": "Export to plot.ly",
        "plotlyServerURL": "https://plot.ly",
        "showLink": true
       },
       "data": [
        {
         "line": {
          "color": "rgba(255, 153, 51, 1.0)",
          "dash": "solid",
          "shape": "linear",
          "width": 1.3
         },
         "marker": {
          "size": 10,
          "symbol": "circle"
         },
         "mode": "markers",
         "name": "B",
         "text": "",
         "type": "scatter",
         "x": [
          -1.252614793086047,
          -0.05970334235749016,
          1.1861410783422972,
          -0.08761128715742864,
          0.07950640464429827,
          1.2280562668624604,
          -1.3278069263914265,
          -1.363119785987805,
          -1.1386232623492012,
          -0.8393437156317276,
          -0.4541080744300972,
          2.0343495796888282,
          -3.09049460215665,
          0.16073727481802083,
          -0.4197095473149091,
          -0.2387478469942015,
          -0.059737805366917265,
          0.637232411048166,
          -0.16098446078613787,
          -0.39044693665236124,
          -0.18335785148903647,
          -1.4665474154877824,
          -0.9467091070463365,
          -1.363086400891611,
          1.1419161233127382,
          -0.8990356765986693,
          -0.47877126318615904,
          -0.08723595655352805,
          0.28836519048925785,
          0.4535211994873111,
          0.6072750672172921,
          0.7920328635238127,
          0.9210688520723921,
          0.8431813681496602,
          0.14682019235661373,
          -1.1829671348247588,
          -1.0438065432704076,
          1.4143243674487795,
          0.709957119062226,
          -0.6850164620237267,
          -1.0010708187907489,
          -0.34860627566652763,
          1.9900831507298398,
          0.18725017639146913,
          -0.6255124774152,
          -1.6017317227276038,
          0.885042918633726,
          0.7428077103813263,
          -0.8924785069045459,
          -1.3308889418400802,
          3.003745396974862,
          0.3371032077767076,
          0.46679193086201903,
          0.36616511575153876,
          -0.416335845412642,
          1.5194644015341876,
          0.5211470076410264,
          -1.5036153475796188,
          -0.26626662937057033,
          0.6978691732337882,
          -0.09511084342263629,
          0.30075260301102774,
          0.03197028510486337,
          1.4282640809936629,
          0.33128440588935226,
          0.8760426680096519,
          -0.04282550929148523,
          -1.4869944424905852,
          1.1016632292962907,
          -1.432616353521275,
          1.5575716683045684,
          -0.3201993175852064,
          0.3085393750442976,
          -1.6767132815810286,
          -0.43613840129391807,
          0.5444947534040682,
          -0.9564608279120181,
          -1.2149259364052323,
          0.2619339163954011,
          1.1510318594062585,
          -1.4935781096730616,
          -1.5364588271684487,
          -0.2014536368998715,
          1.0317682182611458,
          -1.2008107718275032,
          0.6417163449601327,
          2.0525571724871856,
          0.4544224835172775,
          0.8604257046342394,
          0.024338875911690164,
          0.4034582647556379,
          -0.31260916146689444,
          0.020281310347106393,
          -0.29632252607525494,
          -0.3145363114608712,
          -0.5558389308669797,
          -0.08374887468313946,
          -0.1925649721641307,
          -0.37837314814356626,
          -1.004110983807644
         ],
         "y": [
          1.429907173744965,
          -0.3362692153993021,
          -0.22403939638327913,
          -0.1062523944097891,
          0.2474881419869791,
          -2.951570498412787,
          -1.3150465437708856,
          -0.09564344114602419,
          0.7924691287634381,
          -0.11059481319784327,
          -0.9574735207257397,
          -2.7741406899349563,
          -1.0816982566045203,
          -0.7050395721831006,
          -0.030415434382019057,
          -0.4233816135656058,
          1.13409136177349,
          -0.40242588625630915,
          -0.294198850624815,
          -0.10088674274843744,
          1.0390784149843242,
          0.5165220382316772,
          1.0292362169286038,
          -0.9443881069654166,
          -0.03415047970036683,
          -1.302863193040769,
          -1.8739862933198712,
          -0.14083809321526172,
          -1.027560506025851,
          -0.19154403604307874,
          1.188705505404244,
          0.8103271790333249,
          0.27403939984770914,
          -0.7969627075630051,
          1.1289182632483334,
          -1.6358823872587878,
          -0.6503428428357034,
          -0.6587248753403122,
          -0.8986836433415368,
          -1.2910519644339522,
          0.37456483954536046,
          -2.3331353592693427,
          -1.353315814768125,
          -1.6109918954270386,
          2.574398806434323,
          -0.7419382066961051,
          1.0111811133768143,
          0.8627681851633381,
          1.0684844064238004,
          0.9584140081934572,
          -1.2724226953088429,
          0.5623348949596787,
          0.21278803036445387,
          0.6362092764330177,
          -1.1507486672395217,
          0.480023659069112,
          -1.3364127200675031,
          0.8452624019906536,
          0.2509777094027647,
          0.20317230448967902,
          -2.5580200049648996,
          0.47164544114003987,
          0.13608375887967908,
          -1.3413832491890092,
          1.0794295284681177,
          0.03791755550436143,
          2.1927622697418774,
          1.7239478391164735,
          -0.8441975536242636,
          -0.555562737221605,
          0.8962983600870705,
          1.7163996644440285,
          0.3861053154127059,
          -0.5053146823691147,
          0.6629732990578995,
          1.7291436937887452,
          -0.19791142080973972,
          -0.17758994884436066,
          0.3835728374808757,
          0.1206356970118862,
          -0.5839764747918563,
          0.6562070488071372,
          0.79818803972454,
          -1.317059527577753,
          -0.36660244714059637,
          -0.07092316904929655,
          -1.9885058041209265,
          0.36046441628701004,
          -0.3787904255840291,
          0.40687581684755036,
          -0.9740597784537262,
          -0.5963017374604368,
          1.292358219538622,
          -0.678637329096281,
          -0.11217221669830485,
          -0.556064599371359,
          -1.2917102576840802,
          0.1961856894863246,
          1.8320554131446811,
          1.1361645082224023
         ]
        }
       ],
       "layout": {
        "legend": {
         "bgcolor": "#F5F6F9",
         "font": {
          "color": "#4D5663"
         }
        },
        "paper_bgcolor": "#F5F6F9",
        "plot_bgcolor": "#F5F6F9",
        "template": {
         "data": {
          "bar": [
           {
            "error_x": {
             "color": "#2a3f5f"
            },
            "error_y": {
             "color": "#2a3f5f"
            },
            "marker": {
             "line": {
              "color": "#E5ECF6",
              "width": 0.5
             },
             "pattern": {
              "fillmode": "overlay",
              "size": 10,
              "solidity": 0.2
             }
            },
            "type": "bar"
           }
          ],
          "barpolar": [
           {
            "marker": {
             "line": {
              "color": "#E5ECF6",
              "width": 0.5
             },
             "pattern": {
              "fillmode": "overlay",
              "size": 10,
              "solidity": 0.2
             }
            },
            "type": "barpolar"
           }
          ],
          "carpet": [
           {
            "aaxis": {
             "endlinecolor": "#2a3f5f",
             "gridcolor": "white",
             "linecolor": "white",
             "minorgridcolor": "white",
             "startlinecolor": "#2a3f5f"
            },
            "baxis": {
             "endlinecolor": "#2a3f5f",
             "gridcolor": "white",
             "linecolor": "white",
             "minorgridcolor": "white",
             "startlinecolor": "#2a3f5f"
            },
            "type": "carpet"
           }
          ],
          "choropleth": [
           {
            "colorbar": {
             "outlinewidth": 0,
             "ticks": ""
            },
            "type": "choropleth"
           }
          ],
          "contour": [
           {
            "colorbar": {
             "outlinewidth": 0,
             "ticks": ""
            },
            "colorscale": [
             [
              0,
              "#0d0887"
             ],
             [
              0.1111111111111111,
              "#46039f"
             ],
             [
              0.2222222222222222,
              "#7201a8"
             ],
             [
              0.3333333333333333,
              "#9c179e"
             ],
             [
              0.4444444444444444,
              "#bd3786"
             ],
             [
              0.5555555555555556,
              "#d8576b"
             ],
             [
              0.6666666666666666,
              "#ed7953"
             ],
             [
              0.7777777777777778,
              "#fb9f3a"
             ],
             [
              0.8888888888888888,
              "#fdca26"
             ],
             [
              1,
              "#f0f921"
             ]
            ],
            "type": "contour"
           }
          ],
          "contourcarpet": [
           {
            "colorbar": {
             "outlinewidth": 0,
             "ticks": ""
            },
            "type": "contourcarpet"
           }
          ],
          "heatmap": [
           {
            "colorbar": {
             "outlinewidth": 0,
             "ticks": ""
            },
            "colorscale": [
             [
              0,
              "#0d0887"
             ],
             [
              0.1111111111111111,
              "#46039f"
             ],
             [
              0.2222222222222222,
              "#7201a8"
             ],
             [
              0.3333333333333333,
              "#9c179e"
             ],
             [
              0.4444444444444444,
              "#bd3786"
             ],
             [
              0.5555555555555556,
              "#d8576b"
             ],
             [
              0.6666666666666666,
              "#ed7953"
             ],
             [
              0.7777777777777778,
              "#fb9f3a"
             ],
             [
              0.8888888888888888,
              "#fdca26"
             ],
             [
              1,
              "#f0f921"
             ]
            ],
            "type": "heatmap"
           }
          ],
          "heatmapgl": [
           {
            "colorbar": {
             "outlinewidth": 0,
             "ticks": ""
            },
            "colorscale": [
             [
              0,
              "#0d0887"
             ],
             [
              0.1111111111111111,
              "#46039f"
             ],
             [
              0.2222222222222222,
              "#7201a8"
             ],
             [
              0.3333333333333333,
              "#9c179e"
             ],
             [
              0.4444444444444444,
              "#bd3786"
             ],
             [
              0.5555555555555556,
              "#d8576b"
             ],
             [
              0.6666666666666666,
              "#ed7953"
             ],
             [
              0.7777777777777778,
              "#fb9f3a"
             ],
             [
              0.8888888888888888,
              "#fdca26"
             ],
             [
              1,
              "#f0f921"
             ]
            ],
            "type": "heatmapgl"
           }
          ],
          "histogram": [
           {
            "marker": {
             "pattern": {
              "fillmode": "overlay",
              "size": 10,
              "solidity": 0.2
             }
            },
            "type": "histogram"
           }
          ],
          "histogram2d": [
           {
            "colorbar": {
             "outlinewidth": 0,
             "ticks": ""
            },
            "colorscale": [
             [
              0,
              "#0d0887"
             ],
             [
              0.1111111111111111,
              "#46039f"
             ],
             [
              0.2222222222222222,
              "#7201a8"
             ],
             [
              0.3333333333333333,
              "#9c179e"
             ],
             [
              0.4444444444444444,
              "#bd3786"
             ],
             [
              0.5555555555555556,
              "#d8576b"
             ],
             [
              0.6666666666666666,
              "#ed7953"
             ],
             [
              0.7777777777777778,
              "#fb9f3a"
             ],
             [
              0.8888888888888888,
              "#fdca26"
             ],
             [
              1,
              "#f0f921"
             ]
            ],
            "type": "histogram2d"
           }
          ],
          "histogram2dcontour": [
           {
            "colorbar": {
             "outlinewidth": 0,
             "ticks": ""
            },
            "colorscale": [
             [
              0,
              "#0d0887"
             ],
             [
              0.1111111111111111,
              "#46039f"
             ],
             [
              0.2222222222222222,
              "#7201a8"
             ],
             [
              0.3333333333333333,
              "#9c179e"
             ],
             [
              0.4444444444444444,
              "#bd3786"
             ],
             [
              0.5555555555555556,
              "#d8576b"
             ],
             [
              0.6666666666666666,
              "#ed7953"
             ],
             [
              0.7777777777777778,
              "#fb9f3a"
             ],
             [
              0.8888888888888888,
              "#fdca26"
             ],
             [
              1,
              "#f0f921"
             ]
            ],
            "type": "histogram2dcontour"
           }
          ],
          "mesh3d": [
           {
            "colorbar": {
             "outlinewidth": 0,
             "ticks": ""
            },
            "type": "mesh3d"
           }
          ],
          "parcoords": [
           {
            "line": {
             "colorbar": {
              "outlinewidth": 0,
              "ticks": ""
             }
            },
            "type": "parcoords"
           }
          ],
          "pie": [
           {
            "automargin": true,
            "type": "pie"
           }
          ],
          "scatter": [
           {
            "marker": {
             "colorbar": {
              "outlinewidth": 0,
              "ticks": ""
             }
            },
            "type": "scatter"
           }
          ],
          "scatter3d": [
           {
            "line": {
             "colorbar": {
              "outlinewidth": 0,
              "ticks": ""
             }
            },
            "marker": {
             "colorbar": {
              "outlinewidth": 0,
              "ticks": ""
             }
            },
            "type": "scatter3d"
           }
          ],
          "scattercarpet": [
           {
            "marker": {
             "colorbar": {
              "outlinewidth": 0,
              "ticks": ""
             }
            },
            "type": "scattercarpet"
           }
          ],
          "scattergeo": [
           {
            "marker": {
             "colorbar": {
              "outlinewidth": 0,
              "ticks": ""
             }
            },
            "type": "scattergeo"
           }
          ],
          "scattergl": [
           {
            "marker": {
             "colorbar": {
              "outlinewidth": 0,
              "ticks": ""
             }
            },
            "type": "scattergl"
           }
          ],
          "scattermapbox": [
           {
            "marker": {
             "colorbar": {
              "outlinewidth": 0,
              "ticks": ""
             }
            },
            "type": "scattermapbox"
           }
          ],
          "scatterpolar": [
           {
            "marker": {
             "colorbar": {
              "outlinewidth": 0,
              "ticks": ""
             }
            },
            "type": "scatterpolar"
           }
          ],
          "scatterpolargl": [
           {
            "marker": {
             "colorbar": {
              "outlinewidth": 0,
              "ticks": ""
             }
            },
            "type": "scatterpolargl"
           }
          ],
          "scatterternary": [
           {
            "marker": {
             "colorbar": {
              "outlinewidth": 0,
              "ticks": ""
             }
            },
            "type": "scatterternary"
           }
          ],
          "surface": [
           {
            "colorbar": {
             "outlinewidth": 0,
             "ticks": ""
            },
            "colorscale": [
             [
              0,
              "#0d0887"
             ],
             [
              0.1111111111111111,
              "#46039f"
             ],
             [
              0.2222222222222222,
              "#7201a8"
             ],
             [
              0.3333333333333333,
              "#9c179e"
             ],
             [
              0.4444444444444444,
              "#bd3786"
             ],
             [
              0.5555555555555556,
              "#d8576b"
             ],
             [
              0.6666666666666666,
              "#ed7953"
             ],
             [
              0.7777777777777778,
              "#fb9f3a"
             ],
             [
              0.8888888888888888,
              "#fdca26"
             ],
             [
              1,
              "#f0f921"
             ]
            ],
            "type": "surface"
           }
          ],
          "table": [
           {
            "cells": {
             "fill": {
              "color": "#EBF0F8"
             },
             "line": {
              "color": "white"
             }
            },
            "header": {
             "fill": {
              "color": "#C8D4E3"
             },
             "line": {
              "color": "white"
             }
            },
            "type": "table"
           }
          ]
         },
         "layout": {
          "annotationdefaults": {
           "arrowcolor": "#2a3f5f",
           "arrowhead": 0,
           "arrowwidth": 1
          },
          "autotypenumbers": "strict",
          "coloraxis": {
           "colorbar": {
            "outlinewidth": 0,
            "ticks": ""
           }
          },
          "colorscale": {
           "diverging": [
            [
             0,
             "#8e0152"
            ],
            [
             0.1,
             "#c51b7d"
            ],
            [
             0.2,
             "#de77ae"
            ],
            [
             0.3,
             "#f1b6da"
            ],
            [
             0.4,
             "#fde0ef"
            ],
            [
             0.5,
             "#f7f7f7"
            ],
            [
             0.6,
             "#e6f5d0"
            ],
            [
             0.7,
             "#b8e186"
            ],
            [
             0.8,
             "#7fbc41"
            ],
            [
             0.9,
             "#4d9221"
            ],
            [
             1,
             "#276419"
            ]
           ],
           "sequential": [
            [
             0,
             "#0d0887"
            ],
            [
             0.1111111111111111,
             "#46039f"
            ],
            [
             0.2222222222222222,
             "#7201a8"
            ],
            [
             0.3333333333333333,
             "#9c179e"
            ],
            [
             0.4444444444444444,
             "#bd3786"
            ],
            [
             0.5555555555555556,
             "#d8576b"
            ],
            [
             0.6666666666666666,
             "#ed7953"
            ],
            [
             0.7777777777777778,
             "#fb9f3a"
            ],
            [
             0.8888888888888888,
             "#fdca26"
            ],
            [
             1,
             "#f0f921"
            ]
           ],
           "sequentialminus": [
            [
             0,
             "#0d0887"
            ],
            [
             0.1111111111111111,
             "#46039f"
            ],
            [
             0.2222222222222222,
             "#7201a8"
            ],
            [
             0.3333333333333333,
             "#9c179e"
            ],
            [
             0.4444444444444444,
             "#bd3786"
            ],
            [
             0.5555555555555556,
             "#d8576b"
            ],
            [
             0.6666666666666666,
             "#ed7953"
            ],
            [
             0.7777777777777778,
             "#fb9f3a"
            ],
            [
             0.8888888888888888,
             "#fdca26"
            ],
            [
             1,
             "#f0f921"
            ]
           ]
          },
          "colorway": [
           "#636efa",
           "#EF553B",
           "#00cc96",
           "#ab63fa",
           "#FFA15A",
           "#19d3f3",
           "#FF6692",
           "#B6E880",
           "#FF97FF",
           "#FECB52"
          ],
          "font": {
           "color": "#2a3f5f"
          },
          "geo": {
           "bgcolor": "white",
           "lakecolor": "white",
           "landcolor": "#E5ECF6",
           "showlakes": true,
           "showland": true,
           "subunitcolor": "white"
          },
          "hoverlabel": {
           "align": "left"
          },
          "hovermode": "closest",
          "mapbox": {
           "style": "light"
          },
          "paper_bgcolor": "white",
          "plot_bgcolor": "#E5ECF6",
          "polar": {
           "angularaxis": {
            "gridcolor": "white",
            "linecolor": "white",
            "ticks": ""
           },
           "bgcolor": "#E5ECF6",
           "radialaxis": {
            "gridcolor": "white",
            "linecolor": "white",
            "ticks": ""
           }
          },
          "scene": {
           "xaxis": {
            "backgroundcolor": "#E5ECF6",
            "gridcolor": "white",
            "gridwidth": 2,
            "linecolor": "white",
            "showbackground": true,
            "ticks": "",
            "zerolinecolor": "white"
           },
           "yaxis": {
            "backgroundcolor": "#E5ECF6",
            "gridcolor": "white",
            "gridwidth": 2,
            "linecolor": "white",
            "showbackground": true,
            "ticks": "",
            "zerolinecolor": "white"
           },
           "zaxis": {
            "backgroundcolor": "#E5ECF6",
            "gridcolor": "white",
            "gridwidth": 2,
            "linecolor": "white",
            "showbackground": true,
            "ticks": "",
            "zerolinecolor": "white"
           }
          },
          "shapedefaults": {
           "line": {
            "color": "#2a3f5f"
           }
          },
          "ternary": {
           "aaxis": {
            "gridcolor": "white",
            "linecolor": "white",
            "ticks": ""
           },
           "baxis": {
            "gridcolor": "white",
            "linecolor": "white",
            "ticks": ""
           },
           "bgcolor": "#E5ECF6",
           "caxis": {
            "gridcolor": "white",
            "linecolor": "white",
            "ticks": ""
           }
          },
          "title": {
           "x": 0.05
          },
          "xaxis": {
           "automargin": true,
           "gridcolor": "white",
           "linecolor": "white",
           "ticks": "",
           "title": {
            "standoff": 15
           },
           "zerolinecolor": "white",
           "zerolinewidth": 2
          },
          "yaxis": {
           "automargin": true,
           "gridcolor": "white",
           "linecolor": "white",
           "ticks": "",
           "title": {
            "standoff": 15
           },
           "zerolinecolor": "white",
           "zerolinewidth": 2
          }
         }
        },
        "title": {
         "font": {
          "color": "#4D5663"
         }
        },
        "xaxis": {
         "gridcolor": "#E1E5ED",
         "showgrid": true,
         "tickfont": {
          "color": "#4D5663"
         },
         "title": {
          "font": {
           "color": "#4D5663"
          },
          "text": ""
         },
         "zerolinecolor": "#E1E5ED"
        },
        "yaxis": {
         "gridcolor": "#E1E5ED",
         "showgrid": true,
         "tickfont": {
          "color": "#4D5663"
         },
         "title": {
          "font": {
           "color": "#4D5663"
          },
          "text": ""
         },
         "zerolinecolor": "#E1E5ED"
        }
       }
      },
      "text/html": [
       "<div>                            <div id=\"c549d357-065f-4b58-bca0-38725db37d6b\" class=\"plotly-graph-div\" style=\"height:525px; width:100%;\"></div>            <script type=\"text/javascript\">                require([\"plotly\"], function(Plotly) {                    window.PLOTLYENV=window.PLOTLYENV || {};\n",
       "                    window.PLOTLYENV.BASE_URL='https://plot.ly';                                    if (document.getElementById(\"c549d357-065f-4b58-bca0-38725db37d6b\")) {                    Plotly.newPlot(                        \"c549d357-065f-4b58-bca0-38725db37d6b\",                        [{\"line\":{\"color\":\"rgba(255, 153, 51, 1.0)\",\"dash\":\"solid\",\"shape\":\"linear\",\"width\":1.3},\"marker\":{\"size\":10,\"symbol\":\"circle\"},\"mode\":\"markers\",\"name\":\"B\",\"text\":\"\",\"type\":\"scatter\",\"x\":[-1.252614793086047,-0.05970334235749016,1.1861410783422972,-0.08761128715742864,0.07950640464429827,1.2280562668624604,-1.3278069263914265,-1.363119785987805,-1.1386232623492012,-0.8393437156317276,-0.4541080744300972,2.0343495796888282,-3.09049460215665,0.16073727481802083,-0.4197095473149091,-0.2387478469942015,-0.059737805366917265,0.637232411048166,-0.16098446078613787,-0.39044693665236124,-0.18335785148903647,-1.4665474154877824,-0.9467091070463365,-1.363086400891611,1.1419161233127382,-0.8990356765986693,-0.47877126318615904,-0.08723595655352805,0.28836519048925785,0.4535211994873111,0.6072750672172921,0.7920328635238127,0.9210688520723921,0.8431813681496602,0.14682019235661373,-1.1829671348247588,-1.0438065432704076,1.4143243674487795,0.709957119062226,-0.6850164620237267,-1.0010708187907489,-0.34860627566652763,1.9900831507298398,0.18725017639146913,-0.6255124774152,-1.6017317227276038,0.885042918633726,0.7428077103813263,-0.8924785069045459,-1.3308889418400802,3.003745396974862,0.3371032077767076,0.46679193086201903,0.36616511575153876,-0.416335845412642,1.5194644015341876,0.5211470076410264,-1.5036153475796188,-0.26626662937057033,0.6978691732337882,-0.09511084342263629,0.30075260301102774,0.03197028510486337,1.4282640809936629,0.33128440588935226,0.8760426680096519,-0.04282550929148523,-1.4869944424905852,1.1016632292962907,-1.432616353521275,1.5575716683045684,-0.3201993175852064,0.3085393750442976,-1.6767132815810286,-0.43613840129391807,0.5444947534040682,-0.9564608279120181,-1.2149259364052323,0.2619339163954011,1.1510318594062585,-1.4935781096730616,-1.5364588271684487,-0.2014536368998715,1.0317682182611458,-1.2008107718275032,0.6417163449601327,2.0525571724871856,0.4544224835172775,0.8604257046342394,0.024338875911690164,0.4034582647556379,-0.31260916146689444,0.020281310347106393,-0.29632252607525494,-0.3145363114608712,-0.5558389308669797,-0.08374887468313946,-0.1925649721641307,-0.37837314814356626,-1.004110983807644],\"y\":[1.429907173744965,-0.3362692153993021,-0.22403939638327913,-0.1062523944097891,0.2474881419869791,-2.951570498412787,-1.3150465437708856,-0.09564344114602419,0.7924691287634381,-0.11059481319784327,-0.9574735207257397,-2.7741406899349563,-1.0816982566045203,-0.7050395721831006,-0.030415434382019057,-0.4233816135656058,1.13409136177349,-0.40242588625630915,-0.294198850624815,-0.10088674274843744,1.0390784149843242,0.5165220382316772,1.0292362169286038,-0.9443881069654166,-0.03415047970036683,-1.302863193040769,-1.8739862933198712,-0.14083809321526172,-1.027560506025851,-0.19154403604307874,1.188705505404244,0.8103271790333249,0.27403939984770914,-0.7969627075630051,1.1289182632483334,-1.6358823872587878,-0.6503428428357034,-0.6587248753403122,-0.8986836433415368,-1.2910519644339522,0.37456483954536046,-2.3331353592693427,-1.353315814768125,-1.6109918954270386,2.574398806434323,-0.7419382066961051,1.0111811133768143,0.8627681851633381,1.0684844064238004,0.9584140081934572,-1.2724226953088429,0.5623348949596787,0.21278803036445387,0.6362092764330177,-1.1507486672395217,0.480023659069112,-1.3364127200675031,0.8452624019906536,0.2509777094027647,0.20317230448967902,-2.5580200049648996,0.47164544114003987,0.13608375887967908,-1.3413832491890092,1.0794295284681177,0.03791755550436143,2.1927622697418774,1.7239478391164735,-0.8441975536242636,-0.555562737221605,0.8962983600870705,1.7163996644440285,0.3861053154127059,-0.5053146823691147,0.6629732990578995,1.7291436937887452,-0.19791142080973972,-0.17758994884436066,0.3835728374808757,0.1206356970118862,-0.5839764747918563,0.6562070488071372,0.79818803972454,-1.317059527577753,-0.36660244714059637,-0.07092316904929655,-1.9885058041209265,0.36046441628701004,-0.3787904255840291,0.40687581684755036,-0.9740597784537262,-0.5963017374604368,1.292358219538622,-0.678637329096281,-0.11217221669830485,-0.556064599371359,-1.2917102576840802,0.1961856894863246,1.8320554131446811,1.1361645082224023]}],                        {\"legend\":{\"bgcolor\":\"#F5F6F9\",\"font\":{\"color\":\"#4D5663\"}},\"paper_bgcolor\":\"#F5F6F9\",\"plot_bgcolor\":\"#F5F6F9\",\"template\":{\"data\":{\"bar\":[{\"error_x\":{\"color\":\"#2a3f5f\"},\"error_y\":{\"color\":\"#2a3f5f\"},\"marker\":{\"line\":{\"color\":\"#E5ECF6\",\"width\":0.5},\"pattern\":{\"fillmode\":\"overlay\",\"size\":10,\"solidity\":0.2}},\"type\":\"bar\"}],\"barpolar\":[{\"marker\":{\"line\":{\"color\":\"#E5ECF6\",\"width\":0.5},\"pattern\":{\"fillmode\":\"overlay\",\"size\":10,\"solidity\":0.2}},\"type\":\"barpolar\"}],\"carpet\":[{\"aaxis\":{\"endlinecolor\":\"#2a3f5f\",\"gridcolor\":\"white\",\"linecolor\":\"white\",\"minorgridcolor\":\"white\",\"startlinecolor\":\"#2a3f5f\"},\"baxis\":{\"endlinecolor\":\"#2a3f5f\",\"gridcolor\":\"white\",\"linecolor\":\"white\",\"minorgridcolor\":\"white\",\"startlinecolor\":\"#2a3f5f\"},\"type\":\"carpet\"}],\"choropleth\":[{\"colorbar\":{\"outlinewidth\":0,\"ticks\":\"\"},\"type\":\"choropleth\"}],\"contour\":[{\"colorbar\":{\"outlinewidth\":0,\"ticks\":\"\"},\"colorscale\":[[0.0,\"#0d0887\"],[0.1111111111111111,\"#46039f\"],[0.2222222222222222,\"#7201a8\"],[0.3333333333333333,\"#9c179e\"],[0.4444444444444444,\"#bd3786\"],[0.5555555555555556,\"#d8576b\"],[0.6666666666666666,\"#ed7953\"],[0.7777777777777778,\"#fb9f3a\"],[0.8888888888888888,\"#fdca26\"],[1.0,\"#f0f921\"]],\"type\":\"contour\"}],\"contourcarpet\":[{\"colorbar\":{\"outlinewidth\":0,\"ticks\":\"\"},\"type\":\"contourcarpet\"}],\"heatmap\":[{\"colorbar\":{\"outlinewidth\":0,\"ticks\":\"\"},\"colorscale\":[[0.0,\"#0d0887\"],[0.1111111111111111,\"#46039f\"],[0.2222222222222222,\"#7201a8\"],[0.3333333333333333,\"#9c179e\"],[0.4444444444444444,\"#bd3786\"],[0.5555555555555556,\"#d8576b\"],[0.6666666666666666,\"#ed7953\"],[0.7777777777777778,\"#fb9f3a\"],[0.8888888888888888,\"#fdca26\"],[1.0,\"#f0f921\"]],\"type\":\"heatmap\"}],\"heatmapgl\":[{\"colorbar\":{\"outlinewidth\":0,\"ticks\":\"\"},\"colorscale\":[[0.0,\"#0d0887\"],[0.1111111111111111,\"#46039f\"],[0.2222222222222222,\"#7201a8\"],[0.3333333333333333,\"#9c179e\"],[0.4444444444444444,\"#bd3786\"],[0.5555555555555556,\"#d8576b\"],[0.6666666666666666,\"#ed7953\"],[0.7777777777777778,\"#fb9f3a\"],[0.8888888888888888,\"#fdca26\"],[1.0,\"#f0f921\"]],\"type\":\"heatmapgl\"}],\"histogram\":[{\"marker\":{\"pattern\":{\"fillmode\":\"overlay\",\"size\":10,\"solidity\":0.2}},\"type\":\"histogram\"}],\"histogram2d\":[{\"colorbar\":{\"outlinewidth\":0,\"ticks\":\"\"},\"colorscale\":[[0.0,\"#0d0887\"],[0.1111111111111111,\"#46039f\"],[0.2222222222222222,\"#7201a8\"],[0.3333333333333333,\"#9c179e\"],[0.4444444444444444,\"#bd3786\"],[0.5555555555555556,\"#d8576b\"],[0.6666666666666666,\"#ed7953\"],[0.7777777777777778,\"#fb9f3a\"],[0.8888888888888888,\"#fdca26\"],[1.0,\"#f0f921\"]],\"type\":\"histogram2d\"}],\"histogram2dcontour\":[{\"colorbar\":{\"outlinewidth\":0,\"ticks\":\"\"},\"colorscale\":[[0.0,\"#0d0887\"],[0.1111111111111111,\"#46039f\"],[0.2222222222222222,\"#7201a8\"],[0.3333333333333333,\"#9c179e\"],[0.4444444444444444,\"#bd3786\"],[0.5555555555555556,\"#d8576b\"],[0.6666666666666666,\"#ed7953\"],[0.7777777777777778,\"#fb9f3a\"],[0.8888888888888888,\"#fdca26\"],[1.0,\"#f0f921\"]],\"type\":\"histogram2dcontour\"}],\"mesh3d\":[{\"colorbar\":{\"outlinewidth\":0,\"ticks\":\"\"},\"type\":\"mesh3d\"}],\"parcoords\":[{\"line\":{\"colorbar\":{\"outlinewidth\":0,\"ticks\":\"\"}},\"type\":\"parcoords\"}],\"pie\":[{\"automargin\":true,\"type\":\"pie\"}],\"scatter\":[{\"marker\":{\"colorbar\":{\"outlinewidth\":0,\"ticks\":\"\"}},\"type\":\"scatter\"}],\"scatter3d\":[{\"line\":{\"colorbar\":{\"outlinewidth\":0,\"ticks\":\"\"}},\"marker\":{\"colorbar\":{\"outlinewidth\":0,\"ticks\":\"\"}},\"type\":\"scatter3d\"}],\"scattercarpet\":[{\"marker\":{\"colorbar\":{\"outlinewidth\":0,\"ticks\":\"\"}},\"type\":\"scattercarpet\"}],\"scattergeo\":[{\"marker\":{\"colorbar\":{\"outlinewidth\":0,\"ticks\":\"\"}},\"type\":\"scattergeo\"}],\"scattergl\":[{\"marker\":{\"colorbar\":{\"outlinewidth\":0,\"ticks\":\"\"}},\"type\":\"scattergl\"}],\"scattermapbox\":[{\"marker\":{\"colorbar\":{\"outlinewidth\":0,\"ticks\":\"\"}},\"type\":\"scattermapbox\"}],\"scatterpolar\":[{\"marker\":{\"colorbar\":{\"outlinewidth\":0,\"ticks\":\"\"}},\"type\":\"scatterpolar\"}],\"scatterpolargl\":[{\"marker\":{\"colorbar\":{\"outlinewidth\":0,\"ticks\":\"\"}},\"type\":\"scatterpolargl\"}],\"scatterternary\":[{\"marker\":{\"colorbar\":{\"outlinewidth\":0,\"ticks\":\"\"}},\"type\":\"scatterternary\"}],\"surface\":[{\"colorbar\":{\"outlinewidth\":0,\"ticks\":\"\"},\"colorscale\":[[0.0,\"#0d0887\"],[0.1111111111111111,\"#46039f\"],[0.2222222222222222,\"#7201a8\"],[0.3333333333333333,\"#9c179e\"],[0.4444444444444444,\"#bd3786\"],[0.5555555555555556,\"#d8576b\"],[0.6666666666666666,\"#ed7953\"],[0.7777777777777778,\"#fb9f3a\"],[0.8888888888888888,\"#fdca26\"],[1.0,\"#f0f921\"]],\"type\":\"surface\"}],\"table\":[{\"cells\":{\"fill\":{\"color\":\"#EBF0F8\"},\"line\":{\"color\":\"white\"}},\"header\":{\"fill\":{\"color\":\"#C8D4E3\"},\"line\":{\"color\":\"white\"}},\"type\":\"table\"}]},\"layout\":{\"annotationdefaults\":{\"arrowcolor\":\"#2a3f5f\",\"arrowhead\":0,\"arrowwidth\":1},\"autotypenumbers\":\"strict\",\"coloraxis\":{\"colorbar\":{\"outlinewidth\":0,\"ticks\":\"\"}},\"colorscale\":{\"diverging\":[[0,\"#8e0152\"],[0.1,\"#c51b7d\"],[0.2,\"#de77ae\"],[0.3,\"#f1b6da\"],[0.4,\"#fde0ef\"],[0.5,\"#f7f7f7\"],[0.6,\"#e6f5d0\"],[0.7,\"#b8e186\"],[0.8,\"#7fbc41\"],[0.9,\"#4d9221\"],[1,\"#276419\"]],\"sequential\":[[0.0,\"#0d0887\"],[0.1111111111111111,\"#46039f\"],[0.2222222222222222,\"#7201a8\"],[0.3333333333333333,\"#9c179e\"],[0.4444444444444444,\"#bd3786\"],[0.5555555555555556,\"#d8576b\"],[0.6666666666666666,\"#ed7953\"],[0.7777777777777778,\"#fb9f3a\"],[0.8888888888888888,\"#fdca26\"],[1.0,\"#f0f921\"]],\"sequentialminus\":[[0.0,\"#0d0887\"],[0.1111111111111111,\"#46039f\"],[0.2222222222222222,\"#7201a8\"],[0.3333333333333333,\"#9c179e\"],[0.4444444444444444,\"#bd3786\"],[0.5555555555555556,\"#d8576b\"],[0.6666666666666666,\"#ed7953\"],[0.7777777777777778,\"#fb9f3a\"],[0.8888888888888888,\"#fdca26\"],[1.0,\"#f0f921\"]]},\"colorway\":[\"#636efa\",\"#EF553B\",\"#00cc96\",\"#ab63fa\",\"#FFA15A\",\"#19d3f3\",\"#FF6692\",\"#B6E880\",\"#FF97FF\",\"#FECB52\"],\"font\":{\"color\":\"#2a3f5f\"},\"geo\":{\"bgcolor\":\"white\",\"lakecolor\":\"white\",\"landcolor\":\"#E5ECF6\",\"showlakes\":true,\"showland\":true,\"subunitcolor\":\"white\"},\"hoverlabel\":{\"align\":\"left\"},\"hovermode\":\"closest\",\"mapbox\":{\"style\":\"light\"},\"paper_bgcolor\":\"white\",\"plot_bgcolor\":\"#E5ECF6\",\"polar\":{\"angularaxis\":{\"gridcolor\":\"white\",\"linecolor\":\"white\",\"ticks\":\"\"},\"bgcolor\":\"#E5ECF6\",\"radialaxis\":{\"gridcolor\":\"white\",\"linecolor\":\"white\",\"ticks\":\"\"}},\"scene\":{\"xaxis\":{\"backgroundcolor\":\"#E5ECF6\",\"gridcolor\":\"white\",\"gridwidth\":2,\"linecolor\":\"white\",\"showbackground\":true,\"ticks\":\"\",\"zerolinecolor\":\"white\"},\"yaxis\":{\"backgroundcolor\":\"#E5ECF6\",\"gridcolor\":\"white\",\"gridwidth\":2,\"linecolor\":\"white\",\"showbackground\":true,\"ticks\":\"\",\"zerolinecolor\":\"white\"},\"zaxis\":{\"backgroundcolor\":\"#E5ECF6\",\"gridcolor\":\"white\",\"gridwidth\":2,\"linecolor\":\"white\",\"showbackground\":true,\"ticks\":\"\",\"zerolinecolor\":\"white\"}},\"shapedefaults\":{\"line\":{\"color\":\"#2a3f5f\"}},\"ternary\":{\"aaxis\":{\"gridcolor\":\"white\",\"linecolor\":\"white\",\"ticks\":\"\"},\"baxis\":{\"gridcolor\":\"white\",\"linecolor\":\"white\",\"ticks\":\"\"},\"bgcolor\":\"#E5ECF6\",\"caxis\":{\"gridcolor\":\"white\",\"linecolor\":\"white\",\"ticks\":\"\"}},\"title\":{\"x\":0.05},\"xaxis\":{\"automargin\":true,\"gridcolor\":\"white\",\"linecolor\":\"white\",\"ticks\":\"\",\"title\":{\"standoff\":15},\"zerolinecolor\":\"white\",\"zerolinewidth\":2},\"yaxis\":{\"automargin\":true,\"gridcolor\":\"white\",\"linecolor\":\"white\",\"ticks\":\"\",\"title\":{\"standoff\":15},\"zerolinecolor\":\"white\",\"zerolinewidth\":2}}},\"title\":{\"font\":{\"color\":\"#4D5663\"}},\"xaxis\":{\"gridcolor\":\"#E1E5ED\",\"showgrid\":true,\"tickfont\":{\"color\":\"#4D5663\"},\"title\":{\"font\":{\"color\":\"#4D5663\"},\"text\":\"\"},\"zerolinecolor\":\"#E1E5ED\"},\"yaxis\":{\"gridcolor\":\"#E1E5ED\",\"showgrid\":true,\"tickfont\":{\"color\":\"#4D5663\"},\"title\":{\"font\":{\"color\":\"#4D5663\"},\"text\":\"\"},\"zerolinecolor\":\"#E1E5ED\"}},                        {\"showLink\": true, \"linkText\": \"Export to plot.ly\", \"plotlyServerURL\": \"https://plot.ly\", \"responsive\": true}                    ).then(function(){\n",
       "                            \n",
       "var gd = document.getElementById('c549d357-065f-4b58-bca0-38725db37d6b');\n",
       "var x = new MutationObserver(function (mutations, observer) {{\n",
       "        var display = window.getComputedStyle(gd).display;\n",
       "        if (!display || display === 'none') {{\n",
       "            console.log([gd, 'removed!']);\n",
       "            Plotly.purge(gd);\n",
       "            observer.disconnect();\n",
       "        }}\n",
       "}});\n",
       "\n",
       "// Listen for the removal of the full notebook cells\n",
       "var notebookContainer = gd.closest('#notebook-container');\n",
       "if (notebookContainer) {{\n",
       "    x.observe(notebookContainer, {childList: true});\n",
       "}}\n",
       "\n",
       "// Listen for the clearing of the current output cell\n",
       "var outputEl = gd.closest('.output');\n",
       "if (outputEl) {{\n",
       "    x.observe(outputEl, {childList: true});\n",
       "}}\n",
       "\n",
       "                        })                };                });            </script>        </div>"
      ]
     },
     "metadata": {},
     "output_type": "display_data"
    }
   ],
   "source": [
    "df.iplot(kind='scatter',x='A',y='B',mode='markers',size=10)"
   ]
  },
  {
   "cell_type": "markdown",
   "metadata": {},
   "source": [
    "## Bar Plots"
   ]
  },
  {
   "cell_type": "code",
   "execution_count": 21,
   "metadata": {},
   "outputs": [
    {
     "data": {
      "application/vnd.plotly.v1+json": {
       "config": {
        "linkText": "Export to plot.ly",
        "plotlyServerURL": "https://plot.ly",
        "showLink": true
       },
       "data": [
        {
         "marker": {
          "color": "rgba(255, 153, 51, 0.6)",
          "line": {
           "color": "rgba(255, 153, 51, 1.0)",
           "width": 1
          }
         },
         "name": "Values",
         "orientation": "v",
         "text": "",
         "type": "bar",
         "x": [
          "A",
          "B",
          "C"
         ],
         "y": [
          32,
          43,
          50
         ]
        }
       ],
       "layout": {
        "legend": {
         "bgcolor": "#F5F6F9",
         "font": {
          "color": "#4D5663"
         }
        },
        "paper_bgcolor": "#F5F6F9",
        "plot_bgcolor": "#F5F6F9",
        "template": {
         "data": {
          "bar": [
           {
            "error_x": {
             "color": "#2a3f5f"
            },
            "error_y": {
             "color": "#2a3f5f"
            },
            "marker": {
             "line": {
              "color": "#E5ECF6",
              "width": 0.5
             },
             "pattern": {
              "fillmode": "overlay",
              "size": 10,
              "solidity": 0.2
             }
            },
            "type": "bar"
           }
          ],
          "barpolar": [
           {
            "marker": {
             "line": {
              "color": "#E5ECF6",
              "width": 0.5
             },
             "pattern": {
              "fillmode": "overlay",
              "size": 10,
              "solidity": 0.2
             }
            },
            "type": "barpolar"
           }
          ],
          "carpet": [
           {
            "aaxis": {
             "endlinecolor": "#2a3f5f",
             "gridcolor": "white",
             "linecolor": "white",
             "minorgridcolor": "white",
             "startlinecolor": "#2a3f5f"
            },
            "baxis": {
             "endlinecolor": "#2a3f5f",
             "gridcolor": "white",
             "linecolor": "white",
             "minorgridcolor": "white",
             "startlinecolor": "#2a3f5f"
            },
            "type": "carpet"
           }
          ],
          "choropleth": [
           {
            "colorbar": {
             "outlinewidth": 0,
             "ticks": ""
            },
            "type": "choropleth"
           }
          ],
          "contour": [
           {
            "colorbar": {
             "outlinewidth": 0,
             "ticks": ""
            },
            "colorscale": [
             [
              0,
              "#0d0887"
             ],
             [
              0.1111111111111111,
              "#46039f"
             ],
             [
              0.2222222222222222,
              "#7201a8"
             ],
             [
              0.3333333333333333,
              "#9c179e"
             ],
             [
              0.4444444444444444,
              "#bd3786"
             ],
             [
              0.5555555555555556,
              "#d8576b"
             ],
             [
              0.6666666666666666,
              "#ed7953"
             ],
             [
              0.7777777777777778,
              "#fb9f3a"
             ],
             [
              0.8888888888888888,
              "#fdca26"
             ],
             [
              1,
              "#f0f921"
             ]
            ],
            "type": "contour"
           }
          ],
          "contourcarpet": [
           {
            "colorbar": {
             "outlinewidth": 0,
             "ticks": ""
            },
            "type": "contourcarpet"
           }
          ],
          "heatmap": [
           {
            "colorbar": {
             "outlinewidth": 0,
             "ticks": ""
            },
            "colorscale": [
             [
              0,
              "#0d0887"
             ],
             [
              0.1111111111111111,
              "#46039f"
             ],
             [
              0.2222222222222222,
              "#7201a8"
             ],
             [
              0.3333333333333333,
              "#9c179e"
             ],
             [
              0.4444444444444444,
              "#bd3786"
             ],
             [
              0.5555555555555556,
              "#d8576b"
             ],
             [
              0.6666666666666666,
              "#ed7953"
             ],
             [
              0.7777777777777778,
              "#fb9f3a"
             ],
             [
              0.8888888888888888,
              "#fdca26"
             ],
             [
              1,
              "#f0f921"
             ]
            ],
            "type": "heatmap"
           }
          ],
          "heatmapgl": [
           {
            "colorbar": {
             "outlinewidth": 0,
             "ticks": ""
            },
            "colorscale": [
             [
              0,
              "#0d0887"
             ],
             [
              0.1111111111111111,
              "#46039f"
             ],
             [
              0.2222222222222222,
              "#7201a8"
             ],
             [
              0.3333333333333333,
              "#9c179e"
             ],
             [
              0.4444444444444444,
              "#bd3786"
             ],
             [
              0.5555555555555556,
              "#d8576b"
             ],
             [
              0.6666666666666666,
              "#ed7953"
             ],
             [
              0.7777777777777778,
              "#fb9f3a"
             ],
             [
              0.8888888888888888,
              "#fdca26"
             ],
             [
              1,
              "#f0f921"
             ]
            ],
            "type": "heatmapgl"
           }
          ],
          "histogram": [
           {
            "marker": {
             "pattern": {
              "fillmode": "overlay",
              "size": 10,
              "solidity": 0.2
             }
            },
            "type": "histogram"
           }
          ],
          "histogram2d": [
           {
            "colorbar": {
             "outlinewidth": 0,
             "ticks": ""
            },
            "colorscale": [
             [
              0,
              "#0d0887"
             ],
             [
              0.1111111111111111,
              "#46039f"
             ],
             [
              0.2222222222222222,
              "#7201a8"
             ],
             [
              0.3333333333333333,
              "#9c179e"
             ],
             [
              0.4444444444444444,
              "#bd3786"
             ],
             [
              0.5555555555555556,
              "#d8576b"
             ],
             [
              0.6666666666666666,
              "#ed7953"
             ],
             [
              0.7777777777777778,
              "#fb9f3a"
             ],
             [
              0.8888888888888888,
              "#fdca26"
             ],
             [
              1,
              "#f0f921"
             ]
            ],
            "type": "histogram2d"
           }
          ],
          "histogram2dcontour": [
           {
            "colorbar": {
             "outlinewidth": 0,
             "ticks": ""
            },
            "colorscale": [
             [
              0,
              "#0d0887"
             ],
             [
              0.1111111111111111,
              "#46039f"
             ],
             [
              0.2222222222222222,
              "#7201a8"
             ],
             [
              0.3333333333333333,
              "#9c179e"
             ],
             [
              0.4444444444444444,
              "#bd3786"
             ],
             [
              0.5555555555555556,
              "#d8576b"
             ],
             [
              0.6666666666666666,
              "#ed7953"
             ],
             [
              0.7777777777777778,
              "#fb9f3a"
             ],
             [
              0.8888888888888888,
              "#fdca26"
             ],
             [
              1,
              "#f0f921"
             ]
            ],
            "type": "histogram2dcontour"
           }
          ],
          "mesh3d": [
           {
            "colorbar": {
             "outlinewidth": 0,
             "ticks": ""
            },
            "type": "mesh3d"
           }
          ],
          "parcoords": [
           {
            "line": {
             "colorbar": {
              "outlinewidth": 0,
              "ticks": ""
             }
            },
            "type": "parcoords"
           }
          ],
          "pie": [
           {
            "automargin": true,
            "type": "pie"
           }
          ],
          "scatter": [
           {
            "marker": {
             "colorbar": {
              "outlinewidth": 0,
              "ticks": ""
             }
            },
            "type": "scatter"
           }
          ],
          "scatter3d": [
           {
            "line": {
             "colorbar": {
              "outlinewidth": 0,
              "ticks": ""
             }
            },
            "marker": {
             "colorbar": {
              "outlinewidth": 0,
              "ticks": ""
             }
            },
            "type": "scatter3d"
           }
          ],
          "scattercarpet": [
           {
            "marker": {
             "colorbar": {
              "outlinewidth": 0,
              "ticks": ""
             }
            },
            "type": "scattercarpet"
           }
          ],
          "scattergeo": [
           {
            "marker": {
             "colorbar": {
              "outlinewidth": 0,
              "ticks": ""
             }
            },
            "type": "scattergeo"
           }
          ],
          "scattergl": [
           {
            "marker": {
             "colorbar": {
              "outlinewidth": 0,
              "ticks": ""
             }
            },
            "type": "scattergl"
           }
          ],
          "scattermapbox": [
           {
            "marker": {
             "colorbar": {
              "outlinewidth": 0,
              "ticks": ""
             }
            },
            "type": "scattermapbox"
           }
          ],
          "scatterpolar": [
           {
            "marker": {
             "colorbar": {
              "outlinewidth": 0,
              "ticks": ""
             }
            },
            "type": "scatterpolar"
           }
          ],
          "scatterpolargl": [
           {
            "marker": {
             "colorbar": {
              "outlinewidth": 0,
              "ticks": ""
             }
            },
            "type": "scatterpolargl"
           }
          ],
          "scatterternary": [
           {
            "marker": {
             "colorbar": {
              "outlinewidth": 0,
              "ticks": ""
             }
            },
            "type": "scatterternary"
           }
          ],
          "surface": [
           {
            "colorbar": {
             "outlinewidth": 0,
             "ticks": ""
            },
            "colorscale": [
             [
              0,
              "#0d0887"
             ],
             [
              0.1111111111111111,
              "#46039f"
             ],
             [
              0.2222222222222222,
              "#7201a8"
             ],
             [
              0.3333333333333333,
              "#9c179e"
             ],
             [
              0.4444444444444444,
              "#bd3786"
             ],
             [
              0.5555555555555556,
              "#d8576b"
             ],
             [
              0.6666666666666666,
              "#ed7953"
             ],
             [
              0.7777777777777778,
              "#fb9f3a"
             ],
             [
              0.8888888888888888,
              "#fdca26"
             ],
             [
              1,
              "#f0f921"
             ]
            ],
            "type": "surface"
           }
          ],
          "table": [
           {
            "cells": {
             "fill": {
              "color": "#EBF0F8"
             },
             "line": {
              "color": "white"
             }
            },
            "header": {
             "fill": {
              "color": "#C8D4E3"
             },
             "line": {
              "color": "white"
             }
            },
            "type": "table"
           }
          ]
         },
         "layout": {
          "annotationdefaults": {
           "arrowcolor": "#2a3f5f",
           "arrowhead": 0,
           "arrowwidth": 1
          },
          "autotypenumbers": "strict",
          "coloraxis": {
           "colorbar": {
            "outlinewidth": 0,
            "ticks": ""
           }
          },
          "colorscale": {
           "diverging": [
            [
             0,
             "#8e0152"
            ],
            [
             0.1,
             "#c51b7d"
            ],
            [
             0.2,
             "#de77ae"
            ],
            [
             0.3,
             "#f1b6da"
            ],
            [
             0.4,
             "#fde0ef"
            ],
            [
             0.5,
             "#f7f7f7"
            ],
            [
             0.6,
             "#e6f5d0"
            ],
            [
             0.7,
             "#b8e186"
            ],
            [
             0.8,
             "#7fbc41"
            ],
            [
             0.9,
             "#4d9221"
            ],
            [
             1,
             "#276419"
            ]
           ],
           "sequential": [
            [
             0,
             "#0d0887"
            ],
            [
             0.1111111111111111,
             "#46039f"
            ],
            [
             0.2222222222222222,
             "#7201a8"
            ],
            [
             0.3333333333333333,
             "#9c179e"
            ],
            [
             0.4444444444444444,
             "#bd3786"
            ],
            [
             0.5555555555555556,
             "#d8576b"
            ],
            [
             0.6666666666666666,
             "#ed7953"
            ],
            [
             0.7777777777777778,
             "#fb9f3a"
            ],
            [
             0.8888888888888888,
             "#fdca26"
            ],
            [
             1,
             "#f0f921"
            ]
           ],
           "sequentialminus": [
            [
             0,
             "#0d0887"
            ],
            [
             0.1111111111111111,
             "#46039f"
            ],
            [
             0.2222222222222222,
             "#7201a8"
            ],
            [
             0.3333333333333333,
             "#9c179e"
            ],
            [
             0.4444444444444444,
             "#bd3786"
            ],
            [
             0.5555555555555556,
             "#d8576b"
            ],
            [
             0.6666666666666666,
             "#ed7953"
            ],
            [
             0.7777777777777778,
             "#fb9f3a"
            ],
            [
             0.8888888888888888,
             "#fdca26"
            ],
            [
             1,
             "#f0f921"
            ]
           ]
          },
          "colorway": [
           "#636efa",
           "#EF553B",
           "#00cc96",
           "#ab63fa",
           "#FFA15A",
           "#19d3f3",
           "#FF6692",
           "#B6E880",
           "#FF97FF",
           "#FECB52"
          ],
          "font": {
           "color": "#2a3f5f"
          },
          "geo": {
           "bgcolor": "white",
           "lakecolor": "white",
           "landcolor": "#E5ECF6",
           "showlakes": true,
           "showland": true,
           "subunitcolor": "white"
          },
          "hoverlabel": {
           "align": "left"
          },
          "hovermode": "closest",
          "mapbox": {
           "style": "light"
          },
          "paper_bgcolor": "white",
          "plot_bgcolor": "#E5ECF6",
          "polar": {
           "angularaxis": {
            "gridcolor": "white",
            "linecolor": "white",
            "ticks": ""
           },
           "bgcolor": "#E5ECF6",
           "radialaxis": {
            "gridcolor": "white",
            "linecolor": "white",
            "ticks": ""
           }
          },
          "scene": {
           "xaxis": {
            "backgroundcolor": "#E5ECF6",
            "gridcolor": "white",
            "gridwidth": 2,
            "linecolor": "white",
            "showbackground": true,
            "ticks": "",
            "zerolinecolor": "white"
           },
           "yaxis": {
            "backgroundcolor": "#E5ECF6",
            "gridcolor": "white",
            "gridwidth": 2,
            "linecolor": "white",
            "showbackground": true,
            "ticks": "",
            "zerolinecolor": "white"
           },
           "zaxis": {
            "backgroundcolor": "#E5ECF6",
            "gridcolor": "white",
            "gridwidth": 2,
            "linecolor": "white",
            "showbackground": true,
            "ticks": "",
            "zerolinecolor": "white"
           }
          },
          "shapedefaults": {
           "line": {
            "color": "#2a3f5f"
           }
          },
          "ternary": {
           "aaxis": {
            "gridcolor": "white",
            "linecolor": "white",
            "ticks": ""
           },
           "baxis": {
            "gridcolor": "white",
            "linecolor": "white",
            "ticks": ""
           },
           "bgcolor": "#E5ECF6",
           "caxis": {
            "gridcolor": "white",
            "linecolor": "white",
            "ticks": ""
           }
          },
          "title": {
           "x": 0.05
          },
          "xaxis": {
           "automargin": true,
           "gridcolor": "white",
           "linecolor": "white",
           "ticks": "",
           "title": {
            "standoff": 15
           },
           "zerolinecolor": "white",
           "zerolinewidth": 2
          },
          "yaxis": {
           "automargin": true,
           "gridcolor": "white",
           "linecolor": "white",
           "ticks": "",
           "title": {
            "standoff": 15
           },
           "zerolinecolor": "white",
           "zerolinewidth": 2
          }
         }
        },
        "title": {
         "font": {
          "color": "#4D5663"
         }
        },
        "xaxis": {
         "gridcolor": "#E1E5ED",
         "showgrid": true,
         "tickfont": {
          "color": "#4D5663"
         },
         "title": {
          "font": {
           "color": "#4D5663"
          },
          "text": ""
         },
         "zerolinecolor": "#E1E5ED"
        },
        "yaxis": {
         "gridcolor": "#E1E5ED",
         "showgrid": true,
         "tickfont": {
          "color": "#4D5663"
         },
         "title": {
          "font": {
           "color": "#4D5663"
          },
          "text": ""
         },
         "zerolinecolor": "#E1E5ED"
        }
       }
      },
      "text/html": [
       "<div>                            <div id=\"2556d329-304d-4cdd-8356-0deb86c9b7ae\" class=\"plotly-graph-div\" style=\"height:525px; width:100%;\"></div>            <script type=\"text/javascript\">                require([\"plotly\"], function(Plotly) {                    window.PLOTLYENV=window.PLOTLYENV || {};\n",
       "                    window.PLOTLYENV.BASE_URL='https://plot.ly';                                    if (document.getElementById(\"2556d329-304d-4cdd-8356-0deb86c9b7ae\")) {                    Plotly.newPlot(                        \"2556d329-304d-4cdd-8356-0deb86c9b7ae\",                        [{\"marker\":{\"color\":\"rgba(255, 153, 51, 0.6)\",\"line\":{\"color\":\"rgba(255, 153, 51, 1.0)\",\"width\":1}},\"name\":\"Values\",\"orientation\":\"v\",\"text\":\"\",\"type\":\"bar\",\"x\":[\"A\",\"B\",\"C\"],\"y\":[32,43,50]}],                        {\"legend\":{\"bgcolor\":\"#F5F6F9\",\"font\":{\"color\":\"#4D5663\"}},\"paper_bgcolor\":\"#F5F6F9\",\"plot_bgcolor\":\"#F5F6F9\",\"template\":{\"data\":{\"bar\":[{\"error_x\":{\"color\":\"#2a3f5f\"},\"error_y\":{\"color\":\"#2a3f5f\"},\"marker\":{\"line\":{\"color\":\"#E5ECF6\",\"width\":0.5},\"pattern\":{\"fillmode\":\"overlay\",\"size\":10,\"solidity\":0.2}},\"type\":\"bar\"}],\"barpolar\":[{\"marker\":{\"line\":{\"color\":\"#E5ECF6\",\"width\":0.5},\"pattern\":{\"fillmode\":\"overlay\",\"size\":10,\"solidity\":0.2}},\"type\":\"barpolar\"}],\"carpet\":[{\"aaxis\":{\"endlinecolor\":\"#2a3f5f\",\"gridcolor\":\"white\",\"linecolor\":\"white\",\"minorgridcolor\":\"white\",\"startlinecolor\":\"#2a3f5f\"},\"baxis\":{\"endlinecolor\":\"#2a3f5f\",\"gridcolor\":\"white\",\"linecolor\":\"white\",\"minorgridcolor\":\"white\",\"startlinecolor\":\"#2a3f5f\"},\"type\":\"carpet\"}],\"choropleth\":[{\"colorbar\":{\"outlinewidth\":0,\"ticks\":\"\"},\"type\":\"choropleth\"}],\"contour\":[{\"colorbar\":{\"outlinewidth\":0,\"ticks\":\"\"},\"colorscale\":[[0.0,\"#0d0887\"],[0.1111111111111111,\"#46039f\"],[0.2222222222222222,\"#7201a8\"],[0.3333333333333333,\"#9c179e\"],[0.4444444444444444,\"#bd3786\"],[0.5555555555555556,\"#d8576b\"],[0.6666666666666666,\"#ed7953\"],[0.7777777777777778,\"#fb9f3a\"],[0.8888888888888888,\"#fdca26\"],[1.0,\"#f0f921\"]],\"type\":\"contour\"}],\"contourcarpet\":[{\"colorbar\":{\"outlinewidth\":0,\"ticks\":\"\"},\"type\":\"contourcarpet\"}],\"heatmap\":[{\"colorbar\":{\"outlinewidth\":0,\"ticks\":\"\"},\"colorscale\":[[0.0,\"#0d0887\"],[0.1111111111111111,\"#46039f\"],[0.2222222222222222,\"#7201a8\"],[0.3333333333333333,\"#9c179e\"],[0.4444444444444444,\"#bd3786\"],[0.5555555555555556,\"#d8576b\"],[0.6666666666666666,\"#ed7953\"],[0.7777777777777778,\"#fb9f3a\"],[0.8888888888888888,\"#fdca26\"],[1.0,\"#f0f921\"]],\"type\":\"heatmap\"}],\"heatmapgl\":[{\"colorbar\":{\"outlinewidth\":0,\"ticks\":\"\"},\"colorscale\":[[0.0,\"#0d0887\"],[0.1111111111111111,\"#46039f\"],[0.2222222222222222,\"#7201a8\"],[0.3333333333333333,\"#9c179e\"],[0.4444444444444444,\"#bd3786\"],[0.5555555555555556,\"#d8576b\"],[0.6666666666666666,\"#ed7953\"],[0.7777777777777778,\"#fb9f3a\"],[0.8888888888888888,\"#fdca26\"],[1.0,\"#f0f921\"]],\"type\":\"heatmapgl\"}],\"histogram\":[{\"marker\":{\"pattern\":{\"fillmode\":\"overlay\",\"size\":10,\"solidity\":0.2}},\"type\":\"histogram\"}],\"histogram2d\":[{\"colorbar\":{\"outlinewidth\":0,\"ticks\":\"\"},\"colorscale\":[[0.0,\"#0d0887\"],[0.1111111111111111,\"#46039f\"],[0.2222222222222222,\"#7201a8\"],[0.3333333333333333,\"#9c179e\"],[0.4444444444444444,\"#bd3786\"],[0.5555555555555556,\"#d8576b\"],[0.6666666666666666,\"#ed7953\"],[0.7777777777777778,\"#fb9f3a\"],[0.8888888888888888,\"#fdca26\"],[1.0,\"#f0f921\"]],\"type\":\"histogram2d\"}],\"histogram2dcontour\":[{\"colorbar\":{\"outlinewidth\":0,\"ticks\":\"\"},\"colorscale\":[[0.0,\"#0d0887\"],[0.1111111111111111,\"#46039f\"],[0.2222222222222222,\"#7201a8\"],[0.3333333333333333,\"#9c179e\"],[0.4444444444444444,\"#bd3786\"],[0.5555555555555556,\"#d8576b\"],[0.6666666666666666,\"#ed7953\"],[0.7777777777777778,\"#fb9f3a\"],[0.8888888888888888,\"#fdca26\"],[1.0,\"#f0f921\"]],\"type\":\"histogram2dcontour\"}],\"mesh3d\":[{\"colorbar\":{\"outlinewidth\":0,\"ticks\":\"\"},\"type\":\"mesh3d\"}],\"parcoords\":[{\"line\":{\"colorbar\":{\"outlinewidth\":0,\"ticks\":\"\"}},\"type\":\"parcoords\"}],\"pie\":[{\"automargin\":true,\"type\":\"pie\"}],\"scatter\":[{\"marker\":{\"colorbar\":{\"outlinewidth\":0,\"ticks\":\"\"}},\"type\":\"scatter\"}],\"scatter3d\":[{\"line\":{\"colorbar\":{\"outlinewidth\":0,\"ticks\":\"\"}},\"marker\":{\"colorbar\":{\"outlinewidth\":0,\"ticks\":\"\"}},\"type\":\"scatter3d\"}],\"scattercarpet\":[{\"marker\":{\"colorbar\":{\"outlinewidth\":0,\"ticks\":\"\"}},\"type\":\"scattercarpet\"}],\"scattergeo\":[{\"marker\":{\"colorbar\":{\"outlinewidth\":0,\"ticks\":\"\"}},\"type\":\"scattergeo\"}],\"scattergl\":[{\"marker\":{\"colorbar\":{\"outlinewidth\":0,\"ticks\":\"\"}},\"type\":\"scattergl\"}],\"scattermapbox\":[{\"marker\":{\"colorbar\":{\"outlinewidth\":0,\"ticks\":\"\"}},\"type\":\"scattermapbox\"}],\"scatterpolar\":[{\"marker\":{\"colorbar\":{\"outlinewidth\":0,\"ticks\":\"\"}},\"type\":\"scatterpolar\"}],\"scatterpolargl\":[{\"marker\":{\"colorbar\":{\"outlinewidth\":0,\"ticks\":\"\"}},\"type\":\"scatterpolargl\"}],\"scatterternary\":[{\"marker\":{\"colorbar\":{\"outlinewidth\":0,\"ticks\":\"\"}},\"type\":\"scatterternary\"}],\"surface\":[{\"colorbar\":{\"outlinewidth\":0,\"ticks\":\"\"},\"colorscale\":[[0.0,\"#0d0887\"],[0.1111111111111111,\"#46039f\"],[0.2222222222222222,\"#7201a8\"],[0.3333333333333333,\"#9c179e\"],[0.4444444444444444,\"#bd3786\"],[0.5555555555555556,\"#d8576b\"],[0.6666666666666666,\"#ed7953\"],[0.7777777777777778,\"#fb9f3a\"],[0.8888888888888888,\"#fdca26\"],[1.0,\"#f0f921\"]],\"type\":\"surface\"}],\"table\":[{\"cells\":{\"fill\":{\"color\":\"#EBF0F8\"},\"line\":{\"color\":\"white\"}},\"header\":{\"fill\":{\"color\":\"#C8D4E3\"},\"line\":{\"color\":\"white\"}},\"type\":\"table\"}]},\"layout\":{\"annotationdefaults\":{\"arrowcolor\":\"#2a3f5f\",\"arrowhead\":0,\"arrowwidth\":1},\"autotypenumbers\":\"strict\",\"coloraxis\":{\"colorbar\":{\"outlinewidth\":0,\"ticks\":\"\"}},\"colorscale\":{\"diverging\":[[0,\"#8e0152\"],[0.1,\"#c51b7d\"],[0.2,\"#de77ae\"],[0.3,\"#f1b6da\"],[0.4,\"#fde0ef\"],[0.5,\"#f7f7f7\"],[0.6,\"#e6f5d0\"],[0.7,\"#b8e186\"],[0.8,\"#7fbc41\"],[0.9,\"#4d9221\"],[1,\"#276419\"]],\"sequential\":[[0.0,\"#0d0887\"],[0.1111111111111111,\"#46039f\"],[0.2222222222222222,\"#7201a8\"],[0.3333333333333333,\"#9c179e\"],[0.4444444444444444,\"#bd3786\"],[0.5555555555555556,\"#d8576b\"],[0.6666666666666666,\"#ed7953\"],[0.7777777777777778,\"#fb9f3a\"],[0.8888888888888888,\"#fdca26\"],[1.0,\"#f0f921\"]],\"sequentialminus\":[[0.0,\"#0d0887\"],[0.1111111111111111,\"#46039f\"],[0.2222222222222222,\"#7201a8\"],[0.3333333333333333,\"#9c179e\"],[0.4444444444444444,\"#bd3786\"],[0.5555555555555556,\"#d8576b\"],[0.6666666666666666,\"#ed7953\"],[0.7777777777777778,\"#fb9f3a\"],[0.8888888888888888,\"#fdca26\"],[1.0,\"#f0f921\"]]},\"colorway\":[\"#636efa\",\"#EF553B\",\"#00cc96\",\"#ab63fa\",\"#FFA15A\",\"#19d3f3\",\"#FF6692\",\"#B6E880\",\"#FF97FF\",\"#FECB52\"],\"font\":{\"color\":\"#2a3f5f\"},\"geo\":{\"bgcolor\":\"white\",\"lakecolor\":\"white\",\"landcolor\":\"#E5ECF6\",\"showlakes\":true,\"showland\":true,\"subunitcolor\":\"white\"},\"hoverlabel\":{\"align\":\"left\"},\"hovermode\":\"closest\",\"mapbox\":{\"style\":\"light\"},\"paper_bgcolor\":\"white\",\"plot_bgcolor\":\"#E5ECF6\",\"polar\":{\"angularaxis\":{\"gridcolor\":\"white\",\"linecolor\":\"white\",\"ticks\":\"\"},\"bgcolor\":\"#E5ECF6\",\"radialaxis\":{\"gridcolor\":\"white\",\"linecolor\":\"white\",\"ticks\":\"\"}},\"scene\":{\"xaxis\":{\"backgroundcolor\":\"#E5ECF6\",\"gridcolor\":\"white\",\"gridwidth\":2,\"linecolor\":\"white\",\"showbackground\":true,\"ticks\":\"\",\"zerolinecolor\":\"white\"},\"yaxis\":{\"backgroundcolor\":\"#E5ECF6\",\"gridcolor\":\"white\",\"gridwidth\":2,\"linecolor\":\"white\",\"showbackground\":true,\"ticks\":\"\",\"zerolinecolor\":\"white\"},\"zaxis\":{\"backgroundcolor\":\"#E5ECF6\",\"gridcolor\":\"white\",\"gridwidth\":2,\"linecolor\":\"white\",\"showbackground\":true,\"ticks\":\"\",\"zerolinecolor\":\"white\"}},\"shapedefaults\":{\"line\":{\"color\":\"#2a3f5f\"}},\"ternary\":{\"aaxis\":{\"gridcolor\":\"white\",\"linecolor\":\"white\",\"ticks\":\"\"},\"baxis\":{\"gridcolor\":\"white\",\"linecolor\":\"white\",\"ticks\":\"\"},\"bgcolor\":\"#E5ECF6\",\"caxis\":{\"gridcolor\":\"white\",\"linecolor\":\"white\",\"ticks\":\"\"}},\"title\":{\"x\":0.05},\"xaxis\":{\"automargin\":true,\"gridcolor\":\"white\",\"linecolor\":\"white\",\"ticks\":\"\",\"title\":{\"standoff\":15},\"zerolinecolor\":\"white\",\"zerolinewidth\":2},\"yaxis\":{\"automargin\":true,\"gridcolor\":\"white\",\"linecolor\":\"white\",\"ticks\":\"\",\"title\":{\"standoff\":15},\"zerolinecolor\":\"white\",\"zerolinewidth\":2}}},\"title\":{\"font\":{\"color\":\"#4D5663\"}},\"xaxis\":{\"gridcolor\":\"#E1E5ED\",\"showgrid\":true,\"tickfont\":{\"color\":\"#4D5663\"},\"title\":{\"font\":{\"color\":\"#4D5663\"},\"text\":\"\"},\"zerolinecolor\":\"#E1E5ED\"},\"yaxis\":{\"gridcolor\":\"#E1E5ED\",\"showgrid\":true,\"tickfont\":{\"color\":\"#4D5663\"},\"title\":{\"font\":{\"color\":\"#4D5663\"},\"text\":\"\"},\"zerolinecolor\":\"#E1E5ED\"}},                        {\"showLink\": true, \"linkText\": \"Export to plot.ly\", \"plotlyServerURL\": \"https://plot.ly\", \"responsive\": true}                    ).then(function(){\n",
       "                            \n",
       "var gd = document.getElementById('2556d329-304d-4cdd-8356-0deb86c9b7ae');\n",
       "var x = new MutationObserver(function (mutations, observer) {{\n",
       "        var display = window.getComputedStyle(gd).display;\n",
       "        if (!display || display === 'none') {{\n",
       "            console.log([gd, 'removed!']);\n",
       "            Plotly.purge(gd);\n",
       "            observer.disconnect();\n",
       "        }}\n",
       "}});\n",
       "\n",
       "// Listen for the removal of the full notebook cells\n",
       "var notebookContainer = gd.closest('#notebook-container');\n",
       "if (notebookContainer) {{\n",
       "    x.observe(notebookContainer, {childList: true});\n",
       "}}\n",
       "\n",
       "// Listen for the clearing of the current output cell\n",
       "var outputEl = gd.closest('.output');\n",
       "if (outputEl) {{\n",
       "    x.observe(outputEl, {childList: true});\n",
       "}}\n",
       "\n",
       "                        })                };                });            </script>        </div>"
      ]
     },
     "metadata": {},
     "output_type": "display_data"
    }
   ],
   "source": [
    "df2.iplot(kind='bar',x='Category',y='Values')"
   ]
  },
  {
   "cell_type": "code",
   "execution_count": 23,
   "metadata": {},
   "outputs": [
    {
     "data": {
      "text/html": [
       "<div>\n",
       "<style scoped>\n",
       "    .dataframe tbody tr th:only-of-type {\n",
       "        vertical-align: middle;\n",
       "    }\n",
       "\n",
       "    .dataframe tbody tr th {\n",
       "        vertical-align: top;\n",
       "    }\n",
       "\n",
       "    .dataframe thead th {\n",
       "        text-align: right;\n",
       "    }\n",
       "</style>\n",
       "<table border=\"1\" class=\"dataframe\">\n",
       "  <thead>\n",
       "    <tr style=\"text-align: right;\">\n",
       "      <th></th>\n",
       "      <th>A</th>\n",
       "      <th>B</th>\n",
       "      <th>C</th>\n",
       "      <th>D</th>\n",
       "    </tr>\n",
       "  </thead>\n",
       "  <tbody>\n",
       "    <tr>\n",
       "      <th>0</th>\n",
       "      <td>-1.252615</td>\n",
       "      <td>1.429907</td>\n",
       "      <td>1.497365</td>\n",
       "      <td>-0.760752</td>\n",
       "    </tr>\n",
       "    <tr>\n",
       "      <th>1</th>\n",
       "      <td>-0.059703</td>\n",
       "      <td>-0.336269</td>\n",
       "      <td>-1.365264</td>\n",
       "      <td>-1.254568</td>\n",
       "    </tr>\n",
       "    <tr>\n",
       "      <th>2</th>\n",
       "      <td>1.186141</td>\n",
       "      <td>-0.224039</td>\n",
       "      <td>-0.463385</td>\n",
       "      <td>-0.878883</td>\n",
       "    </tr>\n",
       "    <tr>\n",
       "      <th>3</th>\n",
       "      <td>-0.087611</td>\n",
       "      <td>-0.106252</td>\n",
       "      <td>-0.655416</td>\n",
       "      <td>-0.136651</td>\n",
       "    </tr>\n",
       "    <tr>\n",
       "      <th>4</th>\n",
       "      <td>0.079506</td>\n",
       "      <td>0.247488</td>\n",
       "      <td>-0.873404</td>\n",
       "      <td>0.074743</td>\n",
       "    </tr>\n",
       "    <tr>\n",
       "      <th>...</th>\n",
       "      <td>...</td>\n",
       "      <td>...</td>\n",
       "      <td>...</td>\n",
       "      <td>...</td>\n",
       "    </tr>\n",
       "    <tr>\n",
       "      <th>95</th>\n",
       "      <td>-0.555839</td>\n",
       "      <td>-0.556065</td>\n",
       "      <td>0.154658</td>\n",
       "      <td>0.666733</td>\n",
       "    </tr>\n",
       "    <tr>\n",
       "      <th>96</th>\n",
       "      <td>-0.083749</td>\n",
       "      <td>-1.291710</td>\n",
       "      <td>-0.287213</td>\n",
       "      <td>-0.368432</td>\n",
       "    </tr>\n",
       "    <tr>\n",
       "      <th>97</th>\n",
       "      <td>-0.192565</td>\n",
       "      <td>0.196186</td>\n",
       "      <td>0.818788</td>\n",
       "      <td>-0.914237</td>\n",
       "    </tr>\n",
       "    <tr>\n",
       "      <th>98</th>\n",
       "      <td>-0.378373</td>\n",
       "      <td>1.832055</td>\n",
       "      <td>-0.427027</td>\n",
       "      <td>-0.427186</td>\n",
       "    </tr>\n",
       "    <tr>\n",
       "      <th>99</th>\n",
       "      <td>-1.004111</td>\n",
       "      <td>1.136165</td>\n",
       "      <td>0.279992</td>\n",
       "      <td>2.040830</td>\n",
       "    </tr>\n",
       "  </tbody>\n",
       "</table>\n",
       "<p>100 rows × 4 columns</p>\n",
       "</div>"
      ],
      "text/plain": [
       "           A         B         C         D\n",
       "0  -1.252615  1.429907  1.497365 -0.760752\n",
       "1  -0.059703 -0.336269 -1.365264 -1.254568\n",
       "2   1.186141 -0.224039 -0.463385 -0.878883\n",
       "3  -0.087611 -0.106252 -0.655416 -0.136651\n",
       "4   0.079506  0.247488 -0.873404  0.074743\n",
       "..       ...       ...       ...       ...\n",
       "95 -0.555839 -0.556065  0.154658  0.666733\n",
       "96 -0.083749 -1.291710 -0.287213 -0.368432\n",
       "97 -0.192565  0.196186  0.818788 -0.914237\n",
       "98 -0.378373  1.832055 -0.427027 -0.427186\n",
       "99 -1.004111  1.136165  0.279992  2.040830\n",
       "\n",
       "[100 rows x 4 columns]"
      ]
     },
     "execution_count": 23,
     "metadata": {},
     "output_type": "execute_result"
    }
   ],
   "source": [
    "df"
   ]
  },
  {
   "cell_type": "code",
   "execution_count": 25,
   "metadata": {},
   "outputs": [
    {
     "data": {
      "application/vnd.plotly.v1+json": {
       "config": {
        "linkText": "Export to plot.ly",
        "plotlyServerURL": "https://plot.ly",
        "showLink": true
       },
       "data": [
        {
         "marker": {
          "color": "rgba(255, 153, 51, 0.6)",
          "line": {
           "color": "rgba(255, 153, 51, 1.0)",
           "width": 1
          }
         },
         "name": "A",
         "orientation": "v",
         "text": "",
         "type": "bar",
         "x": [
          0,
          1,
          2,
          3,
          4,
          5,
          6,
          7,
          8,
          9,
          10,
          11,
          12,
          13,
          14,
          15,
          16,
          17,
          18,
          19,
          20,
          21,
          22,
          23,
          24,
          25,
          26,
          27,
          28,
          29,
          30,
          31,
          32,
          33,
          34,
          35,
          36,
          37,
          38,
          39,
          40,
          41,
          42,
          43,
          44,
          45,
          46,
          47,
          48,
          49,
          50,
          51,
          52,
          53,
          54,
          55,
          56,
          57,
          58,
          59,
          60,
          61,
          62,
          63,
          64,
          65,
          66,
          67,
          68,
          69,
          70,
          71,
          72,
          73,
          74,
          75,
          76,
          77,
          78,
          79,
          80,
          81,
          82,
          83,
          84,
          85,
          86,
          87,
          88,
          89,
          90,
          91,
          92,
          93,
          94,
          95,
          96,
          97,
          98,
          99
         ],
         "y": [
          -1.252614793086047,
          -0.05970334235749016,
          1.1861410783422972,
          -0.08761128715742864,
          0.07950640464429827,
          1.2280562668624604,
          -1.3278069263914265,
          -1.363119785987805,
          -1.1386232623492012,
          -0.8393437156317276,
          -0.4541080744300972,
          2.0343495796888282,
          -3.09049460215665,
          0.16073727481802083,
          -0.4197095473149091,
          -0.2387478469942015,
          -0.059737805366917265,
          0.637232411048166,
          -0.16098446078613787,
          -0.39044693665236124,
          -0.18335785148903647,
          -1.4665474154877824,
          -0.9467091070463365,
          -1.363086400891611,
          1.1419161233127382,
          -0.8990356765986693,
          -0.47877126318615904,
          -0.08723595655352805,
          0.28836519048925785,
          0.4535211994873111,
          0.6072750672172921,
          0.7920328635238127,
          0.9210688520723921,
          0.8431813681496602,
          0.14682019235661373,
          -1.1829671348247588,
          -1.0438065432704076,
          1.4143243674487795,
          0.709957119062226,
          -0.6850164620237267,
          -1.0010708187907489,
          -0.34860627566652763,
          1.9900831507298398,
          0.18725017639146913,
          -0.6255124774152,
          -1.6017317227276038,
          0.885042918633726,
          0.7428077103813263,
          -0.8924785069045459,
          -1.3308889418400802,
          3.003745396974862,
          0.3371032077767076,
          0.46679193086201903,
          0.36616511575153876,
          -0.416335845412642,
          1.5194644015341876,
          0.5211470076410264,
          -1.5036153475796188,
          -0.26626662937057033,
          0.6978691732337882,
          -0.09511084342263629,
          0.30075260301102774,
          0.03197028510486337,
          1.4282640809936629,
          0.33128440588935226,
          0.8760426680096519,
          -0.04282550929148523,
          -1.4869944424905852,
          1.1016632292962907,
          -1.432616353521275,
          1.5575716683045684,
          -0.3201993175852064,
          0.3085393750442976,
          -1.6767132815810286,
          -0.43613840129391807,
          0.5444947534040682,
          -0.9564608279120181,
          -1.2149259364052323,
          0.2619339163954011,
          1.1510318594062585,
          -1.4935781096730616,
          -1.5364588271684487,
          -0.2014536368998715,
          1.0317682182611458,
          -1.2008107718275032,
          0.6417163449601327,
          2.0525571724871856,
          0.4544224835172775,
          0.8604257046342394,
          0.024338875911690164,
          0.4034582647556379,
          -0.31260916146689444,
          0.020281310347106393,
          -0.29632252607525494,
          -0.3145363114608712,
          -0.5558389308669797,
          -0.08374887468313946,
          -0.1925649721641307,
          -0.37837314814356626,
          -1.004110983807644
         ]
        },
        {
         "marker": {
          "color": "rgba(55, 128, 191, 0.6)",
          "line": {
           "color": "rgba(55, 128, 191, 1.0)",
           "width": 1
          }
         },
         "name": "B",
         "orientation": "v",
         "text": "",
         "type": "bar",
         "x": [
          0,
          1,
          2,
          3,
          4,
          5,
          6,
          7,
          8,
          9,
          10,
          11,
          12,
          13,
          14,
          15,
          16,
          17,
          18,
          19,
          20,
          21,
          22,
          23,
          24,
          25,
          26,
          27,
          28,
          29,
          30,
          31,
          32,
          33,
          34,
          35,
          36,
          37,
          38,
          39,
          40,
          41,
          42,
          43,
          44,
          45,
          46,
          47,
          48,
          49,
          50,
          51,
          52,
          53,
          54,
          55,
          56,
          57,
          58,
          59,
          60,
          61,
          62,
          63,
          64,
          65,
          66,
          67,
          68,
          69,
          70,
          71,
          72,
          73,
          74,
          75,
          76,
          77,
          78,
          79,
          80,
          81,
          82,
          83,
          84,
          85,
          86,
          87,
          88,
          89,
          90,
          91,
          92,
          93,
          94,
          95,
          96,
          97,
          98,
          99
         ],
         "y": [
          1.429907173744965,
          -0.3362692153993021,
          -0.22403939638327913,
          -0.1062523944097891,
          0.2474881419869791,
          -2.951570498412787,
          -1.3150465437708856,
          -0.09564344114602419,
          0.7924691287634381,
          -0.11059481319784327,
          -0.9574735207257397,
          -2.7741406899349563,
          -1.0816982566045203,
          -0.7050395721831006,
          -0.030415434382019057,
          -0.4233816135656058,
          1.13409136177349,
          -0.40242588625630915,
          -0.294198850624815,
          -0.10088674274843744,
          1.0390784149843242,
          0.5165220382316772,
          1.0292362169286038,
          -0.9443881069654166,
          -0.03415047970036683,
          -1.302863193040769,
          -1.8739862933198712,
          -0.14083809321526172,
          -1.027560506025851,
          -0.19154403604307874,
          1.188705505404244,
          0.8103271790333249,
          0.27403939984770914,
          -0.7969627075630051,
          1.1289182632483334,
          -1.6358823872587878,
          -0.6503428428357034,
          -0.6587248753403122,
          -0.8986836433415368,
          -1.2910519644339522,
          0.37456483954536046,
          -2.3331353592693427,
          -1.353315814768125,
          -1.6109918954270386,
          2.574398806434323,
          -0.7419382066961051,
          1.0111811133768143,
          0.8627681851633381,
          1.0684844064238004,
          0.9584140081934572,
          -1.2724226953088429,
          0.5623348949596787,
          0.21278803036445387,
          0.6362092764330177,
          -1.1507486672395217,
          0.480023659069112,
          -1.3364127200675031,
          0.8452624019906536,
          0.2509777094027647,
          0.20317230448967902,
          -2.5580200049648996,
          0.47164544114003987,
          0.13608375887967908,
          -1.3413832491890092,
          1.0794295284681177,
          0.03791755550436143,
          2.1927622697418774,
          1.7239478391164735,
          -0.8441975536242636,
          -0.555562737221605,
          0.8962983600870705,
          1.7163996644440285,
          0.3861053154127059,
          -0.5053146823691147,
          0.6629732990578995,
          1.7291436937887452,
          -0.19791142080973972,
          -0.17758994884436066,
          0.3835728374808757,
          0.1206356970118862,
          -0.5839764747918563,
          0.6562070488071372,
          0.79818803972454,
          -1.317059527577753,
          -0.36660244714059637,
          -0.07092316904929655,
          -1.9885058041209265,
          0.36046441628701004,
          -0.3787904255840291,
          0.40687581684755036,
          -0.9740597784537262,
          -0.5963017374604368,
          1.292358219538622,
          -0.678637329096281,
          -0.11217221669830485,
          -0.556064599371359,
          -1.2917102576840802,
          0.1961856894863246,
          1.8320554131446811,
          1.1361645082224023
         ]
        },
        {
         "marker": {
          "color": "rgba(50, 171, 96, 0.6)",
          "line": {
           "color": "rgba(50, 171, 96, 1.0)",
           "width": 1
          }
         },
         "name": "C",
         "orientation": "v",
         "text": "",
         "type": "bar",
         "x": [
          0,
          1,
          2,
          3,
          4,
          5,
          6,
          7,
          8,
          9,
          10,
          11,
          12,
          13,
          14,
          15,
          16,
          17,
          18,
          19,
          20,
          21,
          22,
          23,
          24,
          25,
          26,
          27,
          28,
          29,
          30,
          31,
          32,
          33,
          34,
          35,
          36,
          37,
          38,
          39,
          40,
          41,
          42,
          43,
          44,
          45,
          46,
          47,
          48,
          49,
          50,
          51,
          52,
          53,
          54,
          55,
          56,
          57,
          58,
          59,
          60,
          61,
          62,
          63,
          64,
          65,
          66,
          67,
          68,
          69,
          70,
          71,
          72,
          73,
          74,
          75,
          76,
          77,
          78,
          79,
          80,
          81,
          82,
          83,
          84,
          85,
          86,
          87,
          88,
          89,
          90,
          91,
          92,
          93,
          94,
          95,
          96,
          97,
          98,
          99
         ],
         "y": [
          1.497365056261028,
          -1.3652639392192893,
          -0.4633848596042667,
          -0.6554155737090046,
          -0.873403949723717,
          0.05599352265517801,
          -0.34473828248271027,
          -0.41319903909836236,
          -2.044032644851402,
          -0.3987393454406875,
          1.1597178016054088,
          -1.502703163866186,
          0.23826714360142273,
          -1.5741392475854807,
          0.7816858134640635,
          -2.142846708586097,
          -1.1859370206584845,
          0.33445280073709727,
          -0.7667894723828541,
          1.2527282906266344,
          -0.19539795589395198,
          0.7326304554079953,
          0.04444226457106558,
          -1.556251136029763,
          -0.27447090560656606,
          0.039518802829135904,
          -0.02416001405173457,
          -0.5242725573805086,
          -0.8428442369549263,
          -0.9811777369886999,
          -0.3350095463442984,
          0.990050751506994,
          0.017554043186999775,
          0.2783947893725052,
          -0.06539150267349131,
          0.5611531072387262,
          -0.5433755998816096,
          0.2877606032303694,
          -0.39623450285943856,
          0.4281403826859208,
          0.12491994104865614,
          -0.8686705362189602,
          -1.0093119510785222,
          -1.7450992786587147,
          1.2677715076129603,
          1.1909806049583975,
          0.27740851207658335,
          0.6833561525713735,
          0.4283470277056508,
          0.7913812387268874,
          -0.5557615424139913,
          -0.21904396042115679,
          0.08964190646166481,
          0.021193571224057968,
          0.6050834546942213,
          -1.1619352848327547,
          1.0143367637627896,
          0.6639951131808542,
          1.018881240687566,
          0.9919337469405568,
          -1.3286952823498934,
          0.0887076694256689,
          0.8409303174685794,
          0.04430809594242096,
          -1.1306458993693478,
          2.0736318396393814,
          -0.14677037462178721,
          -1.3931223572680242,
          -2.0547424091586253,
          0.6128352101220416,
          -1.3654986018914061,
          -0.4736373234472714,
          1.5474841315174899,
          1.4023528581155102,
          0.2671475960322153,
          1.2783022300586027,
          -1.5729061331608103,
          -1.263124573100888,
          -0.6798291541866253,
          -0.07536756430411999,
          0.3387490431114079,
          1.7316981530795819,
          -0.09149845946313058,
          0.8606384957577545,
          -0.04059028826209647,
          -0.13740954203864353,
          -0.617304623092329,
          2.0731238475848937,
          -0.820298203736963,
          -0.26698591194207655,
          0.7321591287947562,
          -0.821972232165776,
          -0.6262152567039138,
          -0.08896112446005197,
          -2.5427473812318784,
          0.1546583782646699,
          -0.28721326963380284,
          0.8187876780277029,
          -0.4270266101320868,
          0.27999194420218215
         ]
        },
        {
         "marker": {
          "color": "rgba(128, 0, 128, 0.6)",
          "line": {
           "color": "rgba(128, 0, 128, 1.0)",
           "width": 1
          }
         },
         "name": "D",
         "orientation": "v",
         "text": "",
         "type": "bar",
         "x": [
          0,
          1,
          2,
          3,
          4,
          5,
          6,
          7,
          8,
          9,
          10,
          11,
          12,
          13,
          14,
          15,
          16,
          17,
          18,
          19,
          20,
          21,
          22,
          23,
          24,
          25,
          26,
          27,
          28,
          29,
          30,
          31,
          32,
          33,
          34,
          35,
          36,
          37,
          38,
          39,
          40,
          41,
          42,
          43,
          44,
          45,
          46,
          47,
          48,
          49,
          50,
          51,
          52,
          53,
          54,
          55,
          56,
          57,
          58,
          59,
          60,
          61,
          62,
          63,
          64,
          65,
          66,
          67,
          68,
          69,
          70,
          71,
          72,
          73,
          74,
          75,
          76,
          77,
          78,
          79,
          80,
          81,
          82,
          83,
          84,
          85,
          86,
          87,
          88,
          89,
          90,
          91,
          92,
          93,
          94,
          95,
          96,
          97,
          98,
          99
         ],
         "y": [
          -0.7607516732532427,
          -1.254568488051787,
          -0.8788828748036107,
          -0.13665063756100818,
          0.07474348764667796,
          -0.3100043705116922,
          -2.0463341136143995,
          0.640808766840854,
          1.224538129726818,
          1.0886660890880229,
          0.4049848114617264,
          0.7485515644819034,
          -0.46248600223967307,
          0.9533718049057213,
          -0.3695657385477109,
          0.8832340804185418,
          0.9052960323805491,
          -0.3853489432776442,
          1.3159244798509053,
          -0.028767564722662828,
          0.06379612112194598,
          -0.5699264163729659,
          0.32702586302219483,
          0.08779247487238971,
          1.2860732684779363,
          2.0938721257990114,
          0.10641036516130699,
          -0.43614763748954455,
          -0.15454712915480173,
          1.6917422947637824,
          2.069900076611023,
          0.2728381375704959,
          0.8982963476299403,
          1.1626845775151418,
          -1.8514944212075175,
          0.5097088665460885,
          0.301289072860881,
          -0.9215289721219797,
          0.5195919347510675,
          0.6283349774206288,
          0.14180613856997362,
          -0.6596331767430526,
          -0.43804908361382316,
          -1.161466129764636,
          -0.3773059718348686,
          -2.140572355581783,
          -0.19500741390398052,
          -0.5863195712554702,
          0.9506076263372776,
          0.05794084130328615,
          1.114608481540598,
          1.0598559581825697,
          -1.5876844271788813,
          -0.14739138729617407,
          -0.580431636041587,
          -0.33284940498071774,
          1.0629167254062288,
          0.38472616162999584,
          -0.9184640525607392,
          0.8882962211984797,
          -1.014539375075398,
          0.37548732970143817,
          0.5803058105441924,
          0.4429555473857757,
          -1.2144704173369645,
          0.13144813153609372,
          -0.8080736698792067,
          0.8897350266785666,
          1.1618872824269493,
          -0.38335647093100017,
          -0.2727693174039654,
          -0.25018635867093286,
          1.1484717709362309,
          0.49378345946541696,
          1.101291396885938,
          -0.49177164389114286,
          -1.6401018997496926,
          1.277848986380219,
          0.12810121345704542,
          -0.9889079946366958,
          -0.5251123223013637,
          1.1599073316060275,
          0.5708057586905046,
          -0.35367070891227775,
          0.8950168639617084,
          -0.9437864888126327,
          -0.46412027474338197,
          -1.5511026925124407,
          -0.2761019732505129,
          0.15029292622478768,
          1.4277411536710876,
          2.4147463451354967,
          -0.08801777586421945,
          -0.6338679739225697,
          -0.14945606892838023,
          0.6667328009341639,
          -0.3684321797614924,
          -0.9142366078263781,
          -0.4271860199935734,
          2.0408302414506343
         ]
        }
       ],
       "layout": {
        "legend": {
         "bgcolor": "#F5F6F9",
         "font": {
          "color": "#4D5663"
         }
        },
        "paper_bgcolor": "#F5F6F9",
        "plot_bgcolor": "#F5F6F9",
        "template": {
         "data": {
          "bar": [
           {
            "error_x": {
             "color": "#2a3f5f"
            },
            "error_y": {
             "color": "#2a3f5f"
            },
            "marker": {
             "line": {
              "color": "#E5ECF6",
              "width": 0.5
             },
             "pattern": {
              "fillmode": "overlay",
              "size": 10,
              "solidity": 0.2
             }
            },
            "type": "bar"
           }
          ],
          "barpolar": [
           {
            "marker": {
             "line": {
              "color": "#E5ECF6",
              "width": 0.5
             },
             "pattern": {
              "fillmode": "overlay",
              "size": 10,
              "solidity": 0.2
             }
            },
            "type": "barpolar"
           }
          ],
          "carpet": [
           {
            "aaxis": {
             "endlinecolor": "#2a3f5f",
             "gridcolor": "white",
             "linecolor": "white",
             "minorgridcolor": "white",
             "startlinecolor": "#2a3f5f"
            },
            "baxis": {
             "endlinecolor": "#2a3f5f",
             "gridcolor": "white",
             "linecolor": "white",
             "minorgridcolor": "white",
             "startlinecolor": "#2a3f5f"
            },
            "type": "carpet"
           }
          ],
          "choropleth": [
           {
            "colorbar": {
             "outlinewidth": 0,
             "ticks": ""
            },
            "type": "choropleth"
           }
          ],
          "contour": [
           {
            "colorbar": {
             "outlinewidth": 0,
             "ticks": ""
            },
            "colorscale": [
             [
              0,
              "#0d0887"
             ],
             [
              0.1111111111111111,
              "#46039f"
             ],
             [
              0.2222222222222222,
              "#7201a8"
             ],
             [
              0.3333333333333333,
              "#9c179e"
             ],
             [
              0.4444444444444444,
              "#bd3786"
             ],
             [
              0.5555555555555556,
              "#d8576b"
             ],
             [
              0.6666666666666666,
              "#ed7953"
             ],
             [
              0.7777777777777778,
              "#fb9f3a"
             ],
             [
              0.8888888888888888,
              "#fdca26"
             ],
             [
              1,
              "#f0f921"
             ]
            ],
            "type": "contour"
           }
          ],
          "contourcarpet": [
           {
            "colorbar": {
             "outlinewidth": 0,
             "ticks": ""
            },
            "type": "contourcarpet"
           }
          ],
          "heatmap": [
           {
            "colorbar": {
             "outlinewidth": 0,
             "ticks": ""
            },
            "colorscale": [
             [
              0,
              "#0d0887"
             ],
             [
              0.1111111111111111,
              "#46039f"
             ],
             [
              0.2222222222222222,
              "#7201a8"
             ],
             [
              0.3333333333333333,
              "#9c179e"
             ],
             [
              0.4444444444444444,
              "#bd3786"
             ],
             [
              0.5555555555555556,
              "#d8576b"
             ],
             [
              0.6666666666666666,
              "#ed7953"
             ],
             [
              0.7777777777777778,
              "#fb9f3a"
             ],
             [
              0.8888888888888888,
              "#fdca26"
             ],
             [
              1,
              "#f0f921"
             ]
            ],
            "type": "heatmap"
           }
          ],
          "heatmapgl": [
           {
            "colorbar": {
             "outlinewidth": 0,
             "ticks": ""
            },
            "colorscale": [
             [
              0,
              "#0d0887"
             ],
             [
              0.1111111111111111,
              "#46039f"
             ],
             [
              0.2222222222222222,
              "#7201a8"
             ],
             [
              0.3333333333333333,
              "#9c179e"
             ],
             [
              0.4444444444444444,
              "#bd3786"
             ],
             [
              0.5555555555555556,
              "#d8576b"
             ],
             [
              0.6666666666666666,
              "#ed7953"
             ],
             [
              0.7777777777777778,
              "#fb9f3a"
             ],
             [
              0.8888888888888888,
              "#fdca26"
             ],
             [
              1,
              "#f0f921"
             ]
            ],
            "type": "heatmapgl"
           }
          ],
          "histogram": [
           {
            "marker": {
             "pattern": {
              "fillmode": "overlay",
              "size": 10,
              "solidity": 0.2
             }
            },
            "type": "histogram"
           }
          ],
          "histogram2d": [
           {
            "colorbar": {
             "outlinewidth": 0,
             "ticks": ""
            },
            "colorscale": [
             [
              0,
              "#0d0887"
             ],
             [
              0.1111111111111111,
              "#46039f"
             ],
             [
              0.2222222222222222,
              "#7201a8"
             ],
             [
              0.3333333333333333,
              "#9c179e"
             ],
             [
              0.4444444444444444,
              "#bd3786"
             ],
             [
              0.5555555555555556,
              "#d8576b"
             ],
             [
              0.6666666666666666,
              "#ed7953"
             ],
             [
              0.7777777777777778,
              "#fb9f3a"
             ],
             [
              0.8888888888888888,
              "#fdca26"
             ],
             [
              1,
              "#f0f921"
             ]
            ],
            "type": "histogram2d"
           }
          ],
          "histogram2dcontour": [
           {
            "colorbar": {
             "outlinewidth": 0,
             "ticks": ""
            },
            "colorscale": [
             [
              0,
              "#0d0887"
             ],
             [
              0.1111111111111111,
              "#46039f"
             ],
             [
              0.2222222222222222,
              "#7201a8"
             ],
             [
              0.3333333333333333,
              "#9c179e"
             ],
             [
              0.4444444444444444,
              "#bd3786"
             ],
             [
              0.5555555555555556,
              "#d8576b"
             ],
             [
              0.6666666666666666,
              "#ed7953"
             ],
             [
              0.7777777777777778,
              "#fb9f3a"
             ],
             [
              0.8888888888888888,
              "#fdca26"
             ],
             [
              1,
              "#f0f921"
             ]
            ],
            "type": "histogram2dcontour"
           }
          ],
          "mesh3d": [
           {
            "colorbar": {
             "outlinewidth": 0,
             "ticks": ""
            },
            "type": "mesh3d"
           }
          ],
          "parcoords": [
           {
            "line": {
             "colorbar": {
              "outlinewidth": 0,
              "ticks": ""
             }
            },
            "type": "parcoords"
           }
          ],
          "pie": [
           {
            "automargin": true,
            "type": "pie"
           }
          ],
          "scatter": [
           {
            "marker": {
             "colorbar": {
              "outlinewidth": 0,
              "ticks": ""
             }
            },
            "type": "scatter"
           }
          ],
          "scatter3d": [
           {
            "line": {
             "colorbar": {
              "outlinewidth": 0,
              "ticks": ""
             }
            },
            "marker": {
             "colorbar": {
              "outlinewidth": 0,
              "ticks": ""
             }
            },
            "type": "scatter3d"
           }
          ],
          "scattercarpet": [
           {
            "marker": {
             "colorbar": {
              "outlinewidth": 0,
              "ticks": ""
             }
            },
            "type": "scattercarpet"
           }
          ],
          "scattergeo": [
           {
            "marker": {
             "colorbar": {
              "outlinewidth": 0,
              "ticks": ""
             }
            },
            "type": "scattergeo"
           }
          ],
          "scattergl": [
           {
            "marker": {
             "colorbar": {
              "outlinewidth": 0,
              "ticks": ""
             }
            },
            "type": "scattergl"
           }
          ],
          "scattermapbox": [
           {
            "marker": {
             "colorbar": {
              "outlinewidth": 0,
              "ticks": ""
             }
            },
            "type": "scattermapbox"
           }
          ],
          "scatterpolar": [
           {
            "marker": {
             "colorbar": {
              "outlinewidth": 0,
              "ticks": ""
             }
            },
            "type": "scatterpolar"
           }
          ],
          "scatterpolargl": [
           {
            "marker": {
             "colorbar": {
              "outlinewidth": 0,
              "ticks": ""
             }
            },
            "type": "scatterpolargl"
           }
          ],
          "scatterternary": [
           {
            "marker": {
             "colorbar": {
              "outlinewidth": 0,
              "ticks": ""
             }
            },
            "type": "scatterternary"
           }
          ],
          "surface": [
           {
            "colorbar": {
             "outlinewidth": 0,
             "ticks": ""
            },
            "colorscale": [
             [
              0,
              "#0d0887"
             ],
             [
              0.1111111111111111,
              "#46039f"
             ],
             [
              0.2222222222222222,
              "#7201a8"
             ],
             [
              0.3333333333333333,
              "#9c179e"
             ],
             [
              0.4444444444444444,
              "#bd3786"
             ],
             [
              0.5555555555555556,
              "#d8576b"
             ],
             [
              0.6666666666666666,
              "#ed7953"
             ],
             [
              0.7777777777777778,
              "#fb9f3a"
             ],
             [
              0.8888888888888888,
              "#fdca26"
             ],
             [
              1,
              "#f0f921"
             ]
            ],
            "type": "surface"
           }
          ],
          "table": [
           {
            "cells": {
             "fill": {
              "color": "#EBF0F8"
             },
             "line": {
              "color": "white"
             }
            },
            "header": {
             "fill": {
              "color": "#C8D4E3"
             },
             "line": {
              "color": "white"
             }
            },
            "type": "table"
           }
          ]
         },
         "layout": {
          "annotationdefaults": {
           "arrowcolor": "#2a3f5f",
           "arrowhead": 0,
           "arrowwidth": 1
          },
          "autotypenumbers": "strict",
          "coloraxis": {
           "colorbar": {
            "outlinewidth": 0,
            "ticks": ""
           }
          },
          "colorscale": {
           "diverging": [
            [
             0,
             "#8e0152"
            ],
            [
             0.1,
             "#c51b7d"
            ],
            [
             0.2,
             "#de77ae"
            ],
            [
             0.3,
             "#f1b6da"
            ],
            [
             0.4,
             "#fde0ef"
            ],
            [
             0.5,
             "#f7f7f7"
            ],
            [
             0.6,
             "#e6f5d0"
            ],
            [
             0.7,
             "#b8e186"
            ],
            [
             0.8,
             "#7fbc41"
            ],
            [
             0.9,
             "#4d9221"
            ],
            [
             1,
             "#276419"
            ]
           ],
           "sequential": [
            [
             0,
             "#0d0887"
            ],
            [
             0.1111111111111111,
             "#46039f"
            ],
            [
             0.2222222222222222,
             "#7201a8"
            ],
            [
             0.3333333333333333,
             "#9c179e"
            ],
            [
             0.4444444444444444,
             "#bd3786"
            ],
            [
             0.5555555555555556,
             "#d8576b"
            ],
            [
             0.6666666666666666,
             "#ed7953"
            ],
            [
             0.7777777777777778,
             "#fb9f3a"
            ],
            [
             0.8888888888888888,
             "#fdca26"
            ],
            [
             1,
             "#f0f921"
            ]
           ],
           "sequentialminus": [
            [
             0,
             "#0d0887"
            ],
            [
             0.1111111111111111,
             "#46039f"
            ],
            [
             0.2222222222222222,
             "#7201a8"
            ],
            [
             0.3333333333333333,
             "#9c179e"
            ],
            [
             0.4444444444444444,
             "#bd3786"
            ],
            [
             0.5555555555555556,
             "#d8576b"
            ],
            [
             0.6666666666666666,
             "#ed7953"
            ],
            [
             0.7777777777777778,
             "#fb9f3a"
            ],
            [
             0.8888888888888888,
             "#fdca26"
            ],
            [
             1,
             "#f0f921"
            ]
           ]
          },
          "colorway": [
           "#636efa",
           "#EF553B",
           "#00cc96",
           "#ab63fa",
           "#FFA15A",
           "#19d3f3",
           "#FF6692",
           "#B6E880",
           "#FF97FF",
           "#FECB52"
          ],
          "font": {
           "color": "#2a3f5f"
          },
          "geo": {
           "bgcolor": "white",
           "lakecolor": "white",
           "landcolor": "#E5ECF6",
           "showlakes": true,
           "showland": true,
           "subunitcolor": "white"
          },
          "hoverlabel": {
           "align": "left"
          },
          "hovermode": "closest",
          "mapbox": {
           "style": "light"
          },
          "paper_bgcolor": "white",
          "plot_bgcolor": "#E5ECF6",
          "polar": {
           "angularaxis": {
            "gridcolor": "white",
            "linecolor": "white",
            "ticks": ""
           },
           "bgcolor": "#E5ECF6",
           "radialaxis": {
            "gridcolor": "white",
            "linecolor": "white",
            "ticks": ""
           }
          },
          "scene": {
           "xaxis": {
            "backgroundcolor": "#E5ECF6",
            "gridcolor": "white",
            "gridwidth": 2,
            "linecolor": "white",
            "showbackground": true,
            "ticks": "",
            "zerolinecolor": "white"
           },
           "yaxis": {
            "backgroundcolor": "#E5ECF6",
            "gridcolor": "white",
            "gridwidth": 2,
            "linecolor": "white",
            "showbackground": true,
            "ticks": "",
            "zerolinecolor": "white"
           },
           "zaxis": {
            "backgroundcolor": "#E5ECF6",
            "gridcolor": "white",
            "gridwidth": 2,
            "linecolor": "white",
            "showbackground": true,
            "ticks": "",
            "zerolinecolor": "white"
           }
          },
          "shapedefaults": {
           "line": {
            "color": "#2a3f5f"
           }
          },
          "ternary": {
           "aaxis": {
            "gridcolor": "white",
            "linecolor": "white",
            "ticks": ""
           },
           "baxis": {
            "gridcolor": "white",
            "linecolor": "white",
            "ticks": ""
           },
           "bgcolor": "#E5ECF6",
           "caxis": {
            "gridcolor": "white",
            "linecolor": "white",
            "ticks": ""
           }
          },
          "title": {
           "x": 0.05
          },
          "xaxis": {
           "automargin": true,
           "gridcolor": "white",
           "linecolor": "white",
           "ticks": "",
           "title": {
            "standoff": 15
           },
           "zerolinecolor": "white",
           "zerolinewidth": 2
          },
          "yaxis": {
           "automargin": true,
           "gridcolor": "white",
           "linecolor": "white",
           "ticks": "",
           "title": {
            "standoff": 15
           },
           "zerolinecolor": "white",
           "zerolinewidth": 2
          }
         }
        },
        "title": {
         "font": {
          "color": "#4D5663"
         }
        },
        "xaxis": {
         "gridcolor": "#E1E5ED",
         "showgrid": true,
         "tickfont": {
          "color": "#4D5663"
         },
         "title": {
          "font": {
           "color": "#4D5663"
          },
          "text": ""
         },
         "zerolinecolor": "#E1E5ED"
        },
        "yaxis": {
         "gridcolor": "#E1E5ED",
         "showgrid": true,
         "tickfont": {
          "color": "#4D5663"
         },
         "title": {
          "font": {
           "color": "#4D5663"
          },
          "text": ""
         },
         "zerolinecolor": "#E1E5ED"
        }
       }
      },
      "text/html": [
       "<div>                            <div id=\"66c04d81-8e36-4e22-8ba2-b7ee3e6d9d8b\" class=\"plotly-graph-div\" style=\"height:525px; width:100%;\"></div>            <script type=\"text/javascript\">                require([\"plotly\"], function(Plotly) {                    window.PLOTLYENV=window.PLOTLYENV || {};\n",
       "                    window.PLOTLYENV.BASE_URL='https://plot.ly';                                    if (document.getElementById(\"66c04d81-8e36-4e22-8ba2-b7ee3e6d9d8b\")) {                    Plotly.newPlot(                        \"66c04d81-8e36-4e22-8ba2-b7ee3e6d9d8b\",                        [{\"marker\":{\"color\":\"rgba(255, 153, 51, 0.6)\",\"line\":{\"color\":\"rgba(255, 153, 51, 1.0)\",\"width\":1}},\"name\":\"A\",\"orientation\":\"v\",\"text\":\"\",\"type\":\"bar\",\"x\":[0,1,2,3,4,5,6,7,8,9,10,11,12,13,14,15,16,17,18,19,20,21,22,23,24,25,26,27,28,29,30,31,32,33,34,35,36,37,38,39,40,41,42,43,44,45,46,47,48,49,50,51,52,53,54,55,56,57,58,59,60,61,62,63,64,65,66,67,68,69,70,71,72,73,74,75,76,77,78,79,80,81,82,83,84,85,86,87,88,89,90,91,92,93,94,95,96,97,98,99],\"y\":[-1.252614793086047,-0.05970334235749016,1.1861410783422972,-0.08761128715742864,0.07950640464429827,1.2280562668624604,-1.3278069263914265,-1.363119785987805,-1.1386232623492012,-0.8393437156317276,-0.4541080744300972,2.0343495796888282,-3.09049460215665,0.16073727481802083,-0.4197095473149091,-0.2387478469942015,-0.059737805366917265,0.637232411048166,-0.16098446078613787,-0.39044693665236124,-0.18335785148903647,-1.4665474154877824,-0.9467091070463365,-1.363086400891611,1.1419161233127382,-0.8990356765986693,-0.47877126318615904,-0.08723595655352805,0.28836519048925785,0.4535211994873111,0.6072750672172921,0.7920328635238127,0.9210688520723921,0.8431813681496602,0.14682019235661373,-1.1829671348247588,-1.0438065432704076,1.4143243674487795,0.709957119062226,-0.6850164620237267,-1.0010708187907489,-0.34860627566652763,1.9900831507298398,0.18725017639146913,-0.6255124774152,-1.6017317227276038,0.885042918633726,0.7428077103813263,-0.8924785069045459,-1.3308889418400802,3.003745396974862,0.3371032077767076,0.46679193086201903,0.36616511575153876,-0.416335845412642,1.5194644015341876,0.5211470076410264,-1.5036153475796188,-0.26626662937057033,0.6978691732337882,-0.09511084342263629,0.30075260301102774,0.03197028510486337,1.4282640809936629,0.33128440588935226,0.8760426680096519,-0.04282550929148523,-1.4869944424905852,1.1016632292962907,-1.432616353521275,1.5575716683045684,-0.3201993175852064,0.3085393750442976,-1.6767132815810286,-0.43613840129391807,0.5444947534040682,-0.9564608279120181,-1.2149259364052323,0.2619339163954011,1.1510318594062585,-1.4935781096730616,-1.5364588271684487,-0.2014536368998715,1.0317682182611458,-1.2008107718275032,0.6417163449601327,2.0525571724871856,0.4544224835172775,0.8604257046342394,0.024338875911690164,0.4034582647556379,-0.31260916146689444,0.020281310347106393,-0.29632252607525494,-0.3145363114608712,-0.5558389308669797,-0.08374887468313946,-0.1925649721641307,-0.37837314814356626,-1.004110983807644]},{\"marker\":{\"color\":\"rgba(55, 128, 191, 0.6)\",\"line\":{\"color\":\"rgba(55, 128, 191, 1.0)\",\"width\":1}},\"name\":\"B\",\"orientation\":\"v\",\"text\":\"\",\"type\":\"bar\",\"x\":[0,1,2,3,4,5,6,7,8,9,10,11,12,13,14,15,16,17,18,19,20,21,22,23,24,25,26,27,28,29,30,31,32,33,34,35,36,37,38,39,40,41,42,43,44,45,46,47,48,49,50,51,52,53,54,55,56,57,58,59,60,61,62,63,64,65,66,67,68,69,70,71,72,73,74,75,76,77,78,79,80,81,82,83,84,85,86,87,88,89,90,91,92,93,94,95,96,97,98,99],\"y\":[1.429907173744965,-0.3362692153993021,-0.22403939638327913,-0.1062523944097891,0.2474881419869791,-2.951570498412787,-1.3150465437708856,-0.09564344114602419,0.7924691287634381,-0.11059481319784327,-0.9574735207257397,-2.7741406899349563,-1.0816982566045203,-0.7050395721831006,-0.030415434382019057,-0.4233816135656058,1.13409136177349,-0.40242588625630915,-0.294198850624815,-0.10088674274843744,1.0390784149843242,0.5165220382316772,1.0292362169286038,-0.9443881069654166,-0.03415047970036683,-1.302863193040769,-1.8739862933198712,-0.14083809321526172,-1.027560506025851,-0.19154403604307874,1.188705505404244,0.8103271790333249,0.27403939984770914,-0.7969627075630051,1.1289182632483334,-1.6358823872587878,-0.6503428428357034,-0.6587248753403122,-0.8986836433415368,-1.2910519644339522,0.37456483954536046,-2.3331353592693427,-1.353315814768125,-1.6109918954270386,2.574398806434323,-0.7419382066961051,1.0111811133768143,0.8627681851633381,1.0684844064238004,0.9584140081934572,-1.2724226953088429,0.5623348949596787,0.21278803036445387,0.6362092764330177,-1.1507486672395217,0.480023659069112,-1.3364127200675031,0.8452624019906536,0.2509777094027647,0.20317230448967902,-2.5580200049648996,0.47164544114003987,0.13608375887967908,-1.3413832491890092,1.0794295284681177,0.03791755550436143,2.1927622697418774,1.7239478391164735,-0.8441975536242636,-0.555562737221605,0.8962983600870705,1.7163996644440285,0.3861053154127059,-0.5053146823691147,0.6629732990578995,1.7291436937887452,-0.19791142080973972,-0.17758994884436066,0.3835728374808757,0.1206356970118862,-0.5839764747918563,0.6562070488071372,0.79818803972454,-1.317059527577753,-0.36660244714059637,-0.07092316904929655,-1.9885058041209265,0.36046441628701004,-0.3787904255840291,0.40687581684755036,-0.9740597784537262,-0.5963017374604368,1.292358219538622,-0.678637329096281,-0.11217221669830485,-0.556064599371359,-1.2917102576840802,0.1961856894863246,1.8320554131446811,1.1361645082224023]},{\"marker\":{\"color\":\"rgba(50, 171, 96, 0.6)\",\"line\":{\"color\":\"rgba(50, 171, 96, 1.0)\",\"width\":1}},\"name\":\"C\",\"orientation\":\"v\",\"text\":\"\",\"type\":\"bar\",\"x\":[0,1,2,3,4,5,6,7,8,9,10,11,12,13,14,15,16,17,18,19,20,21,22,23,24,25,26,27,28,29,30,31,32,33,34,35,36,37,38,39,40,41,42,43,44,45,46,47,48,49,50,51,52,53,54,55,56,57,58,59,60,61,62,63,64,65,66,67,68,69,70,71,72,73,74,75,76,77,78,79,80,81,82,83,84,85,86,87,88,89,90,91,92,93,94,95,96,97,98,99],\"y\":[1.497365056261028,-1.3652639392192893,-0.4633848596042667,-0.6554155737090046,-0.873403949723717,0.05599352265517801,-0.34473828248271027,-0.41319903909836236,-2.044032644851402,-0.3987393454406875,1.1597178016054088,-1.502703163866186,0.23826714360142273,-1.5741392475854807,0.7816858134640635,-2.142846708586097,-1.1859370206584845,0.33445280073709727,-0.7667894723828541,1.2527282906266344,-0.19539795589395198,0.7326304554079953,0.04444226457106558,-1.556251136029763,-0.27447090560656606,0.039518802829135904,-0.02416001405173457,-0.5242725573805086,-0.8428442369549263,-0.9811777369886999,-0.3350095463442984,0.990050751506994,0.017554043186999775,0.2783947893725052,-0.06539150267349131,0.5611531072387262,-0.5433755998816096,0.2877606032303694,-0.39623450285943856,0.4281403826859208,0.12491994104865614,-0.8686705362189602,-1.0093119510785222,-1.7450992786587147,1.2677715076129603,1.1909806049583975,0.27740851207658335,0.6833561525713735,0.4283470277056508,0.7913812387268874,-0.5557615424139913,-0.21904396042115679,0.08964190646166481,0.021193571224057968,0.6050834546942213,-1.1619352848327547,1.0143367637627896,0.6639951131808542,1.018881240687566,0.9919337469405568,-1.3286952823498934,0.0887076694256689,0.8409303174685794,0.04430809594242096,-1.1306458993693478,2.0736318396393814,-0.14677037462178721,-1.3931223572680242,-2.0547424091586253,0.6128352101220416,-1.3654986018914061,-0.4736373234472714,1.5474841315174899,1.4023528581155102,0.2671475960322153,1.2783022300586027,-1.5729061331608103,-1.263124573100888,-0.6798291541866253,-0.07536756430411999,0.3387490431114079,1.7316981530795819,-0.09149845946313058,0.8606384957577545,-0.04059028826209647,-0.13740954203864353,-0.617304623092329,2.0731238475848937,-0.820298203736963,-0.26698591194207655,0.7321591287947562,-0.821972232165776,-0.6262152567039138,-0.08896112446005197,-2.5427473812318784,0.1546583782646699,-0.28721326963380284,0.8187876780277029,-0.4270266101320868,0.27999194420218215]},{\"marker\":{\"color\":\"rgba(128, 0, 128, 0.6)\",\"line\":{\"color\":\"rgba(128, 0, 128, 1.0)\",\"width\":1}},\"name\":\"D\",\"orientation\":\"v\",\"text\":\"\",\"type\":\"bar\",\"x\":[0,1,2,3,4,5,6,7,8,9,10,11,12,13,14,15,16,17,18,19,20,21,22,23,24,25,26,27,28,29,30,31,32,33,34,35,36,37,38,39,40,41,42,43,44,45,46,47,48,49,50,51,52,53,54,55,56,57,58,59,60,61,62,63,64,65,66,67,68,69,70,71,72,73,74,75,76,77,78,79,80,81,82,83,84,85,86,87,88,89,90,91,92,93,94,95,96,97,98,99],\"y\":[-0.7607516732532427,-1.254568488051787,-0.8788828748036107,-0.13665063756100818,0.07474348764667796,-0.3100043705116922,-2.0463341136143995,0.640808766840854,1.224538129726818,1.0886660890880229,0.4049848114617264,0.7485515644819034,-0.46248600223967307,0.9533718049057213,-0.3695657385477109,0.8832340804185418,0.9052960323805491,-0.3853489432776442,1.3159244798509053,-0.028767564722662828,0.06379612112194598,-0.5699264163729659,0.32702586302219483,0.08779247487238971,1.2860732684779363,2.0938721257990114,0.10641036516130699,-0.43614763748954455,-0.15454712915480173,1.6917422947637824,2.069900076611023,0.2728381375704959,0.8982963476299403,1.1626845775151418,-1.8514944212075175,0.5097088665460885,0.301289072860881,-0.9215289721219797,0.5195919347510675,0.6283349774206288,0.14180613856997362,-0.6596331767430526,-0.43804908361382316,-1.161466129764636,-0.3773059718348686,-2.140572355581783,-0.19500741390398052,-0.5863195712554702,0.9506076263372776,0.05794084130328615,1.114608481540598,1.0598559581825697,-1.5876844271788813,-0.14739138729617407,-0.580431636041587,-0.33284940498071774,1.0629167254062288,0.38472616162999584,-0.9184640525607392,0.8882962211984797,-1.014539375075398,0.37548732970143817,0.5803058105441924,0.4429555473857757,-1.2144704173369645,0.13144813153609372,-0.8080736698792067,0.8897350266785666,1.1618872824269493,-0.38335647093100017,-0.2727693174039654,-0.25018635867093286,1.1484717709362309,0.49378345946541696,1.101291396885938,-0.49177164389114286,-1.6401018997496926,1.277848986380219,0.12810121345704542,-0.9889079946366958,-0.5251123223013637,1.1599073316060275,0.5708057586905046,-0.35367070891227775,0.8950168639617084,-0.9437864888126327,-0.46412027474338197,-1.5511026925124407,-0.2761019732505129,0.15029292622478768,1.4277411536710876,2.4147463451354967,-0.08801777586421945,-0.6338679739225697,-0.14945606892838023,0.6667328009341639,-0.3684321797614924,-0.9142366078263781,-0.4271860199935734,2.0408302414506343]}],                        {\"legend\":{\"bgcolor\":\"#F5F6F9\",\"font\":{\"color\":\"#4D5663\"}},\"paper_bgcolor\":\"#F5F6F9\",\"plot_bgcolor\":\"#F5F6F9\",\"template\":{\"data\":{\"bar\":[{\"error_x\":{\"color\":\"#2a3f5f\"},\"error_y\":{\"color\":\"#2a3f5f\"},\"marker\":{\"line\":{\"color\":\"#E5ECF6\",\"width\":0.5},\"pattern\":{\"fillmode\":\"overlay\",\"size\":10,\"solidity\":0.2}},\"type\":\"bar\"}],\"barpolar\":[{\"marker\":{\"line\":{\"color\":\"#E5ECF6\",\"width\":0.5},\"pattern\":{\"fillmode\":\"overlay\",\"size\":10,\"solidity\":0.2}},\"type\":\"barpolar\"}],\"carpet\":[{\"aaxis\":{\"endlinecolor\":\"#2a3f5f\",\"gridcolor\":\"white\",\"linecolor\":\"white\",\"minorgridcolor\":\"white\",\"startlinecolor\":\"#2a3f5f\"},\"baxis\":{\"endlinecolor\":\"#2a3f5f\",\"gridcolor\":\"white\",\"linecolor\":\"white\",\"minorgridcolor\":\"white\",\"startlinecolor\":\"#2a3f5f\"},\"type\":\"carpet\"}],\"choropleth\":[{\"colorbar\":{\"outlinewidth\":0,\"ticks\":\"\"},\"type\":\"choropleth\"}],\"contour\":[{\"colorbar\":{\"outlinewidth\":0,\"ticks\":\"\"},\"colorscale\":[[0.0,\"#0d0887\"],[0.1111111111111111,\"#46039f\"],[0.2222222222222222,\"#7201a8\"],[0.3333333333333333,\"#9c179e\"],[0.4444444444444444,\"#bd3786\"],[0.5555555555555556,\"#d8576b\"],[0.6666666666666666,\"#ed7953\"],[0.7777777777777778,\"#fb9f3a\"],[0.8888888888888888,\"#fdca26\"],[1.0,\"#f0f921\"]],\"type\":\"contour\"}],\"contourcarpet\":[{\"colorbar\":{\"outlinewidth\":0,\"ticks\":\"\"},\"type\":\"contourcarpet\"}],\"heatmap\":[{\"colorbar\":{\"outlinewidth\":0,\"ticks\":\"\"},\"colorscale\":[[0.0,\"#0d0887\"],[0.1111111111111111,\"#46039f\"],[0.2222222222222222,\"#7201a8\"],[0.3333333333333333,\"#9c179e\"],[0.4444444444444444,\"#bd3786\"],[0.5555555555555556,\"#d8576b\"],[0.6666666666666666,\"#ed7953\"],[0.7777777777777778,\"#fb9f3a\"],[0.8888888888888888,\"#fdca26\"],[1.0,\"#f0f921\"]],\"type\":\"heatmap\"}],\"heatmapgl\":[{\"colorbar\":{\"outlinewidth\":0,\"ticks\":\"\"},\"colorscale\":[[0.0,\"#0d0887\"],[0.1111111111111111,\"#46039f\"],[0.2222222222222222,\"#7201a8\"],[0.3333333333333333,\"#9c179e\"],[0.4444444444444444,\"#bd3786\"],[0.5555555555555556,\"#d8576b\"],[0.6666666666666666,\"#ed7953\"],[0.7777777777777778,\"#fb9f3a\"],[0.8888888888888888,\"#fdca26\"],[1.0,\"#f0f921\"]],\"type\":\"heatmapgl\"}],\"histogram\":[{\"marker\":{\"pattern\":{\"fillmode\":\"overlay\",\"size\":10,\"solidity\":0.2}},\"type\":\"histogram\"}],\"histogram2d\":[{\"colorbar\":{\"outlinewidth\":0,\"ticks\":\"\"},\"colorscale\":[[0.0,\"#0d0887\"],[0.1111111111111111,\"#46039f\"],[0.2222222222222222,\"#7201a8\"],[0.3333333333333333,\"#9c179e\"],[0.4444444444444444,\"#bd3786\"],[0.5555555555555556,\"#d8576b\"],[0.6666666666666666,\"#ed7953\"],[0.7777777777777778,\"#fb9f3a\"],[0.8888888888888888,\"#fdca26\"],[1.0,\"#f0f921\"]],\"type\":\"histogram2d\"}],\"histogram2dcontour\":[{\"colorbar\":{\"outlinewidth\":0,\"ticks\":\"\"},\"colorscale\":[[0.0,\"#0d0887\"],[0.1111111111111111,\"#46039f\"],[0.2222222222222222,\"#7201a8\"],[0.3333333333333333,\"#9c179e\"],[0.4444444444444444,\"#bd3786\"],[0.5555555555555556,\"#d8576b\"],[0.6666666666666666,\"#ed7953\"],[0.7777777777777778,\"#fb9f3a\"],[0.8888888888888888,\"#fdca26\"],[1.0,\"#f0f921\"]],\"type\":\"histogram2dcontour\"}],\"mesh3d\":[{\"colorbar\":{\"outlinewidth\":0,\"ticks\":\"\"},\"type\":\"mesh3d\"}],\"parcoords\":[{\"line\":{\"colorbar\":{\"outlinewidth\":0,\"ticks\":\"\"}},\"type\":\"parcoords\"}],\"pie\":[{\"automargin\":true,\"type\":\"pie\"}],\"scatter\":[{\"marker\":{\"colorbar\":{\"outlinewidth\":0,\"ticks\":\"\"}},\"type\":\"scatter\"}],\"scatter3d\":[{\"line\":{\"colorbar\":{\"outlinewidth\":0,\"ticks\":\"\"}},\"marker\":{\"colorbar\":{\"outlinewidth\":0,\"ticks\":\"\"}},\"type\":\"scatter3d\"}],\"scattercarpet\":[{\"marker\":{\"colorbar\":{\"outlinewidth\":0,\"ticks\":\"\"}},\"type\":\"scattercarpet\"}],\"scattergeo\":[{\"marker\":{\"colorbar\":{\"outlinewidth\":0,\"ticks\":\"\"}},\"type\":\"scattergeo\"}],\"scattergl\":[{\"marker\":{\"colorbar\":{\"outlinewidth\":0,\"ticks\":\"\"}},\"type\":\"scattergl\"}],\"scattermapbox\":[{\"marker\":{\"colorbar\":{\"outlinewidth\":0,\"ticks\":\"\"}},\"type\":\"scattermapbox\"}],\"scatterpolar\":[{\"marker\":{\"colorbar\":{\"outlinewidth\":0,\"ticks\":\"\"}},\"type\":\"scatterpolar\"}],\"scatterpolargl\":[{\"marker\":{\"colorbar\":{\"outlinewidth\":0,\"ticks\":\"\"}},\"type\":\"scatterpolargl\"}],\"scatterternary\":[{\"marker\":{\"colorbar\":{\"outlinewidth\":0,\"ticks\":\"\"}},\"type\":\"scatterternary\"}],\"surface\":[{\"colorbar\":{\"outlinewidth\":0,\"ticks\":\"\"},\"colorscale\":[[0.0,\"#0d0887\"],[0.1111111111111111,\"#46039f\"],[0.2222222222222222,\"#7201a8\"],[0.3333333333333333,\"#9c179e\"],[0.4444444444444444,\"#bd3786\"],[0.5555555555555556,\"#d8576b\"],[0.6666666666666666,\"#ed7953\"],[0.7777777777777778,\"#fb9f3a\"],[0.8888888888888888,\"#fdca26\"],[1.0,\"#f0f921\"]],\"type\":\"surface\"}],\"table\":[{\"cells\":{\"fill\":{\"color\":\"#EBF0F8\"},\"line\":{\"color\":\"white\"}},\"header\":{\"fill\":{\"color\":\"#C8D4E3\"},\"line\":{\"color\":\"white\"}},\"type\":\"table\"}]},\"layout\":{\"annotationdefaults\":{\"arrowcolor\":\"#2a3f5f\",\"arrowhead\":0,\"arrowwidth\":1},\"autotypenumbers\":\"strict\",\"coloraxis\":{\"colorbar\":{\"outlinewidth\":0,\"ticks\":\"\"}},\"colorscale\":{\"diverging\":[[0,\"#8e0152\"],[0.1,\"#c51b7d\"],[0.2,\"#de77ae\"],[0.3,\"#f1b6da\"],[0.4,\"#fde0ef\"],[0.5,\"#f7f7f7\"],[0.6,\"#e6f5d0\"],[0.7,\"#b8e186\"],[0.8,\"#7fbc41\"],[0.9,\"#4d9221\"],[1,\"#276419\"]],\"sequential\":[[0.0,\"#0d0887\"],[0.1111111111111111,\"#46039f\"],[0.2222222222222222,\"#7201a8\"],[0.3333333333333333,\"#9c179e\"],[0.4444444444444444,\"#bd3786\"],[0.5555555555555556,\"#d8576b\"],[0.6666666666666666,\"#ed7953\"],[0.7777777777777778,\"#fb9f3a\"],[0.8888888888888888,\"#fdca26\"],[1.0,\"#f0f921\"]],\"sequentialminus\":[[0.0,\"#0d0887\"],[0.1111111111111111,\"#46039f\"],[0.2222222222222222,\"#7201a8\"],[0.3333333333333333,\"#9c179e\"],[0.4444444444444444,\"#bd3786\"],[0.5555555555555556,\"#d8576b\"],[0.6666666666666666,\"#ed7953\"],[0.7777777777777778,\"#fb9f3a\"],[0.8888888888888888,\"#fdca26\"],[1.0,\"#f0f921\"]]},\"colorway\":[\"#636efa\",\"#EF553B\",\"#00cc96\",\"#ab63fa\",\"#FFA15A\",\"#19d3f3\",\"#FF6692\",\"#B6E880\",\"#FF97FF\",\"#FECB52\"],\"font\":{\"color\":\"#2a3f5f\"},\"geo\":{\"bgcolor\":\"white\",\"lakecolor\":\"white\",\"landcolor\":\"#E5ECF6\",\"showlakes\":true,\"showland\":true,\"subunitcolor\":\"white\"},\"hoverlabel\":{\"align\":\"left\"},\"hovermode\":\"closest\",\"mapbox\":{\"style\":\"light\"},\"paper_bgcolor\":\"white\",\"plot_bgcolor\":\"#E5ECF6\",\"polar\":{\"angularaxis\":{\"gridcolor\":\"white\",\"linecolor\":\"white\",\"ticks\":\"\"},\"bgcolor\":\"#E5ECF6\",\"radialaxis\":{\"gridcolor\":\"white\",\"linecolor\":\"white\",\"ticks\":\"\"}},\"scene\":{\"xaxis\":{\"backgroundcolor\":\"#E5ECF6\",\"gridcolor\":\"white\",\"gridwidth\":2,\"linecolor\":\"white\",\"showbackground\":true,\"ticks\":\"\",\"zerolinecolor\":\"white\"},\"yaxis\":{\"backgroundcolor\":\"#E5ECF6\",\"gridcolor\":\"white\",\"gridwidth\":2,\"linecolor\":\"white\",\"showbackground\":true,\"ticks\":\"\",\"zerolinecolor\":\"white\"},\"zaxis\":{\"backgroundcolor\":\"#E5ECF6\",\"gridcolor\":\"white\",\"gridwidth\":2,\"linecolor\":\"white\",\"showbackground\":true,\"ticks\":\"\",\"zerolinecolor\":\"white\"}},\"shapedefaults\":{\"line\":{\"color\":\"#2a3f5f\"}},\"ternary\":{\"aaxis\":{\"gridcolor\":\"white\",\"linecolor\":\"white\",\"ticks\":\"\"},\"baxis\":{\"gridcolor\":\"white\",\"linecolor\":\"white\",\"ticks\":\"\"},\"bgcolor\":\"#E5ECF6\",\"caxis\":{\"gridcolor\":\"white\",\"linecolor\":\"white\",\"ticks\":\"\"}},\"title\":{\"x\":0.05},\"xaxis\":{\"automargin\":true,\"gridcolor\":\"white\",\"linecolor\":\"white\",\"ticks\":\"\",\"title\":{\"standoff\":15},\"zerolinecolor\":\"white\",\"zerolinewidth\":2},\"yaxis\":{\"automargin\":true,\"gridcolor\":\"white\",\"linecolor\":\"white\",\"ticks\":\"\",\"title\":{\"standoff\":15},\"zerolinecolor\":\"white\",\"zerolinewidth\":2}}},\"title\":{\"font\":{\"color\":\"#4D5663\"}},\"xaxis\":{\"gridcolor\":\"#E1E5ED\",\"showgrid\":true,\"tickfont\":{\"color\":\"#4D5663\"},\"title\":{\"font\":{\"color\":\"#4D5663\"},\"text\":\"\"},\"zerolinecolor\":\"#E1E5ED\"},\"yaxis\":{\"gridcolor\":\"#E1E5ED\",\"showgrid\":true,\"tickfont\":{\"color\":\"#4D5663\"},\"title\":{\"font\":{\"color\":\"#4D5663\"},\"text\":\"\"},\"zerolinecolor\":\"#E1E5ED\"}},                        {\"showLink\": true, \"linkText\": \"Export to plot.ly\", \"plotlyServerURL\": \"https://plot.ly\", \"responsive\": true}                    ).then(function(){\n",
       "                            \n",
       "var gd = document.getElementById('66c04d81-8e36-4e22-8ba2-b7ee3e6d9d8b');\n",
       "var x = new MutationObserver(function (mutations, observer) {{\n",
       "        var display = window.getComputedStyle(gd).display;\n",
       "        if (!display || display === 'none') {{\n",
       "            console.log([gd, 'removed!']);\n",
       "            Plotly.purge(gd);\n",
       "            observer.disconnect();\n",
       "        }}\n",
       "}});\n",
       "\n",
       "// Listen for the removal of the full notebook cells\n",
       "var notebookContainer = gd.closest('#notebook-container');\n",
       "if (notebookContainer) {{\n",
       "    x.observe(notebookContainer, {childList: true});\n",
       "}}\n",
       "\n",
       "// Listen for the clearing of the current output cell\n",
       "var outputEl = gd.closest('.output');\n",
       "if (outputEl) {{\n",
       "    x.observe(outputEl, {childList: true});\n",
       "}}\n",
       "\n",
       "                        })                };                });            </script>        </div>"
      ]
     },
     "metadata": {},
     "output_type": "display_data"
    }
   ],
   "source": [
    "df.iplot(kind=\"bar\")"
   ]
  },
  {
   "cell_type": "code",
   "execution_count": 26,
   "metadata": {},
   "outputs": [
    {
     "data": {
      "application/vnd.plotly.v1+json": {
       "config": {
        "linkText": "Export to plot.ly",
        "plotlyServerURL": "https://plot.ly",
        "showLink": true
       },
       "data": [
        {
         "marker": {
          "color": "rgba(255, 153, 51, 0.6)",
          "line": {
           "color": "rgba(255, 153, 51, 1.0)",
           "width": 1
          }
         },
         "name": "None",
         "orientation": "v",
         "text": "",
         "type": "bar",
         "x": [
          "A",
          "B",
          "C",
          "D"
         ],
         "y": [
          100,
          100,
          100,
          100
         ]
        }
       ],
       "layout": {
        "legend": {
         "bgcolor": "#F5F6F9",
         "font": {
          "color": "#4D5663"
         }
        },
        "paper_bgcolor": "#F5F6F9",
        "plot_bgcolor": "#F5F6F9",
        "template": {
         "data": {
          "bar": [
           {
            "error_x": {
             "color": "#2a3f5f"
            },
            "error_y": {
             "color": "#2a3f5f"
            },
            "marker": {
             "line": {
              "color": "#E5ECF6",
              "width": 0.5
             },
             "pattern": {
              "fillmode": "overlay",
              "size": 10,
              "solidity": 0.2
             }
            },
            "type": "bar"
           }
          ],
          "barpolar": [
           {
            "marker": {
             "line": {
              "color": "#E5ECF6",
              "width": 0.5
             },
             "pattern": {
              "fillmode": "overlay",
              "size": 10,
              "solidity": 0.2
             }
            },
            "type": "barpolar"
           }
          ],
          "carpet": [
           {
            "aaxis": {
             "endlinecolor": "#2a3f5f",
             "gridcolor": "white",
             "linecolor": "white",
             "minorgridcolor": "white",
             "startlinecolor": "#2a3f5f"
            },
            "baxis": {
             "endlinecolor": "#2a3f5f",
             "gridcolor": "white",
             "linecolor": "white",
             "minorgridcolor": "white",
             "startlinecolor": "#2a3f5f"
            },
            "type": "carpet"
           }
          ],
          "choropleth": [
           {
            "colorbar": {
             "outlinewidth": 0,
             "ticks": ""
            },
            "type": "choropleth"
           }
          ],
          "contour": [
           {
            "colorbar": {
             "outlinewidth": 0,
             "ticks": ""
            },
            "colorscale": [
             [
              0,
              "#0d0887"
             ],
             [
              0.1111111111111111,
              "#46039f"
             ],
             [
              0.2222222222222222,
              "#7201a8"
             ],
             [
              0.3333333333333333,
              "#9c179e"
             ],
             [
              0.4444444444444444,
              "#bd3786"
             ],
             [
              0.5555555555555556,
              "#d8576b"
             ],
             [
              0.6666666666666666,
              "#ed7953"
             ],
             [
              0.7777777777777778,
              "#fb9f3a"
             ],
             [
              0.8888888888888888,
              "#fdca26"
             ],
             [
              1,
              "#f0f921"
             ]
            ],
            "type": "contour"
           }
          ],
          "contourcarpet": [
           {
            "colorbar": {
             "outlinewidth": 0,
             "ticks": ""
            },
            "type": "contourcarpet"
           }
          ],
          "heatmap": [
           {
            "colorbar": {
             "outlinewidth": 0,
             "ticks": ""
            },
            "colorscale": [
             [
              0,
              "#0d0887"
             ],
             [
              0.1111111111111111,
              "#46039f"
             ],
             [
              0.2222222222222222,
              "#7201a8"
             ],
             [
              0.3333333333333333,
              "#9c179e"
             ],
             [
              0.4444444444444444,
              "#bd3786"
             ],
             [
              0.5555555555555556,
              "#d8576b"
             ],
             [
              0.6666666666666666,
              "#ed7953"
             ],
             [
              0.7777777777777778,
              "#fb9f3a"
             ],
             [
              0.8888888888888888,
              "#fdca26"
             ],
             [
              1,
              "#f0f921"
             ]
            ],
            "type": "heatmap"
           }
          ],
          "heatmapgl": [
           {
            "colorbar": {
             "outlinewidth": 0,
             "ticks": ""
            },
            "colorscale": [
             [
              0,
              "#0d0887"
             ],
             [
              0.1111111111111111,
              "#46039f"
             ],
             [
              0.2222222222222222,
              "#7201a8"
             ],
             [
              0.3333333333333333,
              "#9c179e"
             ],
             [
              0.4444444444444444,
              "#bd3786"
             ],
             [
              0.5555555555555556,
              "#d8576b"
             ],
             [
              0.6666666666666666,
              "#ed7953"
             ],
             [
              0.7777777777777778,
              "#fb9f3a"
             ],
             [
              0.8888888888888888,
              "#fdca26"
             ],
             [
              1,
              "#f0f921"
             ]
            ],
            "type": "heatmapgl"
           }
          ],
          "histogram": [
           {
            "marker": {
             "pattern": {
              "fillmode": "overlay",
              "size": 10,
              "solidity": 0.2
             }
            },
            "type": "histogram"
           }
          ],
          "histogram2d": [
           {
            "colorbar": {
             "outlinewidth": 0,
             "ticks": ""
            },
            "colorscale": [
             [
              0,
              "#0d0887"
             ],
             [
              0.1111111111111111,
              "#46039f"
             ],
             [
              0.2222222222222222,
              "#7201a8"
             ],
             [
              0.3333333333333333,
              "#9c179e"
             ],
             [
              0.4444444444444444,
              "#bd3786"
             ],
             [
              0.5555555555555556,
              "#d8576b"
             ],
             [
              0.6666666666666666,
              "#ed7953"
             ],
             [
              0.7777777777777778,
              "#fb9f3a"
             ],
             [
              0.8888888888888888,
              "#fdca26"
             ],
             [
              1,
              "#f0f921"
             ]
            ],
            "type": "histogram2d"
           }
          ],
          "histogram2dcontour": [
           {
            "colorbar": {
             "outlinewidth": 0,
             "ticks": ""
            },
            "colorscale": [
             [
              0,
              "#0d0887"
             ],
             [
              0.1111111111111111,
              "#46039f"
             ],
             [
              0.2222222222222222,
              "#7201a8"
             ],
             [
              0.3333333333333333,
              "#9c179e"
             ],
             [
              0.4444444444444444,
              "#bd3786"
             ],
             [
              0.5555555555555556,
              "#d8576b"
             ],
             [
              0.6666666666666666,
              "#ed7953"
             ],
             [
              0.7777777777777778,
              "#fb9f3a"
             ],
             [
              0.8888888888888888,
              "#fdca26"
             ],
             [
              1,
              "#f0f921"
             ]
            ],
            "type": "histogram2dcontour"
           }
          ],
          "mesh3d": [
           {
            "colorbar": {
             "outlinewidth": 0,
             "ticks": ""
            },
            "type": "mesh3d"
           }
          ],
          "parcoords": [
           {
            "line": {
             "colorbar": {
              "outlinewidth": 0,
              "ticks": ""
             }
            },
            "type": "parcoords"
           }
          ],
          "pie": [
           {
            "automargin": true,
            "type": "pie"
           }
          ],
          "scatter": [
           {
            "marker": {
             "colorbar": {
              "outlinewidth": 0,
              "ticks": ""
             }
            },
            "type": "scatter"
           }
          ],
          "scatter3d": [
           {
            "line": {
             "colorbar": {
              "outlinewidth": 0,
              "ticks": ""
             }
            },
            "marker": {
             "colorbar": {
              "outlinewidth": 0,
              "ticks": ""
             }
            },
            "type": "scatter3d"
           }
          ],
          "scattercarpet": [
           {
            "marker": {
             "colorbar": {
              "outlinewidth": 0,
              "ticks": ""
             }
            },
            "type": "scattercarpet"
           }
          ],
          "scattergeo": [
           {
            "marker": {
             "colorbar": {
              "outlinewidth": 0,
              "ticks": ""
             }
            },
            "type": "scattergeo"
           }
          ],
          "scattergl": [
           {
            "marker": {
             "colorbar": {
              "outlinewidth": 0,
              "ticks": ""
             }
            },
            "type": "scattergl"
           }
          ],
          "scattermapbox": [
           {
            "marker": {
             "colorbar": {
              "outlinewidth": 0,
              "ticks": ""
             }
            },
            "type": "scattermapbox"
           }
          ],
          "scatterpolar": [
           {
            "marker": {
             "colorbar": {
              "outlinewidth": 0,
              "ticks": ""
             }
            },
            "type": "scatterpolar"
           }
          ],
          "scatterpolargl": [
           {
            "marker": {
             "colorbar": {
              "outlinewidth": 0,
              "ticks": ""
             }
            },
            "type": "scatterpolargl"
           }
          ],
          "scatterternary": [
           {
            "marker": {
             "colorbar": {
              "outlinewidth": 0,
              "ticks": ""
             }
            },
            "type": "scatterternary"
           }
          ],
          "surface": [
           {
            "colorbar": {
             "outlinewidth": 0,
             "ticks": ""
            },
            "colorscale": [
             [
              0,
              "#0d0887"
             ],
             [
              0.1111111111111111,
              "#46039f"
             ],
             [
              0.2222222222222222,
              "#7201a8"
             ],
             [
              0.3333333333333333,
              "#9c179e"
             ],
             [
              0.4444444444444444,
              "#bd3786"
             ],
             [
              0.5555555555555556,
              "#d8576b"
             ],
             [
              0.6666666666666666,
              "#ed7953"
             ],
             [
              0.7777777777777778,
              "#fb9f3a"
             ],
             [
              0.8888888888888888,
              "#fdca26"
             ],
             [
              1,
              "#f0f921"
             ]
            ],
            "type": "surface"
           }
          ],
          "table": [
           {
            "cells": {
             "fill": {
              "color": "#EBF0F8"
             },
             "line": {
              "color": "white"
             }
            },
            "header": {
             "fill": {
              "color": "#C8D4E3"
             },
             "line": {
              "color": "white"
             }
            },
            "type": "table"
           }
          ]
         },
         "layout": {
          "annotationdefaults": {
           "arrowcolor": "#2a3f5f",
           "arrowhead": 0,
           "arrowwidth": 1
          },
          "autotypenumbers": "strict",
          "coloraxis": {
           "colorbar": {
            "outlinewidth": 0,
            "ticks": ""
           }
          },
          "colorscale": {
           "diverging": [
            [
             0,
             "#8e0152"
            ],
            [
             0.1,
             "#c51b7d"
            ],
            [
             0.2,
             "#de77ae"
            ],
            [
             0.3,
             "#f1b6da"
            ],
            [
             0.4,
             "#fde0ef"
            ],
            [
             0.5,
             "#f7f7f7"
            ],
            [
             0.6,
             "#e6f5d0"
            ],
            [
             0.7,
             "#b8e186"
            ],
            [
             0.8,
             "#7fbc41"
            ],
            [
             0.9,
             "#4d9221"
            ],
            [
             1,
             "#276419"
            ]
           ],
           "sequential": [
            [
             0,
             "#0d0887"
            ],
            [
             0.1111111111111111,
             "#46039f"
            ],
            [
             0.2222222222222222,
             "#7201a8"
            ],
            [
             0.3333333333333333,
             "#9c179e"
            ],
            [
             0.4444444444444444,
             "#bd3786"
            ],
            [
             0.5555555555555556,
             "#d8576b"
            ],
            [
             0.6666666666666666,
             "#ed7953"
            ],
            [
             0.7777777777777778,
             "#fb9f3a"
            ],
            [
             0.8888888888888888,
             "#fdca26"
            ],
            [
             1,
             "#f0f921"
            ]
           ],
           "sequentialminus": [
            [
             0,
             "#0d0887"
            ],
            [
             0.1111111111111111,
             "#46039f"
            ],
            [
             0.2222222222222222,
             "#7201a8"
            ],
            [
             0.3333333333333333,
             "#9c179e"
            ],
            [
             0.4444444444444444,
             "#bd3786"
            ],
            [
             0.5555555555555556,
             "#d8576b"
            ],
            [
             0.6666666666666666,
             "#ed7953"
            ],
            [
             0.7777777777777778,
             "#fb9f3a"
            ],
            [
             0.8888888888888888,
             "#fdca26"
            ],
            [
             1,
             "#f0f921"
            ]
           ]
          },
          "colorway": [
           "#636efa",
           "#EF553B",
           "#00cc96",
           "#ab63fa",
           "#FFA15A",
           "#19d3f3",
           "#FF6692",
           "#B6E880",
           "#FF97FF",
           "#FECB52"
          ],
          "font": {
           "color": "#2a3f5f"
          },
          "geo": {
           "bgcolor": "white",
           "lakecolor": "white",
           "landcolor": "#E5ECF6",
           "showlakes": true,
           "showland": true,
           "subunitcolor": "white"
          },
          "hoverlabel": {
           "align": "left"
          },
          "hovermode": "closest",
          "mapbox": {
           "style": "light"
          },
          "paper_bgcolor": "white",
          "plot_bgcolor": "#E5ECF6",
          "polar": {
           "angularaxis": {
            "gridcolor": "white",
            "linecolor": "white",
            "ticks": ""
           },
           "bgcolor": "#E5ECF6",
           "radialaxis": {
            "gridcolor": "white",
            "linecolor": "white",
            "ticks": ""
           }
          },
          "scene": {
           "xaxis": {
            "backgroundcolor": "#E5ECF6",
            "gridcolor": "white",
            "gridwidth": 2,
            "linecolor": "white",
            "showbackground": true,
            "ticks": "",
            "zerolinecolor": "white"
           },
           "yaxis": {
            "backgroundcolor": "#E5ECF6",
            "gridcolor": "white",
            "gridwidth": 2,
            "linecolor": "white",
            "showbackground": true,
            "ticks": "",
            "zerolinecolor": "white"
           },
           "zaxis": {
            "backgroundcolor": "#E5ECF6",
            "gridcolor": "white",
            "gridwidth": 2,
            "linecolor": "white",
            "showbackground": true,
            "ticks": "",
            "zerolinecolor": "white"
           }
          },
          "shapedefaults": {
           "line": {
            "color": "#2a3f5f"
           }
          },
          "ternary": {
           "aaxis": {
            "gridcolor": "white",
            "linecolor": "white",
            "ticks": ""
           },
           "baxis": {
            "gridcolor": "white",
            "linecolor": "white",
            "ticks": ""
           },
           "bgcolor": "#E5ECF6",
           "caxis": {
            "gridcolor": "white",
            "linecolor": "white",
            "ticks": ""
           }
          },
          "title": {
           "x": 0.05
          },
          "xaxis": {
           "automargin": true,
           "gridcolor": "white",
           "linecolor": "white",
           "ticks": "",
           "title": {
            "standoff": 15
           },
           "zerolinecolor": "white",
           "zerolinewidth": 2
          },
          "yaxis": {
           "automargin": true,
           "gridcolor": "white",
           "linecolor": "white",
           "ticks": "",
           "title": {
            "standoff": 15
           },
           "zerolinecolor": "white",
           "zerolinewidth": 2
          }
         }
        },
        "title": {
         "font": {
          "color": "#4D5663"
         }
        },
        "xaxis": {
         "gridcolor": "#E1E5ED",
         "showgrid": true,
         "tickfont": {
          "color": "#4D5663"
         },
         "title": {
          "font": {
           "color": "#4D5663"
          },
          "text": ""
         },
         "zerolinecolor": "#E1E5ED"
        },
        "yaxis": {
         "gridcolor": "#E1E5ED",
         "showgrid": true,
         "tickfont": {
          "color": "#4D5663"
         },
         "title": {
          "font": {
           "color": "#4D5663"
          },
          "text": ""
         },
         "zerolinecolor": "#E1E5ED"
        }
       }
      },
      "text/html": [
       "<div>                            <div id=\"d9f23ce0-c714-441c-94f2-653c4ff3eead\" class=\"plotly-graph-div\" style=\"height:525px; width:100%;\"></div>            <script type=\"text/javascript\">                require([\"plotly\"], function(Plotly) {                    window.PLOTLYENV=window.PLOTLYENV || {};\n",
       "                    window.PLOTLYENV.BASE_URL='https://plot.ly';                                    if (document.getElementById(\"d9f23ce0-c714-441c-94f2-653c4ff3eead\")) {                    Plotly.newPlot(                        \"d9f23ce0-c714-441c-94f2-653c4ff3eead\",                        [{\"marker\":{\"color\":\"rgba(255, 153, 51, 0.6)\",\"line\":{\"color\":\"rgba(255, 153, 51, 1.0)\",\"width\":1}},\"name\":\"None\",\"orientation\":\"v\",\"text\":\"\",\"type\":\"bar\",\"x\":[\"A\",\"B\",\"C\",\"D\"],\"y\":[100,100,100,100]}],                        {\"legend\":{\"bgcolor\":\"#F5F6F9\",\"font\":{\"color\":\"#4D5663\"}},\"paper_bgcolor\":\"#F5F6F9\",\"plot_bgcolor\":\"#F5F6F9\",\"template\":{\"data\":{\"bar\":[{\"error_x\":{\"color\":\"#2a3f5f\"},\"error_y\":{\"color\":\"#2a3f5f\"},\"marker\":{\"line\":{\"color\":\"#E5ECF6\",\"width\":0.5},\"pattern\":{\"fillmode\":\"overlay\",\"size\":10,\"solidity\":0.2}},\"type\":\"bar\"}],\"barpolar\":[{\"marker\":{\"line\":{\"color\":\"#E5ECF6\",\"width\":0.5},\"pattern\":{\"fillmode\":\"overlay\",\"size\":10,\"solidity\":0.2}},\"type\":\"barpolar\"}],\"carpet\":[{\"aaxis\":{\"endlinecolor\":\"#2a3f5f\",\"gridcolor\":\"white\",\"linecolor\":\"white\",\"minorgridcolor\":\"white\",\"startlinecolor\":\"#2a3f5f\"},\"baxis\":{\"endlinecolor\":\"#2a3f5f\",\"gridcolor\":\"white\",\"linecolor\":\"white\",\"minorgridcolor\":\"white\",\"startlinecolor\":\"#2a3f5f\"},\"type\":\"carpet\"}],\"choropleth\":[{\"colorbar\":{\"outlinewidth\":0,\"ticks\":\"\"},\"type\":\"choropleth\"}],\"contour\":[{\"colorbar\":{\"outlinewidth\":0,\"ticks\":\"\"},\"colorscale\":[[0.0,\"#0d0887\"],[0.1111111111111111,\"#46039f\"],[0.2222222222222222,\"#7201a8\"],[0.3333333333333333,\"#9c179e\"],[0.4444444444444444,\"#bd3786\"],[0.5555555555555556,\"#d8576b\"],[0.6666666666666666,\"#ed7953\"],[0.7777777777777778,\"#fb9f3a\"],[0.8888888888888888,\"#fdca26\"],[1.0,\"#f0f921\"]],\"type\":\"contour\"}],\"contourcarpet\":[{\"colorbar\":{\"outlinewidth\":0,\"ticks\":\"\"},\"type\":\"contourcarpet\"}],\"heatmap\":[{\"colorbar\":{\"outlinewidth\":0,\"ticks\":\"\"},\"colorscale\":[[0.0,\"#0d0887\"],[0.1111111111111111,\"#46039f\"],[0.2222222222222222,\"#7201a8\"],[0.3333333333333333,\"#9c179e\"],[0.4444444444444444,\"#bd3786\"],[0.5555555555555556,\"#d8576b\"],[0.6666666666666666,\"#ed7953\"],[0.7777777777777778,\"#fb9f3a\"],[0.8888888888888888,\"#fdca26\"],[1.0,\"#f0f921\"]],\"type\":\"heatmap\"}],\"heatmapgl\":[{\"colorbar\":{\"outlinewidth\":0,\"ticks\":\"\"},\"colorscale\":[[0.0,\"#0d0887\"],[0.1111111111111111,\"#46039f\"],[0.2222222222222222,\"#7201a8\"],[0.3333333333333333,\"#9c179e\"],[0.4444444444444444,\"#bd3786\"],[0.5555555555555556,\"#d8576b\"],[0.6666666666666666,\"#ed7953\"],[0.7777777777777778,\"#fb9f3a\"],[0.8888888888888888,\"#fdca26\"],[1.0,\"#f0f921\"]],\"type\":\"heatmapgl\"}],\"histogram\":[{\"marker\":{\"pattern\":{\"fillmode\":\"overlay\",\"size\":10,\"solidity\":0.2}},\"type\":\"histogram\"}],\"histogram2d\":[{\"colorbar\":{\"outlinewidth\":0,\"ticks\":\"\"},\"colorscale\":[[0.0,\"#0d0887\"],[0.1111111111111111,\"#46039f\"],[0.2222222222222222,\"#7201a8\"],[0.3333333333333333,\"#9c179e\"],[0.4444444444444444,\"#bd3786\"],[0.5555555555555556,\"#d8576b\"],[0.6666666666666666,\"#ed7953\"],[0.7777777777777778,\"#fb9f3a\"],[0.8888888888888888,\"#fdca26\"],[1.0,\"#f0f921\"]],\"type\":\"histogram2d\"}],\"histogram2dcontour\":[{\"colorbar\":{\"outlinewidth\":0,\"ticks\":\"\"},\"colorscale\":[[0.0,\"#0d0887\"],[0.1111111111111111,\"#46039f\"],[0.2222222222222222,\"#7201a8\"],[0.3333333333333333,\"#9c179e\"],[0.4444444444444444,\"#bd3786\"],[0.5555555555555556,\"#d8576b\"],[0.6666666666666666,\"#ed7953\"],[0.7777777777777778,\"#fb9f3a\"],[0.8888888888888888,\"#fdca26\"],[1.0,\"#f0f921\"]],\"type\":\"histogram2dcontour\"}],\"mesh3d\":[{\"colorbar\":{\"outlinewidth\":0,\"ticks\":\"\"},\"type\":\"mesh3d\"}],\"parcoords\":[{\"line\":{\"colorbar\":{\"outlinewidth\":0,\"ticks\":\"\"}},\"type\":\"parcoords\"}],\"pie\":[{\"automargin\":true,\"type\":\"pie\"}],\"scatter\":[{\"marker\":{\"colorbar\":{\"outlinewidth\":0,\"ticks\":\"\"}},\"type\":\"scatter\"}],\"scatter3d\":[{\"line\":{\"colorbar\":{\"outlinewidth\":0,\"ticks\":\"\"}},\"marker\":{\"colorbar\":{\"outlinewidth\":0,\"ticks\":\"\"}},\"type\":\"scatter3d\"}],\"scattercarpet\":[{\"marker\":{\"colorbar\":{\"outlinewidth\":0,\"ticks\":\"\"}},\"type\":\"scattercarpet\"}],\"scattergeo\":[{\"marker\":{\"colorbar\":{\"outlinewidth\":0,\"ticks\":\"\"}},\"type\":\"scattergeo\"}],\"scattergl\":[{\"marker\":{\"colorbar\":{\"outlinewidth\":0,\"ticks\":\"\"}},\"type\":\"scattergl\"}],\"scattermapbox\":[{\"marker\":{\"colorbar\":{\"outlinewidth\":0,\"ticks\":\"\"}},\"type\":\"scattermapbox\"}],\"scatterpolar\":[{\"marker\":{\"colorbar\":{\"outlinewidth\":0,\"ticks\":\"\"}},\"type\":\"scatterpolar\"}],\"scatterpolargl\":[{\"marker\":{\"colorbar\":{\"outlinewidth\":0,\"ticks\":\"\"}},\"type\":\"scatterpolargl\"}],\"scatterternary\":[{\"marker\":{\"colorbar\":{\"outlinewidth\":0,\"ticks\":\"\"}},\"type\":\"scatterternary\"}],\"surface\":[{\"colorbar\":{\"outlinewidth\":0,\"ticks\":\"\"},\"colorscale\":[[0.0,\"#0d0887\"],[0.1111111111111111,\"#46039f\"],[0.2222222222222222,\"#7201a8\"],[0.3333333333333333,\"#9c179e\"],[0.4444444444444444,\"#bd3786\"],[0.5555555555555556,\"#d8576b\"],[0.6666666666666666,\"#ed7953\"],[0.7777777777777778,\"#fb9f3a\"],[0.8888888888888888,\"#fdca26\"],[1.0,\"#f0f921\"]],\"type\":\"surface\"}],\"table\":[{\"cells\":{\"fill\":{\"color\":\"#EBF0F8\"},\"line\":{\"color\":\"white\"}},\"header\":{\"fill\":{\"color\":\"#C8D4E3\"},\"line\":{\"color\":\"white\"}},\"type\":\"table\"}]},\"layout\":{\"annotationdefaults\":{\"arrowcolor\":\"#2a3f5f\",\"arrowhead\":0,\"arrowwidth\":1},\"autotypenumbers\":\"strict\",\"coloraxis\":{\"colorbar\":{\"outlinewidth\":0,\"ticks\":\"\"}},\"colorscale\":{\"diverging\":[[0,\"#8e0152\"],[0.1,\"#c51b7d\"],[0.2,\"#de77ae\"],[0.3,\"#f1b6da\"],[0.4,\"#fde0ef\"],[0.5,\"#f7f7f7\"],[0.6,\"#e6f5d0\"],[0.7,\"#b8e186\"],[0.8,\"#7fbc41\"],[0.9,\"#4d9221\"],[1,\"#276419\"]],\"sequential\":[[0.0,\"#0d0887\"],[0.1111111111111111,\"#46039f\"],[0.2222222222222222,\"#7201a8\"],[0.3333333333333333,\"#9c179e\"],[0.4444444444444444,\"#bd3786\"],[0.5555555555555556,\"#d8576b\"],[0.6666666666666666,\"#ed7953\"],[0.7777777777777778,\"#fb9f3a\"],[0.8888888888888888,\"#fdca26\"],[1.0,\"#f0f921\"]],\"sequentialminus\":[[0.0,\"#0d0887\"],[0.1111111111111111,\"#46039f\"],[0.2222222222222222,\"#7201a8\"],[0.3333333333333333,\"#9c179e\"],[0.4444444444444444,\"#bd3786\"],[0.5555555555555556,\"#d8576b\"],[0.6666666666666666,\"#ed7953\"],[0.7777777777777778,\"#fb9f3a\"],[0.8888888888888888,\"#fdca26\"],[1.0,\"#f0f921\"]]},\"colorway\":[\"#636efa\",\"#EF553B\",\"#00cc96\",\"#ab63fa\",\"#FFA15A\",\"#19d3f3\",\"#FF6692\",\"#B6E880\",\"#FF97FF\",\"#FECB52\"],\"font\":{\"color\":\"#2a3f5f\"},\"geo\":{\"bgcolor\":\"white\",\"lakecolor\":\"white\",\"landcolor\":\"#E5ECF6\",\"showlakes\":true,\"showland\":true,\"subunitcolor\":\"white\"},\"hoverlabel\":{\"align\":\"left\"},\"hovermode\":\"closest\",\"mapbox\":{\"style\":\"light\"},\"paper_bgcolor\":\"white\",\"plot_bgcolor\":\"#E5ECF6\",\"polar\":{\"angularaxis\":{\"gridcolor\":\"white\",\"linecolor\":\"white\",\"ticks\":\"\"},\"bgcolor\":\"#E5ECF6\",\"radialaxis\":{\"gridcolor\":\"white\",\"linecolor\":\"white\",\"ticks\":\"\"}},\"scene\":{\"xaxis\":{\"backgroundcolor\":\"#E5ECF6\",\"gridcolor\":\"white\",\"gridwidth\":2,\"linecolor\":\"white\",\"showbackground\":true,\"ticks\":\"\",\"zerolinecolor\":\"white\"},\"yaxis\":{\"backgroundcolor\":\"#E5ECF6\",\"gridcolor\":\"white\",\"gridwidth\":2,\"linecolor\":\"white\",\"showbackground\":true,\"ticks\":\"\",\"zerolinecolor\":\"white\"},\"zaxis\":{\"backgroundcolor\":\"#E5ECF6\",\"gridcolor\":\"white\",\"gridwidth\":2,\"linecolor\":\"white\",\"showbackground\":true,\"ticks\":\"\",\"zerolinecolor\":\"white\"}},\"shapedefaults\":{\"line\":{\"color\":\"#2a3f5f\"}},\"ternary\":{\"aaxis\":{\"gridcolor\":\"white\",\"linecolor\":\"white\",\"ticks\":\"\"},\"baxis\":{\"gridcolor\":\"white\",\"linecolor\":\"white\",\"ticks\":\"\"},\"bgcolor\":\"#E5ECF6\",\"caxis\":{\"gridcolor\":\"white\",\"linecolor\":\"white\",\"ticks\":\"\"}},\"title\":{\"x\":0.05},\"xaxis\":{\"automargin\":true,\"gridcolor\":\"white\",\"linecolor\":\"white\",\"ticks\":\"\",\"title\":{\"standoff\":15},\"zerolinecolor\":\"white\",\"zerolinewidth\":2},\"yaxis\":{\"automargin\":true,\"gridcolor\":\"white\",\"linecolor\":\"white\",\"ticks\":\"\",\"title\":{\"standoff\":15},\"zerolinecolor\":\"white\",\"zerolinewidth\":2}}},\"title\":{\"font\":{\"color\":\"#4D5663\"}},\"xaxis\":{\"gridcolor\":\"#E1E5ED\",\"showgrid\":true,\"tickfont\":{\"color\":\"#4D5663\"},\"title\":{\"font\":{\"color\":\"#4D5663\"},\"text\":\"\"},\"zerolinecolor\":\"#E1E5ED\"},\"yaxis\":{\"gridcolor\":\"#E1E5ED\",\"showgrid\":true,\"tickfont\":{\"color\":\"#4D5663\"},\"title\":{\"font\":{\"color\":\"#4D5663\"},\"text\":\"\"},\"zerolinecolor\":\"#E1E5ED\"}},                        {\"showLink\": true, \"linkText\": \"Export to plot.ly\", \"plotlyServerURL\": \"https://plot.ly\", \"responsive\": true}                    ).then(function(){\n",
       "                            \n",
       "var gd = document.getElementById('d9f23ce0-c714-441c-94f2-653c4ff3eead');\n",
       "var x = new MutationObserver(function (mutations, observer) {{\n",
       "        var display = window.getComputedStyle(gd).display;\n",
       "        if (!display || display === 'none') {{\n",
       "            console.log([gd, 'removed!']);\n",
       "            Plotly.purge(gd);\n",
       "            observer.disconnect();\n",
       "        }}\n",
       "}});\n",
       "\n",
       "// Listen for the removal of the full notebook cells\n",
       "var notebookContainer = gd.closest('#notebook-container');\n",
       "if (notebookContainer) {{\n",
       "    x.observe(notebookContainer, {childList: true});\n",
       "}}\n",
       "\n",
       "// Listen for the clearing of the current output cell\n",
       "var outputEl = gd.closest('.output');\n",
       "if (outputEl) {{\n",
       "    x.observe(outputEl, {childList: true});\n",
       "}}\n",
       "\n",
       "                        })                };                });            </script>        </div>"
      ]
     },
     "metadata": {},
     "output_type": "display_data"
    }
   ],
   "source": [
    "df.count().iplot(kind='bar')"
   ]
  },
  {
   "cell_type": "code",
   "execution_count": 27,
   "metadata": {},
   "outputs": [
    {
     "data": {
      "application/vnd.plotly.v1+json": {
       "config": {
        "linkText": "Export to plot.ly",
        "plotlyServerURL": "https://plot.ly",
        "showLink": true
       },
       "data": [
        {
         "marker": {
          "color": "rgba(255, 153, 51, 0.6)",
          "line": {
           "color": "rgba(255, 153, 51, 1.0)",
           "width": 1
          }
         },
         "name": "None",
         "orientation": "v",
         "text": "",
         "type": "bar",
         "x": [
          "A",
          "B",
          "C",
          "D"
         ],
         "y": [
          -5.6940111633142045,
          -10.403027849671869,
          -10.266971043441558,
          9.526175454076064
         ]
        }
       ],
       "layout": {
        "legend": {
         "bgcolor": "#F5F6F9",
         "font": {
          "color": "#4D5663"
         }
        },
        "paper_bgcolor": "#F5F6F9",
        "plot_bgcolor": "#F5F6F9",
        "template": {
         "data": {
          "bar": [
           {
            "error_x": {
             "color": "#2a3f5f"
            },
            "error_y": {
             "color": "#2a3f5f"
            },
            "marker": {
             "line": {
              "color": "#E5ECF6",
              "width": 0.5
             },
             "pattern": {
              "fillmode": "overlay",
              "size": 10,
              "solidity": 0.2
             }
            },
            "type": "bar"
           }
          ],
          "barpolar": [
           {
            "marker": {
             "line": {
              "color": "#E5ECF6",
              "width": 0.5
             },
             "pattern": {
              "fillmode": "overlay",
              "size": 10,
              "solidity": 0.2
             }
            },
            "type": "barpolar"
           }
          ],
          "carpet": [
           {
            "aaxis": {
             "endlinecolor": "#2a3f5f",
             "gridcolor": "white",
             "linecolor": "white",
             "minorgridcolor": "white",
             "startlinecolor": "#2a3f5f"
            },
            "baxis": {
             "endlinecolor": "#2a3f5f",
             "gridcolor": "white",
             "linecolor": "white",
             "minorgridcolor": "white",
             "startlinecolor": "#2a3f5f"
            },
            "type": "carpet"
           }
          ],
          "choropleth": [
           {
            "colorbar": {
             "outlinewidth": 0,
             "ticks": ""
            },
            "type": "choropleth"
           }
          ],
          "contour": [
           {
            "colorbar": {
             "outlinewidth": 0,
             "ticks": ""
            },
            "colorscale": [
             [
              0,
              "#0d0887"
             ],
             [
              0.1111111111111111,
              "#46039f"
             ],
             [
              0.2222222222222222,
              "#7201a8"
             ],
             [
              0.3333333333333333,
              "#9c179e"
             ],
             [
              0.4444444444444444,
              "#bd3786"
             ],
             [
              0.5555555555555556,
              "#d8576b"
             ],
             [
              0.6666666666666666,
              "#ed7953"
             ],
             [
              0.7777777777777778,
              "#fb9f3a"
             ],
             [
              0.8888888888888888,
              "#fdca26"
             ],
             [
              1,
              "#f0f921"
             ]
            ],
            "type": "contour"
           }
          ],
          "contourcarpet": [
           {
            "colorbar": {
             "outlinewidth": 0,
             "ticks": ""
            },
            "type": "contourcarpet"
           }
          ],
          "heatmap": [
           {
            "colorbar": {
             "outlinewidth": 0,
             "ticks": ""
            },
            "colorscale": [
             [
              0,
              "#0d0887"
             ],
             [
              0.1111111111111111,
              "#46039f"
             ],
             [
              0.2222222222222222,
              "#7201a8"
             ],
             [
              0.3333333333333333,
              "#9c179e"
             ],
             [
              0.4444444444444444,
              "#bd3786"
             ],
             [
              0.5555555555555556,
              "#d8576b"
             ],
             [
              0.6666666666666666,
              "#ed7953"
             ],
             [
              0.7777777777777778,
              "#fb9f3a"
             ],
             [
              0.8888888888888888,
              "#fdca26"
             ],
             [
              1,
              "#f0f921"
             ]
            ],
            "type": "heatmap"
           }
          ],
          "heatmapgl": [
           {
            "colorbar": {
             "outlinewidth": 0,
             "ticks": ""
            },
            "colorscale": [
             [
              0,
              "#0d0887"
             ],
             [
              0.1111111111111111,
              "#46039f"
             ],
             [
              0.2222222222222222,
              "#7201a8"
             ],
             [
              0.3333333333333333,
              "#9c179e"
             ],
             [
              0.4444444444444444,
              "#bd3786"
             ],
             [
              0.5555555555555556,
              "#d8576b"
             ],
             [
              0.6666666666666666,
              "#ed7953"
             ],
             [
              0.7777777777777778,
              "#fb9f3a"
             ],
             [
              0.8888888888888888,
              "#fdca26"
             ],
             [
              1,
              "#f0f921"
             ]
            ],
            "type": "heatmapgl"
           }
          ],
          "histogram": [
           {
            "marker": {
             "pattern": {
              "fillmode": "overlay",
              "size": 10,
              "solidity": 0.2
             }
            },
            "type": "histogram"
           }
          ],
          "histogram2d": [
           {
            "colorbar": {
             "outlinewidth": 0,
             "ticks": ""
            },
            "colorscale": [
             [
              0,
              "#0d0887"
             ],
             [
              0.1111111111111111,
              "#46039f"
             ],
             [
              0.2222222222222222,
              "#7201a8"
             ],
             [
              0.3333333333333333,
              "#9c179e"
             ],
             [
              0.4444444444444444,
              "#bd3786"
             ],
             [
              0.5555555555555556,
              "#d8576b"
             ],
             [
              0.6666666666666666,
              "#ed7953"
             ],
             [
              0.7777777777777778,
              "#fb9f3a"
             ],
             [
              0.8888888888888888,
              "#fdca26"
             ],
             [
              1,
              "#f0f921"
             ]
            ],
            "type": "histogram2d"
           }
          ],
          "histogram2dcontour": [
           {
            "colorbar": {
             "outlinewidth": 0,
             "ticks": ""
            },
            "colorscale": [
             [
              0,
              "#0d0887"
             ],
             [
              0.1111111111111111,
              "#46039f"
             ],
             [
              0.2222222222222222,
              "#7201a8"
             ],
             [
              0.3333333333333333,
              "#9c179e"
             ],
             [
              0.4444444444444444,
              "#bd3786"
             ],
             [
              0.5555555555555556,
              "#d8576b"
             ],
             [
              0.6666666666666666,
              "#ed7953"
             ],
             [
              0.7777777777777778,
              "#fb9f3a"
             ],
             [
              0.8888888888888888,
              "#fdca26"
             ],
             [
              1,
              "#f0f921"
             ]
            ],
            "type": "histogram2dcontour"
           }
          ],
          "mesh3d": [
           {
            "colorbar": {
             "outlinewidth": 0,
             "ticks": ""
            },
            "type": "mesh3d"
           }
          ],
          "parcoords": [
           {
            "line": {
             "colorbar": {
              "outlinewidth": 0,
              "ticks": ""
             }
            },
            "type": "parcoords"
           }
          ],
          "pie": [
           {
            "automargin": true,
            "type": "pie"
           }
          ],
          "scatter": [
           {
            "marker": {
             "colorbar": {
              "outlinewidth": 0,
              "ticks": ""
             }
            },
            "type": "scatter"
           }
          ],
          "scatter3d": [
           {
            "line": {
             "colorbar": {
              "outlinewidth": 0,
              "ticks": ""
             }
            },
            "marker": {
             "colorbar": {
              "outlinewidth": 0,
              "ticks": ""
             }
            },
            "type": "scatter3d"
           }
          ],
          "scattercarpet": [
           {
            "marker": {
             "colorbar": {
              "outlinewidth": 0,
              "ticks": ""
             }
            },
            "type": "scattercarpet"
           }
          ],
          "scattergeo": [
           {
            "marker": {
             "colorbar": {
              "outlinewidth": 0,
              "ticks": ""
             }
            },
            "type": "scattergeo"
           }
          ],
          "scattergl": [
           {
            "marker": {
             "colorbar": {
              "outlinewidth": 0,
              "ticks": ""
             }
            },
            "type": "scattergl"
           }
          ],
          "scattermapbox": [
           {
            "marker": {
             "colorbar": {
              "outlinewidth": 0,
              "ticks": ""
             }
            },
            "type": "scattermapbox"
           }
          ],
          "scatterpolar": [
           {
            "marker": {
             "colorbar": {
              "outlinewidth": 0,
              "ticks": ""
             }
            },
            "type": "scatterpolar"
           }
          ],
          "scatterpolargl": [
           {
            "marker": {
             "colorbar": {
              "outlinewidth": 0,
              "ticks": ""
             }
            },
            "type": "scatterpolargl"
           }
          ],
          "scatterternary": [
           {
            "marker": {
             "colorbar": {
              "outlinewidth": 0,
              "ticks": ""
             }
            },
            "type": "scatterternary"
           }
          ],
          "surface": [
           {
            "colorbar": {
             "outlinewidth": 0,
             "ticks": ""
            },
            "colorscale": [
             [
              0,
              "#0d0887"
             ],
             [
              0.1111111111111111,
              "#46039f"
             ],
             [
              0.2222222222222222,
              "#7201a8"
             ],
             [
              0.3333333333333333,
              "#9c179e"
             ],
             [
              0.4444444444444444,
              "#bd3786"
             ],
             [
              0.5555555555555556,
              "#d8576b"
             ],
             [
              0.6666666666666666,
              "#ed7953"
             ],
             [
              0.7777777777777778,
              "#fb9f3a"
             ],
             [
              0.8888888888888888,
              "#fdca26"
             ],
             [
              1,
              "#f0f921"
             ]
            ],
            "type": "surface"
           }
          ],
          "table": [
           {
            "cells": {
             "fill": {
              "color": "#EBF0F8"
             },
             "line": {
              "color": "white"
             }
            },
            "header": {
             "fill": {
              "color": "#C8D4E3"
             },
             "line": {
              "color": "white"
             }
            },
            "type": "table"
           }
          ]
         },
         "layout": {
          "annotationdefaults": {
           "arrowcolor": "#2a3f5f",
           "arrowhead": 0,
           "arrowwidth": 1
          },
          "autotypenumbers": "strict",
          "coloraxis": {
           "colorbar": {
            "outlinewidth": 0,
            "ticks": ""
           }
          },
          "colorscale": {
           "diverging": [
            [
             0,
             "#8e0152"
            ],
            [
             0.1,
             "#c51b7d"
            ],
            [
             0.2,
             "#de77ae"
            ],
            [
             0.3,
             "#f1b6da"
            ],
            [
             0.4,
             "#fde0ef"
            ],
            [
             0.5,
             "#f7f7f7"
            ],
            [
             0.6,
             "#e6f5d0"
            ],
            [
             0.7,
             "#b8e186"
            ],
            [
             0.8,
             "#7fbc41"
            ],
            [
             0.9,
             "#4d9221"
            ],
            [
             1,
             "#276419"
            ]
           ],
           "sequential": [
            [
             0,
             "#0d0887"
            ],
            [
             0.1111111111111111,
             "#46039f"
            ],
            [
             0.2222222222222222,
             "#7201a8"
            ],
            [
             0.3333333333333333,
             "#9c179e"
            ],
            [
             0.4444444444444444,
             "#bd3786"
            ],
            [
             0.5555555555555556,
             "#d8576b"
            ],
            [
             0.6666666666666666,
             "#ed7953"
            ],
            [
             0.7777777777777778,
             "#fb9f3a"
            ],
            [
             0.8888888888888888,
             "#fdca26"
            ],
            [
             1,
             "#f0f921"
            ]
           ],
           "sequentialminus": [
            [
             0,
             "#0d0887"
            ],
            [
             0.1111111111111111,
             "#46039f"
            ],
            [
             0.2222222222222222,
             "#7201a8"
            ],
            [
             0.3333333333333333,
             "#9c179e"
            ],
            [
             0.4444444444444444,
             "#bd3786"
            ],
            [
             0.5555555555555556,
             "#d8576b"
            ],
            [
             0.6666666666666666,
             "#ed7953"
            ],
            [
             0.7777777777777778,
             "#fb9f3a"
            ],
            [
             0.8888888888888888,
             "#fdca26"
            ],
            [
             1,
             "#f0f921"
            ]
           ]
          },
          "colorway": [
           "#636efa",
           "#EF553B",
           "#00cc96",
           "#ab63fa",
           "#FFA15A",
           "#19d3f3",
           "#FF6692",
           "#B6E880",
           "#FF97FF",
           "#FECB52"
          ],
          "font": {
           "color": "#2a3f5f"
          },
          "geo": {
           "bgcolor": "white",
           "lakecolor": "white",
           "landcolor": "#E5ECF6",
           "showlakes": true,
           "showland": true,
           "subunitcolor": "white"
          },
          "hoverlabel": {
           "align": "left"
          },
          "hovermode": "closest",
          "mapbox": {
           "style": "light"
          },
          "paper_bgcolor": "white",
          "plot_bgcolor": "#E5ECF6",
          "polar": {
           "angularaxis": {
            "gridcolor": "white",
            "linecolor": "white",
            "ticks": ""
           },
           "bgcolor": "#E5ECF6",
           "radialaxis": {
            "gridcolor": "white",
            "linecolor": "white",
            "ticks": ""
           }
          },
          "scene": {
           "xaxis": {
            "backgroundcolor": "#E5ECF6",
            "gridcolor": "white",
            "gridwidth": 2,
            "linecolor": "white",
            "showbackground": true,
            "ticks": "",
            "zerolinecolor": "white"
           },
           "yaxis": {
            "backgroundcolor": "#E5ECF6",
            "gridcolor": "white",
            "gridwidth": 2,
            "linecolor": "white",
            "showbackground": true,
            "ticks": "",
            "zerolinecolor": "white"
           },
           "zaxis": {
            "backgroundcolor": "#E5ECF6",
            "gridcolor": "white",
            "gridwidth": 2,
            "linecolor": "white",
            "showbackground": true,
            "ticks": "",
            "zerolinecolor": "white"
           }
          },
          "shapedefaults": {
           "line": {
            "color": "#2a3f5f"
           }
          },
          "ternary": {
           "aaxis": {
            "gridcolor": "white",
            "linecolor": "white",
            "ticks": ""
           },
           "baxis": {
            "gridcolor": "white",
            "linecolor": "white",
            "ticks": ""
           },
           "bgcolor": "#E5ECF6",
           "caxis": {
            "gridcolor": "white",
            "linecolor": "white",
            "ticks": ""
           }
          },
          "title": {
           "x": 0.05
          },
          "xaxis": {
           "automargin": true,
           "gridcolor": "white",
           "linecolor": "white",
           "ticks": "",
           "title": {
            "standoff": 15
           },
           "zerolinecolor": "white",
           "zerolinewidth": 2
          },
          "yaxis": {
           "automargin": true,
           "gridcolor": "white",
           "linecolor": "white",
           "ticks": "",
           "title": {
            "standoff": 15
           },
           "zerolinecolor": "white",
           "zerolinewidth": 2
          }
         }
        },
        "title": {
         "font": {
          "color": "#4D5663"
         }
        },
        "xaxis": {
         "gridcolor": "#E1E5ED",
         "showgrid": true,
         "tickfont": {
          "color": "#4D5663"
         },
         "title": {
          "font": {
           "color": "#4D5663"
          },
          "text": ""
         },
         "zerolinecolor": "#E1E5ED"
        },
        "yaxis": {
         "gridcolor": "#E1E5ED",
         "showgrid": true,
         "tickfont": {
          "color": "#4D5663"
         },
         "title": {
          "font": {
           "color": "#4D5663"
          },
          "text": ""
         },
         "zerolinecolor": "#E1E5ED"
        }
       }
      },
      "text/html": [
       "<div>                            <div id=\"60d7557a-d04d-47f0-91da-cd2525765171\" class=\"plotly-graph-div\" style=\"height:525px; width:100%;\"></div>            <script type=\"text/javascript\">                require([\"plotly\"], function(Plotly) {                    window.PLOTLYENV=window.PLOTLYENV || {};\n",
       "                    window.PLOTLYENV.BASE_URL='https://plot.ly';                                    if (document.getElementById(\"60d7557a-d04d-47f0-91da-cd2525765171\")) {                    Plotly.newPlot(                        \"60d7557a-d04d-47f0-91da-cd2525765171\",                        [{\"marker\":{\"color\":\"rgba(255, 153, 51, 0.6)\",\"line\":{\"color\":\"rgba(255, 153, 51, 1.0)\",\"width\":1}},\"name\":\"None\",\"orientation\":\"v\",\"text\":\"\",\"type\":\"bar\",\"x\":[\"A\",\"B\",\"C\",\"D\"],\"y\":[-5.6940111633142045,-10.403027849671869,-10.266971043441558,9.526175454076064]}],                        {\"legend\":{\"bgcolor\":\"#F5F6F9\",\"font\":{\"color\":\"#4D5663\"}},\"paper_bgcolor\":\"#F5F6F9\",\"plot_bgcolor\":\"#F5F6F9\",\"template\":{\"data\":{\"bar\":[{\"error_x\":{\"color\":\"#2a3f5f\"},\"error_y\":{\"color\":\"#2a3f5f\"},\"marker\":{\"line\":{\"color\":\"#E5ECF6\",\"width\":0.5},\"pattern\":{\"fillmode\":\"overlay\",\"size\":10,\"solidity\":0.2}},\"type\":\"bar\"}],\"barpolar\":[{\"marker\":{\"line\":{\"color\":\"#E5ECF6\",\"width\":0.5},\"pattern\":{\"fillmode\":\"overlay\",\"size\":10,\"solidity\":0.2}},\"type\":\"barpolar\"}],\"carpet\":[{\"aaxis\":{\"endlinecolor\":\"#2a3f5f\",\"gridcolor\":\"white\",\"linecolor\":\"white\",\"minorgridcolor\":\"white\",\"startlinecolor\":\"#2a3f5f\"},\"baxis\":{\"endlinecolor\":\"#2a3f5f\",\"gridcolor\":\"white\",\"linecolor\":\"white\",\"minorgridcolor\":\"white\",\"startlinecolor\":\"#2a3f5f\"},\"type\":\"carpet\"}],\"choropleth\":[{\"colorbar\":{\"outlinewidth\":0,\"ticks\":\"\"},\"type\":\"choropleth\"}],\"contour\":[{\"colorbar\":{\"outlinewidth\":0,\"ticks\":\"\"},\"colorscale\":[[0.0,\"#0d0887\"],[0.1111111111111111,\"#46039f\"],[0.2222222222222222,\"#7201a8\"],[0.3333333333333333,\"#9c179e\"],[0.4444444444444444,\"#bd3786\"],[0.5555555555555556,\"#d8576b\"],[0.6666666666666666,\"#ed7953\"],[0.7777777777777778,\"#fb9f3a\"],[0.8888888888888888,\"#fdca26\"],[1.0,\"#f0f921\"]],\"type\":\"contour\"}],\"contourcarpet\":[{\"colorbar\":{\"outlinewidth\":0,\"ticks\":\"\"},\"type\":\"contourcarpet\"}],\"heatmap\":[{\"colorbar\":{\"outlinewidth\":0,\"ticks\":\"\"},\"colorscale\":[[0.0,\"#0d0887\"],[0.1111111111111111,\"#46039f\"],[0.2222222222222222,\"#7201a8\"],[0.3333333333333333,\"#9c179e\"],[0.4444444444444444,\"#bd3786\"],[0.5555555555555556,\"#d8576b\"],[0.6666666666666666,\"#ed7953\"],[0.7777777777777778,\"#fb9f3a\"],[0.8888888888888888,\"#fdca26\"],[1.0,\"#f0f921\"]],\"type\":\"heatmap\"}],\"heatmapgl\":[{\"colorbar\":{\"outlinewidth\":0,\"ticks\":\"\"},\"colorscale\":[[0.0,\"#0d0887\"],[0.1111111111111111,\"#46039f\"],[0.2222222222222222,\"#7201a8\"],[0.3333333333333333,\"#9c179e\"],[0.4444444444444444,\"#bd3786\"],[0.5555555555555556,\"#d8576b\"],[0.6666666666666666,\"#ed7953\"],[0.7777777777777778,\"#fb9f3a\"],[0.8888888888888888,\"#fdca26\"],[1.0,\"#f0f921\"]],\"type\":\"heatmapgl\"}],\"histogram\":[{\"marker\":{\"pattern\":{\"fillmode\":\"overlay\",\"size\":10,\"solidity\":0.2}},\"type\":\"histogram\"}],\"histogram2d\":[{\"colorbar\":{\"outlinewidth\":0,\"ticks\":\"\"},\"colorscale\":[[0.0,\"#0d0887\"],[0.1111111111111111,\"#46039f\"],[0.2222222222222222,\"#7201a8\"],[0.3333333333333333,\"#9c179e\"],[0.4444444444444444,\"#bd3786\"],[0.5555555555555556,\"#d8576b\"],[0.6666666666666666,\"#ed7953\"],[0.7777777777777778,\"#fb9f3a\"],[0.8888888888888888,\"#fdca26\"],[1.0,\"#f0f921\"]],\"type\":\"histogram2d\"}],\"histogram2dcontour\":[{\"colorbar\":{\"outlinewidth\":0,\"ticks\":\"\"},\"colorscale\":[[0.0,\"#0d0887\"],[0.1111111111111111,\"#46039f\"],[0.2222222222222222,\"#7201a8\"],[0.3333333333333333,\"#9c179e\"],[0.4444444444444444,\"#bd3786\"],[0.5555555555555556,\"#d8576b\"],[0.6666666666666666,\"#ed7953\"],[0.7777777777777778,\"#fb9f3a\"],[0.8888888888888888,\"#fdca26\"],[1.0,\"#f0f921\"]],\"type\":\"histogram2dcontour\"}],\"mesh3d\":[{\"colorbar\":{\"outlinewidth\":0,\"ticks\":\"\"},\"type\":\"mesh3d\"}],\"parcoords\":[{\"line\":{\"colorbar\":{\"outlinewidth\":0,\"ticks\":\"\"}},\"type\":\"parcoords\"}],\"pie\":[{\"automargin\":true,\"type\":\"pie\"}],\"scatter\":[{\"marker\":{\"colorbar\":{\"outlinewidth\":0,\"ticks\":\"\"}},\"type\":\"scatter\"}],\"scatter3d\":[{\"line\":{\"colorbar\":{\"outlinewidth\":0,\"ticks\":\"\"}},\"marker\":{\"colorbar\":{\"outlinewidth\":0,\"ticks\":\"\"}},\"type\":\"scatter3d\"}],\"scattercarpet\":[{\"marker\":{\"colorbar\":{\"outlinewidth\":0,\"ticks\":\"\"}},\"type\":\"scattercarpet\"}],\"scattergeo\":[{\"marker\":{\"colorbar\":{\"outlinewidth\":0,\"ticks\":\"\"}},\"type\":\"scattergeo\"}],\"scattergl\":[{\"marker\":{\"colorbar\":{\"outlinewidth\":0,\"ticks\":\"\"}},\"type\":\"scattergl\"}],\"scattermapbox\":[{\"marker\":{\"colorbar\":{\"outlinewidth\":0,\"ticks\":\"\"}},\"type\":\"scattermapbox\"}],\"scatterpolar\":[{\"marker\":{\"colorbar\":{\"outlinewidth\":0,\"ticks\":\"\"}},\"type\":\"scatterpolar\"}],\"scatterpolargl\":[{\"marker\":{\"colorbar\":{\"outlinewidth\":0,\"ticks\":\"\"}},\"type\":\"scatterpolargl\"}],\"scatterternary\":[{\"marker\":{\"colorbar\":{\"outlinewidth\":0,\"ticks\":\"\"}},\"type\":\"scatterternary\"}],\"surface\":[{\"colorbar\":{\"outlinewidth\":0,\"ticks\":\"\"},\"colorscale\":[[0.0,\"#0d0887\"],[0.1111111111111111,\"#46039f\"],[0.2222222222222222,\"#7201a8\"],[0.3333333333333333,\"#9c179e\"],[0.4444444444444444,\"#bd3786\"],[0.5555555555555556,\"#d8576b\"],[0.6666666666666666,\"#ed7953\"],[0.7777777777777778,\"#fb9f3a\"],[0.8888888888888888,\"#fdca26\"],[1.0,\"#f0f921\"]],\"type\":\"surface\"}],\"table\":[{\"cells\":{\"fill\":{\"color\":\"#EBF0F8\"},\"line\":{\"color\":\"white\"}},\"header\":{\"fill\":{\"color\":\"#C8D4E3\"},\"line\":{\"color\":\"white\"}},\"type\":\"table\"}]},\"layout\":{\"annotationdefaults\":{\"arrowcolor\":\"#2a3f5f\",\"arrowhead\":0,\"arrowwidth\":1},\"autotypenumbers\":\"strict\",\"coloraxis\":{\"colorbar\":{\"outlinewidth\":0,\"ticks\":\"\"}},\"colorscale\":{\"diverging\":[[0,\"#8e0152\"],[0.1,\"#c51b7d\"],[0.2,\"#de77ae\"],[0.3,\"#f1b6da\"],[0.4,\"#fde0ef\"],[0.5,\"#f7f7f7\"],[0.6,\"#e6f5d0\"],[0.7,\"#b8e186\"],[0.8,\"#7fbc41\"],[0.9,\"#4d9221\"],[1,\"#276419\"]],\"sequential\":[[0.0,\"#0d0887\"],[0.1111111111111111,\"#46039f\"],[0.2222222222222222,\"#7201a8\"],[0.3333333333333333,\"#9c179e\"],[0.4444444444444444,\"#bd3786\"],[0.5555555555555556,\"#d8576b\"],[0.6666666666666666,\"#ed7953\"],[0.7777777777777778,\"#fb9f3a\"],[0.8888888888888888,\"#fdca26\"],[1.0,\"#f0f921\"]],\"sequentialminus\":[[0.0,\"#0d0887\"],[0.1111111111111111,\"#46039f\"],[0.2222222222222222,\"#7201a8\"],[0.3333333333333333,\"#9c179e\"],[0.4444444444444444,\"#bd3786\"],[0.5555555555555556,\"#d8576b\"],[0.6666666666666666,\"#ed7953\"],[0.7777777777777778,\"#fb9f3a\"],[0.8888888888888888,\"#fdca26\"],[1.0,\"#f0f921\"]]},\"colorway\":[\"#636efa\",\"#EF553B\",\"#00cc96\",\"#ab63fa\",\"#FFA15A\",\"#19d3f3\",\"#FF6692\",\"#B6E880\",\"#FF97FF\",\"#FECB52\"],\"font\":{\"color\":\"#2a3f5f\"},\"geo\":{\"bgcolor\":\"white\",\"lakecolor\":\"white\",\"landcolor\":\"#E5ECF6\",\"showlakes\":true,\"showland\":true,\"subunitcolor\":\"white\"},\"hoverlabel\":{\"align\":\"left\"},\"hovermode\":\"closest\",\"mapbox\":{\"style\":\"light\"},\"paper_bgcolor\":\"white\",\"plot_bgcolor\":\"#E5ECF6\",\"polar\":{\"angularaxis\":{\"gridcolor\":\"white\",\"linecolor\":\"white\",\"ticks\":\"\"},\"bgcolor\":\"#E5ECF6\",\"radialaxis\":{\"gridcolor\":\"white\",\"linecolor\":\"white\",\"ticks\":\"\"}},\"scene\":{\"xaxis\":{\"backgroundcolor\":\"#E5ECF6\",\"gridcolor\":\"white\",\"gridwidth\":2,\"linecolor\":\"white\",\"showbackground\":true,\"ticks\":\"\",\"zerolinecolor\":\"white\"},\"yaxis\":{\"backgroundcolor\":\"#E5ECF6\",\"gridcolor\":\"white\",\"gridwidth\":2,\"linecolor\":\"white\",\"showbackground\":true,\"ticks\":\"\",\"zerolinecolor\":\"white\"},\"zaxis\":{\"backgroundcolor\":\"#E5ECF6\",\"gridcolor\":\"white\",\"gridwidth\":2,\"linecolor\":\"white\",\"showbackground\":true,\"ticks\":\"\",\"zerolinecolor\":\"white\"}},\"shapedefaults\":{\"line\":{\"color\":\"#2a3f5f\"}},\"ternary\":{\"aaxis\":{\"gridcolor\":\"white\",\"linecolor\":\"white\",\"ticks\":\"\"},\"baxis\":{\"gridcolor\":\"white\",\"linecolor\":\"white\",\"ticks\":\"\"},\"bgcolor\":\"#E5ECF6\",\"caxis\":{\"gridcolor\":\"white\",\"linecolor\":\"white\",\"ticks\":\"\"}},\"title\":{\"x\":0.05},\"xaxis\":{\"automargin\":true,\"gridcolor\":\"white\",\"linecolor\":\"white\",\"ticks\":\"\",\"title\":{\"standoff\":15},\"zerolinecolor\":\"white\",\"zerolinewidth\":2},\"yaxis\":{\"automargin\":true,\"gridcolor\":\"white\",\"linecolor\":\"white\",\"ticks\":\"\",\"title\":{\"standoff\":15},\"zerolinecolor\":\"white\",\"zerolinewidth\":2}}},\"title\":{\"font\":{\"color\":\"#4D5663\"}},\"xaxis\":{\"gridcolor\":\"#E1E5ED\",\"showgrid\":true,\"tickfont\":{\"color\":\"#4D5663\"},\"title\":{\"font\":{\"color\":\"#4D5663\"},\"text\":\"\"},\"zerolinecolor\":\"#E1E5ED\"},\"yaxis\":{\"gridcolor\":\"#E1E5ED\",\"showgrid\":true,\"tickfont\":{\"color\":\"#4D5663\"},\"title\":{\"font\":{\"color\":\"#4D5663\"},\"text\":\"\"},\"zerolinecolor\":\"#E1E5ED\"}},                        {\"showLink\": true, \"linkText\": \"Export to plot.ly\", \"plotlyServerURL\": \"https://plot.ly\", \"responsive\": true}                    ).then(function(){\n",
       "                            \n",
       "var gd = document.getElementById('60d7557a-d04d-47f0-91da-cd2525765171');\n",
       "var x = new MutationObserver(function (mutations, observer) {{\n",
       "        var display = window.getComputedStyle(gd).display;\n",
       "        if (!display || display === 'none') {{\n",
       "            console.log([gd, 'removed!']);\n",
       "            Plotly.purge(gd);\n",
       "            observer.disconnect();\n",
       "        }}\n",
       "}});\n",
       "\n",
       "// Listen for the removal of the full notebook cells\n",
       "var notebookContainer = gd.closest('#notebook-container');\n",
       "if (notebookContainer) {{\n",
       "    x.observe(notebookContainer, {childList: true});\n",
       "}}\n",
       "\n",
       "// Listen for the clearing of the current output cell\n",
       "var outputEl = gd.closest('.output');\n",
       "if (outputEl) {{\n",
       "    x.observe(outputEl, {childList: true});\n",
       "}}\n",
       "\n",
       "                        })                };                });            </script>        </div>"
      ]
     },
     "metadata": {},
     "output_type": "display_data"
    }
   ],
   "source": [
    "df.sum().iplot(kind='bar')"
   ]
  },
  {
   "cell_type": "markdown",
   "metadata": {},
   "source": [
    "## Boxplots"
   ]
  },
  {
   "cell_type": "code",
   "execution_count": 28,
   "metadata": {},
   "outputs": [
    {
     "data": {
      "application/vnd.plotly.v1+json": {
       "config": {
        "linkText": "Export to plot.ly",
        "plotlyServerURL": "https://plot.ly",
        "showLink": true
       },
       "data": [
        {
         "boxpoints": false,
         "line": {
          "width": 1.3
         },
         "marker": {
          "color": "rgba(255, 153, 51, 1.0)"
         },
         "name": "A",
         "orientation": "v",
         "type": "box",
         "y": [
          -1.252614793086047,
          -0.05970334235749016,
          1.1861410783422972,
          -0.08761128715742864,
          0.07950640464429827,
          1.2280562668624604,
          -1.3278069263914265,
          -1.363119785987805,
          -1.1386232623492012,
          -0.8393437156317276,
          -0.4541080744300972,
          2.0343495796888282,
          -3.09049460215665,
          0.16073727481802083,
          -0.4197095473149091,
          -0.2387478469942015,
          -0.059737805366917265,
          0.637232411048166,
          -0.16098446078613787,
          -0.39044693665236124,
          -0.18335785148903647,
          -1.4665474154877824,
          -0.9467091070463365,
          -1.363086400891611,
          1.1419161233127382,
          -0.8990356765986693,
          -0.47877126318615904,
          -0.08723595655352805,
          0.28836519048925785,
          0.4535211994873111,
          0.6072750672172921,
          0.7920328635238127,
          0.9210688520723921,
          0.8431813681496602,
          0.14682019235661373,
          -1.1829671348247588,
          -1.0438065432704076,
          1.4143243674487795,
          0.709957119062226,
          -0.6850164620237267,
          -1.0010708187907489,
          -0.34860627566652763,
          1.9900831507298398,
          0.18725017639146913,
          -0.6255124774152,
          -1.6017317227276038,
          0.885042918633726,
          0.7428077103813263,
          -0.8924785069045459,
          -1.3308889418400802,
          3.003745396974862,
          0.3371032077767076,
          0.46679193086201903,
          0.36616511575153876,
          -0.416335845412642,
          1.5194644015341876,
          0.5211470076410264,
          -1.5036153475796188,
          -0.26626662937057033,
          0.6978691732337882,
          -0.09511084342263629,
          0.30075260301102774,
          0.03197028510486337,
          1.4282640809936629,
          0.33128440588935226,
          0.8760426680096519,
          -0.04282550929148523,
          -1.4869944424905852,
          1.1016632292962907,
          -1.432616353521275,
          1.5575716683045684,
          -0.3201993175852064,
          0.3085393750442976,
          -1.6767132815810286,
          -0.43613840129391807,
          0.5444947534040682,
          -0.9564608279120181,
          -1.2149259364052323,
          0.2619339163954011,
          1.1510318594062585,
          -1.4935781096730616,
          -1.5364588271684487,
          -0.2014536368998715,
          1.0317682182611458,
          -1.2008107718275032,
          0.6417163449601327,
          2.0525571724871856,
          0.4544224835172775,
          0.8604257046342394,
          0.024338875911690164,
          0.4034582647556379,
          -0.31260916146689444,
          0.020281310347106393,
          -0.29632252607525494,
          -0.3145363114608712,
          -0.5558389308669797,
          -0.08374887468313946,
          -0.1925649721641307,
          -0.37837314814356626,
          -1.004110983807644
         ]
        },
        {
         "boxpoints": false,
         "line": {
          "width": 1.3
         },
         "marker": {
          "color": "rgba(55, 128, 191, 1.0)"
         },
         "name": "B",
         "orientation": "v",
         "type": "box",
         "y": [
          1.429907173744965,
          -0.3362692153993021,
          -0.22403939638327913,
          -0.1062523944097891,
          0.2474881419869791,
          -2.951570498412787,
          -1.3150465437708856,
          -0.09564344114602419,
          0.7924691287634381,
          -0.11059481319784327,
          -0.9574735207257397,
          -2.7741406899349563,
          -1.0816982566045203,
          -0.7050395721831006,
          -0.030415434382019057,
          -0.4233816135656058,
          1.13409136177349,
          -0.40242588625630915,
          -0.294198850624815,
          -0.10088674274843744,
          1.0390784149843242,
          0.5165220382316772,
          1.0292362169286038,
          -0.9443881069654166,
          -0.03415047970036683,
          -1.302863193040769,
          -1.8739862933198712,
          -0.14083809321526172,
          -1.027560506025851,
          -0.19154403604307874,
          1.188705505404244,
          0.8103271790333249,
          0.27403939984770914,
          -0.7969627075630051,
          1.1289182632483334,
          -1.6358823872587878,
          -0.6503428428357034,
          -0.6587248753403122,
          -0.8986836433415368,
          -1.2910519644339522,
          0.37456483954536046,
          -2.3331353592693427,
          -1.353315814768125,
          -1.6109918954270386,
          2.574398806434323,
          -0.7419382066961051,
          1.0111811133768143,
          0.8627681851633381,
          1.0684844064238004,
          0.9584140081934572,
          -1.2724226953088429,
          0.5623348949596787,
          0.21278803036445387,
          0.6362092764330177,
          -1.1507486672395217,
          0.480023659069112,
          -1.3364127200675031,
          0.8452624019906536,
          0.2509777094027647,
          0.20317230448967902,
          -2.5580200049648996,
          0.47164544114003987,
          0.13608375887967908,
          -1.3413832491890092,
          1.0794295284681177,
          0.03791755550436143,
          2.1927622697418774,
          1.7239478391164735,
          -0.8441975536242636,
          -0.555562737221605,
          0.8962983600870705,
          1.7163996644440285,
          0.3861053154127059,
          -0.5053146823691147,
          0.6629732990578995,
          1.7291436937887452,
          -0.19791142080973972,
          -0.17758994884436066,
          0.3835728374808757,
          0.1206356970118862,
          -0.5839764747918563,
          0.6562070488071372,
          0.79818803972454,
          -1.317059527577753,
          -0.36660244714059637,
          -0.07092316904929655,
          -1.9885058041209265,
          0.36046441628701004,
          -0.3787904255840291,
          0.40687581684755036,
          -0.9740597784537262,
          -0.5963017374604368,
          1.292358219538622,
          -0.678637329096281,
          -0.11217221669830485,
          -0.556064599371359,
          -1.2917102576840802,
          0.1961856894863246,
          1.8320554131446811,
          1.1361645082224023
         ]
        },
        {
         "boxpoints": false,
         "line": {
          "width": 1.3
         },
         "marker": {
          "color": "rgba(50, 171, 96, 1.0)"
         },
         "name": "C",
         "orientation": "v",
         "type": "box",
         "y": [
          1.497365056261028,
          -1.3652639392192893,
          -0.4633848596042667,
          -0.6554155737090046,
          -0.873403949723717,
          0.05599352265517801,
          -0.34473828248271027,
          -0.41319903909836236,
          -2.044032644851402,
          -0.3987393454406875,
          1.1597178016054088,
          -1.502703163866186,
          0.23826714360142273,
          -1.5741392475854807,
          0.7816858134640635,
          -2.142846708586097,
          -1.1859370206584845,
          0.33445280073709727,
          -0.7667894723828541,
          1.2527282906266344,
          -0.19539795589395198,
          0.7326304554079953,
          0.04444226457106558,
          -1.556251136029763,
          -0.27447090560656606,
          0.039518802829135904,
          -0.02416001405173457,
          -0.5242725573805086,
          -0.8428442369549263,
          -0.9811777369886999,
          -0.3350095463442984,
          0.990050751506994,
          0.017554043186999775,
          0.2783947893725052,
          -0.06539150267349131,
          0.5611531072387262,
          -0.5433755998816096,
          0.2877606032303694,
          -0.39623450285943856,
          0.4281403826859208,
          0.12491994104865614,
          -0.8686705362189602,
          -1.0093119510785222,
          -1.7450992786587147,
          1.2677715076129603,
          1.1909806049583975,
          0.27740851207658335,
          0.6833561525713735,
          0.4283470277056508,
          0.7913812387268874,
          -0.5557615424139913,
          -0.21904396042115679,
          0.08964190646166481,
          0.021193571224057968,
          0.6050834546942213,
          -1.1619352848327547,
          1.0143367637627896,
          0.6639951131808542,
          1.018881240687566,
          0.9919337469405568,
          -1.3286952823498934,
          0.0887076694256689,
          0.8409303174685794,
          0.04430809594242096,
          -1.1306458993693478,
          2.0736318396393814,
          -0.14677037462178721,
          -1.3931223572680242,
          -2.0547424091586253,
          0.6128352101220416,
          -1.3654986018914061,
          -0.4736373234472714,
          1.5474841315174899,
          1.4023528581155102,
          0.2671475960322153,
          1.2783022300586027,
          -1.5729061331608103,
          -1.263124573100888,
          -0.6798291541866253,
          -0.07536756430411999,
          0.3387490431114079,
          1.7316981530795819,
          -0.09149845946313058,
          0.8606384957577545,
          -0.04059028826209647,
          -0.13740954203864353,
          -0.617304623092329,
          2.0731238475848937,
          -0.820298203736963,
          -0.26698591194207655,
          0.7321591287947562,
          -0.821972232165776,
          -0.6262152567039138,
          -0.08896112446005197,
          -2.5427473812318784,
          0.1546583782646699,
          -0.28721326963380284,
          0.8187876780277029,
          -0.4270266101320868,
          0.27999194420218215
         ]
        },
        {
         "boxpoints": false,
         "line": {
          "width": 1.3
         },
         "marker": {
          "color": "rgba(128, 0, 128, 1.0)"
         },
         "name": "D",
         "orientation": "v",
         "type": "box",
         "y": [
          -0.7607516732532427,
          -1.254568488051787,
          -0.8788828748036107,
          -0.13665063756100818,
          0.07474348764667796,
          -0.3100043705116922,
          -2.0463341136143995,
          0.640808766840854,
          1.224538129726818,
          1.0886660890880229,
          0.4049848114617264,
          0.7485515644819034,
          -0.46248600223967307,
          0.9533718049057213,
          -0.3695657385477109,
          0.8832340804185418,
          0.9052960323805491,
          -0.3853489432776442,
          1.3159244798509053,
          -0.028767564722662828,
          0.06379612112194598,
          -0.5699264163729659,
          0.32702586302219483,
          0.08779247487238971,
          1.2860732684779363,
          2.0938721257990114,
          0.10641036516130699,
          -0.43614763748954455,
          -0.15454712915480173,
          1.6917422947637824,
          2.069900076611023,
          0.2728381375704959,
          0.8982963476299403,
          1.1626845775151418,
          -1.8514944212075175,
          0.5097088665460885,
          0.301289072860881,
          -0.9215289721219797,
          0.5195919347510675,
          0.6283349774206288,
          0.14180613856997362,
          -0.6596331767430526,
          -0.43804908361382316,
          -1.161466129764636,
          -0.3773059718348686,
          -2.140572355581783,
          -0.19500741390398052,
          -0.5863195712554702,
          0.9506076263372776,
          0.05794084130328615,
          1.114608481540598,
          1.0598559581825697,
          -1.5876844271788813,
          -0.14739138729617407,
          -0.580431636041587,
          -0.33284940498071774,
          1.0629167254062288,
          0.38472616162999584,
          -0.9184640525607392,
          0.8882962211984797,
          -1.014539375075398,
          0.37548732970143817,
          0.5803058105441924,
          0.4429555473857757,
          -1.2144704173369645,
          0.13144813153609372,
          -0.8080736698792067,
          0.8897350266785666,
          1.1618872824269493,
          -0.38335647093100017,
          -0.2727693174039654,
          -0.25018635867093286,
          1.1484717709362309,
          0.49378345946541696,
          1.101291396885938,
          -0.49177164389114286,
          -1.6401018997496926,
          1.277848986380219,
          0.12810121345704542,
          -0.9889079946366958,
          -0.5251123223013637,
          1.1599073316060275,
          0.5708057586905046,
          -0.35367070891227775,
          0.8950168639617084,
          -0.9437864888126327,
          -0.46412027474338197,
          -1.5511026925124407,
          -0.2761019732505129,
          0.15029292622478768,
          1.4277411536710876,
          2.4147463451354967,
          -0.08801777586421945,
          -0.6338679739225697,
          -0.14945606892838023,
          0.6667328009341639,
          -0.3684321797614924,
          -0.9142366078263781,
          -0.4271860199935734,
          2.0408302414506343
         ]
        }
       ],
       "layout": {
        "legend": {
         "bgcolor": "#F5F6F9",
         "font": {
          "color": "#4D5663"
         }
        },
        "paper_bgcolor": "#F5F6F9",
        "plot_bgcolor": "#F5F6F9",
        "template": {
         "data": {
          "bar": [
           {
            "error_x": {
             "color": "#2a3f5f"
            },
            "error_y": {
             "color": "#2a3f5f"
            },
            "marker": {
             "line": {
              "color": "#E5ECF6",
              "width": 0.5
             },
             "pattern": {
              "fillmode": "overlay",
              "size": 10,
              "solidity": 0.2
             }
            },
            "type": "bar"
           }
          ],
          "barpolar": [
           {
            "marker": {
             "line": {
              "color": "#E5ECF6",
              "width": 0.5
             },
             "pattern": {
              "fillmode": "overlay",
              "size": 10,
              "solidity": 0.2
             }
            },
            "type": "barpolar"
           }
          ],
          "carpet": [
           {
            "aaxis": {
             "endlinecolor": "#2a3f5f",
             "gridcolor": "white",
             "linecolor": "white",
             "minorgridcolor": "white",
             "startlinecolor": "#2a3f5f"
            },
            "baxis": {
             "endlinecolor": "#2a3f5f",
             "gridcolor": "white",
             "linecolor": "white",
             "minorgridcolor": "white",
             "startlinecolor": "#2a3f5f"
            },
            "type": "carpet"
           }
          ],
          "choropleth": [
           {
            "colorbar": {
             "outlinewidth": 0,
             "ticks": ""
            },
            "type": "choropleth"
           }
          ],
          "contour": [
           {
            "colorbar": {
             "outlinewidth": 0,
             "ticks": ""
            },
            "colorscale": [
             [
              0,
              "#0d0887"
             ],
             [
              0.1111111111111111,
              "#46039f"
             ],
             [
              0.2222222222222222,
              "#7201a8"
             ],
             [
              0.3333333333333333,
              "#9c179e"
             ],
             [
              0.4444444444444444,
              "#bd3786"
             ],
             [
              0.5555555555555556,
              "#d8576b"
             ],
             [
              0.6666666666666666,
              "#ed7953"
             ],
             [
              0.7777777777777778,
              "#fb9f3a"
             ],
             [
              0.8888888888888888,
              "#fdca26"
             ],
             [
              1,
              "#f0f921"
             ]
            ],
            "type": "contour"
           }
          ],
          "contourcarpet": [
           {
            "colorbar": {
             "outlinewidth": 0,
             "ticks": ""
            },
            "type": "contourcarpet"
           }
          ],
          "heatmap": [
           {
            "colorbar": {
             "outlinewidth": 0,
             "ticks": ""
            },
            "colorscale": [
             [
              0,
              "#0d0887"
             ],
             [
              0.1111111111111111,
              "#46039f"
             ],
             [
              0.2222222222222222,
              "#7201a8"
             ],
             [
              0.3333333333333333,
              "#9c179e"
             ],
             [
              0.4444444444444444,
              "#bd3786"
             ],
             [
              0.5555555555555556,
              "#d8576b"
             ],
             [
              0.6666666666666666,
              "#ed7953"
             ],
             [
              0.7777777777777778,
              "#fb9f3a"
             ],
             [
              0.8888888888888888,
              "#fdca26"
             ],
             [
              1,
              "#f0f921"
             ]
            ],
            "type": "heatmap"
           }
          ],
          "heatmapgl": [
           {
            "colorbar": {
             "outlinewidth": 0,
             "ticks": ""
            },
            "colorscale": [
             [
              0,
              "#0d0887"
             ],
             [
              0.1111111111111111,
              "#46039f"
             ],
             [
              0.2222222222222222,
              "#7201a8"
             ],
             [
              0.3333333333333333,
              "#9c179e"
             ],
             [
              0.4444444444444444,
              "#bd3786"
             ],
             [
              0.5555555555555556,
              "#d8576b"
             ],
             [
              0.6666666666666666,
              "#ed7953"
             ],
             [
              0.7777777777777778,
              "#fb9f3a"
             ],
             [
              0.8888888888888888,
              "#fdca26"
             ],
             [
              1,
              "#f0f921"
             ]
            ],
            "type": "heatmapgl"
           }
          ],
          "histogram": [
           {
            "marker": {
             "pattern": {
              "fillmode": "overlay",
              "size": 10,
              "solidity": 0.2
             }
            },
            "type": "histogram"
           }
          ],
          "histogram2d": [
           {
            "colorbar": {
             "outlinewidth": 0,
             "ticks": ""
            },
            "colorscale": [
             [
              0,
              "#0d0887"
             ],
             [
              0.1111111111111111,
              "#46039f"
             ],
             [
              0.2222222222222222,
              "#7201a8"
             ],
             [
              0.3333333333333333,
              "#9c179e"
             ],
             [
              0.4444444444444444,
              "#bd3786"
             ],
             [
              0.5555555555555556,
              "#d8576b"
             ],
             [
              0.6666666666666666,
              "#ed7953"
             ],
             [
              0.7777777777777778,
              "#fb9f3a"
             ],
             [
              0.8888888888888888,
              "#fdca26"
             ],
             [
              1,
              "#f0f921"
             ]
            ],
            "type": "histogram2d"
           }
          ],
          "histogram2dcontour": [
           {
            "colorbar": {
             "outlinewidth": 0,
             "ticks": ""
            },
            "colorscale": [
             [
              0,
              "#0d0887"
             ],
             [
              0.1111111111111111,
              "#46039f"
             ],
             [
              0.2222222222222222,
              "#7201a8"
             ],
             [
              0.3333333333333333,
              "#9c179e"
             ],
             [
              0.4444444444444444,
              "#bd3786"
             ],
             [
              0.5555555555555556,
              "#d8576b"
             ],
             [
              0.6666666666666666,
              "#ed7953"
             ],
             [
              0.7777777777777778,
              "#fb9f3a"
             ],
             [
              0.8888888888888888,
              "#fdca26"
             ],
             [
              1,
              "#f0f921"
             ]
            ],
            "type": "histogram2dcontour"
           }
          ],
          "mesh3d": [
           {
            "colorbar": {
             "outlinewidth": 0,
             "ticks": ""
            },
            "type": "mesh3d"
           }
          ],
          "parcoords": [
           {
            "line": {
             "colorbar": {
              "outlinewidth": 0,
              "ticks": ""
             }
            },
            "type": "parcoords"
           }
          ],
          "pie": [
           {
            "automargin": true,
            "type": "pie"
           }
          ],
          "scatter": [
           {
            "marker": {
             "colorbar": {
              "outlinewidth": 0,
              "ticks": ""
             }
            },
            "type": "scatter"
           }
          ],
          "scatter3d": [
           {
            "line": {
             "colorbar": {
              "outlinewidth": 0,
              "ticks": ""
             }
            },
            "marker": {
             "colorbar": {
              "outlinewidth": 0,
              "ticks": ""
             }
            },
            "type": "scatter3d"
           }
          ],
          "scattercarpet": [
           {
            "marker": {
             "colorbar": {
              "outlinewidth": 0,
              "ticks": ""
             }
            },
            "type": "scattercarpet"
           }
          ],
          "scattergeo": [
           {
            "marker": {
             "colorbar": {
              "outlinewidth": 0,
              "ticks": ""
             }
            },
            "type": "scattergeo"
           }
          ],
          "scattergl": [
           {
            "marker": {
             "colorbar": {
              "outlinewidth": 0,
              "ticks": ""
             }
            },
            "type": "scattergl"
           }
          ],
          "scattermapbox": [
           {
            "marker": {
             "colorbar": {
              "outlinewidth": 0,
              "ticks": ""
             }
            },
            "type": "scattermapbox"
           }
          ],
          "scatterpolar": [
           {
            "marker": {
             "colorbar": {
              "outlinewidth": 0,
              "ticks": ""
             }
            },
            "type": "scatterpolar"
           }
          ],
          "scatterpolargl": [
           {
            "marker": {
             "colorbar": {
              "outlinewidth": 0,
              "ticks": ""
             }
            },
            "type": "scatterpolargl"
           }
          ],
          "scatterternary": [
           {
            "marker": {
             "colorbar": {
              "outlinewidth": 0,
              "ticks": ""
             }
            },
            "type": "scatterternary"
           }
          ],
          "surface": [
           {
            "colorbar": {
             "outlinewidth": 0,
             "ticks": ""
            },
            "colorscale": [
             [
              0,
              "#0d0887"
             ],
             [
              0.1111111111111111,
              "#46039f"
             ],
             [
              0.2222222222222222,
              "#7201a8"
             ],
             [
              0.3333333333333333,
              "#9c179e"
             ],
             [
              0.4444444444444444,
              "#bd3786"
             ],
             [
              0.5555555555555556,
              "#d8576b"
             ],
             [
              0.6666666666666666,
              "#ed7953"
             ],
             [
              0.7777777777777778,
              "#fb9f3a"
             ],
             [
              0.8888888888888888,
              "#fdca26"
             ],
             [
              1,
              "#f0f921"
             ]
            ],
            "type": "surface"
           }
          ],
          "table": [
           {
            "cells": {
             "fill": {
              "color": "#EBF0F8"
             },
             "line": {
              "color": "white"
             }
            },
            "header": {
             "fill": {
              "color": "#C8D4E3"
             },
             "line": {
              "color": "white"
             }
            },
            "type": "table"
           }
          ]
         },
         "layout": {
          "annotationdefaults": {
           "arrowcolor": "#2a3f5f",
           "arrowhead": 0,
           "arrowwidth": 1
          },
          "autotypenumbers": "strict",
          "coloraxis": {
           "colorbar": {
            "outlinewidth": 0,
            "ticks": ""
           }
          },
          "colorscale": {
           "diverging": [
            [
             0,
             "#8e0152"
            ],
            [
             0.1,
             "#c51b7d"
            ],
            [
             0.2,
             "#de77ae"
            ],
            [
             0.3,
             "#f1b6da"
            ],
            [
             0.4,
             "#fde0ef"
            ],
            [
             0.5,
             "#f7f7f7"
            ],
            [
             0.6,
             "#e6f5d0"
            ],
            [
             0.7,
             "#b8e186"
            ],
            [
             0.8,
             "#7fbc41"
            ],
            [
             0.9,
             "#4d9221"
            ],
            [
             1,
             "#276419"
            ]
           ],
           "sequential": [
            [
             0,
             "#0d0887"
            ],
            [
             0.1111111111111111,
             "#46039f"
            ],
            [
             0.2222222222222222,
             "#7201a8"
            ],
            [
             0.3333333333333333,
             "#9c179e"
            ],
            [
             0.4444444444444444,
             "#bd3786"
            ],
            [
             0.5555555555555556,
             "#d8576b"
            ],
            [
             0.6666666666666666,
             "#ed7953"
            ],
            [
             0.7777777777777778,
             "#fb9f3a"
            ],
            [
             0.8888888888888888,
             "#fdca26"
            ],
            [
             1,
             "#f0f921"
            ]
           ],
           "sequentialminus": [
            [
             0,
             "#0d0887"
            ],
            [
             0.1111111111111111,
             "#46039f"
            ],
            [
             0.2222222222222222,
             "#7201a8"
            ],
            [
             0.3333333333333333,
             "#9c179e"
            ],
            [
             0.4444444444444444,
             "#bd3786"
            ],
            [
             0.5555555555555556,
             "#d8576b"
            ],
            [
             0.6666666666666666,
             "#ed7953"
            ],
            [
             0.7777777777777778,
             "#fb9f3a"
            ],
            [
             0.8888888888888888,
             "#fdca26"
            ],
            [
             1,
             "#f0f921"
            ]
           ]
          },
          "colorway": [
           "#636efa",
           "#EF553B",
           "#00cc96",
           "#ab63fa",
           "#FFA15A",
           "#19d3f3",
           "#FF6692",
           "#B6E880",
           "#FF97FF",
           "#FECB52"
          ],
          "font": {
           "color": "#2a3f5f"
          },
          "geo": {
           "bgcolor": "white",
           "lakecolor": "white",
           "landcolor": "#E5ECF6",
           "showlakes": true,
           "showland": true,
           "subunitcolor": "white"
          },
          "hoverlabel": {
           "align": "left"
          },
          "hovermode": "closest",
          "mapbox": {
           "style": "light"
          },
          "paper_bgcolor": "white",
          "plot_bgcolor": "#E5ECF6",
          "polar": {
           "angularaxis": {
            "gridcolor": "white",
            "linecolor": "white",
            "ticks": ""
           },
           "bgcolor": "#E5ECF6",
           "radialaxis": {
            "gridcolor": "white",
            "linecolor": "white",
            "ticks": ""
           }
          },
          "scene": {
           "xaxis": {
            "backgroundcolor": "#E5ECF6",
            "gridcolor": "white",
            "gridwidth": 2,
            "linecolor": "white",
            "showbackground": true,
            "ticks": "",
            "zerolinecolor": "white"
           },
           "yaxis": {
            "backgroundcolor": "#E5ECF6",
            "gridcolor": "white",
            "gridwidth": 2,
            "linecolor": "white",
            "showbackground": true,
            "ticks": "",
            "zerolinecolor": "white"
           },
           "zaxis": {
            "backgroundcolor": "#E5ECF6",
            "gridcolor": "white",
            "gridwidth": 2,
            "linecolor": "white",
            "showbackground": true,
            "ticks": "",
            "zerolinecolor": "white"
           }
          },
          "shapedefaults": {
           "line": {
            "color": "#2a3f5f"
           }
          },
          "ternary": {
           "aaxis": {
            "gridcolor": "white",
            "linecolor": "white",
            "ticks": ""
           },
           "baxis": {
            "gridcolor": "white",
            "linecolor": "white",
            "ticks": ""
           },
           "bgcolor": "#E5ECF6",
           "caxis": {
            "gridcolor": "white",
            "linecolor": "white",
            "ticks": ""
           }
          },
          "title": {
           "x": 0.05
          },
          "xaxis": {
           "automargin": true,
           "gridcolor": "white",
           "linecolor": "white",
           "ticks": "",
           "title": {
            "standoff": 15
           },
           "zerolinecolor": "white",
           "zerolinewidth": 2
          },
          "yaxis": {
           "automargin": true,
           "gridcolor": "white",
           "linecolor": "white",
           "ticks": "",
           "title": {
            "standoff": 15
           },
           "zerolinecolor": "white",
           "zerolinewidth": 2
          }
         }
        },
        "title": {
         "font": {
          "color": "#4D5663"
         }
        },
        "xaxis": {
         "gridcolor": "#E1E5ED",
         "showgrid": true,
         "tickfont": {
          "color": "#4D5663"
         },
         "title": {
          "font": {
           "color": "#4D5663"
          },
          "text": ""
         },
         "zerolinecolor": "#E1E5ED"
        },
        "yaxis": {
         "gridcolor": "#E1E5ED",
         "showgrid": true,
         "tickfont": {
          "color": "#4D5663"
         },
         "title": {
          "font": {
           "color": "#4D5663"
          },
          "text": ""
         },
         "zerolinecolor": "#E1E5ED"
        }
       }
      },
      "text/html": [
       "<div>                            <div id=\"772a75b3-6706-4101-9a34-18d02a103ee6\" class=\"plotly-graph-div\" style=\"height:525px; width:100%;\"></div>            <script type=\"text/javascript\">                require([\"plotly\"], function(Plotly) {                    window.PLOTLYENV=window.PLOTLYENV || {};\n",
       "                    window.PLOTLYENV.BASE_URL='https://plot.ly';                                    if (document.getElementById(\"772a75b3-6706-4101-9a34-18d02a103ee6\")) {                    Plotly.newPlot(                        \"772a75b3-6706-4101-9a34-18d02a103ee6\",                        [{\"boxpoints\":false,\"line\":{\"width\":1.3},\"marker\":{\"color\":\"rgba(255, 153, 51, 1.0)\"},\"name\":\"A\",\"orientation\":\"v\",\"type\":\"box\",\"y\":[-1.252614793086047,-0.05970334235749016,1.1861410783422972,-0.08761128715742864,0.07950640464429827,1.2280562668624604,-1.3278069263914265,-1.363119785987805,-1.1386232623492012,-0.8393437156317276,-0.4541080744300972,2.0343495796888282,-3.09049460215665,0.16073727481802083,-0.4197095473149091,-0.2387478469942015,-0.059737805366917265,0.637232411048166,-0.16098446078613787,-0.39044693665236124,-0.18335785148903647,-1.4665474154877824,-0.9467091070463365,-1.363086400891611,1.1419161233127382,-0.8990356765986693,-0.47877126318615904,-0.08723595655352805,0.28836519048925785,0.4535211994873111,0.6072750672172921,0.7920328635238127,0.9210688520723921,0.8431813681496602,0.14682019235661373,-1.1829671348247588,-1.0438065432704076,1.4143243674487795,0.709957119062226,-0.6850164620237267,-1.0010708187907489,-0.34860627566652763,1.9900831507298398,0.18725017639146913,-0.6255124774152,-1.6017317227276038,0.885042918633726,0.7428077103813263,-0.8924785069045459,-1.3308889418400802,3.003745396974862,0.3371032077767076,0.46679193086201903,0.36616511575153876,-0.416335845412642,1.5194644015341876,0.5211470076410264,-1.5036153475796188,-0.26626662937057033,0.6978691732337882,-0.09511084342263629,0.30075260301102774,0.03197028510486337,1.4282640809936629,0.33128440588935226,0.8760426680096519,-0.04282550929148523,-1.4869944424905852,1.1016632292962907,-1.432616353521275,1.5575716683045684,-0.3201993175852064,0.3085393750442976,-1.6767132815810286,-0.43613840129391807,0.5444947534040682,-0.9564608279120181,-1.2149259364052323,0.2619339163954011,1.1510318594062585,-1.4935781096730616,-1.5364588271684487,-0.2014536368998715,1.0317682182611458,-1.2008107718275032,0.6417163449601327,2.0525571724871856,0.4544224835172775,0.8604257046342394,0.024338875911690164,0.4034582647556379,-0.31260916146689444,0.020281310347106393,-0.29632252607525494,-0.3145363114608712,-0.5558389308669797,-0.08374887468313946,-0.1925649721641307,-0.37837314814356626,-1.004110983807644]},{\"boxpoints\":false,\"line\":{\"width\":1.3},\"marker\":{\"color\":\"rgba(55, 128, 191, 1.0)\"},\"name\":\"B\",\"orientation\":\"v\",\"type\":\"box\",\"y\":[1.429907173744965,-0.3362692153993021,-0.22403939638327913,-0.1062523944097891,0.2474881419869791,-2.951570498412787,-1.3150465437708856,-0.09564344114602419,0.7924691287634381,-0.11059481319784327,-0.9574735207257397,-2.7741406899349563,-1.0816982566045203,-0.7050395721831006,-0.030415434382019057,-0.4233816135656058,1.13409136177349,-0.40242588625630915,-0.294198850624815,-0.10088674274843744,1.0390784149843242,0.5165220382316772,1.0292362169286038,-0.9443881069654166,-0.03415047970036683,-1.302863193040769,-1.8739862933198712,-0.14083809321526172,-1.027560506025851,-0.19154403604307874,1.188705505404244,0.8103271790333249,0.27403939984770914,-0.7969627075630051,1.1289182632483334,-1.6358823872587878,-0.6503428428357034,-0.6587248753403122,-0.8986836433415368,-1.2910519644339522,0.37456483954536046,-2.3331353592693427,-1.353315814768125,-1.6109918954270386,2.574398806434323,-0.7419382066961051,1.0111811133768143,0.8627681851633381,1.0684844064238004,0.9584140081934572,-1.2724226953088429,0.5623348949596787,0.21278803036445387,0.6362092764330177,-1.1507486672395217,0.480023659069112,-1.3364127200675031,0.8452624019906536,0.2509777094027647,0.20317230448967902,-2.5580200049648996,0.47164544114003987,0.13608375887967908,-1.3413832491890092,1.0794295284681177,0.03791755550436143,2.1927622697418774,1.7239478391164735,-0.8441975536242636,-0.555562737221605,0.8962983600870705,1.7163996644440285,0.3861053154127059,-0.5053146823691147,0.6629732990578995,1.7291436937887452,-0.19791142080973972,-0.17758994884436066,0.3835728374808757,0.1206356970118862,-0.5839764747918563,0.6562070488071372,0.79818803972454,-1.317059527577753,-0.36660244714059637,-0.07092316904929655,-1.9885058041209265,0.36046441628701004,-0.3787904255840291,0.40687581684755036,-0.9740597784537262,-0.5963017374604368,1.292358219538622,-0.678637329096281,-0.11217221669830485,-0.556064599371359,-1.2917102576840802,0.1961856894863246,1.8320554131446811,1.1361645082224023]},{\"boxpoints\":false,\"line\":{\"width\":1.3},\"marker\":{\"color\":\"rgba(50, 171, 96, 1.0)\"},\"name\":\"C\",\"orientation\":\"v\",\"type\":\"box\",\"y\":[1.497365056261028,-1.3652639392192893,-0.4633848596042667,-0.6554155737090046,-0.873403949723717,0.05599352265517801,-0.34473828248271027,-0.41319903909836236,-2.044032644851402,-0.3987393454406875,1.1597178016054088,-1.502703163866186,0.23826714360142273,-1.5741392475854807,0.7816858134640635,-2.142846708586097,-1.1859370206584845,0.33445280073709727,-0.7667894723828541,1.2527282906266344,-0.19539795589395198,0.7326304554079953,0.04444226457106558,-1.556251136029763,-0.27447090560656606,0.039518802829135904,-0.02416001405173457,-0.5242725573805086,-0.8428442369549263,-0.9811777369886999,-0.3350095463442984,0.990050751506994,0.017554043186999775,0.2783947893725052,-0.06539150267349131,0.5611531072387262,-0.5433755998816096,0.2877606032303694,-0.39623450285943856,0.4281403826859208,0.12491994104865614,-0.8686705362189602,-1.0093119510785222,-1.7450992786587147,1.2677715076129603,1.1909806049583975,0.27740851207658335,0.6833561525713735,0.4283470277056508,0.7913812387268874,-0.5557615424139913,-0.21904396042115679,0.08964190646166481,0.021193571224057968,0.6050834546942213,-1.1619352848327547,1.0143367637627896,0.6639951131808542,1.018881240687566,0.9919337469405568,-1.3286952823498934,0.0887076694256689,0.8409303174685794,0.04430809594242096,-1.1306458993693478,2.0736318396393814,-0.14677037462178721,-1.3931223572680242,-2.0547424091586253,0.6128352101220416,-1.3654986018914061,-0.4736373234472714,1.5474841315174899,1.4023528581155102,0.2671475960322153,1.2783022300586027,-1.5729061331608103,-1.263124573100888,-0.6798291541866253,-0.07536756430411999,0.3387490431114079,1.7316981530795819,-0.09149845946313058,0.8606384957577545,-0.04059028826209647,-0.13740954203864353,-0.617304623092329,2.0731238475848937,-0.820298203736963,-0.26698591194207655,0.7321591287947562,-0.821972232165776,-0.6262152567039138,-0.08896112446005197,-2.5427473812318784,0.1546583782646699,-0.28721326963380284,0.8187876780277029,-0.4270266101320868,0.27999194420218215]},{\"boxpoints\":false,\"line\":{\"width\":1.3},\"marker\":{\"color\":\"rgba(128, 0, 128, 1.0)\"},\"name\":\"D\",\"orientation\":\"v\",\"type\":\"box\",\"y\":[-0.7607516732532427,-1.254568488051787,-0.8788828748036107,-0.13665063756100818,0.07474348764667796,-0.3100043705116922,-2.0463341136143995,0.640808766840854,1.224538129726818,1.0886660890880229,0.4049848114617264,0.7485515644819034,-0.46248600223967307,0.9533718049057213,-0.3695657385477109,0.8832340804185418,0.9052960323805491,-0.3853489432776442,1.3159244798509053,-0.028767564722662828,0.06379612112194598,-0.5699264163729659,0.32702586302219483,0.08779247487238971,1.2860732684779363,2.0938721257990114,0.10641036516130699,-0.43614763748954455,-0.15454712915480173,1.6917422947637824,2.069900076611023,0.2728381375704959,0.8982963476299403,1.1626845775151418,-1.8514944212075175,0.5097088665460885,0.301289072860881,-0.9215289721219797,0.5195919347510675,0.6283349774206288,0.14180613856997362,-0.6596331767430526,-0.43804908361382316,-1.161466129764636,-0.3773059718348686,-2.140572355581783,-0.19500741390398052,-0.5863195712554702,0.9506076263372776,0.05794084130328615,1.114608481540598,1.0598559581825697,-1.5876844271788813,-0.14739138729617407,-0.580431636041587,-0.33284940498071774,1.0629167254062288,0.38472616162999584,-0.9184640525607392,0.8882962211984797,-1.014539375075398,0.37548732970143817,0.5803058105441924,0.4429555473857757,-1.2144704173369645,0.13144813153609372,-0.8080736698792067,0.8897350266785666,1.1618872824269493,-0.38335647093100017,-0.2727693174039654,-0.25018635867093286,1.1484717709362309,0.49378345946541696,1.101291396885938,-0.49177164389114286,-1.6401018997496926,1.277848986380219,0.12810121345704542,-0.9889079946366958,-0.5251123223013637,1.1599073316060275,0.5708057586905046,-0.35367070891227775,0.8950168639617084,-0.9437864888126327,-0.46412027474338197,-1.5511026925124407,-0.2761019732505129,0.15029292622478768,1.4277411536710876,2.4147463451354967,-0.08801777586421945,-0.6338679739225697,-0.14945606892838023,0.6667328009341639,-0.3684321797614924,-0.9142366078263781,-0.4271860199935734,2.0408302414506343]}],                        {\"legend\":{\"bgcolor\":\"#F5F6F9\",\"font\":{\"color\":\"#4D5663\"}},\"paper_bgcolor\":\"#F5F6F9\",\"plot_bgcolor\":\"#F5F6F9\",\"template\":{\"data\":{\"bar\":[{\"error_x\":{\"color\":\"#2a3f5f\"},\"error_y\":{\"color\":\"#2a3f5f\"},\"marker\":{\"line\":{\"color\":\"#E5ECF6\",\"width\":0.5},\"pattern\":{\"fillmode\":\"overlay\",\"size\":10,\"solidity\":0.2}},\"type\":\"bar\"}],\"barpolar\":[{\"marker\":{\"line\":{\"color\":\"#E5ECF6\",\"width\":0.5},\"pattern\":{\"fillmode\":\"overlay\",\"size\":10,\"solidity\":0.2}},\"type\":\"barpolar\"}],\"carpet\":[{\"aaxis\":{\"endlinecolor\":\"#2a3f5f\",\"gridcolor\":\"white\",\"linecolor\":\"white\",\"minorgridcolor\":\"white\",\"startlinecolor\":\"#2a3f5f\"},\"baxis\":{\"endlinecolor\":\"#2a3f5f\",\"gridcolor\":\"white\",\"linecolor\":\"white\",\"minorgridcolor\":\"white\",\"startlinecolor\":\"#2a3f5f\"},\"type\":\"carpet\"}],\"choropleth\":[{\"colorbar\":{\"outlinewidth\":0,\"ticks\":\"\"},\"type\":\"choropleth\"}],\"contour\":[{\"colorbar\":{\"outlinewidth\":0,\"ticks\":\"\"},\"colorscale\":[[0.0,\"#0d0887\"],[0.1111111111111111,\"#46039f\"],[0.2222222222222222,\"#7201a8\"],[0.3333333333333333,\"#9c179e\"],[0.4444444444444444,\"#bd3786\"],[0.5555555555555556,\"#d8576b\"],[0.6666666666666666,\"#ed7953\"],[0.7777777777777778,\"#fb9f3a\"],[0.8888888888888888,\"#fdca26\"],[1.0,\"#f0f921\"]],\"type\":\"contour\"}],\"contourcarpet\":[{\"colorbar\":{\"outlinewidth\":0,\"ticks\":\"\"},\"type\":\"contourcarpet\"}],\"heatmap\":[{\"colorbar\":{\"outlinewidth\":0,\"ticks\":\"\"},\"colorscale\":[[0.0,\"#0d0887\"],[0.1111111111111111,\"#46039f\"],[0.2222222222222222,\"#7201a8\"],[0.3333333333333333,\"#9c179e\"],[0.4444444444444444,\"#bd3786\"],[0.5555555555555556,\"#d8576b\"],[0.6666666666666666,\"#ed7953\"],[0.7777777777777778,\"#fb9f3a\"],[0.8888888888888888,\"#fdca26\"],[1.0,\"#f0f921\"]],\"type\":\"heatmap\"}],\"heatmapgl\":[{\"colorbar\":{\"outlinewidth\":0,\"ticks\":\"\"},\"colorscale\":[[0.0,\"#0d0887\"],[0.1111111111111111,\"#46039f\"],[0.2222222222222222,\"#7201a8\"],[0.3333333333333333,\"#9c179e\"],[0.4444444444444444,\"#bd3786\"],[0.5555555555555556,\"#d8576b\"],[0.6666666666666666,\"#ed7953\"],[0.7777777777777778,\"#fb9f3a\"],[0.8888888888888888,\"#fdca26\"],[1.0,\"#f0f921\"]],\"type\":\"heatmapgl\"}],\"histogram\":[{\"marker\":{\"pattern\":{\"fillmode\":\"overlay\",\"size\":10,\"solidity\":0.2}},\"type\":\"histogram\"}],\"histogram2d\":[{\"colorbar\":{\"outlinewidth\":0,\"ticks\":\"\"},\"colorscale\":[[0.0,\"#0d0887\"],[0.1111111111111111,\"#46039f\"],[0.2222222222222222,\"#7201a8\"],[0.3333333333333333,\"#9c179e\"],[0.4444444444444444,\"#bd3786\"],[0.5555555555555556,\"#d8576b\"],[0.6666666666666666,\"#ed7953\"],[0.7777777777777778,\"#fb9f3a\"],[0.8888888888888888,\"#fdca26\"],[1.0,\"#f0f921\"]],\"type\":\"histogram2d\"}],\"histogram2dcontour\":[{\"colorbar\":{\"outlinewidth\":0,\"ticks\":\"\"},\"colorscale\":[[0.0,\"#0d0887\"],[0.1111111111111111,\"#46039f\"],[0.2222222222222222,\"#7201a8\"],[0.3333333333333333,\"#9c179e\"],[0.4444444444444444,\"#bd3786\"],[0.5555555555555556,\"#d8576b\"],[0.6666666666666666,\"#ed7953\"],[0.7777777777777778,\"#fb9f3a\"],[0.8888888888888888,\"#fdca26\"],[1.0,\"#f0f921\"]],\"type\":\"histogram2dcontour\"}],\"mesh3d\":[{\"colorbar\":{\"outlinewidth\":0,\"ticks\":\"\"},\"type\":\"mesh3d\"}],\"parcoords\":[{\"line\":{\"colorbar\":{\"outlinewidth\":0,\"ticks\":\"\"}},\"type\":\"parcoords\"}],\"pie\":[{\"automargin\":true,\"type\":\"pie\"}],\"scatter\":[{\"marker\":{\"colorbar\":{\"outlinewidth\":0,\"ticks\":\"\"}},\"type\":\"scatter\"}],\"scatter3d\":[{\"line\":{\"colorbar\":{\"outlinewidth\":0,\"ticks\":\"\"}},\"marker\":{\"colorbar\":{\"outlinewidth\":0,\"ticks\":\"\"}},\"type\":\"scatter3d\"}],\"scattercarpet\":[{\"marker\":{\"colorbar\":{\"outlinewidth\":0,\"ticks\":\"\"}},\"type\":\"scattercarpet\"}],\"scattergeo\":[{\"marker\":{\"colorbar\":{\"outlinewidth\":0,\"ticks\":\"\"}},\"type\":\"scattergeo\"}],\"scattergl\":[{\"marker\":{\"colorbar\":{\"outlinewidth\":0,\"ticks\":\"\"}},\"type\":\"scattergl\"}],\"scattermapbox\":[{\"marker\":{\"colorbar\":{\"outlinewidth\":0,\"ticks\":\"\"}},\"type\":\"scattermapbox\"}],\"scatterpolar\":[{\"marker\":{\"colorbar\":{\"outlinewidth\":0,\"ticks\":\"\"}},\"type\":\"scatterpolar\"}],\"scatterpolargl\":[{\"marker\":{\"colorbar\":{\"outlinewidth\":0,\"ticks\":\"\"}},\"type\":\"scatterpolargl\"}],\"scatterternary\":[{\"marker\":{\"colorbar\":{\"outlinewidth\":0,\"ticks\":\"\"}},\"type\":\"scatterternary\"}],\"surface\":[{\"colorbar\":{\"outlinewidth\":0,\"ticks\":\"\"},\"colorscale\":[[0.0,\"#0d0887\"],[0.1111111111111111,\"#46039f\"],[0.2222222222222222,\"#7201a8\"],[0.3333333333333333,\"#9c179e\"],[0.4444444444444444,\"#bd3786\"],[0.5555555555555556,\"#d8576b\"],[0.6666666666666666,\"#ed7953\"],[0.7777777777777778,\"#fb9f3a\"],[0.8888888888888888,\"#fdca26\"],[1.0,\"#f0f921\"]],\"type\":\"surface\"}],\"table\":[{\"cells\":{\"fill\":{\"color\":\"#EBF0F8\"},\"line\":{\"color\":\"white\"}},\"header\":{\"fill\":{\"color\":\"#C8D4E3\"},\"line\":{\"color\":\"white\"}},\"type\":\"table\"}]},\"layout\":{\"annotationdefaults\":{\"arrowcolor\":\"#2a3f5f\",\"arrowhead\":0,\"arrowwidth\":1},\"autotypenumbers\":\"strict\",\"coloraxis\":{\"colorbar\":{\"outlinewidth\":0,\"ticks\":\"\"}},\"colorscale\":{\"diverging\":[[0,\"#8e0152\"],[0.1,\"#c51b7d\"],[0.2,\"#de77ae\"],[0.3,\"#f1b6da\"],[0.4,\"#fde0ef\"],[0.5,\"#f7f7f7\"],[0.6,\"#e6f5d0\"],[0.7,\"#b8e186\"],[0.8,\"#7fbc41\"],[0.9,\"#4d9221\"],[1,\"#276419\"]],\"sequential\":[[0.0,\"#0d0887\"],[0.1111111111111111,\"#46039f\"],[0.2222222222222222,\"#7201a8\"],[0.3333333333333333,\"#9c179e\"],[0.4444444444444444,\"#bd3786\"],[0.5555555555555556,\"#d8576b\"],[0.6666666666666666,\"#ed7953\"],[0.7777777777777778,\"#fb9f3a\"],[0.8888888888888888,\"#fdca26\"],[1.0,\"#f0f921\"]],\"sequentialminus\":[[0.0,\"#0d0887\"],[0.1111111111111111,\"#46039f\"],[0.2222222222222222,\"#7201a8\"],[0.3333333333333333,\"#9c179e\"],[0.4444444444444444,\"#bd3786\"],[0.5555555555555556,\"#d8576b\"],[0.6666666666666666,\"#ed7953\"],[0.7777777777777778,\"#fb9f3a\"],[0.8888888888888888,\"#fdca26\"],[1.0,\"#f0f921\"]]},\"colorway\":[\"#636efa\",\"#EF553B\",\"#00cc96\",\"#ab63fa\",\"#FFA15A\",\"#19d3f3\",\"#FF6692\",\"#B6E880\",\"#FF97FF\",\"#FECB52\"],\"font\":{\"color\":\"#2a3f5f\"},\"geo\":{\"bgcolor\":\"white\",\"lakecolor\":\"white\",\"landcolor\":\"#E5ECF6\",\"showlakes\":true,\"showland\":true,\"subunitcolor\":\"white\"},\"hoverlabel\":{\"align\":\"left\"},\"hovermode\":\"closest\",\"mapbox\":{\"style\":\"light\"},\"paper_bgcolor\":\"white\",\"plot_bgcolor\":\"#E5ECF6\",\"polar\":{\"angularaxis\":{\"gridcolor\":\"white\",\"linecolor\":\"white\",\"ticks\":\"\"},\"bgcolor\":\"#E5ECF6\",\"radialaxis\":{\"gridcolor\":\"white\",\"linecolor\":\"white\",\"ticks\":\"\"}},\"scene\":{\"xaxis\":{\"backgroundcolor\":\"#E5ECF6\",\"gridcolor\":\"white\",\"gridwidth\":2,\"linecolor\":\"white\",\"showbackground\":true,\"ticks\":\"\",\"zerolinecolor\":\"white\"},\"yaxis\":{\"backgroundcolor\":\"#E5ECF6\",\"gridcolor\":\"white\",\"gridwidth\":2,\"linecolor\":\"white\",\"showbackground\":true,\"ticks\":\"\",\"zerolinecolor\":\"white\"},\"zaxis\":{\"backgroundcolor\":\"#E5ECF6\",\"gridcolor\":\"white\",\"gridwidth\":2,\"linecolor\":\"white\",\"showbackground\":true,\"ticks\":\"\",\"zerolinecolor\":\"white\"}},\"shapedefaults\":{\"line\":{\"color\":\"#2a3f5f\"}},\"ternary\":{\"aaxis\":{\"gridcolor\":\"white\",\"linecolor\":\"white\",\"ticks\":\"\"},\"baxis\":{\"gridcolor\":\"white\",\"linecolor\":\"white\",\"ticks\":\"\"},\"bgcolor\":\"#E5ECF6\",\"caxis\":{\"gridcolor\":\"white\",\"linecolor\":\"white\",\"ticks\":\"\"}},\"title\":{\"x\":0.05},\"xaxis\":{\"automargin\":true,\"gridcolor\":\"white\",\"linecolor\":\"white\",\"ticks\":\"\",\"title\":{\"standoff\":15},\"zerolinecolor\":\"white\",\"zerolinewidth\":2},\"yaxis\":{\"automargin\":true,\"gridcolor\":\"white\",\"linecolor\":\"white\",\"ticks\":\"\",\"title\":{\"standoff\":15},\"zerolinecolor\":\"white\",\"zerolinewidth\":2}}},\"title\":{\"font\":{\"color\":\"#4D5663\"}},\"xaxis\":{\"gridcolor\":\"#E1E5ED\",\"showgrid\":true,\"tickfont\":{\"color\":\"#4D5663\"},\"title\":{\"font\":{\"color\":\"#4D5663\"},\"text\":\"\"},\"zerolinecolor\":\"#E1E5ED\"},\"yaxis\":{\"gridcolor\":\"#E1E5ED\",\"showgrid\":true,\"tickfont\":{\"color\":\"#4D5663\"},\"title\":{\"font\":{\"color\":\"#4D5663\"},\"text\":\"\"},\"zerolinecolor\":\"#E1E5ED\"}},                        {\"showLink\": true, \"linkText\": \"Export to plot.ly\", \"plotlyServerURL\": \"https://plot.ly\", \"responsive\": true}                    ).then(function(){\n",
       "                            \n",
       "var gd = document.getElementById('772a75b3-6706-4101-9a34-18d02a103ee6');\n",
       "var x = new MutationObserver(function (mutations, observer) {{\n",
       "        var display = window.getComputedStyle(gd).display;\n",
       "        if (!display || display === 'none') {{\n",
       "            console.log([gd, 'removed!']);\n",
       "            Plotly.purge(gd);\n",
       "            observer.disconnect();\n",
       "        }}\n",
       "}});\n",
       "\n",
       "// Listen for the removal of the full notebook cells\n",
       "var notebookContainer = gd.closest('#notebook-container');\n",
       "if (notebookContainer) {{\n",
       "    x.observe(notebookContainer, {childList: true});\n",
       "}}\n",
       "\n",
       "// Listen for the clearing of the current output cell\n",
       "var outputEl = gd.closest('.output');\n",
       "if (outputEl) {{\n",
       "    x.observe(outputEl, {childList: true});\n",
       "}}\n",
       "\n",
       "                        })                };                });            </script>        </div>"
      ]
     },
     "metadata": {},
     "output_type": "display_data"
    }
   ],
   "source": [
    "df.iplot(kind='box')"
   ]
  },
  {
   "cell_type": "markdown",
   "metadata": {},
   "source": [
    "## 3d Surface"
   ]
  },
  {
   "cell_type": "code",
   "execution_count": 29,
   "metadata": {},
   "outputs": [
    {
     "data": {
      "application/vnd.plotly.v1+json": {
       "config": {
        "linkText": "Export to plot.ly",
        "plotlyServerURL": "https://plot.ly",
        "showLink": true
       },
       "data": [
        {
         "colorscale": [
          [
           0,
           "rgb(165,0,38)"
          ],
          [
           0.1,
           "rgb(215,48,39)"
          ],
          [
           0.2,
           "rgb(244,109,67)"
          ],
          [
           0.3,
           "rgb(253,174,97)"
          ],
          [
           0.4,
           "rgb(254,224,144)"
          ],
          [
           0.5,
           "rgb(255,255,191)"
          ],
          [
           0.6,
           "rgb(224,243,248)"
          ],
          [
           0.7,
           "rgb(171,217,233)"
          ],
          [
           0.8,
           "rgb(116,173,209)"
          ],
          [
           0.9,
           "rgb(69,117,180)"
          ],
          [
           1,
           "rgb(49,54,149)"
          ]
         ],
         "type": "surface",
         "x": [
          0,
          1,
          2,
          3,
          4
         ],
         "y": [
          "x",
          "y",
          "z"
         ],
         "z": [
          [
           1,
           2,
           3,
           4,
           5
          ],
          [
           10,
           20,
           30,
           20,
           10
          ],
          [
           5,
           4,
           3,
           2,
           1
          ]
         ]
        }
       ],
       "layout": {
        "legend": {
         "bgcolor": "#F5F6F9",
         "font": {
          "color": "#4D5663"
         }
        },
        "paper_bgcolor": "#F5F6F9",
        "plot_bgcolor": "#F5F6F9",
        "template": {
         "data": {
          "bar": [
           {
            "error_x": {
             "color": "#2a3f5f"
            },
            "error_y": {
             "color": "#2a3f5f"
            },
            "marker": {
             "line": {
              "color": "#E5ECF6",
              "width": 0.5
             },
             "pattern": {
              "fillmode": "overlay",
              "size": 10,
              "solidity": 0.2
             }
            },
            "type": "bar"
           }
          ],
          "barpolar": [
           {
            "marker": {
             "line": {
              "color": "#E5ECF6",
              "width": 0.5
             },
             "pattern": {
              "fillmode": "overlay",
              "size": 10,
              "solidity": 0.2
             }
            },
            "type": "barpolar"
           }
          ],
          "carpet": [
           {
            "aaxis": {
             "endlinecolor": "#2a3f5f",
             "gridcolor": "white",
             "linecolor": "white",
             "minorgridcolor": "white",
             "startlinecolor": "#2a3f5f"
            },
            "baxis": {
             "endlinecolor": "#2a3f5f",
             "gridcolor": "white",
             "linecolor": "white",
             "minorgridcolor": "white",
             "startlinecolor": "#2a3f5f"
            },
            "type": "carpet"
           }
          ],
          "choropleth": [
           {
            "colorbar": {
             "outlinewidth": 0,
             "ticks": ""
            },
            "type": "choropleth"
           }
          ],
          "contour": [
           {
            "colorbar": {
             "outlinewidth": 0,
             "ticks": ""
            },
            "colorscale": [
             [
              0,
              "#0d0887"
             ],
             [
              0.1111111111111111,
              "#46039f"
             ],
             [
              0.2222222222222222,
              "#7201a8"
             ],
             [
              0.3333333333333333,
              "#9c179e"
             ],
             [
              0.4444444444444444,
              "#bd3786"
             ],
             [
              0.5555555555555556,
              "#d8576b"
             ],
             [
              0.6666666666666666,
              "#ed7953"
             ],
             [
              0.7777777777777778,
              "#fb9f3a"
             ],
             [
              0.8888888888888888,
              "#fdca26"
             ],
             [
              1,
              "#f0f921"
             ]
            ],
            "type": "contour"
           }
          ],
          "contourcarpet": [
           {
            "colorbar": {
             "outlinewidth": 0,
             "ticks": ""
            },
            "type": "contourcarpet"
           }
          ],
          "heatmap": [
           {
            "colorbar": {
             "outlinewidth": 0,
             "ticks": ""
            },
            "colorscale": [
             [
              0,
              "#0d0887"
             ],
             [
              0.1111111111111111,
              "#46039f"
             ],
             [
              0.2222222222222222,
              "#7201a8"
             ],
             [
              0.3333333333333333,
              "#9c179e"
             ],
             [
              0.4444444444444444,
              "#bd3786"
             ],
             [
              0.5555555555555556,
              "#d8576b"
             ],
             [
              0.6666666666666666,
              "#ed7953"
             ],
             [
              0.7777777777777778,
              "#fb9f3a"
             ],
             [
              0.8888888888888888,
              "#fdca26"
             ],
             [
              1,
              "#f0f921"
             ]
            ],
            "type": "heatmap"
           }
          ],
          "heatmapgl": [
           {
            "colorbar": {
             "outlinewidth": 0,
             "ticks": ""
            },
            "colorscale": [
             [
              0,
              "#0d0887"
             ],
             [
              0.1111111111111111,
              "#46039f"
             ],
             [
              0.2222222222222222,
              "#7201a8"
             ],
             [
              0.3333333333333333,
              "#9c179e"
             ],
             [
              0.4444444444444444,
              "#bd3786"
             ],
             [
              0.5555555555555556,
              "#d8576b"
             ],
             [
              0.6666666666666666,
              "#ed7953"
             ],
             [
              0.7777777777777778,
              "#fb9f3a"
             ],
             [
              0.8888888888888888,
              "#fdca26"
             ],
             [
              1,
              "#f0f921"
             ]
            ],
            "type": "heatmapgl"
           }
          ],
          "histogram": [
           {
            "marker": {
             "pattern": {
              "fillmode": "overlay",
              "size": 10,
              "solidity": 0.2
             }
            },
            "type": "histogram"
           }
          ],
          "histogram2d": [
           {
            "colorbar": {
             "outlinewidth": 0,
             "ticks": ""
            },
            "colorscale": [
             [
              0,
              "#0d0887"
             ],
             [
              0.1111111111111111,
              "#46039f"
             ],
             [
              0.2222222222222222,
              "#7201a8"
             ],
             [
              0.3333333333333333,
              "#9c179e"
             ],
             [
              0.4444444444444444,
              "#bd3786"
             ],
             [
              0.5555555555555556,
              "#d8576b"
             ],
             [
              0.6666666666666666,
              "#ed7953"
             ],
             [
              0.7777777777777778,
              "#fb9f3a"
             ],
             [
              0.8888888888888888,
              "#fdca26"
             ],
             [
              1,
              "#f0f921"
             ]
            ],
            "type": "histogram2d"
           }
          ],
          "histogram2dcontour": [
           {
            "colorbar": {
             "outlinewidth": 0,
             "ticks": ""
            },
            "colorscale": [
             [
              0,
              "#0d0887"
             ],
             [
              0.1111111111111111,
              "#46039f"
             ],
             [
              0.2222222222222222,
              "#7201a8"
             ],
             [
              0.3333333333333333,
              "#9c179e"
             ],
             [
              0.4444444444444444,
              "#bd3786"
             ],
             [
              0.5555555555555556,
              "#d8576b"
             ],
             [
              0.6666666666666666,
              "#ed7953"
             ],
             [
              0.7777777777777778,
              "#fb9f3a"
             ],
             [
              0.8888888888888888,
              "#fdca26"
             ],
             [
              1,
              "#f0f921"
             ]
            ],
            "type": "histogram2dcontour"
           }
          ],
          "mesh3d": [
           {
            "colorbar": {
             "outlinewidth": 0,
             "ticks": ""
            },
            "type": "mesh3d"
           }
          ],
          "parcoords": [
           {
            "line": {
             "colorbar": {
              "outlinewidth": 0,
              "ticks": ""
             }
            },
            "type": "parcoords"
           }
          ],
          "pie": [
           {
            "automargin": true,
            "type": "pie"
           }
          ],
          "scatter": [
           {
            "marker": {
             "colorbar": {
              "outlinewidth": 0,
              "ticks": ""
             }
            },
            "type": "scatter"
           }
          ],
          "scatter3d": [
           {
            "line": {
             "colorbar": {
              "outlinewidth": 0,
              "ticks": ""
             }
            },
            "marker": {
             "colorbar": {
              "outlinewidth": 0,
              "ticks": ""
             }
            },
            "type": "scatter3d"
           }
          ],
          "scattercarpet": [
           {
            "marker": {
             "colorbar": {
              "outlinewidth": 0,
              "ticks": ""
             }
            },
            "type": "scattercarpet"
           }
          ],
          "scattergeo": [
           {
            "marker": {
             "colorbar": {
              "outlinewidth": 0,
              "ticks": ""
             }
            },
            "type": "scattergeo"
           }
          ],
          "scattergl": [
           {
            "marker": {
             "colorbar": {
              "outlinewidth": 0,
              "ticks": ""
             }
            },
            "type": "scattergl"
           }
          ],
          "scattermapbox": [
           {
            "marker": {
             "colorbar": {
              "outlinewidth": 0,
              "ticks": ""
             }
            },
            "type": "scattermapbox"
           }
          ],
          "scatterpolar": [
           {
            "marker": {
             "colorbar": {
              "outlinewidth": 0,
              "ticks": ""
             }
            },
            "type": "scatterpolar"
           }
          ],
          "scatterpolargl": [
           {
            "marker": {
             "colorbar": {
              "outlinewidth": 0,
              "ticks": ""
             }
            },
            "type": "scatterpolargl"
           }
          ],
          "scatterternary": [
           {
            "marker": {
             "colorbar": {
              "outlinewidth": 0,
              "ticks": ""
             }
            },
            "type": "scatterternary"
           }
          ],
          "surface": [
           {
            "colorbar": {
             "outlinewidth": 0,
             "ticks": ""
            },
            "colorscale": [
             [
              0,
              "#0d0887"
             ],
             [
              0.1111111111111111,
              "#46039f"
             ],
             [
              0.2222222222222222,
              "#7201a8"
             ],
             [
              0.3333333333333333,
              "#9c179e"
             ],
             [
              0.4444444444444444,
              "#bd3786"
             ],
             [
              0.5555555555555556,
              "#d8576b"
             ],
             [
              0.6666666666666666,
              "#ed7953"
             ],
             [
              0.7777777777777778,
              "#fb9f3a"
             ],
             [
              0.8888888888888888,
              "#fdca26"
             ],
             [
              1,
              "#f0f921"
             ]
            ],
            "type": "surface"
           }
          ],
          "table": [
           {
            "cells": {
             "fill": {
              "color": "#EBF0F8"
             },
             "line": {
              "color": "white"
             }
            },
            "header": {
             "fill": {
              "color": "#C8D4E3"
             },
             "line": {
              "color": "white"
             }
            },
            "type": "table"
           }
          ]
         },
         "layout": {
          "annotationdefaults": {
           "arrowcolor": "#2a3f5f",
           "arrowhead": 0,
           "arrowwidth": 1
          },
          "autotypenumbers": "strict",
          "coloraxis": {
           "colorbar": {
            "outlinewidth": 0,
            "ticks": ""
           }
          },
          "colorscale": {
           "diverging": [
            [
             0,
             "#8e0152"
            ],
            [
             0.1,
             "#c51b7d"
            ],
            [
             0.2,
             "#de77ae"
            ],
            [
             0.3,
             "#f1b6da"
            ],
            [
             0.4,
             "#fde0ef"
            ],
            [
             0.5,
             "#f7f7f7"
            ],
            [
             0.6,
             "#e6f5d0"
            ],
            [
             0.7,
             "#b8e186"
            ],
            [
             0.8,
             "#7fbc41"
            ],
            [
             0.9,
             "#4d9221"
            ],
            [
             1,
             "#276419"
            ]
           ],
           "sequential": [
            [
             0,
             "#0d0887"
            ],
            [
             0.1111111111111111,
             "#46039f"
            ],
            [
             0.2222222222222222,
             "#7201a8"
            ],
            [
             0.3333333333333333,
             "#9c179e"
            ],
            [
             0.4444444444444444,
             "#bd3786"
            ],
            [
             0.5555555555555556,
             "#d8576b"
            ],
            [
             0.6666666666666666,
             "#ed7953"
            ],
            [
             0.7777777777777778,
             "#fb9f3a"
            ],
            [
             0.8888888888888888,
             "#fdca26"
            ],
            [
             1,
             "#f0f921"
            ]
           ],
           "sequentialminus": [
            [
             0,
             "#0d0887"
            ],
            [
             0.1111111111111111,
             "#46039f"
            ],
            [
             0.2222222222222222,
             "#7201a8"
            ],
            [
             0.3333333333333333,
             "#9c179e"
            ],
            [
             0.4444444444444444,
             "#bd3786"
            ],
            [
             0.5555555555555556,
             "#d8576b"
            ],
            [
             0.6666666666666666,
             "#ed7953"
            ],
            [
             0.7777777777777778,
             "#fb9f3a"
            ],
            [
             0.8888888888888888,
             "#fdca26"
            ],
            [
             1,
             "#f0f921"
            ]
           ]
          },
          "colorway": [
           "#636efa",
           "#EF553B",
           "#00cc96",
           "#ab63fa",
           "#FFA15A",
           "#19d3f3",
           "#FF6692",
           "#B6E880",
           "#FF97FF",
           "#FECB52"
          ],
          "font": {
           "color": "#2a3f5f"
          },
          "geo": {
           "bgcolor": "white",
           "lakecolor": "white",
           "landcolor": "#E5ECF6",
           "showlakes": true,
           "showland": true,
           "subunitcolor": "white"
          },
          "hoverlabel": {
           "align": "left"
          },
          "hovermode": "closest",
          "mapbox": {
           "style": "light"
          },
          "paper_bgcolor": "white",
          "plot_bgcolor": "#E5ECF6",
          "polar": {
           "angularaxis": {
            "gridcolor": "white",
            "linecolor": "white",
            "ticks": ""
           },
           "bgcolor": "#E5ECF6",
           "radialaxis": {
            "gridcolor": "white",
            "linecolor": "white",
            "ticks": ""
           }
          },
          "scene": {
           "xaxis": {
            "backgroundcolor": "#E5ECF6",
            "gridcolor": "white",
            "gridwidth": 2,
            "linecolor": "white",
            "showbackground": true,
            "ticks": "",
            "zerolinecolor": "white"
           },
           "yaxis": {
            "backgroundcolor": "#E5ECF6",
            "gridcolor": "white",
            "gridwidth": 2,
            "linecolor": "white",
            "showbackground": true,
            "ticks": "",
            "zerolinecolor": "white"
           },
           "zaxis": {
            "backgroundcolor": "#E5ECF6",
            "gridcolor": "white",
            "gridwidth": 2,
            "linecolor": "white",
            "showbackground": true,
            "ticks": "",
            "zerolinecolor": "white"
           }
          },
          "shapedefaults": {
           "line": {
            "color": "#2a3f5f"
           }
          },
          "ternary": {
           "aaxis": {
            "gridcolor": "white",
            "linecolor": "white",
            "ticks": ""
           },
           "baxis": {
            "gridcolor": "white",
            "linecolor": "white",
            "ticks": ""
           },
           "bgcolor": "#E5ECF6",
           "caxis": {
            "gridcolor": "white",
            "linecolor": "white",
            "ticks": ""
           }
          },
          "title": {
           "x": 0.05
          },
          "xaxis": {
           "automargin": true,
           "gridcolor": "white",
           "linecolor": "white",
           "ticks": "",
           "title": {
            "standoff": 15
           },
           "zerolinecolor": "white",
           "zerolinewidth": 2
          },
          "yaxis": {
           "automargin": true,
           "gridcolor": "white",
           "linecolor": "white",
           "ticks": "",
           "title": {
            "standoff": 15
           },
           "zerolinecolor": "white",
           "zerolinewidth": 2
          }
         }
        },
        "title": {
         "font": {
          "color": "#4D5663"
         }
        },
        "xaxis": {
         "gridcolor": "#E1E5ED",
         "showgrid": true,
         "tickfont": {
          "color": "#4D5663"
         },
         "title": {
          "font": {
           "color": "#4D5663"
          },
          "text": ""
         },
         "zerolinecolor": "#E1E5ED"
        },
        "yaxis": {
         "gridcolor": "#E1E5ED",
         "showgrid": true,
         "tickfont": {
          "color": "#4D5663"
         },
         "title": {
          "font": {
           "color": "#4D5663"
          },
          "text": ""
         },
         "zerolinecolor": "#E1E5ED"
        }
       }
      },
      "text/html": [
       "<div>                            <div id=\"3b1fd448-427a-4b1c-b2ee-4b91f72c6a97\" class=\"plotly-graph-div\" style=\"height:525px; width:100%;\"></div>            <script type=\"text/javascript\">                require([\"plotly\"], function(Plotly) {                    window.PLOTLYENV=window.PLOTLYENV || {};\n",
       "                    window.PLOTLYENV.BASE_URL='https://plot.ly';                                    if (document.getElementById(\"3b1fd448-427a-4b1c-b2ee-4b91f72c6a97\")) {                    Plotly.newPlot(                        \"3b1fd448-427a-4b1c-b2ee-4b91f72c6a97\",                        [{\"colorscale\":[[0.0,\"rgb(165,0,38)\"],[0.1,\"rgb(215,48,39)\"],[0.2,\"rgb(244,109,67)\"],[0.3,\"rgb(253,174,97)\"],[0.4,\"rgb(254,224,144)\"],[0.5,\"rgb(255,255,191)\"],[0.6,\"rgb(224,243,248)\"],[0.7,\"rgb(171,217,233)\"],[0.8,\"rgb(116,173,209)\"],[0.9,\"rgb(69,117,180)\"],[1.0,\"rgb(49,54,149)\"]],\"type\":\"surface\",\"x\":[0,1,2,3,4],\"y\":[\"x\",\"y\",\"z\"],\"z\":[[1,2,3,4,5],[10,20,30,20,10],[5,4,3,2,1]]}],                        {\"legend\":{\"bgcolor\":\"#F5F6F9\",\"font\":{\"color\":\"#4D5663\"}},\"paper_bgcolor\":\"#F5F6F9\",\"plot_bgcolor\":\"#F5F6F9\",\"template\":{\"data\":{\"bar\":[{\"error_x\":{\"color\":\"#2a3f5f\"},\"error_y\":{\"color\":\"#2a3f5f\"},\"marker\":{\"line\":{\"color\":\"#E5ECF6\",\"width\":0.5},\"pattern\":{\"fillmode\":\"overlay\",\"size\":10,\"solidity\":0.2}},\"type\":\"bar\"}],\"barpolar\":[{\"marker\":{\"line\":{\"color\":\"#E5ECF6\",\"width\":0.5},\"pattern\":{\"fillmode\":\"overlay\",\"size\":10,\"solidity\":0.2}},\"type\":\"barpolar\"}],\"carpet\":[{\"aaxis\":{\"endlinecolor\":\"#2a3f5f\",\"gridcolor\":\"white\",\"linecolor\":\"white\",\"minorgridcolor\":\"white\",\"startlinecolor\":\"#2a3f5f\"},\"baxis\":{\"endlinecolor\":\"#2a3f5f\",\"gridcolor\":\"white\",\"linecolor\":\"white\",\"minorgridcolor\":\"white\",\"startlinecolor\":\"#2a3f5f\"},\"type\":\"carpet\"}],\"choropleth\":[{\"colorbar\":{\"outlinewidth\":0,\"ticks\":\"\"},\"type\":\"choropleth\"}],\"contour\":[{\"colorbar\":{\"outlinewidth\":0,\"ticks\":\"\"},\"colorscale\":[[0.0,\"#0d0887\"],[0.1111111111111111,\"#46039f\"],[0.2222222222222222,\"#7201a8\"],[0.3333333333333333,\"#9c179e\"],[0.4444444444444444,\"#bd3786\"],[0.5555555555555556,\"#d8576b\"],[0.6666666666666666,\"#ed7953\"],[0.7777777777777778,\"#fb9f3a\"],[0.8888888888888888,\"#fdca26\"],[1.0,\"#f0f921\"]],\"type\":\"contour\"}],\"contourcarpet\":[{\"colorbar\":{\"outlinewidth\":0,\"ticks\":\"\"},\"type\":\"contourcarpet\"}],\"heatmap\":[{\"colorbar\":{\"outlinewidth\":0,\"ticks\":\"\"},\"colorscale\":[[0.0,\"#0d0887\"],[0.1111111111111111,\"#46039f\"],[0.2222222222222222,\"#7201a8\"],[0.3333333333333333,\"#9c179e\"],[0.4444444444444444,\"#bd3786\"],[0.5555555555555556,\"#d8576b\"],[0.6666666666666666,\"#ed7953\"],[0.7777777777777778,\"#fb9f3a\"],[0.8888888888888888,\"#fdca26\"],[1.0,\"#f0f921\"]],\"type\":\"heatmap\"}],\"heatmapgl\":[{\"colorbar\":{\"outlinewidth\":0,\"ticks\":\"\"},\"colorscale\":[[0.0,\"#0d0887\"],[0.1111111111111111,\"#46039f\"],[0.2222222222222222,\"#7201a8\"],[0.3333333333333333,\"#9c179e\"],[0.4444444444444444,\"#bd3786\"],[0.5555555555555556,\"#d8576b\"],[0.6666666666666666,\"#ed7953\"],[0.7777777777777778,\"#fb9f3a\"],[0.8888888888888888,\"#fdca26\"],[1.0,\"#f0f921\"]],\"type\":\"heatmapgl\"}],\"histogram\":[{\"marker\":{\"pattern\":{\"fillmode\":\"overlay\",\"size\":10,\"solidity\":0.2}},\"type\":\"histogram\"}],\"histogram2d\":[{\"colorbar\":{\"outlinewidth\":0,\"ticks\":\"\"},\"colorscale\":[[0.0,\"#0d0887\"],[0.1111111111111111,\"#46039f\"],[0.2222222222222222,\"#7201a8\"],[0.3333333333333333,\"#9c179e\"],[0.4444444444444444,\"#bd3786\"],[0.5555555555555556,\"#d8576b\"],[0.6666666666666666,\"#ed7953\"],[0.7777777777777778,\"#fb9f3a\"],[0.8888888888888888,\"#fdca26\"],[1.0,\"#f0f921\"]],\"type\":\"histogram2d\"}],\"histogram2dcontour\":[{\"colorbar\":{\"outlinewidth\":0,\"ticks\":\"\"},\"colorscale\":[[0.0,\"#0d0887\"],[0.1111111111111111,\"#46039f\"],[0.2222222222222222,\"#7201a8\"],[0.3333333333333333,\"#9c179e\"],[0.4444444444444444,\"#bd3786\"],[0.5555555555555556,\"#d8576b\"],[0.6666666666666666,\"#ed7953\"],[0.7777777777777778,\"#fb9f3a\"],[0.8888888888888888,\"#fdca26\"],[1.0,\"#f0f921\"]],\"type\":\"histogram2dcontour\"}],\"mesh3d\":[{\"colorbar\":{\"outlinewidth\":0,\"ticks\":\"\"},\"type\":\"mesh3d\"}],\"parcoords\":[{\"line\":{\"colorbar\":{\"outlinewidth\":0,\"ticks\":\"\"}},\"type\":\"parcoords\"}],\"pie\":[{\"automargin\":true,\"type\":\"pie\"}],\"scatter\":[{\"marker\":{\"colorbar\":{\"outlinewidth\":0,\"ticks\":\"\"}},\"type\":\"scatter\"}],\"scatter3d\":[{\"line\":{\"colorbar\":{\"outlinewidth\":0,\"ticks\":\"\"}},\"marker\":{\"colorbar\":{\"outlinewidth\":0,\"ticks\":\"\"}},\"type\":\"scatter3d\"}],\"scattercarpet\":[{\"marker\":{\"colorbar\":{\"outlinewidth\":0,\"ticks\":\"\"}},\"type\":\"scattercarpet\"}],\"scattergeo\":[{\"marker\":{\"colorbar\":{\"outlinewidth\":0,\"ticks\":\"\"}},\"type\":\"scattergeo\"}],\"scattergl\":[{\"marker\":{\"colorbar\":{\"outlinewidth\":0,\"ticks\":\"\"}},\"type\":\"scattergl\"}],\"scattermapbox\":[{\"marker\":{\"colorbar\":{\"outlinewidth\":0,\"ticks\":\"\"}},\"type\":\"scattermapbox\"}],\"scatterpolar\":[{\"marker\":{\"colorbar\":{\"outlinewidth\":0,\"ticks\":\"\"}},\"type\":\"scatterpolar\"}],\"scatterpolargl\":[{\"marker\":{\"colorbar\":{\"outlinewidth\":0,\"ticks\":\"\"}},\"type\":\"scatterpolargl\"}],\"scatterternary\":[{\"marker\":{\"colorbar\":{\"outlinewidth\":0,\"ticks\":\"\"}},\"type\":\"scatterternary\"}],\"surface\":[{\"colorbar\":{\"outlinewidth\":0,\"ticks\":\"\"},\"colorscale\":[[0.0,\"#0d0887\"],[0.1111111111111111,\"#46039f\"],[0.2222222222222222,\"#7201a8\"],[0.3333333333333333,\"#9c179e\"],[0.4444444444444444,\"#bd3786\"],[0.5555555555555556,\"#d8576b\"],[0.6666666666666666,\"#ed7953\"],[0.7777777777777778,\"#fb9f3a\"],[0.8888888888888888,\"#fdca26\"],[1.0,\"#f0f921\"]],\"type\":\"surface\"}],\"table\":[{\"cells\":{\"fill\":{\"color\":\"#EBF0F8\"},\"line\":{\"color\":\"white\"}},\"header\":{\"fill\":{\"color\":\"#C8D4E3\"},\"line\":{\"color\":\"white\"}},\"type\":\"table\"}]},\"layout\":{\"annotationdefaults\":{\"arrowcolor\":\"#2a3f5f\",\"arrowhead\":0,\"arrowwidth\":1},\"autotypenumbers\":\"strict\",\"coloraxis\":{\"colorbar\":{\"outlinewidth\":0,\"ticks\":\"\"}},\"colorscale\":{\"diverging\":[[0,\"#8e0152\"],[0.1,\"#c51b7d\"],[0.2,\"#de77ae\"],[0.3,\"#f1b6da\"],[0.4,\"#fde0ef\"],[0.5,\"#f7f7f7\"],[0.6,\"#e6f5d0\"],[0.7,\"#b8e186\"],[0.8,\"#7fbc41\"],[0.9,\"#4d9221\"],[1,\"#276419\"]],\"sequential\":[[0.0,\"#0d0887\"],[0.1111111111111111,\"#46039f\"],[0.2222222222222222,\"#7201a8\"],[0.3333333333333333,\"#9c179e\"],[0.4444444444444444,\"#bd3786\"],[0.5555555555555556,\"#d8576b\"],[0.6666666666666666,\"#ed7953\"],[0.7777777777777778,\"#fb9f3a\"],[0.8888888888888888,\"#fdca26\"],[1.0,\"#f0f921\"]],\"sequentialminus\":[[0.0,\"#0d0887\"],[0.1111111111111111,\"#46039f\"],[0.2222222222222222,\"#7201a8\"],[0.3333333333333333,\"#9c179e\"],[0.4444444444444444,\"#bd3786\"],[0.5555555555555556,\"#d8576b\"],[0.6666666666666666,\"#ed7953\"],[0.7777777777777778,\"#fb9f3a\"],[0.8888888888888888,\"#fdca26\"],[1.0,\"#f0f921\"]]},\"colorway\":[\"#636efa\",\"#EF553B\",\"#00cc96\",\"#ab63fa\",\"#FFA15A\",\"#19d3f3\",\"#FF6692\",\"#B6E880\",\"#FF97FF\",\"#FECB52\"],\"font\":{\"color\":\"#2a3f5f\"},\"geo\":{\"bgcolor\":\"white\",\"lakecolor\":\"white\",\"landcolor\":\"#E5ECF6\",\"showlakes\":true,\"showland\":true,\"subunitcolor\":\"white\"},\"hoverlabel\":{\"align\":\"left\"},\"hovermode\":\"closest\",\"mapbox\":{\"style\":\"light\"},\"paper_bgcolor\":\"white\",\"plot_bgcolor\":\"#E5ECF6\",\"polar\":{\"angularaxis\":{\"gridcolor\":\"white\",\"linecolor\":\"white\",\"ticks\":\"\"},\"bgcolor\":\"#E5ECF6\",\"radialaxis\":{\"gridcolor\":\"white\",\"linecolor\":\"white\",\"ticks\":\"\"}},\"scene\":{\"xaxis\":{\"backgroundcolor\":\"#E5ECF6\",\"gridcolor\":\"white\",\"gridwidth\":2,\"linecolor\":\"white\",\"showbackground\":true,\"ticks\":\"\",\"zerolinecolor\":\"white\"},\"yaxis\":{\"backgroundcolor\":\"#E5ECF6\",\"gridcolor\":\"white\",\"gridwidth\":2,\"linecolor\":\"white\",\"showbackground\":true,\"ticks\":\"\",\"zerolinecolor\":\"white\"},\"zaxis\":{\"backgroundcolor\":\"#E5ECF6\",\"gridcolor\":\"white\",\"gridwidth\":2,\"linecolor\":\"white\",\"showbackground\":true,\"ticks\":\"\",\"zerolinecolor\":\"white\"}},\"shapedefaults\":{\"line\":{\"color\":\"#2a3f5f\"}},\"ternary\":{\"aaxis\":{\"gridcolor\":\"white\",\"linecolor\":\"white\",\"ticks\":\"\"},\"baxis\":{\"gridcolor\":\"white\",\"linecolor\":\"white\",\"ticks\":\"\"},\"bgcolor\":\"#E5ECF6\",\"caxis\":{\"gridcolor\":\"white\",\"linecolor\":\"white\",\"ticks\":\"\"}},\"title\":{\"x\":0.05},\"xaxis\":{\"automargin\":true,\"gridcolor\":\"white\",\"linecolor\":\"white\",\"ticks\":\"\",\"title\":{\"standoff\":15},\"zerolinecolor\":\"white\",\"zerolinewidth\":2},\"yaxis\":{\"automargin\":true,\"gridcolor\":\"white\",\"linecolor\":\"white\",\"ticks\":\"\",\"title\":{\"standoff\":15},\"zerolinecolor\":\"white\",\"zerolinewidth\":2}}},\"title\":{\"font\":{\"color\":\"#4D5663\"}},\"xaxis\":{\"gridcolor\":\"#E1E5ED\",\"showgrid\":true,\"tickfont\":{\"color\":\"#4D5663\"},\"title\":{\"font\":{\"color\":\"#4D5663\"},\"text\":\"\"},\"zerolinecolor\":\"#E1E5ED\"},\"yaxis\":{\"gridcolor\":\"#E1E5ED\",\"showgrid\":true,\"tickfont\":{\"color\":\"#4D5663\"},\"title\":{\"font\":{\"color\":\"#4D5663\"},\"text\":\"\"},\"zerolinecolor\":\"#E1E5ED\"}},                        {\"showLink\": true, \"linkText\": \"Export to plot.ly\", \"plotlyServerURL\": \"https://plot.ly\", \"responsive\": true}                    ).then(function(){\n",
       "                            \n",
       "var gd = document.getElementById('3b1fd448-427a-4b1c-b2ee-4b91f72c6a97');\n",
       "var x = new MutationObserver(function (mutations, observer) {{\n",
       "        var display = window.getComputedStyle(gd).display;\n",
       "        if (!display || display === 'none') {{\n",
       "            console.log([gd, 'removed!']);\n",
       "            Plotly.purge(gd);\n",
       "            observer.disconnect();\n",
       "        }}\n",
       "}});\n",
       "\n",
       "// Listen for the removal of the full notebook cells\n",
       "var notebookContainer = gd.closest('#notebook-container');\n",
       "if (notebookContainer) {{\n",
       "    x.observe(notebookContainer, {childList: true});\n",
       "}}\n",
       "\n",
       "// Listen for the clearing of the current output cell\n",
       "var outputEl = gd.closest('.output');\n",
       "if (outputEl) {{\n",
       "    x.observe(outputEl, {childList: true});\n",
       "}}\n",
       "\n",
       "                        })                };                });            </script>        </div>"
      ]
     },
     "metadata": {},
     "output_type": "display_data"
    }
   ],
   "source": [
    "df3 = pd.DataFrame({'x':[1,2,3,4,5],'y':[10,20,30,20,10],'z':[5,4,3,2,1]})\n",
    "df3.iplot(kind='surface',colorscale='rdylbu')"
   ]
  },
  {
   "cell_type": "markdown",
   "metadata": {},
   "source": [
    "## Spread"
   ]
  },
  {
   "cell_type": "code",
   "execution_count": 30,
   "metadata": {},
   "outputs": [
    {
     "name": "stderr",
     "output_type": "stream",
     "text": [
      "C:\\Users\\Abhi\\anaconda3\\lib\\site-packages\\cufflinks\\plotlytools.py:849: FutureWarning:\n",
      "\n",
      "The pandas.np module is deprecated and will be removed from pandas in a future version. Import numpy directly instead\n",
      "\n",
      "C:\\Users\\Abhi\\anaconda3\\lib\\site-packages\\cufflinks\\plotlytools.py:850: FutureWarning:\n",
      "\n",
      "The pandas.np module is deprecated and will be removed from pandas in a future version. Import numpy directly instead\n",
      "\n"
     ]
    },
    {
     "data": {
      "application/vnd.plotly.v1+json": {
       "config": {
        "linkText": "Export to plot.ly",
        "plotlyServerURL": "https://plot.ly",
        "showLink": true
       },
       "data": [
        {
         "line": {
          "color": "rgba(255, 153, 51, 1.0)",
          "dash": "solid",
          "shape": "linear",
          "width": 1.3
         },
         "mode": "lines",
         "name": "A",
         "text": "",
         "type": "scatter",
         "x": [
          0,
          1,
          2,
          3,
          4,
          5,
          6,
          7,
          8,
          9,
          10,
          11,
          12,
          13,
          14,
          15,
          16,
          17,
          18,
          19,
          20,
          21,
          22,
          23,
          24,
          25,
          26,
          27,
          28,
          29,
          30,
          31,
          32,
          33,
          34,
          35,
          36,
          37,
          38,
          39,
          40,
          41,
          42,
          43,
          44,
          45,
          46,
          47,
          48,
          49,
          50,
          51,
          52,
          53,
          54,
          55,
          56,
          57,
          58,
          59,
          60,
          61,
          62,
          63,
          64,
          65,
          66,
          67,
          68,
          69,
          70,
          71,
          72,
          73,
          74,
          75,
          76,
          77,
          78,
          79,
          80,
          81,
          82,
          83,
          84,
          85,
          86,
          87,
          88,
          89,
          90,
          91,
          92,
          93,
          94,
          95,
          96,
          97,
          98,
          99
         ],
         "y": [
          -1.252614793086047,
          -0.05970334235749016,
          1.1861410783422972,
          -0.08761128715742864,
          0.07950640464429827,
          1.2280562668624604,
          -1.3278069263914265,
          -1.363119785987805,
          -1.1386232623492012,
          -0.8393437156317276,
          -0.4541080744300972,
          2.0343495796888282,
          -3.09049460215665,
          0.16073727481802083,
          -0.4197095473149091,
          -0.2387478469942015,
          -0.059737805366917265,
          0.637232411048166,
          -0.16098446078613787,
          -0.39044693665236124,
          -0.18335785148903647,
          -1.4665474154877824,
          -0.9467091070463365,
          -1.363086400891611,
          1.1419161233127382,
          -0.8990356765986693,
          -0.47877126318615904,
          -0.08723595655352805,
          0.28836519048925785,
          0.4535211994873111,
          0.6072750672172921,
          0.7920328635238127,
          0.9210688520723921,
          0.8431813681496602,
          0.14682019235661373,
          -1.1829671348247588,
          -1.0438065432704076,
          1.4143243674487795,
          0.709957119062226,
          -0.6850164620237267,
          -1.0010708187907489,
          -0.34860627566652763,
          1.9900831507298398,
          0.18725017639146913,
          -0.6255124774152,
          -1.6017317227276038,
          0.885042918633726,
          0.7428077103813263,
          -0.8924785069045459,
          -1.3308889418400802,
          3.003745396974862,
          0.3371032077767076,
          0.46679193086201903,
          0.36616511575153876,
          -0.416335845412642,
          1.5194644015341876,
          0.5211470076410264,
          -1.5036153475796188,
          -0.26626662937057033,
          0.6978691732337882,
          -0.09511084342263629,
          0.30075260301102774,
          0.03197028510486337,
          1.4282640809936629,
          0.33128440588935226,
          0.8760426680096519,
          -0.04282550929148523,
          -1.4869944424905852,
          1.1016632292962907,
          -1.432616353521275,
          1.5575716683045684,
          -0.3201993175852064,
          0.3085393750442976,
          -1.6767132815810286,
          -0.43613840129391807,
          0.5444947534040682,
          -0.9564608279120181,
          -1.2149259364052323,
          0.2619339163954011,
          1.1510318594062585,
          -1.4935781096730616,
          -1.5364588271684487,
          -0.2014536368998715,
          1.0317682182611458,
          -1.2008107718275032,
          0.6417163449601327,
          2.0525571724871856,
          0.4544224835172775,
          0.8604257046342394,
          0.024338875911690164,
          0.4034582647556379,
          -0.31260916146689444,
          0.020281310347106393,
          -0.29632252607525494,
          -0.3145363114608712,
          -0.5558389308669797,
          -0.08374887468313946,
          -0.1925649721641307,
          -0.37837314814356626,
          -1.004110983807644
         ]
        },
        {
         "line": {
          "color": "rgba(55, 128, 191, 1.0)",
          "dash": "solid",
          "shape": "linear",
          "width": 1.3
         },
         "mode": "lines",
         "name": "B",
         "text": "",
         "type": "scatter",
         "x": [
          0,
          1,
          2,
          3,
          4,
          5,
          6,
          7,
          8,
          9,
          10,
          11,
          12,
          13,
          14,
          15,
          16,
          17,
          18,
          19,
          20,
          21,
          22,
          23,
          24,
          25,
          26,
          27,
          28,
          29,
          30,
          31,
          32,
          33,
          34,
          35,
          36,
          37,
          38,
          39,
          40,
          41,
          42,
          43,
          44,
          45,
          46,
          47,
          48,
          49,
          50,
          51,
          52,
          53,
          54,
          55,
          56,
          57,
          58,
          59,
          60,
          61,
          62,
          63,
          64,
          65,
          66,
          67,
          68,
          69,
          70,
          71,
          72,
          73,
          74,
          75,
          76,
          77,
          78,
          79,
          80,
          81,
          82,
          83,
          84,
          85,
          86,
          87,
          88,
          89,
          90,
          91,
          92,
          93,
          94,
          95,
          96,
          97,
          98,
          99
         ],
         "y": [
          1.429907173744965,
          -0.3362692153993021,
          -0.22403939638327913,
          -0.1062523944097891,
          0.2474881419869791,
          -2.951570498412787,
          -1.3150465437708856,
          -0.09564344114602419,
          0.7924691287634381,
          -0.11059481319784327,
          -0.9574735207257397,
          -2.7741406899349563,
          -1.0816982566045203,
          -0.7050395721831006,
          -0.030415434382019057,
          -0.4233816135656058,
          1.13409136177349,
          -0.40242588625630915,
          -0.294198850624815,
          -0.10088674274843744,
          1.0390784149843242,
          0.5165220382316772,
          1.0292362169286038,
          -0.9443881069654166,
          -0.03415047970036683,
          -1.302863193040769,
          -1.8739862933198712,
          -0.14083809321526172,
          -1.027560506025851,
          -0.19154403604307874,
          1.188705505404244,
          0.8103271790333249,
          0.27403939984770914,
          -0.7969627075630051,
          1.1289182632483334,
          -1.6358823872587878,
          -0.6503428428357034,
          -0.6587248753403122,
          -0.8986836433415368,
          -1.2910519644339522,
          0.37456483954536046,
          -2.3331353592693427,
          -1.353315814768125,
          -1.6109918954270386,
          2.574398806434323,
          -0.7419382066961051,
          1.0111811133768143,
          0.8627681851633381,
          1.0684844064238004,
          0.9584140081934572,
          -1.2724226953088429,
          0.5623348949596787,
          0.21278803036445387,
          0.6362092764330177,
          -1.1507486672395217,
          0.480023659069112,
          -1.3364127200675031,
          0.8452624019906536,
          0.2509777094027647,
          0.20317230448967902,
          -2.5580200049648996,
          0.47164544114003987,
          0.13608375887967908,
          -1.3413832491890092,
          1.0794295284681177,
          0.03791755550436143,
          2.1927622697418774,
          1.7239478391164735,
          -0.8441975536242636,
          -0.555562737221605,
          0.8962983600870705,
          1.7163996644440285,
          0.3861053154127059,
          -0.5053146823691147,
          0.6629732990578995,
          1.7291436937887452,
          -0.19791142080973972,
          -0.17758994884436066,
          0.3835728374808757,
          0.1206356970118862,
          -0.5839764747918563,
          0.6562070488071372,
          0.79818803972454,
          -1.317059527577753,
          -0.36660244714059637,
          -0.07092316904929655,
          -1.9885058041209265,
          0.36046441628701004,
          -0.3787904255840291,
          0.40687581684755036,
          -0.9740597784537262,
          -0.5963017374604368,
          1.292358219538622,
          -0.678637329096281,
          -0.11217221669830485,
          -0.556064599371359,
          -1.2917102576840802,
          0.1961856894863246,
          1.8320554131446811,
          1.1361645082224023
         ]
        },
        {
         "connectgaps": false,
         "fill": "tozeroy",
         "line": {
          "color": "green",
          "dash": "solid",
          "shape": "linear",
          "width": 0.5
         },
         "mode": "lines",
         "name": "Spread",
         "showlegend": false,
         "type": "scatter",
         "x": [
          0,
          1,
          2,
          3,
          4,
          5,
          6,
          7,
          8,
          9,
          10,
          11,
          12,
          13,
          14,
          15,
          16,
          17,
          18,
          19,
          20,
          21,
          22,
          23,
          24,
          25,
          26,
          27,
          28,
          29,
          30,
          31,
          32,
          33,
          34,
          35,
          36,
          37,
          38,
          39,
          40,
          41,
          42,
          43,
          44,
          45,
          46,
          47,
          48,
          49,
          50,
          51,
          52,
          53,
          54,
          55,
          56,
          57,
          58,
          59,
          60,
          61,
          62,
          63,
          64,
          65,
          66,
          67,
          68,
          69,
          70,
          71,
          72,
          73,
          74,
          75,
          76,
          77,
          78,
          79,
          80,
          81,
          82,
          83,
          84,
          85,
          86,
          87,
          88,
          89,
          90,
          91,
          92,
          93,
          94,
          95,
          96,
          97,
          98,
          99
         ],
         "xaxis": "x2",
         "y": [
          "",
          0.27656587304181196,
          1.4101804747255764,
          0.01864110725236047,
          "",
          4.1796267652752475,
          "",
          "",
          "",
          "",
          0.5033654462956425,
          4.808490269623785,
          "",
          0.8657768470011215,
          "",
          0.18463376657140426,
          "",
          1.039658297304475,
          0.13321438983867712,
          "",
          "",
          "",
          "",
          "",
          1.176066603013105,
          0.4038275164420997,
          1.3952150301337123,
          0.053602136661733676,
          1.315925696515109,
          0.6450652355303899,
          "",
          "",
          0.6470294522246829,
          1.6401440757126653,
          "",
          0.45291525243402897,
          "",
          2.0730492427890916,
          1.6086407624037629,
          0.6060355024102255,
          "",
          1.984529083602815,
          3.343398965497965,
          1.7982420718185077,
          "",
          "",
          "",
          "",
          "",
          "",
          4.276168092283705,
          "",
          0.25400390049756516,
          "",
          0.7344128218268797,
          1.0394407424650756,
          1.8575597277085296,
          "",
          "",
          0.4946968687441091,
          2.4629091615422634,
          "",
          "",
          2.7696473301826723,
          "",
          0.8381251125052904,
          "",
          "",
          1.9458607829205543,
          "",
          0.6612733082174979,
          "",
          "",
          "",
          "",
          "",
          "",
          "",
          "",
          1.0303961623943723,
          "",
          "",
          "",
          2.348827745838899,
          "",
          0.7126395140094293,
          4.041062976608112,
          0.09395806723026745,
          1.2392161302182685,
          "",
          1.377518043209364,
          0.28369257599354236,
          "",
          0.3823148030210261,
          "",
          0.00022566850437932828,
          1.2079613830009408,
          "",
          "",
          ""
         ],
         "yaxis": "y2"
        },
        {
         "connectgaps": false,
         "fill": "tozeroy",
         "line": {
          "color": "red",
          "dash": "solid",
          "shape": "linear",
          "width": 0.5
         },
         "mode": "lines",
         "name": "Spread",
         "showlegend": false,
         "type": "scatter",
         "x": [
          0,
          1,
          2,
          3,
          4,
          5,
          6,
          7,
          8,
          9,
          10,
          11,
          12,
          13,
          14,
          15,
          16,
          17,
          18,
          19,
          20,
          21,
          22,
          23,
          24,
          25,
          26,
          27,
          28,
          29,
          30,
          31,
          32,
          33,
          34,
          35,
          36,
          37,
          38,
          39,
          40,
          41,
          42,
          43,
          44,
          45,
          46,
          47,
          48,
          49,
          50,
          51,
          52,
          53,
          54,
          55,
          56,
          57,
          58,
          59,
          60,
          61,
          62,
          63,
          64,
          65,
          66,
          67,
          68,
          69,
          70,
          71,
          72,
          73,
          74,
          75,
          76,
          77,
          78,
          79,
          80,
          81,
          82,
          83,
          84,
          85,
          86,
          87,
          88,
          89,
          90,
          91,
          92,
          93,
          94,
          95,
          96,
          97,
          98,
          99
         ],
         "xaxis": "x2",
         "y": [
          -2.682521966831012,
          "",
          "",
          "",
          -0.16798173734268085,
          "",
          -0.012760382620540911,
          -1.2674763448417807,
          -1.9310923911126392,
          -0.7287489024338843,
          "",
          "",
          -2.0087963455521294,
          "",
          -0.38929411293289007,
          "",
          -1.1938291671404073,
          "",
          "",
          -0.2895601939039238,
          -1.2224362664733606,
          -1.9830694537194598,
          -1.9759453239749403,
          -0.4186982939261944,
          "",
          "",
          "",
          "",
          "",
          "",
          -0.5814304381869518,
          -0.018294315509512105,
          "",
          "",
          -0.9820980708917197,
          "",
          -0.39346370043470413,
          "",
          "",
          "",
          -1.3756356583361093,
          "",
          "",
          "",
          -3.1999112838495227,
          -0.8597935160314987,
          -0.1261381947430883,
          -0.11996047478201177,
          -1.9609629133283462,
          -2.2893029500335373,
          "",
          -0.2252316871829711,
          "",
          -0.27004416068147896,
          "",
          "",
          "",
          -2.3488777495702724,
          -0.517244338773335,
          "",
          "",
          -0.17089283812901213,
          -0.10411347377481571,
          "",
          -0.7481451225787654,
          "",
          -2.2355877790333625,
          -3.2109422816070587,
          "",
          -0.87705361629967,
          "",
          -2.036598982029235,
          -0.07756594036840825,
          -1.1713985992119138,
          -1.0991117003518176,
          -1.184648940384677,
          -0.7585494071022785,
          -1.0373359875608716,
          -0.12163892108547458,
          "",
          -0.9096016348812053,
          -2.192665875975586,
          -0.9996416766244115,
          "",
          -0.8342083246869068,
          "",
          "",
          "",
          "",
          -0.3825369409358602,
          "",
          "",
          -1.2720769091915156,
          "",
          -0.20236409476256634,
          "",
          "",
          -0.3887506616504553,
          -2.2104285612882473,
          -2.1402754920300464
         ],
         "yaxis": "y2"
        }
       ],
       "layout": {
        "hovermode": "x",
        "legend": {
         "bgcolor": "#F5F6F9",
         "font": {
          "color": "#4D5663"
         }
        },
        "paper_bgcolor": "#F5F6F9",
        "plot_bgcolor": "#F5F6F9",
        "template": {
         "data": {
          "bar": [
           {
            "error_x": {
             "color": "#2a3f5f"
            },
            "error_y": {
             "color": "#2a3f5f"
            },
            "marker": {
             "line": {
              "color": "#E5ECF6",
              "width": 0.5
             },
             "pattern": {
              "fillmode": "overlay",
              "size": 10,
              "solidity": 0.2
             }
            },
            "type": "bar"
           }
          ],
          "barpolar": [
           {
            "marker": {
             "line": {
              "color": "#E5ECF6",
              "width": 0.5
             },
             "pattern": {
              "fillmode": "overlay",
              "size": 10,
              "solidity": 0.2
             }
            },
            "type": "barpolar"
           }
          ],
          "carpet": [
           {
            "aaxis": {
             "endlinecolor": "#2a3f5f",
             "gridcolor": "white",
             "linecolor": "white",
             "minorgridcolor": "white",
             "startlinecolor": "#2a3f5f"
            },
            "baxis": {
             "endlinecolor": "#2a3f5f",
             "gridcolor": "white",
             "linecolor": "white",
             "minorgridcolor": "white",
             "startlinecolor": "#2a3f5f"
            },
            "type": "carpet"
           }
          ],
          "choropleth": [
           {
            "colorbar": {
             "outlinewidth": 0,
             "ticks": ""
            },
            "type": "choropleth"
           }
          ],
          "contour": [
           {
            "colorbar": {
             "outlinewidth": 0,
             "ticks": ""
            },
            "colorscale": [
             [
              0,
              "#0d0887"
             ],
             [
              0.1111111111111111,
              "#46039f"
             ],
             [
              0.2222222222222222,
              "#7201a8"
             ],
             [
              0.3333333333333333,
              "#9c179e"
             ],
             [
              0.4444444444444444,
              "#bd3786"
             ],
             [
              0.5555555555555556,
              "#d8576b"
             ],
             [
              0.6666666666666666,
              "#ed7953"
             ],
             [
              0.7777777777777778,
              "#fb9f3a"
             ],
             [
              0.8888888888888888,
              "#fdca26"
             ],
             [
              1,
              "#f0f921"
             ]
            ],
            "type": "contour"
           }
          ],
          "contourcarpet": [
           {
            "colorbar": {
             "outlinewidth": 0,
             "ticks": ""
            },
            "type": "contourcarpet"
           }
          ],
          "heatmap": [
           {
            "colorbar": {
             "outlinewidth": 0,
             "ticks": ""
            },
            "colorscale": [
             [
              0,
              "#0d0887"
             ],
             [
              0.1111111111111111,
              "#46039f"
             ],
             [
              0.2222222222222222,
              "#7201a8"
             ],
             [
              0.3333333333333333,
              "#9c179e"
             ],
             [
              0.4444444444444444,
              "#bd3786"
             ],
             [
              0.5555555555555556,
              "#d8576b"
             ],
             [
              0.6666666666666666,
              "#ed7953"
             ],
             [
              0.7777777777777778,
              "#fb9f3a"
             ],
             [
              0.8888888888888888,
              "#fdca26"
             ],
             [
              1,
              "#f0f921"
             ]
            ],
            "type": "heatmap"
           }
          ],
          "heatmapgl": [
           {
            "colorbar": {
             "outlinewidth": 0,
             "ticks": ""
            },
            "colorscale": [
             [
              0,
              "#0d0887"
             ],
             [
              0.1111111111111111,
              "#46039f"
             ],
             [
              0.2222222222222222,
              "#7201a8"
             ],
             [
              0.3333333333333333,
              "#9c179e"
             ],
             [
              0.4444444444444444,
              "#bd3786"
             ],
             [
              0.5555555555555556,
              "#d8576b"
             ],
             [
              0.6666666666666666,
              "#ed7953"
             ],
             [
              0.7777777777777778,
              "#fb9f3a"
             ],
             [
              0.8888888888888888,
              "#fdca26"
             ],
             [
              1,
              "#f0f921"
             ]
            ],
            "type": "heatmapgl"
           }
          ],
          "histogram": [
           {
            "marker": {
             "pattern": {
              "fillmode": "overlay",
              "size": 10,
              "solidity": 0.2
             }
            },
            "type": "histogram"
           }
          ],
          "histogram2d": [
           {
            "colorbar": {
             "outlinewidth": 0,
             "ticks": ""
            },
            "colorscale": [
             [
              0,
              "#0d0887"
             ],
             [
              0.1111111111111111,
              "#46039f"
             ],
             [
              0.2222222222222222,
              "#7201a8"
             ],
             [
              0.3333333333333333,
              "#9c179e"
             ],
             [
              0.4444444444444444,
              "#bd3786"
             ],
             [
              0.5555555555555556,
              "#d8576b"
             ],
             [
              0.6666666666666666,
              "#ed7953"
             ],
             [
              0.7777777777777778,
              "#fb9f3a"
             ],
             [
              0.8888888888888888,
              "#fdca26"
             ],
             [
              1,
              "#f0f921"
             ]
            ],
            "type": "histogram2d"
           }
          ],
          "histogram2dcontour": [
           {
            "colorbar": {
             "outlinewidth": 0,
             "ticks": ""
            },
            "colorscale": [
             [
              0,
              "#0d0887"
             ],
             [
              0.1111111111111111,
              "#46039f"
             ],
             [
              0.2222222222222222,
              "#7201a8"
             ],
             [
              0.3333333333333333,
              "#9c179e"
             ],
             [
              0.4444444444444444,
              "#bd3786"
             ],
             [
              0.5555555555555556,
              "#d8576b"
             ],
             [
              0.6666666666666666,
              "#ed7953"
             ],
             [
              0.7777777777777778,
              "#fb9f3a"
             ],
             [
              0.8888888888888888,
              "#fdca26"
             ],
             [
              1,
              "#f0f921"
             ]
            ],
            "type": "histogram2dcontour"
           }
          ],
          "mesh3d": [
           {
            "colorbar": {
             "outlinewidth": 0,
             "ticks": ""
            },
            "type": "mesh3d"
           }
          ],
          "parcoords": [
           {
            "line": {
             "colorbar": {
              "outlinewidth": 0,
              "ticks": ""
             }
            },
            "type": "parcoords"
           }
          ],
          "pie": [
           {
            "automargin": true,
            "type": "pie"
           }
          ],
          "scatter": [
           {
            "marker": {
             "colorbar": {
              "outlinewidth": 0,
              "ticks": ""
             }
            },
            "type": "scatter"
           }
          ],
          "scatter3d": [
           {
            "line": {
             "colorbar": {
              "outlinewidth": 0,
              "ticks": ""
             }
            },
            "marker": {
             "colorbar": {
              "outlinewidth": 0,
              "ticks": ""
             }
            },
            "type": "scatter3d"
           }
          ],
          "scattercarpet": [
           {
            "marker": {
             "colorbar": {
              "outlinewidth": 0,
              "ticks": ""
             }
            },
            "type": "scattercarpet"
           }
          ],
          "scattergeo": [
           {
            "marker": {
             "colorbar": {
              "outlinewidth": 0,
              "ticks": ""
             }
            },
            "type": "scattergeo"
           }
          ],
          "scattergl": [
           {
            "marker": {
             "colorbar": {
              "outlinewidth": 0,
              "ticks": ""
             }
            },
            "type": "scattergl"
           }
          ],
          "scattermapbox": [
           {
            "marker": {
             "colorbar": {
              "outlinewidth": 0,
              "ticks": ""
             }
            },
            "type": "scattermapbox"
           }
          ],
          "scatterpolar": [
           {
            "marker": {
             "colorbar": {
              "outlinewidth": 0,
              "ticks": ""
             }
            },
            "type": "scatterpolar"
           }
          ],
          "scatterpolargl": [
           {
            "marker": {
             "colorbar": {
              "outlinewidth": 0,
              "ticks": ""
             }
            },
            "type": "scatterpolargl"
           }
          ],
          "scatterternary": [
           {
            "marker": {
             "colorbar": {
              "outlinewidth": 0,
              "ticks": ""
             }
            },
            "type": "scatterternary"
           }
          ],
          "surface": [
           {
            "colorbar": {
             "outlinewidth": 0,
             "ticks": ""
            },
            "colorscale": [
             [
              0,
              "#0d0887"
             ],
             [
              0.1111111111111111,
              "#46039f"
             ],
             [
              0.2222222222222222,
              "#7201a8"
             ],
             [
              0.3333333333333333,
              "#9c179e"
             ],
             [
              0.4444444444444444,
              "#bd3786"
             ],
             [
              0.5555555555555556,
              "#d8576b"
             ],
             [
              0.6666666666666666,
              "#ed7953"
             ],
             [
              0.7777777777777778,
              "#fb9f3a"
             ],
             [
              0.8888888888888888,
              "#fdca26"
             ],
             [
              1,
              "#f0f921"
             ]
            ],
            "type": "surface"
           }
          ],
          "table": [
           {
            "cells": {
             "fill": {
              "color": "#EBF0F8"
             },
             "line": {
              "color": "white"
             }
            },
            "header": {
             "fill": {
              "color": "#C8D4E3"
             },
             "line": {
              "color": "white"
             }
            },
            "type": "table"
           }
          ]
         },
         "layout": {
          "annotationdefaults": {
           "arrowcolor": "#2a3f5f",
           "arrowhead": 0,
           "arrowwidth": 1
          },
          "autotypenumbers": "strict",
          "coloraxis": {
           "colorbar": {
            "outlinewidth": 0,
            "ticks": ""
           }
          },
          "colorscale": {
           "diverging": [
            [
             0,
             "#8e0152"
            ],
            [
             0.1,
             "#c51b7d"
            ],
            [
             0.2,
             "#de77ae"
            ],
            [
             0.3,
             "#f1b6da"
            ],
            [
             0.4,
             "#fde0ef"
            ],
            [
             0.5,
             "#f7f7f7"
            ],
            [
             0.6,
             "#e6f5d0"
            ],
            [
             0.7,
             "#b8e186"
            ],
            [
             0.8,
             "#7fbc41"
            ],
            [
             0.9,
             "#4d9221"
            ],
            [
             1,
             "#276419"
            ]
           ],
           "sequential": [
            [
             0,
             "#0d0887"
            ],
            [
             0.1111111111111111,
             "#46039f"
            ],
            [
             0.2222222222222222,
             "#7201a8"
            ],
            [
             0.3333333333333333,
             "#9c179e"
            ],
            [
             0.4444444444444444,
             "#bd3786"
            ],
            [
             0.5555555555555556,
             "#d8576b"
            ],
            [
             0.6666666666666666,
             "#ed7953"
            ],
            [
             0.7777777777777778,
             "#fb9f3a"
            ],
            [
             0.8888888888888888,
             "#fdca26"
            ],
            [
             1,
             "#f0f921"
            ]
           ],
           "sequentialminus": [
            [
             0,
             "#0d0887"
            ],
            [
             0.1111111111111111,
             "#46039f"
            ],
            [
             0.2222222222222222,
             "#7201a8"
            ],
            [
             0.3333333333333333,
             "#9c179e"
            ],
            [
             0.4444444444444444,
             "#bd3786"
            ],
            [
             0.5555555555555556,
             "#d8576b"
            ],
            [
             0.6666666666666666,
             "#ed7953"
            ],
            [
             0.7777777777777778,
             "#fb9f3a"
            ],
            [
             0.8888888888888888,
             "#fdca26"
            ],
            [
             1,
             "#f0f921"
            ]
           ]
          },
          "colorway": [
           "#636efa",
           "#EF553B",
           "#00cc96",
           "#ab63fa",
           "#FFA15A",
           "#19d3f3",
           "#FF6692",
           "#B6E880",
           "#FF97FF",
           "#FECB52"
          ],
          "font": {
           "color": "#2a3f5f"
          },
          "geo": {
           "bgcolor": "white",
           "lakecolor": "white",
           "landcolor": "#E5ECF6",
           "showlakes": true,
           "showland": true,
           "subunitcolor": "white"
          },
          "hoverlabel": {
           "align": "left"
          },
          "hovermode": "closest",
          "mapbox": {
           "style": "light"
          },
          "paper_bgcolor": "white",
          "plot_bgcolor": "#E5ECF6",
          "polar": {
           "angularaxis": {
            "gridcolor": "white",
            "linecolor": "white",
            "ticks": ""
           },
           "bgcolor": "#E5ECF6",
           "radialaxis": {
            "gridcolor": "white",
            "linecolor": "white",
            "ticks": ""
           }
          },
          "scene": {
           "xaxis": {
            "backgroundcolor": "#E5ECF6",
            "gridcolor": "white",
            "gridwidth": 2,
            "linecolor": "white",
            "showbackground": true,
            "ticks": "",
            "zerolinecolor": "white"
           },
           "yaxis": {
            "backgroundcolor": "#E5ECF6",
            "gridcolor": "white",
            "gridwidth": 2,
            "linecolor": "white",
            "showbackground": true,
            "ticks": "",
            "zerolinecolor": "white"
           },
           "zaxis": {
            "backgroundcolor": "#E5ECF6",
            "gridcolor": "white",
            "gridwidth": 2,
            "linecolor": "white",
            "showbackground": true,
            "ticks": "",
            "zerolinecolor": "white"
           }
          },
          "shapedefaults": {
           "line": {
            "color": "#2a3f5f"
           }
          },
          "ternary": {
           "aaxis": {
            "gridcolor": "white",
            "linecolor": "white",
            "ticks": ""
           },
           "baxis": {
            "gridcolor": "white",
            "linecolor": "white",
            "ticks": ""
           },
           "bgcolor": "#E5ECF6",
           "caxis": {
            "gridcolor": "white",
            "linecolor": "white",
            "ticks": ""
           }
          },
          "title": {
           "x": 0.05
          },
          "xaxis": {
           "automargin": true,
           "gridcolor": "white",
           "linecolor": "white",
           "ticks": "",
           "title": {
            "standoff": 15
           },
           "zerolinecolor": "white",
           "zerolinewidth": 2
          },
          "yaxis": {
           "automargin": true,
           "gridcolor": "white",
           "linecolor": "white",
           "ticks": "",
           "title": {
            "standoff": 15
           },
           "zerolinecolor": "white",
           "zerolinewidth": 2
          }
         }
        },
        "title": {
         "font": {
          "color": "#4D5663"
         }
        },
        "xaxis": {
         "gridcolor": "#E1E5ED",
         "showgrid": true,
         "tickfont": {
          "color": "#4D5663"
         },
         "title": {
          "font": {
           "color": "#4D5663"
          },
          "text": ""
         },
         "zerolinecolor": "#E1E5ED"
        },
        "xaxis2": {
         "anchor": "y2",
         "gridcolor": "#E1E5ED",
         "showgrid": true,
         "showticklabels": false,
         "tickfont": {
          "color": "#4D5663"
         },
         "title": {
          "font": {
           "color": "#4D5663"
          },
          "text": ""
         },
         "zerolinecolor": "#E1E5ED"
        },
        "yaxis": {
         "domain": [
          0.3,
          1
         ],
         "gridcolor": "#E1E5ED",
         "showgrid": true,
         "tickfont": {
          "color": "#4D5663"
         },
         "title": {
          "font": {
           "color": "#4D5663"
          },
          "text": ""
         },
         "zerolinecolor": "#E1E5ED"
        },
        "yaxis2": {
         "domain": [
          0,
          0.25
         ],
         "gridcolor": "#E1E5ED",
         "showgrid": true,
         "tickfont": {
          "color": "#4D5663"
         },
         "title": {
          "font": {
           "color": "#4D5663"
          },
          "text": "Spread"
         },
         "zerolinecolor": "#E1E5ED"
        }
       }
      },
      "text/html": [
       "<div>                            <div id=\"db45f3f2-3e1f-45af-8301-5cd6996623fb\" class=\"plotly-graph-div\" style=\"height:525px; width:100%;\"></div>            <script type=\"text/javascript\">                require([\"plotly\"], function(Plotly) {                    window.PLOTLYENV=window.PLOTLYENV || {};\n",
       "                    window.PLOTLYENV.BASE_URL='https://plot.ly';                                    if (document.getElementById(\"db45f3f2-3e1f-45af-8301-5cd6996623fb\")) {                    Plotly.newPlot(                        \"db45f3f2-3e1f-45af-8301-5cd6996623fb\",                        [{\"line\":{\"color\":\"rgba(255, 153, 51, 1.0)\",\"dash\":\"solid\",\"shape\":\"linear\",\"width\":1.3},\"mode\":\"lines\",\"name\":\"A\",\"text\":\"\",\"type\":\"scatter\",\"x\":[0,1,2,3,4,5,6,7,8,9,10,11,12,13,14,15,16,17,18,19,20,21,22,23,24,25,26,27,28,29,30,31,32,33,34,35,36,37,38,39,40,41,42,43,44,45,46,47,48,49,50,51,52,53,54,55,56,57,58,59,60,61,62,63,64,65,66,67,68,69,70,71,72,73,74,75,76,77,78,79,80,81,82,83,84,85,86,87,88,89,90,91,92,93,94,95,96,97,98,99],\"y\":[-1.252614793086047,-0.05970334235749016,1.1861410783422972,-0.08761128715742864,0.07950640464429827,1.2280562668624604,-1.3278069263914265,-1.363119785987805,-1.1386232623492012,-0.8393437156317276,-0.4541080744300972,2.0343495796888282,-3.09049460215665,0.16073727481802083,-0.4197095473149091,-0.2387478469942015,-0.059737805366917265,0.637232411048166,-0.16098446078613787,-0.39044693665236124,-0.18335785148903647,-1.4665474154877824,-0.9467091070463365,-1.363086400891611,1.1419161233127382,-0.8990356765986693,-0.47877126318615904,-0.08723595655352805,0.28836519048925785,0.4535211994873111,0.6072750672172921,0.7920328635238127,0.9210688520723921,0.8431813681496602,0.14682019235661373,-1.1829671348247588,-1.0438065432704076,1.4143243674487795,0.709957119062226,-0.6850164620237267,-1.0010708187907489,-0.34860627566652763,1.9900831507298398,0.18725017639146913,-0.6255124774152,-1.6017317227276038,0.885042918633726,0.7428077103813263,-0.8924785069045459,-1.3308889418400802,3.003745396974862,0.3371032077767076,0.46679193086201903,0.36616511575153876,-0.416335845412642,1.5194644015341876,0.5211470076410264,-1.5036153475796188,-0.26626662937057033,0.6978691732337882,-0.09511084342263629,0.30075260301102774,0.03197028510486337,1.4282640809936629,0.33128440588935226,0.8760426680096519,-0.04282550929148523,-1.4869944424905852,1.1016632292962907,-1.432616353521275,1.5575716683045684,-0.3201993175852064,0.3085393750442976,-1.6767132815810286,-0.43613840129391807,0.5444947534040682,-0.9564608279120181,-1.2149259364052323,0.2619339163954011,1.1510318594062585,-1.4935781096730616,-1.5364588271684487,-0.2014536368998715,1.0317682182611458,-1.2008107718275032,0.6417163449601327,2.0525571724871856,0.4544224835172775,0.8604257046342394,0.024338875911690164,0.4034582647556379,-0.31260916146689444,0.020281310347106393,-0.29632252607525494,-0.3145363114608712,-0.5558389308669797,-0.08374887468313946,-0.1925649721641307,-0.37837314814356626,-1.004110983807644]},{\"line\":{\"color\":\"rgba(55, 128, 191, 1.0)\",\"dash\":\"solid\",\"shape\":\"linear\",\"width\":1.3},\"mode\":\"lines\",\"name\":\"B\",\"text\":\"\",\"type\":\"scatter\",\"x\":[0,1,2,3,4,5,6,7,8,9,10,11,12,13,14,15,16,17,18,19,20,21,22,23,24,25,26,27,28,29,30,31,32,33,34,35,36,37,38,39,40,41,42,43,44,45,46,47,48,49,50,51,52,53,54,55,56,57,58,59,60,61,62,63,64,65,66,67,68,69,70,71,72,73,74,75,76,77,78,79,80,81,82,83,84,85,86,87,88,89,90,91,92,93,94,95,96,97,98,99],\"y\":[1.429907173744965,-0.3362692153993021,-0.22403939638327913,-0.1062523944097891,0.2474881419869791,-2.951570498412787,-1.3150465437708856,-0.09564344114602419,0.7924691287634381,-0.11059481319784327,-0.9574735207257397,-2.7741406899349563,-1.0816982566045203,-0.7050395721831006,-0.030415434382019057,-0.4233816135656058,1.13409136177349,-0.40242588625630915,-0.294198850624815,-0.10088674274843744,1.0390784149843242,0.5165220382316772,1.0292362169286038,-0.9443881069654166,-0.03415047970036683,-1.302863193040769,-1.8739862933198712,-0.14083809321526172,-1.027560506025851,-0.19154403604307874,1.188705505404244,0.8103271790333249,0.27403939984770914,-0.7969627075630051,1.1289182632483334,-1.6358823872587878,-0.6503428428357034,-0.6587248753403122,-0.8986836433415368,-1.2910519644339522,0.37456483954536046,-2.3331353592693427,-1.353315814768125,-1.6109918954270386,2.574398806434323,-0.7419382066961051,1.0111811133768143,0.8627681851633381,1.0684844064238004,0.9584140081934572,-1.2724226953088429,0.5623348949596787,0.21278803036445387,0.6362092764330177,-1.1507486672395217,0.480023659069112,-1.3364127200675031,0.8452624019906536,0.2509777094027647,0.20317230448967902,-2.5580200049648996,0.47164544114003987,0.13608375887967908,-1.3413832491890092,1.0794295284681177,0.03791755550436143,2.1927622697418774,1.7239478391164735,-0.8441975536242636,-0.555562737221605,0.8962983600870705,1.7163996644440285,0.3861053154127059,-0.5053146823691147,0.6629732990578995,1.7291436937887452,-0.19791142080973972,-0.17758994884436066,0.3835728374808757,0.1206356970118862,-0.5839764747918563,0.6562070488071372,0.79818803972454,-1.317059527577753,-0.36660244714059637,-0.07092316904929655,-1.9885058041209265,0.36046441628701004,-0.3787904255840291,0.40687581684755036,-0.9740597784537262,-0.5963017374604368,1.292358219538622,-0.678637329096281,-0.11217221669830485,-0.556064599371359,-1.2917102576840802,0.1961856894863246,1.8320554131446811,1.1361645082224023]},{\"connectgaps\":false,\"fill\":\"tozeroy\",\"line\":{\"color\":\"green\",\"dash\":\"solid\",\"shape\":\"linear\",\"width\":0.5},\"mode\":\"lines\",\"name\":\"Spread\",\"showlegend\":false,\"type\":\"scatter\",\"x\":[0,1,2,3,4,5,6,7,8,9,10,11,12,13,14,15,16,17,18,19,20,21,22,23,24,25,26,27,28,29,30,31,32,33,34,35,36,37,38,39,40,41,42,43,44,45,46,47,48,49,50,51,52,53,54,55,56,57,58,59,60,61,62,63,64,65,66,67,68,69,70,71,72,73,74,75,76,77,78,79,80,81,82,83,84,85,86,87,88,89,90,91,92,93,94,95,96,97,98,99],\"xaxis\":\"x2\",\"y\":[\"\",0.27656587304181196,1.4101804747255764,0.01864110725236047,\"\",4.1796267652752475,\"\",\"\",\"\",\"\",0.5033654462956425,4.808490269623785,\"\",0.8657768470011215,\"\",0.18463376657140426,\"\",1.039658297304475,0.13321438983867712,\"\",\"\",\"\",\"\",\"\",1.176066603013105,0.4038275164420997,1.3952150301337123,0.053602136661733676,1.315925696515109,0.6450652355303899,\"\",\"\",0.6470294522246829,1.6401440757126653,\"\",0.45291525243402897,\"\",2.0730492427890916,1.6086407624037629,0.6060355024102255,\"\",1.984529083602815,3.343398965497965,1.7982420718185077,\"\",\"\",\"\",\"\",\"\",\"\",4.276168092283705,\"\",0.25400390049756516,\"\",0.7344128218268797,1.0394407424650756,1.8575597277085296,\"\",\"\",0.4946968687441091,2.4629091615422634,\"\",\"\",2.7696473301826723,\"\",0.8381251125052904,\"\",\"\",1.9458607829205543,\"\",0.6612733082174979,\"\",\"\",\"\",\"\",\"\",\"\",\"\",\"\",1.0303961623943723,\"\",\"\",\"\",2.348827745838899,\"\",0.7126395140094293,4.041062976608112,0.09395806723026745,1.2392161302182685,\"\",1.377518043209364,0.28369257599354236,\"\",0.3823148030210261,\"\",0.00022566850437932828,1.2079613830009408,\"\",\"\",\"\"],\"yaxis\":\"y2\"},{\"connectgaps\":false,\"fill\":\"tozeroy\",\"line\":{\"color\":\"red\",\"dash\":\"solid\",\"shape\":\"linear\",\"width\":0.5},\"mode\":\"lines\",\"name\":\"Spread\",\"showlegend\":false,\"type\":\"scatter\",\"x\":[0,1,2,3,4,5,6,7,8,9,10,11,12,13,14,15,16,17,18,19,20,21,22,23,24,25,26,27,28,29,30,31,32,33,34,35,36,37,38,39,40,41,42,43,44,45,46,47,48,49,50,51,52,53,54,55,56,57,58,59,60,61,62,63,64,65,66,67,68,69,70,71,72,73,74,75,76,77,78,79,80,81,82,83,84,85,86,87,88,89,90,91,92,93,94,95,96,97,98,99],\"xaxis\":\"x2\",\"y\":[-2.682521966831012,\"\",\"\",\"\",-0.16798173734268085,\"\",-0.012760382620540911,-1.2674763448417807,-1.9310923911126392,-0.7287489024338843,\"\",\"\",-2.0087963455521294,\"\",-0.38929411293289007,\"\",-1.1938291671404073,\"\",\"\",-0.2895601939039238,-1.2224362664733606,-1.9830694537194598,-1.9759453239749403,-0.4186982939261944,\"\",\"\",\"\",\"\",\"\",\"\",-0.5814304381869518,-0.018294315509512105,\"\",\"\",-0.9820980708917197,\"\",-0.39346370043470413,\"\",\"\",\"\",-1.3756356583361093,\"\",\"\",\"\",-3.1999112838495227,-0.8597935160314987,-0.1261381947430883,-0.11996047478201177,-1.9609629133283462,-2.2893029500335373,\"\",-0.2252316871829711,\"\",-0.27004416068147896,\"\",\"\",\"\",-2.3488777495702724,-0.517244338773335,\"\",\"\",-0.17089283812901213,-0.10411347377481571,\"\",-0.7481451225787654,\"\",-2.2355877790333625,-3.2109422816070587,\"\",-0.87705361629967,\"\",-2.036598982029235,-0.07756594036840825,-1.1713985992119138,-1.0991117003518176,-1.184648940384677,-0.7585494071022785,-1.0373359875608716,-0.12163892108547458,\"\",-0.9096016348812053,-2.192665875975586,-0.9996416766244115,\"\",-0.8342083246869068,\"\",\"\",\"\",\"\",-0.3825369409358602,\"\",\"\",-1.2720769091915156,\"\",-0.20236409476256634,\"\",\"\",-0.3887506616504553,-2.2104285612882473,-2.1402754920300464],\"yaxis\":\"y2\"}],                        {\"hovermode\":\"x\",\"legend\":{\"bgcolor\":\"#F5F6F9\",\"font\":{\"color\":\"#4D5663\"}},\"paper_bgcolor\":\"#F5F6F9\",\"plot_bgcolor\":\"#F5F6F9\",\"template\":{\"data\":{\"bar\":[{\"error_x\":{\"color\":\"#2a3f5f\"},\"error_y\":{\"color\":\"#2a3f5f\"},\"marker\":{\"line\":{\"color\":\"#E5ECF6\",\"width\":0.5},\"pattern\":{\"fillmode\":\"overlay\",\"size\":10,\"solidity\":0.2}},\"type\":\"bar\"}],\"barpolar\":[{\"marker\":{\"line\":{\"color\":\"#E5ECF6\",\"width\":0.5},\"pattern\":{\"fillmode\":\"overlay\",\"size\":10,\"solidity\":0.2}},\"type\":\"barpolar\"}],\"carpet\":[{\"aaxis\":{\"endlinecolor\":\"#2a3f5f\",\"gridcolor\":\"white\",\"linecolor\":\"white\",\"minorgridcolor\":\"white\",\"startlinecolor\":\"#2a3f5f\"},\"baxis\":{\"endlinecolor\":\"#2a3f5f\",\"gridcolor\":\"white\",\"linecolor\":\"white\",\"minorgridcolor\":\"white\",\"startlinecolor\":\"#2a3f5f\"},\"type\":\"carpet\"}],\"choropleth\":[{\"colorbar\":{\"outlinewidth\":0,\"ticks\":\"\"},\"type\":\"choropleth\"}],\"contour\":[{\"colorbar\":{\"outlinewidth\":0,\"ticks\":\"\"},\"colorscale\":[[0.0,\"#0d0887\"],[0.1111111111111111,\"#46039f\"],[0.2222222222222222,\"#7201a8\"],[0.3333333333333333,\"#9c179e\"],[0.4444444444444444,\"#bd3786\"],[0.5555555555555556,\"#d8576b\"],[0.6666666666666666,\"#ed7953\"],[0.7777777777777778,\"#fb9f3a\"],[0.8888888888888888,\"#fdca26\"],[1.0,\"#f0f921\"]],\"type\":\"contour\"}],\"contourcarpet\":[{\"colorbar\":{\"outlinewidth\":0,\"ticks\":\"\"},\"type\":\"contourcarpet\"}],\"heatmap\":[{\"colorbar\":{\"outlinewidth\":0,\"ticks\":\"\"},\"colorscale\":[[0.0,\"#0d0887\"],[0.1111111111111111,\"#46039f\"],[0.2222222222222222,\"#7201a8\"],[0.3333333333333333,\"#9c179e\"],[0.4444444444444444,\"#bd3786\"],[0.5555555555555556,\"#d8576b\"],[0.6666666666666666,\"#ed7953\"],[0.7777777777777778,\"#fb9f3a\"],[0.8888888888888888,\"#fdca26\"],[1.0,\"#f0f921\"]],\"type\":\"heatmap\"}],\"heatmapgl\":[{\"colorbar\":{\"outlinewidth\":0,\"ticks\":\"\"},\"colorscale\":[[0.0,\"#0d0887\"],[0.1111111111111111,\"#46039f\"],[0.2222222222222222,\"#7201a8\"],[0.3333333333333333,\"#9c179e\"],[0.4444444444444444,\"#bd3786\"],[0.5555555555555556,\"#d8576b\"],[0.6666666666666666,\"#ed7953\"],[0.7777777777777778,\"#fb9f3a\"],[0.8888888888888888,\"#fdca26\"],[1.0,\"#f0f921\"]],\"type\":\"heatmapgl\"}],\"histogram\":[{\"marker\":{\"pattern\":{\"fillmode\":\"overlay\",\"size\":10,\"solidity\":0.2}},\"type\":\"histogram\"}],\"histogram2d\":[{\"colorbar\":{\"outlinewidth\":0,\"ticks\":\"\"},\"colorscale\":[[0.0,\"#0d0887\"],[0.1111111111111111,\"#46039f\"],[0.2222222222222222,\"#7201a8\"],[0.3333333333333333,\"#9c179e\"],[0.4444444444444444,\"#bd3786\"],[0.5555555555555556,\"#d8576b\"],[0.6666666666666666,\"#ed7953\"],[0.7777777777777778,\"#fb9f3a\"],[0.8888888888888888,\"#fdca26\"],[1.0,\"#f0f921\"]],\"type\":\"histogram2d\"}],\"histogram2dcontour\":[{\"colorbar\":{\"outlinewidth\":0,\"ticks\":\"\"},\"colorscale\":[[0.0,\"#0d0887\"],[0.1111111111111111,\"#46039f\"],[0.2222222222222222,\"#7201a8\"],[0.3333333333333333,\"#9c179e\"],[0.4444444444444444,\"#bd3786\"],[0.5555555555555556,\"#d8576b\"],[0.6666666666666666,\"#ed7953\"],[0.7777777777777778,\"#fb9f3a\"],[0.8888888888888888,\"#fdca26\"],[1.0,\"#f0f921\"]],\"type\":\"histogram2dcontour\"}],\"mesh3d\":[{\"colorbar\":{\"outlinewidth\":0,\"ticks\":\"\"},\"type\":\"mesh3d\"}],\"parcoords\":[{\"line\":{\"colorbar\":{\"outlinewidth\":0,\"ticks\":\"\"}},\"type\":\"parcoords\"}],\"pie\":[{\"automargin\":true,\"type\":\"pie\"}],\"scatter\":[{\"marker\":{\"colorbar\":{\"outlinewidth\":0,\"ticks\":\"\"}},\"type\":\"scatter\"}],\"scatter3d\":[{\"line\":{\"colorbar\":{\"outlinewidth\":0,\"ticks\":\"\"}},\"marker\":{\"colorbar\":{\"outlinewidth\":0,\"ticks\":\"\"}},\"type\":\"scatter3d\"}],\"scattercarpet\":[{\"marker\":{\"colorbar\":{\"outlinewidth\":0,\"ticks\":\"\"}},\"type\":\"scattercarpet\"}],\"scattergeo\":[{\"marker\":{\"colorbar\":{\"outlinewidth\":0,\"ticks\":\"\"}},\"type\":\"scattergeo\"}],\"scattergl\":[{\"marker\":{\"colorbar\":{\"outlinewidth\":0,\"ticks\":\"\"}},\"type\":\"scattergl\"}],\"scattermapbox\":[{\"marker\":{\"colorbar\":{\"outlinewidth\":0,\"ticks\":\"\"}},\"type\":\"scattermapbox\"}],\"scatterpolar\":[{\"marker\":{\"colorbar\":{\"outlinewidth\":0,\"ticks\":\"\"}},\"type\":\"scatterpolar\"}],\"scatterpolargl\":[{\"marker\":{\"colorbar\":{\"outlinewidth\":0,\"ticks\":\"\"}},\"type\":\"scatterpolargl\"}],\"scatterternary\":[{\"marker\":{\"colorbar\":{\"outlinewidth\":0,\"ticks\":\"\"}},\"type\":\"scatterternary\"}],\"surface\":[{\"colorbar\":{\"outlinewidth\":0,\"ticks\":\"\"},\"colorscale\":[[0.0,\"#0d0887\"],[0.1111111111111111,\"#46039f\"],[0.2222222222222222,\"#7201a8\"],[0.3333333333333333,\"#9c179e\"],[0.4444444444444444,\"#bd3786\"],[0.5555555555555556,\"#d8576b\"],[0.6666666666666666,\"#ed7953\"],[0.7777777777777778,\"#fb9f3a\"],[0.8888888888888888,\"#fdca26\"],[1.0,\"#f0f921\"]],\"type\":\"surface\"}],\"table\":[{\"cells\":{\"fill\":{\"color\":\"#EBF0F8\"},\"line\":{\"color\":\"white\"}},\"header\":{\"fill\":{\"color\":\"#C8D4E3\"},\"line\":{\"color\":\"white\"}},\"type\":\"table\"}]},\"layout\":{\"annotationdefaults\":{\"arrowcolor\":\"#2a3f5f\",\"arrowhead\":0,\"arrowwidth\":1},\"autotypenumbers\":\"strict\",\"coloraxis\":{\"colorbar\":{\"outlinewidth\":0,\"ticks\":\"\"}},\"colorscale\":{\"diverging\":[[0,\"#8e0152\"],[0.1,\"#c51b7d\"],[0.2,\"#de77ae\"],[0.3,\"#f1b6da\"],[0.4,\"#fde0ef\"],[0.5,\"#f7f7f7\"],[0.6,\"#e6f5d0\"],[0.7,\"#b8e186\"],[0.8,\"#7fbc41\"],[0.9,\"#4d9221\"],[1,\"#276419\"]],\"sequential\":[[0.0,\"#0d0887\"],[0.1111111111111111,\"#46039f\"],[0.2222222222222222,\"#7201a8\"],[0.3333333333333333,\"#9c179e\"],[0.4444444444444444,\"#bd3786\"],[0.5555555555555556,\"#d8576b\"],[0.6666666666666666,\"#ed7953\"],[0.7777777777777778,\"#fb9f3a\"],[0.8888888888888888,\"#fdca26\"],[1.0,\"#f0f921\"]],\"sequentialminus\":[[0.0,\"#0d0887\"],[0.1111111111111111,\"#46039f\"],[0.2222222222222222,\"#7201a8\"],[0.3333333333333333,\"#9c179e\"],[0.4444444444444444,\"#bd3786\"],[0.5555555555555556,\"#d8576b\"],[0.6666666666666666,\"#ed7953\"],[0.7777777777777778,\"#fb9f3a\"],[0.8888888888888888,\"#fdca26\"],[1.0,\"#f0f921\"]]},\"colorway\":[\"#636efa\",\"#EF553B\",\"#00cc96\",\"#ab63fa\",\"#FFA15A\",\"#19d3f3\",\"#FF6692\",\"#B6E880\",\"#FF97FF\",\"#FECB52\"],\"font\":{\"color\":\"#2a3f5f\"},\"geo\":{\"bgcolor\":\"white\",\"lakecolor\":\"white\",\"landcolor\":\"#E5ECF6\",\"showlakes\":true,\"showland\":true,\"subunitcolor\":\"white\"},\"hoverlabel\":{\"align\":\"left\"},\"hovermode\":\"closest\",\"mapbox\":{\"style\":\"light\"},\"paper_bgcolor\":\"white\",\"plot_bgcolor\":\"#E5ECF6\",\"polar\":{\"angularaxis\":{\"gridcolor\":\"white\",\"linecolor\":\"white\",\"ticks\":\"\"},\"bgcolor\":\"#E5ECF6\",\"radialaxis\":{\"gridcolor\":\"white\",\"linecolor\":\"white\",\"ticks\":\"\"}},\"scene\":{\"xaxis\":{\"backgroundcolor\":\"#E5ECF6\",\"gridcolor\":\"white\",\"gridwidth\":2,\"linecolor\":\"white\",\"showbackground\":true,\"ticks\":\"\",\"zerolinecolor\":\"white\"},\"yaxis\":{\"backgroundcolor\":\"#E5ECF6\",\"gridcolor\":\"white\",\"gridwidth\":2,\"linecolor\":\"white\",\"showbackground\":true,\"ticks\":\"\",\"zerolinecolor\":\"white\"},\"zaxis\":{\"backgroundcolor\":\"#E5ECF6\",\"gridcolor\":\"white\",\"gridwidth\":2,\"linecolor\":\"white\",\"showbackground\":true,\"ticks\":\"\",\"zerolinecolor\":\"white\"}},\"shapedefaults\":{\"line\":{\"color\":\"#2a3f5f\"}},\"ternary\":{\"aaxis\":{\"gridcolor\":\"white\",\"linecolor\":\"white\",\"ticks\":\"\"},\"baxis\":{\"gridcolor\":\"white\",\"linecolor\":\"white\",\"ticks\":\"\"},\"bgcolor\":\"#E5ECF6\",\"caxis\":{\"gridcolor\":\"white\",\"linecolor\":\"white\",\"ticks\":\"\"}},\"title\":{\"x\":0.05},\"xaxis\":{\"automargin\":true,\"gridcolor\":\"white\",\"linecolor\":\"white\",\"ticks\":\"\",\"title\":{\"standoff\":15},\"zerolinecolor\":\"white\",\"zerolinewidth\":2},\"yaxis\":{\"automargin\":true,\"gridcolor\":\"white\",\"linecolor\":\"white\",\"ticks\":\"\",\"title\":{\"standoff\":15},\"zerolinecolor\":\"white\",\"zerolinewidth\":2}}},\"title\":{\"font\":{\"color\":\"#4D5663\"}},\"xaxis\":{\"gridcolor\":\"#E1E5ED\",\"showgrid\":true,\"tickfont\":{\"color\":\"#4D5663\"},\"title\":{\"font\":{\"color\":\"#4D5663\"},\"text\":\"\"},\"zerolinecolor\":\"#E1E5ED\"},\"xaxis2\":{\"anchor\":\"y2\",\"gridcolor\":\"#E1E5ED\",\"showgrid\":true,\"showticklabels\":false,\"tickfont\":{\"color\":\"#4D5663\"},\"title\":{\"font\":{\"color\":\"#4D5663\"},\"text\":\"\"},\"zerolinecolor\":\"#E1E5ED\"},\"yaxis\":{\"domain\":[0.3,1],\"gridcolor\":\"#E1E5ED\",\"showgrid\":true,\"tickfont\":{\"color\":\"#4D5663\"},\"title\":{\"font\":{\"color\":\"#4D5663\"},\"text\":\"\"},\"zerolinecolor\":\"#E1E5ED\"},\"yaxis2\":{\"domain\":[0,0.25],\"gridcolor\":\"#E1E5ED\",\"showgrid\":true,\"tickfont\":{\"color\":\"#4D5663\"},\"title\":{\"font\":{\"color\":\"#4D5663\"},\"text\":\"Spread\"},\"zerolinecolor\":\"#E1E5ED\"}},                        {\"showLink\": true, \"linkText\": \"Export to plot.ly\", \"plotlyServerURL\": \"https://plot.ly\", \"responsive\": true}                    ).then(function(){\n",
       "                            \n",
       "var gd = document.getElementById('db45f3f2-3e1f-45af-8301-5cd6996623fb');\n",
       "var x = new MutationObserver(function (mutations, observer) {{\n",
       "        var display = window.getComputedStyle(gd).display;\n",
       "        if (!display || display === 'none') {{\n",
       "            console.log([gd, 'removed!']);\n",
       "            Plotly.purge(gd);\n",
       "            observer.disconnect();\n",
       "        }}\n",
       "}});\n",
       "\n",
       "// Listen for the removal of the full notebook cells\n",
       "var notebookContainer = gd.closest('#notebook-container');\n",
       "if (notebookContainer) {{\n",
       "    x.observe(notebookContainer, {childList: true});\n",
       "}}\n",
       "\n",
       "// Listen for the clearing of the current output cell\n",
       "var outputEl = gd.closest('.output');\n",
       "if (outputEl) {{\n",
       "    x.observe(outputEl, {childList: true});\n",
       "}}\n",
       "\n",
       "                        })                };                });            </script>        </div>"
      ]
     },
     "metadata": {},
     "output_type": "display_data"
    }
   ],
   "source": [
    "df[['A','B']].iplot(kind='spread')"
   ]
  },
  {
   "cell_type": "markdown",
   "metadata": {},
   "source": [
    "## histogram"
   ]
  },
  {
   "cell_type": "code",
   "execution_count": 31,
   "metadata": {},
   "outputs": [
    {
     "data": {
      "application/vnd.plotly.v1+json": {
       "config": {
        "linkText": "Export to plot.ly",
        "plotlyServerURL": "https://plot.ly",
        "showLink": true
       },
       "data": [
        {
         "histfunc": "count",
         "histnorm": "",
         "marker": {
          "color": "rgba(255, 153, 51, 1.0)",
          "line": {
           "color": "#4D5663",
           "width": 1.3
          }
         },
         "name": "A",
         "nbinsx": 25,
         "opacity": 0.8,
         "orientation": "v",
         "type": "histogram",
         "x": [
          -1.252614793086047,
          -0.05970334235749016,
          1.1861410783422972,
          -0.08761128715742864,
          0.07950640464429827,
          1.2280562668624604,
          -1.3278069263914265,
          -1.363119785987805,
          -1.1386232623492012,
          -0.8393437156317276,
          -0.4541080744300972,
          2.0343495796888282,
          -3.09049460215665,
          0.16073727481802083,
          -0.4197095473149091,
          -0.2387478469942015,
          -0.059737805366917265,
          0.637232411048166,
          -0.16098446078613787,
          -0.39044693665236124,
          -0.18335785148903647,
          -1.4665474154877824,
          -0.9467091070463365,
          -1.363086400891611,
          1.1419161233127382,
          -0.8990356765986693,
          -0.47877126318615904,
          -0.08723595655352805,
          0.28836519048925785,
          0.4535211994873111,
          0.6072750672172921,
          0.7920328635238127,
          0.9210688520723921,
          0.8431813681496602,
          0.14682019235661373,
          -1.1829671348247588,
          -1.0438065432704076,
          1.4143243674487795,
          0.709957119062226,
          -0.6850164620237267,
          -1.0010708187907489,
          -0.34860627566652763,
          1.9900831507298398,
          0.18725017639146913,
          -0.6255124774152,
          -1.6017317227276038,
          0.885042918633726,
          0.7428077103813263,
          -0.8924785069045459,
          -1.3308889418400802,
          3.003745396974862,
          0.3371032077767076,
          0.46679193086201903,
          0.36616511575153876,
          -0.416335845412642,
          1.5194644015341876,
          0.5211470076410264,
          -1.5036153475796188,
          -0.26626662937057033,
          0.6978691732337882,
          -0.09511084342263629,
          0.30075260301102774,
          0.03197028510486337,
          1.4282640809936629,
          0.33128440588935226,
          0.8760426680096519,
          -0.04282550929148523,
          -1.4869944424905852,
          1.1016632292962907,
          -1.432616353521275,
          1.5575716683045684,
          -0.3201993175852064,
          0.3085393750442976,
          -1.6767132815810286,
          -0.43613840129391807,
          0.5444947534040682,
          -0.9564608279120181,
          -1.2149259364052323,
          0.2619339163954011,
          1.1510318594062585,
          -1.4935781096730616,
          -1.5364588271684487,
          -0.2014536368998715,
          1.0317682182611458,
          -1.2008107718275032,
          0.6417163449601327,
          2.0525571724871856,
          0.4544224835172775,
          0.8604257046342394,
          0.024338875911690164,
          0.4034582647556379,
          -0.31260916146689444,
          0.020281310347106393,
          -0.29632252607525494,
          -0.3145363114608712,
          -0.5558389308669797,
          -0.08374887468313946,
          -0.1925649721641307,
          -0.37837314814356626,
          -1.004110983807644
         ]
        }
       ],
       "layout": {
        "barmode": "overlay",
        "legend": {
         "bgcolor": "#F5F6F9",
         "font": {
          "color": "#4D5663"
         }
        },
        "paper_bgcolor": "#F5F6F9",
        "plot_bgcolor": "#F5F6F9",
        "template": {
         "data": {
          "bar": [
           {
            "error_x": {
             "color": "#2a3f5f"
            },
            "error_y": {
             "color": "#2a3f5f"
            },
            "marker": {
             "line": {
              "color": "#E5ECF6",
              "width": 0.5
             },
             "pattern": {
              "fillmode": "overlay",
              "size": 10,
              "solidity": 0.2
             }
            },
            "type": "bar"
           }
          ],
          "barpolar": [
           {
            "marker": {
             "line": {
              "color": "#E5ECF6",
              "width": 0.5
             },
             "pattern": {
              "fillmode": "overlay",
              "size": 10,
              "solidity": 0.2
             }
            },
            "type": "barpolar"
           }
          ],
          "carpet": [
           {
            "aaxis": {
             "endlinecolor": "#2a3f5f",
             "gridcolor": "white",
             "linecolor": "white",
             "minorgridcolor": "white",
             "startlinecolor": "#2a3f5f"
            },
            "baxis": {
             "endlinecolor": "#2a3f5f",
             "gridcolor": "white",
             "linecolor": "white",
             "minorgridcolor": "white",
             "startlinecolor": "#2a3f5f"
            },
            "type": "carpet"
           }
          ],
          "choropleth": [
           {
            "colorbar": {
             "outlinewidth": 0,
             "ticks": ""
            },
            "type": "choropleth"
           }
          ],
          "contour": [
           {
            "colorbar": {
             "outlinewidth": 0,
             "ticks": ""
            },
            "colorscale": [
             [
              0,
              "#0d0887"
             ],
             [
              0.1111111111111111,
              "#46039f"
             ],
             [
              0.2222222222222222,
              "#7201a8"
             ],
             [
              0.3333333333333333,
              "#9c179e"
             ],
             [
              0.4444444444444444,
              "#bd3786"
             ],
             [
              0.5555555555555556,
              "#d8576b"
             ],
             [
              0.6666666666666666,
              "#ed7953"
             ],
             [
              0.7777777777777778,
              "#fb9f3a"
             ],
             [
              0.8888888888888888,
              "#fdca26"
             ],
             [
              1,
              "#f0f921"
             ]
            ],
            "type": "contour"
           }
          ],
          "contourcarpet": [
           {
            "colorbar": {
             "outlinewidth": 0,
             "ticks": ""
            },
            "type": "contourcarpet"
           }
          ],
          "heatmap": [
           {
            "colorbar": {
             "outlinewidth": 0,
             "ticks": ""
            },
            "colorscale": [
             [
              0,
              "#0d0887"
             ],
             [
              0.1111111111111111,
              "#46039f"
             ],
             [
              0.2222222222222222,
              "#7201a8"
             ],
             [
              0.3333333333333333,
              "#9c179e"
             ],
             [
              0.4444444444444444,
              "#bd3786"
             ],
             [
              0.5555555555555556,
              "#d8576b"
             ],
             [
              0.6666666666666666,
              "#ed7953"
             ],
             [
              0.7777777777777778,
              "#fb9f3a"
             ],
             [
              0.8888888888888888,
              "#fdca26"
             ],
             [
              1,
              "#f0f921"
             ]
            ],
            "type": "heatmap"
           }
          ],
          "heatmapgl": [
           {
            "colorbar": {
             "outlinewidth": 0,
             "ticks": ""
            },
            "colorscale": [
             [
              0,
              "#0d0887"
             ],
             [
              0.1111111111111111,
              "#46039f"
             ],
             [
              0.2222222222222222,
              "#7201a8"
             ],
             [
              0.3333333333333333,
              "#9c179e"
             ],
             [
              0.4444444444444444,
              "#bd3786"
             ],
             [
              0.5555555555555556,
              "#d8576b"
             ],
             [
              0.6666666666666666,
              "#ed7953"
             ],
             [
              0.7777777777777778,
              "#fb9f3a"
             ],
             [
              0.8888888888888888,
              "#fdca26"
             ],
             [
              1,
              "#f0f921"
             ]
            ],
            "type": "heatmapgl"
           }
          ],
          "histogram": [
           {
            "marker": {
             "pattern": {
              "fillmode": "overlay",
              "size": 10,
              "solidity": 0.2
             }
            },
            "type": "histogram"
           }
          ],
          "histogram2d": [
           {
            "colorbar": {
             "outlinewidth": 0,
             "ticks": ""
            },
            "colorscale": [
             [
              0,
              "#0d0887"
             ],
             [
              0.1111111111111111,
              "#46039f"
             ],
             [
              0.2222222222222222,
              "#7201a8"
             ],
             [
              0.3333333333333333,
              "#9c179e"
             ],
             [
              0.4444444444444444,
              "#bd3786"
             ],
             [
              0.5555555555555556,
              "#d8576b"
             ],
             [
              0.6666666666666666,
              "#ed7953"
             ],
             [
              0.7777777777777778,
              "#fb9f3a"
             ],
             [
              0.8888888888888888,
              "#fdca26"
             ],
             [
              1,
              "#f0f921"
             ]
            ],
            "type": "histogram2d"
           }
          ],
          "histogram2dcontour": [
           {
            "colorbar": {
             "outlinewidth": 0,
             "ticks": ""
            },
            "colorscale": [
             [
              0,
              "#0d0887"
             ],
             [
              0.1111111111111111,
              "#46039f"
             ],
             [
              0.2222222222222222,
              "#7201a8"
             ],
             [
              0.3333333333333333,
              "#9c179e"
             ],
             [
              0.4444444444444444,
              "#bd3786"
             ],
             [
              0.5555555555555556,
              "#d8576b"
             ],
             [
              0.6666666666666666,
              "#ed7953"
             ],
             [
              0.7777777777777778,
              "#fb9f3a"
             ],
             [
              0.8888888888888888,
              "#fdca26"
             ],
             [
              1,
              "#f0f921"
             ]
            ],
            "type": "histogram2dcontour"
           }
          ],
          "mesh3d": [
           {
            "colorbar": {
             "outlinewidth": 0,
             "ticks": ""
            },
            "type": "mesh3d"
           }
          ],
          "parcoords": [
           {
            "line": {
             "colorbar": {
              "outlinewidth": 0,
              "ticks": ""
             }
            },
            "type": "parcoords"
           }
          ],
          "pie": [
           {
            "automargin": true,
            "type": "pie"
           }
          ],
          "scatter": [
           {
            "marker": {
             "colorbar": {
              "outlinewidth": 0,
              "ticks": ""
             }
            },
            "type": "scatter"
           }
          ],
          "scatter3d": [
           {
            "line": {
             "colorbar": {
              "outlinewidth": 0,
              "ticks": ""
             }
            },
            "marker": {
             "colorbar": {
              "outlinewidth": 0,
              "ticks": ""
             }
            },
            "type": "scatter3d"
           }
          ],
          "scattercarpet": [
           {
            "marker": {
             "colorbar": {
              "outlinewidth": 0,
              "ticks": ""
             }
            },
            "type": "scattercarpet"
           }
          ],
          "scattergeo": [
           {
            "marker": {
             "colorbar": {
              "outlinewidth": 0,
              "ticks": ""
             }
            },
            "type": "scattergeo"
           }
          ],
          "scattergl": [
           {
            "marker": {
             "colorbar": {
              "outlinewidth": 0,
              "ticks": ""
             }
            },
            "type": "scattergl"
           }
          ],
          "scattermapbox": [
           {
            "marker": {
             "colorbar": {
              "outlinewidth": 0,
              "ticks": ""
             }
            },
            "type": "scattermapbox"
           }
          ],
          "scatterpolar": [
           {
            "marker": {
             "colorbar": {
              "outlinewidth": 0,
              "ticks": ""
             }
            },
            "type": "scatterpolar"
           }
          ],
          "scatterpolargl": [
           {
            "marker": {
             "colorbar": {
              "outlinewidth": 0,
              "ticks": ""
             }
            },
            "type": "scatterpolargl"
           }
          ],
          "scatterternary": [
           {
            "marker": {
             "colorbar": {
              "outlinewidth": 0,
              "ticks": ""
             }
            },
            "type": "scatterternary"
           }
          ],
          "surface": [
           {
            "colorbar": {
             "outlinewidth": 0,
             "ticks": ""
            },
            "colorscale": [
             [
              0,
              "#0d0887"
             ],
             [
              0.1111111111111111,
              "#46039f"
             ],
             [
              0.2222222222222222,
              "#7201a8"
             ],
             [
              0.3333333333333333,
              "#9c179e"
             ],
             [
              0.4444444444444444,
              "#bd3786"
             ],
             [
              0.5555555555555556,
              "#d8576b"
             ],
             [
              0.6666666666666666,
              "#ed7953"
             ],
             [
              0.7777777777777778,
              "#fb9f3a"
             ],
             [
              0.8888888888888888,
              "#fdca26"
             ],
             [
              1,
              "#f0f921"
             ]
            ],
            "type": "surface"
           }
          ],
          "table": [
           {
            "cells": {
             "fill": {
              "color": "#EBF0F8"
             },
             "line": {
              "color": "white"
             }
            },
            "header": {
             "fill": {
              "color": "#C8D4E3"
             },
             "line": {
              "color": "white"
             }
            },
            "type": "table"
           }
          ]
         },
         "layout": {
          "annotationdefaults": {
           "arrowcolor": "#2a3f5f",
           "arrowhead": 0,
           "arrowwidth": 1
          },
          "autotypenumbers": "strict",
          "coloraxis": {
           "colorbar": {
            "outlinewidth": 0,
            "ticks": ""
           }
          },
          "colorscale": {
           "diverging": [
            [
             0,
             "#8e0152"
            ],
            [
             0.1,
             "#c51b7d"
            ],
            [
             0.2,
             "#de77ae"
            ],
            [
             0.3,
             "#f1b6da"
            ],
            [
             0.4,
             "#fde0ef"
            ],
            [
             0.5,
             "#f7f7f7"
            ],
            [
             0.6,
             "#e6f5d0"
            ],
            [
             0.7,
             "#b8e186"
            ],
            [
             0.8,
             "#7fbc41"
            ],
            [
             0.9,
             "#4d9221"
            ],
            [
             1,
             "#276419"
            ]
           ],
           "sequential": [
            [
             0,
             "#0d0887"
            ],
            [
             0.1111111111111111,
             "#46039f"
            ],
            [
             0.2222222222222222,
             "#7201a8"
            ],
            [
             0.3333333333333333,
             "#9c179e"
            ],
            [
             0.4444444444444444,
             "#bd3786"
            ],
            [
             0.5555555555555556,
             "#d8576b"
            ],
            [
             0.6666666666666666,
             "#ed7953"
            ],
            [
             0.7777777777777778,
             "#fb9f3a"
            ],
            [
             0.8888888888888888,
             "#fdca26"
            ],
            [
             1,
             "#f0f921"
            ]
           ],
           "sequentialminus": [
            [
             0,
             "#0d0887"
            ],
            [
             0.1111111111111111,
             "#46039f"
            ],
            [
             0.2222222222222222,
             "#7201a8"
            ],
            [
             0.3333333333333333,
             "#9c179e"
            ],
            [
             0.4444444444444444,
             "#bd3786"
            ],
            [
             0.5555555555555556,
             "#d8576b"
            ],
            [
             0.6666666666666666,
             "#ed7953"
            ],
            [
             0.7777777777777778,
             "#fb9f3a"
            ],
            [
             0.8888888888888888,
             "#fdca26"
            ],
            [
             1,
             "#f0f921"
            ]
           ]
          },
          "colorway": [
           "#636efa",
           "#EF553B",
           "#00cc96",
           "#ab63fa",
           "#FFA15A",
           "#19d3f3",
           "#FF6692",
           "#B6E880",
           "#FF97FF",
           "#FECB52"
          ],
          "font": {
           "color": "#2a3f5f"
          },
          "geo": {
           "bgcolor": "white",
           "lakecolor": "white",
           "landcolor": "#E5ECF6",
           "showlakes": true,
           "showland": true,
           "subunitcolor": "white"
          },
          "hoverlabel": {
           "align": "left"
          },
          "hovermode": "closest",
          "mapbox": {
           "style": "light"
          },
          "paper_bgcolor": "white",
          "plot_bgcolor": "#E5ECF6",
          "polar": {
           "angularaxis": {
            "gridcolor": "white",
            "linecolor": "white",
            "ticks": ""
           },
           "bgcolor": "#E5ECF6",
           "radialaxis": {
            "gridcolor": "white",
            "linecolor": "white",
            "ticks": ""
           }
          },
          "scene": {
           "xaxis": {
            "backgroundcolor": "#E5ECF6",
            "gridcolor": "white",
            "gridwidth": 2,
            "linecolor": "white",
            "showbackground": true,
            "ticks": "",
            "zerolinecolor": "white"
           },
           "yaxis": {
            "backgroundcolor": "#E5ECF6",
            "gridcolor": "white",
            "gridwidth": 2,
            "linecolor": "white",
            "showbackground": true,
            "ticks": "",
            "zerolinecolor": "white"
           },
           "zaxis": {
            "backgroundcolor": "#E5ECF6",
            "gridcolor": "white",
            "gridwidth": 2,
            "linecolor": "white",
            "showbackground": true,
            "ticks": "",
            "zerolinecolor": "white"
           }
          },
          "shapedefaults": {
           "line": {
            "color": "#2a3f5f"
           }
          },
          "ternary": {
           "aaxis": {
            "gridcolor": "white",
            "linecolor": "white",
            "ticks": ""
           },
           "baxis": {
            "gridcolor": "white",
            "linecolor": "white",
            "ticks": ""
           },
           "bgcolor": "#E5ECF6",
           "caxis": {
            "gridcolor": "white",
            "linecolor": "white",
            "ticks": ""
           }
          },
          "title": {
           "x": 0.05
          },
          "xaxis": {
           "automargin": true,
           "gridcolor": "white",
           "linecolor": "white",
           "ticks": "",
           "title": {
            "standoff": 15
           },
           "zerolinecolor": "white",
           "zerolinewidth": 2
          },
          "yaxis": {
           "automargin": true,
           "gridcolor": "white",
           "linecolor": "white",
           "ticks": "",
           "title": {
            "standoff": 15
           },
           "zerolinecolor": "white",
           "zerolinewidth": 2
          }
         }
        },
        "title": {
         "font": {
          "color": "#4D5663"
         }
        },
        "xaxis": {
         "gridcolor": "#E1E5ED",
         "showgrid": true,
         "tickfont": {
          "color": "#4D5663"
         },
         "title": {
          "font": {
           "color": "#4D5663"
          },
          "text": ""
         },
         "zerolinecolor": "#E1E5ED"
        },
        "yaxis": {
         "gridcolor": "#E1E5ED",
         "showgrid": true,
         "tickfont": {
          "color": "#4D5663"
         },
         "title": {
          "font": {
           "color": "#4D5663"
          },
          "text": ""
         },
         "zerolinecolor": "#E1E5ED"
        }
       }
      },
      "text/html": [
       "<div>                            <div id=\"5a898e5b-6c97-4800-916e-c6f847e674d3\" class=\"plotly-graph-div\" style=\"height:525px; width:100%;\"></div>            <script type=\"text/javascript\">                require([\"plotly\"], function(Plotly) {                    window.PLOTLYENV=window.PLOTLYENV || {};\n",
       "                    window.PLOTLYENV.BASE_URL='https://plot.ly';                                    if (document.getElementById(\"5a898e5b-6c97-4800-916e-c6f847e674d3\")) {                    Plotly.newPlot(                        \"5a898e5b-6c97-4800-916e-c6f847e674d3\",                        [{\"histfunc\":\"count\",\"histnorm\":\"\",\"marker\":{\"color\":\"rgba(255, 153, 51, 1.0)\",\"line\":{\"color\":\"#4D5663\",\"width\":1.3}},\"name\":\"A\",\"nbinsx\":25,\"opacity\":0.8,\"orientation\":\"v\",\"type\":\"histogram\",\"x\":[-1.252614793086047,-0.05970334235749016,1.1861410783422972,-0.08761128715742864,0.07950640464429827,1.2280562668624604,-1.3278069263914265,-1.363119785987805,-1.1386232623492012,-0.8393437156317276,-0.4541080744300972,2.0343495796888282,-3.09049460215665,0.16073727481802083,-0.4197095473149091,-0.2387478469942015,-0.059737805366917265,0.637232411048166,-0.16098446078613787,-0.39044693665236124,-0.18335785148903647,-1.4665474154877824,-0.9467091070463365,-1.363086400891611,1.1419161233127382,-0.8990356765986693,-0.47877126318615904,-0.08723595655352805,0.28836519048925785,0.4535211994873111,0.6072750672172921,0.7920328635238127,0.9210688520723921,0.8431813681496602,0.14682019235661373,-1.1829671348247588,-1.0438065432704076,1.4143243674487795,0.709957119062226,-0.6850164620237267,-1.0010708187907489,-0.34860627566652763,1.9900831507298398,0.18725017639146913,-0.6255124774152,-1.6017317227276038,0.885042918633726,0.7428077103813263,-0.8924785069045459,-1.3308889418400802,3.003745396974862,0.3371032077767076,0.46679193086201903,0.36616511575153876,-0.416335845412642,1.5194644015341876,0.5211470076410264,-1.5036153475796188,-0.26626662937057033,0.6978691732337882,-0.09511084342263629,0.30075260301102774,0.03197028510486337,1.4282640809936629,0.33128440588935226,0.8760426680096519,-0.04282550929148523,-1.4869944424905852,1.1016632292962907,-1.432616353521275,1.5575716683045684,-0.3201993175852064,0.3085393750442976,-1.6767132815810286,-0.43613840129391807,0.5444947534040682,-0.9564608279120181,-1.2149259364052323,0.2619339163954011,1.1510318594062585,-1.4935781096730616,-1.5364588271684487,-0.2014536368998715,1.0317682182611458,-1.2008107718275032,0.6417163449601327,2.0525571724871856,0.4544224835172775,0.8604257046342394,0.024338875911690164,0.4034582647556379,-0.31260916146689444,0.020281310347106393,-0.29632252607525494,-0.3145363114608712,-0.5558389308669797,-0.08374887468313946,-0.1925649721641307,-0.37837314814356626,-1.004110983807644]}],                        {\"barmode\":\"overlay\",\"legend\":{\"bgcolor\":\"#F5F6F9\",\"font\":{\"color\":\"#4D5663\"}},\"paper_bgcolor\":\"#F5F6F9\",\"plot_bgcolor\":\"#F5F6F9\",\"template\":{\"data\":{\"bar\":[{\"error_x\":{\"color\":\"#2a3f5f\"},\"error_y\":{\"color\":\"#2a3f5f\"},\"marker\":{\"line\":{\"color\":\"#E5ECF6\",\"width\":0.5},\"pattern\":{\"fillmode\":\"overlay\",\"size\":10,\"solidity\":0.2}},\"type\":\"bar\"}],\"barpolar\":[{\"marker\":{\"line\":{\"color\":\"#E5ECF6\",\"width\":0.5},\"pattern\":{\"fillmode\":\"overlay\",\"size\":10,\"solidity\":0.2}},\"type\":\"barpolar\"}],\"carpet\":[{\"aaxis\":{\"endlinecolor\":\"#2a3f5f\",\"gridcolor\":\"white\",\"linecolor\":\"white\",\"minorgridcolor\":\"white\",\"startlinecolor\":\"#2a3f5f\"},\"baxis\":{\"endlinecolor\":\"#2a3f5f\",\"gridcolor\":\"white\",\"linecolor\":\"white\",\"minorgridcolor\":\"white\",\"startlinecolor\":\"#2a3f5f\"},\"type\":\"carpet\"}],\"choropleth\":[{\"colorbar\":{\"outlinewidth\":0,\"ticks\":\"\"},\"type\":\"choropleth\"}],\"contour\":[{\"colorbar\":{\"outlinewidth\":0,\"ticks\":\"\"},\"colorscale\":[[0.0,\"#0d0887\"],[0.1111111111111111,\"#46039f\"],[0.2222222222222222,\"#7201a8\"],[0.3333333333333333,\"#9c179e\"],[0.4444444444444444,\"#bd3786\"],[0.5555555555555556,\"#d8576b\"],[0.6666666666666666,\"#ed7953\"],[0.7777777777777778,\"#fb9f3a\"],[0.8888888888888888,\"#fdca26\"],[1.0,\"#f0f921\"]],\"type\":\"contour\"}],\"contourcarpet\":[{\"colorbar\":{\"outlinewidth\":0,\"ticks\":\"\"},\"type\":\"contourcarpet\"}],\"heatmap\":[{\"colorbar\":{\"outlinewidth\":0,\"ticks\":\"\"},\"colorscale\":[[0.0,\"#0d0887\"],[0.1111111111111111,\"#46039f\"],[0.2222222222222222,\"#7201a8\"],[0.3333333333333333,\"#9c179e\"],[0.4444444444444444,\"#bd3786\"],[0.5555555555555556,\"#d8576b\"],[0.6666666666666666,\"#ed7953\"],[0.7777777777777778,\"#fb9f3a\"],[0.8888888888888888,\"#fdca26\"],[1.0,\"#f0f921\"]],\"type\":\"heatmap\"}],\"heatmapgl\":[{\"colorbar\":{\"outlinewidth\":0,\"ticks\":\"\"},\"colorscale\":[[0.0,\"#0d0887\"],[0.1111111111111111,\"#46039f\"],[0.2222222222222222,\"#7201a8\"],[0.3333333333333333,\"#9c179e\"],[0.4444444444444444,\"#bd3786\"],[0.5555555555555556,\"#d8576b\"],[0.6666666666666666,\"#ed7953\"],[0.7777777777777778,\"#fb9f3a\"],[0.8888888888888888,\"#fdca26\"],[1.0,\"#f0f921\"]],\"type\":\"heatmapgl\"}],\"histogram\":[{\"marker\":{\"pattern\":{\"fillmode\":\"overlay\",\"size\":10,\"solidity\":0.2}},\"type\":\"histogram\"}],\"histogram2d\":[{\"colorbar\":{\"outlinewidth\":0,\"ticks\":\"\"},\"colorscale\":[[0.0,\"#0d0887\"],[0.1111111111111111,\"#46039f\"],[0.2222222222222222,\"#7201a8\"],[0.3333333333333333,\"#9c179e\"],[0.4444444444444444,\"#bd3786\"],[0.5555555555555556,\"#d8576b\"],[0.6666666666666666,\"#ed7953\"],[0.7777777777777778,\"#fb9f3a\"],[0.8888888888888888,\"#fdca26\"],[1.0,\"#f0f921\"]],\"type\":\"histogram2d\"}],\"histogram2dcontour\":[{\"colorbar\":{\"outlinewidth\":0,\"ticks\":\"\"},\"colorscale\":[[0.0,\"#0d0887\"],[0.1111111111111111,\"#46039f\"],[0.2222222222222222,\"#7201a8\"],[0.3333333333333333,\"#9c179e\"],[0.4444444444444444,\"#bd3786\"],[0.5555555555555556,\"#d8576b\"],[0.6666666666666666,\"#ed7953\"],[0.7777777777777778,\"#fb9f3a\"],[0.8888888888888888,\"#fdca26\"],[1.0,\"#f0f921\"]],\"type\":\"histogram2dcontour\"}],\"mesh3d\":[{\"colorbar\":{\"outlinewidth\":0,\"ticks\":\"\"},\"type\":\"mesh3d\"}],\"parcoords\":[{\"line\":{\"colorbar\":{\"outlinewidth\":0,\"ticks\":\"\"}},\"type\":\"parcoords\"}],\"pie\":[{\"automargin\":true,\"type\":\"pie\"}],\"scatter\":[{\"marker\":{\"colorbar\":{\"outlinewidth\":0,\"ticks\":\"\"}},\"type\":\"scatter\"}],\"scatter3d\":[{\"line\":{\"colorbar\":{\"outlinewidth\":0,\"ticks\":\"\"}},\"marker\":{\"colorbar\":{\"outlinewidth\":0,\"ticks\":\"\"}},\"type\":\"scatter3d\"}],\"scattercarpet\":[{\"marker\":{\"colorbar\":{\"outlinewidth\":0,\"ticks\":\"\"}},\"type\":\"scattercarpet\"}],\"scattergeo\":[{\"marker\":{\"colorbar\":{\"outlinewidth\":0,\"ticks\":\"\"}},\"type\":\"scattergeo\"}],\"scattergl\":[{\"marker\":{\"colorbar\":{\"outlinewidth\":0,\"ticks\":\"\"}},\"type\":\"scattergl\"}],\"scattermapbox\":[{\"marker\":{\"colorbar\":{\"outlinewidth\":0,\"ticks\":\"\"}},\"type\":\"scattermapbox\"}],\"scatterpolar\":[{\"marker\":{\"colorbar\":{\"outlinewidth\":0,\"ticks\":\"\"}},\"type\":\"scatterpolar\"}],\"scatterpolargl\":[{\"marker\":{\"colorbar\":{\"outlinewidth\":0,\"ticks\":\"\"}},\"type\":\"scatterpolargl\"}],\"scatterternary\":[{\"marker\":{\"colorbar\":{\"outlinewidth\":0,\"ticks\":\"\"}},\"type\":\"scatterternary\"}],\"surface\":[{\"colorbar\":{\"outlinewidth\":0,\"ticks\":\"\"},\"colorscale\":[[0.0,\"#0d0887\"],[0.1111111111111111,\"#46039f\"],[0.2222222222222222,\"#7201a8\"],[0.3333333333333333,\"#9c179e\"],[0.4444444444444444,\"#bd3786\"],[0.5555555555555556,\"#d8576b\"],[0.6666666666666666,\"#ed7953\"],[0.7777777777777778,\"#fb9f3a\"],[0.8888888888888888,\"#fdca26\"],[1.0,\"#f0f921\"]],\"type\":\"surface\"}],\"table\":[{\"cells\":{\"fill\":{\"color\":\"#EBF0F8\"},\"line\":{\"color\":\"white\"}},\"header\":{\"fill\":{\"color\":\"#C8D4E3\"},\"line\":{\"color\":\"white\"}},\"type\":\"table\"}]},\"layout\":{\"annotationdefaults\":{\"arrowcolor\":\"#2a3f5f\",\"arrowhead\":0,\"arrowwidth\":1},\"autotypenumbers\":\"strict\",\"coloraxis\":{\"colorbar\":{\"outlinewidth\":0,\"ticks\":\"\"}},\"colorscale\":{\"diverging\":[[0,\"#8e0152\"],[0.1,\"#c51b7d\"],[0.2,\"#de77ae\"],[0.3,\"#f1b6da\"],[0.4,\"#fde0ef\"],[0.5,\"#f7f7f7\"],[0.6,\"#e6f5d0\"],[0.7,\"#b8e186\"],[0.8,\"#7fbc41\"],[0.9,\"#4d9221\"],[1,\"#276419\"]],\"sequential\":[[0.0,\"#0d0887\"],[0.1111111111111111,\"#46039f\"],[0.2222222222222222,\"#7201a8\"],[0.3333333333333333,\"#9c179e\"],[0.4444444444444444,\"#bd3786\"],[0.5555555555555556,\"#d8576b\"],[0.6666666666666666,\"#ed7953\"],[0.7777777777777778,\"#fb9f3a\"],[0.8888888888888888,\"#fdca26\"],[1.0,\"#f0f921\"]],\"sequentialminus\":[[0.0,\"#0d0887\"],[0.1111111111111111,\"#46039f\"],[0.2222222222222222,\"#7201a8\"],[0.3333333333333333,\"#9c179e\"],[0.4444444444444444,\"#bd3786\"],[0.5555555555555556,\"#d8576b\"],[0.6666666666666666,\"#ed7953\"],[0.7777777777777778,\"#fb9f3a\"],[0.8888888888888888,\"#fdca26\"],[1.0,\"#f0f921\"]]},\"colorway\":[\"#636efa\",\"#EF553B\",\"#00cc96\",\"#ab63fa\",\"#FFA15A\",\"#19d3f3\",\"#FF6692\",\"#B6E880\",\"#FF97FF\",\"#FECB52\"],\"font\":{\"color\":\"#2a3f5f\"},\"geo\":{\"bgcolor\":\"white\",\"lakecolor\":\"white\",\"landcolor\":\"#E5ECF6\",\"showlakes\":true,\"showland\":true,\"subunitcolor\":\"white\"},\"hoverlabel\":{\"align\":\"left\"},\"hovermode\":\"closest\",\"mapbox\":{\"style\":\"light\"},\"paper_bgcolor\":\"white\",\"plot_bgcolor\":\"#E5ECF6\",\"polar\":{\"angularaxis\":{\"gridcolor\":\"white\",\"linecolor\":\"white\",\"ticks\":\"\"},\"bgcolor\":\"#E5ECF6\",\"radialaxis\":{\"gridcolor\":\"white\",\"linecolor\":\"white\",\"ticks\":\"\"}},\"scene\":{\"xaxis\":{\"backgroundcolor\":\"#E5ECF6\",\"gridcolor\":\"white\",\"gridwidth\":2,\"linecolor\":\"white\",\"showbackground\":true,\"ticks\":\"\",\"zerolinecolor\":\"white\"},\"yaxis\":{\"backgroundcolor\":\"#E5ECF6\",\"gridcolor\":\"white\",\"gridwidth\":2,\"linecolor\":\"white\",\"showbackground\":true,\"ticks\":\"\",\"zerolinecolor\":\"white\"},\"zaxis\":{\"backgroundcolor\":\"#E5ECF6\",\"gridcolor\":\"white\",\"gridwidth\":2,\"linecolor\":\"white\",\"showbackground\":true,\"ticks\":\"\",\"zerolinecolor\":\"white\"}},\"shapedefaults\":{\"line\":{\"color\":\"#2a3f5f\"}},\"ternary\":{\"aaxis\":{\"gridcolor\":\"white\",\"linecolor\":\"white\",\"ticks\":\"\"},\"baxis\":{\"gridcolor\":\"white\",\"linecolor\":\"white\",\"ticks\":\"\"},\"bgcolor\":\"#E5ECF6\",\"caxis\":{\"gridcolor\":\"white\",\"linecolor\":\"white\",\"ticks\":\"\"}},\"title\":{\"x\":0.05},\"xaxis\":{\"automargin\":true,\"gridcolor\":\"white\",\"linecolor\":\"white\",\"ticks\":\"\",\"title\":{\"standoff\":15},\"zerolinecolor\":\"white\",\"zerolinewidth\":2},\"yaxis\":{\"automargin\":true,\"gridcolor\":\"white\",\"linecolor\":\"white\",\"ticks\":\"\",\"title\":{\"standoff\":15},\"zerolinecolor\":\"white\",\"zerolinewidth\":2}}},\"title\":{\"font\":{\"color\":\"#4D5663\"}},\"xaxis\":{\"gridcolor\":\"#E1E5ED\",\"showgrid\":true,\"tickfont\":{\"color\":\"#4D5663\"},\"title\":{\"font\":{\"color\":\"#4D5663\"},\"text\":\"\"},\"zerolinecolor\":\"#E1E5ED\"},\"yaxis\":{\"gridcolor\":\"#E1E5ED\",\"showgrid\":true,\"tickfont\":{\"color\":\"#4D5663\"},\"title\":{\"font\":{\"color\":\"#4D5663\"},\"text\":\"\"},\"zerolinecolor\":\"#E1E5ED\"}},                        {\"showLink\": true, \"linkText\": \"Export to plot.ly\", \"plotlyServerURL\": \"https://plot.ly\", \"responsive\": true}                    ).then(function(){\n",
       "                            \n",
       "var gd = document.getElementById('5a898e5b-6c97-4800-916e-c6f847e674d3');\n",
       "var x = new MutationObserver(function (mutations, observer) {{\n",
       "        var display = window.getComputedStyle(gd).display;\n",
       "        if (!display || display === 'none') {{\n",
       "            console.log([gd, 'removed!']);\n",
       "            Plotly.purge(gd);\n",
       "            observer.disconnect();\n",
       "        }}\n",
       "}});\n",
       "\n",
       "// Listen for the removal of the full notebook cells\n",
       "var notebookContainer = gd.closest('#notebook-container');\n",
       "if (notebookContainer) {{\n",
       "    x.observe(notebookContainer, {childList: true});\n",
       "}}\n",
       "\n",
       "// Listen for the clearing of the current output cell\n",
       "var outputEl = gd.closest('.output');\n",
       "if (outputEl) {{\n",
       "    x.observe(outputEl, {childList: true});\n",
       "}}\n",
       "\n",
       "                        })                };                });            </script>        </div>"
      ]
     },
     "metadata": {},
     "output_type": "display_data"
    }
   ],
   "source": [
    "df['A'].iplot(kind='hist',bins=25)"
   ]
  },
  {
   "cell_type": "code",
   "execution_count": 32,
   "metadata": {},
   "outputs": [
    {
     "data": {
      "application/vnd.plotly.v1+json": {
       "config": {
        "linkText": "Export to plot.ly",
        "plotlyServerURL": "https://plot.ly",
        "showLink": true
       },
       "data": [
        {
         "histfunc": "count",
         "histnorm": "",
         "marker": {
          "color": "rgba(255, 153, 51, 1.0)",
          "line": {
           "color": "#4D5663",
           "width": 1.3
          }
         },
         "name": "A",
         "nbinsx": 25,
         "opacity": 0.8,
         "orientation": "v",
         "type": "histogram",
         "x": [
          -1.252614793086047,
          -0.05970334235749016,
          1.1861410783422972,
          -0.08761128715742864,
          0.07950640464429827,
          1.2280562668624604,
          -1.3278069263914265,
          -1.363119785987805,
          -1.1386232623492012,
          -0.8393437156317276,
          -0.4541080744300972,
          2.0343495796888282,
          -3.09049460215665,
          0.16073727481802083,
          -0.4197095473149091,
          -0.2387478469942015,
          -0.059737805366917265,
          0.637232411048166,
          -0.16098446078613787,
          -0.39044693665236124,
          -0.18335785148903647,
          -1.4665474154877824,
          -0.9467091070463365,
          -1.363086400891611,
          1.1419161233127382,
          -0.8990356765986693,
          -0.47877126318615904,
          -0.08723595655352805,
          0.28836519048925785,
          0.4535211994873111,
          0.6072750672172921,
          0.7920328635238127,
          0.9210688520723921,
          0.8431813681496602,
          0.14682019235661373,
          -1.1829671348247588,
          -1.0438065432704076,
          1.4143243674487795,
          0.709957119062226,
          -0.6850164620237267,
          -1.0010708187907489,
          -0.34860627566652763,
          1.9900831507298398,
          0.18725017639146913,
          -0.6255124774152,
          -1.6017317227276038,
          0.885042918633726,
          0.7428077103813263,
          -0.8924785069045459,
          -1.3308889418400802,
          3.003745396974862,
          0.3371032077767076,
          0.46679193086201903,
          0.36616511575153876,
          -0.416335845412642,
          1.5194644015341876,
          0.5211470076410264,
          -1.5036153475796188,
          -0.26626662937057033,
          0.6978691732337882,
          -0.09511084342263629,
          0.30075260301102774,
          0.03197028510486337,
          1.4282640809936629,
          0.33128440588935226,
          0.8760426680096519,
          -0.04282550929148523,
          -1.4869944424905852,
          1.1016632292962907,
          -1.432616353521275,
          1.5575716683045684,
          -0.3201993175852064,
          0.3085393750442976,
          -1.6767132815810286,
          -0.43613840129391807,
          0.5444947534040682,
          -0.9564608279120181,
          -1.2149259364052323,
          0.2619339163954011,
          1.1510318594062585,
          -1.4935781096730616,
          -1.5364588271684487,
          -0.2014536368998715,
          1.0317682182611458,
          -1.2008107718275032,
          0.6417163449601327,
          2.0525571724871856,
          0.4544224835172775,
          0.8604257046342394,
          0.024338875911690164,
          0.4034582647556379,
          -0.31260916146689444,
          0.020281310347106393,
          -0.29632252607525494,
          -0.3145363114608712,
          -0.5558389308669797,
          -0.08374887468313946,
          -0.1925649721641307,
          -0.37837314814356626,
          -1.004110983807644
         ]
        },
        {
         "histfunc": "count",
         "histnorm": "",
         "marker": {
          "color": "rgba(55, 128, 191, 1.0)",
          "line": {
           "color": "#4D5663",
           "width": 1.3
          }
         },
         "name": "B",
         "nbinsx": 25,
         "opacity": 0.8,
         "orientation": "v",
         "type": "histogram",
         "x": [
          1.429907173744965,
          -0.3362692153993021,
          -0.22403939638327913,
          -0.1062523944097891,
          0.2474881419869791,
          -2.951570498412787,
          -1.3150465437708856,
          -0.09564344114602419,
          0.7924691287634381,
          -0.11059481319784327,
          -0.9574735207257397,
          -2.7741406899349563,
          -1.0816982566045203,
          -0.7050395721831006,
          -0.030415434382019057,
          -0.4233816135656058,
          1.13409136177349,
          -0.40242588625630915,
          -0.294198850624815,
          -0.10088674274843744,
          1.0390784149843242,
          0.5165220382316772,
          1.0292362169286038,
          -0.9443881069654166,
          -0.03415047970036683,
          -1.302863193040769,
          -1.8739862933198712,
          -0.14083809321526172,
          -1.027560506025851,
          -0.19154403604307874,
          1.188705505404244,
          0.8103271790333249,
          0.27403939984770914,
          -0.7969627075630051,
          1.1289182632483334,
          -1.6358823872587878,
          -0.6503428428357034,
          -0.6587248753403122,
          -0.8986836433415368,
          -1.2910519644339522,
          0.37456483954536046,
          -2.3331353592693427,
          -1.353315814768125,
          -1.6109918954270386,
          2.574398806434323,
          -0.7419382066961051,
          1.0111811133768143,
          0.8627681851633381,
          1.0684844064238004,
          0.9584140081934572,
          -1.2724226953088429,
          0.5623348949596787,
          0.21278803036445387,
          0.6362092764330177,
          -1.1507486672395217,
          0.480023659069112,
          -1.3364127200675031,
          0.8452624019906536,
          0.2509777094027647,
          0.20317230448967902,
          -2.5580200049648996,
          0.47164544114003987,
          0.13608375887967908,
          -1.3413832491890092,
          1.0794295284681177,
          0.03791755550436143,
          2.1927622697418774,
          1.7239478391164735,
          -0.8441975536242636,
          -0.555562737221605,
          0.8962983600870705,
          1.7163996644440285,
          0.3861053154127059,
          -0.5053146823691147,
          0.6629732990578995,
          1.7291436937887452,
          -0.19791142080973972,
          -0.17758994884436066,
          0.3835728374808757,
          0.1206356970118862,
          -0.5839764747918563,
          0.6562070488071372,
          0.79818803972454,
          -1.317059527577753,
          -0.36660244714059637,
          -0.07092316904929655,
          -1.9885058041209265,
          0.36046441628701004,
          -0.3787904255840291,
          0.40687581684755036,
          -0.9740597784537262,
          -0.5963017374604368,
          1.292358219538622,
          -0.678637329096281,
          -0.11217221669830485,
          -0.556064599371359,
          -1.2917102576840802,
          0.1961856894863246,
          1.8320554131446811,
          1.1361645082224023
         ]
        },
        {
         "histfunc": "count",
         "histnorm": "",
         "marker": {
          "color": "rgba(50, 171, 96, 1.0)",
          "line": {
           "color": "#4D5663",
           "width": 1.3
          }
         },
         "name": "C",
         "nbinsx": 25,
         "opacity": 0.8,
         "orientation": "v",
         "type": "histogram",
         "x": [
          1.497365056261028,
          -1.3652639392192893,
          -0.4633848596042667,
          -0.6554155737090046,
          -0.873403949723717,
          0.05599352265517801,
          -0.34473828248271027,
          -0.41319903909836236,
          -2.044032644851402,
          -0.3987393454406875,
          1.1597178016054088,
          -1.502703163866186,
          0.23826714360142273,
          -1.5741392475854807,
          0.7816858134640635,
          -2.142846708586097,
          -1.1859370206584845,
          0.33445280073709727,
          -0.7667894723828541,
          1.2527282906266344,
          -0.19539795589395198,
          0.7326304554079953,
          0.04444226457106558,
          -1.556251136029763,
          -0.27447090560656606,
          0.039518802829135904,
          -0.02416001405173457,
          -0.5242725573805086,
          -0.8428442369549263,
          -0.9811777369886999,
          -0.3350095463442984,
          0.990050751506994,
          0.017554043186999775,
          0.2783947893725052,
          -0.06539150267349131,
          0.5611531072387262,
          -0.5433755998816096,
          0.2877606032303694,
          -0.39623450285943856,
          0.4281403826859208,
          0.12491994104865614,
          -0.8686705362189602,
          -1.0093119510785222,
          -1.7450992786587147,
          1.2677715076129603,
          1.1909806049583975,
          0.27740851207658335,
          0.6833561525713735,
          0.4283470277056508,
          0.7913812387268874,
          -0.5557615424139913,
          -0.21904396042115679,
          0.08964190646166481,
          0.021193571224057968,
          0.6050834546942213,
          -1.1619352848327547,
          1.0143367637627896,
          0.6639951131808542,
          1.018881240687566,
          0.9919337469405568,
          -1.3286952823498934,
          0.0887076694256689,
          0.8409303174685794,
          0.04430809594242096,
          -1.1306458993693478,
          2.0736318396393814,
          -0.14677037462178721,
          -1.3931223572680242,
          -2.0547424091586253,
          0.6128352101220416,
          -1.3654986018914061,
          -0.4736373234472714,
          1.5474841315174899,
          1.4023528581155102,
          0.2671475960322153,
          1.2783022300586027,
          -1.5729061331608103,
          -1.263124573100888,
          -0.6798291541866253,
          -0.07536756430411999,
          0.3387490431114079,
          1.7316981530795819,
          -0.09149845946313058,
          0.8606384957577545,
          -0.04059028826209647,
          -0.13740954203864353,
          -0.617304623092329,
          2.0731238475848937,
          -0.820298203736963,
          -0.26698591194207655,
          0.7321591287947562,
          -0.821972232165776,
          -0.6262152567039138,
          -0.08896112446005197,
          -2.5427473812318784,
          0.1546583782646699,
          -0.28721326963380284,
          0.8187876780277029,
          -0.4270266101320868,
          0.27999194420218215
         ]
        },
        {
         "histfunc": "count",
         "histnorm": "",
         "marker": {
          "color": "rgba(128, 0, 128, 1.0)",
          "line": {
           "color": "#4D5663",
           "width": 1.3
          }
         },
         "name": "D",
         "nbinsx": 25,
         "opacity": 0.8,
         "orientation": "v",
         "type": "histogram",
         "x": [
          -0.7607516732532427,
          -1.254568488051787,
          -0.8788828748036107,
          -0.13665063756100818,
          0.07474348764667796,
          -0.3100043705116922,
          -2.0463341136143995,
          0.640808766840854,
          1.224538129726818,
          1.0886660890880229,
          0.4049848114617264,
          0.7485515644819034,
          -0.46248600223967307,
          0.9533718049057213,
          -0.3695657385477109,
          0.8832340804185418,
          0.9052960323805491,
          -0.3853489432776442,
          1.3159244798509053,
          -0.028767564722662828,
          0.06379612112194598,
          -0.5699264163729659,
          0.32702586302219483,
          0.08779247487238971,
          1.2860732684779363,
          2.0938721257990114,
          0.10641036516130699,
          -0.43614763748954455,
          -0.15454712915480173,
          1.6917422947637824,
          2.069900076611023,
          0.2728381375704959,
          0.8982963476299403,
          1.1626845775151418,
          -1.8514944212075175,
          0.5097088665460885,
          0.301289072860881,
          -0.9215289721219797,
          0.5195919347510675,
          0.6283349774206288,
          0.14180613856997362,
          -0.6596331767430526,
          -0.43804908361382316,
          -1.161466129764636,
          -0.3773059718348686,
          -2.140572355581783,
          -0.19500741390398052,
          -0.5863195712554702,
          0.9506076263372776,
          0.05794084130328615,
          1.114608481540598,
          1.0598559581825697,
          -1.5876844271788813,
          -0.14739138729617407,
          -0.580431636041587,
          -0.33284940498071774,
          1.0629167254062288,
          0.38472616162999584,
          -0.9184640525607392,
          0.8882962211984797,
          -1.014539375075398,
          0.37548732970143817,
          0.5803058105441924,
          0.4429555473857757,
          -1.2144704173369645,
          0.13144813153609372,
          -0.8080736698792067,
          0.8897350266785666,
          1.1618872824269493,
          -0.38335647093100017,
          -0.2727693174039654,
          -0.25018635867093286,
          1.1484717709362309,
          0.49378345946541696,
          1.101291396885938,
          -0.49177164389114286,
          -1.6401018997496926,
          1.277848986380219,
          0.12810121345704542,
          -0.9889079946366958,
          -0.5251123223013637,
          1.1599073316060275,
          0.5708057586905046,
          -0.35367070891227775,
          0.8950168639617084,
          -0.9437864888126327,
          -0.46412027474338197,
          -1.5511026925124407,
          -0.2761019732505129,
          0.15029292622478768,
          1.4277411536710876,
          2.4147463451354967,
          -0.08801777586421945,
          -0.6338679739225697,
          -0.14945606892838023,
          0.6667328009341639,
          -0.3684321797614924,
          -0.9142366078263781,
          -0.4271860199935734,
          2.0408302414506343
         ]
        }
       ],
       "layout": {
        "barmode": "overlay",
        "legend": {
         "bgcolor": "#F5F6F9",
         "font": {
          "color": "#4D5663"
         }
        },
        "paper_bgcolor": "#F5F6F9",
        "plot_bgcolor": "#F5F6F9",
        "template": {
         "data": {
          "bar": [
           {
            "error_x": {
             "color": "#2a3f5f"
            },
            "error_y": {
             "color": "#2a3f5f"
            },
            "marker": {
             "line": {
              "color": "#E5ECF6",
              "width": 0.5
             },
             "pattern": {
              "fillmode": "overlay",
              "size": 10,
              "solidity": 0.2
             }
            },
            "type": "bar"
           }
          ],
          "barpolar": [
           {
            "marker": {
             "line": {
              "color": "#E5ECF6",
              "width": 0.5
             },
             "pattern": {
              "fillmode": "overlay",
              "size": 10,
              "solidity": 0.2
             }
            },
            "type": "barpolar"
           }
          ],
          "carpet": [
           {
            "aaxis": {
             "endlinecolor": "#2a3f5f",
             "gridcolor": "white",
             "linecolor": "white",
             "minorgridcolor": "white",
             "startlinecolor": "#2a3f5f"
            },
            "baxis": {
             "endlinecolor": "#2a3f5f",
             "gridcolor": "white",
             "linecolor": "white",
             "minorgridcolor": "white",
             "startlinecolor": "#2a3f5f"
            },
            "type": "carpet"
           }
          ],
          "choropleth": [
           {
            "colorbar": {
             "outlinewidth": 0,
             "ticks": ""
            },
            "type": "choropleth"
           }
          ],
          "contour": [
           {
            "colorbar": {
             "outlinewidth": 0,
             "ticks": ""
            },
            "colorscale": [
             [
              0,
              "#0d0887"
             ],
             [
              0.1111111111111111,
              "#46039f"
             ],
             [
              0.2222222222222222,
              "#7201a8"
             ],
             [
              0.3333333333333333,
              "#9c179e"
             ],
             [
              0.4444444444444444,
              "#bd3786"
             ],
             [
              0.5555555555555556,
              "#d8576b"
             ],
             [
              0.6666666666666666,
              "#ed7953"
             ],
             [
              0.7777777777777778,
              "#fb9f3a"
             ],
             [
              0.8888888888888888,
              "#fdca26"
             ],
             [
              1,
              "#f0f921"
             ]
            ],
            "type": "contour"
           }
          ],
          "contourcarpet": [
           {
            "colorbar": {
             "outlinewidth": 0,
             "ticks": ""
            },
            "type": "contourcarpet"
           }
          ],
          "heatmap": [
           {
            "colorbar": {
             "outlinewidth": 0,
             "ticks": ""
            },
            "colorscale": [
             [
              0,
              "#0d0887"
             ],
             [
              0.1111111111111111,
              "#46039f"
             ],
             [
              0.2222222222222222,
              "#7201a8"
             ],
             [
              0.3333333333333333,
              "#9c179e"
             ],
             [
              0.4444444444444444,
              "#bd3786"
             ],
             [
              0.5555555555555556,
              "#d8576b"
             ],
             [
              0.6666666666666666,
              "#ed7953"
             ],
             [
              0.7777777777777778,
              "#fb9f3a"
             ],
             [
              0.8888888888888888,
              "#fdca26"
             ],
             [
              1,
              "#f0f921"
             ]
            ],
            "type": "heatmap"
           }
          ],
          "heatmapgl": [
           {
            "colorbar": {
             "outlinewidth": 0,
             "ticks": ""
            },
            "colorscale": [
             [
              0,
              "#0d0887"
             ],
             [
              0.1111111111111111,
              "#46039f"
             ],
             [
              0.2222222222222222,
              "#7201a8"
             ],
             [
              0.3333333333333333,
              "#9c179e"
             ],
             [
              0.4444444444444444,
              "#bd3786"
             ],
             [
              0.5555555555555556,
              "#d8576b"
             ],
             [
              0.6666666666666666,
              "#ed7953"
             ],
             [
              0.7777777777777778,
              "#fb9f3a"
             ],
             [
              0.8888888888888888,
              "#fdca26"
             ],
             [
              1,
              "#f0f921"
             ]
            ],
            "type": "heatmapgl"
           }
          ],
          "histogram": [
           {
            "marker": {
             "pattern": {
              "fillmode": "overlay",
              "size": 10,
              "solidity": 0.2
             }
            },
            "type": "histogram"
           }
          ],
          "histogram2d": [
           {
            "colorbar": {
             "outlinewidth": 0,
             "ticks": ""
            },
            "colorscale": [
             [
              0,
              "#0d0887"
             ],
             [
              0.1111111111111111,
              "#46039f"
             ],
             [
              0.2222222222222222,
              "#7201a8"
             ],
             [
              0.3333333333333333,
              "#9c179e"
             ],
             [
              0.4444444444444444,
              "#bd3786"
             ],
             [
              0.5555555555555556,
              "#d8576b"
             ],
             [
              0.6666666666666666,
              "#ed7953"
             ],
             [
              0.7777777777777778,
              "#fb9f3a"
             ],
             [
              0.8888888888888888,
              "#fdca26"
             ],
             [
              1,
              "#f0f921"
             ]
            ],
            "type": "histogram2d"
           }
          ],
          "histogram2dcontour": [
           {
            "colorbar": {
             "outlinewidth": 0,
             "ticks": ""
            },
            "colorscale": [
             [
              0,
              "#0d0887"
             ],
             [
              0.1111111111111111,
              "#46039f"
             ],
             [
              0.2222222222222222,
              "#7201a8"
             ],
             [
              0.3333333333333333,
              "#9c179e"
             ],
             [
              0.4444444444444444,
              "#bd3786"
             ],
             [
              0.5555555555555556,
              "#d8576b"
             ],
             [
              0.6666666666666666,
              "#ed7953"
             ],
             [
              0.7777777777777778,
              "#fb9f3a"
             ],
             [
              0.8888888888888888,
              "#fdca26"
             ],
             [
              1,
              "#f0f921"
             ]
            ],
            "type": "histogram2dcontour"
           }
          ],
          "mesh3d": [
           {
            "colorbar": {
             "outlinewidth": 0,
             "ticks": ""
            },
            "type": "mesh3d"
           }
          ],
          "parcoords": [
           {
            "line": {
             "colorbar": {
              "outlinewidth": 0,
              "ticks": ""
             }
            },
            "type": "parcoords"
           }
          ],
          "pie": [
           {
            "automargin": true,
            "type": "pie"
           }
          ],
          "scatter": [
           {
            "marker": {
             "colorbar": {
              "outlinewidth": 0,
              "ticks": ""
             }
            },
            "type": "scatter"
           }
          ],
          "scatter3d": [
           {
            "line": {
             "colorbar": {
              "outlinewidth": 0,
              "ticks": ""
             }
            },
            "marker": {
             "colorbar": {
              "outlinewidth": 0,
              "ticks": ""
             }
            },
            "type": "scatter3d"
           }
          ],
          "scattercarpet": [
           {
            "marker": {
             "colorbar": {
              "outlinewidth": 0,
              "ticks": ""
             }
            },
            "type": "scattercarpet"
           }
          ],
          "scattergeo": [
           {
            "marker": {
             "colorbar": {
              "outlinewidth": 0,
              "ticks": ""
             }
            },
            "type": "scattergeo"
           }
          ],
          "scattergl": [
           {
            "marker": {
             "colorbar": {
              "outlinewidth": 0,
              "ticks": ""
             }
            },
            "type": "scattergl"
           }
          ],
          "scattermapbox": [
           {
            "marker": {
             "colorbar": {
              "outlinewidth": 0,
              "ticks": ""
             }
            },
            "type": "scattermapbox"
           }
          ],
          "scatterpolar": [
           {
            "marker": {
             "colorbar": {
              "outlinewidth": 0,
              "ticks": ""
             }
            },
            "type": "scatterpolar"
           }
          ],
          "scatterpolargl": [
           {
            "marker": {
             "colorbar": {
              "outlinewidth": 0,
              "ticks": ""
             }
            },
            "type": "scatterpolargl"
           }
          ],
          "scatterternary": [
           {
            "marker": {
             "colorbar": {
              "outlinewidth": 0,
              "ticks": ""
             }
            },
            "type": "scatterternary"
           }
          ],
          "surface": [
           {
            "colorbar": {
             "outlinewidth": 0,
             "ticks": ""
            },
            "colorscale": [
             [
              0,
              "#0d0887"
             ],
             [
              0.1111111111111111,
              "#46039f"
             ],
             [
              0.2222222222222222,
              "#7201a8"
             ],
             [
              0.3333333333333333,
              "#9c179e"
             ],
             [
              0.4444444444444444,
              "#bd3786"
             ],
             [
              0.5555555555555556,
              "#d8576b"
             ],
             [
              0.6666666666666666,
              "#ed7953"
             ],
             [
              0.7777777777777778,
              "#fb9f3a"
             ],
             [
              0.8888888888888888,
              "#fdca26"
             ],
             [
              1,
              "#f0f921"
             ]
            ],
            "type": "surface"
           }
          ],
          "table": [
           {
            "cells": {
             "fill": {
              "color": "#EBF0F8"
             },
             "line": {
              "color": "white"
             }
            },
            "header": {
             "fill": {
              "color": "#C8D4E3"
             },
             "line": {
              "color": "white"
             }
            },
            "type": "table"
           }
          ]
         },
         "layout": {
          "annotationdefaults": {
           "arrowcolor": "#2a3f5f",
           "arrowhead": 0,
           "arrowwidth": 1
          },
          "autotypenumbers": "strict",
          "coloraxis": {
           "colorbar": {
            "outlinewidth": 0,
            "ticks": ""
           }
          },
          "colorscale": {
           "diverging": [
            [
             0,
             "#8e0152"
            ],
            [
             0.1,
             "#c51b7d"
            ],
            [
             0.2,
             "#de77ae"
            ],
            [
             0.3,
             "#f1b6da"
            ],
            [
             0.4,
             "#fde0ef"
            ],
            [
             0.5,
             "#f7f7f7"
            ],
            [
             0.6,
             "#e6f5d0"
            ],
            [
             0.7,
             "#b8e186"
            ],
            [
             0.8,
             "#7fbc41"
            ],
            [
             0.9,
             "#4d9221"
            ],
            [
             1,
             "#276419"
            ]
           ],
           "sequential": [
            [
             0,
             "#0d0887"
            ],
            [
             0.1111111111111111,
             "#46039f"
            ],
            [
             0.2222222222222222,
             "#7201a8"
            ],
            [
             0.3333333333333333,
             "#9c179e"
            ],
            [
             0.4444444444444444,
             "#bd3786"
            ],
            [
             0.5555555555555556,
             "#d8576b"
            ],
            [
             0.6666666666666666,
             "#ed7953"
            ],
            [
             0.7777777777777778,
             "#fb9f3a"
            ],
            [
             0.8888888888888888,
             "#fdca26"
            ],
            [
             1,
             "#f0f921"
            ]
           ],
           "sequentialminus": [
            [
             0,
             "#0d0887"
            ],
            [
             0.1111111111111111,
             "#46039f"
            ],
            [
             0.2222222222222222,
             "#7201a8"
            ],
            [
             0.3333333333333333,
             "#9c179e"
            ],
            [
             0.4444444444444444,
             "#bd3786"
            ],
            [
             0.5555555555555556,
             "#d8576b"
            ],
            [
             0.6666666666666666,
             "#ed7953"
            ],
            [
             0.7777777777777778,
             "#fb9f3a"
            ],
            [
             0.8888888888888888,
             "#fdca26"
            ],
            [
             1,
             "#f0f921"
            ]
           ]
          },
          "colorway": [
           "#636efa",
           "#EF553B",
           "#00cc96",
           "#ab63fa",
           "#FFA15A",
           "#19d3f3",
           "#FF6692",
           "#B6E880",
           "#FF97FF",
           "#FECB52"
          ],
          "font": {
           "color": "#2a3f5f"
          },
          "geo": {
           "bgcolor": "white",
           "lakecolor": "white",
           "landcolor": "#E5ECF6",
           "showlakes": true,
           "showland": true,
           "subunitcolor": "white"
          },
          "hoverlabel": {
           "align": "left"
          },
          "hovermode": "closest",
          "mapbox": {
           "style": "light"
          },
          "paper_bgcolor": "white",
          "plot_bgcolor": "#E5ECF6",
          "polar": {
           "angularaxis": {
            "gridcolor": "white",
            "linecolor": "white",
            "ticks": ""
           },
           "bgcolor": "#E5ECF6",
           "radialaxis": {
            "gridcolor": "white",
            "linecolor": "white",
            "ticks": ""
           }
          },
          "scene": {
           "xaxis": {
            "backgroundcolor": "#E5ECF6",
            "gridcolor": "white",
            "gridwidth": 2,
            "linecolor": "white",
            "showbackground": true,
            "ticks": "",
            "zerolinecolor": "white"
           },
           "yaxis": {
            "backgroundcolor": "#E5ECF6",
            "gridcolor": "white",
            "gridwidth": 2,
            "linecolor": "white",
            "showbackground": true,
            "ticks": "",
            "zerolinecolor": "white"
           },
           "zaxis": {
            "backgroundcolor": "#E5ECF6",
            "gridcolor": "white",
            "gridwidth": 2,
            "linecolor": "white",
            "showbackground": true,
            "ticks": "",
            "zerolinecolor": "white"
           }
          },
          "shapedefaults": {
           "line": {
            "color": "#2a3f5f"
           }
          },
          "ternary": {
           "aaxis": {
            "gridcolor": "white",
            "linecolor": "white",
            "ticks": ""
           },
           "baxis": {
            "gridcolor": "white",
            "linecolor": "white",
            "ticks": ""
           },
           "bgcolor": "#E5ECF6",
           "caxis": {
            "gridcolor": "white",
            "linecolor": "white",
            "ticks": ""
           }
          },
          "title": {
           "x": 0.05
          },
          "xaxis": {
           "automargin": true,
           "gridcolor": "white",
           "linecolor": "white",
           "ticks": "",
           "title": {
            "standoff": 15
           },
           "zerolinecolor": "white",
           "zerolinewidth": 2
          },
          "yaxis": {
           "automargin": true,
           "gridcolor": "white",
           "linecolor": "white",
           "ticks": "",
           "title": {
            "standoff": 15
           },
           "zerolinecolor": "white",
           "zerolinewidth": 2
          }
         }
        },
        "title": {
         "font": {
          "color": "#4D5663"
         }
        },
        "xaxis": {
         "gridcolor": "#E1E5ED",
         "showgrid": true,
         "tickfont": {
          "color": "#4D5663"
         },
         "title": {
          "font": {
           "color": "#4D5663"
          },
          "text": ""
         },
         "zerolinecolor": "#E1E5ED"
        },
        "yaxis": {
         "gridcolor": "#E1E5ED",
         "showgrid": true,
         "tickfont": {
          "color": "#4D5663"
         },
         "title": {
          "font": {
           "color": "#4D5663"
          },
          "text": ""
         },
         "zerolinecolor": "#E1E5ED"
        }
       }
      },
      "text/html": [
       "<div>                            <div id=\"27d9225e-cecb-4263-af21-c68658ab0cf1\" class=\"plotly-graph-div\" style=\"height:525px; width:100%;\"></div>            <script type=\"text/javascript\">                require([\"plotly\"], function(Plotly) {                    window.PLOTLYENV=window.PLOTLYENV || {};\n",
       "                    window.PLOTLYENV.BASE_URL='https://plot.ly';                                    if (document.getElementById(\"27d9225e-cecb-4263-af21-c68658ab0cf1\")) {                    Plotly.newPlot(                        \"27d9225e-cecb-4263-af21-c68658ab0cf1\",                        [{\"histfunc\":\"count\",\"histnorm\":\"\",\"marker\":{\"color\":\"rgba(255, 153, 51, 1.0)\",\"line\":{\"color\":\"#4D5663\",\"width\":1.3}},\"name\":\"A\",\"nbinsx\":25,\"opacity\":0.8,\"orientation\":\"v\",\"type\":\"histogram\",\"x\":[-1.252614793086047,-0.05970334235749016,1.1861410783422972,-0.08761128715742864,0.07950640464429827,1.2280562668624604,-1.3278069263914265,-1.363119785987805,-1.1386232623492012,-0.8393437156317276,-0.4541080744300972,2.0343495796888282,-3.09049460215665,0.16073727481802083,-0.4197095473149091,-0.2387478469942015,-0.059737805366917265,0.637232411048166,-0.16098446078613787,-0.39044693665236124,-0.18335785148903647,-1.4665474154877824,-0.9467091070463365,-1.363086400891611,1.1419161233127382,-0.8990356765986693,-0.47877126318615904,-0.08723595655352805,0.28836519048925785,0.4535211994873111,0.6072750672172921,0.7920328635238127,0.9210688520723921,0.8431813681496602,0.14682019235661373,-1.1829671348247588,-1.0438065432704076,1.4143243674487795,0.709957119062226,-0.6850164620237267,-1.0010708187907489,-0.34860627566652763,1.9900831507298398,0.18725017639146913,-0.6255124774152,-1.6017317227276038,0.885042918633726,0.7428077103813263,-0.8924785069045459,-1.3308889418400802,3.003745396974862,0.3371032077767076,0.46679193086201903,0.36616511575153876,-0.416335845412642,1.5194644015341876,0.5211470076410264,-1.5036153475796188,-0.26626662937057033,0.6978691732337882,-0.09511084342263629,0.30075260301102774,0.03197028510486337,1.4282640809936629,0.33128440588935226,0.8760426680096519,-0.04282550929148523,-1.4869944424905852,1.1016632292962907,-1.432616353521275,1.5575716683045684,-0.3201993175852064,0.3085393750442976,-1.6767132815810286,-0.43613840129391807,0.5444947534040682,-0.9564608279120181,-1.2149259364052323,0.2619339163954011,1.1510318594062585,-1.4935781096730616,-1.5364588271684487,-0.2014536368998715,1.0317682182611458,-1.2008107718275032,0.6417163449601327,2.0525571724871856,0.4544224835172775,0.8604257046342394,0.024338875911690164,0.4034582647556379,-0.31260916146689444,0.020281310347106393,-0.29632252607525494,-0.3145363114608712,-0.5558389308669797,-0.08374887468313946,-0.1925649721641307,-0.37837314814356626,-1.004110983807644]},{\"histfunc\":\"count\",\"histnorm\":\"\",\"marker\":{\"color\":\"rgba(55, 128, 191, 1.0)\",\"line\":{\"color\":\"#4D5663\",\"width\":1.3}},\"name\":\"B\",\"nbinsx\":25,\"opacity\":0.8,\"orientation\":\"v\",\"type\":\"histogram\",\"x\":[1.429907173744965,-0.3362692153993021,-0.22403939638327913,-0.1062523944097891,0.2474881419869791,-2.951570498412787,-1.3150465437708856,-0.09564344114602419,0.7924691287634381,-0.11059481319784327,-0.9574735207257397,-2.7741406899349563,-1.0816982566045203,-0.7050395721831006,-0.030415434382019057,-0.4233816135656058,1.13409136177349,-0.40242588625630915,-0.294198850624815,-0.10088674274843744,1.0390784149843242,0.5165220382316772,1.0292362169286038,-0.9443881069654166,-0.03415047970036683,-1.302863193040769,-1.8739862933198712,-0.14083809321526172,-1.027560506025851,-0.19154403604307874,1.188705505404244,0.8103271790333249,0.27403939984770914,-0.7969627075630051,1.1289182632483334,-1.6358823872587878,-0.6503428428357034,-0.6587248753403122,-0.8986836433415368,-1.2910519644339522,0.37456483954536046,-2.3331353592693427,-1.353315814768125,-1.6109918954270386,2.574398806434323,-0.7419382066961051,1.0111811133768143,0.8627681851633381,1.0684844064238004,0.9584140081934572,-1.2724226953088429,0.5623348949596787,0.21278803036445387,0.6362092764330177,-1.1507486672395217,0.480023659069112,-1.3364127200675031,0.8452624019906536,0.2509777094027647,0.20317230448967902,-2.5580200049648996,0.47164544114003987,0.13608375887967908,-1.3413832491890092,1.0794295284681177,0.03791755550436143,2.1927622697418774,1.7239478391164735,-0.8441975536242636,-0.555562737221605,0.8962983600870705,1.7163996644440285,0.3861053154127059,-0.5053146823691147,0.6629732990578995,1.7291436937887452,-0.19791142080973972,-0.17758994884436066,0.3835728374808757,0.1206356970118862,-0.5839764747918563,0.6562070488071372,0.79818803972454,-1.317059527577753,-0.36660244714059637,-0.07092316904929655,-1.9885058041209265,0.36046441628701004,-0.3787904255840291,0.40687581684755036,-0.9740597784537262,-0.5963017374604368,1.292358219538622,-0.678637329096281,-0.11217221669830485,-0.556064599371359,-1.2917102576840802,0.1961856894863246,1.8320554131446811,1.1361645082224023]},{\"histfunc\":\"count\",\"histnorm\":\"\",\"marker\":{\"color\":\"rgba(50, 171, 96, 1.0)\",\"line\":{\"color\":\"#4D5663\",\"width\":1.3}},\"name\":\"C\",\"nbinsx\":25,\"opacity\":0.8,\"orientation\":\"v\",\"type\":\"histogram\",\"x\":[1.497365056261028,-1.3652639392192893,-0.4633848596042667,-0.6554155737090046,-0.873403949723717,0.05599352265517801,-0.34473828248271027,-0.41319903909836236,-2.044032644851402,-0.3987393454406875,1.1597178016054088,-1.502703163866186,0.23826714360142273,-1.5741392475854807,0.7816858134640635,-2.142846708586097,-1.1859370206584845,0.33445280073709727,-0.7667894723828541,1.2527282906266344,-0.19539795589395198,0.7326304554079953,0.04444226457106558,-1.556251136029763,-0.27447090560656606,0.039518802829135904,-0.02416001405173457,-0.5242725573805086,-0.8428442369549263,-0.9811777369886999,-0.3350095463442984,0.990050751506994,0.017554043186999775,0.2783947893725052,-0.06539150267349131,0.5611531072387262,-0.5433755998816096,0.2877606032303694,-0.39623450285943856,0.4281403826859208,0.12491994104865614,-0.8686705362189602,-1.0093119510785222,-1.7450992786587147,1.2677715076129603,1.1909806049583975,0.27740851207658335,0.6833561525713735,0.4283470277056508,0.7913812387268874,-0.5557615424139913,-0.21904396042115679,0.08964190646166481,0.021193571224057968,0.6050834546942213,-1.1619352848327547,1.0143367637627896,0.6639951131808542,1.018881240687566,0.9919337469405568,-1.3286952823498934,0.0887076694256689,0.8409303174685794,0.04430809594242096,-1.1306458993693478,2.0736318396393814,-0.14677037462178721,-1.3931223572680242,-2.0547424091586253,0.6128352101220416,-1.3654986018914061,-0.4736373234472714,1.5474841315174899,1.4023528581155102,0.2671475960322153,1.2783022300586027,-1.5729061331608103,-1.263124573100888,-0.6798291541866253,-0.07536756430411999,0.3387490431114079,1.7316981530795819,-0.09149845946313058,0.8606384957577545,-0.04059028826209647,-0.13740954203864353,-0.617304623092329,2.0731238475848937,-0.820298203736963,-0.26698591194207655,0.7321591287947562,-0.821972232165776,-0.6262152567039138,-0.08896112446005197,-2.5427473812318784,0.1546583782646699,-0.28721326963380284,0.8187876780277029,-0.4270266101320868,0.27999194420218215]},{\"histfunc\":\"count\",\"histnorm\":\"\",\"marker\":{\"color\":\"rgba(128, 0, 128, 1.0)\",\"line\":{\"color\":\"#4D5663\",\"width\":1.3}},\"name\":\"D\",\"nbinsx\":25,\"opacity\":0.8,\"orientation\":\"v\",\"type\":\"histogram\",\"x\":[-0.7607516732532427,-1.254568488051787,-0.8788828748036107,-0.13665063756100818,0.07474348764667796,-0.3100043705116922,-2.0463341136143995,0.640808766840854,1.224538129726818,1.0886660890880229,0.4049848114617264,0.7485515644819034,-0.46248600223967307,0.9533718049057213,-0.3695657385477109,0.8832340804185418,0.9052960323805491,-0.3853489432776442,1.3159244798509053,-0.028767564722662828,0.06379612112194598,-0.5699264163729659,0.32702586302219483,0.08779247487238971,1.2860732684779363,2.0938721257990114,0.10641036516130699,-0.43614763748954455,-0.15454712915480173,1.6917422947637824,2.069900076611023,0.2728381375704959,0.8982963476299403,1.1626845775151418,-1.8514944212075175,0.5097088665460885,0.301289072860881,-0.9215289721219797,0.5195919347510675,0.6283349774206288,0.14180613856997362,-0.6596331767430526,-0.43804908361382316,-1.161466129764636,-0.3773059718348686,-2.140572355581783,-0.19500741390398052,-0.5863195712554702,0.9506076263372776,0.05794084130328615,1.114608481540598,1.0598559581825697,-1.5876844271788813,-0.14739138729617407,-0.580431636041587,-0.33284940498071774,1.0629167254062288,0.38472616162999584,-0.9184640525607392,0.8882962211984797,-1.014539375075398,0.37548732970143817,0.5803058105441924,0.4429555473857757,-1.2144704173369645,0.13144813153609372,-0.8080736698792067,0.8897350266785666,1.1618872824269493,-0.38335647093100017,-0.2727693174039654,-0.25018635867093286,1.1484717709362309,0.49378345946541696,1.101291396885938,-0.49177164389114286,-1.6401018997496926,1.277848986380219,0.12810121345704542,-0.9889079946366958,-0.5251123223013637,1.1599073316060275,0.5708057586905046,-0.35367070891227775,0.8950168639617084,-0.9437864888126327,-0.46412027474338197,-1.5511026925124407,-0.2761019732505129,0.15029292622478768,1.4277411536710876,2.4147463451354967,-0.08801777586421945,-0.6338679739225697,-0.14945606892838023,0.6667328009341639,-0.3684321797614924,-0.9142366078263781,-0.4271860199935734,2.0408302414506343]}],                        {\"barmode\":\"overlay\",\"legend\":{\"bgcolor\":\"#F5F6F9\",\"font\":{\"color\":\"#4D5663\"}},\"paper_bgcolor\":\"#F5F6F9\",\"plot_bgcolor\":\"#F5F6F9\",\"template\":{\"data\":{\"bar\":[{\"error_x\":{\"color\":\"#2a3f5f\"},\"error_y\":{\"color\":\"#2a3f5f\"},\"marker\":{\"line\":{\"color\":\"#E5ECF6\",\"width\":0.5},\"pattern\":{\"fillmode\":\"overlay\",\"size\":10,\"solidity\":0.2}},\"type\":\"bar\"}],\"barpolar\":[{\"marker\":{\"line\":{\"color\":\"#E5ECF6\",\"width\":0.5},\"pattern\":{\"fillmode\":\"overlay\",\"size\":10,\"solidity\":0.2}},\"type\":\"barpolar\"}],\"carpet\":[{\"aaxis\":{\"endlinecolor\":\"#2a3f5f\",\"gridcolor\":\"white\",\"linecolor\":\"white\",\"minorgridcolor\":\"white\",\"startlinecolor\":\"#2a3f5f\"},\"baxis\":{\"endlinecolor\":\"#2a3f5f\",\"gridcolor\":\"white\",\"linecolor\":\"white\",\"minorgridcolor\":\"white\",\"startlinecolor\":\"#2a3f5f\"},\"type\":\"carpet\"}],\"choropleth\":[{\"colorbar\":{\"outlinewidth\":0,\"ticks\":\"\"},\"type\":\"choropleth\"}],\"contour\":[{\"colorbar\":{\"outlinewidth\":0,\"ticks\":\"\"},\"colorscale\":[[0.0,\"#0d0887\"],[0.1111111111111111,\"#46039f\"],[0.2222222222222222,\"#7201a8\"],[0.3333333333333333,\"#9c179e\"],[0.4444444444444444,\"#bd3786\"],[0.5555555555555556,\"#d8576b\"],[0.6666666666666666,\"#ed7953\"],[0.7777777777777778,\"#fb9f3a\"],[0.8888888888888888,\"#fdca26\"],[1.0,\"#f0f921\"]],\"type\":\"contour\"}],\"contourcarpet\":[{\"colorbar\":{\"outlinewidth\":0,\"ticks\":\"\"},\"type\":\"contourcarpet\"}],\"heatmap\":[{\"colorbar\":{\"outlinewidth\":0,\"ticks\":\"\"},\"colorscale\":[[0.0,\"#0d0887\"],[0.1111111111111111,\"#46039f\"],[0.2222222222222222,\"#7201a8\"],[0.3333333333333333,\"#9c179e\"],[0.4444444444444444,\"#bd3786\"],[0.5555555555555556,\"#d8576b\"],[0.6666666666666666,\"#ed7953\"],[0.7777777777777778,\"#fb9f3a\"],[0.8888888888888888,\"#fdca26\"],[1.0,\"#f0f921\"]],\"type\":\"heatmap\"}],\"heatmapgl\":[{\"colorbar\":{\"outlinewidth\":0,\"ticks\":\"\"},\"colorscale\":[[0.0,\"#0d0887\"],[0.1111111111111111,\"#46039f\"],[0.2222222222222222,\"#7201a8\"],[0.3333333333333333,\"#9c179e\"],[0.4444444444444444,\"#bd3786\"],[0.5555555555555556,\"#d8576b\"],[0.6666666666666666,\"#ed7953\"],[0.7777777777777778,\"#fb9f3a\"],[0.8888888888888888,\"#fdca26\"],[1.0,\"#f0f921\"]],\"type\":\"heatmapgl\"}],\"histogram\":[{\"marker\":{\"pattern\":{\"fillmode\":\"overlay\",\"size\":10,\"solidity\":0.2}},\"type\":\"histogram\"}],\"histogram2d\":[{\"colorbar\":{\"outlinewidth\":0,\"ticks\":\"\"},\"colorscale\":[[0.0,\"#0d0887\"],[0.1111111111111111,\"#46039f\"],[0.2222222222222222,\"#7201a8\"],[0.3333333333333333,\"#9c179e\"],[0.4444444444444444,\"#bd3786\"],[0.5555555555555556,\"#d8576b\"],[0.6666666666666666,\"#ed7953\"],[0.7777777777777778,\"#fb9f3a\"],[0.8888888888888888,\"#fdca26\"],[1.0,\"#f0f921\"]],\"type\":\"histogram2d\"}],\"histogram2dcontour\":[{\"colorbar\":{\"outlinewidth\":0,\"ticks\":\"\"},\"colorscale\":[[0.0,\"#0d0887\"],[0.1111111111111111,\"#46039f\"],[0.2222222222222222,\"#7201a8\"],[0.3333333333333333,\"#9c179e\"],[0.4444444444444444,\"#bd3786\"],[0.5555555555555556,\"#d8576b\"],[0.6666666666666666,\"#ed7953\"],[0.7777777777777778,\"#fb9f3a\"],[0.8888888888888888,\"#fdca26\"],[1.0,\"#f0f921\"]],\"type\":\"histogram2dcontour\"}],\"mesh3d\":[{\"colorbar\":{\"outlinewidth\":0,\"ticks\":\"\"},\"type\":\"mesh3d\"}],\"parcoords\":[{\"line\":{\"colorbar\":{\"outlinewidth\":0,\"ticks\":\"\"}},\"type\":\"parcoords\"}],\"pie\":[{\"automargin\":true,\"type\":\"pie\"}],\"scatter\":[{\"marker\":{\"colorbar\":{\"outlinewidth\":0,\"ticks\":\"\"}},\"type\":\"scatter\"}],\"scatter3d\":[{\"line\":{\"colorbar\":{\"outlinewidth\":0,\"ticks\":\"\"}},\"marker\":{\"colorbar\":{\"outlinewidth\":0,\"ticks\":\"\"}},\"type\":\"scatter3d\"}],\"scattercarpet\":[{\"marker\":{\"colorbar\":{\"outlinewidth\":0,\"ticks\":\"\"}},\"type\":\"scattercarpet\"}],\"scattergeo\":[{\"marker\":{\"colorbar\":{\"outlinewidth\":0,\"ticks\":\"\"}},\"type\":\"scattergeo\"}],\"scattergl\":[{\"marker\":{\"colorbar\":{\"outlinewidth\":0,\"ticks\":\"\"}},\"type\":\"scattergl\"}],\"scattermapbox\":[{\"marker\":{\"colorbar\":{\"outlinewidth\":0,\"ticks\":\"\"}},\"type\":\"scattermapbox\"}],\"scatterpolar\":[{\"marker\":{\"colorbar\":{\"outlinewidth\":0,\"ticks\":\"\"}},\"type\":\"scatterpolar\"}],\"scatterpolargl\":[{\"marker\":{\"colorbar\":{\"outlinewidth\":0,\"ticks\":\"\"}},\"type\":\"scatterpolargl\"}],\"scatterternary\":[{\"marker\":{\"colorbar\":{\"outlinewidth\":0,\"ticks\":\"\"}},\"type\":\"scatterternary\"}],\"surface\":[{\"colorbar\":{\"outlinewidth\":0,\"ticks\":\"\"},\"colorscale\":[[0.0,\"#0d0887\"],[0.1111111111111111,\"#46039f\"],[0.2222222222222222,\"#7201a8\"],[0.3333333333333333,\"#9c179e\"],[0.4444444444444444,\"#bd3786\"],[0.5555555555555556,\"#d8576b\"],[0.6666666666666666,\"#ed7953\"],[0.7777777777777778,\"#fb9f3a\"],[0.8888888888888888,\"#fdca26\"],[1.0,\"#f0f921\"]],\"type\":\"surface\"}],\"table\":[{\"cells\":{\"fill\":{\"color\":\"#EBF0F8\"},\"line\":{\"color\":\"white\"}},\"header\":{\"fill\":{\"color\":\"#C8D4E3\"},\"line\":{\"color\":\"white\"}},\"type\":\"table\"}]},\"layout\":{\"annotationdefaults\":{\"arrowcolor\":\"#2a3f5f\",\"arrowhead\":0,\"arrowwidth\":1},\"autotypenumbers\":\"strict\",\"coloraxis\":{\"colorbar\":{\"outlinewidth\":0,\"ticks\":\"\"}},\"colorscale\":{\"diverging\":[[0,\"#8e0152\"],[0.1,\"#c51b7d\"],[0.2,\"#de77ae\"],[0.3,\"#f1b6da\"],[0.4,\"#fde0ef\"],[0.5,\"#f7f7f7\"],[0.6,\"#e6f5d0\"],[0.7,\"#b8e186\"],[0.8,\"#7fbc41\"],[0.9,\"#4d9221\"],[1,\"#276419\"]],\"sequential\":[[0.0,\"#0d0887\"],[0.1111111111111111,\"#46039f\"],[0.2222222222222222,\"#7201a8\"],[0.3333333333333333,\"#9c179e\"],[0.4444444444444444,\"#bd3786\"],[0.5555555555555556,\"#d8576b\"],[0.6666666666666666,\"#ed7953\"],[0.7777777777777778,\"#fb9f3a\"],[0.8888888888888888,\"#fdca26\"],[1.0,\"#f0f921\"]],\"sequentialminus\":[[0.0,\"#0d0887\"],[0.1111111111111111,\"#46039f\"],[0.2222222222222222,\"#7201a8\"],[0.3333333333333333,\"#9c179e\"],[0.4444444444444444,\"#bd3786\"],[0.5555555555555556,\"#d8576b\"],[0.6666666666666666,\"#ed7953\"],[0.7777777777777778,\"#fb9f3a\"],[0.8888888888888888,\"#fdca26\"],[1.0,\"#f0f921\"]]},\"colorway\":[\"#636efa\",\"#EF553B\",\"#00cc96\",\"#ab63fa\",\"#FFA15A\",\"#19d3f3\",\"#FF6692\",\"#B6E880\",\"#FF97FF\",\"#FECB52\"],\"font\":{\"color\":\"#2a3f5f\"},\"geo\":{\"bgcolor\":\"white\",\"lakecolor\":\"white\",\"landcolor\":\"#E5ECF6\",\"showlakes\":true,\"showland\":true,\"subunitcolor\":\"white\"},\"hoverlabel\":{\"align\":\"left\"},\"hovermode\":\"closest\",\"mapbox\":{\"style\":\"light\"},\"paper_bgcolor\":\"white\",\"plot_bgcolor\":\"#E5ECF6\",\"polar\":{\"angularaxis\":{\"gridcolor\":\"white\",\"linecolor\":\"white\",\"ticks\":\"\"},\"bgcolor\":\"#E5ECF6\",\"radialaxis\":{\"gridcolor\":\"white\",\"linecolor\":\"white\",\"ticks\":\"\"}},\"scene\":{\"xaxis\":{\"backgroundcolor\":\"#E5ECF6\",\"gridcolor\":\"white\",\"gridwidth\":2,\"linecolor\":\"white\",\"showbackground\":true,\"ticks\":\"\",\"zerolinecolor\":\"white\"},\"yaxis\":{\"backgroundcolor\":\"#E5ECF6\",\"gridcolor\":\"white\",\"gridwidth\":2,\"linecolor\":\"white\",\"showbackground\":true,\"ticks\":\"\",\"zerolinecolor\":\"white\"},\"zaxis\":{\"backgroundcolor\":\"#E5ECF6\",\"gridcolor\":\"white\",\"gridwidth\":2,\"linecolor\":\"white\",\"showbackground\":true,\"ticks\":\"\",\"zerolinecolor\":\"white\"}},\"shapedefaults\":{\"line\":{\"color\":\"#2a3f5f\"}},\"ternary\":{\"aaxis\":{\"gridcolor\":\"white\",\"linecolor\":\"white\",\"ticks\":\"\"},\"baxis\":{\"gridcolor\":\"white\",\"linecolor\":\"white\",\"ticks\":\"\"},\"bgcolor\":\"#E5ECF6\",\"caxis\":{\"gridcolor\":\"white\",\"linecolor\":\"white\",\"ticks\":\"\"}},\"title\":{\"x\":0.05},\"xaxis\":{\"automargin\":true,\"gridcolor\":\"white\",\"linecolor\":\"white\",\"ticks\":\"\",\"title\":{\"standoff\":15},\"zerolinecolor\":\"white\",\"zerolinewidth\":2},\"yaxis\":{\"automargin\":true,\"gridcolor\":\"white\",\"linecolor\":\"white\",\"ticks\":\"\",\"title\":{\"standoff\":15},\"zerolinecolor\":\"white\",\"zerolinewidth\":2}}},\"title\":{\"font\":{\"color\":\"#4D5663\"}},\"xaxis\":{\"gridcolor\":\"#E1E5ED\",\"showgrid\":true,\"tickfont\":{\"color\":\"#4D5663\"},\"title\":{\"font\":{\"color\":\"#4D5663\"},\"text\":\"\"},\"zerolinecolor\":\"#E1E5ED\"},\"yaxis\":{\"gridcolor\":\"#E1E5ED\",\"showgrid\":true,\"tickfont\":{\"color\":\"#4D5663\"},\"title\":{\"font\":{\"color\":\"#4D5663\"},\"text\":\"\"},\"zerolinecolor\":\"#E1E5ED\"}},                        {\"showLink\": true, \"linkText\": \"Export to plot.ly\", \"plotlyServerURL\": \"https://plot.ly\", \"responsive\": true}                    ).then(function(){\n",
       "                            \n",
       "var gd = document.getElementById('27d9225e-cecb-4263-af21-c68658ab0cf1');\n",
       "var x = new MutationObserver(function (mutations, observer) {{\n",
       "        var display = window.getComputedStyle(gd).display;\n",
       "        if (!display || display === 'none') {{\n",
       "            console.log([gd, 'removed!']);\n",
       "            Plotly.purge(gd);\n",
       "            observer.disconnect();\n",
       "        }}\n",
       "}});\n",
       "\n",
       "// Listen for the removal of the full notebook cells\n",
       "var notebookContainer = gd.closest('#notebook-container');\n",
       "if (notebookContainer) {{\n",
       "    x.observe(notebookContainer, {childList: true});\n",
       "}}\n",
       "\n",
       "// Listen for the clearing of the current output cell\n",
       "var outputEl = gd.closest('.output');\n",
       "if (outputEl) {{\n",
       "    x.observe(outputEl, {childList: true});\n",
       "}}\n",
       "\n",
       "                        })                };                });            </script>        </div>"
      ]
     },
     "metadata": {},
     "output_type": "display_data"
    }
   ],
   "source": [
    "df.iplot(kind='hist',bins=25)"
   ]
  },
  {
   "cell_type": "markdown",
   "metadata": {},
   "source": [
    "## bubble"
   ]
  },
  {
   "cell_type": "code",
   "execution_count": 33,
   "metadata": {},
   "outputs": [
    {
     "data": {
      "application/vnd.plotly.v1+json": {
       "config": {
        "linkText": "Export to plot.ly",
        "plotlyServerURL": "https://plot.ly",
        "showLink": true
       },
       "data": [
        {
         "marker": {
          "color": [
           "rgb(255, 153, 51)",
           "rgb(55, 128, 191)",
           "rgb(50, 171, 96)",
           "rgb(128, 0, 128)",
           "rgb(219, 64, 82)",
           "rgb(0, 128, 128)",
           "rgb(255, 255, 51)",
           "rgb(128, 128, 0)",
           "rgb(251, 128, 114)",
           "rgb(128, 177, 211)"
          ],
          "line": {
           "width": 1.3
          },
          "size": [
           99,
           37,
           57,
           52,
           48,
           68,
           59,
           58,
           22,
           58,
           92,
           34,
           72,
           32,
           84,
           20,
           41,
           74,
           50,
           94,
           62,
           82,
           68,
           33,
           61,
           67,
           66,
           55,
           48,
           45,
           59,
           88,
           67,
           73,
           65,
           79,
           55,
           73,
           58,
           76,
           69,
           48,
           45,
           29,
           94,
           92,
           73,
           81,
           76,
           84,
           55,
           62,
           69,
           67,
           80,
           41,
           89,
           81,
           89,
           88,
           38,
           69,
           85,
           68,
           42,
           112,
           63,
           36,
           22,
           80,
           37,
           56,
           100,
           97,
           72,
           94,
           33,
           39,
           52,
           65,
           74,
           104,
           65,
           85,
           66,
           64,
           53,
           111,
           49,
           61,
           82,
           49,
           53,
           65,
           12,
           70,
           60,
           84,
           57,
           73
          ],
          "symbol": "circle"
         },
         "mode": "markers",
         "text": "",
         "type": "scatter",
         "x": [
          -1.252614793086047,
          -0.05970334235749016,
          1.1861410783422972,
          -0.08761128715742864,
          0.07950640464429827,
          1.2280562668624604,
          -1.3278069263914265,
          -1.363119785987805,
          -1.1386232623492012,
          -0.8393437156317276,
          -0.4541080744300972,
          2.0343495796888282,
          -3.09049460215665,
          0.16073727481802083,
          -0.4197095473149091,
          -0.2387478469942015,
          -0.059737805366917265,
          0.637232411048166,
          -0.16098446078613787,
          -0.39044693665236124,
          -0.18335785148903647,
          -1.4665474154877824,
          -0.9467091070463365,
          -1.363086400891611,
          1.1419161233127382,
          -0.8990356765986693,
          -0.47877126318615904,
          -0.08723595655352805,
          0.28836519048925785,
          0.4535211994873111,
          0.6072750672172921,
          0.7920328635238127,
          0.9210688520723921,
          0.8431813681496602,
          0.14682019235661373,
          -1.1829671348247588,
          -1.0438065432704076,
          1.4143243674487795,
          0.709957119062226,
          -0.6850164620237267,
          -1.0010708187907489,
          -0.34860627566652763,
          1.9900831507298398,
          0.18725017639146913,
          -0.6255124774152,
          -1.6017317227276038,
          0.885042918633726,
          0.7428077103813263,
          -0.8924785069045459,
          -1.3308889418400802,
          3.003745396974862,
          0.3371032077767076,
          0.46679193086201903,
          0.36616511575153876,
          -0.416335845412642,
          1.5194644015341876,
          0.5211470076410264,
          -1.5036153475796188,
          -0.26626662937057033,
          0.6978691732337882,
          -0.09511084342263629,
          0.30075260301102774,
          0.03197028510486337,
          1.4282640809936629,
          0.33128440588935226,
          0.8760426680096519,
          -0.04282550929148523,
          -1.4869944424905852,
          1.1016632292962907,
          -1.432616353521275,
          1.5575716683045684,
          -0.3201993175852064,
          0.3085393750442976,
          -1.6767132815810286,
          -0.43613840129391807,
          0.5444947534040682,
          -0.9564608279120181,
          -1.2149259364052323,
          0.2619339163954011,
          1.1510318594062585,
          -1.4935781096730616,
          -1.5364588271684487,
          -0.2014536368998715,
          1.0317682182611458,
          -1.2008107718275032,
          0.6417163449601327,
          2.0525571724871856,
          0.4544224835172775,
          0.8604257046342394,
          0.024338875911690164,
          0.4034582647556379,
          -0.31260916146689444,
          0.020281310347106393,
          -0.29632252607525494,
          -0.3145363114608712,
          -0.5558389308669797,
          -0.08374887468313946,
          -0.1925649721641307,
          -0.37837314814356626,
          -1.004110983807644
         ],
         "y": [
          1.429907173744965,
          -0.3362692153993021,
          -0.22403939638327913,
          -0.1062523944097891,
          0.2474881419869791,
          -2.951570498412787,
          -1.3150465437708856,
          -0.09564344114602419,
          0.7924691287634381,
          -0.11059481319784327,
          -0.9574735207257397,
          -2.7741406899349563,
          -1.0816982566045203,
          -0.7050395721831006,
          -0.030415434382019057,
          -0.4233816135656058,
          1.13409136177349,
          -0.40242588625630915,
          -0.294198850624815,
          -0.10088674274843744,
          1.0390784149843242,
          0.5165220382316772,
          1.0292362169286038,
          -0.9443881069654166,
          -0.03415047970036683,
          -1.302863193040769,
          -1.8739862933198712,
          -0.14083809321526172,
          -1.027560506025851,
          -0.19154403604307874,
          1.188705505404244,
          0.8103271790333249,
          0.27403939984770914,
          -0.7969627075630051,
          1.1289182632483334,
          -1.6358823872587878,
          -0.6503428428357034,
          -0.6587248753403122,
          -0.8986836433415368,
          -1.2910519644339522,
          0.37456483954536046,
          -2.3331353592693427,
          -1.353315814768125,
          -1.6109918954270386,
          2.574398806434323,
          -0.7419382066961051,
          1.0111811133768143,
          0.8627681851633381,
          1.0684844064238004,
          0.9584140081934572,
          -1.2724226953088429,
          0.5623348949596787,
          0.21278803036445387,
          0.6362092764330177,
          -1.1507486672395217,
          0.480023659069112,
          -1.3364127200675031,
          0.8452624019906536,
          0.2509777094027647,
          0.20317230448967902,
          -2.5580200049648996,
          0.47164544114003987,
          0.13608375887967908,
          -1.3413832491890092,
          1.0794295284681177,
          0.03791755550436143,
          2.1927622697418774,
          1.7239478391164735,
          -0.8441975536242636,
          -0.555562737221605,
          0.8962983600870705,
          1.7163996644440285,
          0.3861053154127059,
          -0.5053146823691147,
          0.6629732990578995,
          1.7291436937887452,
          -0.19791142080973972,
          -0.17758994884436066,
          0.3835728374808757,
          0.1206356970118862,
          -0.5839764747918563,
          0.6562070488071372,
          0.79818803972454,
          -1.317059527577753,
          -0.36660244714059637,
          -0.07092316904929655,
          -1.9885058041209265,
          0.36046441628701004,
          -0.3787904255840291,
          0.40687581684755036,
          -0.9740597784537262,
          -0.5963017374604368,
          1.292358219538622,
          -0.678637329096281,
          -0.11217221669830485,
          -0.556064599371359,
          -1.2917102576840802,
          0.1961856894863246,
          1.8320554131446811,
          1.1361645082224023
         ]
        }
       ],
       "layout": {
        "legend": {
         "bgcolor": "#F5F6F9",
         "font": {
          "color": "#4D5663"
         }
        },
        "paper_bgcolor": "#F5F6F9",
        "plot_bgcolor": "#F5F6F9",
        "template": {
         "data": {
          "bar": [
           {
            "error_x": {
             "color": "#2a3f5f"
            },
            "error_y": {
             "color": "#2a3f5f"
            },
            "marker": {
             "line": {
              "color": "#E5ECF6",
              "width": 0.5
             },
             "pattern": {
              "fillmode": "overlay",
              "size": 10,
              "solidity": 0.2
             }
            },
            "type": "bar"
           }
          ],
          "barpolar": [
           {
            "marker": {
             "line": {
              "color": "#E5ECF6",
              "width": 0.5
             },
             "pattern": {
              "fillmode": "overlay",
              "size": 10,
              "solidity": 0.2
             }
            },
            "type": "barpolar"
           }
          ],
          "carpet": [
           {
            "aaxis": {
             "endlinecolor": "#2a3f5f",
             "gridcolor": "white",
             "linecolor": "white",
             "minorgridcolor": "white",
             "startlinecolor": "#2a3f5f"
            },
            "baxis": {
             "endlinecolor": "#2a3f5f",
             "gridcolor": "white",
             "linecolor": "white",
             "minorgridcolor": "white",
             "startlinecolor": "#2a3f5f"
            },
            "type": "carpet"
           }
          ],
          "choropleth": [
           {
            "colorbar": {
             "outlinewidth": 0,
             "ticks": ""
            },
            "type": "choropleth"
           }
          ],
          "contour": [
           {
            "colorbar": {
             "outlinewidth": 0,
             "ticks": ""
            },
            "colorscale": [
             [
              0,
              "#0d0887"
             ],
             [
              0.1111111111111111,
              "#46039f"
             ],
             [
              0.2222222222222222,
              "#7201a8"
             ],
             [
              0.3333333333333333,
              "#9c179e"
             ],
             [
              0.4444444444444444,
              "#bd3786"
             ],
             [
              0.5555555555555556,
              "#d8576b"
             ],
             [
              0.6666666666666666,
              "#ed7953"
             ],
             [
              0.7777777777777778,
              "#fb9f3a"
             ],
             [
              0.8888888888888888,
              "#fdca26"
             ],
             [
              1,
              "#f0f921"
             ]
            ],
            "type": "contour"
           }
          ],
          "contourcarpet": [
           {
            "colorbar": {
             "outlinewidth": 0,
             "ticks": ""
            },
            "type": "contourcarpet"
           }
          ],
          "heatmap": [
           {
            "colorbar": {
             "outlinewidth": 0,
             "ticks": ""
            },
            "colorscale": [
             [
              0,
              "#0d0887"
             ],
             [
              0.1111111111111111,
              "#46039f"
             ],
             [
              0.2222222222222222,
              "#7201a8"
             ],
             [
              0.3333333333333333,
              "#9c179e"
             ],
             [
              0.4444444444444444,
              "#bd3786"
             ],
             [
              0.5555555555555556,
              "#d8576b"
             ],
             [
              0.6666666666666666,
              "#ed7953"
             ],
             [
              0.7777777777777778,
              "#fb9f3a"
             ],
             [
              0.8888888888888888,
              "#fdca26"
             ],
             [
              1,
              "#f0f921"
             ]
            ],
            "type": "heatmap"
           }
          ],
          "heatmapgl": [
           {
            "colorbar": {
             "outlinewidth": 0,
             "ticks": ""
            },
            "colorscale": [
             [
              0,
              "#0d0887"
             ],
             [
              0.1111111111111111,
              "#46039f"
             ],
             [
              0.2222222222222222,
              "#7201a8"
             ],
             [
              0.3333333333333333,
              "#9c179e"
             ],
             [
              0.4444444444444444,
              "#bd3786"
             ],
             [
              0.5555555555555556,
              "#d8576b"
             ],
             [
              0.6666666666666666,
              "#ed7953"
             ],
             [
              0.7777777777777778,
              "#fb9f3a"
             ],
             [
              0.8888888888888888,
              "#fdca26"
             ],
             [
              1,
              "#f0f921"
             ]
            ],
            "type": "heatmapgl"
           }
          ],
          "histogram": [
           {
            "marker": {
             "pattern": {
              "fillmode": "overlay",
              "size": 10,
              "solidity": 0.2
             }
            },
            "type": "histogram"
           }
          ],
          "histogram2d": [
           {
            "colorbar": {
             "outlinewidth": 0,
             "ticks": ""
            },
            "colorscale": [
             [
              0,
              "#0d0887"
             ],
             [
              0.1111111111111111,
              "#46039f"
             ],
             [
              0.2222222222222222,
              "#7201a8"
             ],
             [
              0.3333333333333333,
              "#9c179e"
             ],
             [
              0.4444444444444444,
              "#bd3786"
             ],
             [
              0.5555555555555556,
              "#d8576b"
             ],
             [
              0.6666666666666666,
              "#ed7953"
             ],
             [
              0.7777777777777778,
              "#fb9f3a"
             ],
             [
              0.8888888888888888,
              "#fdca26"
             ],
             [
              1,
              "#f0f921"
             ]
            ],
            "type": "histogram2d"
           }
          ],
          "histogram2dcontour": [
           {
            "colorbar": {
             "outlinewidth": 0,
             "ticks": ""
            },
            "colorscale": [
             [
              0,
              "#0d0887"
             ],
             [
              0.1111111111111111,
              "#46039f"
             ],
             [
              0.2222222222222222,
              "#7201a8"
             ],
             [
              0.3333333333333333,
              "#9c179e"
             ],
             [
              0.4444444444444444,
              "#bd3786"
             ],
             [
              0.5555555555555556,
              "#d8576b"
             ],
             [
              0.6666666666666666,
              "#ed7953"
             ],
             [
              0.7777777777777778,
              "#fb9f3a"
             ],
             [
              0.8888888888888888,
              "#fdca26"
             ],
             [
              1,
              "#f0f921"
             ]
            ],
            "type": "histogram2dcontour"
           }
          ],
          "mesh3d": [
           {
            "colorbar": {
             "outlinewidth": 0,
             "ticks": ""
            },
            "type": "mesh3d"
           }
          ],
          "parcoords": [
           {
            "line": {
             "colorbar": {
              "outlinewidth": 0,
              "ticks": ""
             }
            },
            "type": "parcoords"
           }
          ],
          "pie": [
           {
            "automargin": true,
            "type": "pie"
           }
          ],
          "scatter": [
           {
            "marker": {
             "colorbar": {
              "outlinewidth": 0,
              "ticks": ""
             }
            },
            "type": "scatter"
           }
          ],
          "scatter3d": [
           {
            "line": {
             "colorbar": {
              "outlinewidth": 0,
              "ticks": ""
             }
            },
            "marker": {
             "colorbar": {
              "outlinewidth": 0,
              "ticks": ""
             }
            },
            "type": "scatter3d"
           }
          ],
          "scattercarpet": [
           {
            "marker": {
             "colorbar": {
              "outlinewidth": 0,
              "ticks": ""
             }
            },
            "type": "scattercarpet"
           }
          ],
          "scattergeo": [
           {
            "marker": {
             "colorbar": {
              "outlinewidth": 0,
              "ticks": ""
             }
            },
            "type": "scattergeo"
           }
          ],
          "scattergl": [
           {
            "marker": {
             "colorbar": {
              "outlinewidth": 0,
              "ticks": ""
             }
            },
            "type": "scattergl"
           }
          ],
          "scattermapbox": [
           {
            "marker": {
             "colorbar": {
              "outlinewidth": 0,
              "ticks": ""
             }
            },
            "type": "scattermapbox"
           }
          ],
          "scatterpolar": [
           {
            "marker": {
             "colorbar": {
              "outlinewidth": 0,
              "ticks": ""
             }
            },
            "type": "scatterpolar"
           }
          ],
          "scatterpolargl": [
           {
            "marker": {
             "colorbar": {
              "outlinewidth": 0,
              "ticks": ""
             }
            },
            "type": "scatterpolargl"
           }
          ],
          "scatterternary": [
           {
            "marker": {
             "colorbar": {
              "outlinewidth": 0,
              "ticks": ""
             }
            },
            "type": "scatterternary"
           }
          ],
          "surface": [
           {
            "colorbar": {
             "outlinewidth": 0,
             "ticks": ""
            },
            "colorscale": [
             [
              0,
              "#0d0887"
             ],
             [
              0.1111111111111111,
              "#46039f"
             ],
             [
              0.2222222222222222,
              "#7201a8"
             ],
             [
              0.3333333333333333,
              "#9c179e"
             ],
             [
              0.4444444444444444,
              "#bd3786"
             ],
             [
              0.5555555555555556,
              "#d8576b"
             ],
             [
              0.6666666666666666,
              "#ed7953"
             ],
             [
              0.7777777777777778,
              "#fb9f3a"
             ],
             [
              0.8888888888888888,
              "#fdca26"
             ],
             [
              1,
              "#f0f921"
             ]
            ],
            "type": "surface"
           }
          ],
          "table": [
           {
            "cells": {
             "fill": {
              "color": "#EBF0F8"
             },
             "line": {
              "color": "white"
             }
            },
            "header": {
             "fill": {
              "color": "#C8D4E3"
             },
             "line": {
              "color": "white"
             }
            },
            "type": "table"
           }
          ]
         },
         "layout": {
          "annotationdefaults": {
           "arrowcolor": "#2a3f5f",
           "arrowhead": 0,
           "arrowwidth": 1
          },
          "autotypenumbers": "strict",
          "coloraxis": {
           "colorbar": {
            "outlinewidth": 0,
            "ticks": ""
           }
          },
          "colorscale": {
           "diverging": [
            [
             0,
             "#8e0152"
            ],
            [
             0.1,
             "#c51b7d"
            ],
            [
             0.2,
             "#de77ae"
            ],
            [
             0.3,
             "#f1b6da"
            ],
            [
             0.4,
             "#fde0ef"
            ],
            [
             0.5,
             "#f7f7f7"
            ],
            [
             0.6,
             "#e6f5d0"
            ],
            [
             0.7,
             "#b8e186"
            ],
            [
             0.8,
             "#7fbc41"
            ],
            [
             0.9,
             "#4d9221"
            ],
            [
             1,
             "#276419"
            ]
           ],
           "sequential": [
            [
             0,
             "#0d0887"
            ],
            [
             0.1111111111111111,
             "#46039f"
            ],
            [
             0.2222222222222222,
             "#7201a8"
            ],
            [
             0.3333333333333333,
             "#9c179e"
            ],
            [
             0.4444444444444444,
             "#bd3786"
            ],
            [
             0.5555555555555556,
             "#d8576b"
            ],
            [
             0.6666666666666666,
             "#ed7953"
            ],
            [
             0.7777777777777778,
             "#fb9f3a"
            ],
            [
             0.8888888888888888,
             "#fdca26"
            ],
            [
             1,
             "#f0f921"
            ]
           ],
           "sequentialminus": [
            [
             0,
             "#0d0887"
            ],
            [
             0.1111111111111111,
             "#46039f"
            ],
            [
             0.2222222222222222,
             "#7201a8"
            ],
            [
             0.3333333333333333,
             "#9c179e"
            ],
            [
             0.4444444444444444,
             "#bd3786"
            ],
            [
             0.5555555555555556,
             "#d8576b"
            ],
            [
             0.6666666666666666,
             "#ed7953"
            ],
            [
             0.7777777777777778,
             "#fb9f3a"
            ],
            [
             0.8888888888888888,
             "#fdca26"
            ],
            [
             1,
             "#f0f921"
            ]
           ]
          },
          "colorway": [
           "#636efa",
           "#EF553B",
           "#00cc96",
           "#ab63fa",
           "#FFA15A",
           "#19d3f3",
           "#FF6692",
           "#B6E880",
           "#FF97FF",
           "#FECB52"
          ],
          "font": {
           "color": "#2a3f5f"
          },
          "geo": {
           "bgcolor": "white",
           "lakecolor": "white",
           "landcolor": "#E5ECF6",
           "showlakes": true,
           "showland": true,
           "subunitcolor": "white"
          },
          "hoverlabel": {
           "align": "left"
          },
          "hovermode": "closest",
          "mapbox": {
           "style": "light"
          },
          "paper_bgcolor": "white",
          "plot_bgcolor": "#E5ECF6",
          "polar": {
           "angularaxis": {
            "gridcolor": "white",
            "linecolor": "white",
            "ticks": ""
           },
           "bgcolor": "#E5ECF6",
           "radialaxis": {
            "gridcolor": "white",
            "linecolor": "white",
            "ticks": ""
           }
          },
          "scene": {
           "xaxis": {
            "backgroundcolor": "#E5ECF6",
            "gridcolor": "white",
            "gridwidth": 2,
            "linecolor": "white",
            "showbackground": true,
            "ticks": "",
            "zerolinecolor": "white"
           },
           "yaxis": {
            "backgroundcolor": "#E5ECF6",
            "gridcolor": "white",
            "gridwidth": 2,
            "linecolor": "white",
            "showbackground": true,
            "ticks": "",
            "zerolinecolor": "white"
           },
           "zaxis": {
            "backgroundcolor": "#E5ECF6",
            "gridcolor": "white",
            "gridwidth": 2,
            "linecolor": "white",
            "showbackground": true,
            "ticks": "",
            "zerolinecolor": "white"
           }
          },
          "shapedefaults": {
           "line": {
            "color": "#2a3f5f"
           }
          },
          "ternary": {
           "aaxis": {
            "gridcolor": "white",
            "linecolor": "white",
            "ticks": ""
           },
           "baxis": {
            "gridcolor": "white",
            "linecolor": "white",
            "ticks": ""
           },
           "bgcolor": "#E5ECF6",
           "caxis": {
            "gridcolor": "white",
            "linecolor": "white",
            "ticks": ""
           }
          },
          "title": {
           "x": 0.05
          },
          "xaxis": {
           "automargin": true,
           "gridcolor": "white",
           "linecolor": "white",
           "ticks": "",
           "title": {
            "standoff": 15
           },
           "zerolinecolor": "white",
           "zerolinewidth": 2
          },
          "yaxis": {
           "automargin": true,
           "gridcolor": "white",
           "linecolor": "white",
           "ticks": "",
           "title": {
            "standoff": 15
           },
           "zerolinecolor": "white",
           "zerolinewidth": 2
          }
         }
        },
        "title": {
         "font": {
          "color": "#4D5663"
         }
        },
        "xaxis": {
         "gridcolor": "#E1E5ED",
         "showgrid": true,
         "tickfont": {
          "color": "#4D5663"
         },
         "title": {
          "font": {
           "color": "#4D5663"
          },
          "text": ""
         },
         "zerolinecolor": "#E1E5ED"
        },
        "yaxis": {
         "gridcolor": "#E1E5ED",
         "showgrid": true,
         "tickfont": {
          "color": "#4D5663"
         },
         "title": {
          "font": {
           "color": "#4D5663"
          },
          "text": ""
         },
         "zerolinecolor": "#E1E5ED"
        }
       }
      },
      "text/html": [
       "<div>                            <div id=\"29e102e1-6822-4b4d-96c8-bd1363acd5ac\" class=\"plotly-graph-div\" style=\"height:525px; width:100%;\"></div>            <script type=\"text/javascript\">                require([\"plotly\"], function(Plotly) {                    window.PLOTLYENV=window.PLOTLYENV || {};\n",
       "                    window.PLOTLYENV.BASE_URL='https://plot.ly';                                    if (document.getElementById(\"29e102e1-6822-4b4d-96c8-bd1363acd5ac\")) {                    Plotly.newPlot(                        \"29e102e1-6822-4b4d-96c8-bd1363acd5ac\",                        [{\"marker\":{\"color\":[\"rgb(255, 153, 51)\",\"rgb(55, 128, 191)\",\"rgb(50, 171, 96)\",\"rgb(128, 0, 128)\",\"rgb(219, 64, 82)\",\"rgb(0, 128, 128)\",\"rgb(255, 255, 51)\",\"rgb(128, 128, 0)\",\"rgb(251, 128, 114)\",\"rgb(128, 177, 211)\"],\"line\":{\"width\":1.3},\"size\":[99,37,57,52,48,68,59,58,22,58,92,34,72,32,84,20,41,74,50,94,62,82,68,33,61,67,66,55,48,45,59,88,67,73,65,79,55,73,58,76,69,48,45,29,94,92,73,81,76,84,55,62,69,67,80,41,89,81,89,88,38,69,85,68,42,112,63,36,22,80,37,56,100,97,72,94,33,39,52,65,74,104,65,85,66,64,53,111,49,61,82,49,53,65,12,70,60,84,57,73],\"symbol\":\"circle\"},\"mode\":\"markers\",\"text\":\"\",\"type\":\"scatter\",\"x\":[-1.252614793086047,-0.05970334235749016,1.1861410783422972,-0.08761128715742864,0.07950640464429827,1.2280562668624604,-1.3278069263914265,-1.363119785987805,-1.1386232623492012,-0.8393437156317276,-0.4541080744300972,2.0343495796888282,-3.09049460215665,0.16073727481802083,-0.4197095473149091,-0.2387478469942015,-0.059737805366917265,0.637232411048166,-0.16098446078613787,-0.39044693665236124,-0.18335785148903647,-1.4665474154877824,-0.9467091070463365,-1.363086400891611,1.1419161233127382,-0.8990356765986693,-0.47877126318615904,-0.08723595655352805,0.28836519048925785,0.4535211994873111,0.6072750672172921,0.7920328635238127,0.9210688520723921,0.8431813681496602,0.14682019235661373,-1.1829671348247588,-1.0438065432704076,1.4143243674487795,0.709957119062226,-0.6850164620237267,-1.0010708187907489,-0.34860627566652763,1.9900831507298398,0.18725017639146913,-0.6255124774152,-1.6017317227276038,0.885042918633726,0.7428077103813263,-0.8924785069045459,-1.3308889418400802,3.003745396974862,0.3371032077767076,0.46679193086201903,0.36616511575153876,-0.416335845412642,1.5194644015341876,0.5211470076410264,-1.5036153475796188,-0.26626662937057033,0.6978691732337882,-0.09511084342263629,0.30075260301102774,0.03197028510486337,1.4282640809936629,0.33128440588935226,0.8760426680096519,-0.04282550929148523,-1.4869944424905852,1.1016632292962907,-1.432616353521275,1.5575716683045684,-0.3201993175852064,0.3085393750442976,-1.6767132815810286,-0.43613840129391807,0.5444947534040682,-0.9564608279120181,-1.2149259364052323,0.2619339163954011,1.1510318594062585,-1.4935781096730616,-1.5364588271684487,-0.2014536368998715,1.0317682182611458,-1.2008107718275032,0.6417163449601327,2.0525571724871856,0.4544224835172775,0.8604257046342394,0.024338875911690164,0.4034582647556379,-0.31260916146689444,0.020281310347106393,-0.29632252607525494,-0.3145363114608712,-0.5558389308669797,-0.08374887468313946,-0.1925649721641307,-0.37837314814356626,-1.004110983807644],\"y\":[1.429907173744965,-0.3362692153993021,-0.22403939638327913,-0.1062523944097891,0.2474881419869791,-2.951570498412787,-1.3150465437708856,-0.09564344114602419,0.7924691287634381,-0.11059481319784327,-0.9574735207257397,-2.7741406899349563,-1.0816982566045203,-0.7050395721831006,-0.030415434382019057,-0.4233816135656058,1.13409136177349,-0.40242588625630915,-0.294198850624815,-0.10088674274843744,1.0390784149843242,0.5165220382316772,1.0292362169286038,-0.9443881069654166,-0.03415047970036683,-1.302863193040769,-1.8739862933198712,-0.14083809321526172,-1.027560506025851,-0.19154403604307874,1.188705505404244,0.8103271790333249,0.27403939984770914,-0.7969627075630051,1.1289182632483334,-1.6358823872587878,-0.6503428428357034,-0.6587248753403122,-0.8986836433415368,-1.2910519644339522,0.37456483954536046,-2.3331353592693427,-1.353315814768125,-1.6109918954270386,2.574398806434323,-0.7419382066961051,1.0111811133768143,0.8627681851633381,1.0684844064238004,0.9584140081934572,-1.2724226953088429,0.5623348949596787,0.21278803036445387,0.6362092764330177,-1.1507486672395217,0.480023659069112,-1.3364127200675031,0.8452624019906536,0.2509777094027647,0.20317230448967902,-2.5580200049648996,0.47164544114003987,0.13608375887967908,-1.3413832491890092,1.0794295284681177,0.03791755550436143,2.1927622697418774,1.7239478391164735,-0.8441975536242636,-0.555562737221605,0.8962983600870705,1.7163996644440285,0.3861053154127059,-0.5053146823691147,0.6629732990578995,1.7291436937887452,-0.19791142080973972,-0.17758994884436066,0.3835728374808757,0.1206356970118862,-0.5839764747918563,0.6562070488071372,0.79818803972454,-1.317059527577753,-0.36660244714059637,-0.07092316904929655,-1.9885058041209265,0.36046441628701004,-0.3787904255840291,0.40687581684755036,-0.9740597784537262,-0.5963017374604368,1.292358219538622,-0.678637329096281,-0.11217221669830485,-0.556064599371359,-1.2917102576840802,0.1961856894863246,1.8320554131446811,1.1361645082224023]}],                        {\"legend\":{\"bgcolor\":\"#F5F6F9\",\"font\":{\"color\":\"#4D5663\"}},\"paper_bgcolor\":\"#F5F6F9\",\"plot_bgcolor\":\"#F5F6F9\",\"template\":{\"data\":{\"bar\":[{\"error_x\":{\"color\":\"#2a3f5f\"},\"error_y\":{\"color\":\"#2a3f5f\"},\"marker\":{\"line\":{\"color\":\"#E5ECF6\",\"width\":0.5},\"pattern\":{\"fillmode\":\"overlay\",\"size\":10,\"solidity\":0.2}},\"type\":\"bar\"}],\"barpolar\":[{\"marker\":{\"line\":{\"color\":\"#E5ECF6\",\"width\":0.5},\"pattern\":{\"fillmode\":\"overlay\",\"size\":10,\"solidity\":0.2}},\"type\":\"barpolar\"}],\"carpet\":[{\"aaxis\":{\"endlinecolor\":\"#2a3f5f\",\"gridcolor\":\"white\",\"linecolor\":\"white\",\"minorgridcolor\":\"white\",\"startlinecolor\":\"#2a3f5f\"},\"baxis\":{\"endlinecolor\":\"#2a3f5f\",\"gridcolor\":\"white\",\"linecolor\":\"white\",\"minorgridcolor\":\"white\",\"startlinecolor\":\"#2a3f5f\"},\"type\":\"carpet\"}],\"choropleth\":[{\"colorbar\":{\"outlinewidth\":0,\"ticks\":\"\"},\"type\":\"choropleth\"}],\"contour\":[{\"colorbar\":{\"outlinewidth\":0,\"ticks\":\"\"},\"colorscale\":[[0.0,\"#0d0887\"],[0.1111111111111111,\"#46039f\"],[0.2222222222222222,\"#7201a8\"],[0.3333333333333333,\"#9c179e\"],[0.4444444444444444,\"#bd3786\"],[0.5555555555555556,\"#d8576b\"],[0.6666666666666666,\"#ed7953\"],[0.7777777777777778,\"#fb9f3a\"],[0.8888888888888888,\"#fdca26\"],[1.0,\"#f0f921\"]],\"type\":\"contour\"}],\"contourcarpet\":[{\"colorbar\":{\"outlinewidth\":0,\"ticks\":\"\"},\"type\":\"contourcarpet\"}],\"heatmap\":[{\"colorbar\":{\"outlinewidth\":0,\"ticks\":\"\"},\"colorscale\":[[0.0,\"#0d0887\"],[0.1111111111111111,\"#46039f\"],[0.2222222222222222,\"#7201a8\"],[0.3333333333333333,\"#9c179e\"],[0.4444444444444444,\"#bd3786\"],[0.5555555555555556,\"#d8576b\"],[0.6666666666666666,\"#ed7953\"],[0.7777777777777778,\"#fb9f3a\"],[0.8888888888888888,\"#fdca26\"],[1.0,\"#f0f921\"]],\"type\":\"heatmap\"}],\"heatmapgl\":[{\"colorbar\":{\"outlinewidth\":0,\"ticks\":\"\"},\"colorscale\":[[0.0,\"#0d0887\"],[0.1111111111111111,\"#46039f\"],[0.2222222222222222,\"#7201a8\"],[0.3333333333333333,\"#9c179e\"],[0.4444444444444444,\"#bd3786\"],[0.5555555555555556,\"#d8576b\"],[0.6666666666666666,\"#ed7953\"],[0.7777777777777778,\"#fb9f3a\"],[0.8888888888888888,\"#fdca26\"],[1.0,\"#f0f921\"]],\"type\":\"heatmapgl\"}],\"histogram\":[{\"marker\":{\"pattern\":{\"fillmode\":\"overlay\",\"size\":10,\"solidity\":0.2}},\"type\":\"histogram\"}],\"histogram2d\":[{\"colorbar\":{\"outlinewidth\":0,\"ticks\":\"\"},\"colorscale\":[[0.0,\"#0d0887\"],[0.1111111111111111,\"#46039f\"],[0.2222222222222222,\"#7201a8\"],[0.3333333333333333,\"#9c179e\"],[0.4444444444444444,\"#bd3786\"],[0.5555555555555556,\"#d8576b\"],[0.6666666666666666,\"#ed7953\"],[0.7777777777777778,\"#fb9f3a\"],[0.8888888888888888,\"#fdca26\"],[1.0,\"#f0f921\"]],\"type\":\"histogram2d\"}],\"histogram2dcontour\":[{\"colorbar\":{\"outlinewidth\":0,\"ticks\":\"\"},\"colorscale\":[[0.0,\"#0d0887\"],[0.1111111111111111,\"#46039f\"],[0.2222222222222222,\"#7201a8\"],[0.3333333333333333,\"#9c179e\"],[0.4444444444444444,\"#bd3786\"],[0.5555555555555556,\"#d8576b\"],[0.6666666666666666,\"#ed7953\"],[0.7777777777777778,\"#fb9f3a\"],[0.8888888888888888,\"#fdca26\"],[1.0,\"#f0f921\"]],\"type\":\"histogram2dcontour\"}],\"mesh3d\":[{\"colorbar\":{\"outlinewidth\":0,\"ticks\":\"\"},\"type\":\"mesh3d\"}],\"parcoords\":[{\"line\":{\"colorbar\":{\"outlinewidth\":0,\"ticks\":\"\"}},\"type\":\"parcoords\"}],\"pie\":[{\"automargin\":true,\"type\":\"pie\"}],\"scatter\":[{\"marker\":{\"colorbar\":{\"outlinewidth\":0,\"ticks\":\"\"}},\"type\":\"scatter\"}],\"scatter3d\":[{\"line\":{\"colorbar\":{\"outlinewidth\":0,\"ticks\":\"\"}},\"marker\":{\"colorbar\":{\"outlinewidth\":0,\"ticks\":\"\"}},\"type\":\"scatter3d\"}],\"scattercarpet\":[{\"marker\":{\"colorbar\":{\"outlinewidth\":0,\"ticks\":\"\"}},\"type\":\"scattercarpet\"}],\"scattergeo\":[{\"marker\":{\"colorbar\":{\"outlinewidth\":0,\"ticks\":\"\"}},\"type\":\"scattergeo\"}],\"scattergl\":[{\"marker\":{\"colorbar\":{\"outlinewidth\":0,\"ticks\":\"\"}},\"type\":\"scattergl\"}],\"scattermapbox\":[{\"marker\":{\"colorbar\":{\"outlinewidth\":0,\"ticks\":\"\"}},\"type\":\"scattermapbox\"}],\"scatterpolar\":[{\"marker\":{\"colorbar\":{\"outlinewidth\":0,\"ticks\":\"\"}},\"type\":\"scatterpolar\"}],\"scatterpolargl\":[{\"marker\":{\"colorbar\":{\"outlinewidth\":0,\"ticks\":\"\"}},\"type\":\"scatterpolargl\"}],\"scatterternary\":[{\"marker\":{\"colorbar\":{\"outlinewidth\":0,\"ticks\":\"\"}},\"type\":\"scatterternary\"}],\"surface\":[{\"colorbar\":{\"outlinewidth\":0,\"ticks\":\"\"},\"colorscale\":[[0.0,\"#0d0887\"],[0.1111111111111111,\"#46039f\"],[0.2222222222222222,\"#7201a8\"],[0.3333333333333333,\"#9c179e\"],[0.4444444444444444,\"#bd3786\"],[0.5555555555555556,\"#d8576b\"],[0.6666666666666666,\"#ed7953\"],[0.7777777777777778,\"#fb9f3a\"],[0.8888888888888888,\"#fdca26\"],[1.0,\"#f0f921\"]],\"type\":\"surface\"}],\"table\":[{\"cells\":{\"fill\":{\"color\":\"#EBF0F8\"},\"line\":{\"color\":\"white\"}},\"header\":{\"fill\":{\"color\":\"#C8D4E3\"},\"line\":{\"color\":\"white\"}},\"type\":\"table\"}]},\"layout\":{\"annotationdefaults\":{\"arrowcolor\":\"#2a3f5f\",\"arrowhead\":0,\"arrowwidth\":1},\"autotypenumbers\":\"strict\",\"coloraxis\":{\"colorbar\":{\"outlinewidth\":0,\"ticks\":\"\"}},\"colorscale\":{\"diverging\":[[0,\"#8e0152\"],[0.1,\"#c51b7d\"],[0.2,\"#de77ae\"],[0.3,\"#f1b6da\"],[0.4,\"#fde0ef\"],[0.5,\"#f7f7f7\"],[0.6,\"#e6f5d0\"],[0.7,\"#b8e186\"],[0.8,\"#7fbc41\"],[0.9,\"#4d9221\"],[1,\"#276419\"]],\"sequential\":[[0.0,\"#0d0887\"],[0.1111111111111111,\"#46039f\"],[0.2222222222222222,\"#7201a8\"],[0.3333333333333333,\"#9c179e\"],[0.4444444444444444,\"#bd3786\"],[0.5555555555555556,\"#d8576b\"],[0.6666666666666666,\"#ed7953\"],[0.7777777777777778,\"#fb9f3a\"],[0.8888888888888888,\"#fdca26\"],[1.0,\"#f0f921\"]],\"sequentialminus\":[[0.0,\"#0d0887\"],[0.1111111111111111,\"#46039f\"],[0.2222222222222222,\"#7201a8\"],[0.3333333333333333,\"#9c179e\"],[0.4444444444444444,\"#bd3786\"],[0.5555555555555556,\"#d8576b\"],[0.6666666666666666,\"#ed7953\"],[0.7777777777777778,\"#fb9f3a\"],[0.8888888888888888,\"#fdca26\"],[1.0,\"#f0f921\"]]},\"colorway\":[\"#636efa\",\"#EF553B\",\"#00cc96\",\"#ab63fa\",\"#FFA15A\",\"#19d3f3\",\"#FF6692\",\"#B6E880\",\"#FF97FF\",\"#FECB52\"],\"font\":{\"color\":\"#2a3f5f\"},\"geo\":{\"bgcolor\":\"white\",\"lakecolor\":\"white\",\"landcolor\":\"#E5ECF6\",\"showlakes\":true,\"showland\":true,\"subunitcolor\":\"white\"},\"hoverlabel\":{\"align\":\"left\"},\"hovermode\":\"closest\",\"mapbox\":{\"style\":\"light\"},\"paper_bgcolor\":\"white\",\"plot_bgcolor\":\"#E5ECF6\",\"polar\":{\"angularaxis\":{\"gridcolor\":\"white\",\"linecolor\":\"white\",\"ticks\":\"\"},\"bgcolor\":\"#E5ECF6\",\"radialaxis\":{\"gridcolor\":\"white\",\"linecolor\":\"white\",\"ticks\":\"\"}},\"scene\":{\"xaxis\":{\"backgroundcolor\":\"#E5ECF6\",\"gridcolor\":\"white\",\"gridwidth\":2,\"linecolor\":\"white\",\"showbackground\":true,\"ticks\":\"\",\"zerolinecolor\":\"white\"},\"yaxis\":{\"backgroundcolor\":\"#E5ECF6\",\"gridcolor\":\"white\",\"gridwidth\":2,\"linecolor\":\"white\",\"showbackground\":true,\"ticks\":\"\",\"zerolinecolor\":\"white\"},\"zaxis\":{\"backgroundcolor\":\"#E5ECF6\",\"gridcolor\":\"white\",\"gridwidth\":2,\"linecolor\":\"white\",\"showbackground\":true,\"ticks\":\"\",\"zerolinecolor\":\"white\"}},\"shapedefaults\":{\"line\":{\"color\":\"#2a3f5f\"}},\"ternary\":{\"aaxis\":{\"gridcolor\":\"white\",\"linecolor\":\"white\",\"ticks\":\"\"},\"baxis\":{\"gridcolor\":\"white\",\"linecolor\":\"white\",\"ticks\":\"\"},\"bgcolor\":\"#E5ECF6\",\"caxis\":{\"gridcolor\":\"white\",\"linecolor\":\"white\",\"ticks\":\"\"}},\"title\":{\"x\":0.05},\"xaxis\":{\"automargin\":true,\"gridcolor\":\"white\",\"linecolor\":\"white\",\"ticks\":\"\",\"title\":{\"standoff\":15},\"zerolinecolor\":\"white\",\"zerolinewidth\":2},\"yaxis\":{\"automargin\":true,\"gridcolor\":\"white\",\"linecolor\":\"white\",\"ticks\":\"\",\"title\":{\"standoff\":15},\"zerolinecolor\":\"white\",\"zerolinewidth\":2}}},\"title\":{\"font\":{\"color\":\"#4D5663\"}},\"xaxis\":{\"gridcolor\":\"#E1E5ED\",\"showgrid\":true,\"tickfont\":{\"color\":\"#4D5663\"},\"title\":{\"font\":{\"color\":\"#4D5663\"},\"text\":\"\"},\"zerolinecolor\":\"#E1E5ED\"},\"yaxis\":{\"gridcolor\":\"#E1E5ED\",\"showgrid\":true,\"tickfont\":{\"color\":\"#4D5663\"},\"title\":{\"font\":{\"color\":\"#4D5663\"},\"text\":\"\"},\"zerolinecolor\":\"#E1E5ED\"}},                        {\"showLink\": true, \"linkText\": \"Export to plot.ly\", \"plotlyServerURL\": \"https://plot.ly\", \"responsive\": true}                    ).then(function(){\n",
       "                            \n",
       "var gd = document.getElementById('29e102e1-6822-4b4d-96c8-bd1363acd5ac');\n",
       "var x = new MutationObserver(function (mutations, observer) {{\n",
       "        var display = window.getComputedStyle(gd).display;\n",
       "        if (!display || display === 'none') {{\n",
       "            console.log([gd, 'removed!']);\n",
       "            Plotly.purge(gd);\n",
       "            observer.disconnect();\n",
       "        }}\n",
       "}});\n",
       "\n",
       "// Listen for the removal of the full notebook cells\n",
       "var notebookContainer = gd.closest('#notebook-container');\n",
       "if (notebookContainer) {{\n",
       "    x.observe(notebookContainer, {childList: true});\n",
       "}}\n",
       "\n",
       "// Listen for the clearing of the current output cell\n",
       "var outputEl = gd.closest('.output');\n",
       "if (outputEl) {{\n",
       "    x.observe(outputEl, {childList: true});\n",
       "}}\n",
       "\n",
       "                        })                };                });            </script>        </div>"
      ]
     },
     "metadata": {},
     "output_type": "display_data"
    }
   ],
   "source": [
    "df.iplot(kind='bubble',x='A',y='B',size='C')"
   ]
  },
  {
   "cell_type": "markdown",
   "metadata": {},
   "source": [
    "## scatter_matrix()\n",
    "\n",
    "Similar to sns.pairplot()"
   ]
  },
  {
   "cell_type": "code",
   "execution_count": 34,
   "metadata": {},
   "outputs": [
    {
     "data": {
      "application/vnd.plotly.v1+json": {
       "config": {
        "linkText": "Export to plot.ly",
        "plotlyServerURL": "https://plot.ly",
        "showLink": true
       },
       "data": [
        {
         "histfunc": "count",
         "histnorm": "",
         "marker": {
          "color": "rgba(255, 153, 51, 1.0)",
          "line": {
           "color": "#4D5663",
           "width": 1.3
          }
         },
         "name": "A",
         "nbinsx": 10,
         "opacity": 0.8,
         "orientation": "v",
         "type": "histogram",
         "x": [
          -1.252614793086047,
          -0.05970334235749016,
          1.1861410783422972,
          -0.08761128715742864,
          0.07950640464429827,
          1.2280562668624604,
          -1.3278069263914265,
          -1.363119785987805,
          -1.1386232623492012,
          -0.8393437156317276,
          -0.4541080744300972,
          2.0343495796888282,
          -3.09049460215665,
          0.16073727481802083,
          -0.4197095473149091,
          -0.2387478469942015,
          -0.059737805366917265,
          0.637232411048166,
          -0.16098446078613787,
          -0.39044693665236124,
          -0.18335785148903647,
          -1.4665474154877824,
          -0.9467091070463365,
          -1.363086400891611,
          1.1419161233127382,
          -0.8990356765986693,
          -0.47877126318615904,
          -0.08723595655352805,
          0.28836519048925785,
          0.4535211994873111,
          0.6072750672172921,
          0.7920328635238127,
          0.9210688520723921,
          0.8431813681496602,
          0.14682019235661373,
          -1.1829671348247588,
          -1.0438065432704076,
          1.4143243674487795,
          0.709957119062226,
          -0.6850164620237267,
          -1.0010708187907489,
          -0.34860627566652763,
          1.9900831507298398,
          0.18725017639146913,
          -0.6255124774152,
          -1.6017317227276038,
          0.885042918633726,
          0.7428077103813263,
          -0.8924785069045459,
          -1.3308889418400802,
          3.003745396974862,
          0.3371032077767076,
          0.46679193086201903,
          0.36616511575153876,
          -0.416335845412642,
          1.5194644015341876,
          0.5211470076410264,
          -1.5036153475796188,
          -0.26626662937057033,
          0.6978691732337882,
          -0.09511084342263629,
          0.30075260301102774,
          0.03197028510486337,
          1.4282640809936629,
          0.33128440588935226,
          0.8760426680096519,
          -0.04282550929148523,
          -1.4869944424905852,
          1.1016632292962907,
          -1.432616353521275,
          1.5575716683045684,
          -0.3201993175852064,
          0.3085393750442976,
          -1.6767132815810286,
          -0.43613840129391807,
          0.5444947534040682,
          -0.9564608279120181,
          -1.2149259364052323,
          0.2619339163954011,
          1.1510318594062585,
          -1.4935781096730616,
          -1.5364588271684487,
          -0.2014536368998715,
          1.0317682182611458,
          -1.2008107718275032,
          0.6417163449601327,
          2.0525571724871856,
          0.4544224835172775,
          0.8604257046342394,
          0.024338875911690164,
          0.4034582647556379,
          -0.31260916146689444,
          0.020281310347106393,
          -0.29632252607525494,
          -0.3145363114608712,
          -0.5558389308669797,
          -0.08374887468313946,
          -0.1925649721641307,
          -0.37837314814356626,
          -1.004110983807644
         ],
         "xaxis": "x",
         "yaxis": "y"
        },
        {
         "line": {
          "color": "rgba(128, 128, 128, 1.0)",
          "dash": "solid",
          "shape": "linear",
          "width": 1.3
         },
         "marker": {
          "size": 2,
          "symbol": "circle"
         },
         "mode": "markers",
         "name": "A",
         "text": "",
         "type": "scatter",
         "x": [
          1.429907173744965,
          -0.3362692153993021,
          -0.22403939638327913,
          -0.1062523944097891,
          0.2474881419869791,
          -2.951570498412787,
          -1.3150465437708856,
          -0.09564344114602419,
          0.7924691287634381,
          -0.11059481319784327,
          -0.9574735207257397,
          -2.7741406899349563,
          -1.0816982566045203,
          -0.7050395721831006,
          -0.030415434382019057,
          -0.4233816135656058,
          1.13409136177349,
          -0.40242588625630915,
          -0.294198850624815,
          -0.10088674274843744,
          1.0390784149843242,
          0.5165220382316772,
          1.0292362169286038,
          -0.9443881069654166,
          -0.03415047970036683,
          -1.302863193040769,
          -1.8739862933198712,
          -0.14083809321526172,
          -1.027560506025851,
          -0.19154403604307874,
          1.188705505404244,
          0.8103271790333249,
          0.27403939984770914,
          -0.7969627075630051,
          1.1289182632483334,
          -1.6358823872587878,
          -0.6503428428357034,
          -0.6587248753403122,
          -0.8986836433415368,
          -1.2910519644339522,
          0.37456483954536046,
          -2.3331353592693427,
          -1.353315814768125,
          -1.6109918954270386,
          2.574398806434323,
          -0.7419382066961051,
          1.0111811133768143,
          0.8627681851633381,
          1.0684844064238004,
          0.9584140081934572,
          -1.2724226953088429,
          0.5623348949596787,
          0.21278803036445387,
          0.6362092764330177,
          -1.1507486672395217,
          0.480023659069112,
          -1.3364127200675031,
          0.8452624019906536,
          0.2509777094027647,
          0.20317230448967902,
          -2.5580200049648996,
          0.47164544114003987,
          0.13608375887967908,
          -1.3413832491890092,
          1.0794295284681177,
          0.03791755550436143,
          2.1927622697418774,
          1.7239478391164735,
          -0.8441975536242636,
          -0.555562737221605,
          0.8962983600870705,
          1.7163996644440285,
          0.3861053154127059,
          -0.5053146823691147,
          0.6629732990578995,
          1.7291436937887452,
          -0.19791142080973972,
          -0.17758994884436066,
          0.3835728374808757,
          0.1206356970118862,
          -0.5839764747918563,
          0.6562070488071372,
          0.79818803972454,
          -1.317059527577753,
          -0.36660244714059637,
          -0.07092316904929655,
          -1.9885058041209265,
          0.36046441628701004,
          -0.3787904255840291,
          0.40687581684755036,
          -0.9740597784537262,
          -0.5963017374604368,
          1.292358219538622,
          -0.678637329096281,
          -0.11217221669830485,
          -0.556064599371359,
          -1.2917102576840802,
          0.1961856894863246,
          1.8320554131446811,
          1.1361645082224023
         ],
         "xaxis": "x2",
         "y": [
          -1.252614793086047,
          -0.05970334235749016,
          1.1861410783422972,
          -0.08761128715742864,
          0.07950640464429827,
          1.2280562668624604,
          -1.3278069263914265,
          -1.363119785987805,
          -1.1386232623492012,
          -0.8393437156317276,
          -0.4541080744300972,
          2.0343495796888282,
          -3.09049460215665,
          0.16073727481802083,
          -0.4197095473149091,
          -0.2387478469942015,
          -0.059737805366917265,
          0.637232411048166,
          -0.16098446078613787,
          -0.39044693665236124,
          -0.18335785148903647,
          -1.4665474154877824,
          -0.9467091070463365,
          -1.363086400891611,
          1.1419161233127382,
          -0.8990356765986693,
          -0.47877126318615904,
          -0.08723595655352805,
          0.28836519048925785,
          0.4535211994873111,
          0.6072750672172921,
          0.7920328635238127,
          0.9210688520723921,
          0.8431813681496602,
          0.14682019235661373,
          -1.1829671348247588,
          -1.0438065432704076,
          1.4143243674487795,
          0.709957119062226,
          -0.6850164620237267,
          -1.0010708187907489,
          -0.34860627566652763,
          1.9900831507298398,
          0.18725017639146913,
          -0.6255124774152,
          -1.6017317227276038,
          0.885042918633726,
          0.7428077103813263,
          -0.8924785069045459,
          -1.3308889418400802,
          3.003745396974862,
          0.3371032077767076,
          0.46679193086201903,
          0.36616511575153876,
          -0.416335845412642,
          1.5194644015341876,
          0.5211470076410264,
          -1.5036153475796188,
          -0.26626662937057033,
          0.6978691732337882,
          -0.09511084342263629,
          0.30075260301102774,
          0.03197028510486337,
          1.4282640809936629,
          0.33128440588935226,
          0.8760426680096519,
          -0.04282550929148523,
          -1.4869944424905852,
          1.1016632292962907,
          -1.432616353521275,
          1.5575716683045684,
          -0.3201993175852064,
          0.3085393750442976,
          -1.6767132815810286,
          -0.43613840129391807,
          0.5444947534040682,
          -0.9564608279120181,
          -1.2149259364052323,
          0.2619339163954011,
          1.1510318594062585,
          -1.4935781096730616,
          -1.5364588271684487,
          -0.2014536368998715,
          1.0317682182611458,
          -1.2008107718275032,
          0.6417163449601327,
          2.0525571724871856,
          0.4544224835172775,
          0.8604257046342394,
          0.024338875911690164,
          0.4034582647556379,
          -0.31260916146689444,
          0.020281310347106393,
          -0.29632252607525494,
          -0.3145363114608712,
          -0.5558389308669797,
          -0.08374887468313946,
          -0.1925649721641307,
          -0.37837314814356626,
          -1.004110983807644
         ],
         "yaxis": "y2"
        },
        {
         "line": {
          "color": "rgba(128, 128, 128, 1.0)",
          "dash": "solid",
          "shape": "linear",
          "width": 1.3
         },
         "marker": {
          "size": 2,
          "symbol": "circle"
         },
         "mode": "markers",
         "name": "A",
         "text": "",
         "type": "scatter",
         "x": [
          1.497365056261028,
          -1.3652639392192893,
          -0.4633848596042667,
          -0.6554155737090046,
          -0.873403949723717,
          0.05599352265517801,
          -0.34473828248271027,
          -0.41319903909836236,
          -2.044032644851402,
          -0.3987393454406875,
          1.1597178016054088,
          -1.502703163866186,
          0.23826714360142273,
          -1.5741392475854807,
          0.7816858134640635,
          -2.142846708586097,
          -1.1859370206584845,
          0.33445280073709727,
          -0.7667894723828541,
          1.2527282906266344,
          -0.19539795589395198,
          0.7326304554079953,
          0.04444226457106558,
          -1.556251136029763,
          -0.27447090560656606,
          0.039518802829135904,
          -0.02416001405173457,
          -0.5242725573805086,
          -0.8428442369549263,
          -0.9811777369886999,
          -0.3350095463442984,
          0.990050751506994,
          0.017554043186999775,
          0.2783947893725052,
          -0.06539150267349131,
          0.5611531072387262,
          -0.5433755998816096,
          0.2877606032303694,
          -0.39623450285943856,
          0.4281403826859208,
          0.12491994104865614,
          -0.8686705362189602,
          -1.0093119510785222,
          -1.7450992786587147,
          1.2677715076129603,
          1.1909806049583975,
          0.27740851207658335,
          0.6833561525713735,
          0.4283470277056508,
          0.7913812387268874,
          -0.5557615424139913,
          -0.21904396042115679,
          0.08964190646166481,
          0.021193571224057968,
          0.6050834546942213,
          -1.1619352848327547,
          1.0143367637627896,
          0.6639951131808542,
          1.018881240687566,
          0.9919337469405568,
          -1.3286952823498934,
          0.0887076694256689,
          0.8409303174685794,
          0.04430809594242096,
          -1.1306458993693478,
          2.0736318396393814,
          -0.14677037462178721,
          -1.3931223572680242,
          -2.0547424091586253,
          0.6128352101220416,
          -1.3654986018914061,
          -0.4736373234472714,
          1.5474841315174899,
          1.4023528581155102,
          0.2671475960322153,
          1.2783022300586027,
          -1.5729061331608103,
          -1.263124573100888,
          -0.6798291541866253,
          -0.07536756430411999,
          0.3387490431114079,
          1.7316981530795819,
          -0.09149845946313058,
          0.8606384957577545,
          -0.04059028826209647,
          -0.13740954203864353,
          -0.617304623092329,
          2.0731238475848937,
          -0.820298203736963,
          -0.26698591194207655,
          0.7321591287947562,
          -0.821972232165776,
          -0.6262152567039138,
          -0.08896112446005197,
          -2.5427473812318784,
          0.1546583782646699,
          -0.28721326963380284,
          0.8187876780277029,
          -0.4270266101320868,
          0.27999194420218215
         ],
         "xaxis": "x3",
         "y": [
          -1.252614793086047,
          -0.05970334235749016,
          1.1861410783422972,
          -0.08761128715742864,
          0.07950640464429827,
          1.2280562668624604,
          -1.3278069263914265,
          -1.363119785987805,
          -1.1386232623492012,
          -0.8393437156317276,
          -0.4541080744300972,
          2.0343495796888282,
          -3.09049460215665,
          0.16073727481802083,
          -0.4197095473149091,
          -0.2387478469942015,
          -0.059737805366917265,
          0.637232411048166,
          -0.16098446078613787,
          -0.39044693665236124,
          -0.18335785148903647,
          -1.4665474154877824,
          -0.9467091070463365,
          -1.363086400891611,
          1.1419161233127382,
          -0.8990356765986693,
          -0.47877126318615904,
          -0.08723595655352805,
          0.28836519048925785,
          0.4535211994873111,
          0.6072750672172921,
          0.7920328635238127,
          0.9210688520723921,
          0.8431813681496602,
          0.14682019235661373,
          -1.1829671348247588,
          -1.0438065432704076,
          1.4143243674487795,
          0.709957119062226,
          -0.6850164620237267,
          -1.0010708187907489,
          -0.34860627566652763,
          1.9900831507298398,
          0.18725017639146913,
          -0.6255124774152,
          -1.6017317227276038,
          0.885042918633726,
          0.7428077103813263,
          -0.8924785069045459,
          -1.3308889418400802,
          3.003745396974862,
          0.3371032077767076,
          0.46679193086201903,
          0.36616511575153876,
          -0.416335845412642,
          1.5194644015341876,
          0.5211470076410264,
          -1.5036153475796188,
          -0.26626662937057033,
          0.6978691732337882,
          -0.09511084342263629,
          0.30075260301102774,
          0.03197028510486337,
          1.4282640809936629,
          0.33128440588935226,
          0.8760426680096519,
          -0.04282550929148523,
          -1.4869944424905852,
          1.1016632292962907,
          -1.432616353521275,
          1.5575716683045684,
          -0.3201993175852064,
          0.3085393750442976,
          -1.6767132815810286,
          -0.43613840129391807,
          0.5444947534040682,
          -0.9564608279120181,
          -1.2149259364052323,
          0.2619339163954011,
          1.1510318594062585,
          -1.4935781096730616,
          -1.5364588271684487,
          -0.2014536368998715,
          1.0317682182611458,
          -1.2008107718275032,
          0.6417163449601327,
          2.0525571724871856,
          0.4544224835172775,
          0.8604257046342394,
          0.024338875911690164,
          0.4034582647556379,
          -0.31260916146689444,
          0.020281310347106393,
          -0.29632252607525494,
          -0.3145363114608712,
          -0.5558389308669797,
          -0.08374887468313946,
          -0.1925649721641307,
          -0.37837314814356626,
          -1.004110983807644
         ],
         "yaxis": "y3"
        },
        {
         "line": {
          "color": "rgba(128, 128, 128, 1.0)",
          "dash": "solid",
          "shape": "linear",
          "width": 1.3
         },
         "marker": {
          "size": 2,
          "symbol": "circle"
         },
         "mode": "markers",
         "name": "A",
         "text": "",
         "type": "scatter",
         "x": [
          -0.7607516732532427,
          -1.254568488051787,
          -0.8788828748036107,
          -0.13665063756100818,
          0.07474348764667796,
          -0.3100043705116922,
          -2.0463341136143995,
          0.640808766840854,
          1.224538129726818,
          1.0886660890880229,
          0.4049848114617264,
          0.7485515644819034,
          -0.46248600223967307,
          0.9533718049057213,
          -0.3695657385477109,
          0.8832340804185418,
          0.9052960323805491,
          -0.3853489432776442,
          1.3159244798509053,
          -0.028767564722662828,
          0.06379612112194598,
          -0.5699264163729659,
          0.32702586302219483,
          0.08779247487238971,
          1.2860732684779363,
          2.0938721257990114,
          0.10641036516130699,
          -0.43614763748954455,
          -0.15454712915480173,
          1.6917422947637824,
          2.069900076611023,
          0.2728381375704959,
          0.8982963476299403,
          1.1626845775151418,
          -1.8514944212075175,
          0.5097088665460885,
          0.301289072860881,
          -0.9215289721219797,
          0.5195919347510675,
          0.6283349774206288,
          0.14180613856997362,
          -0.6596331767430526,
          -0.43804908361382316,
          -1.161466129764636,
          -0.3773059718348686,
          -2.140572355581783,
          -0.19500741390398052,
          -0.5863195712554702,
          0.9506076263372776,
          0.05794084130328615,
          1.114608481540598,
          1.0598559581825697,
          -1.5876844271788813,
          -0.14739138729617407,
          -0.580431636041587,
          -0.33284940498071774,
          1.0629167254062288,
          0.38472616162999584,
          -0.9184640525607392,
          0.8882962211984797,
          -1.014539375075398,
          0.37548732970143817,
          0.5803058105441924,
          0.4429555473857757,
          -1.2144704173369645,
          0.13144813153609372,
          -0.8080736698792067,
          0.8897350266785666,
          1.1618872824269493,
          -0.38335647093100017,
          -0.2727693174039654,
          -0.25018635867093286,
          1.1484717709362309,
          0.49378345946541696,
          1.101291396885938,
          -0.49177164389114286,
          -1.6401018997496926,
          1.277848986380219,
          0.12810121345704542,
          -0.9889079946366958,
          -0.5251123223013637,
          1.1599073316060275,
          0.5708057586905046,
          -0.35367070891227775,
          0.8950168639617084,
          -0.9437864888126327,
          -0.46412027474338197,
          -1.5511026925124407,
          -0.2761019732505129,
          0.15029292622478768,
          1.4277411536710876,
          2.4147463451354967,
          -0.08801777586421945,
          -0.6338679739225697,
          -0.14945606892838023,
          0.6667328009341639,
          -0.3684321797614924,
          -0.9142366078263781,
          -0.4271860199935734,
          2.0408302414506343
         ],
         "xaxis": "x4",
         "y": [
          -1.252614793086047,
          -0.05970334235749016,
          1.1861410783422972,
          -0.08761128715742864,
          0.07950640464429827,
          1.2280562668624604,
          -1.3278069263914265,
          -1.363119785987805,
          -1.1386232623492012,
          -0.8393437156317276,
          -0.4541080744300972,
          2.0343495796888282,
          -3.09049460215665,
          0.16073727481802083,
          -0.4197095473149091,
          -0.2387478469942015,
          -0.059737805366917265,
          0.637232411048166,
          -0.16098446078613787,
          -0.39044693665236124,
          -0.18335785148903647,
          -1.4665474154877824,
          -0.9467091070463365,
          -1.363086400891611,
          1.1419161233127382,
          -0.8990356765986693,
          -0.47877126318615904,
          -0.08723595655352805,
          0.28836519048925785,
          0.4535211994873111,
          0.6072750672172921,
          0.7920328635238127,
          0.9210688520723921,
          0.8431813681496602,
          0.14682019235661373,
          -1.1829671348247588,
          -1.0438065432704076,
          1.4143243674487795,
          0.709957119062226,
          -0.6850164620237267,
          -1.0010708187907489,
          -0.34860627566652763,
          1.9900831507298398,
          0.18725017639146913,
          -0.6255124774152,
          -1.6017317227276038,
          0.885042918633726,
          0.7428077103813263,
          -0.8924785069045459,
          -1.3308889418400802,
          3.003745396974862,
          0.3371032077767076,
          0.46679193086201903,
          0.36616511575153876,
          -0.416335845412642,
          1.5194644015341876,
          0.5211470076410264,
          -1.5036153475796188,
          -0.26626662937057033,
          0.6978691732337882,
          -0.09511084342263629,
          0.30075260301102774,
          0.03197028510486337,
          1.4282640809936629,
          0.33128440588935226,
          0.8760426680096519,
          -0.04282550929148523,
          -1.4869944424905852,
          1.1016632292962907,
          -1.432616353521275,
          1.5575716683045684,
          -0.3201993175852064,
          0.3085393750442976,
          -1.6767132815810286,
          -0.43613840129391807,
          0.5444947534040682,
          -0.9564608279120181,
          -1.2149259364052323,
          0.2619339163954011,
          1.1510318594062585,
          -1.4935781096730616,
          -1.5364588271684487,
          -0.2014536368998715,
          1.0317682182611458,
          -1.2008107718275032,
          0.6417163449601327,
          2.0525571724871856,
          0.4544224835172775,
          0.8604257046342394,
          0.024338875911690164,
          0.4034582647556379,
          -0.31260916146689444,
          0.020281310347106393,
          -0.29632252607525494,
          -0.3145363114608712,
          -0.5558389308669797,
          -0.08374887468313946,
          -0.1925649721641307,
          -0.37837314814356626,
          -1.004110983807644
         ],
         "yaxis": "y4"
        },
        {
         "line": {
          "color": "rgba(128, 128, 128, 1.0)",
          "dash": "solid",
          "shape": "linear",
          "width": 1.3
         },
         "marker": {
          "size": 2,
          "symbol": "circle"
         },
         "mode": "markers",
         "name": "B",
         "text": "",
         "type": "scatter",
         "x": [
          -1.252614793086047,
          -0.05970334235749016,
          1.1861410783422972,
          -0.08761128715742864,
          0.07950640464429827,
          1.2280562668624604,
          -1.3278069263914265,
          -1.363119785987805,
          -1.1386232623492012,
          -0.8393437156317276,
          -0.4541080744300972,
          2.0343495796888282,
          -3.09049460215665,
          0.16073727481802083,
          -0.4197095473149091,
          -0.2387478469942015,
          -0.059737805366917265,
          0.637232411048166,
          -0.16098446078613787,
          -0.39044693665236124,
          -0.18335785148903647,
          -1.4665474154877824,
          -0.9467091070463365,
          -1.363086400891611,
          1.1419161233127382,
          -0.8990356765986693,
          -0.47877126318615904,
          -0.08723595655352805,
          0.28836519048925785,
          0.4535211994873111,
          0.6072750672172921,
          0.7920328635238127,
          0.9210688520723921,
          0.8431813681496602,
          0.14682019235661373,
          -1.1829671348247588,
          -1.0438065432704076,
          1.4143243674487795,
          0.709957119062226,
          -0.6850164620237267,
          -1.0010708187907489,
          -0.34860627566652763,
          1.9900831507298398,
          0.18725017639146913,
          -0.6255124774152,
          -1.6017317227276038,
          0.885042918633726,
          0.7428077103813263,
          -0.8924785069045459,
          -1.3308889418400802,
          3.003745396974862,
          0.3371032077767076,
          0.46679193086201903,
          0.36616511575153876,
          -0.416335845412642,
          1.5194644015341876,
          0.5211470076410264,
          -1.5036153475796188,
          -0.26626662937057033,
          0.6978691732337882,
          -0.09511084342263629,
          0.30075260301102774,
          0.03197028510486337,
          1.4282640809936629,
          0.33128440588935226,
          0.8760426680096519,
          -0.04282550929148523,
          -1.4869944424905852,
          1.1016632292962907,
          -1.432616353521275,
          1.5575716683045684,
          -0.3201993175852064,
          0.3085393750442976,
          -1.6767132815810286,
          -0.43613840129391807,
          0.5444947534040682,
          -0.9564608279120181,
          -1.2149259364052323,
          0.2619339163954011,
          1.1510318594062585,
          -1.4935781096730616,
          -1.5364588271684487,
          -0.2014536368998715,
          1.0317682182611458,
          -1.2008107718275032,
          0.6417163449601327,
          2.0525571724871856,
          0.4544224835172775,
          0.8604257046342394,
          0.024338875911690164,
          0.4034582647556379,
          -0.31260916146689444,
          0.020281310347106393,
          -0.29632252607525494,
          -0.3145363114608712,
          -0.5558389308669797,
          -0.08374887468313946,
          -0.1925649721641307,
          -0.37837314814356626,
          -1.004110983807644
         ],
         "xaxis": "x5",
         "y": [
          1.429907173744965,
          -0.3362692153993021,
          -0.22403939638327913,
          -0.1062523944097891,
          0.2474881419869791,
          -2.951570498412787,
          -1.3150465437708856,
          -0.09564344114602419,
          0.7924691287634381,
          -0.11059481319784327,
          -0.9574735207257397,
          -2.7741406899349563,
          -1.0816982566045203,
          -0.7050395721831006,
          -0.030415434382019057,
          -0.4233816135656058,
          1.13409136177349,
          -0.40242588625630915,
          -0.294198850624815,
          -0.10088674274843744,
          1.0390784149843242,
          0.5165220382316772,
          1.0292362169286038,
          -0.9443881069654166,
          -0.03415047970036683,
          -1.302863193040769,
          -1.8739862933198712,
          -0.14083809321526172,
          -1.027560506025851,
          -0.19154403604307874,
          1.188705505404244,
          0.8103271790333249,
          0.27403939984770914,
          -0.7969627075630051,
          1.1289182632483334,
          -1.6358823872587878,
          -0.6503428428357034,
          -0.6587248753403122,
          -0.8986836433415368,
          -1.2910519644339522,
          0.37456483954536046,
          -2.3331353592693427,
          -1.353315814768125,
          -1.6109918954270386,
          2.574398806434323,
          -0.7419382066961051,
          1.0111811133768143,
          0.8627681851633381,
          1.0684844064238004,
          0.9584140081934572,
          -1.2724226953088429,
          0.5623348949596787,
          0.21278803036445387,
          0.6362092764330177,
          -1.1507486672395217,
          0.480023659069112,
          -1.3364127200675031,
          0.8452624019906536,
          0.2509777094027647,
          0.20317230448967902,
          -2.5580200049648996,
          0.47164544114003987,
          0.13608375887967908,
          -1.3413832491890092,
          1.0794295284681177,
          0.03791755550436143,
          2.1927622697418774,
          1.7239478391164735,
          -0.8441975536242636,
          -0.555562737221605,
          0.8962983600870705,
          1.7163996644440285,
          0.3861053154127059,
          -0.5053146823691147,
          0.6629732990578995,
          1.7291436937887452,
          -0.19791142080973972,
          -0.17758994884436066,
          0.3835728374808757,
          0.1206356970118862,
          -0.5839764747918563,
          0.6562070488071372,
          0.79818803972454,
          -1.317059527577753,
          -0.36660244714059637,
          -0.07092316904929655,
          -1.9885058041209265,
          0.36046441628701004,
          -0.3787904255840291,
          0.40687581684755036,
          -0.9740597784537262,
          -0.5963017374604368,
          1.292358219538622,
          -0.678637329096281,
          -0.11217221669830485,
          -0.556064599371359,
          -1.2917102576840802,
          0.1961856894863246,
          1.8320554131446811,
          1.1361645082224023
         ],
         "yaxis": "y5"
        },
        {
         "histfunc": "count",
         "histnorm": "",
         "marker": {
          "color": "rgba(55, 128, 191, 1.0)",
          "line": {
           "color": "#4D5663",
           "width": 1.3
          }
         },
         "name": "B",
         "nbinsx": 10,
         "opacity": 0.8,
         "orientation": "v",
         "type": "histogram",
         "x": [
          1.429907173744965,
          -0.3362692153993021,
          -0.22403939638327913,
          -0.1062523944097891,
          0.2474881419869791,
          -2.951570498412787,
          -1.3150465437708856,
          -0.09564344114602419,
          0.7924691287634381,
          -0.11059481319784327,
          -0.9574735207257397,
          -2.7741406899349563,
          -1.0816982566045203,
          -0.7050395721831006,
          -0.030415434382019057,
          -0.4233816135656058,
          1.13409136177349,
          -0.40242588625630915,
          -0.294198850624815,
          -0.10088674274843744,
          1.0390784149843242,
          0.5165220382316772,
          1.0292362169286038,
          -0.9443881069654166,
          -0.03415047970036683,
          -1.302863193040769,
          -1.8739862933198712,
          -0.14083809321526172,
          -1.027560506025851,
          -0.19154403604307874,
          1.188705505404244,
          0.8103271790333249,
          0.27403939984770914,
          -0.7969627075630051,
          1.1289182632483334,
          -1.6358823872587878,
          -0.6503428428357034,
          -0.6587248753403122,
          -0.8986836433415368,
          -1.2910519644339522,
          0.37456483954536046,
          -2.3331353592693427,
          -1.353315814768125,
          -1.6109918954270386,
          2.574398806434323,
          -0.7419382066961051,
          1.0111811133768143,
          0.8627681851633381,
          1.0684844064238004,
          0.9584140081934572,
          -1.2724226953088429,
          0.5623348949596787,
          0.21278803036445387,
          0.6362092764330177,
          -1.1507486672395217,
          0.480023659069112,
          -1.3364127200675031,
          0.8452624019906536,
          0.2509777094027647,
          0.20317230448967902,
          -2.5580200049648996,
          0.47164544114003987,
          0.13608375887967908,
          -1.3413832491890092,
          1.0794295284681177,
          0.03791755550436143,
          2.1927622697418774,
          1.7239478391164735,
          -0.8441975536242636,
          -0.555562737221605,
          0.8962983600870705,
          1.7163996644440285,
          0.3861053154127059,
          -0.5053146823691147,
          0.6629732990578995,
          1.7291436937887452,
          -0.19791142080973972,
          -0.17758994884436066,
          0.3835728374808757,
          0.1206356970118862,
          -0.5839764747918563,
          0.6562070488071372,
          0.79818803972454,
          -1.317059527577753,
          -0.36660244714059637,
          -0.07092316904929655,
          -1.9885058041209265,
          0.36046441628701004,
          -0.3787904255840291,
          0.40687581684755036,
          -0.9740597784537262,
          -0.5963017374604368,
          1.292358219538622,
          -0.678637329096281,
          -0.11217221669830485,
          -0.556064599371359,
          -1.2917102576840802,
          0.1961856894863246,
          1.8320554131446811,
          1.1361645082224023
         ],
         "xaxis": "x6",
         "yaxis": "y6"
        },
        {
         "line": {
          "color": "rgba(128, 128, 128, 1.0)",
          "dash": "solid",
          "shape": "linear",
          "width": 1.3
         },
         "marker": {
          "size": 2,
          "symbol": "circle"
         },
         "mode": "markers",
         "name": "B",
         "text": "",
         "type": "scatter",
         "x": [
          1.497365056261028,
          -1.3652639392192893,
          -0.4633848596042667,
          -0.6554155737090046,
          -0.873403949723717,
          0.05599352265517801,
          -0.34473828248271027,
          -0.41319903909836236,
          -2.044032644851402,
          -0.3987393454406875,
          1.1597178016054088,
          -1.502703163866186,
          0.23826714360142273,
          -1.5741392475854807,
          0.7816858134640635,
          -2.142846708586097,
          -1.1859370206584845,
          0.33445280073709727,
          -0.7667894723828541,
          1.2527282906266344,
          -0.19539795589395198,
          0.7326304554079953,
          0.04444226457106558,
          -1.556251136029763,
          -0.27447090560656606,
          0.039518802829135904,
          -0.02416001405173457,
          -0.5242725573805086,
          -0.8428442369549263,
          -0.9811777369886999,
          -0.3350095463442984,
          0.990050751506994,
          0.017554043186999775,
          0.2783947893725052,
          -0.06539150267349131,
          0.5611531072387262,
          -0.5433755998816096,
          0.2877606032303694,
          -0.39623450285943856,
          0.4281403826859208,
          0.12491994104865614,
          -0.8686705362189602,
          -1.0093119510785222,
          -1.7450992786587147,
          1.2677715076129603,
          1.1909806049583975,
          0.27740851207658335,
          0.6833561525713735,
          0.4283470277056508,
          0.7913812387268874,
          -0.5557615424139913,
          -0.21904396042115679,
          0.08964190646166481,
          0.021193571224057968,
          0.6050834546942213,
          -1.1619352848327547,
          1.0143367637627896,
          0.6639951131808542,
          1.018881240687566,
          0.9919337469405568,
          -1.3286952823498934,
          0.0887076694256689,
          0.8409303174685794,
          0.04430809594242096,
          -1.1306458993693478,
          2.0736318396393814,
          -0.14677037462178721,
          -1.3931223572680242,
          -2.0547424091586253,
          0.6128352101220416,
          -1.3654986018914061,
          -0.4736373234472714,
          1.5474841315174899,
          1.4023528581155102,
          0.2671475960322153,
          1.2783022300586027,
          -1.5729061331608103,
          -1.263124573100888,
          -0.6798291541866253,
          -0.07536756430411999,
          0.3387490431114079,
          1.7316981530795819,
          -0.09149845946313058,
          0.8606384957577545,
          -0.04059028826209647,
          -0.13740954203864353,
          -0.617304623092329,
          2.0731238475848937,
          -0.820298203736963,
          -0.26698591194207655,
          0.7321591287947562,
          -0.821972232165776,
          -0.6262152567039138,
          -0.08896112446005197,
          -2.5427473812318784,
          0.1546583782646699,
          -0.28721326963380284,
          0.8187876780277029,
          -0.4270266101320868,
          0.27999194420218215
         ],
         "xaxis": "x7",
         "y": [
          1.429907173744965,
          -0.3362692153993021,
          -0.22403939638327913,
          -0.1062523944097891,
          0.2474881419869791,
          -2.951570498412787,
          -1.3150465437708856,
          -0.09564344114602419,
          0.7924691287634381,
          -0.11059481319784327,
          -0.9574735207257397,
          -2.7741406899349563,
          -1.0816982566045203,
          -0.7050395721831006,
          -0.030415434382019057,
          -0.4233816135656058,
          1.13409136177349,
          -0.40242588625630915,
          -0.294198850624815,
          -0.10088674274843744,
          1.0390784149843242,
          0.5165220382316772,
          1.0292362169286038,
          -0.9443881069654166,
          -0.03415047970036683,
          -1.302863193040769,
          -1.8739862933198712,
          -0.14083809321526172,
          -1.027560506025851,
          -0.19154403604307874,
          1.188705505404244,
          0.8103271790333249,
          0.27403939984770914,
          -0.7969627075630051,
          1.1289182632483334,
          -1.6358823872587878,
          -0.6503428428357034,
          -0.6587248753403122,
          -0.8986836433415368,
          -1.2910519644339522,
          0.37456483954536046,
          -2.3331353592693427,
          -1.353315814768125,
          -1.6109918954270386,
          2.574398806434323,
          -0.7419382066961051,
          1.0111811133768143,
          0.8627681851633381,
          1.0684844064238004,
          0.9584140081934572,
          -1.2724226953088429,
          0.5623348949596787,
          0.21278803036445387,
          0.6362092764330177,
          -1.1507486672395217,
          0.480023659069112,
          -1.3364127200675031,
          0.8452624019906536,
          0.2509777094027647,
          0.20317230448967902,
          -2.5580200049648996,
          0.47164544114003987,
          0.13608375887967908,
          -1.3413832491890092,
          1.0794295284681177,
          0.03791755550436143,
          2.1927622697418774,
          1.7239478391164735,
          -0.8441975536242636,
          -0.555562737221605,
          0.8962983600870705,
          1.7163996644440285,
          0.3861053154127059,
          -0.5053146823691147,
          0.6629732990578995,
          1.7291436937887452,
          -0.19791142080973972,
          -0.17758994884436066,
          0.3835728374808757,
          0.1206356970118862,
          -0.5839764747918563,
          0.6562070488071372,
          0.79818803972454,
          -1.317059527577753,
          -0.36660244714059637,
          -0.07092316904929655,
          -1.9885058041209265,
          0.36046441628701004,
          -0.3787904255840291,
          0.40687581684755036,
          -0.9740597784537262,
          -0.5963017374604368,
          1.292358219538622,
          -0.678637329096281,
          -0.11217221669830485,
          -0.556064599371359,
          -1.2917102576840802,
          0.1961856894863246,
          1.8320554131446811,
          1.1361645082224023
         ],
         "yaxis": "y7"
        },
        {
         "line": {
          "color": "rgba(128, 128, 128, 1.0)",
          "dash": "solid",
          "shape": "linear",
          "width": 1.3
         },
         "marker": {
          "size": 2,
          "symbol": "circle"
         },
         "mode": "markers",
         "name": "B",
         "text": "",
         "type": "scatter",
         "x": [
          -0.7607516732532427,
          -1.254568488051787,
          -0.8788828748036107,
          -0.13665063756100818,
          0.07474348764667796,
          -0.3100043705116922,
          -2.0463341136143995,
          0.640808766840854,
          1.224538129726818,
          1.0886660890880229,
          0.4049848114617264,
          0.7485515644819034,
          -0.46248600223967307,
          0.9533718049057213,
          -0.3695657385477109,
          0.8832340804185418,
          0.9052960323805491,
          -0.3853489432776442,
          1.3159244798509053,
          -0.028767564722662828,
          0.06379612112194598,
          -0.5699264163729659,
          0.32702586302219483,
          0.08779247487238971,
          1.2860732684779363,
          2.0938721257990114,
          0.10641036516130699,
          -0.43614763748954455,
          -0.15454712915480173,
          1.6917422947637824,
          2.069900076611023,
          0.2728381375704959,
          0.8982963476299403,
          1.1626845775151418,
          -1.8514944212075175,
          0.5097088665460885,
          0.301289072860881,
          -0.9215289721219797,
          0.5195919347510675,
          0.6283349774206288,
          0.14180613856997362,
          -0.6596331767430526,
          -0.43804908361382316,
          -1.161466129764636,
          -0.3773059718348686,
          -2.140572355581783,
          -0.19500741390398052,
          -0.5863195712554702,
          0.9506076263372776,
          0.05794084130328615,
          1.114608481540598,
          1.0598559581825697,
          -1.5876844271788813,
          -0.14739138729617407,
          -0.580431636041587,
          -0.33284940498071774,
          1.0629167254062288,
          0.38472616162999584,
          -0.9184640525607392,
          0.8882962211984797,
          -1.014539375075398,
          0.37548732970143817,
          0.5803058105441924,
          0.4429555473857757,
          -1.2144704173369645,
          0.13144813153609372,
          -0.8080736698792067,
          0.8897350266785666,
          1.1618872824269493,
          -0.38335647093100017,
          -0.2727693174039654,
          -0.25018635867093286,
          1.1484717709362309,
          0.49378345946541696,
          1.101291396885938,
          -0.49177164389114286,
          -1.6401018997496926,
          1.277848986380219,
          0.12810121345704542,
          -0.9889079946366958,
          -0.5251123223013637,
          1.1599073316060275,
          0.5708057586905046,
          -0.35367070891227775,
          0.8950168639617084,
          -0.9437864888126327,
          -0.46412027474338197,
          -1.5511026925124407,
          -0.2761019732505129,
          0.15029292622478768,
          1.4277411536710876,
          2.4147463451354967,
          -0.08801777586421945,
          -0.6338679739225697,
          -0.14945606892838023,
          0.6667328009341639,
          -0.3684321797614924,
          -0.9142366078263781,
          -0.4271860199935734,
          2.0408302414506343
         ],
         "xaxis": "x8",
         "y": [
          1.429907173744965,
          -0.3362692153993021,
          -0.22403939638327913,
          -0.1062523944097891,
          0.2474881419869791,
          -2.951570498412787,
          -1.3150465437708856,
          -0.09564344114602419,
          0.7924691287634381,
          -0.11059481319784327,
          -0.9574735207257397,
          -2.7741406899349563,
          -1.0816982566045203,
          -0.7050395721831006,
          -0.030415434382019057,
          -0.4233816135656058,
          1.13409136177349,
          -0.40242588625630915,
          -0.294198850624815,
          -0.10088674274843744,
          1.0390784149843242,
          0.5165220382316772,
          1.0292362169286038,
          -0.9443881069654166,
          -0.03415047970036683,
          -1.302863193040769,
          -1.8739862933198712,
          -0.14083809321526172,
          -1.027560506025851,
          -0.19154403604307874,
          1.188705505404244,
          0.8103271790333249,
          0.27403939984770914,
          -0.7969627075630051,
          1.1289182632483334,
          -1.6358823872587878,
          -0.6503428428357034,
          -0.6587248753403122,
          -0.8986836433415368,
          -1.2910519644339522,
          0.37456483954536046,
          -2.3331353592693427,
          -1.353315814768125,
          -1.6109918954270386,
          2.574398806434323,
          -0.7419382066961051,
          1.0111811133768143,
          0.8627681851633381,
          1.0684844064238004,
          0.9584140081934572,
          -1.2724226953088429,
          0.5623348949596787,
          0.21278803036445387,
          0.6362092764330177,
          -1.1507486672395217,
          0.480023659069112,
          -1.3364127200675031,
          0.8452624019906536,
          0.2509777094027647,
          0.20317230448967902,
          -2.5580200049648996,
          0.47164544114003987,
          0.13608375887967908,
          -1.3413832491890092,
          1.0794295284681177,
          0.03791755550436143,
          2.1927622697418774,
          1.7239478391164735,
          -0.8441975536242636,
          -0.555562737221605,
          0.8962983600870705,
          1.7163996644440285,
          0.3861053154127059,
          -0.5053146823691147,
          0.6629732990578995,
          1.7291436937887452,
          -0.19791142080973972,
          -0.17758994884436066,
          0.3835728374808757,
          0.1206356970118862,
          -0.5839764747918563,
          0.6562070488071372,
          0.79818803972454,
          -1.317059527577753,
          -0.36660244714059637,
          -0.07092316904929655,
          -1.9885058041209265,
          0.36046441628701004,
          -0.3787904255840291,
          0.40687581684755036,
          -0.9740597784537262,
          -0.5963017374604368,
          1.292358219538622,
          -0.678637329096281,
          -0.11217221669830485,
          -0.556064599371359,
          -1.2917102576840802,
          0.1961856894863246,
          1.8320554131446811,
          1.1361645082224023
         ],
         "yaxis": "y8"
        },
        {
         "line": {
          "color": "rgba(128, 128, 128, 1.0)",
          "dash": "solid",
          "shape": "linear",
          "width": 1.3
         },
         "marker": {
          "size": 2,
          "symbol": "circle"
         },
         "mode": "markers",
         "name": "C",
         "text": "",
         "type": "scatter",
         "x": [
          -1.252614793086047,
          -0.05970334235749016,
          1.1861410783422972,
          -0.08761128715742864,
          0.07950640464429827,
          1.2280562668624604,
          -1.3278069263914265,
          -1.363119785987805,
          -1.1386232623492012,
          -0.8393437156317276,
          -0.4541080744300972,
          2.0343495796888282,
          -3.09049460215665,
          0.16073727481802083,
          -0.4197095473149091,
          -0.2387478469942015,
          -0.059737805366917265,
          0.637232411048166,
          -0.16098446078613787,
          -0.39044693665236124,
          -0.18335785148903647,
          -1.4665474154877824,
          -0.9467091070463365,
          -1.363086400891611,
          1.1419161233127382,
          -0.8990356765986693,
          -0.47877126318615904,
          -0.08723595655352805,
          0.28836519048925785,
          0.4535211994873111,
          0.6072750672172921,
          0.7920328635238127,
          0.9210688520723921,
          0.8431813681496602,
          0.14682019235661373,
          -1.1829671348247588,
          -1.0438065432704076,
          1.4143243674487795,
          0.709957119062226,
          -0.6850164620237267,
          -1.0010708187907489,
          -0.34860627566652763,
          1.9900831507298398,
          0.18725017639146913,
          -0.6255124774152,
          -1.6017317227276038,
          0.885042918633726,
          0.7428077103813263,
          -0.8924785069045459,
          -1.3308889418400802,
          3.003745396974862,
          0.3371032077767076,
          0.46679193086201903,
          0.36616511575153876,
          -0.416335845412642,
          1.5194644015341876,
          0.5211470076410264,
          -1.5036153475796188,
          -0.26626662937057033,
          0.6978691732337882,
          -0.09511084342263629,
          0.30075260301102774,
          0.03197028510486337,
          1.4282640809936629,
          0.33128440588935226,
          0.8760426680096519,
          -0.04282550929148523,
          -1.4869944424905852,
          1.1016632292962907,
          -1.432616353521275,
          1.5575716683045684,
          -0.3201993175852064,
          0.3085393750442976,
          -1.6767132815810286,
          -0.43613840129391807,
          0.5444947534040682,
          -0.9564608279120181,
          -1.2149259364052323,
          0.2619339163954011,
          1.1510318594062585,
          -1.4935781096730616,
          -1.5364588271684487,
          -0.2014536368998715,
          1.0317682182611458,
          -1.2008107718275032,
          0.6417163449601327,
          2.0525571724871856,
          0.4544224835172775,
          0.8604257046342394,
          0.024338875911690164,
          0.4034582647556379,
          -0.31260916146689444,
          0.020281310347106393,
          -0.29632252607525494,
          -0.3145363114608712,
          -0.5558389308669797,
          -0.08374887468313946,
          -0.1925649721641307,
          -0.37837314814356626,
          -1.004110983807644
         ],
         "xaxis": "x9",
         "y": [
          1.497365056261028,
          -1.3652639392192893,
          -0.4633848596042667,
          -0.6554155737090046,
          -0.873403949723717,
          0.05599352265517801,
          -0.34473828248271027,
          -0.41319903909836236,
          -2.044032644851402,
          -0.3987393454406875,
          1.1597178016054088,
          -1.502703163866186,
          0.23826714360142273,
          -1.5741392475854807,
          0.7816858134640635,
          -2.142846708586097,
          -1.1859370206584845,
          0.33445280073709727,
          -0.7667894723828541,
          1.2527282906266344,
          -0.19539795589395198,
          0.7326304554079953,
          0.04444226457106558,
          -1.556251136029763,
          -0.27447090560656606,
          0.039518802829135904,
          -0.02416001405173457,
          -0.5242725573805086,
          -0.8428442369549263,
          -0.9811777369886999,
          -0.3350095463442984,
          0.990050751506994,
          0.017554043186999775,
          0.2783947893725052,
          -0.06539150267349131,
          0.5611531072387262,
          -0.5433755998816096,
          0.2877606032303694,
          -0.39623450285943856,
          0.4281403826859208,
          0.12491994104865614,
          -0.8686705362189602,
          -1.0093119510785222,
          -1.7450992786587147,
          1.2677715076129603,
          1.1909806049583975,
          0.27740851207658335,
          0.6833561525713735,
          0.4283470277056508,
          0.7913812387268874,
          -0.5557615424139913,
          -0.21904396042115679,
          0.08964190646166481,
          0.021193571224057968,
          0.6050834546942213,
          -1.1619352848327547,
          1.0143367637627896,
          0.6639951131808542,
          1.018881240687566,
          0.9919337469405568,
          -1.3286952823498934,
          0.0887076694256689,
          0.8409303174685794,
          0.04430809594242096,
          -1.1306458993693478,
          2.0736318396393814,
          -0.14677037462178721,
          -1.3931223572680242,
          -2.0547424091586253,
          0.6128352101220416,
          -1.3654986018914061,
          -0.4736373234472714,
          1.5474841315174899,
          1.4023528581155102,
          0.2671475960322153,
          1.2783022300586027,
          -1.5729061331608103,
          -1.263124573100888,
          -0.6798291541866253,
          -0.07536756430411999,
          0.3387490431114079,
          1.7316981530795819,
          -0.09149845946313058,
          0.8606384957577545,
          -0.04059028826209647,
          -0.13740954203864353,
          -0.617304623092329,
          2.0731238475848937,
          -0.820298203736963,
          -0.26698591194207655,
          0.7321591287947562,
          -0.821972232165776,
          -0.6262152567039138,
          -0.08896112446005197,
          -2.5427473812318784,
          0.1546583782646699,
          -0.28721326963380284,
          0.8187876780277029,
          -0.4270266101320868,
          0.27999194420218215
         ],
         "yaxis": "y9"
        },
        {
         "line": {
          "color": "rgba(128, 128, 128, 1.0)",
          "dash": "solid",
          "shape": "linear",
          "width": 1.3
         },
         "marker": {
          "size": 2,
          "symbol": "circle"
         },
         "mode": "markers",
         "name": "C",
         "text": "",
         "type": "scatter",
         "x": [
          1.429907173744965,
          -0.3362692153993021,
          -0.22403939638327913,
          -0.1062523944097891,
          0.2474881419869791,
          -2.951570498412787,
          -1.3150465437708856,
          -0.09564344114602419,
          0.7924691287634381,
          -0.11059481319784327,
          -0.9574735207257397,
          -2.7741406899349563,
          -1.0816982566045203,
          -0.7050395721831006,
          -0.030415434382019057,
          -0.4233816135656058,
          1.13409136177349,
          -0.40242588625630915,
          -0.294198850624815,
          -0.10088674274843744,
          1.0390784149843242,
          0.5165220382316772,
          1.0292362169286038,
          -0.9443881069654166,
          -0.03415047970036683,
          -1.302863193040769,
          -1.8739862933198712,
          -0.14083809321526172,
          -1.027560506025851,
          -0.19154403604307874,
          1.188705505404244,
          0.8103271790333249,
          0.27403939984770914,
          -0.7969627075630051,
          1.1289182632483334,
          -1.6358823872587878,
          -0.6503428428357034,
          -0.6587248753403122,
          -0.8986836433415368,
          -1.2910519644339522,
          0.37456483954536046,
          -2.3331353592693427,
          -1.353315814768125,
          -1.6109918954270386,
          2.574398806434323,
          -0.7419382066961051,
          1.0111811133768143,
          0.8627681851633381,
          1.0684844064238004,
          0.9584140081934572,
          -1.2724226953088429,
          0.5623348949596787,
          0.21278803036445387,
          0.6362092764330177,
          -1.1507486672395217,
          0.480023659069112,
          -1.3364127200675031,
          0.8452624019906536,
          0.2509777094027647,
          0.20317230448967902,
          -2.5580200049648996,
          0.47164544114003987,
          0.13608375887967908,
          -1.3413832491890092,
          1.0794295284681177,
          0.03791755550436143,
          2.1927622697418774,
          1.7239478391164735,
          -0.8441975536242636,
          -0.555562737221605,
          0.8962983600870705,
          1.7163996644440285,
          0.3861053154127059,
          -0.5053146823691147,
          0.6629732990578995,
          1.7291436937887452,
          -0.19791142080973972,
          -0.17758994884436066,
          0.3835728374808757,
          0.1206356970118862,
          -0.5839764747918563,
          0.6562070488071372,
          0.79818803972454,
          -1.317059527577753,
          -0.36660244714059637,
          -0.07092316904929655,
          -1.9885058041209265,
          0.36046441628701004,
          -0.3787904255840291,
          0.40687581684755036,
          -0.9740597784537262,
          -0.5963017374604368,
          1.292358219538622,
          -0.678637329096281,
          -0.11217221669830485,
          -0.556064599371359,
          -1.2917102576840802,
          0.1961856894863246,
          1.8320554131446811,
          1.1361645082224023
         ],
         "xaxis": "x10",
         "y": [
          1.497365056261028,
          -1.3652639392192893,
          -0.4633848596042667,
          -0.6554155737090046,
          -0.873403949723717,
          0.05599352265517801,
          -0.34473828248271027,
          -0.41319903909836236,
          -2.044032644851402,
          -0.3987393454406875,
          1.1597178016054088,
          -1.502703163866186,
          0.23826714360142273,
          -1.5741392475854807,
          0.7816858134640635,
          -2.142846708586097,
          -1.1859370206584845,
          0.33445280073709727,
          -0.7667894723828541,
          1.2527282906266344,
          -0.19539795589395198,
          0.7326304554079953,
          0.04444226457106558,
          -1.556251136029763,
          -0.27447090560656606,
          0.039518802829135904,
          -0.02416001405173457,
          -0.5242725573805086,
          -0.8428442369549263,
          -0.9811777369886999,
          -0.3350095463442984,
          0.990050751506994,
          0.017554043186999775,
          0.2783947893725052,
          -0.06539150267349131,
          0.5611531072387262,
          -0.5433755998816096,
          0.2877606032303694,
          -0.39623450285943856,
          0.4281403826859208,
          0.12491994104865614,
          -0.8686705362189602,
          -1.0093119510785222,
          -1.7450992786587147,
          1.2677715076129603,
          1.1909806049583975,
          0.27740851207658335,
          0.6833561525713735,
          0.4283470277056508,
          0.7913812387268874,
          -0.5557615424139913,
          -0.21904396042115679,
          0.08964190646166481,
          0.021193571224057968,
          0.6050834546942213,
          -1.1619352848327547,
          1.0143367637627896,
          0.6639951131808542,
          1.018881240687566,
          0.9919337469405568,
          -1.3286952823498934,
          0.0887076694256689,
          0.8409303174685794,
          0.04430809594242096,
          -1.1306458993693478,
          2.0736318396393814,
          -0.14677037462178721,
          -1.3931223572680242,
          -2.0547424091586253,
          0.6128352101220416,
          -1.3654986018914061,
          -0.4736373234472714,
          1.5474841315174899,
          1.4023528581155102,
          0.2671475960322153,
          1.2783022300586027,
          -1.5729061331608103,
          -1.263124573100888,
          -0.6798291541866253,
          -0.07536756430411999,
          0.3387490431114079,
          1.7316981530795819,
          -0.09149845946313058,
          0.8606384957577545,
          -0.04059028826209647,
          -0.13740954203864353,
          -0.617304623092329,
          2.0731238475848937,
          -0.820298203736963,
          -0.26698591194207655,
          0.7321591287947562,
          -0.821972232165776,
          -0.6262152567039138,
          -0.08896112446005197,
          -2.5427473812318784,
          0.1546583782646699,
          -0.28721326963380284,
          0.8187876780277029,
          -0.4270266101320868,
          0.27999194420218215
         ],
         "yaxis": "y10"
        },
        {
         "histfunc": "count",
         "histnorm": "",
         "marker": {
          "color": "rgba(50, 171, 96, 1.0)",
          "line": {
           "color": "#4D5663",
           "width": 1.3
          }
         },
         "name": "C",
         "nbinsx": 10,
         "opacity": 0.8,
         "orientation": "v",
         "type": "histogram",
         "x": [
          1.497365056261028,
          -1.3652639392192893,
          -0.4633848596042667,
          -0.6554155737090046,
          -0.873403949723717,
          0.05599352265517801,
          -0.34473828248271027,
          -0.41319903909836236,
          -2.044032644851402,
          -0.3987393454406875,
          1.1597178016054088,
          -1.502703163866186,
          0.23826714360142273,
          -1.5741392475854807,
          0.7816858134640635,
          -2.142846708586097,
          -1.1859370206584845,
          0.33445280073709727,
          -0.7667894723828541,
          1.2527282906266344,
          -0.19539795589395198,
          0.7326304554079953,
          0.04444226457106558,
          -1.556251136029763,
          -0.27447090560656606,
          0.039518802829135904,
          -0.02416001405173457,
          -0.5242725573805086,
          -0.8428442369549263,
          -0.9811777369886999,
          -0.3350095463442984,
          0.990050751506994,
          0.017554043186999775,
          0.2783947893725052,
          -0.06539150267349131,
          0.5611531072387262,
          -0.5433755998816096,
          0.2877606032303694,
          -0.39623450285943856,
          0.4281403826859208,
          0.12491994104865614,
          -0.8686705362189602,
          -1.0093119510785222,
          -1.7450992786587147,
          1.2677715076129603,
          1.1909806049583975,
          0.27740851207658335,
          0.6833561525713735,
          0.4283470277056508,
          0.7913812387268874,
          -0.5557615424139913,
          -0.21904396042115679,
          0.08964190646166481,
          0.021193571224057968,
          0.6050834546942213,
          -1.1619352848327547,
          1.0143367637627896,
          0.6639951131808542,
          1.018881240687566,
          0.9919337469405568,
          -1.3286952823498934,
          0.0887076694256689,
          0.8409303174685794,
          0.04430809594242096,
          -1.1306458993693478,
          2.0736318396393814,
          -0.14677037462178721,
          -1.3931223572680242,
          -2.0547424091586253,
          0.6128352101220416,
          -1.3654986018914061,
          -0.4736373234472714,
          1.5474841315174899,
          1.4023528581155102,
          0.2671475960322153,
          1.2783022300586027,
          -1.5729061331608103,
          -1.263124573100888,
          -0.6798291541866253,
          -0.07536756430411999,
          0.3387490431114079,
          1.7316981530795819,
          -0.09149845946313058,
          0.8606384957577545,
          -0.04059028826209647,
          -0.13740954203864353,
          -0.617304623092329,
          2.0731238475848937,
          -0.820298203736963,
          -0.26698591194207655,
          0.7321591287947562,
          -0.821972232165776,
          -0.6262152567039138,
          -0.08896112446005197,
          -2.5427473812318784,
          0.1546583782646699,
          -0.28721326963380284,
          0.8187876780277029,
          -0.4270266101320868,
          0.27999194420218215
         ],
         "xaxis": "x11",
         "yaxis": "y11"
        },
        {
         "line": {
          "color": "rgba(128, 128, 128, 1.0)",
          "dash": "solid",
          "shape": "linear",
          "width": 1.3
         },
         "marker": {
          "size": 2,
          "symbol": "circle"
         },
         "mode": "markers",
         "name": "C",
         "text": "",
         "type": "scatter",
         "x": [
          -0.7607516732532427,
          -1.254568488051787,
          -0.8788828748036107,
          -0.13665063756100818,
          0.07474348764667796,
          -0.3100043705116922,
          -2.0463341136143995,
          0.640808766840854,
          1.224538129726818,
          1.0886660890880229,
          0.4049848114617264,
          0.7485515644819034,
          -0.46248600223967307,
          0.9533718049057213,
          -0.3695657385477109,
          0.8832340804185418,
          0.9052960323805491,
          -0.3853489432776442,
          1.3159244798509053,
          -0.028767564722662828,
          0.06379612112194598,
          -0.5699264163729659,
          0.32702586302219483,
          0.08779247487238971,
          1.2860732684779363,
          2.0938721257990114,
          0.10641036516130699,
          -0.43614763748954455,
          -0.15454712915480173,
          1.6917422947637824,
          2.069900076611023,
          0.2728381375704959,
          0.8982963476299403,
          1.1626845775151418,
          -1.8514944212075175,
          0.5097088665460885,
          0.301289072860881,
          -0.9215289721219797,
          0.5195919347510675,
          0.6283349774206288,
          0.14180613856997362,
          -0.6596331767430526,
          -0.43804908361382316,
          -1.161466129764636,
          -0.3773059718348686,
          -2.140572355581783,
          -0.19500741390398052,
          -0.5863195712554702,
          0.9506076263372776,
          0.05794084130328615,
          1.114608481540598,
          1.0598559581825697,
          -1.5876844271788813,
          -0.14739138729617407,
          -0.580431636041587,
          -0.33284940498071774,
          1.0629167254062288,
          0.38472616162999584,
          -0.9184640525607392,
          0.8882962211984797,
          -1.014539375075398,
          0.37548732970143817,
          0.5803058105441924,
          0.4429555473857757,
          -1.2144704173369645,
          0.13144813153609372,
          -0.8080736698792067,
          0.8897350266785666,
          1.1618872824269493,
          -0.38335647093100017,
          -0.2727693174039654,
          -0.25018635867093286,
          1.1484717709362309,
          0.49378345946541696,
          1.101291396885938,
          -0.49177164389114286,
          -1.6401018997496926,
          1.277848986380219,
          0.12810121345704542,
          -0.9889079946366958,
          -0.5251123223013637,
          1.1599073316060275,
          0.5708057586905046,
          -0.35367070891227775,
          0.8950168639617084,
          -0.9437864888126327,
          -0.46412027474338197,
          -1.5511026925124407,
          -0.2761019732505129,
          0.15029292622478768,
          1.4277411536710876,
          2.4147463451354967,
          -0.08801777586421945,
          -0.6338679739225697,
          -0.14945606892838023,
          0.6667328009341639,
          -0.3684321797614924,
          -0.9142366078263781,
          -0.4271860199935734,
          2.0408302414506343
         ],
         "xaxis": "x12",
         "y": [
          1.497365056261028,
          -1.3652639392192893,
          -0.4633848596042667,
          -0.6554155737090046,
          -0.873403949723717,
          0.05599352265517801,
          -0.34473828248271027,
          -0.41319903909836236,
          -2.044032644851402,
          -0.3987393454406875,
          1.1597178016054088,
          -1.502703163866186,
          0.23826714360142273,
          -1.5741392475854807,
          0.7816858134640635,
          -2.142846708586097,
          -1.1859370206584845,
          0.33445280073709727,
          -0.7667894723828541,
          1.2527282906266344,
          -0.19539795589395198,
          0.7326304554079953,
          0.04444226457106558,
          -1.556251136029763,
          -0.27447090560656606,
          0.039518802829135904,
          -0.02416001405173457,
          -0.5242725573805086,
          -0.8428442369549263,
          -0.9811777369886999,
          -0.3350095463442984,
          0.990050751506994,
          0.017554043186999775,
          0.2783947893725052,
          -0.06539150267349131,
          0.5611531072387262,
          -0.5433755998816096,
          0.2877606032303694,
          -0.39623450285943856,
          0.4281403826859208,
          0.12491994104865614,
          -0.8686705362189602,
          -1.0093119510785222,
          -1.7450992786587147,
          1.2677715076129603,
          1.1909806049583975,
          0.27740851207658335,
          0.6833561525713735,
          0.4283470277056508,
          0.7913812387268874,
          -0.5557615424139913,
          -0.21904396042115679,
          0.08964190646166481,
          0.021193571224057968,
          0.6050834546942213,
          -1.1619352848327547,
          1.0143367637627896,
          0.6639951131808542,
          1.018881240687566,
          0.9919337469405568,
          -1.3286952823498934,
          0.0887076694256689,
          0.8409303174685794,
          0.04430809594242096,
          -1.1306458993693478,
          2.0736318396393814,
          -0.14677037462178721,
          -1.3931223572680242,
          -2.0547424091586253,
          0.6128352101220416,
          -1.3654986018914061,
          -0.4736373234472714,
          1.5474841315174899,
          1.4023528581155102,
          0.2671475960322153,
          1.2783022300586027,
          -1.5729061331608103,
          -1.263124573100888,
          -0.6798291541866253,
          -0.07536756430411999,
          0.3387490431114079,
          1.7316981530795819,
          -0.09149845946313058,
          0.8606384957577545,
          -0.04059028826209647,
          -0.13740954203864353,
          -0.617304623092329,
          2.0731238475848937,
          -0.820298203736963,
          -0.26698591194207655,
          0.7321591287947562,
          -0.821972232165776,
          -0.6262152567039138,
          -0.08896112446005197,
          -2.5427473812318784,
          0.1546583782646699,
          -0.28721326963380284,
          0.8187876780277029,
          -0.4270266101320868,
          0.27999194420218215
         ],
         "yaxis": "y12"
        },
        {
         "line": {
          "color": "rgba(128, 128, 128, 1.0)",
          "dash": "solid",
          "shape": "linear",
          "width": 1.3
         },
         "marker": {
          "size": 2,
          "symbol": "circle"
         },
         "mode": "markers",
         "name": "D",
         "text": "",
         "type": "scatter",
         "x": [
          -1.252614793086047,
          -0.05970334235749016,
          1.1861410783422972,
          -0.08761128715742864,
          0.07950640464429827,
          1.2280562668624604,
          -1.3278069263914265,
          -1.363119785987805,
          -1.1386232623492012,
          -0.8393437156317276,
          -0.4541080744300972,
          2.0343495796888282,
          -3.09049460215665,
          0.16073727481802083,
          -0.4197095473149091,
          -0.2387478469942015,
          -0.059737805366917265,
          0.637232411048166,
          -0.16098446078613787,
          -0.39044693665236124,
          -0.18335785148903647,
          -1.4665474154877824,
          -0.9467091070463365,
          -1.363086400891611,
          1.1419161233127382,
          -0.8990356765986693,
          -0.47877126318615904,
          -0.08723595655352805,
          0.28836519048925785,
          0.4535211994873111,
          0.6072750672172921,
          0.7920328635238127,
          0.9210688520723921,
          0.8431813681496602,
          0.14682019235661373,
          -1.1829671348247588,
          -1.0438065432704076,
          1.4143243674487795,
          0.709957119062226,
          -0.6850164620237267,
          -1.0010708187907489,
          -0.34860627566652763,
          1.9900831507298398,
          0.18725017639146913,
          -0.6255124774152,
          -1.6017317227276038,
          0.885042918633726,
          0.7428077103813263,
          -0.8924785069045459,
          -1.3308889418400802,
          3.003745396974862,
          0.3371032077767076,
          0.46679193086201903,
          0.36616511575153876,
          -0.416335845412642,
          1.5194644015341876,
          0.5211470076410264,
          -1.5036153475796188,
          -0.26626662937057033,
          0.6978691732337882,
          -0.09511084342263629,
          0.30075260301102774,
          0.03197028510486337,
          1.4282640809936629,
          0.33128440588935226,
          0.8760426680096519,
          -0.04282550929148523,
          -1.4869944424905852,
          1.1016632292962907,
          -1.432616353521275,
          1.5575716683045684,
          -0.3201993175852064,
          0.3085393750442976,
          -1.6767132815810286,
          -0.43613840129391807,
          0.5444947534040682,
          -0.9564608279120181,
          -1.2149259364052323,
          0.2619339163954011,
          1.1510318594062585,
          -1.4935781096730616,
          -1.5364588271684487,
          -0.2014536368998715,
          1.0317682182611458,
          -1.2008107718275032,
          0.6417163449601327,
          2.0525571724871856,
          0.4544224835172775,
          0.8604257046342394,
          0.024338875911690164,
          0.4034582647556379,
          -0.31260916146689444,
          0.020281310347106393,
          -0.29632252607525494,
          -0.3145363114608712,
          -0.5558389308669797,
          -0.08374887468313946,
          -0.1925649721641307,
          -0.37837314814356626,
          -1.004110983807644
         ],
         "xaxis": "x13",
         "y": [
          -0.7607516732532427,
          -1.254568488051787,
          -0.8788828748036107,
          -0.13665063756100818,
          0.07474348764667796,
          -0.3100043705116922,
          -2.0463341136143995,
          0.640808766840854,
          1.224538129726818,
          1.0886660890880229,
          0.4049848114617264,
          0.7485515644819034,
          -0.46248600223967307,
          0.9533718049057213,
          -0.3695657385477109,
          0.8832340804185418,
          0.9052960323805491,
          -0.3853489432776442,
          1.3159244798509053,
          -0.028767564722662828,
          0.06379612112194598,
          -0.5699264163729659,
          0.32702586302219483,
          0.08779247487238971,
          1.2860732684779363,
          2.0938721257990114,
          0.10641036516130699,
          -0.43614763748954455,
          -0.15454712915480173,
          1.6917422947637824,
          2.069900076611023,
          0.2728381375704959,
          0.8982963476299403,
          1.1626845775151418,
          -1.8514944212075175,
          0.5097088665460885,
          0.301289072860881,
          -0.9215289721219797,
          0.5195919347510675,
          0.6283349774206288,
          0.14180613856997362,
          -0.6596331767430526,
          -0.43804908361382316,
          -1.161466129764636,
          -0.3773059718348686,
          -2.140572355581783,
          -0.19500741390398052,
          -0.5863195712554702,
          0.9506076263372776,
          0.05794084130328615,
          1.114608481540598,
          1.0598559581825697,
          -1.5876844271788813,
          -0.14739138729617407,
          -0.580431636041587,
          -0.33284940498071774,
          1.0629167254062288,
          0.38472616162999584,
          -0.9184640525607392,
          0.8882962211984797,
          -1.014539375075398,
          0.37548732970143817,
          0.5803058105441924,
          0.4429555473857757,
          -1.2144704173369645,
          0.13144813153609372,
          -0.8080736698792067,
          0.8897350266785666,
          1.1618872824269493,
          -0.38335647093100017,
          -0.2727693174039654,
          -0.25018635867093286,
          1.1484717709362309,
          0.49378345946541696,
          1.101291396885938,
          -0.49177164389114286,
          -1.6401018997496926,
          1.277848986380219,
          0.12810121345704542,
          -0.9889079946366958,
          -0.5251123223013637,
          1.1599073316060275,
          0.5708057586905046,
          -0.35367070891227775,
          0.8950168639617084,
          -0.9437864888126327,
          -0.46412027474338197,
          -1.5511026925124407,
          -0.2761019732505129,
          0.15029292622478768,
          1.4277411536710876,
          2.4147463451354967,
          -0.08801777586421945,
          -0.6338679739225697,
          -0.14945606892838023,
          0.6667328009341639,
          -0.3684321797614924,
          -0.9142366078263781,
          -0.4271860199935734,
          2.0408302414506343
         ],
         "yaxis": "y13"
        },
        {
         "line": {
          "color": "rgba(128, 128, 128, 1.0)",
          "dash": "solid",
          "shape": "linear",
          "width": 1.3
         },
         "marker": {
          "size": 2,
          "symbol": "circle"
         },
         "mode": "markers",
         "name": "D",
         "text": "",
         "type": "scatter",
         "x": [
          1.429907173744965,
          -0.3362692153993021,
          -0.22403939638327913,
          -0.1062523944097891,
          0.2474881419869791,
          -2.951570498412787,
          -1.3150465437708856,
          -0.09564344114602419,
          0.7924691287634381,
          -0.11059481319784327,
          -0.9574735207257397,
          -2.7741406899349563,
          -1.0816982566045203,
          -0.7050395721831006,
          -0.030415434382019057,
          -0.4233816135656058,
          1.13409136177349,
          -0.40242588625630915,
          -0.294198850624815,
          -0.10088674274843744,
          1.0390784149843242,
          0.5165220382316772,
          1.0292362169286038,
          -0.9443881069654166,
          -0.03415047970036683,
          -1.302863193040769,
          -1.8739862933198712,
          -0.14083809321526172,
          -1.027560506025851,
          -0.19154403604307874,
          1.188705505404244,
          0.8103271790333249,
          0.27403939984770914,
          -0.7969627075630051,
          1.1289182632483334,
          -1.6358823872587878,
          -0.6503428428357034,
          -0.6587248753403122,
          -0.8986836433415368,
          -1.2910519644339522,
          0.37456483954536046,
          -2.3331353592693427,
          -1.353315814768125,
          -1.6109918954270386,
          2.574398806434323,
          -0.7419382066961051,
          1.0111811133768143,
          0.8627681851633381,
          1.0684844064238004,
          0.9584140081934572,
          -1.2724226953088429,
          0.5623348949596787,
          0.21278803036445387,
          0.6362092764330177,
          -1.1507486672395217,
          0.480023659069112,
          -1.3364127200675031,
          0.8452624019906536,
          0.2509777094027647,
          0.20317230448967902,
          -2.5580200049648996,
          0.47164544114003987,
          0.13608375887967908,
          -1.3413832491890092,
          1.0794295284681177,
          0.03791755550436143,
          2.1927622697418774,
          1.7239478391164735,
          -0.8441975536242636,
          -0.555562737221605,
          0.8962983600870705,
          1.7163996644440285,
          0.3861053154127059,
          -0.5053146823691147,
          0.6629732990578995,
          1.7291436937887452,
          -0.19791142080973972,
          -0.17758994884436066,
          0.3835728374808757,
          0.1206356970118862,
          -0.5839764747918563,
          0.6562070488071372,
          0.79818803972454,
          -1.317059527577753,
          -0.36660244714059637,
          -0.07092316904929655,
          -1.9885058041209265,
          0.36046441628701004,
          -0.3787904255840291,
          0.40687581684755036,
          -0.9740597784537262,
          -0.5963017374604368,
          1.292358219538622,
          -0.678637329096281,
          -0.11217221669830485,
          -0.556064599371359,
          -1.2917102576840802,
          0.1961856894863246,
          1.8320554131446811,
          1.1361645082224023
         ],
         "xaxis": "x14",
         "y": [
          -0.7607516732532427,
          -1.254568488051787,
          -0.8788828748036107,
          -0.13665063756100818,
          0.07474348764667796,
          -0.3100043705116922,
          -2.0463341136143995,
          0.640808766840854,
          1.224538129726818,
          1.0886660890880229,
          0.4049848114617264,
          0.7485515644819034,
          -0.46248600223967307,
          0.9533718049057213,
          -0.3695657385477109,
          0.8832340804185418,
          0.9052960323805491,
          -0.3853489432776442,
          1.3159244798509053,
          -0.028767564722662828,
          0.06379612112194598,
          -0.5699264163729659,
          0.32702586302219483,
          0.08779247487238971,
          1.2860732684779363,
          2.0938721257990114,
          0.10641036516130699,
          -0.43614763748954455,
          -0.15454712915480173,
          1.6917422947637824,
          2.069900076611023,
          0.2728381375704959,
          0.8982963476299403,
          1.1626845775151418,
          -1.8514944212075175,
          0.5097088665460885,
          0.301289072860881,
          -0.9215289721219797,
          0.5195919347510675,
          0.6283349774206288,
          0.14180613856997362,
          -0.6596331767430526,
          -0.43804908361382316,
          -1.161466129764636,
          -0.3773059718348686,
          -2.140572355581783,
          -0.19500741390398052,
          -0.5863195712554702,
          0.9506076263372776,
          0.05794084130328615,
          1.114608481540598,
          1.0598559581825697,
          -1.5876844271788813,
          -0.14739138729617407,
          -0.580431636041587,
          -0.33284940498071774,
          1.0629167254062288,
          0.38472616162999584,
          -0.9184640525607392,
          0.8882962211984797,
          -1.014539375075398,
          0.37548732970143817,
          0.5803058105441924,
          0.4429555473857757,
          -1.2144704173369645,
          0.13144813153609372,
          -0.8080736698792067,
          0.8897350266785666,
          1.1618872824269493,
          -0.38335647093100017,
          -0.2727693174039654,
          -0.25018635867093286,
          1.1484717709362309,
          0.49378345946541696,
          1.101291396885938,
          -0.49177164389114286,
          -1.6401018997496926,
          1.277848986380219,
          0.12810121345704542,
          -0.9889079946366958,
          -0.5251123223013637,
          1.1599073316060275,
          0.5708057586905046,
          -0.35367070891227775,
          0.8950168639617084,
          -0.9437864888126327,
          -0.46412027474338197,
          -1.5511026925124407,
          -0.2761019732505129,
          0.15029292622478768,
          1.4277411536710876,
          2.4147463451354967,
          -0.08801777586421945,
          -0.6338679739225697,
          -0.14945606892838023,
          0.6667328009341639,
          -0.3684321797614924,
          -0.9142366078263781,
          -0.4271860199935734,
          2.0408302414506343
         ],
         "yaxis": "y14"
        },
        {
         "line": {
          "color": "rgba(128, 128, 128, 1.0)",
          "dash": "solid",
          "shape": "linear",
          "width": 1.3
         },
         "marker": {
          "size": 2,
          "symbol": "circle"
         },
         "mode": "markers",
         "name": "D",
         "text": "",
         "type": "scatter",
         "x": [
          1.497365056261028,
          -1.3652639392192893,
          -0.4633848596042667,
          -0.6554155737090046,
          -0.873403949723717,
          0.05599352265517801,
          -0.34473828248271027,
          -0.41319903909836236,
          -2.044032644851402,
          -0.3987393454406875,
          1.1597178016054088,
          -1.502703163866186,
          0.23826714360142273,
          -1.5741392475854807,
          0.7816858134640635,
          -2.142846708586097,
          -1.1859370206584845,
          0.33445280073709727,
          -0.7667894723828541,
          1.2527282906266344,
          -0.19539795589395198,
          0.7326304554079953,
          0.04444226457106558,
          -1.556251136029763,
          -0.27447090560656606,
          0.039518802829135904,
          -0.02416001405173457,
          -0.5242725573805086,
          -0.8428442369549263,
          -0.9811777369886999,
          -0.3350095463442984,
          0.990050751506994,
          0.017554043186999775,
          0.2783947893725052,
          -0.06539150267349131,
          0.5611531072387262,
          -0.5433755998816096,
          0.2877606032303694,
          -0.39623450285943856,
          0.4281403826859208,
          0.12491994104865614,
          -0.8686705362189602,
          -1.0093119510785222,
          -1.7450992786587147,
          1.2677715076129603,
          1.1909806049583975,
          0.27740851207658335,
          0.6833561525713735,
          0.4283470277056508,
          0.7913812387268874,
          -0.5557615424139913,
          -0.21904396042115679,
          0.08964190646166481,
          0.021193571224057968,
          0.6050834546942213,
          -1.1619352848327547,
          1.0143367637627896,
          0.6639951131808542,
          1.018881240687566,
          0.9919337469405568,
          -1.3286952823498934,
          0.0887076694256689,
          0.8409303174685794,
          0.04430809594242096,
          -1.1306458993693478,
          2.0736318396393814,
          -0.14677037462178721,
          -1.3931223572680242,
          -2.0547424091586253,
          0.6128352101220416,
          -1.3654986018914061,
          -0.4736373234472714,
          1.5474841315174899,
          1.4023528581155102,
          0.2671475960322153,
          1.2783022300586027,
          -1.5729061331608103,
          -1.263124573100888,
          -0.6798291541866253,
          -0.07536756430411999,
          0.3387490431114079,
          1.7316981530795819,
          -0.09149845946313058,
          0.8606384957577545,
          -0.04059028826209647,
          -0.13740954203864353,
          -0.617304623092329,
          2.0731238475848937,
          -0.820298203736963,
          -0.26698591194207655,
          0.7321591287947562,
          -0.821972232165776,
          -0.6262152567039138,
          -0.08896112446005197,
          -2.5427473812318784,
          0.1546583782646699,
          -0.28721326963380284,
          0.8187876780277029,
          -0.4270266101320868,
          0.27999194420218215
         ],
         "xaxis": "x15",
         "y": [
          -0.7607516732532427,
          -1.254568488051787,
          -0.8788828748036107,
          -0.13665063756100818,
          0.07474348764667796,
          -0.3100043705116922,
          -2.0463341136143995,
          0.640808766840854,
          1.224538129726818,
          1.0886660890880229,
          0.4049848114617264,
          0.7485515644819034,
          -0.46248600223967307,
          0.9533718049057213,
          -0.3695657385477109,
          0.8832340804185418,
          0.9052960323805491,
          -0.3853489432776442,
          1.3159244798509053,
          -0.028767564722662828,
          0.06379612112194598,
          -0.5699264163729659,
          0.32702586302219483,
          0.08779247487238971,
          1.2860732684779363,
          2.0938721257990114,
          0.10641036516130699,
          -0.43614763748954455,
          -0.15454712915480173,
          1.6917422947637824,
          2.069900076611023,
          0.2728381375704959,
          0.8982963476299403,
          1.1626845775151418,
          -1.8514944212075175,
          0.5097088665460885,
          0.301289072860881,
          -0.9215289721219797,
          0.5195919347510675,
          0.6283349774206288,
          0.14180613856997362,
          -0.6596331767430526,
          -0.43804908361382316,
          -1.161466129764636,
          -0.3773059718348686,
          -2.140572355581783,
          -0.19500741390398052,
          -0.5863195712554702,
          0.9506076263372776,
          0.05794084130328615,
          1.114608481540598,
          1.0598559581825697,
          -1.5876844271788813,
          -0.14739138729617407,
          -0.580431636041587,
          -0.33284940498071774,
          1.0629167254062288,
          0.38472616162999584,
          -0.9184640525607392,
          0.8882962211984797,
          -1.014539375075398,
          0.37548732970143817,
          0.5803058105441924,
          0.4429555473857757,
          -1.2144704173369645,
          0.13144813153609372,
          -0.8080736698792067,
          0.8897350266785666,
          1.1618872824269493,
          -0.38335647093100017,
          -0.2727693174039654,
          -0.25018635867093286,
          1.1484717709362309,
          0.49378345946541696,
          1.101291396885938,
          -0.49177164389114286,
          -1.6401018997496926,
          1.277848986380219,
          0.12810121345704542,
          -0.9889079946366958,
          -0.5251123223013637,
          1.1599073316060275,
          0.5708057586905046,
          -0.35367070891227775,
          0.8950168639617084,
          -0.9437864888126327,
          -0.46412027474338197,
          -1.5511026925124407,
          -0.2761019732505129,
          0.15029292622478768,
          1.4277411536710876,
          2.4147463451354967,
          -0.08801777586421945,
          -0.6338679739225697,
          -0.14945606892838023,
          0.6667328009341639,
          -0.3684321797614924,
          -0.9142366078263781,
          -0.4271860199935734,
          2.0408302414506343
         ],
         "yaxis": "y15"
        },
        {
         "histfunc": "count",
         "histnorm": "",
         "marker": {
          "color": "rgba(128, 0, 128, 1.0)",
          "line": {
           "color": "#4D5663",
           "width": 1.3
          }
         },
         "name": "D",
         "nbinsx": 10,
         "opacity": 0.8,
         "orientation": "v",
         "type": "histogram",
         "x": [
          -0.7607516732532427,
          -1.254568488051787,
          -0.8788828748036107,
          -0.13665063756100818,
          0.07474348764667796,
          -0.3100043705116922,
          -2.0463341136143995,
          0.640808766840854,
          1.224538129726818,
          1.0886660890880229,
          0.4049848114617264,
          0.7485515644819034,
          -0.46248600223967307,
          0.9533718049057213,
          -0.3695657385477109,
          0.8832340804185418,
          0.9052960323805491,
          -0.3853489432776442,
          1.3159244798509053,
          -0.028767564722662828,
          0.06379612112194598,
          -0.5699264163729659,
          0.32702586302219483,
          0.08779247487238971,
          1.2860732684779363,
          2.0938721257990114,
          0.10641036516130699,
          -0.43614763748954455,
          -0.15454712915480173,
          1.6917422947637824,
          2.069900076611023,
          0.2728381375704959,
          0.8982963476299403,
          1.1626845775151418,
          -1.8514944212075175,
          0.5097088665460885,
          0.301289072860881,
          -0.9215289721219797,
          0.5195919347510675,
          0.6283349774206288,
          0.14180613856997362,
          -0.6596331767430526,
          -0.43804908361382316,
          -1.161466129764636,
          -0.3773059718348686,
          -2.140572355581783,
          -0.19500741390398052,
          -0.5863195712554702,
          0.9506076263372776,
          0.05794084130328615,
          1.114608481540598,
          1.0598559581825697,
          -1.5876844271788813,
          -0.14739138729617407,
          -0.580431636041587,
          -0.33284940498071774,
          1.0629167254062288,
          0.38472616162999584,
          -0.9184640525607392,
          0.8882962211984797,
          -1.014539375075398,
          0.37548732970143817,
          0.5803058105441924,
          0.4429555473857757,
          -1.2144704173369645,
          0.13144813153609372,
          -0.8080736698792067,
          0.8897350266785666,
          1.1618872824269493,
          -0.38335647093100017,
          -0.2727693174039654,
          -0.25018635867093286,
          1.1484717709362309,
          0.49378345946541696,
          1.101291396885938,
          -0.49177164389114286,
          -1.6401018997496926,
          1.277848986380219,
          0.12810121345704542,
          -0.9889079946366958,
          -0.5251123223013637,
          1.1599073316060275,
          0.5708057586905046,
          -0.35367070891227775,
          0.8950168639617084,
          -0.9437864888126327,
          -0.46412027474338197,
          -1.5511026925124407,
          -0.2761019732505129,
          0.15029292622478768,
          1.4277411536710876,
          2.4147463451354967,
          -0.08801777586421945,
          -0.6338679739225697,
          -0.14945606892838023,
          0.6667328009341639,
          -0.3684321797614924,
          -0.9142366078263781,
          -0.4271860199935734,
          2.0408302414506343
         ],
         "xaxis": "x16",
         "yaxis": "y16"
        }
       ],
       "layout": {
        "bargap": 0.02,
        "legend": {
         "bgcolor": "#F5F6F9",
         "font": {
          "color": "#4D5663"
         }
        },
        "paper_bgcolor": "#F5F6F9",
        "plot_bgcolor": "#F5F6F9",
        "showlegend": false,
        "template": {
         "data": {
          "bar": [
           {
            "error_x": {
             "color": "#2a3f5f"
            },
            "error_y": {
             "color": "#2a3f5f"
            },
            "marker": {
             "line": {
              "color": "#E5ECF6",
              "width": 0.5
             },
             "pattern": {
              "fillmode": "overlay",
              "size": 10,
              "solidity": 0.2
             }
            },
            "type": "bar"
           }
          ],
          "barpolar": [
           {
            "marker": {
             "line": {
              "color": "#E5ECF6",
              "width": 0.5
             },
             "pattern": {
              "fillmode": "overlay",
              "size": 10,
              "solidity": 0.2
             }
            },
            "type": "barpolar"
           }
          ],
          "carpet": [
           {
            "aaxis": {
             "endlinecolor": "#2a3f5f",
             "gridcolor": "white",
             "linecolor": "white",
             "minorgridcolor": "white",
             "startlinecolor": "#2a3f5f"
            },
            "baxis": {
             "endlinecolor": "#2a3f5f",
             "gridcolor": "white",
             "linecolor": "white",
             "minorgridcolor": "white",
             "startlinecolor": "#2a3f5f"
            },
            "type": "carpet"
           }
          ],
          "choropleth": [
           {
            "colorbar": {
             "outlinewidth": 0,
             "ticks": ""
            },
            "type": "choropleth"
           }
          ],
          "contour": [
           {
            "colorbar": {
             "outlinewidth": 0,
             "ticks": ""
            },
            "colorscale": [
             [
              0,
              "#0d0887"
             ],
             [
              0.1111111111111111,
              "#46039f"
             ],
             [
              0.2222222222222222,
              "#7201a8"
             ],
             [
              0.3333333333333333,
              "#9c179e"
             ],
             [
              0.4444444444444444,
              "#bd3786"
             ],
             [
              0.5555555555555556,
              "#d8576b"
             ],
             [
              0.6666666666666666,
              "#ed7953"
             ],
             [
              0.7777777777777778,
              "#fb9f3a"
             ],
             [
              0.8888888888888888,
              "#fdca26"
             ],
             [
              1,
              "#f0f921"
             ]
            ],
            "type": "contour"
           }
          ],
          "contourcarpet": [
           {
            "colorbar": {
             "outlinewidth": 0,
             "ticks": ""
            },
            "type": "contourcarpet"
           }
          ],
          "heatmap": [
           {
            "colorbar": {
             "outlinewidth": 0,
             "ticks": ""
            },
            "colorscale": [
             [
              0,
              "#0d0887"
             ],
             [
              0.1111111111111111,
              "#46039f"
             ],
             [
              0.2222222222222222,
              "#7201a8"
             ],
             [
              0.3333333333333333,
              "#9c179e"
             ],
             [
              0.4444444444444444,
              "#bd3786"
             ],
             [
              0.5555555555555556,
              "#d8576b"
             ],
             [
              0.6666666666666666,
              "#ed7953"
             ],
             [
              0.7777777777777778,
              "#fb9f3a"
             ],
             [
              0.8888888888888888,
              "#fdca26"
             ],
             [
              1,
              "#f0f921"
             ]
            ],
            "type": "heatmap"
           }
          ],
          "heatmapgl": [
           {
            "colorbar": {
             "outlinewidth": 0,
             "ticks": ""
            },
            "colorscale": [
             [
              0,
              "#0d0887"
             ],
             [
              0.1111111111111111,
              "#46039f"
             ],
             [
              0.2222222222222222,
              "#7201a8"
             ],
             [
              0.3333333333333333,
              "#9c179e"
             ],
             [
              0.4444444444444444,
              "#bd3786"
             ],
             [
              0.5555555555555556,
              "#d8576b"
             ],
             [
              0.6666666666666666,
              "#ed7953"
             ],
             [
              0.7777777777777778,
              "#fb9f3a"
             ],
             [
              0.8888888888888888,
              "#fdca26"
             ],
             [
              1,
              "#f0f921"
             ]
            ],
            "type": "heatmapgl"
           }
          ],
          "histogram": [
           {
            "marker": {
             "pattern": {
              "fillmode": "overlay",
              "size": 10,
              "solidity": 0.2
             }
            },
            "type": "histogram"
           }
          ],
          "histogram2d": [
           {
            "colorbar": {
             "outlinewidth": 0,
             "ticks": ""
            },
            "colorscale": [
             [
              0,
              "#0d0887"
             ],
             [
              0.1111111111111111,
              "#46039f"
             ],
             [
              0.2222222222222222,
              "#7201a8"
             ],
             [
              0.3333333333333333,
              "#9c179e"
             ],
             [
              0.4444444444444444,
              "#bd3786"
             ],
             [
              0.5555555555555556,
              "#d8576b"
             ],
             [
              0.6666666666666666,
              "#ed7953"
             ],
             [
              0.7777777777777778,
              "#fb9f3a"
             ],
             [
              0.8888888888888888,
              "#fdca26"
             ],
             [
              1,
              "#f0f921"
             ]
            ],
            "type": "histogram2d"
           }
          ],
          "histogram2dcontour": [
           {
            "colorbar": {
             "outlinewidth": 0,
             "ticks": ""
            },
            "colorscale": [
             [
              0,
              "#0d0887"
             ],
             [
              0.1111111111111111,
              "#46039f"
             ],
             [
              0.2222222222222222,
              "#7201a8"
             ],
             [
              0.3333333333333333,
              "#9c179e"
             ],
             [
              0.4444444444444444,
              "#bd3786"
             ],
             [
              0.5555555555555556,
              "#d8576b"
             ],
             [
              0.6666666666666666,
              "#ed7953"
             ],
             [
              0.7777777777777778,
              "#fb9f3a"
             ],
             [
              0.8888888888888888,
              "#fdca26"
             ],
             [
              1,
              "#f0f921"
             ]
            ],
            "type": "histogram2dcontour"
           }
          ],
          "mesh3d": [
           {
            "colorbar": {
             "outlinewidth": 0,
             "ticks": ""
            },
            "type": "mesh3d"
           }
          ],
          "parcoords": [
           {
            "line": {
             "colorbar": {
              "outlinewidth": 0,
              "ticks": ""
             }
            },
            "type": "parcoords"
           }
          ],
          "pie": [
           {
            "automargin": true,
            "type": "pie"
           }
          ],
          "scatter": [
           {
            "marker": {
             "colorbar": {
              "outlinewidth": 0,
              "ticks": ""
             }
            },
            "type": "scatter"
           }
          ],
          "scatter3d": [
           {
            "line": {
             "colorbar": {
              "outlinewidth": 0,
              "ticks": ""
             }
            },
            "marker": {
             "colorbar": {
              "outlinewidth": 0,
              "ticks": ""
             }
            },
            "type": "scatter3d"
           }
          ],
          "scattercarpet": [
           {
            "marker": {
             "colorbar": {
              "outlinewidth": 0,
              "ticks": ""
             }
            },
            "type": "scattercarpet"
           }
          ],
          "scattergeo": [
           {
            "marker": {
             "colorbar": {
              "outlinewidth": 0,
              "ticks": ""
             }
            },
            "type": "scattergeo"
           }
          ],
          "scattergl": [
           {
            "marker": {
             "colorbar": {
              "outlinewidth": 0,
              "ticks": ""
             }
            },
            "type": "scattergl"
           }
          ],
          "scattermapbox": [
           {
            "marker": {
             "colorbar": {
              "outlinewidth": 0,
              "ticks": ""
             }
            },
            "type": "scattermapbox"
           }
          ],
          "scatterpolar": [
           {
            "marker": {
             "colorbar": {
              "outlinewidth": 0,
              "ticks": ""
             }
            },
            "type": "scatterpolar"
           }
          ],
          "scatterpolargl": [
           {
            "marker": {
             "colorbar": {
              "outlinewidth": 0,
              "ticks": ""
             }
            },
            "type": "scatterpolargl"
           }
          ],
          "scatterternary": [
           {
            "marker": {
             "colorbar": {
              "outlinewidth": 0,
              "ticks": ""
             }
            },
            "type": "scatterternary"
           }
          ],
          "surface": [
           {
            "colorbar": {
             "outlinewidth": 0,
             "ticks": ""
            },
            "colorscale": [
             [
              0,
              "#0d0887"
             ],
             [
              0.1111111111111111,
              "#46039f"
             ],
             [
              0.2222222222222222,
              "#7201a8"
             ],
             [
              0.3333333333333333,
              "#9c179e"
             ],
             [
              0.4444444444444444,
              "#bd3786"
             ],
             [
              0.5555555555555556,
              "#d8576b"
             ],
             [
              0.6666666666666666,
              "#ed7953"
             ],
             [
              0.7777777777777778,
              "#fb9f3a"
             ],
             [
              0.8888888888888888,
              "#fdca26"
             ],
             [
              1,
              "#f0f921"
             ]
            ],
            "type": "surface"
           }
          ],
          "table": [
           {
            "cells": {
             "fill": {
              "color": "#EBF0F8"
             },
             "line": {
              "color": "white"
             }
            },
            "header": {
             "fill": {
              "color": "#C8D4E3"
             },
             "line": {
              "color": "white"
             }
            },
            "type": "table"
           }
          ]
         },
         "layout": {
          "annotationdefaults": {
           "arrowcolor": "#2a3f5f",
           "arrowhead": 0,
           "arrowwidth": 1
          },
          "autotypenumbers": "strict",
          "coloraxis": {
           "colorbar": {
            "outlinewidth": 0,
            "ticks": ""
           }
          },
          "colorscale": {
           "diverging": [
            [
             0,
             "#8e0152"
            ],
            [
             0.1,
             "#c51b7d"
            ],
            [
             0.2,
             "#de77ae"
            ],
            [
             0.3,
             "#f1b6da"
            ],
            [
             0.4,
             "#fde0ef"
            ],
            [
             0.5,
             "#f7f7f7"
            ],
            [
             0.6,
             "#e6f5d0"
            ],
            [
             0.7,
             "#b8e186"
            ],
            [
             0.8,
             "#7fbc41"
            ],
            [
             0.9,
             "#4d9221"
            ],
            [
             1,
             "#276419"
            ]
           ],
           "sequential": [
            [
             0,
             "#0d0887"
            ],
            [
             0.1111111111111111,
             "#46039f"
            ],
            [
             0.2222222222222222,
             "#7201a8"
            ],
            [
             0.3333333333333333,
             "#9c179e"
            ],
            [
             0.4444444444444444,
             "#bd3786"
            ],
            [
             0.5555555555555556,
             "#d8576b"
            ],
            [
             0.6666666666666666,
             "#ed7953"
            ],
            [
             0.7777777777777778,
             "#fb9f3a"
            ],
            [
             0.8888888888888888,
             "#fdca26"
            ],
            [
             1,
             "#f0f921"
            ]
           ],
           "sequentialminus": [
            [
             0,
             "#0d0887"
            ],
            [
             0.1111111111111111,
             "#46039f"
            ],
            [
             0.2222222222222222,
             "#7201a8"
            ],
            [
             0.3333333333333333,
             "#9c179e"
            ],
            [
             0.4444444444444444,
             "#bd3786"
            ],
            [
             0.5555555555555556,
             "#d8576b"
            ],
            [
             0.6666666666666666,
             "#ed7953"
            ],
            [
             0.7777777777777778,
             "#fb9f3a"
            ],
            [
             0.8888888888888888,
             "#fdca26"
            ],
            [
             1,
             "#f0f921"
            ]
           ]
          },
          "colorway": [
           "#636efa",
           "#EF553B",
           "#00cc96",
           "#ab63fa",
           "#FFA15A",
           "#19d3f3",
           "#FF6692",
           "#B6E880",
           "#FF97FF",
           "#FECB52"
          ],
          "font": {
           "color": "#2a3f5f"
          },
          "geo": {
           "bgcolor": "white",
           "lakecolor": "white",
           "landcolor": "#E5ECF6",
           "showlakes": true,
           "showland": true,
           "subunitcolor": "white"
          },
          "hoverlabel": {
           "align": "left"
          },
          "hovermode": "closest",
          "mapbox": {
           "style": "light"
          },
          "paper_bgcolor": "white",
          "plot_bgcolor": "#E5ECF6",
          "polar": {
           "angularaxis": {
            "gridcolor": "white",
            "linecolor": "white",
            "ticks": ""
           },
           "bgcolor": "#E5ECF6",
           "radialaxis": {
            "gridcolor": "white",
            "linecolor": "white",
            "ticks": ""
           }
          },
          "scene": {
           "xaxis": {
            "backgroundcolor": "#E5ECF6",
            "gridcolor": "white",
            "gridwidth": 2,
            "linecolor": "white",
            "showbackground": true,
            "ticks": "",
            "zerolinecolor": "white"
           },
           "yaxis": {
            "backgroundcolor": "#E5ECF6",
            "gridcolor": "white",
            "gridwidth": 2,
            "linecolor": "white",
            "showbackground": true,
            "ticks": "",
            "zerolinecolor": "white"
           },
           "zaxis": {
            "backgroundcolor": "#E5ECF6",
            "gridcolor": "white",
            "gridwidth": 2,
            "linecolor": "white",
            "showbackground": true,
            "ticks": "",
            "zerolinecolor": "white"
           }
          },
          "shapedefaults": {
           "line": {
            "color": "#2a3f5f"
           }
          },
          "ternary": {
           "aaxis": {
            "gridcolor": "white",
            "linecolor": "white",
            "ticks": ""
           },
           "baxis": {
            "gridcolor": "white",
            "linecolor": "white",
            "ticks": ""
           },
           "bgcolor": "#E5ECF6",
           "caxis": {
            "gridcolor": "white",
            "linecolor": "white",
            "ticks": ""
           }
          },
          "title": {
           "x": 0.05
          },
          "xaxis": {
           "automargin": true,
           "gridcolor": "white",
           "linecolor": "white",
           "ticks": "",
           "title": {
            "standoff": 15
           },
           "zerolinecolor": "white",
           "zerolinewidth": 2
          },
          "yaxis": {
           "automargin": true,
           "gridcolor": "white",
           "linecolor": "white",
           "ticks": "",
           "title": {
            "standoff": 15
           },
           "zerolinecolor": "white",
           "zerolinewidth": 2
          }
         }
        },
        "title": {
         "font": {
          "color": "#4D5663"
         }
        },
        "xaxis": {
         "anchor": "y",
         "domain": [
          0,
          0.2125
         ],
         "gridcolor": "#E1E5ED",
         "showgrid": false,
         "tickfont": {
          "color": "#4D5663"
         },
         "title": {
          "font": {
           "color": "#4D5663"
          },
          "text": ""
         },
         "zerolinecolor": "#E1E5ED"
        },
        "xaxis10": {
         "anchor": "y10",
         "domain": [
          0.2625,
          0.475
         ],
         "gridcolor": "#E1E5ED",
         "showgrid": false,
         "tickfont": {
          "color": "#4D5663"
         },
         "title": {
          "font": {
           "color": "#4D5663"
          },
          "text": ""
         },
         "zerolinecolor": "#E1E5ED"
        },
        "xaxis11": {
         "anchor": "y11",
         "domain": [
          0.525,
          0.7375
         ],
         "gridcolor": "#E1E5ED",
         "showgrid": false,
         "tickfont": {
          "color": "#4D5663"
         },
         "title": {
          "font": {
           "color": "#4D5663"
          },
          "text": ""
         },
         "zerolinecolor": "#E1E5ED"
        },
        "xaxis12": {
         "anchor": "y12",
         "domain": [
          0.7875,
          1
         ],
         "gridcolor": "#E1E5ED",
         "showgrid": false,
         "tickfont": {
          "color": "#4D5663"
         },
         "title": {
          "font": {
           "color": "#4D5663"
          },
          "text": ""
         },
         "zerolinecolor": "#E1E5ED"
        },
        "xaxis13": {
         "anchor": "y13",
         "domain": [
          0,
          0.2125
         ],
         "gridcolor": "#E1E5ED",
         "showgrid": false,
         "tickfont": {
          "color": "#4D5663"
         },
         "title": {
          "font": {
           "color": "#4D5663"
          },
          "text": ""
         },
         "zerolinecolor": "#E1E5ED"
        },
        "xaxis14": {
         "anchor": "y14",
         "domain": [
          0.2625,
          0.475
         ],
         "gridcolor": "#E1E5ED",
         "showgrid": false,
         "tickfont": {
          "color": "#4D5663"
         },
         "title": {
          "font": {
           "color": "#4D5663"
          },
          "text": ""
         },
         "zerolinecolor": "#E1E5ED"
        },
        "xaxis15": {
         "anchor": "y15",
         "domain": [
          0.525,
          0.7375
         ],
         "gridcolor": "#E1E5ED",
         "showgrid": false,
         "tickfont": {
          "color": "#4D5663"
         },
         "title": {
          "font": {
           "color": "#4D5663"
          },
          "text": ""
         },
         "zerolinecolor": "#E1E5ED"
        },
        "xaxis16": {
         "anchor": "y16",
         "domain": [
          0.7875,
          1
         ],
         "gridcolor": "#E1E5ED",
         "showgrid": false,
         "tickfont": {
          "color": "#4D5663"
         },
         "title": {
          "font": {
           "color": "#4D5663"
          },
          "text": ""
         },
         "zerolinecolor": "#E1E5ED"
        },
        "xaxis2": {
         "anchor": "y2",
         "domain": [
          0.2625,
          0.475
         ],
         "gridcolor": "#E1E5ED",
         "showgrid": false,
         "tickfont": {
          "color": "#4D5663"
         },
         "title": {
          "font": {
           "color": "#4D5663"
          },
          "text": ""
         },
         "zerolinecolor": "#E1E5ED"
        },
        "xaxis3": {
         "anchor": "y3",
         "domain": [
          0.525,
          0.7375
         ],
         "gridcolor": "#E1E5ED",
         "showgrid": false,
         "tickfont": {
          "color": "#4D5663"
         },
         "title": {
          "font": {
           "color": "#4D5663"
          },
          "text": ""
         },
         "zerolinecolor": "#E1E5ED"
        },
        "xaxis4": {
         "anchor": "y4",
         "domain": [
          0.7875,
          1
         ],
         "gridcolor": "#E1E5ED",
         "showgrid": false,
         "tickfont": {
          "color": "#4D5663"
         },
         "title": {
          "font": {
           "color": "#4D5663"
          },
          "text": ""
         },
         "zerolinecolor": "#E1E5ED"
        },
        "xaxis5": {
         "anchor": "y5",
         "domain": [
          0,
          0.2125
         ],
         "gridcolor": "#E1E5ED",
         "showgrid": false,
         "tickfont": {
          "color": "#4D5663"
         },
         "title": {
          "font": {
           "color": "#4D5663"
          },
          "text": ""
         },
         "zerolinecolor": "#E1E5ED"
        },
        "xaxis6": {
         "anchor": "y6",
         "domain": [
          0.2625,
          0.475
         ],
         "gridcolor": "#E1E5ED",
         "showgrid": false,
         "tickfont": {
          "color": "#4D5663"
         },
         "title": {
          "font": {
           "color": "#4D5663"
          },
          "text": ""
         },
         "zerolinecolor": "#E1E5ED"
        },
        "xaxis7": {
         "anchor": "y7",
         "domain": [
          0.525,
          0.7375
         ],
         "gridcolor": "#E1E5ED",
         "showgrid": false,
         "tickfont": {
          "color": "#4D5663"
         },
         "title": {
          "font": {
           "color": "#4D5663"
          },
          "text": ""
         },
         "zerolinecolor": "#E1E5ED"
        },
        "xaxis8": {
         "anchor": "y8",
         "domain": [
          0.7875,
          1
         ],
         "gridcolor": "#E1E5ED",
         "showgrid": false,
         "tickfont": {
          "color": "#4D5663"
         },
         "title": {
          "font": {
           "color": "#4D5663"
          },
          "text": ""
         },
         "zerolinecolor": "#E1E5ED"
        },
        "xaxis9": {
         "anchor": "y9",
         "domain": [
          0,
          0.2125
         ],
         "gridcolor": "#E1E5ED",
         "showgrid": false,
         "tickfont": {
          "color": "#4D5663"
         },
         "title": {
          "font": {
           "color": "#4D5663"
          },
          "text": ""
         },
         "zerolinecolor": "#E1E5ED"
        },
        "yaxis": {
         "anchor": "x",
         "domain": [
          0.8025,
          1
         ],
         "gridcolor": "#E1E5ED",
         "showgrid": false,
         "tickfont": {
          "color": "#4D5663"
         },
         "title": {
          "font": {
           "color": "#4D5663"
          },
          "text": ""
         },
         "zerolinecolor": "#E1E5ED"
        },
        "yaxis10": {
         "anchor": "x10",
         "domain": [
          0.2675,
          0.465
         ],
         "gridcolor": "#E1E5ED",
         "showgrid": false,
         "tickfont": {
          "color": "#4D5663"
         },
         "title": {
          "font": {
           "color": "#4D5663"
          },
          "text": ""
         },
         "zerolinecolor": "#E1E5ED"
        },
        "yaxis11": {
         "anchor": "x11",
         "domain": [
          0.2675,
          0.465
         ],
         "gridcolor": "#E1E5ED",
         "showgrid": false,
         "tickfont": {
          "color": "#4D5663"
         },
         "title": {
          "font": {
           "color": "#4D5663"
          },
          "text": ""
         },
         "zerolinecolor": "#E1E5ED"
        },
        "yaxis12": {
         "anchor": "x12",
         "domain": [
          0.2675,
          0.465
         ],
         "gridcolor": "#E1E5ED",
         "showgrid": false,
         "tickfont": {
          "color": "#4D5663"
         },
         "title": {
          "font": {
           "color": "#4D5663"
          },
          "text": ""
         },
         "zerolinecolor": "#E1E5ED"
        },
        "yaxis13": {
         "anchor": "x13",
         "domain": [
          0,
          0.1975
         ],
         "gridcolor": "#E1E5ED",
         "showgrid": false,
         "tickfont": {
          "color": "#4D5663"
         },
         "title": {
          "font": {
           "color": "#4D5663"
          },
          "text": ""
         },
         "zerolinecolor": "#E1E5ED"
        },
        "yaxis14": {
         "anchor": "x14",
         "domain": [
          0,
          0.1975
         ],
         "gridcolor": "#E1E5ED",
         "showgrid": false,
         "tickfont": {
          "color": "#4D5663"
         },
         "title": {
          "font": {
           "color": "#4D5663"
          },
          "text": ""
         },
         "zerolinecolor": "#E1E5ED"
        },
        "yaxis15": {
         "anchor": "x15",
         "domain": [
          0,
          0.1975
         ],
         "gridcolor": "#E1E5ED",
         "showgrid": false,
         "tickfont": {
          "color": "#4D5663"
         },
         "title": {
          "font": {
           "color": "#4D5663"
          },
          "text": ""
         },
         "zerolinecolor": "#E1E5ED"
        },
        "yaxis16": {
         "anchor": "x16",
         "domain": [
          0,
          0.1975
         ],
         "gridcolor": "#E1E5ED",
         "showgrid": false,
         "tickfont": {
          "color": "#4D5663"
         },
         "title": {
          "font": {
           "color": "#4D5663"
          },
          "text": ""
         },
         "zerolinecolor": "#E1E5ED"
        },
        "yaxis2": {
         "anchor": "x2",
         "domain": [
          0.8025,
          1
         ],
         "gridcolor": "#E1E5ED",
         "showgrid": false,
         "tickfont": {
          "color": "#4D5663"
         },
         "title": {
          "font": {
           "color": "#4D5663"
          },
          "text": ""
         },
         "zerolinecolor": "#E1E5ED"
        },
        "yaxis3": {
         "anchor": "x3",
         "domain": [
          0.8025,
          1
         ],
         "gridcolor": "#E1E5ED",
         "showgrid": false,
         "tickfont": {
          "color": "#4D5663"
         },
         "title": {
          "font": {
           "color": "#4D5663"
          },
          "text": ""
         },
         "zerolinecolor": "#E1E5ED"
        },
        "yaxis4": {
         "anchor": "x4",
         "domain": [
          0.8025,
          1
         ],
         "gridcolor": "#E1E5ED",
         "showgrid": false,
         "tickfont": {
          "color": "#4D5663"
         },
         "title": {
          "font": {
           "color": "#4D5663"
          },
          "text": ""
         },
         "zerolinecolor": "#E1E5ED"
        },
        "yaxis5": {
         "anchor": "x5",
         "domain": [
          0.535,
          0.7325
         ],
         "gridcolor": "#E1E5ED",
         "showgrid": false,
         "tickfont": {
          "color": "#4D5663"
         },
         "title": {
          "font": {
           "color": "#4D5663"
          },
          "text": ""
         },
         "zerolinecolor": "#E1E5ED"
        },
        "yaxis6": {
         "anchor": "x6",
         "domain": [
          0.535,
          0.7325
         ],
         "gridcolor": "#E1E5ED",
         "showgrid": false,
         "tickfont": {
          "color": "#4D5663"
         },
         "title": {
          "font": {
           "color": "#4D5663"
          },
          "text": ""
         },
         "zerolinecolor": "#E1E5ED"
        },
        "yaxis7": {
         "anchor": "x7",
         "domain": [
          0.535,
          0.7325
         ],
         "gridcolor": "#E1E5ED",
         "showgrid": false,
         "tickfont": {
          "color": "#4D5663"
         },
         "title": {
          "font": {
           "color": "#4D5663"
          },
          "text": ""
         },
         "zerolinecolor": "#E1E5ED"
        },
        "yaxis8": {
         "anchor": "x8",
         "domain": [
          0.535,
          0.7325
         ],
         "gridcolor": "#E1E5ED",
         "showgrid": false,
         "tickfont": {
          "color": "#4D5663"
         },
         "title": {
          "font": {
           "color": "#4D5663"
          },
          "text": ""
         },
         "zerolinecolor": "#E1E5ED"
        },
        "yaxis9": {
         "anchor": "x9",
         "domain": [
          0.2675,
          0.465
         ],
         "gridcolor": "#E1E5ED",
         "showgrid": false,
         "tickfont": {
          "color": "#4D5663"
         },
         "title": {
          "font": {
           "color": "#4D5663"
          },
          "text": ""
         },
         "zerolinecolor": "#E1E5ED"
        }
       }
      },
      "text/html": [
       "<div>                            <div id=\"d1b22a8f-59a1-4204-ae08-41a6428a5934\" class=\"plotly-graph-div\" style=\"height:525px; width:100%;\"></div>            <script type=\"text/javascript\">                require([\"plotly\"], function(Plotly) {                    window.PLOTLYENV=window.PLOTLYENV || {};\n",
       "                    window.PLOTLYENV.BASE_URL='https://plot.ly';                                    if (document.getElementById(\"d1b22a8f-59a1-4204-ae08-41a6428a5934\")) {                    Plotly.newPlot(                        \"d1b22a8f-59a1-4204-ae08-41a6428a5934\",                        [{\"histfunc\":\"count\",\"histnorm\":\"\",\"marker\":{\"color\":\"rgba(255, 153, 51, 1.0)\",\"line\":{\"color\":\"#4D5663\",\"width\":1.3}},\"name\":\"A\",\"nbinsx\":10,\"opacity\":0.8,\"orientation\":\"v\",\"type\":\"histogram\",\"x\":[-1.252614793086047,-0.05970334235749016,1.1861410783422972,-0.08761128715742864,0.07950640464429827,1.2280562668624604,-1.3278069263914265,-1.363119785987805,-1.1386232623492012,-0.8393437156317276,-0.4541080744300972,2.0343495796888282,-3.09049460215665,0.16073727481802083,-0.4197095473149091,-0.2387478469942015,-0.059737805366917265,0.637232411048166,-0.16098446078613787,-0.39044693665236124,-0.18335785148903647,-1.4665474154877824,-0.9467091070463365,-1.363086400891611,1.1419161233127382,-0.8990356765986693,-0.47877126318615904,-0.08723595655352805,0.28836519048925785,0.4535211994873111,0.6072750672172921,0.7920328635238127,0.9210688520723921,0.8431813681496602,0.14682019235661373,-1.1829671348247588,-1.0438065432704076,1.4143243674487795,0.709957119062226,-0.6850164620237267,-1.0010708187907489,-0.34860627566652763,1.9900831507298398,0.18725017639146913,-0.6255124774152,-1.6017317227276038,0.885042918633726,0.7428077103813263,-0.8924785069045459,-1.3308889418400802,3.003745396974862,0.3371032077767076,0.46679193086201903,0.36616511575153876,-0.416335845412642,1.5194644015341876,0.5211470076410264,-1.5036153475796188,-0.26626662937057033,0.6978691732337882,-0.09511084342263629,0.30075260301102774,0.03197028510486337,1.4282640809936629,0.33128440588935226,0.8760426680096519,-0.04282550929148523,-1.4869944424905852,1.1016632292962907,-1.432616353521275,1.5575716683045684,-0.3201993175852064,0.3085393750442976,-1.6767132815810286,-0.43613840129391807,0.5444947534040682,-0.9564608279120181,-1.2149259364052323,0.2619339163954011,1.1510318594062585,-1.4935781096730616,-1.5364588271684487,-0.2014536368998715,1.0317682182611458,-1.2008107718275032,0.6417163449601327,2.0525571724871856,0.4544224835172775,0.8604257046342394,0.024338875911690164,0.4034582647556379,-0.31260916146689444,0.020281310347106393,-0.29632252607525494,-0.3145363114608712,-0.5558389308669797,-0.08374887468313946,-0.1925649721641307,-0.37837314814356626,-1.004110983807644],\"xaxis\":\"x\",\"yaxis\":\"y\"},{\"line\":{\"color\":\"rgba(128, 128, 128, 1.0)\",\"dash\":\"solid\",\"shape\":\"linear\",\"width\":1.3},\"marker\":{\"size\":2,\"symbol\":\"circle\"},\"mode\":\"markers\",\"name\":\"A\",\"text\":\"\",\"type\":\"scatter\",\"x\":[1.429907173744965,-0.3362692153993021,-0.22403939638327913,-0.1062523944097891,0.2474881419869791,-2.951570498412787,-1.3150465437708856,-0.09564344114602419,0.7924691287634381,-0.11059481319784327,-0.9574735207257397,-2.7741406899349563,-1.0816982566045203,-0.7050395721831006,-0.030415434382019057,-0.4233816135656058,1.13409136177349,-0.40242588625630915,-0.294198850624815,-0.10088674274843744,1.0390784149843242,0.5165220382316772,1.0292362169286038,-0.9443881069654166,-0.03415047970036683,-1.302863193040769,-1.8739862933198712,-0.14083809321526172,-1.027560506025851,-0.19154403604307874,1.188705505404244,0.8103271790333249,0.27403939984770914,-0.7969627075630051,1.1289182632483334,-1.6358823872587878,-0.6503428428357034,-0.6587248753403122,-0.8986836433415368,-1.2910519644339522,0.37456483954536046,-2.3331353592693427,-1.353315814768125,-1.6109918954270386,2.574398806434323,-0.7419382066961051,1.0111811133768143,0.8627681851633381,1.0684844064238004,0.9584140081934572,-1.2724226953088429,0.5623348949596787,0.21278803036445387,0.6362092764330177,-1.1507486672395217,0.480023659069112,-1.3364127200675031,0.8452624019906536,0.2509777094027647,0.20317230448967902,-2.5580200049648996,0.47164544114003987,0.13608375887967908,-1.3413832491890092,1.0794295284681177,0.03791755550436143,2.1927622697418774,1.7239478391164735,-0.8441975536242636,-0.555562737221605,0.8962983600870705,1.7163996644440285,0.3861053154127059,-0.5053146823691147,0.6629732990578995,1.7291436937887452,-0.19791142080973972,-0.17758994884436066,0.3835728374808757,0.1206356970118862,-0.5839764747918563,0.6562070488071372,0.79818803972454,-1.317059527577753,-0.36660244714059637,-0.07092316904929655,-1.9885058041209265,0.36046441628701004,-0.3787904255840291,0.40687581684755036,-0.9740597784537262,-0.5963017374604368,1.292358219538622,-0.678637329096281,-0.11217221669830485,-0.556064599371359,-1.2917102576840802,0.1961856894863246,1.8320554131446811,1.1361645082224023],\"xaxis\":\"x2\",\"y\":[-1.252614793086047,-0.05970334235749016,1.1861410783422972,-0.08761128715742864,0.07950640464429827,1.2280562668624604,-1.3278069263914265,-1.363119785987805,-1.1386232623492012,-0.8393437156317276,-0.4541080744300972,2.0343495796888282,-3.09049460215665,0.16073727481802083,-0.4197095473149091,-0.2387478469942015,-0.059737805366917265,0.637232411048166,-0.16098446078613787,-0.39044693665236124,-0.18335785148903647,-1.4665474154877824,-0.9467091070463365,-1.363086400891611,1.1419161233127382,-0.8990356765986693,-0.47877126318615904,-0.08723595655352805,0.28836519048925785,0.4535211994873111,0.6072750672172921,0.7920328635238127,0.9210688520723921,0.8431813681496602,0.14682019235661373,-1.1829671348247588,-1.0438065432704076,1.4143243674487795,0.709957119062226,-0.6850164620237267,-1.0010708187907489,-0.34860627566652763,1.9900831507298398,0.18725017639146913,-0.6255124774152,-1.6017317227276038,0.885042918633726,0.7428077103813263,-0.8924785069045459,-1.3308889418400802,3.003745396974862,0.3371032077767076,0.46679193086201903,0.36616511575153876,-0.416335845412642,1.5194644015341876,0.5211470076410264,-1.5036153475796188,-0.26626662937057033,0.6978691732337882,-0.09511084342263629,0.30075260301102774,0.03197028510486337,1.4282640809936629,0.33128440588935226,0.8760426680096519,-0.04282550929148523,-1.4869944424905852,1.1016632292962907,-1.432616353521275,1.5575716683045684,-0.3201993175852064,0.3085393750442976,-1.6767132815810286,-0.43613840129391807,0.5444947534040682,-0.9564608279120181,-1.2149259364052323,0.2619339163954011,1.1510318594062585,-1.4935781096730616,-1.5364588271684487,-0.2014536368998715,1.0317682182611458,-1.2008107718275032,0.6417163449601327,2.0525571724871856,0.4544224835172775,0.8604257046342394,0.024338875911690164,0.4034582647556379,-0.31260916146689444,0.020281310347106393,-0.29632252607525494,-0.3145363114608712,-0.5558389308669797,-0.08374887468313946,-0.1925649721641307,-0.37837314814356626,-1.004110983807644],\"yaxis\":\"y2\"},{\"line\":{\"color\":\"rgba(128, 128, 128, 1.0)\",\"dash\":\"solid\",\"shape\":\"linear\",\"width\":1.3},\"marker\":{\"size\":2,\"symbol\":\"circle\"},\"mode\":\"markers\",\"name\":\"A\",\"text\":\"\",\"type\":\"scatter\",\"x\":[1.497365056261028,-1.3652639392192893,-0.4633848596042667,-0.6554155737090046,-0.873403949723717,0.05599352265517801,-0.34473828248271027,-0.41319903909836236,-2.044032644851402,-0.3987393454406875,1.1597178016054088,-1.502703163866186,0.23826714360142273,-1.5741392475854807,0.7816858134640635,-2.142846708586097,-1.1859370206584845,0.33445280073709727,-0.7667894723828541,1.2527282906266344,-0.19539795589395198,0.7326304554079953,0.04444226457106558,-1.556251136029763,-0.27447090560656606,0.039518802829135904,-0.02416001405173457,-0.5242725573805086,-0.8428442369549263,-0.9811777369886999,-0.3350095463442984,0.990050751506994,0.017554043186999775,0.2783947893725052,-0.06539150267349131,0.5611531072387262,-0.5433755998816096,0.2877606032303694,-0.39623450285943856,0.4281403826859208,0.12491994104865614,-0.8686705362189602,-1.0093119510785222,-1.7450992786587147,1.2677715076129603,1.1909806049583975,0.27740851207658335,0.6833561525713735,0.4283470277056508,0.7913812387268874,-0.5557615424139913,-0.21904396042115679,0.08964190646166481,0.021193571224057968,0.6050834546942213,-1.1619352848327547,1.0143367637627896,0.6639951131808542,1.018881240687566,0.9919337469405568,-1.3286952823498934,0.0887076694256689,0.8409303174685794,0.04430809594242096,-1.1306458993693478,2.0736318396393814,-0.14677037462178721,-1.3931223572680242,-2.0547424091586253,0.6128352101220416,-1.3654986018914061,-0.4736373234472714,1.5474841315174899,1.4023528581155102,0.2671475960322153,1.2783022300586027,-1.5729061331608103,-1.263124573100888,-0.6798291541866253,-0.07536756430411999,0.3387490431114079,1.7316981530795819,-0.09149845946313058,0.8606384957577545,-0.04059028826209647,-0.13740954203864353,-0.617304623092329,2.0731238475848937,-0.820298203736963,-0.26698591194207655,0.7321591287947562,-0.821972232165776,-0.6262152567039138,-0.08896112446005197,-2.5427473812318784,0.1546583782646699,-0.28721326963380284,0.8187876780277029,-0.4270266101320868,0.27999194420218215],\"xaxis\":\"x3\",\"y\":[-1.252614793086047,-0.05970334235749016,1.1861410783422972,-0.08761128715742864,0.07950640464429827,1.2280562668624604,-1.3278069263914265,-1.363119785987805,-1.1386232623492012,-0.8393437156317276,-0.4541080744300972,2.0343495796888282,-3.09049460215665,0.16073727481802083,-0.4197095473149091,-0.2387478469942015,-0.059737805366917265,0.637232411048166,-0.16098446078613787,-0.39044693665236124,-0.18335785148903647,-1.4665474154877824,-0.9467091070463365,-1.363086400891611,1.1419161233127382,-0.8990356765986693,-0.47877126318615904,-0.08723595655352805,0.28836519048925785,0.4535211994873111,0.6072750672172921,0.7920328635238127,0.9210688520723921,0.8431813681496602,0.14682019235661373,-1.1829671348247588,-1.0438065432704076,1.4143243674487795,0.709957119062226,-0.6850164620237267,-1.0010708187907489,-0.34860627566652763,1.9900831507298398,0.18725017639146913,-0.6255124774152,-1.6017317227276038,0.885042918633726,0.7428077103813263,-0.8924785069045459,-1.3308889418400802,3.003745396974862,0.3371032077767076,0.46679193086201903,0.36616511575153876,-0.416335845412642,1.5194644015341876,0.5211470076410264,-1.5036153475796188,-0.26626662937057033,0.6978691732337882,-0.09511084342263629,0.30075260301102774,0.03197028510486337,1.4282640809936629,0.33128440588935226,0.8760426680096519,-0.04282550929148523,-1.4869944424905852,1.1016632292962907,-1.432616353521275,1.5575716683045684,-0.3201993175852064,0.3085393750442976,-1.6767132815810286,-0.43613840129391807,0.5444947534040682,-0.9564608279120181,-1.2149259364052323,0.2619339163954011,1.1510318594062585,-1.4935781096730616,-1.5364588271684487,-0.2014536368998715,1.0317682182611458,-1.2008107718275032,0.6417163449601327,2.0525571724871856,0.4544224835172775,0.8604257046342394,0.024338875911690164,0.4034582647556379,-0.31260916146689444,0.020281310347106393,-0.29632252607525494,-0.3145363114608712,-0.5558389308669797,-0.08374887468313946,-0.1925649721641307,-0.37837314814356626,-1.004110983807644],\"yaxis\":\"y3\"},{\"line\":{\"color\":\"rgba(128, 128, 128, 1.0)\",\"dash\":\"solid\",\"shape\":\"linear\",\"width\":1.3},\"marker\":{\"size\":2,\"symbol\":\"circle\"},\"mode\":\"markers\",\"name\":\"A\",\"text\":\"\",\"type\":\"scatter\",\"x\":[-0.7607516732532427,-1.254568488051787,-0.8788828748036107,-0.13665063756100818,0.07474348764667796,-0.3100043705116922,-2.0463341136143995,0.640808766840854,1.224538129726818,1.0886660890880229,0.4049848114617264,0.7485515644819034,-0.46248600223967307,0.9533718049057213,-0.3695657385477109,0.8832340804185418,0.9052960323805491,-0.3853489432776442,1.3159244798509053,-0.028767564722662828,0.06379612112194598,-0.5699264163729659,0.32702586302219483,0.08779247487238971,1.2860732684779363,2.0938721257990114,0.10641036516130699,-0.43614763748954455,-0.15454712915480173,1.6917422947637824,2.069900076611023,0.2728381375704959,0.8982963476299403,1.1626845775151418,-1.8514944212075175,0.5097088665460885,0.301289072860881,-0.9215289721219797,0.5195919347510675,0.6283349774206288,0.14180613856997362,-0.6596331767430526,-0.43804908361382316,-1.161466129764636,-0.3773059718348686,-2.140572355581783,-0.19500741390398052,-0.5863195712554702,0.9506076263372776,0.05794084130328615,1.114608481540598,1.0598559581825697,-1.5876844271788813,-0.14739138729617407,-0.580431636041587,-0.33284940498071774,1.0629167254062288,0.38472616162999584,-0.9184640525607392,0.8882962211984797,-1.014539375075398,0.37548732970143817,0.5803058105441924,0.4429555473857757,-1.2144704173369645,0.13144813153609372,-0.8080736698792067,0.8897350266785666,1.1618872824269493,-0.38335647093100017,-0.2727693174039654,-0.25018635867093286,1.1484717709362309,0.49378345946541696,1.101291396885938,-0.49177164389114286,-1.6401018997496926,1.277848986380219,0.12810121345704542,-0.9889079946366958,-0.5251123223013637,1.1599073316060275,0.5708057586905046,-0.35367070891227775,0.8950168639617084,-0.9437864888126327,-0.46412027474338197,-1.5511026925124407,-0.2761019732505129,0.15029292622478768,1.4277411536710876,2.4147463451354967,-0.08801777586421945,-0.6338679739225697,-0.14945606892838023,0.6667328009341639,-0.3684321797614924,-0.9142366078263781,-0.4271860199935734,2.0408302414506343],\"xaxis\":\"x4\",\"y\":[-1.252614793086047,-0.05970334235749016,1.1861410783422972,-0.08761128715742864,0.07950640464429827,1.2280562668624604,-1.3278069263914265,-1.363119785987805,-1.1386232623492012,-0.8393437156317276,-0.4541080744300972,2.0343495796888282,-3.09049460215665,0.16073727481802083,-0.4197095473149091,-0.2387478469942015,-0.059737805366917265,0.637232411048166,-0.16098446078613787,-0.39044693665236124,-0.18335785148903647,-1.4665474154877824,-0.9467091070463365,-1.363086400891611,1.1419161233127382,-0.8990356765986693,-0.47877126318615904,-0.08723595655352805,0.28836519048925785,0.4535211994873111,0.6072750672172921,0.7920328635238127,0.9210688520723921,0.8431813681496602,0.14682019235661373,-1.1829671348247588,-1.0438065432704076,1.4143243674487795,0.709957119062226,-0.6850164620237267,-1.0010708187907489,-0.34860627566652763,1.9900831507298398,0.18725017639146913,-0.6255124774152,-1.6017317227276038,0.885042918633726,0.7428077103813263,-0.8924785069045459,-1.3308889418400802,3.003745396974862,0.3371032077767076,0.46679193086201903,0.36616511575153876,-0.416335845412642,1.5194644015341876,0.5211470076410264,-1.5036153475796188,-0.26626662937057033,0.6978691732337882,-0.09511084342263629,0.30075260301102774,0.03197028510486337,1.4282640809936629,0.33128440588935226,0.8760426680096519,-0.04282550929148523,-1.4869944424905852,1.1016632292962907,-1.432616353521275,1.5575716683045684,-0.3201993175852064,0.3085393750442976,-1.6767132815810286,-0.43613840129391807,0.5444947534040682,-0.9564608279120181,-1.2149259364052323,0.2619339163954011,1.1510318594062585,-1.4935781096730616,-1.5364588271684487,-0.2014536368998715,1.0317682182611458,-1.2008107718275032,0.6417163449601327,2.0525571724871856,0.4544224835172775,0.8604257046342394,0.024338875911690164,0.4034582647556379,-0.31260916146689444,0.020281310347106393,-0.29632252607525494,-0.3145363114608712,-0.5558389308669797,-0.08374887468313946,-0.1925649721641307,-0.37837314814356626,-1.004110983807644],\"yaxis\":\"y4\"},{\"line\":{\"color\":\"rgba(128, 128, 128, 1.0)\",\"dash\":\"solid\",\"shape\":\"linear\",\"width\":1.3},\"marker\":{\"size\":2,\"symbol\":\"circle\"},\"mode\":\"markers\",\"name\":\"B\",\"text\":\"\",\"type\":\"scatter\",\"x\":[-1.252614793086047,-0.05970334235749016,1.1861410783422972,-0.08761128715742864,0.07950640464429827,1.2280562668624604,-1.3278069263914265,-1.363119785987805,-1.1386232623492012,-0.8393437156317276,-0.4541080744300972,2.0343495796888282,-3.09049460215665,0.16073727481802083,-0.4197095473149091,-0.2387478469942015,-0.059737805366917265,0.637232411048166,-0.16098446078613787,-0.39044693665236124,-0.18335785148903647,-1.4665474154877824,-0.9467091070463365,-1.363086400891611,1.1419161233127382,-0.8990356765986693,-0.47877126318615904,-0.08723595655352805,0.28836519048925785,0.4535211994873111,0.6072750672172921,0.7920328635238127,0.9210688520723921,0.8431813681496602,0.14682019235661373,-1.1829671348247588,-1.0438065432704076,1.4143243674487795,0.709957119062226,-0.6850164620237267,-1.0010708187907489,-0.34860627566652763,1.9900831507298398,0.18725017639146913,-0.6255124774152,-1.6017317227276038,0.885042918633726,0.7428077103813263,-0.8924785069045459,-1.3308889418400802,3.003745396974862,0.3371032077767076,0.46679193086201903,0.36616511575153876,-0.416335845412642,1.5194644015341876,0.5211470076410264,-1.5036153475796188,-0.26626662937057033,0.6978691732337882,-0.09511084342263629,0.30075260301102774,0.03197028510486337,1.4282640809936629,0.33128440588935226,0.8760426680096519,-0.04282550929148523,-1.4869944424905852,1.1016632292962907,-1.432616353521275,1.5575716683045684,-0.3201993175852064,0.3085393750442976,-1.6767132815810286,-0.43613840129391807,0.5444947534040682,-0.9564608279120181,-1.2149259364052323,0.2619339163954011,1.1510318594062585,-1.4935781096730616,-1.5364588271684487,-0.2014536368998715,1.0317682182611458,-1.2008107718275032,0.6417163449601327,2.0525571724871856,0.4544224835172775,0.8604257046342394,0.024338875911690164,0.4034582647556379,-0.31260916146689444,0.020281310347106393,-0.29632252607525494,-0.3145363114608712,-0.5558389308669797,-0.08374887468313946,-0.1925649721641307,-0.37837314814356626,-1.004110983807644],\"xaxis\":\"x5\",\"y\":[1.429907173744965,-0.3362692153993021,-0.22403939638327913,-0.1062523944097891,0.2474881419869791,-2.951570498412787,-1.3150465437708856,-0.09564344114602419,0.7924691287634381,-0.11059481319784327,-0.9574735207257397,-2.7741406899349563,-1.0816982566045203,-0.7050395721831006,-0.030415434382019057,-0.4233816135656058,1.13409136177349,-0.40242588625630915,-0.294198850624815,-0.10088674274843744,1.0390784149843242,0.5165220382316772,1.0292362169286038,-0.9443881069654166,-0.03415047970036683,-1.302863193040769,-1.8739862933198712,-0.14083809321526172,-1.027560506025851,-0.19154403604307874,1.188705505404244,0.8103271790333249,0.27403939984770914,-0.7969627075630051,1.1289182632483334,-1.6358823872587878,-0.6503428428357034,-0.6587248753403122,-0.8986836433415368,-1.2910519644339522,0.37456483954536046,-2.3331353592693427,-1.353315814768125,-1.6109918954270386,2.574398806434323,-0.7419382066961051,1.0111811133768143,0.8627681851633381,1.0684844064238004,0.9584140081934572,-1.2724226953088429,0.5623348949596787,0.21278803036445387,0.6362092764330177,-1.1507486672395217,0.480023659069112,-1.3364127200675031,0.8452624019906536,0.2509777094027647,0.20317230448967902,-2.5580200049648996,0.47164544114003987,0.13608375887967908,-1.3413832491890092,1.0794295284681177,0.03791755550436143,2.1927622697418774,1.7239478391164735,-0.8441975536242636,-0.555562737221605,0.8962983600870705,1.7163996644440285,0.3861053154127059,-0.5053146823691147,0.6629732990578995,1.7291436937887452,-0.19791142080973972,-0.17758994884436066,0.3835728374808757,0.1206356970118862,-0.5839764747918563,0.6562070488071372,0.79818803972454,-1.317059527577753,-0.36660244714059637,-0.07092316904929655,-1.9885058041209265,0.36046441628701004,-0.3787904255840291,0.40687581684755036,-0.9740597784537262,-0.5963017374604368,1.292358219538622,-0.678637329096281,-0.11217221669830485,-0.556064599371359,-1.2917102576840802,0.1961856894863246,1.8320554131446811,1.1361645082224023],\"yaxis\":\"y5\"},{\"histfunc\":\"count\",\"histnorm\":\"\",\"marker\":{\"color\":\"rgba(55, 128, 191, 1.0)\",\"line\":{\"color\":\"#4D5663\",\"width\":1.3}},\"name\":\"B\",\"nbinsx\":10,\"opacity\":0.8,\"orientation\":\"v\",\"type\":\"histogram\",\"x\":[1.429907173744965,-0.3362692153993021,-0.22403939638327913,-0.1062523944097891,0.2474881419869791,-2.951570498412787,-1.3150465437708856,-0.09564344114602419,0.7924691287634381,-0.11059481319784327,-0.9574735207257397,-2.7741406899349563,-1.0816982566045203,-0.7050395721831006,-0.030415434382019057,-0.4233816135656058,1.13409136177349,-0.40242588625630915,-0.294198850624815,-0.10088674274843744,1.0390784149843242,0.5165220382316772,1.0292362169286038,-0.9443881069654166,-0.03415047970036683,-1.302863193040769,-1.8739862933198712,-0.14083809321526172,-1.027560506025851,-0.19154403604307874,1.188705505404244,0.8103271790333249,0.27403939984770914,-0.7969627075630051,1.1289182632483334,-1.6358823872587878,-0.6503428428357034,-0.6587248753403122,-0.8986836433415368,-1.2910519644339522,0.37456483954536046,-2.3331353592693427,-1.353315814768125,-1.6109918954270386,2.574398806434323,-0.7419382066961051,1.0111811133768143,0.8627681851633381,1.0684844064238004,0.9584140081934572,-1.2724226953088429,0.5623348949596787,0.21278803036445387,0.6362092764330177,-1.1507486672395217,0.480023659069112,-1.3364127200675031,0.8452624019906536,0.2509777094027647,0.20317230448967902,-2.5580200049648996,0.47164544114003987,0.13608375887967908,-1.3413832491890092,1.0794295284681177,0.03791755550436143,2.1927622697418774,1.7239478391164735,-0.8441975536242636,-0.555562737221605,0.8962983600870705,1.7163996644440285,0.3861053154127059,-0.5053146823691147,0.6629732990578995,1.7291436937887452,-0.19791142080973972,-0.17758994884436066,0.3835728374808757,0.1206356970118862,-0.5839764747918563,0.6562070488071372,0.79818803972454,-1.317059527577753,-0.36660244714059637,-0.07092316904929655,-1.9885058041209265,0.36046441628701004,-0.3787904255840291,0.40687581684755036,-0.9740597784537262,-0.5963017374604368,1.292358219538622,-0.678637329096281,-0.11217221669830485,-0.556064599371359,-1.2917102576840802,0.1961856894863246,1.8320554131446811,1.1361645082224023],\"xaxis\":\"x6\",\"yaxis\":\"y6\"},{\"line\":{\"color\":\"rgba(128, 128, 128, 1.0)\",\"dash\":\"solid\",\"shape\":\"linear\",\"width\":1.3},\"marker\":{\"size\":2,\"symbol\":\"circle\"},\"mode\":\"markers\",\"name\":\"B\",\"text\":\"\",\"type\":\"scatter\",\"x\":[1.497365056261028,-1.3652639392192893,-0.4633848596042667,-0.6554155737090046,-0.873403949723717,0.05599352265517801,-0.34473828248271027,-0.41319903909836236,-2.044032644851402,-0.3987393454406875,1.1597178016054088,-1.502703163866186,0.23826714360142273,-1.5741392475854807,0.7816858134640635,-2.142846708586097,-1.1859370206584845,0.33445280073709727,-0.7667894723828541,1.2527282906266344,-0.19539795589395198,0.7326304554079953,0.04444226457106558,-1.556251136029763,-0.27447090560656606,0.039518802829135904,-0.02416001405173457,-0.5242725573805086,-0.8428442369549263,-0.9811777369886999,-0.3350095463442984,0.990050751506994,0.017554043186999775,0.2783947893725052,-0.06539150267349131,0.5611531072387262,-0.5433755998816096,0.2877606032303694,-0.39623450285943856,0.4281403826859208,0.12491994104865614,-0.8686705362189602,-1.0093119510785222,-1.7450992786587147,1.2677715076129603,1.1909806049583975,0.27740851207658335,0.6833561525713735,0.4283470277056508,0.7913812387268874,-0.5557615424139913,-0.21904396042115679,0.08964190646166481,0.021193571224057968,0.6050834546942213,-1.1619352848327547,1.0143367637627896,0.6639951131808542,1.018881240687566,0.9919337469405568,-1.3286952823498934,0.0887076694256689,0.8409303174685794,0.04430809594242096,-1.1306458993693478,2.0736318396393814,-0.14677037462178721,-1.3931223572680242,-2.0547424091586253,0.6128352101220416,-1.3654986018914061,-0.4736373234472714,1.5474841315174899,1.4023528581155102,0.2671475960322153,1.2783022300586027,-1.5729061331608103,-1.263124573100888,-0.6798291541866253,-0.07536756430411999,0.3387490431114079,1.7316981530795819,-0.09149845946313058,0.8606384957577545,-0.04059028826209647,-0.13740954203864353,-0.617304623092329,2.0731238475848937,-0.820298203736963,-0.26698591194207655,0.7321591287947562,-0.821972232165776,-0.6262152567039138,-0.08896112446005197,-2.5427473812318784,0.1546583782646699,-0.28721326963380284,0.8187876780277029,-0.4270266101320868,0.27999194420218215],\"xaxis\":\"x7\",\"y\":[1.429907173744965,-0.3362692153993021,-0.22403939638327913,-0.1062523944097891,0.2474881419869791,-2.951570498412787,-1.3150465437708856,-0.09564344114602419,0.7924691287634381,-0.11059481319784327,-0.9574735207257397,-2.7741406899349563,-1.0816982566045203,-0.7050395721831006,-0.030415434382019057,-0.4233816135656058,1.13409136177349,-0.40242588625630915,-0.294198850624815,-0.10088674274843744,1.0390784149843242,0.5165220382316772,1.0292362169286038,-0.9443881069654166,-0.03415047970036683,-1.302863193040769,-1.8739862933198712,-0.14083809321526172,-1.027560506025851,-0.19154403604307874,1.188705505404244,0.8103271790333249,0.27403939984770914,-0.7969627075630051,1.1289182632483334,-1.6358823872587878,-0.6503428428357034,-0.6587248753403122,-0.8986836433415368,-1.2910519644339522,0.37456483954536046,-2.3331353592693427,-1.353315814768125,-1.6109918954270386,2.574398806434323,-0.7419382066961051,1.0111811133768143,0.8627681851633381,1.0684844064238004,0.9584140081934572,-1.2724226953088429,0.5623348949596787,0.21278803036445387,0.6362092764330177,-1.1507486672395217,0.480023659069112,-1.3364127200675031,0.8452624019906536,0.2509777094027647,0.20317230448967902,-2.5580200049648996,0.47164544114003987,0.13608375887967908,-1.3413832491890092,1.0794295284681177,0.03791755550436143,2.1927622697418774,1.7239478391164735,-0.8441975536242636,-0.555562737221605,0.8962983600870705,1.7163996644440285,0.3861053154127059,-0.5053146823691147,0.6629732990578995,1.7291436937887452,-0.19791142080973972,-0.17758994884436066,0.3835728374808757,0.1206356970118862,-0.5839764747918563,0.6562070488071372,0.79818803972454,-1.317059527577753,-0.36660244714059637,-0.07092316904929655,-1.9885058041209265,0.36046441628701004,-0.3787904255840291,0.40687581684755036,-0.9740597784537262,-0.5963017374604368,1.292358219538622,-0.678637329096281,-0.11217221669830485,-0.556064599371359,-1.2917102576840802,0.1961856894863246,1.8320554131446811,1.1361645082224023],\"yaxis\":\"y7\"},{\"line\":{\"color\":\"rgba(128, 128, 128, 1.0)\",\"dash\":\"solid\",\"shape\":\"linear\",\"width\":1.3},\"marker\":{\"size\":2,\"symbol\":\"circle\"},\"mode\":\"markers\",\"name\":\"B\",\"text\":\"\",\"type\":\"scatter\",\"x\":[-0.7607516732532427,-1.254568488051787,-0.8788828748036107,-0.13665063756100818,0.07474348764667796,-0.3100043705116922,-2.0463341136143995,0.640808766840854,1.224538129726818,1.0886660890880229,0.4049848114617264,0.7485515644819034,-0.46248600223967307,0.9533718049057213,-0.3695657385477109,0.8832340804185418,0.9052960323805491,-0.3853489432776442,1.3159244798509053,-0.028767564722662828,0.06379612112194598,-0.5699264163729659,0.32702586302219483,0.08779247487238971,1.2860732684779363,2.0938721257990114,0.10641036516130699,-0.43614763748954455,-0.15454712915480173,1.6917422947637824,2.069900076611023,0.2728381375704959,0.8982963476299403,1.1626845775151418,-1.8514944212075175,0.5097088665460885,0.301289072860881,-0.9215289721219797,0.5195919347510675,0.6283349774206288,0.14180613856997362,-0.6596331767430526,-0.43804908361382316,-1.161466129764636,-0.3773059718348686,-2.140572355581783,-0.19500741390398052,-0.5863195712554702,0.9506076263372776,0.05794084130328615,1.114608481540598,1.0598559581825697,-1.5876844271788813,-0.14739138729617407,-0.580431636041587,-0.33284940498071774,1.0629167254062288,0.38472616162999584,-0.9184640525607392,0.8882962211984797,-1.014539375075398,0.37548732970143817,0.5803058105441924,0.4429555473857757,-1.2144704173369645,0.13144813153609372,-0.8080736698792067,0.8897350266785666,1.1618872824269493,-0.38335647093100017,-0.2727693174039654,-0.25018635867093286,1.1484717709362309,0.49378345946541696,1.101291396885938,-0.49177164389114286,-1.6401018997496926,1.277848986380219,0.12810121345704542,-0.9889079946366958,-0.5251123223013637,1.1599073316060275,0.5708057586905046,-0.35367070891227775,0.8950168639617084,-0.9437864888126327,-0.46412027474338197,-1.5511026925124407,-0.2761019732505129,0.15029292622478768,1.4277411536710876,2.4147463451354967,-0.08801777586421945,-0.6338679739225697,-0.14945606892838023,0.6667328009341639,-0.3684321797614924,-0.9142366078263781,-0.4271860199935734,2.0408302414506343],\"xaxis\":\"x8\",\"y\":[1.429907173744965,-0.3362692153993021,-0.22403939638327913,-0.1062523944097891,0.2474881419869791,-2.951570498412787,-1.3150465437708856,-0.09564344114602419,0.7924691287634381,-0.11059481319784327,-0.9574735207257397,-2.7741406899349563,-1.0816982566045203,-0.7050395721831006,-0.030415434382019057,-0.4233816135656058,1.13409136177349,-0.40242588625630915,-0.294198850624815,-0.10088674274843744,1.0390784149843242,0.5165220382316772,1.0292362169286038,-0.9443881069654166,-0.03415047970036683,-1.302863193040769,-1.8739862933198712,-0.14083809321526172,-1.027560506025851,-0.19154403604307874,1.188705505404244,0.8103271790333249,0.27403939984770914,-0.7969627075630051,1.1289182632483334,-1.6358823872587878,-0.6503428428357034,-0.6587248753403122,-0.8986836433415368,-1.2910519644339522,0.37456483954536046,-2.3331353592693427,-1.353315814768125,-1.6109918954270386,2.574398806434323,-0.7419382066961051,1.0111811133768143,0.8627681851633381,1.0684844064238004,0.9584140081934572,-1.2724226953088429,0.5623348949596787,0.21278803036445387,0.6362092764330177,-1.1507486672395217,0.480023659069112,-1.3364127200675031,0.8452624019906536,0.2509777094027647,0.20317230448967902,-2.5580200049648996,0.47164544114003987,0.13608375887967908,-1.3413832491890092,1.0794295284681177,0.03791755550436143,2.1927622697418774,1.7239478391164735,-0.8441975536242636,-0.555562737221605,0.8962983600870705,1.7163996644440285,0.3861053154127059,-0.5053146823691147,0.6629732990578995,1.7291436937887452,-0.19791142080973972,-0.17758994884436066,0.3835728374808757,0.1206356970118862,-0.5839764747918563,0.6562070488071372,0.79818803972454,-1.317059527577753,-0.36660244714059637,-0.07092316904929655,-1.9885058041209265,0.36046441628701004,-0.3787904255840291,0.40687581684755036,-0.9740597784537262,-0.5963017374604368,1.292358219538622,-0.678637329096281,-0.11217221669830485,-0.556064599371359,-1.2917102576840802,0.1961856894863246,1.8320554131446811,1.1361645082224023],\"yaxis\":\"y8\"},{\"line\":{\"color\":\"rgba(128, 128, 128, 1.0)\",\"dash\":\"solid\",\"shape\":\"linear\",\"width\":1.3},\"marker\":{\"size\":2,\"symbol\":\"circle\"},\"mode\":\"markers\",\"name\":\"C\",\"text\":\"\",\"type\":\"scatter\",\"x\":[-1.252614793086047,-0.05970334235749016,1.1861410783422972,-0.08761128715742864,0.07950640464429827,1.2280562668624604,-1.3278069263914265,-1.363119785987805,-1.1386232623492012,-0.8393437156317276,-0.4541080744300972,2.0343495796888282,-3.09049460215665,0.16073727481802083,-0.4197095473149091,-0.2387478469942015,-0.059737805366917265,0.637232411048166,-0.16098446078613787,-0.39044693665236124,-0.18335785148903647,-1.4665474154877824,-0.9467091070463365,-1.363086400891611,1.1419161233127382,-0.8990356765986693,-0.47877126318615904,-0.08723595655352805,0.28836519048925785,0.4535211994873111,0.6072750672172921,0.7920328635238127,0.9210688520723921,0.8431813681496602,0.14682019235661373,-1.1829671348247588,-1.0438065432704076,1.4143243674487795,0.709957119062226,-0.6850164620237267,-1.0010708187907489,-0.34860627566652763,1.9900831507298398,0.18725017639146913,-0.6255124774152,-1.6017317227276038,0.885042918633726,0.7428077103813263,-0.8924785069045459,-1.3308889418400802,3.003745396974862,0.3371032077767076,0.46679193086201903,0.36616511575153876,-0.416335845412642,1.5194644015341876,0.5211470076410264,-1.5036153475796188,-0.26626662937057033,0.6978691732337882,-0.09511084342263629,0.30075260301102774,0.03197028510486337,1.4282640809936629,0.33128440588935226,0.8760426680096519,-0.04282550929148523,-1.4869944424905852,1.1016632292962907,-1.432616353521275,1.5575716683045684,-0.3201993175852064,0.3085393750442976,-1.6767132815810286,-0.43613840129391807,0.5444947534040682,-0.9564608279120181,-1.2149259364052323,0.2619339163954011,1.1510318594062585,-1.4935781096730616,-1.5364588271684487,-0.2014536368998715,1.0317682182611458,-1.2008107718275032,0.6417163449601327,2.0525571724871856,0.4544224835172775,0.8604257046342394,0.024338875911690164,0.4034582647556379,-0.31260916146689444,0.020281310347106393,-0.29632252607525494,-0.3145363114608712,-0.5558389308669797,-0.08374887468313946,-0.1925649721641307,-0.37837314814356626,-1.004110983807644],\"xaxis\":\"x9\",\"y\":[1.497365056261028,-1.3652639392192893,-0.4633848596042667,-0.6554155737090046,-0.873403949723717,0.05599352265517801,-0.34473828248271027,-0.41319903909836236,-2.044032644851402,-0.3987393454406875,1.1597178016054088,-1.502703163866186,0.23826714360142273,-1.5741392475854807,0.7816858134640635,-2.142846708586097,-1.1859370206584845,0.33445280073709727,-0.7667894723828541,1.2527282906266344,-0.19539795589395198,0.7326304554079953,0.04444226457106558,-1.556251136029763,-0.27447090560656606,0.039518802829135904,-0.02416001405173457,-0.5242725573805086,-0.8428442369549263,-0.9811777369886999,-0.3350095463442984,0.990050751506994,0.017554043186999775,0.2783947893725052,-0.06539150267349131,0.5611531072387262,-0.5433755998816096,0.2877606032303694,-0.39623450285943856,0.4281403826859208,0.12491994104865614,-0.8686705362189602,-1.0093119510785222,-1.7450992786587147,1.2677715076129603,1.1909806049583975,0.27740851207658335,0.6833561525713735,0.4283470277056508,0.7913812387268874,-0.5557615424139913,-0.21904396042115679,0.08964190646166481,0.021193571224057968,0.6050834546942213,-1.1619352848327547,1.0143367637627896,0.6639951131808542,1.018881240687566,0.9919337469405568,-1.3286952823498934,0.0887076694256689,0.8409303174685794,0.04430809594242096,-1.1306458993693478,2.0736318396393814,-0.14677037462178721,-1.3931223572680242,-2.0547424091586253,0.6128352101220416,-1.3654986018914061,-0.4736373234472714,1.5474841315174899,1.4023528581155102,0.2671475960322153,1.2783022300586027,-1.5729061331608103,-1.263124573100888,-0.6798291541866253,-0.07536756430411999,0.3387490431114079,1.7316981530795819,-0.09149845946313058,0.8606384957577545,-0.04059028826209647,-0.13740954203864353,-0.617304623092329,2.0731238475848937,-0.820298203736963,-0.26698591194207655,0.7321591287947562,-0.821972232165776,-0.6262152567039138,-0.08896112446005197,-2.5427473812318784,0.1546583782646699,-0.28721326963380284,0.8187876780277029,-0.4270266101320868,0.27999194420218215],\"yaxis\":\"y9\"},{\"line\":{\"color\":\"rgba(128, 128, 128, 1.0)\",\"dash\":\"solid\",\"shape\":\"linear\",\"width\":1.3},\"marker\":{\"size\":2,\"symbol\":\"circle\"},\"mode\":\"markers\",\"name\":\"C\",\"text\":\"\",\"type\":\"scatter\",\"x\":[1.429907173744965,-0.3362692153993021,-0.22403939638327913,-0.1062523944097891,0.2474881419869791,-2.951570498412787,-1.3150465437708856,-0.09564344114602419,0.7924691287634381,-0.11059481319784327,-0.9574735207257397,-2.7741406899349563,-1.0816982566045203,-0.7050395721831006,-0.030415434382019057,-0.4233816135656058,1.13409136177349,-0.40242588625630915,-0.294198850624815,-0.10088674274843744,1.0390784149843242,0.5165220382316772,1.0292362169286038,-0.9443881069654166,-0.03415047970036683,-1.302863193040769,-1.8739862933198712,-0.14083809321526172,-1.027560506025851,-0.19154403604307874,1.188705505404244,0.8103271790333249,0.27403939984770914,-0.7969627075630051,1.1289182632483334,-1.6358823872587878,-0.6503428428357034,-0.6587248753403122,-0.8986836433415368,-1.2910519644339522,0.37456483954536046,-2.3331353592693427,-1.353315814768125,-1.6109918954270386,2.574398806434323,-0.7419382066961051,1.0111811133768143,0.8627681851633381,1.0684844064238004,0.9584140081934572,-1.2724226953088429,0.5623348949596787,0.21278803036445387,0.6362092764330177,-1.1507486672395217,0.480023659069112,-1.3364127200675031,0.8452624019906536,0.2509777094027647,0.20317230448967902,-2.5580200049648996,0.47164544114003987,0.13608375887967908,-1.3413832491890092,1.0794295284681177,0.03791755550436143,2.1927622697418774,1.7239478391164735,-0.8441975536242636,-0.555562737221605,0.8962983600870705,1.7163996644440285,0.3861053154127059,-0.5053146823691147,0.6629732990578995,1.7291436937887452,-0.19791142080973972,-0.17758994884436066,0.3835728374808757,0.1206356970118862,-0.5839764747918563,0.6562070488071372,0.79818803972454,-1.317059527577753,-0.36660244714059637,-0.07092316904929655,-1.9885058041209265,0.36046441628701004,-0.3787904255840291,0.40687581684755036,-0.9740597784537262,-0.5963017374604368,1.292358219538622,-0.678637329096281,-0.11217221669830485,-0.556064599371359,-1.2917102576840802,0.1961856894863246,1.8320554131446811,1.1361645082224023],\"xaxis\":\"x10\",\"y\":[1.497365056261028,-1.3652639392192893,-0.4633848596042667,-0.6554155737090046,-0.873403949723717,0.05599352265517801,-0.34473828248271027,-0.41319903909836236,-2.044032644851402,-0.3987393454406875,1.1597178016054088,-1.502703163866186,0.23826714360142273,-1.5741392475854807,0.7816858134640635,-2.142846708586097,-1.1859370206584845,0.33445280073709727,-0.7667894723828541,1.2527282906266344,-0.19539795589395198,0.7326304554079953,0.04444226457106558,-1.556251136029763,-0.27447090560656606,0.039518802829135904,-0.02416001405173457,-0.5242725573805086,-0.8428442369549263,-0.9811777369886999,-0.3350095463442984,0.990050751506994,0.017554043186999775,0.2783947893725052,-0.06539150267349131,0.5611531072387262,-0.5433755998816096,0.2877606032303694,-0.39623450285943856,0.4281403826859208,0.12491994104865614,-0.8686705362189602,-1.0093119510785222,-1.7450992786587147,1.2677715076129603,1.1909806049583975,0.27740851207658335,0.6833561525713735,0.4283470277056508,0.7913812387268874,-0.5557615424139913,-0.21904396042115679,0.08964190646166481,0.021193571224057968,0.6050834546942213,-1.1619352848327547,1.0143367637627896,0.6639951131808542,1.018881240687566,0.9919337469405568,-1.3286952823498934,0.0887076694256689,0.8409303174685794,0.04430809594242096,-1.1306458993693478,2.0736318396393814,-0.14677037462178721,-1.3931223572680242,-2.0547424091586253,0.6128352101220416,-1.3654986018914061,-0.4736373234472714,1.5474841315174899,1.4023528581155102,0.2671475960322153,1.2783022300586027,-1.5729061331608103,-1.263124573100888,-0.6798291541866253,-0.07536756430411999,0.3387490431114079,1.7316981530795819,-0.09149845946313058,0.8606384957577545,-0.04059028826209647,-0.13740954203864353,-0.617304623092329,2.0731238475848937,-0.820298203736963,-0.26698591194207655,0.7321591287947562,-0.821972232165776,-0.6262152567039138,-0.08896112446005197,-2.5427473812318784,0.1546583782646699,-0.28721326963380284,0.8187876780277029,-0.4270266101320868,0.27999194420218215],\"yaxis\":\"y10\"},{\"histfunc\":\"count\",\"histnorm\":\"\",\"marker\":{\"color\":\"rgba(50, 171, 96, 1.0)\",\"line\":{\"color\":\"#4D5663\",\"width\":1.3}},\"name\":\"C\",\"nbinsx\":10,\"opacity\":0.8,\"orientation\":\"v\",\"type\":\"histogram\",\"x\":[1.497365056261028,-1.3652639392192893,-0.4633848596042667,-0.6554155737090046,-0.873403949723717,0.05599352265517801,-0.34473828248271027,-0.41319903909836236,-2.044032644851402,-0.3987393454406875,1.1597178016054088,-1.502703163866186,0.23826714360142273,-1.5741392475854807,0.7816858134640635,-2.142846708586097,-1.1859370206584845,0.33445280073709727,-0.7667894723828541,1.2527282906266344,-0.19539795589395198,0.7326304554079953,0.04444226457106558,-1.556251136029763,-0.27447090560656606,0.039518802829135904,-0.02416001405173457,-0.5242725573805086,-0.8428442369549263,-0.9811777369886999,-0.3350095463442984,0.990050751506994,0.017554043186999775,0.2783947893725052,-0.06539150267349131,0.5611531072387262,-0.5433755998816096,0.2877606032303694,-0.39623450285943856,0.4281403826859208,0.12491994104865614,-0.8686705362189602,-1.0093119510785222,-1.7450992786587147,1.2677715076129603,1.1909806049583975,0.27740851207658335,0.6833561525713735,0.4283470277056508,0.7913812387268874,-0.5557615424139913,-0.21904396042115679,0.08964190646166481,0.021193571224057968,0.6050834546942213,-1.1619352848327547,1.0143367637627896,0.6639951131808542,1.018881240687566,0.9919337469405568,-1.3286952823498934,0.0887076694256689,0.8409303174685794,0.04430809594242096,-1.1306458993693478,2.0736318396393814,-0.14677037462178721,-1.3931223572680242,-2.0547424091586253,0.6128352101220416,-1.3654986018914061,-0.4736373234472714,1.5474841315174899,1.4023528581155102,0.2671475960322153,1.2783022300586027,-1.5729061331608103,-1.263124573100888,-0.6798291541866253,-0.07536756430411999,0.3387490431114079,1.7316981530795819,-0.09149845946313058,0.8606384957577545,-0.04059028826209647,-0.13740954203864353,-0.617304623092329,2.0731238475848937,-0.820298203736963,-0.26698591194207655,0.7321591287947562,-0.821972232165776,-0.6262152567039138,-0.08896112446005197,-2.5427473812318784,0.1546583782646699,-0.28721326963380284,0.8187876780277029,-0.4270266101320868,0.27999194420218215],\"xaxis\":\"x11\",\"yaxis\":\"y11\"},{\"line\":{\"color\":\"rgba(128, 128, 128, 1.0)\",\"dash\":\"solid\",\"shape\":\"linear\",\"width\":1.3},\"marker\":{\"size\":2,\"symbol\":\"circle\"},\"mode\":\"markers\",\"name\":\"C\",\"text\":\"\",\"type\":\"scatter\",\"x\":[-0.7607516732532427,-1.254568488051787,-0.8788828748036107,-0.13665063756100818,0.07474348764667796,-0.3100043705116922,-2.0463341136143995,0.640808766840854,1.224538129726818,1.0886660890880229,0.4049848114617264,0.7485515644819034,-0.46248600223967307,0.9533718049057213,-0.3695657385477109,0.8832340804185418,0.9052960323805491,-0.3853489432776442,1.3159244798509053,-0.028767564722662828,0.06379612112194598,-0.5699264163729659,0.32702586302219483,0.08779247487238971,1.2860732684779363,2.0938721257990114,0.10641036516130699,-0.43614763748954455,-0.15454712915480173,1.6917422947637824,2.069900076611023,0.2728381375704959,0.8982963476299403,1.1626845775151418,-1.8514944212075175,0.5097088665460885,0.301289072860881,-0.9215289721219797,0.5195919347510675,0.6283349774206288,0.14180613856997362,-0.6596331767430526,-0.43804908361382316,-1.161466129764636,-0.3773059718348686,-2.140572355581783,-0.19500741390398052,-0.5863195712554702,0.9506076263372776,0.05794084130328615,1.114608481540598,1.0598559581825697,-1.5876844271788813,-0.14739138729617407,-0.580431636041587,-0.33284940498071774,1.0629167254062288,0.38472616162999584,-0.9184640525607392,0.8882962211984797,-1.014539375075398,0.37548732970143817,0.5803058105441924,0.4429555473857757,-1.2144704173369645,0.13144813153609372,-0.8080736698792067,0.8897350266785666,1.1618872824269493,-0.38335647093100017,-0.2727693174039654,-0.25018635867093286,1.1484717709362309,0.49378345946541696,1.101291396885938,-0.49177164389114286,-1.6401018997496926,1.277848986380219,0.12810121345704542,-0.9889079946366958,-0.5251123223013637,1.1599073316060275,0.5708057586905046,-0.35367070891227775,0.8950168639617084,-0.9437864888126327,-0.46412027474338197,-1.5511026925124407,-0.2761019732505129,0.15029292622478768,1.4277411536710876,2.4147463451354967,-0.08801777586421945,-0.6338679739225697,-0.14945606892838023,0.6667328009341639,-0.3684321797614924,-0.9142366078263781,-0.4271860199935734,2.0408302414506343],\"xaxis\":\"x12\",\"y\":[1.497365056261028,-1.3652639392192893,-0.4633848596042667,-0.6554155737090046,-0.873403949723717,0.05599352265517801,-0.34473828248271027,-0.41319903909836236,-2.044032644851402,-0.3987393454406875,1.1597178016054088,-1.502703163866186,0.23826714360142273,-1.5741392475854807,0.7816858134640635,-2.142846708586097,-1.1859370206584845,0.33445280073709727,-0.7667894723828541,1.2527282906266344,-0.19539795589395198,0.7326304554079953,0.04444226457106558,-1.556251136029763,-0.27447090560656606,0.039518802829135904,-0.02416001405173457,-0.5242725573805086,-0.8428442369549263,-0.9811777369886999,-0.3350095463442984,0.990050751506994,0.017554043186999775,0.2783947893725052,-0.06539150267349131,0.5611531072387262,-0.5433755998816096,0.2877606032303694,-0.39623450285943856,0.4281403826859208,0.12491994104865614,-0.8686705362189602,-1.0093119510785222,-1.7450992786587147,1.2677715076129603,1.1909806049583975,0.27740851207658335,0.6833561525713735,0.4283470277056508,0.7913812387268874,-0.5557615424139913,-0.21904396042115679,0.08964190646166481,0.021193571224057968,0.6050834546942213,-1.1619352848327547,1.0143367637627896,0.6639951131808542,1.018881240687566,0.9919337469405568,-1.3286952823498934,0.0887076694256689,0.8409303174685794,0.04430809594242096,-1.1306458993693478,2.0736318396393814,-0.14677037462178721,-1.3931223572680242,-2.0547424091586253,0.6128352101220416,-1.3654986018914061,-0.4736373234472714,1.5474841315174899,1.4023528581155102,0.2671475960322153,1.2783022300586027,-1.5729061331608103,-1.263124573100888,-0.6798291541866253,-0.07536756430411999,0.3387490431114079,1.7316981530795819,-0.09149845946313058,0.8606384957577545,-0.04059028826209647,-0.13740954203864353,-0.617304623092329,2.0731238475848937,-0.820298203736963,-0.26698591194207655,0.7321591287947562,-0.821972232165776,-0.6262152567039138,-0.08896112446005197,-2.5427473812318784,0.1546583782646699,-0.28721326963380284,0.8187876780277029,-0.4270266101320868,0.27999194420218215],\"yaxis\":\"y12\"},{\"line\":{\"color\":\"rgba(128, 128, 128, 1.0)\",\"dash\":\"solid\",\"shape\":\"linear\",\"width\":1.3},\"marker\":{\"size\":2,\"symbol\":\"circle\"},\"mode\":\"markers\",\"name\":\"D\",\"text\":\"\",\"type\":\"scatter\",\"x\":[-1.252614793086047,-0.05970334235749016,1.1861410783422972,-0.08761128715742864,0.07950640464429827,1.2280562668624604,-1.3278069263914265,-1.363119785987805,-1.1386232623492012,-0.8393437156317276,-0.4541080744300972,2.0343495796888282,-3.09049460215665,0.16073727481802083,-0.4197095473149091,-0.2387478469942015,-0.059737805366917265,0.637232411048166,-0.16098446078613787,-0.39044693665236124,-0.18335785148903647,-1.4665474154877824,-0.9467091070463365,-1.363086400891611,1.1419161233127382,-0.8990356765986693,-0.47877126318615904,-0.08723595655352805,0.28836519048925785,0.4535211994873111,0.6072750672172921,0.7920328635238127,0.9210688520723921,0.8431813681496602,0.14682019235661373,-1.1829671348247588,-1.0438065432704076,1.4143243674487795,0.709957119062226,-0.6850164620237267,-1.0010708187907489,-0.34860627566652763,1.9900831507298398,0.18725017639146913,-0.6255124774152,-1.6017317227276038,0.885042918633726,0.7428077103813263,-0.8924785069045459,-1.3308889418400802,3.003745396974862,0.3371032077767076,0.46679193086201903,0.36616511575153876,-0.416335845412642,1.5194644015341876,0.5211470076410264,-1.5036153475796188,-0.26626662937057033,0.6978691732337882,-0.09511084342263629,0.30075260301102774,0.03197028510486337,1.4282640809936629,0.33128440588935226,0.8760426680096519,-0.04282550929148523,-1.4869944424905852,1.1016632292962907,-1.432616353521275,1.5575716683045684,-0.3201993175852064,0.3085393750442976,-1.6767132815810286,-0.43613840129391807,0.5444947534040682,-0.9564608279120181,-1.2149259364052323,0.2619339163954011,1.1510318594062585,-1.4935781096730616,-1.5364588271684487,-0.2014536368998715,1.0317682182611458,-1.2008107718275032,0.6417163449601327,2.0525571724871856,0.4544224835172775,0.8604257046342394,0.024338875911690164,0.4034582647556379,-0.31260916146689444,0.020281310347106393,-0.29632252607525494,-0.3145363114608712,-0.5558389308669797,-0.08374887468313946,-0.1925649721641307,-0.37837314814356626,-1.004110983807644],\"xaxis\":\"x13\",\"y\":[-0.7607516732532427,-1.254568488051787,-0.8788828748036107,-0.13665063756100818,0.07474348764667796,-0.3100043705116922,-2.0463341136143995,0.640808766840854,1.224538129726818,1.0886660890880229,0.4049848114617264,0.7485515644819034,-0.46248600223967307,0.9533718049057213,-0.3695657385477109,0.8832340804185418,0.9052960323805491,-0.3853489432776442,1.3159244798509053,-0.028767564722662828,0.06379612112194598,-0.5699264163729659,0.32702586302219483,0.08779247487238971,1.2860732684779363,2.0938721257990114,0.10641036516130699,-0.43614763748954455,-0.15454712915480173,1.6917422947637824,2.069900076611023,0.2728381375704959,0.8982963476299403,1.1626845775151418,-1.8514944212075175,0.5097088665460885,0.301289072860881,-0.9215289721219797,0.5195919347510675,0.6283349774206288,0.14180613856997362,-0.6596331767430526,-0.43804908361382316,-1.161466129764636,-0.3773059718348686,-2.140572355581783,-0.19500741390398052,-0.5863195712554702,0.9506076263372776,0.05794084130328615,1.114608481540598,1.0598559581825697,-1.5876844271788813,-0.14739138729617407,-0.580431636041587,-0.33284940498071774,1.0629167254062288,0.38472616162999584,-0.9184640525607392,0.8882962211984797,-1.014539375075398,0.37548732970143817,0.5803058105441924,0.4429555473857757,-1.2144704173369645,0.13144813153609372,-0.8080736698792067,0.8897350266785666,1.1618872824269493,-0.38335647093100017,-0.2727693174039654,-0.25018635867093286,1.1484717709362309,0.49378345946541696,1.101291396885938,-0.49177164389114286,-1.6401018997496926,1.277848986380219,0.12810121345704542,-0.9889079946366958,-0.5251123223013637,1.1599073316060275,0.5708057586905046,-0.35367070891227775,0.8950168639617084,-0.9437864888126327,-0.46412027474338197,-1.5511026925124407,-0.2761019732505129,0.15029292622478768,1.4277411536710876,2.4147463451354967,-0.08801777586421945,-0.6338679739225697,-0.14945606892838023,0.6667328009341639,-0.3684321797614924,-0.9142366078263781,-0.4271860199935734,2.0408302414506343],\"yaxis\":\"y13\"},{\"line\":{\"color\":\"rgba(128, 128, 128, 1.0)\",\"dash\":\"solid\",\"shape\":\"linear\",\"width\":1.3},\"marker\":{\"size\":2,\"symbol\":\"circle\"},\"mode\":\"markers\",\"name\":\"D\",\"text\":\"\",\"type\":\"scatter\",\"x\":[1.429907173744965,-0.3362692153993021,-0.22403939638327913,-0.1062523944097891,0.2474881419869791,-2.951570498412787,-1.3150465437708856,-0.09564344114602419,0.7924691287634381,-0.11059481319784327,-0.9574735207257397,-2.7741406899349563,-1.0816982566045203,-0.7050395721831006,-0.030415434382019057,-0.4233816135656058,1.13409136177349,-0.40242588625630915,-0.294198850624815,-0.10088674274843744,1.0390784149843242,0.5165220382316772,1.0292362169286038,-0.9443881069654166,-0.03415047970036683,-1.302863193040769,-1.8739862933198712,-0.14083809321526172,-1.027560506025851,-0.19154403604307874,1.188705505404244,0.8103271790333249,0.27403939984770914,-0.7969627075630051,1.1289182632483334,-1.6358823872587878,-0.6503428428357034,-0.6587248753403122,-0.8986836433415368,-1.2910519644339522,0.37456483954536046,-2.3331353592693427,-1.353315814768125,-1.6109918954270386,2.574398806434323,-0.7419382066961051,1.0111811133768143,0.8627681851633381,1.0684844064238004,0.9584140081934572,-1.2724226953088429,0.5623348949596787,0.21278803036445387,0.6362092764330177,-1.1507486672395217,0.480023659069112,-1.3364127200675031,0.8452624019906536,0.2509777094027647,0.20317230448967902,-2.5580200049648996,0.47164544114003987,0.13608375887967908,-1.3413832491890092,1.0794295284681177,0.03791755550436143,2.1927622697418774,1.7239478391164735,-0.8441975536242636,-0.555562737221605,0.8962983600870705,1.7163996644440285,0.3861053154127059,-0.5053146823691147,0.6629732990578995,1.7291436937887452,-0.19791142080973972,-0.17758994884436066,0.3835728374808757,0.1206356970118862,-0.5839764747918563,0.6562070488071372,0.79818803972454,-1.317059527577753,-0.36660244714059637,-0.07092316904929655,-1.9885058041209265,0.36046441628701004,-0.3787904255840291,0.40687581684755036,-0.9740597784537262,-0.5963017374604368,1.292358219538622,-0.678637329096281,-0.11217221669830485,-0.556064599371359,-1.2917102576840802,0.1961856894863246,1.8320554131446811,1.1361645082224023],\"xaxis\":\"x14\",\"y\":[-0.7607516732532427,-1.254568488051787,-0.8788828748036107,-0.13665063756100818,0.07474348764667796,-0.3100043705116922,-2.0463341136143995,0.640808766840854,1.224538129726818,1.0886660890880229,0.4049848114617264,0.7485515644819034,-0.46248600223967307,0.9533718049057213,-0.3695657385477109,0.8832340804185418,0.9052960323805491,-0.3853489432776442,1.3159244798509053,-0.028767564722662828,0.06379612112194598,-0.5699264163729659,0.32702586302219483,0.08779247487238971,1.2860732684779363,2.0938721257990114,0.10641036516130699,-0.43614763748954455,-0.15454712915480173,1.6917422947637824,2.069900076611023,0.2728381375704959,0.8982963476299403,1.1626845775151418,-1.8514944212075175,0.5097088665460885,0.301289072860881,-0.9215289721219797,0.5195919347510675,0.6283349774206288,0.14180613856997362,-0.6596331767430526,-0.43804908361382316,-1.161466129764636,-0.3773059718348686,-2.140572355581783,-0.19500741390398052,-0.5863195712554702,0.9506076263372776,0.05794084130328615,1.114608481540598,1.0598559581825697,-1.5876844271788813,-0.14739138729617407,-0.580431636041587,-0.33284940498071774,1.0629167254062288,0.38472616162999584,-0.9184640525607392,0.8882962211984797,-1.014539375075398,0.37548732970143817,0.5803058105441924,0.4429555473857757,-1.2144704173369645,0.13144813153609372,-0.8080736698792067,0.8897350266785666,1.1618872824269493,-0.38335647093100017,-0.2727693174039654,-0.25018635867093286,1.1484717709362309,0.49378345946541696,1.101291396885938,-0.49177164389114286,-1.6401018997496926,1.277848986380219,0.12810121345704542,-0.9889079946366958,-0.5251123223013637,1.1599073316060275,0.5708057586905046,-0.35367070891227775,0.8950168639617084,-0.9437864888126327,-0.46412027474338197,-1.5511026925124407,-0.2761019732505129,0.15029292622478768,1.4277411536710876,2.4147463451354967,-0.08801777586421945,-0.6338679739225697,-0.14945606892838023,0.6667328009341639,-0.3684321797614924,-0.9142366078263781,-0.4271860199935734,2.0408302414506343],\"yaxis\":\"y14\"},{\"line\":{\"color\":\"rgba(128, 128, 128, 1.0)\",\"dash\":\"solid\",\"shape\":\"linear\",\"width\":1.3},\"marker\":{\"size\":2,\"symbol\":\"circle\"},\"mode\":\"markers\",\"name\":\"D\",\"text\":\"\",\"type\":\"scatter\",\"x\":[1.497365056261028,-1.3652639392192893,-0.4633848596042667,-0.6554155737090046,-0.873403949723717,0.05599352265517801,-0.34473828248271027,-0.41319903909836236,-2.044032644851402,-0.3987393454406875,1.1597178016054088,-1.502703163866186,0.23826714360142273,-1.5741392475854807,0.7816858134640635,-2.142846708586097,-1.1859370206584845,0.33445280073709727,-0.7667894723828541,1.2527282906266344,-0.19539795589395198,0.7326304554079953,0.04444226457106558,-1.556251136029763,-0.27447090560656606,0.039518802829135904,-0.02416001405173457,-0.5242725573805086,-0.8428442369549263,-0.9811777369886999,-0.3350095463442984,0.990050751506994,0.017554043186999775,0.2783947893725052,-0.06539150267349131,0.5611531072387262,-0.5433755998816096,0.2877606032303694,-0.39623450285943856,0.4281403826859208,0.12491994104865614,-0.8686705362189602,-1.0093119510785222,-1.7450992786587147,1.2677715076129603,1.1909806049583975,0.27740851207658335,0.6833561525713735,0.4283470277056508,0.7913812387268874,-0.5557615424139913,-0.21904396042115679,0.08964190646166481,0.021193571224057968,0.6050834546942213,-1.1619352848327547,1.0143367637627896,0.6639951131808542,1.018881240687566,0.9919337469405568,-1.3286952823498934,0.0887076694256689,0.8409303174685794,0.04430809594242096,-1.1306458993693478,2.0736318396393814,-0.14677037462178721,-1.3931223572680242,-2.0547424091586253,0.6128352101220416,-1.3654986018914061,-0.4736373234472714,1.5474841315174899,1.4023528581155102,0.2671475960322153,1.2783022300586027,-1.5729061331608103,-1.263124573100888,-0.6798291541866253,-0.07536756430411999,0.3387490431114079,1.7316981530795819,-0.09149845946313058,0.8606384957577545,-0.04059028826209647,-0.13740954203864353,-0.617304623092329,2.0731238475848937,-0.820298203736963,-0.26698591194207655,0.7321591287947562,-0.821972232165776,-0.6262152567039138,-0.08896112446005197,-2.5427473812318784,0.1546583782646699,-0.28721326963380284,0.8187876780277029,-0.4270266101320868,0.27999194420218215],\"xaxis\":\"x15\",\"y\":[-0.7607516732532427,-1.254568488051787,-0.8788828748036107,-0.13665063756100818,0.07474348764667796,-0.3100043705116922,-2.0463341136143995,0.640808766840854,1.224538129726818,1.0886660890880229,0.4049848114617264,0.7485515644819034,-0.46248600223967307,0.9533718049057213,-0.3695657385477109,0.8832340804185418,0.9052960323805491,-0.3853489432776442,1.3159244798509053,-0.028767564722662828,0.06379612112194598,-0.5699264163729659,0.32702586302219483,0.08779247487238971,1.2860732684779363,2.0938721257990114,0.10641036516130699,-0.43614763748954455,-0.15454712915480173,1.6917422947637824,2.069900076611023,0.2728381375704959,0.8982963476299403,1.1626845775151418,-1.8514944212075175,0.5097088665460885,0.301289072860881,-0.9215289721219797,0.5195919347510675,0.6283349774206288,0.14180613856997362,-0.6596331767430526,-0.43804908361382316,-1.161466129764636,-0.3773059718348686,-2.140572355581783,-0.19500741390398052,-0.5863195712554702,0.9506076263372776,0.05794084130328615,1.114608481540598,1.0598559581825697,-1.5876844271788813,-0.14739138729617407,-0.580431636041587,-0.33284940498071774,1.0629167254062288,0.38472616162999584,-0.9184640525607392,0.8882962211984797,-1.014539375075398,0.37548732970143817,0.5803058105441924,0.4429555473857757,-1.2144704173369645,0.13144813153609372,-0.8080736698792067,0.8897350266785666,1.1618872824269493,-0.38335647093100017,-0.2727693174039654,-0.25018635867093286,1.1484717709362309,0.49378345946541696,1.101291396885938,-0.49177164389114286,-1.6401018997496926,1.277848986380219,0.12810121345704542,-0.9889079946366958,-0.5251123223013637,1.1599073316060275,0.5708057586905046,-0.35367070891227775,0.8950168639617084,-0.9437864888126327,-0.46412027474338197,-1.5511026925124407,-0.2761019732505129,0.15029292622478768,1.4277411536710876,2.4147463451354967,-0.08801777586421945,-0.6338679739225697,-0.14945606892838023,0.6667328009341639,-0.3684321797614924,-0.9142366078263781,-0.4271860199935734,2.0408302414506343],\"yaxis\":\"y15\"},{\"histfunc\":\"count\",\"histnorm\":\"\",\"marker\":{\"color\":\"rgba(128, 0, 128, 1.0)\",\"line\":{\"color\":\"#4D5663\",\"width\":1.3}},\"name\":\"D\",\"nbinsx\":10,\"opacity\":0.8,\"orientation\":\"v\",\"type\":\"histogram\",\"x\":[-0.7607516732532427,-1.254568488051787,-0.8788828748036107,-0.13665063756100818,0.07474348764667796,-0.3100043705116922,-2.0463341136143995,0.640808766840854,1.224538129726818,1.0886660890880229,0.4049848114617264,0.7485515644819034,-0.46248600223967307,0.9533718049057213,-0.3695657385477109,0.8832340804185418,0.9052960323805491,-0.3853489432776442,1.3159244798509053,-0.028767564722662828,0.06379612112194598,-0.5699264163729659,0.32702586302219483,0.08779247487238971,1.2860732684779363,2.0938721257990114,0.10641036516130699,-0.43614763748954455,-0.15454712915480173,1.6917422947637824,2.069900076611023,0.2728381375704959,0.8982963476299403,1.1626845775151418,-1.8514944212075175,0.5097088665460885,0.301289072860881,-0.9215289721219797,0.5195919347510675,0.6283349774206288,0.14180613856997362,-0.6596331767430526,-0.43804908361382316,-1.161466129764636,-0.3773059718348686,-2.140572355581783,-0.19500741390398052,-0.5863195712554702,0.9506076263372776,0.05794084130328615,1.114608481540598,1.0598559581825697,-1.5876844271788813,-0.14739138729617407,-0.580431636041587,-0.33284940498071774,1.0629167254062288,0.38472616162999584,-0.9184640525607392,0.8882962211984797,-1.014539375075398,0.37548732970143817,0.5803058105441924,0.4429555473857757,-1.2144704173369645,0.13144813153609372,-0.8080736698792067,0.8897350266785666,1.1618872824269493,-0.38335647093100017,-0.2727693174039654,-0.25018635867093286,1.1484717709362309,0.49378345946541696,1.101291396885938,-0.49177164389114286,-1.6401018997496926,1.277848986380219,0.12810121345704542,-0.9889079946366958,-0.5251123223013637,1.1599073316060275,0.5708057586905046,-0.35367070891227775,0.8950168639617084,-0.9437864888126327,-0.46412027474338197,-1.5511026925124407,-0.2761019732505129,0.15029292622478768,1.4277411536710876,2.4147463451354967,-0.08801777586421945,-0.6338679739225697,-0.14945606892838023,0.6667328009341639,-0.3684321797614924,-0.9142366078263781,-0.4271860199935734,2.0408302414506343],\"xaxis\":\"x16\",\"yaxis\":\"y16\"}],                        {\"bargap\":0.02,\"legend\":{\"bgcolor\":\"#F5F6F9\",\"font\":{\"color\":\"#4D5663\"}},\"paper_bgcolor\":\"#F5F6F9\",\"plot_bgcolor\":\"#F5F6F9\",\"showlegend\":false,\"template\":{\"data\":{\"bar\":[{\"error_x\":{\"color\":\"#2a3f5f\"},\"error_y\":{\"color\":\"#2a3f5f\"},\"marker\":{\"line\":{\"color\":\"#E5ECF6\",\"width\":0.5},\"pattern\":{\"fillmode\":\"overlay\",\"size\":10,\"solidity\":0.2}},\"type\":\"bar\"}],\"barpolar\":[{\"marker\":{\"line\":{\"color\":\"#E5ECF6\",\"width\":0.5},\"pattern\":{\"fillmode\":\"overlay\",\"size\":10,\"solidity\":0.2}},\"type\":\"barpolar\"}],\"carpet\":[{\"aaxis\":{\"endlinecolor\":\"#2a3f5f\",\"gridcolor\":\"white\",\"linecolor\":\"white\",\"minorgridcolor\":\"white\",\"startlinecolor\":\"#2a3f5f\"},\"baxis\":{\"endlinecolor\":\"#2a3f5f\",\"gridcolor\":\"white\",\"linecolor\":\"white\",\"minorgridcolor\":\"white\",\"startlinecolor\":\"#2a3f5f\"},\"type\":\"carpet\"}],\"choropleth\":[{\"colorbar\":{\"outlinewidth\":0,\"ticks\":\"\"},\"type\":\"choropleth\"}],\"contour\":[{\"colorbar\":{\"outlinewidth\":0,\"ticks\":\"\"},\"colorscale\":[[0.0,\"#0d0887\"],[0.1111111111111111,\"#46039f\"],[0.2222222222222222,\"#7201a8\"],[0.3333333333333333,\"#9c179e\"],[0.4444444444444444,\"#bd3786\"],[0.5555555555555556,\"#d8576b\"],[0.6666666666666666,\"#ed7953\"],[0.7777777777777778,\"#fb9f3a\"],[0.8888888888888888,\"#fdca26\"],[1.0,\"#f0f921\"]],\"type\":\"contour\"}],\"contourcarpet\":[{\"colorbar\":{\"outlinewidth\":0,\"ticks\":\"\"},\"type\":\"contourcarpet\"}],\"heatmap\":[{\"colorbar\":{\"outlinewidth\":0,\"ticks\":\"\"},\"colorscale\":[[0.0,\"#0d0887\"],[0.1111111111111111,\"#46039f\"],[0.2222222222222222,\"#7201a8\"],[0.3333333333333333,\"#9c179e\"],[0.4444444444444444,\"#bd3786\"],[0.5555555555555556,\"#d8576b\"],[0.6666666666666666,\"#ed7953\"],[0.7777777777777778,\"#fb9f3a\"],[0.8888888888888888,\"#fdca26\"],[1.0,\"#f0f921\"]],\"type\":\"heatmap\"}],\"heatmapgl\":[{\"colorbar\":{\"outlinewidth\":0,\"ticks\":\"\"},\"colorscale\":[[0.0,\"#0d0887\"],[0.1111111111111111,\"#46039f\"],[0.2222222222222222,\"#7201a8\"],[0.3333333333333333,\"#9c179e\"],[0.4444444444444444,\"#bd3786\"],[0.5555555555555556,\"#d8576b\"],[0.6666666666666666,\"#ed7953\"],[0.7777777777777778,\"#fb9f3a\"],[0.8888888888888888,\"#fdca26\"],[1.0,\"#f0f921\"]],\"type\":\"heatmapgl\"}],\"histogram\":[{\"marker\":{\"pattern\":{\"fillmode\":\"overlay\",\"size\":10,\"solidity\":0.2}},\"type\":\"histogram\"}],\"histogram2d\":[{\"colorbar\":{\"outlinewidth\":0,\"ticks\":\"\"},\"colorscale\":[[0.0,\"#0d0887\"],[0.1111111111111111,\"#46039f\"],[0.2222222222222222,\"#7201a8\"],[0.3333333333333333,\"#9c179e\"],[0.4444444444444444,\"#bd3786\"],[0.5555555555555556,\"#d8576b\"],[0.6666666666666666,\"#ed7953\"],[0.7777777777777778,\"#fb9f3a\"],[0.8888888888888888,\"#fdca26\"],[1.0,\"#f0f921\"]],\"type\":\"histogram2d\"}],\"histogram2dcontour\":[{\"colorbar\":{\"outlinewidth\":0,\"ticks\":\"\"},\"colorscale\":[[0.0,\"#0d0887\"],[0.1111111111111111,\"#46039f\"],[0.2222222222222222,\"#7201a8\"],[0.3333333333333333,\"#9c179e\"],[0.4444444444444444,\"#bd3786\"],[0.5555555555555556,\"#d8576b\"],[0.6666666666666666,\"#ed7953\"],[0.7777777777777778,\"#fb9f3a\"],[0.8888888888888888,\"#fdca26\"],[1.0,\"#f0f921\"]],\"type\":\"histogram2dcontour\"}],\"mesh3d\":[{\"colorbar\":{\"outlinewidth\":0,\"ticks\":\"\"},\"type\":\"mesh3d\"}],\"parcoords\":[{\"line\":{\"colorbar\":{\"outlinewidth\":0,\"ticks\":\"\"}},\"type\":\"parcoords\"}],\"pie\":[{\"automargin\":true,\"type\":\"pie\"}],\"scatter\":[{\"marker\":{\"colorbar\":{\"outlinewidth\":0,\"ticks\":\"\"}},\"type\":\"scatter\"}],\"scatter3d\":[{\"line\":{\"colorbar\":{\"outlinewidth\":0,\"ticks\":\"\"}},\"marker\":{\"colorbar\":{\"outlinewidth\":0,\"ticks\":\"\"}},\"type\":\"scatter3d\"}],\"scattercarpet\":[{\"marker\":{\"colorbar\":{\"outlinewidth\":0,\"ticks\":\"\"}},\"type\":\"scattercarpet\"}],\"scattergeo\":[{\"marker\":{\"colorbar\":{\"outlinewidth\":0,\"ticks\":\"\"}},\"type\":\"scattergeo\"}],\"scattergl\":[{\"marker\":{\"colorbar\":{\"outlinewidth\":0,\"ticks\":\"\"}},\"type\":\"scattergl\"}],\"scattermapbox\":[{\"marker\":{\"colorbar\":{\"outlinewidth\":0,\"ticks\":\"\"}},\"type\":\"scattermapbox\"}],\"scatterpolar\":[{\"marker\":{\"colorbar\":{\"outlinewidth\":0,\"ticks\":\"\"}},\"type\":\"scatterpolar\"}],\"scatterpolargl\":[{\"marker\":{\"colorbar\":{\"outlinewidth\":0,\"ticks\":\"\"}},\"type\":\"scatterpolargl\"}],\"scatterternary\":[{\"marker\":{\"colorbar\":{\"outlinewidth\":0,\"ticks\":\"\"}},\"type\":\"scatterternary\"}],\"surface\":[{\"colorbar\":{\"outlinewidth\":0,\"ticks\":\"\"},\"colorscale\":[[0.0,\"#0d0887\"],[0.1111111111111111,\"#46039f\"],[0.2222222222222222,\"#7201a8\"],[0.3333333333333333,\"#9c179e\"],[0.4444444444444444,\"#bd3786\"],[0.5555555555555556,\"#d8576b\"],[0.6666666666666666,\"#ed7953\"],[0.7777777777777778,\"#fb9f3a\"],[0.8888888888888888,\"#fdca26\"],[1.0,\"#f0f921\"]],\"type\":\"surface\"}],\"table\":[{\"cells\":{\"fill\":{\"color\":\"#EBF0F8\"},\"line\":{\"color\":\"white\"}},\"header\":{\"fill\":{\"color\":\"#C8D4E3\"},\"line\":{\"color\":\"white\"}},\"type\":\"table\"}]},\"layout\":{\"annotationdefaults\":{\"arrowcolor\":\"#2a3f5f\",\"arrowhead\":0,\"arrowwidth\":1},\"autotypenumbers\":\"strict\",\"coloraxis\":{\"colorbar\":{\"outlinewidth\":0,\"ticks\":\"\"}},\"colorscale\":{\"diverging\":[[0,\"#8e0152\"],[0.1,\"#c51b7d\"],[0.2,\"#de77ae\"],[0.3,\"#f1b6da\"],[0.4,\"#fde0ef\"],[0.5,\"#f7f7f7\"],[0.6,\"#e6f5d0\"],[0.7,\"#b8e186\"],[0.8,\"#7fbc41\"],[0.9,\"#4d9221\"],[1,\"#276419\"]],\"sequential\":[[0.0,\"#0d0887\"],[0.1111111111111111,\"#46039f\"],[0.2222222222222222,\"#7201a8\"],[0.3333333333333333,\"#9c179e\"],[0.4444444444444444,\"#bd3786\"],[0.5555555555555556,\"#d8576b\"],[0.6666666666666666,\"#ed7953\"],[0.7777777777777778,\"#fb9f3a\"],[0.8888888888888888,\"#fdca26\"],[1.0,\"#f0f921\"]],\"sequentialminus\":[[0.0,\"#0d0887\"],[0.1111111111111111,\"#46039f\"],[0.2222222222222222,\"#7201a8\"],[0.3333333333333333,\"#9c179e\"],[0.4444444444444444,\"#bd3786\"],[0.5555555555555556,\"#d8576b\"],[0.6666666666666666,\"#ed7953\"],[0.7777777777777778,\"#fb9f3a\"],[0.8888888888888888,\"#fdca26\"],[1.0,\"#f0f921\"]]},\"colorway\":[\"#636efa\",\"#EF553B\",\"#00cc96\",\"#ab63fa\",\"#FFA15A\",\"#19d3f3\",\"#FF6692\",\"#B6E880\",\"#FF97FF\",\"#FECB52\"],\"font\":{\"color\":\"#2a3f5f\"},\"geo\":{\"bgcolor\":\"white\",\"lakecolor\":\"white\",\"landcolor\":\"#E5ECF6\",\"showlakes\":true,\"showland\":true,\"subunitcolor\":\"white\"},\"hoverlabel\":{\"align\":\"left\"},\"hovermode\":\"closest\",\"mapbox\":{\"style\":\"light\"},\"paper_bgcolor\":\"white\",\"plot_bgcolor\":\"#E5ECF6\",\"polar\":{\"angularaxis\":{\"gridcolor\":\"white\",\"linecolor\":\"white\",\"ticks\":\"\"},\"bgcolor\":\"#E5ECF6\",\"radialaxis\":{\"gridcolor\":\"white\",\"linecolor\":\"white\",\"ticks\":\"\"}},\"scene\":{\"xaxis\":{\"backgroundcolor\":\"#E5ECF6\",\"gridcolor\":\"white\",\"gridwidth\":2,\"linecolor\":\"white\",\"showbackground\":true,\"ticks\":\"\",\"zerolinecolor\":\"white\"},\"yaxis\":{\"backgroundcolor\":\"#E5ECF6\",\"gridcolor\":\"white\",\"gridwidth\":2,\"linecolor\":\"white\",\"showbackground\":true,\"ticks\":\"\",\"zerolinecolor\":\"white\"},\"zaxis\":{\"backgroundcolor\":\"#E5ECF6\",\"gridcolor\":\"white\",\"gridwidth\":2,\"linecolor\":\"white\",\"showbackground\":true,\"ticks\":\"\",\"zerolinecolor\":\"white\"}},\"shapedefaults\":{\"line\":{\"color\":\"#2a3f5f\"}},\"ternary\":{\"aaxis\":{\"gridcolor\":\"white\",\"linecolor\":\"white\",\"ticks\":\"\"},\"baxis\":{\"gridcolor\":\"white\",\"linecolor\":\"white\",\"ticks\":\"\"},\"bgcolor\":\"#E5ECF6\",\"caxis\":{\"gridcolor\":\"white\",\"linecolor\":\"white\",\"ticks\":\"\"}},\"title\":{\"x\":0.05},\"xaxis\":{\"automargin\":true,\"gridcolor\":\"white\",\"linecolor\":\"white\",\"ticks\":\"\",\"title\":{\"standoff\":15},\"zerolinecolor\":\"white\",\"zerolinewidth\":2},\"yaxis\":{\"automargin\":true,\"gridcolor\":\"white\",\"linecolor\":\"white\",\"ticks\":\"\",\"title\":{\"standoff\":15},\"zerolinecolor\":\"white\",\"zerolinewidth\":2}}},\"title\":{\"font\":{\"color\":\"#4D5663\"}},\"xaxis\":{\"anchor\":\"y\",\"domain\":[0.0,0.2125],\"gridcolor\":\"#E1E5ED\",\"showgrid\":false,\"tickfont\":{\"color\":\"#4D5663\"},\"title\":{\"font\":{\"color\":\"#4D5663\"},\"text\":\"\"},\"zerolinecolor\":\"#E1E5ED\"},\"xaxis10\":{\"anchor\":\"y10\",\"domain\":[0.2625,0.475],\"gridcolor\":\"#E1E5ED\",\"showgrid\":false,\"tickfont\":{\"color\":\"#4D5663\"},\"title\":{\"font\":{\"color\":\"#4D5663\"},\"text\":\"\"},\"zerolinecolor\":\"#E1E5ED\"},\"xaxis11\":{\"anchor\":\"y11\",\"domain\":[0.525,0.7375],\"gridcolor\":\"#E1E5ED\",\"showgrid\":false,\"tickfont\":{\"color\":\"#4D5663\"},\"title\":{\"font\":{\"color\":\"#4D5663\"},\"text\":\"\"},\"zerolinecolor\":\"#E1E5ED\"},\"xaxis12\":{\"anchor\":\"y12\",\"domain\":[0.7875,1.0],\"gridcolor\":\"#E1E5ED\",\"showgrid\":false,\"tickfont\":{\"color\":\"#4D5663\"},\"title\":{\"font\":{\"color\":\"#4D5663\"},\"text\":\"\"},\"zerolinecolor\":\"#E1E5ED\"},\"xaxis13\":{\"anchor\":\"y13\",\"domain\":[0.0,0.2125],\"gridcolor\":\"#E1E5ED\",\"showgrid\":false,\"tickfont\":{\"color\":\"#4D5663\"},\"title\":{\"font\":{\"color\":\"#4D5663\"},\"text\":\"\"},\"zerolinecolor\":\"#E1E5ED\"},\"xaxis14\":{\"anchor\":\"y14\",\"domain\":[0.2625,0.475],\"gridcolor\":\"#E1E5ED\",\"showgrid\":false,\"tickfont\":{\"color\":\"#4D5663\"},\"title\":{\"font\":{\"color\":\"#4D5663\"},\"text\":\"\"},\"zerolinecolor\":\"#E1E5ED\"},\"xaxis15\":{\"anchor\":\"y15\",\"domain\":[0.525,0.7375],\"gridcolor\":\"#E1E5ED\",\"showgrid\":false,\"tickfont\":{\"color\":\"#4D5663\"},\"title\":{\"font\":{\"color\":\"#4D5663\"},\"text\":\"\"},\"zerolinecolor\":\"#E1E5ED\"},\"xaxis16\":{\"anchor\":\"y16\",\"domain\":[0.7875,1.0],\"gridcolor\":\"#E1E5ED\",\"showgrid\":false,\"tickfont\":{\"color\":\"#4D5663\"},\"title\":{\"font\":{\"color\":\"#4D5663\"},\"text\":\"\"},\"zerolinecolor\":\"#E1E5ED\"},\"xaxis2\":{\"anchor\":\"y2\",\"domain\":[0.2625,0.475],\"gridcolor\":\"#E1E5ED\",\"showgrid\":false,\"tickfont\":{\"color\":\"#4D5663\"},\"title\":{\"font\":{\"color\":\"#4D5663\"},\"text\":\"\"},\"zerolinecolor\":\"#E1E5ED\"},\"xaxis3\":{\"anchor\":\"y3\",\"domain\":[0.525,0.7375],\"gridcolor\":\"#E1E5ED\",\"showgrid\":false,\"tickfont\":{\"color\":\"#4D5663\"},\"title\":{\"font\":{\"color\":\"#4D5663\"},\"text\":\"\"},\"zerolinecolor\":\"#E1E5ED\"},\"xaxis4\":{\"anchor\":\"y4\",\"domain\":[0.7875,1.0],\"gridcolor\":\"#E1E5ED\",\"showgrid\":false,\"tickfont\":{\"color\":\"#4D5663\"},\"title\":{\"font\":{\"color\":\"#4D5663\"},\"text\":\"\"},\"zerolinecolor\":\"#E1E5ED\"},\"xaxis5\":{\"anchor\":\"y5\",\"domain\":[0.0,0.2125],\"gridcolor\":\"#E1E5ED\",\"showgrid\":false,\"tickfont\":{\"color\":\"#4D5663\"},\"title\":{\"font\":{\"color\":\"#4D5663\"},\"text\":\"\"},\"zerolinecolor\":\"#E1E5ED\"},\"xaxis6\":{\"anchor\":\"y6\",\"domain\":[0.2625,0.475],\"gridcolor\":\"#E1E5ED\",\"showgrid\":false,\"tickfont\":{\"color\":\"#4D5663\"},\"title\":{\"font\":{\"color\":\"#4D5663\"},\"text\":\"\"},\"zerolinecolor\":\"#E1E5ED\"},\"xaxis7\":{\"anchor\":\"y7\",\"domain\":[0.525,0.7375],\"gridcolor\":\"#E1E5ED\",\"showgrid\":false,\"tickfont\":{\"color\":\"#4D5663\"},\"title\":{\"font\":{\"color\":\"#4D5663\"},\"text\":\"\"},\"zerolinecolor\":\"#E1E5ED\"},\"xaxis8\":{\"anchor\":\"y8\",\"domain\":[0.7875,1.0],\"gridcolor\":\"#E1E5ED\",\"showgrid\":false,\"tickfont\":{\"color\":\"#4D5663\"},\"title\":{\"font\":{\"color\":\"#4D5663\"},\"text\":\"\"},\"zerolinecolor\":\"#E1E5ED\"},\"xaxis9\":{\"anchor\":\"y9\",\"domain\":[0.0,0.2125],\"gridcolor\":\"#E1E5ED\",\"showgrid\":false,\"tickfont\":{\"color\":\"#4D5663\"},\"title\":{\"font\":{\"color\":\"#4D5663\"},\"text\":\"\"},\"zerolinecolor\":\"#E1E5ED\"},\"yaxis\":{\"anchor\":\"x\",\"domain\":[0.8025,1.0],\"gridcolor\":\"#E1E5ED\",\"showgrid\":false,\"tickfont\":{\"color\":\"#4D5663\"},\"title\":{\"font\":{\"color\":\"#4D5663\"},\"text\":\"\"},\"zerolinecolor\":\"#E1E5ED\"},\"yaxis10\":{\"anchor\":\"x10\",\"domain\":[0.2675,0.465],\"gridcolor\":\"#E1E5ED\",\"showgrid\":false,\"tickfont\":{\"color\":\"#4D5663\"},\"title\":{\"font\":{\"color\":\"#4D5663\"},\"text\":\"\"},\"zerolinecolor\":\"#E1E5ED\"},\"yaxis11\":{\"anchor\":\"x11\",\"domain\":[0.2675,0.465],\"gridcolor\":\"#E1E5ED\",\"showgrid\":false,\"tickfont\":{\"color\":\"#4D5663\"},\"title\":{\"font\":{\"color\":\"#4D5663\"},\"text\":\"\"},\"zerolinecolor\":\"#E1E5ED\"},\"yaxis12\":{\"anchor\":\"x12\",\"domain\":[0.2675,0.465],\"gridcolor\":\"#E1E5ED\",\"showgrid\":false,\"tickfont\":{\"color\":\"#4D5663\"},\"title\":{\"font\":{\"color\":\"#4D5663\"},\"text\":\"\"},\"zerolinecolor\":\"#E1E5ED\"},\"yaxis13\":{\"anchor\":\"x13\",\"domain\":[0.0,0.1975],\"gridcolor\":\"#E1E5ED\",\"showgrid\":false,\"tickfont\":{\"color\":\"#4D5663\"},\"title\":{\"font\":{\"color\":\"#4D5663\"},\"text\":\"\"},\"zerolinecolor\":\"#E1E5ED\"},\"yaxis14\":{\"anchor\":\"x14\",\"domain\":[0.0,0.1975],\"gridcolor\":\"#E1E5ED\",\"showgrid\":false,\"tickfont\":{\"color\":\"#4D5663\"},\"title\":{\"font\":{\"color\":\"#4D5663\"},\"text\":\"\"},\"zerolinecolor\":\"#E1E5ED\"},\"yaxis15\":{\"anchor\":\"x15\",\"domain\":[0.0,0.1975],\"gridcolor\":\"#E1E5ED\",\"showgrid\":false,\"tickfont\":{\"color\":\"#4D5663\"},\"title\":{\"font\":{\"color\":\"#4D5663\"},\"text\":\"\"},\"zerolinecolor\":\"#E1E5ED\"},\"yaxis16\":{\"anchor\":\"x16\",\"domain\":[0.0,0.1975],\"gridcolor\":\"#E1E5ED\",\"showgrid\":false,\"tickfont\":{\"color\":\"#4D5663\"},\"title\":{\"font\":{\"color\":\"#4D5663\"},\"text\":\"\"},\"zerolinecolor\":\"#E1E5ED\"},\"yaxis2\":{\"anchor\":\"x2\",\"domain\":[0.8025,1.0],\"gridcolor\":\"#E1E5ED\",\"showgrid\":false,\"tickfont\":{\"color\":\"#4D5663\"},\"title\":{\"font\":{\"color\":\"#4D5663\"},\"text\":\"\"},\"zerolinecolor\":\"#E1E5ED\"},\"yaxis3\":{\"anchor\":\"x3\",\"domain\":[0.8025,1.0],\"gridcolor\":\"#E1E5ED\",\"showgrid\":false,\"tickfont\":{\"color\":\"#4D5663\"},\"title\":{\"font\":{\"color\":\"#4D5663\"},\"text\":\"\"},\"zerolinecolor\":\"#E1E5ED\"},\"yaxis4\":{\"anchor\":\"x4\",\"domain\":[0.8025,1.0],\"gridcolor\":\"#E1E5ED\",\"showgrid\":false,\"tickfont\":{\"color\":\"#4D5663\"},\"title\":{\"font\":{\"color\":\"#4D5663\"},\"text\":\"\"},\"zerolinecolor\":\"#E1E5ED\"},\"yaxis5\":{\"anchor\":\"x5\",\"domain\":[0.535,0.7325],\"gridcolor\":\"#E1E5ED\",\"showgrid\":false,\"tickfont\":{\"color\":\"#4D5663\"},\"title\":{\"font\":{\"color\":\"#4D5663\"},\"text\":\"\"},\"zerolinecolor\":\"#E1E5ED\"},\"yaxis6\":{\"anchor\":\"x6\",\"domain\":[0.535,0.7325],\"gridcolor\":\"#E1E5ED\",\"showgrid\":false,\"tickfont\":{\"color\":\"#4D5663\"},\"title\":{\"font\":{\"color\":\"#4D5663\"},\"text\":\"\"},\"zerolinecolor\":\"#E1E5ED\"},\"yaxis7\":{\"anchor\":\"x7\",\"domain\":[0.535,0.7325],\"gridcolor\":\"#E1E5ED\",\"showgrid\":false,\"tickfont\":{\"color\":\"#4D5663\"},\"title\":{\"font\":{\"color\":\"#4D5663\"},\"text\":\"\"},\"zerolinecolor\":\"#E1E5ED\"},\"yaxis8\":{\"anchor\":\"x8\",\"domain\":[0.535,0.7325],\"gridcolor\":\"#E1E5ED\",\"showgrid\":false,\"tickfont\":{\"color\":\"#4D5663\"},\"title\":{\"font\":{\"color\":\"#4D5663\"},\"text\":\"\"},\"zerolinecolor\":\"#E1E5ED\"},\"yaxis9\":{\"anchor\":\"x9\",\"domain\":[0.2675,0.465],\"gridcolor\":\"#E1E5ED\",\"showgrid\":false,\"tickfont\":{\"color\":\"#4D5663\"},\"title\":{\"font\":{\"color\":\"#4D5663\"},\"text\":\"\"},\"zerolinecolor\":\"#E1E5ED\"}},                        {\"showLink\": true, \"linkText\": \"Export to plot.ly\", \"plotlyServerURL\": \"https://plot.ly\", \"responsive\": true}                    ).then(function(){\n",
       "                            \n",
       "var gd = document.getElementById('d1b22a8f-59a1-4204-ae08-41a6428a5934');\n",
       "var x = new MutationObserver(function (mutations, observer) {{\n",
       "        var display = window.getComputedStyle(gd).display;\n",
       "        if (!display || display === 'none') {{\n",
       "            console.log([gd, 'removed!']);\n",
       "            Plotly.purge(gd);\n",
       "            observer.disconnect();\n",
       "        }}\n",
       "}});\n",
       "\n",
       "// Listen for the removal of the full notebook cells\n",
       "var notebookContainer = gd.closest('#notebook-container');\n",
       "if (notebookContainer) {{\n",
       "    x.observe(notebookContainer, {childList: true});\n",
       "}}\n",
       "\n",
       "// Listen for the clearing of the current output cell\n",
       "var outputEl = gd.closest('.output');\n",
       "if (outputEl) {{\n",
       "    x.observe(outputEl, {childList: true});\n",
       "}}\n",
       "\n",
       "                        })                };                });            </script>        </div>"
      ]
     },
     "metadata": {},
     "output_type": "display_data"
    }
   ],
   "source": [
    "df.scatter_matrix()"
   ]
  },
  {
   "cell_type": "markdown",
   "metadata": {
    "collapsed": true
   },
   "source": [
    "# Great Job!"
   ]
  }
 ],
 "metadata": {
  "kernelspec": {
   "display_name": "Python 3",
   "language": "python",
   "name": "python3"
  },
  "language_info": {
   "codemirror_mode": {
    "name": "ipython",
    "version": 3
   },
   "file_extension": ".py",
   "mimetype": "text/x-python",
   "name": "python",
   "nbconvert_exporter": "python",
   "pygments_lexer": "ipython3",
   "version": "3.8.8"
  }
 },
 "nbformat": 4,
 "nbformat_minor": 1
}
