{
 "cells": [
  {
   "cell_type": "code",
   "execution_count": null,
   "id": "1578c370",
   "metadata": {},
   "outputs": [],
   "source": [
    "import turtle \n",
    "t = turtle.Pen()\n",
    "t.pensize(3)\n",
    "for x in range(100):\n",
    "    t.circle(90)\n",
    "    t.right(90)\n",
    "    t.circle(90)\n",
    "    t.right(90)"
   ]
  },
  {
   "cell_type": "code",
   "execution_count": null,
   "id": "548e08f3",
   "metadata": {},
   "outputs": [],
   "source": []
  }
 ],
 "metadata": {
  "kernelspec": {
   "display_name": "Python 3 (ipykernel)",
   "language": "python",
   "name": "python3"
  },
  "language_info": {
   "codemirror_mode": {
    "name": "ipython",
    "version": 3
   },
   "file_extension": ".py",
   "mimetype": "text/x-python",
   "name": "python",
   "nbconvert_exporter": "python",
   "pygments_lexer": "ipython3",
   "version": "3.9.13"
  }
 },
 "nbformat": 4,
 "nbformat_minor": 5
}
