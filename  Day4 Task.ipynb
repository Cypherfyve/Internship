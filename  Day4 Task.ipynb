{
 "cells": [
  {
   "cell_type": "code",
   "execution_count": 1,
   "id": "32cca8e6",
   "metadata": {},
   "outputs": [],
   "source": [
    "a = []\n",
    "b = list(a)"
   ]
  },
  {
   "cell_type": "code",
   "execution_count": 2,
   "id": "929fb24a",
   "metadata": {},
   "outputs": [
    {
     "name": "stdout",
     "output_type": "stream",
     "text": [
      "[1, 2, 3, 4]\n"
     ]
    }
   ],
   "source": [
    "a= [1, 2, 3]\n",
    "a.append(4)\n",
    "print(a)"
   ]
  },
  {
   "cell_type": "code",
   "execution_count": 3,
   "id": "b8439513",
   "metadata": {},
   "outputs": [
    {
     "name": "stdout",
     "output_type": "stream",
     "text": [
      "4\n",
      "3\n"
     ]
    }
   ],
   "source": [
    "a = (1, 2, 3, 4, 5)\n",
    "print(a[-2])   \n",
    "print(a[2])"
   ]
  },
  {
   "cell_type": "code",
   "execution_count": 4,
   "id": "e0249667",
   "metadata": {},
   "outputs": [],
   "source": [
    "a = {1, 2, 3, 4, 5}\n",
    "a = set([1, 2, 3, 4,5])\n",
    "a = set()"
   ]
  },
  {
   "cell_type": "code",
   "execution_count": 5,
   "id": "a0ed04af",
   "metadata": {},
   "outputs": [
    {
     "name": "stdout",
     "output_type": "stream",
     "text": [
      "{1, 2, 3, 4}\n"
     ]
    }
   ],
   "source": [
    "a = {1, 2, 3}\n",
    "a.add(4)\n",
    "print(a)"
   ]
  },
  {
   "cell_type": "code",
   "execution_count": 6,
   "id": "741ebcaf",
   "metadata": {},
   "outputs": [
    {
     "name": "stdout",
     "output_type": "stream",
     "text": [
      "{1, 2, 3, 5}\n"
     ]
    }
   ],
   "source": [
    "a = {1, 2, 3, 4, 5}\n",
    "a.remove(4)\n",
    "print(a)"
   ]
  },
  {
   "cell_type": "code",
   "execution_count": 8,
   "id": "34ae3500",
   "metadata": {},
   "outputs": [],
   "source": [
    "x = {}\n",
    "x = dict()\n",
    "x= {'apple': 1, 'banana': 2, 'orange': 3}"
   ]
  },
  {
   "cell_type": "code",
   "execution_count": 9,
   "id": "6bbcbf7f",
   "metadata": {},
   "outputs": [
    {
     "name": "stdout",
     "output_type": "stream",
     "text": [
      "{'apple': 1, 'banana': 2, 'orange': 3, 'pear': 4}\n"
     ]
    }
   ],
   "source": [
    "y = {'apple': 1, 'banana': 2, 'orange': 3}\n",
    "y['pear'] = 4\n",
    "print(y)"
   ]
  },
  {
   "cell_type": "code",
   "execution_count": 12,
   "id": "a05c8dd5",
   "metadata": {},
   "outputs": [
    {
     "name": "stdout",
     "output_type": "stream",
     "text": [
      "{'apple': 1, 'orange': 3}\n",
      "2\n",
      "{'apple': 1, 'orange': 3}\n",
      "2\n",
      "{'apple': 1, 'orange': 3}\n"
     ]
    }
   ],
   "source": [
    "x = {'apple': 1, 'banana': 2, 'orange': 3}\n",
    "del x['banana']\n",
    "print(x)\n",
    "y = {'apple': 1, 'banana': 2, 'orange': 3}\n",
    "y = y.pop('banana')\n",
    "print(y)\n",
    "print(x)\n",
    "z = {'apple': 1, 'orange': 3}\n",
    "removed_value = z.pop('banana', None)\n",
    "print(y)\n",
    "print(z)"
   ]
  },
  {
   "cell_type": "code",
   "execution_count": null,
   "id": "75bee03e",
   "metadata": {},
   "outputs": [],
   "source": []
  }
 ],
 "metadata": {
  "kernelspec": {
   "display_name": "Python 3 (ipykernel)",
   "language": "python",
   "name": "python3"
  },
  "language_info": {
   "codemirror_mode": {
    "name": "ipython",
    "version": 3
   },
   "file_extension": ".py",
   "mimetype": "text/x-python",
   "name": "python",
   "nbconvert_exporter": "python",
   "pygments_lexer": "ipython3",
   "version": "3.9.13"
  }
 },
 "nbformat": 4,
 "nbformat_minor": 5
}
