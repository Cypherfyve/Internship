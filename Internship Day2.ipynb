{
 "cells": [
  {
   "cell_type": "code",
   "execution_count": 1,
   "id": "7830c40a",
   "metadata": {},
   "outputs": [
    {
     "name": "stdout",
     "output_type": "stream",
     "text": [
      "Enter the number:10\n",
      "number is equal to 10\n"
     ]
    }
   ],
   "source": [
    "number=int(input(\"Enter the number:\"))\n",
    "if number==10:\n",
    "    print(\"number is equal to 10\")\n",
    "elif number==9:\n",
    "    print(\"number is lesser than 10\")\n",
    "elif number==11:\n",
    "    print(\"the number is greater than 10\")\n",
    "else:\n",
    "    print(\" the number is not in range\")"
   ]
  },
  {
   "cell_type": "code",
   "execution_count": 2,
   "id": "43644058",
   "metadata": {},
   "outputs": [
    {
     "name": "stdout",
     "output_type": "stream",
     "text": [
      "hi\n",
      "hello\n"
     ]
    }
   ],
   "source": [
    "a=\"hello\"\n",
    "def mul():\n",
    "    a='hi'\n",
    "    print(a)\n",
    "mul()\n",
    "print(a)"
   ]
  },
  {
   "cell_type": "code",
   "execution_count": 5,
   "id": "e1e1703c",
   "metadata": {},
   "outputs": [
    {
     "name": "stdout",
     "output_type": "stream",
     "text": [
      "hi\n"
     ]
    }
   ],
   "source": [
    "a=\"hello\"\n",
    "def mul():\n",
    "    global a\n",
    "    a='hi'\n",
    "   \n",
    "mul()\n",
    "print(a)"
   ]
  },
  {
   "cell_type": "code",
   "execution_count": 9,
   "id": "68337ddd",
   "metadata": {},
   "outputs": [
    {
     "name": "stdout",
     "output_type": "stream",
     "text": [
      "67\n",
      "67\n"
     ]
    }
   ],
   "source": [
    "a=90\n",
    "def var():\n",
    "    global a\n",
    "    a=67\n",
    "    print(a)\n",
    "var()\n",
    "print(a)"
   ]
  },
  {
   "cell_type": "code",
   "execution_count": 38,
   "id": "2d8f89a1",
   "metadata": {},
   "outputs": [
    {
     "name": "stdout",
     "output_type": "stream",
     "text": [
      "Hello it is parameter\n",
      "Hello it is argument\n"
     ]
    }
   ],
   "source": [
    "def func1():\n",
    "    print(\"Hello it is parameter\")\n",
    "    def func2():\n",
    "        print(\"Hello it is argument\")\n",
    "    func2()\n",
    "func1()"
   ]
  },
  {
   "cell_type": "code",
   "execution_count": 39,
   "id": "e1990e36",
   "metadata": {},
   "outputs": [
    {
     "name": "stdout",
     "output_type": "stream",
     "text": [
      "<class 'complex'>\n"
     ]
    }
   ],
   "source": [
    "x=2j\n",
    "print(type(x))"
   ]
  },
  {
   "cell_type": "code",
   "execution_count": 43,
   "id": "54debcb8",
   "metadata": {},
   "outputs": [
    {
     "name": "stdout",
     "output_type": "stream",
     "text": [
      "10.0\n",
      "12\n",
      "(10+0j)\n",
      "<class 'float'>\n",
      "<class 'int'>\n",
      "<class 'complex'>\n"
     ]
    }
   ],
   "source": [
    "x=10\n",
    "y=12.5\n",
    "z=3j\n",
    "X=float(x)\n",
    "Y=int(y)\n",
    "Z=complex(x)\n",
    "print(X)\n",
    "print(Y)\n",
    "print(Z)\n",
    "print(type(X))\n",
    "print(type(Y))\n",
    "print(type(Z))"
   ]
  },
  {
   "cell_type": "code",
   "execution_count": 50,
   "id": "19c3a140",
   "metadata": {},
   "outputs": [
    {
     "name": "stdout",
     "output_type": "stream",
     "text": [
      "has a doll\n"
     ]
    }
   ],
   "source": [
    "a=\"Reggie has a doll\"\n",
    "print(a[7:17])"
   ]
  },
  {
   "cell_type": "code",
   "execution_count": 51,
   "id": "de99fb9b",
   "metadata": {},
   "outputs": [
    {
     "name": "stdout",
     "output_type": "stream",
     "text": [
      "Reggie has\n"
     ]
    }
   ],
   "source": [
    "a=\"Reggie has a doll\"\n",
    "print(a[0:10])"
   ]
  },
  {
   "cell_type": "code",
   "execution_count": 53,
   "id": "f42cad77",
   "metadata": {},
   "outputs": [
    {
     "name": "stdout",
     "output_type": "stream",
     "text": [
      "gie has\n"
     ]
    }
   ],
   "source": [
    "a=\"Reggie has a doll\"\n",
    "print(a[3:10])"
   ]
  },
  {
   "cell_type": "code",
   "execution_count": 54,
   "id": "08c44f43",
   "metadata": {},
   "outputs": [
    {
     "name": "stdout",
     "output_type": "stream",
     "text": [
      "ggie has a doll\n"
     ]
    }
   ],
   "source": [
    "a=\"Reggie has a doll\"\n",
    "print(a[2:])"
   ]
  },
  {
   "cell_type": "code",
   "execution_count": 55,
   "id": "f1f650b0",
   "metadata": {},
   "outputs": [
    {
     "name": "stdout",
     "output_type": "stream",
     "text": [
      "Re\n"
     ]
    }
   ],
   "source": [
    "a=\"Reggie has a doll\"\n",
    "print(a[:2])"
   ]
  },
  {
   "cell_type": "code",
   "execution_count": 59,
   "id": "9a3a93e5",
   "metadata": {},
   "outputs": [
    {
     "name": "stdout",
     "output_type": "stream",
     "text": [
      "reggie has a doll\n"
     ]
    }
   ],
   "source": [
    "a=\"reggie has a doll\"\n",
    "print(a.replace('R','D'))"
   ]
  },
  {
   "cell_type": "code",
   "execution_count": 5,
   "id": "4fa5ae11",
   "metadata": {},
   "outputs": [
    {
     "name": "stdout",
     "output_type": "stream",
     "text": [
      "My name is Sai,and I am 18\n"
     ]
    }
   ],
   "source": [
    "age=18\n",
    "text=\"My name is Sai,and I am {}\"\n",
    "print(text.format(age))"
   ]
  },
  {
   "cell_type": "code",
   "execution_count": 61,
   "id": "87abce7a",
   "metadata": {},
   "outputs": [
    {
     "name": "stdout",
     "output_type": "stream",
     "text": [
      "My name is Sai,and I am18\n"
     ]
    }
   ],
   "source": [
    "age=18\n",
    "age=str(18)\n",
    "text=\"My name is Sai,and I am\"\n",
    "print(text+age)"
   ]
  },
  {
   "cell_type": "code",
   "execution_count": 4,
   "id": "c96fb089",
   "metadata": {},
   "outputs": [
    {
     "name": "stdout",
     "output_type": "stream",
     "text": [
      "['Nicholas', 'Samuel', 'Alex']\n"
     ]
    }
   ],
   "source": [
    "names=[\"Nicholas\",\"Michelle\",\"Alex\"]\n",
    "names[1]=\"Samuel\"\n",
    "print(names)"
   ]
  },
  {
   "cell_type": "code",
   "execution_count": 3,
   "id": "37800372",
   "metadata": {},
   "outputs": [
    {
     "name": "stdout",
     "output_type": "stream",
     "text": [
      "{'Alex', 'Michelle', 'Nicholas'}\n"
     ]
    }
   ],
   "source": [
    "names={\"Nicholas\",\"Michelle\",\"Alex\"}\n",
    "print(names)"
   ]
  },
  {
   "cell_type": "code",
   "execution_count": 6,
   "id": "535d675c",
   "metadata": {},
   "outputs": [
    {
     "name": "stdout",
     "output_type": "stream",
     "text": [
      "{'name': 'Nicholas', 'Age': 20, 'Address': 'Chennai'}\n"
     ]
    }
   ],
   "source": [
    "names={\"name\":\"Nicholas\",\n",
    "       \"Age\":20,\n",
    "       \"Address\":\"Chennai\"}\n",
    "print(names)"
   ]
  },
  {
   "cell_type": "code",
   "execution_count": null,
   "id": "1e9879db",
   "metadata": {},
   "outputs": [],
   "source": []
  }
 ],
 "metadata": {
  "kernelspec": {
   "display_name": "Python 3 (ipykernel)",
   "language": "python",
   "name": "python3"
  },
  "language_info": {
   "codemirror_mode": {
    "name": "ipython",
    "version": 3
   },
   "file_extension": ".py",
   "mimetype": "text/x-python",
   "name": "python",
   "nbconvert_exporter": "python",
   "pygments_lexer": "ipython3",
   "version": "3.9.13"
  }
 },
 "nbformat": 4,
 "nbformat_minor": 5
}
