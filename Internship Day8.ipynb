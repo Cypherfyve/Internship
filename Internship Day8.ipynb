{
 "cells": [
  {
   "cell_type": "code",
   "execution_count": 1,
   "id": "814ccf4f",
   "metadata": {},
   "outputs": [
    {
     "name": "stdout",
     "output_type": "stream",
     "text": [
      "Enter the verb1:had gone\n",
      "Enter the place:Coimbatore\n",
      "Enter the noun:Adarasam\n",
      "Enter the verb2:and \n",
      "Enter the verb3:gave it\n",
      "Enter the verb4:to me \n",
      "Revi had gone to Coimbatore bought me Adarasam and  gave it to me \n"
     ]
    }
   ],
   "source": [
    "import pyttsx3\n",
    "engine=pyttsx3.init()\n",
    "voices=engine.getProperty('voices')\n",
    "engine.setProperty('voices',voices[0].id)\n",
    "verb1=input(\"Enter the verb1:\")\n",
    "place=input(\"Enter the place:\")\n",
    "noun=input(\"Enter the noun:\")\n",
    "verb2=input(\"Enter the verb2:\")\n",
    "verb3=input(\"Enter the verb3:\")\n",
    "verb4=input(\"Enter the verb4:\")\n",
    "print(f\"Revi {verb1} to {place} bought me {noun} {verb2} {verb3} {verb4}\")\n",
    "engine.say(f\"Revi {verb1} to {place} bought me {noun} {verb2} {verb3} {verb4}\")\n",
    "engine.runAndWait()"
   ]
  },
  {
   "cell_type": "code",
   "execution_count": 6,
   "id": "aa9f006c",
   "metadata": {},
   "outputs": [
    {
     "name": "stdout",
     "output_type": "stream",
     "text": [
      "Enter the verb1:have went\n",
      "Enter the place:Goa\n",
      "Enter the noun:Apple juice\n",
      "Enter the verb2:drank it\n",
      "Enter the verb3:was good\n",
      "Enter the verb4:and said\n",
      "Revi have went to Goa bought Apple juice for me drank it was good and said Thanks\n"
     ]
    }
   ],
   "source": [
    "import pyttsx3\n",
    "engine=pyttsx3.init()\n",
    "voices=engine.getProperty('voices')\n",
    "engine.setProperty('voices',voices[0].id)\n",
    "verb1=input(\"Enter the verb1:\")\n",
    "place=input(\"Enter the place:\")\n",
    "noun=input(\"Enter the noun:\")\n",
    "verb2=input(\"Enter the verb2:\")\n",
    "verb3=input(\"Enter the verb3:\")\n",
    "verb4=input(\"Enter the verb4:\")\n",
    "print(f\"Revi {verb1} to {place} bought {noun} for me {verb2} {verb3} {verb4} Thanks\")\n",
    "engine.say(f\"Revi {verb1} to {place} bought me {noun} {verb2} {verb3} {verb4} Thanks\")\n",
    "engine.runAndWait()"
   ]
  },
  {
   "cell_type": "code",
   "execution_count": null,
   "id": "4e3923bf",
   "metadata": {},
   "outputs": [],
   "source": [
    "name=input(\"Enter the Employee name:\")\n",
    "salary=input(\"Enter the Salary:\")\n",
    "company=input(\"Enter the Company:\")\n",
    "print(\"My Name is:\" + name,\"My Salary is:\" + salary,\"I work in:\" + company)"
   ]
  },
  {
   "cell_type": "code",
   "execution_count": null,
   "id": "2eea0577",
   "metadata": {},
   "outputs": [],
   "source": [
    "eval(10 * 5)"
   ]
  },
  {
   "cell_type": "code",
   "execution_count": null,
   "id": "b61ba697",
   "metadata": {},
   "outputs": [],
   "source": []
  }
 ],
 "metadata": {
  "kernelspec": {
   "display_name": "Python 3 (ipykernel)",
   "language": "python",
   "name": "python3"
  },
  "language_info": {
   "codemirror_mode": {
    "name": "ipython",
    "version": 3
   },
   "file_extension": ".py",
   "mimetype": "text/x-python",
   "name": "python",
   "nbconvert_exporter": "python",
   "pygments_lexer": "ipython3",
   "version": "3.9.13"
  }
 },
 "nbformat": 4,
 "nbformat_minor": 5
}
