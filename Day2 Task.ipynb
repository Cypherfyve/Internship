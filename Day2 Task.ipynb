{
 "cells": [
  {
   "cell_type": "code",
   "execution_count": 1,
   "id": "735300d6",
   "metadata": {},
   "outputs": [
    {
     "name": "stdout",
     "output_type": "stream",
     "text": [
      "50\n"
     ]
    }
   ],
   "source": [
    "def num1(x):\n",
    "def num2(y):\n",
    "      return x * y\n",
    "return num2\n",
    "res = num1(10)\n",
    "\n",
    "print(res(5))\n"
   ]
  },
  {
   "cell_type": "code",
   "execution_count": 2,
   "id": "1ddb3d1d",
   "metadata": {},
   "outputs": [
    {
     "name": "stdout",
     "output_type": "stream",
     "text": [
      "8.0\n",
      "7\n",
      "(8+0j)\n",
      "<class 'float'>\n",
      "<class 'int'>\n",
      "<class 'complex'>\n"
     ]
    }
   ],
   "source": [
    "x=8\n",
    "y=7.5\n",
    "z=5j\n",
    "X=float(x)\n",
    "Y=int(y)\n",
    "Z=complex(x)\n",
    "print(X)\n",
    "print(Y)\n",
    "print(Z)\n",
    "print(type(X))\n",
    "print(type(Y))\n",
    "print(type(Z))"
   ]
  },
  {
   "cell_type": "code",
   "execution_count": 4,
   "id": "5f13fa07",
   "metadata": {},
   "outputs": [
    {
     "name": "stdout",
     "output_type": "stream",
     "text": [
      "My name is Sai,and I am 20 I secured 80 in maths 70 in science 60 in english 79 in social\n"
     ]
    }
   ],
   "source": [
    "age=20\n",
    "maths,science,english,social=80,70,60,79\n",
    "text=\"My name is Sai,and I am {} I secured {} in maths {} in science {} in english {} in social\"\n",
    "print(text.format(age,maths,science,english,social))"
   ]
  },
  {
   "cell_type": "code",
   "execution_count": null,
   "id": "a36f1bf3",
   "metadata": {},
   "outputs": [],
   "source": []
  }
 ],
 "metadata": {
  "kernelspec": {
   "display_name": "Python 3 (ipykernel)",
   "language": "python",
   "name": "python3"
  },
  "language_info": {
   "codemirror_mode": {
    "name": "ipython",
    "version": 3
   },
   "file_extension": ".py",
   "mimetype": "text/x-python",
   "name": "python",
   "nbconvert_exporter": "python",
   "pygments_lexer": "ipython3",
   "version": "3.9.13"
  }
 },
 "nbformat": 4,
 "nbformat_minor": 5
}
