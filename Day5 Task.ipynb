{
 "cells": [
  {
   "cell_type": "code",
   "execution_count": 13,
   "id": "12fabd0f",
   "metadata": {},
   "outputs": [
    {
     "name": "stdout",
     "output_type": "stream",
     "text": [
      "Data Structures\n",
      "Python\n"
     ]
    }
   ],
   "source": [
    "subjects=[\"Data Structures\",\"Python\",\"Machine Learning\"]\n",
    "for x in subjects:\n",
    "    print(x)\n",
    "    if x==\"Python\":\n",
    "        break\n",
    "    "
   ]
  },
  {
   "cell_type": "code",
   "execution_count": 2,
   "id": "486340a8",
   "metadata": {},
   "outputs": [
    {
     "name": "stdout",
     "output_type": "stream",
     "text": [
      "Data Structures\n",
      "Python\n",
      "Machine Learning\n"
     ]
    }
   ],
   "source": [
    "subjects=[\"Data Structures\",\"Python\",\"Machine Learning\"]\n",
    "#for variable in iterable\n",
    "for x in subjects:\n",
    "    print(x)\n",
    "    if x==\"Data Structures\":\n",
    "        continue"
   ]
  },
  {
   "cell_type": "code",
   "execution_count": 14,
   "id": "b15ab10c",
   "metadata": {},
   "outputs": [
    {
     "name": "stdout",
     "output_type": "stream",
     "text": [
      "Python\n",
      "Machine Learning\n"
     ]
    }
   ],
   "source": [
    "subjects=[\"Data Structures\",\"Python\",\"Machine Learning\"]\n",
    "#for variable in iterable\n",
    "for x in subjects:\n",
    "    if x==\"Data Structures\":\n",
    "        continue\n",
    "    print(x)"
   ]
  },
  {
   "cell_type": "code",
   "execution_count": null,
   "id": "d7d3d816",
   "metadata": {},
   "outputs": [],
   "source": [
    "for x in r"
   ]
  }
 ],
 "metadata": {
  "kernelspec": {
   "display_name": "Python 3 (ipykernel)",
   "language": "python",
   "name": "python3"
  },
  "language_info": {
   "codemirror_mode": {
    "name": "ipython",
    "version": 3
   },
   "file_extension": ".py",
   "mimetype": "text/x-python",
   "name": "python",
   "nbconvert_exporter": "python",
   "pygments_lexer": "ipython3",
   "version": "3.9.13"
  }
 },
 "nbformat": 4,
 "nbformat_minor": 5
}
