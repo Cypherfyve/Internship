{
 "cells": [
  {
   "cell_type": "code",
   "execution_count": 4,
   "id": "895b3b4f",
   "metadata": {},
   "outputs": [
    {
     "name": "stdout",
     "output_type": "stream",
     "text": [
      "5\n",
      "<class 'str'>\n"
     ]
    }
   ],
   "source": [
    "x=5\n",
    "y=\"3\"\n",
    "print(x)\n",
    "print(type(y))"
   ]
  },
  {
   "cell_type": "code",
   "execution_count": 32,
   "id": "c9a12a38",
   "metadata": {},
   "outputs": [
    {
     "name": "stdout",
     "output_type": "stream",
     "text": [
      "Hi,how are you\n"
     ]
    }
   ],
   "source": [
    "x=4\n",
    "x=\"Hi,how are you\"\n",
    "print(x)"
   ]
  },
  {
   "cell_type": "code",
   "execution_count": 9,
   "id": "110e0aa3",
   "metadata": {},
   "outputs": [],
   "source": [
    "x=4\n",
    "x=\"Hi,how are you\""
   ]
  },
  {
   "cell_type": "code",
   "execution_count": 10,
   "id": "6f78fa6b",
   "metadata": {},
   "outputs": [
    {
     "ename": "IndentationError",
     "evalue": "expected an indented block (1204385867.py, line 2)",
     "output_type": "error",
     "traceback": [
      "\u001b[1;36m  File \u001b[1;32m\"C:\\Users\\saivi\\AppData\\Local\\Temp\\ipykernel_5228\\1204385867.py\"\u001b[1;36m, line \u001b[1;32m2\u001b[0m\n\u001b[1;33m    print(\"five is greater than two\")\u001b[0m\n\u001b[1;37m    ^\u001b[0m\n\u001b[1;31mIndentationError\u001b[0m\u001b[1;31m:\u001b[0m expected an indented block\n"
     ]
    }
   ],
   "source": [
    "if 5>2:\n",
    "print(\"five is greater than two\")"
   ]
  },
  {
   "cell_type": "code",
   "execution_count": 11,
   "id": "348f18ef",
   "metadata": {},
   "outputs": [
    {
     "name": "stdout",
     "output_type": "stream",
     "text": [
      "five is greater than two\n"
     ]
    }
   ],
   "source": [
    "if 5>2:\n",
    "    print(\"five is greater than two\")"
   ]
  },
  {
   "cell_type": "code",
   "execution_count": 13,
   "id": "ed318b91",
   "metadata": {},
   "outputs": [
    {
     "name": "stdout",
     "output_type": "stream",
     "text": [
      "six is greater than three\n"
     ]
    }
   ],
   "source": [
    "if 6>3:\n",
    "    print(\"six is greater than three\")\n",
    "else:\n",
    "    print(\"six is lesser than three\")"
   ]
  },
  {
   "cell_type": "code",
   "execution_count": 31,
   "id": "16060b30",
   "metadata": {},
   "outputs": [
    {
     "name": "stdout",
     "output_type": "stream",
     "text": [
      "['Sai', 18, '2ndYear', '15-02-23']\n",
      "['Hari', 19, '2ndYear', '15-02-23']\n"
     ]
    }
   ],
   "source": [
    "myname1=['Sai',18,'2ndYear','15-02-23']\n",
    "myname2=['Hari',19,'2ndYear','15-02-23']\n",
    "print(myname1)\n",
    "print(myname2)"
   ]
  },
  {
   "cell_type": "code",
   "execution_count": 19,
   "id": "27e47759",
   "metadata": {},
   "outputs": [
    {
     "name": "stdout",
     "output_type": "stream",
     "text": [
      "Sai Hari Nick\n"
     ]
    }
   ],
   "source": [
    "x,y,z=\"Sai\",\"Hari\",\"Nick\"\n",
    "print(x,y,z)"
   ]
  },
  {
   "cell_type": "code",
   "execution_count": 30,
   "id": "027871a2",
   "metadata": {},
   "outputs": [
    {
     "name": "stdout",
     "output_type": "stream",
     "text": [
      "My age is 18\n"
     ]
    }
   ],
   "source": [
    "x=\"18\"\n",
    "print(\"My age is \"+x)"
   ]
  },
  {
   "cell_type": "code",
   "execution_count": null,
   "id": "0d5f1d7a",
   "metadata": {},
   "outputs": [],
   "source": []
  }
 ],
 "metadata": {
  "kernelspec": {
   "display_name": "Python 3 (ipykernel)",
   "language": "python",
   "name": "python3"
  },
  "language_info": {
   "codemirror_mode": {
    "name": "ipython",
    "version": 3
   },
   "file_extension": ".py",
   "mimetype": "text/x-python",
   "name": "python",
   "nbconvert_exporter": "python",
   "pygments_lexer": "ipython3",
   "version": "3.9.13"
  }
 },
 "nbformat": 4,
 "nbformat_minor": 5
}
