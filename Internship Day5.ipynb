{
 "cells": [
  {
   "cell_type": "code",
   "execution_count": 1,
   "id": "e2e305e1",
   "metadata": {},
   "outputs": [
    {
     "name": "stdout",
     "output_type": "stream",
     "text": [
      "My best friend is hari\n"
     ]
    }
   ],
   "source": [
    "def x(*firstname):\n",
    "    print(\"My best friend is\"+ \" \"+firstname[1])\n",
    "x(\"sai\",\"hari\",\"ravi\")"
   ]
  },
  {
   "cell_type": "code",
   "execution_count": 9,
   "id": "c709d441",
   "metadata": {},
   "outputs": [
    {
     "name": "stdout",
     "output_type": "stream",
     "text": [
      "My name is rohan\n",
      "My name is rithesh\n",
      "My name is hari\n",
      "My name is rakesh\n"
     ]
    }
   ],
   "source": [
    "def func1(name=\"rakesh\"):\n",
    "    print(\"My name is \" + name)\n",
    "func1(\"rohan\")\n",
    "func1(\"rithesh\")\n",
    "func1(\"hari\")\n",
    "func1()"
   ]
  },
  {
   "cell_type": "code",
   "execution_count": 10,
   "id": "870bd42d",
   "metadata": {},
   "outputs": [
    {
     "name": "stdout",
     "output_type": "stream",
     "text": [
      "89\n",
      "95\n",
      "98\n"
     ]
    }
   ],
   "source": [
    "marks=[89,95,98]\n",
    "#for variable in iterable\n",
    "for x in marks:\n",
    "    print(x)"
   ]
  },
  {
   "cell_type": "code",
   "execution_count": 12,
   "id": "86a2d0dd",
   "metadata": {},
   "outputs": [
    {
     "name": "stdout",
     "output_type": "stream",
     "text": [
      "M\n",
      "a\n",
      "t\n",
      "h\n",
      "e\n",
      "m\n",
      "a\n",
      "t\n",
      "i\n",
      "c\n",
      "s\n"
     ]
    }
   ],
   "source": [
    "for x in \"Mathematics\":\n",
    "    print(x)"
   ]
  },
  {
   "cell_type": "code",
   "execution_count": 20,
   "id": "749fec71",
   "metadata": {},
   "outputs": [
    {
     "name": "stdout",
     "output_type": "stream",
     "text": [
      "89\n",
      "95\n"
     ]
    }
   ],
   "source": [
    "marks=[89,95,98]\n",
    "#for variable in iterable\n",
    "for x in marks:\n",
    "    print(x)\n",
    "    if x==95:\n",
    "        break\n",
    "        "
   ]
  },
  {
   "cell_type": "code",
   "execution_count": 24,
   "id": "aa541a0a",
   "metadata": {},
   "outputs": [],
   "source": [
    "subjects=[\"Data Structures\",\"Data Analytics\",\"Machine Learning\"]\n",
    "#for variable in iterable\n",
    "for x in subjects:\n",
    "    if x==\"Machine Learning\":\n",
    "        break\n",
    "        print(x)"
   ]
  },
  {
   "cell_type": "code",
   "execution_count": 25,
   "id": "712613e0",
   "metadata": {},
   "outputs": [
    {
     "name": "stdout",
     "output_type": "stream",
     "text": [
      "Data Structures\n",
      "Data Analytics\n",
      "Machine Learning\n"
     ]
    }
   ],
   "source": [
    "subjects=[\"Data Structures\",\"Data Analytics\",\"Machine Learning\"]\n",
    "#for variable in iterable\n",
    "for x in subjects:\n",
    "    print(x)\n",
    "    if x==\"Data Structures\":\n",
    "        continue"
   ]
  },
  {
   "cell_type": "code",
   "execution_count": 1,
   "id": "7cc31a51",
   "metadata": {},
   "outputs": [],
   "source": [
    "marks=[89,95,98]\n",
    "#for variable in iterable\n",
    "for x in marks:\n",
    "    if x==95:\n",
    "        continue\n",
    "        print(x)"
   ]
  },
  {
   "cell_type": "code",
   "execution_count": null,
   "id": "89a168fa",
   "metadata": {},
   "outputs": [],
   "source": []
  }
 ],
 "metadata": {
  "kernelspec": {
   "display_name": "Python 3 (ipykernel)",
   "language": "python",
   "name": "python3"
  },
  "language_info": {
   "codemirror_mode": {
    "name": "ipython",
    "version": 3
   },
   "file_extension": ".py",
   "mimetype": "text/x-python",
   "name": "python",
   "nbconvert_exporter": "python",
   "pygments_lexer": "ipython3",
   "version": "3.9.13"
  }
 },
 "nbformat": 4,
 "nbformat_minor": 5
}
