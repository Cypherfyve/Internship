{
 "cells": [
  {
   "cell_type": "code",
   "execution_count": 1,
   "id": "31a3c163",
   "metadata": {},
   "outputs": [
    {
     "name": "stdout",
     "output_type": "stream",
     "text": [
      "Hari:Hi,Sai how are you?\n",
      "\n",
      "Sai:Hi,hari I'm fine\n",
      "\n",
      "Hari: How is your life is going on\n",
      "\n",
      "Sai:It's good\n",
      "\n",
      "Hari:Do you have a moment to chat?\n",
      "\n",
      "Sai:Yeah sure go ahead\n",
      "\n",
      "Hari:Want to have cofee\n",
      "\n",
      "Sai:No,thanks I'm good\n",
      "\n",
      "Hari:Oh ok\n",
      "\n",
      "Sai:Can we have moment for talk\n",
      "\n",
      "Hari:Yeah go ahead\n",
      "\n",
      "Sai:Had a great talk\n",
      "\n",
      "Hari:It is been pleasure talking to you\n",
      "\n"
     ]
    }
   ],
   "source": [
    "import pyttsx3\n",
    "engine=pyttsx3.init()\n",
    "#Hari responds\n",
    "print(\"Hari:\" + \"Hi,Sai how are you?\\n\")\n",
    "#Sai responds\n",
    "print(\"Sai:\" + \"Hi,hari I'm fine\\n\") \n",
    "# Hari responds \n",
    "print(\"Hari: \" + \"How is your life is going on\\n\")\n",
    "# Sai responds\n",
    "print(\"Sai:\" + \"It's good\\n\")\n",
    "# Hari responds\n",
    "print(\"Hari:\" + \"Do you have a moment to chat?\\n\")\n",
    "# Sai responds\n",
    "print(\"Sai:\" + \"Yeah sure go ahead\\n\")\n",
    "# Hari responds\n",
    "print(\"Hari:\" + \"Want to have cofee\\n\")\n",
    "# Sai responds\n",
    "print(\"Sai:\" + \"No,thanks I'm good\\n\")\n",
    "#Hari responds\n",
    "print(\"Hari:\" + \"Oh ok\\n\")\n",
    "#Sai responds\n",
    "print(\"Sai:\" + \"Can we have moment for talk\\n\")\n",
    "#Hari responds\n",
    "print(\"Hari:\" + \"Yeah go ahead\\n\")\n",
    "#Sai responds\n",
    "print(\"Sai:\" + \"Had a great talk\\n\")\n",
    "#Hari responds\n",
    "print(\"Hari:\" + \"It is been pleasure talking to you\\n\")\n",
    "engine.runAndWait()"
   ]
  },
  {
   "cell_type": "code",
   "execution_count": null,
   "id": "629b4ac2",
   "metadata": {},
   "outputs": [],
   "source": []
  }
 ],
 "metadata": {
  "kernelspec": {
   "display_name": "Python 3 (ipykernel)",
   "language": "python",
   "name": "python3"
  },
  "language_info": {
   "codemirror_mode": {
    "name": "ipython",
    "version": 3
   },
   "file_extension": ".py",
   "mimetype": "text/x-python",
   "name": "python",
   "nbconvert_exporter": "python",
   "pygments_lexer": "ipython3",
   "version": "3.9.13"
  }
 },
 "nbformat": 4,
 "nbformat_minor": 5
}
